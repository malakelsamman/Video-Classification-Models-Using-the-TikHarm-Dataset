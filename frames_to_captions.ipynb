{
 "cells": [
  {
   "cell_type": "code",
   "execution_count": null,
   "metadata": {
    "_cell_guid": "b1076dfc-b9ad-4769-8c92-a6c4dae69d19",
    "_uuid": "8f2839f25d086af736a60e9eeb907d3b93b6e0e5",
    "trusted": true
   },
   "outputs": [],
   "source": [
    "# This Python 3 environment comes with many helpful analytics libraries installed\n",
    "# It is defined by the kaggle/python Docker image: https://github.com/kaggle/docker-python\n",
    "# For example, here's several helpful packages to load\n",
    "\n",
    "import numpy as np # linear algebra\n",
    "import pandas as pd # data processing, CSV file I/O (e.g. pd.read_csv)\n",
    "\n",
    "# Input data files are available in the read-only \"../input/\" directory\n",
    "# For example, running this (by clicking run or pressing Shift+Enter) will list all files under the input directory\n",
    "\n",
    "import os\n",
    "for dirname, _, filenames in os.walk('/kaggle/input'):\n",
    "    for filename in filenames:\n",
    "        print(os.path.join(dirname, filename))\n",
    "\n",
    "# You can write up to 20GB to the current directory (/kaggle/working/) that gets preserved as output when you create a version using \"Save & Run All\" \n",
    "# You can also write temporary files to /kaggle/temp/, but they won't be saved outside of the current session"
   ]
  },
  {
   "cell_type": "code",
   "execution_count": null,
   "metadata": {
    "trusted": true
   },
   "outputs": [],
   "source": [
    "pip install transformers torch opencv-python Pillow tqdm\n"
   ]
  },
  {
   "cell_type": "code",
   "execution_count": null,
   "metadata": {
    "trusted": true
   },
   "outputs": [],
   "source": [
    "import cv2\n",
    "import torch\n",
    "from transformers import BlipProcessor, BlipForConditionalGeneration\n",
    "from tqdm import tqdm\n",
    "import numpy as np\n",
    "from PIL import Image\n",
    "\n",
    "def extract_frames(video_path, frame_interval=30):\n",
    "    cap = cv2.VideoCapture(video_path)\n",
    "    \n",
    "    # Check if video was loaded correctly\n",
    "    if not cap.isOpened():\n",
    "        print(f\"Error: Unable to open video file at {video_path}\")\n",
    "        return []\n",
    "    \n",
    "    # Get video properties\n",
    "    fps = cap.get(cv2.CAP_PROP_FPS)\n",
    "    frame_count = int(cap.get(cv2.CAP_PROP_FRAME_COUNT))\n",
    "    width = int(cap.get(cv2.CAP_PROP_FRAME_WIDTH))\n",
    "    height = int(cap.get(cv2.CAP_PROP_FRAME_HEIGHT))\n",
    "    \n",
    "    print(f\"Video Info: {frame_count} frames, {fps} FPS, {width}x{height} resolution.\")\n",
    "    \n",
    "    frames = []\n",
    "    frame_num = 0\n",
    "    while True:\n",
    "        ret, frame = cap.read()\n",
    "        if not ret:\n",
    "            break\n",
    "        \n",
    "        # Add frame if the index is a multiple of frame_interval\n",
    "        if frame_num % frame_interval == 0:\n",
    "            frame_rgb = cv2.cvtColor(frame, cv2.COLOR_BGR2RGB)\n",
    "            frames.append(frame_rgb)\n",
    "        \n",
    "        frame_num += 1\n",
    "    \n",
    "    cap.release()\n",
    "    print(f\"Extracted {len(frames)} frames.\")\n",
    "    return frames\n",
    "\n",
    "def generate_video_caption(video_path, frame_interval=30):\n",
    "    processor = BlipProcessor.from_pretrained(\"Salesforce/blip-image-captioning-base\")\n",
    "    model = BlipForConditionalGeneration.from_pretrained(\"Salesforce/blip-image-captioning-base\")\n",
    "    \n",
    "    frames = extract_frames(video_path, frame_interval)\n",
    "    \n",
    "    if not frames:\n",
    "        return []  # No frames to process if extraction failed\n",
    "    \n",
    "    captions = []\n",
    "    \n",
    "    for i, frame in tqdm(enumerate(frames), total=len(frames), desc=\"Processing Frames\"):\n",
    "        image = Image.fromarray(frame)\n",
    "        inputs = processor(images=image, return_tensors=\"pt\")\n",
    "        out = model.generate(**inputs)\n",
    "        caption = processor.decode(out[0], skip_special_tokens=True)\n",
    "        captions.append(caption)\n",
    "        print(f\"Generated caption for frame {i+1}: {caption}\")\n",
    "    \n",
    "    return captions\n",
    "\n",
    "def save_captions(captions, output_file=\"captions.txt\"):\n",
    "    with open(output_file, \"w\") as f:\n",
    "        for idx, caption in enumerate(captions):\n",
    "            f.write(f\"Frame {idx+1}: {caption}\\n\")\n",
    "\n",
    "# Example usage\n",
    "video_path = \"/kaggle/input/tikharm-dataset/Dataset/train/Safe/.cartoonmovies7_7298084692916555041.mp4\"  # Replace with your video file path\n",
    "captions = generate_video_caption(video_path)\n",
    "\n",
    "# Save captions to a file if captions are not empty\n",
    "if captions:\n",
    "    save_captions(captions)\n",
    "\n",
    "# Print the first few captions if they exist\n",
    "if captions:\n",
    "    for i in range(min(5, len(captions))):\n",
    "        print(f\"Frame {i+1}: {captions[i]}\")\n",
    "else:\n",
    "    print(\"No captions generated.\")\n"
   ]
  },
  {
   "cell_type": "code",
   "execution_count": null,
   "metadata": {
    "trusted": true
   },
   "outputs": [],
   "source": [
    "import os\n",
    "import cv2\n",
    "import torch\n",
    "import pandas as pd\n",
    "from transformers import BlipProcessor, BlipForConditionalGeneration\n",
    "from tqdm import tqdm\n",
    "from PIL import Image\n",
    "\n",
    "def extract_frames(video_path, frame_interval=30):\n",
    "    cap = cv2.VideoCapture(video_path)\n",
    "    \n",
    "    # Check if video was loaded correctly\n",
    "    if not cap.isOpened():\n",
    "        print(f\"Error: Unable to open video file at {video_path}\")\n",
    "        return []\n",
    "    \n",
    "    frames = []\n",
    "    frame_num = 0\n",
    "    while True:\n",
    "        ret, frame = cap.read()\n",
    "        if not ret:\n",
    "            break\n",
    "        \n",
    "        # Add frame if the index is a multiple of frame_interval\n",
    "        if frame_num % frame_interval == 0:\n",
    "            frame_rgb = cv2.cvtColor(frame, cv2.COLOR_BGR2RGB)\n",
    "            frames.append(frame_rgb)\n",
    "        \n",
    "        frame_num += 1\n",
    "    \n",
    "    cap.release()\n",
    "    return frames\n",
    "\n",
    "def generate_video_caption(video_path, frame_interval=30):\n",
    "    processor = BlipProcessor.from_pretrained(\"Salesforce/blip-image-captioning-base\")\n",
    "    model = BlipForConditionalGeneration.from_pretrained(\"Salesforce/blip-image-captioning-base\")\n",
    "    \n",
    "    frames = extract_frames(video_path, frame_interval)\n",
    "    \n",
    "    if not frames:\n",
    "        return \"\"  # Return empty string if no frames were processed\n",
    "    \n",
    "    captions = []\n",
    "    for frame in tqdm(frames, desc=f\"Generating captions for {os.path.basename(video_path)}\"):\n",
    "        image = Image.fromarray(frame)\n",
    "        inputs = processor(images=image, return_tensors=\"pt\")\n",
    "        out = model.generate(**inputs)\n",
    "        caption = processor.decode(out[0], skip_special_tokens=True)\n",
    "        captions.append(caption)\n",
    "    \n",
    "    # Concatenate captions for all frames of the video\n",
    "    return \" \".join(captions)\n",
    "\n",
    "def process_videos_in_directory(input_dir, output_dir, frame_interval=30):\n",
    "    # Ensure the output directory exists\n",
    "    os.makedirs(output_dir, exist_ok=True)\n",
    "    \n",
    "    # Path to the output CSV file\n",
    "    output_csv = os.path.join(output_dir, \"video_captions.csv\")\n",
    "    \n",
    "    # Initialize a DataFrame to store video names and captions\n",
    "    video_captions = []\n",
    "\n",
    "    # Iterate over all video files in the directory\n",
    "    for video_file in os.listdir(input_dir):\n",
    "        if video_file.endswith((\".mp4\", \".avi\", \".mkv\")):  # Check for video extensions\n",
    "            video_path = os.path.join(input_dir, video_file)\n",
    "            print(f\"Processing video: {video_file}\")\n",
    "            \n",
    "            # Generate captions for the video\n",
    "            captions = generate_video_caption(video_path, frame_interval)\n",
    "            \n",
    "            # Add to the DataFrame\n",
    "            video_captions.append({\"video_name\": video_file, \"caption\": captions})\n",
    "\n",
    "    # Save the results to a CSV file\n",
    "    df = pd.DataFrame(video_captions)\n",
    "    df.to_csv(output_csv, index=False)\n",
    "    print(f\"Captions saved to {output_csv}\")\n",
    "\n",
    "# Example usage in Kaggle\n",
    "input_directory = \"/kaggle/input/tikharm-dataset/Dataset/train/Safe\"  # Replace with your Kaggle input dataset folder\n",
    "output_directory = \"/kaggle/working\"  # Default writable directory in Kaggle\n",
    "frame_interval = 30  # Adjust as needed\n",
    "\n",
    "process_videos_in_directory(input_directory, output_directory, frame_interval)\n"
   ]
  },
  {
   "cell_type": "code",
   "execution_count": null,
   "metadata": {
    "trusted": true
   },
   "outputs": [],
   "source": [
    "!pip install transformers torch opencv-python Pillow tqdm moviepy SpeechRecognition\n"
   ]
  },
  {
   "cell_type": "code",
   "execution_count": null,
   "metadata": {
    "trusted": true
   },
   "outputs": [],
   "source": [
    "!pip install moviepy"
   ]
  },
  {
   "cell_type": "code",
   "execution_count": null,
   "metadata": {
    "trusted": true
   },
   "outputs": [],
   "source": [
    "pip install opencv-python transformers pillow tqdm pydub speechrecognition\n"
   ]
  },
  {
   "cell_type": "code",
   "execution_count": null,
   "metadata": {
    "trusted": true
   },
   "outputs": [],
   "source": [
    "pip install opencv-python transformers pillow tqdm pydub speechrecognition\n"
   ]
  },
  {
   "cell_type": "code",
   "execution_count": null,
   "metadata": {
    "trusted": true
   },
   "outputs": [],
   "source": [
    "import cv2\n",
    "import torch\n",
    "from transformers import BlipProcessor, BlipForConditionalGeneration\n",
    "from tqdm import tqdm\n",
    "import numpy as np\n",
    "from PIL import Image\n",
    "import os\n",
    "import pandas as pd\n",
    "from moviepy.editor import VideoFileClip\n",
    "import speech_recognition as sr\n",
    "\n",
    "def extract_frames(video_path, frame_interval=30):\n",
    "    cap = cv2.VideoCapture(video_path)\n",
    "    \n",
    "    if not cap.isOpened():\n",
    "        print(f\"Error: Unable to open video file at {video_path}\")\n",
    "        return []\n",
    "    \n",
    "    fps = cap.get(cv2.CAP_PROP_FPS)\n",
    "    frame_count = int(cap.get(cv2.CAP_PROP_FRAME_COUNT))\n",
    "    width = int(cap.get(cv2.CAP_PROP_FRAME_WIDTH))\n",
    "    height = int(cap.get(cv2.CAP_PROP_FRAME_HEIGHT))\n",
    "    \n",
    "    print(f\"Video Info: {frame_count} frames, {fps} FPS, {width}x{height} resolution.\")\n",
    "    \n",
    "    frames = []\n",
    "    frame_num = 0\n",
    "    while True:\n",
    "        ret, frame = cap.read()\n",
    "        if not ret:\n",
    "            break\n",
    "        \n",
    "        if frame_num % frame_interval == 0:\n",
    "            frame_rgb = cv2.cvtColor(frame, cv2.COLOR_BGR2RGB)\n",
    "            frames.append(frame_rgb)\n",
    "        \n",
    "        frame_num += 1\n",
    "    \n",
    "    cap.release()\n",
    "    print(f\"Extracted {len(frames)} frames.\")\n",
    "    return frames\n",
    "\n",
    "def generate_video_caption(video_path, frame_interval=30):\n",
    "    processor = BlipProcessor.from_pretrained(\"Salesforce/blip-image-captioning-base\")\n",
    "    model = BlipForConditionalGeneration.from_pretrained(\"Salesforce/blip-image-captioning-base\")\n",
    "    \n",
    "    frames = extract_frames(video_path, frame_interval)\n",
    "    \n",
    "    if not frames:\n",
    "        return \"\"  \n",
    "    \n",
    "    captions = []\n",
    "    \n",
    "    for i, frame in tqdm(enumerate(frames), total=len(frames), desc=\"Processing Frames\"):\n",
    "        image = Image.fromarray(frame)\n",
    "        inputs = processor(images=image, return_tensors=\"pt\")\n",
    "        out = model.generate(**inputs)\n",
    "        caption = processor.decode(out[0], skip_special_tokens=True)\n",
    "        captions.append(caption)\n",
    "        print(f\"Generated caption for frame {i+1}: {caption}\")\n",
    "    \n",
    "    full_caption = \" \".join(captions)\n",
    "    return full_caption\n",
    "\n",
    "def extract_audio(video_path):\n",
    "    \"\"\"Extract audio from video.\"\"\"\n",
    "    video = VideoFileClip(video_path)\n",
    "    audio = video.audio\n",
    "    return audio\n",
    "\n",
    "def transcribe_audio(audio):\n",
    "    \"\"\"Transcribe audio to text using SpeechRecognition.\"\"\"\n",
    "    recognizer = sr.Recognizer()\n",
    "    with sr.AudioData(audio.to_soundarray(fps=16000), 16000, 2) as source:\n",
    "        audio_data = recognizer.record(source)\n",
    "    \n",
    "    try:\n",
    "        transcription = recognizer.recognize_google(audio_data)\n",
    "        return transcription\n",
    "    except sr.UnknownValueError:\n",
    "        return \"Audio could not be understood\"\n",
    "    except sr.RequestError as e:\n",
    "        return f\"Error with the request: {e}\"\n",
    "\n",
    "def process_single_video(video_path, output_file=\"single_video_caption.csv\", frame_interval=30):\n",
    "    # Generate captions from video frames\n",
    "    full_caption = generate_video_caption(video_path, frame_interval)\n",
    "\n",
    "    if full_caption:\n",
    "        # Extract and transcribe the audio directly without saving it as a file\n",
    "        audio = extract_audio(video_path)\n",
    "        audio_transcription = transcribe_audio(audio)\n",
    "\n",
    "        # Prepare data to be saved\n",
    "        video_data = [{\n",
    "            \"video_name\": os.path.basename(video_path),\n",
    "            \"caption\": full_caption,\n",
    "            \"audio_transcription\": audio_transcription\n",
    "        }]\n",
    "        \n",
    "        # Save data to CSV\n",
    "        df = pd.DataFrame(video_data)\n",
    "        df.to_csv(output_file, index=False)\n",
    "        print(f\"Captions and audio transcriptions saved to {output_file}\")\n",
    "    else:\n",
    "        print(\"No captions generated for this video.\")\n",
    "\n",
    "# Example usage for a single video\n",
    "video_path = \"/kaggle/input/tikharm-dataset/Dataset/train/Safe/.cartoonmovies7_7298084692916555041.mp4\"  # Replace with the path to your video\n",
    "output_file = \"/kaggle/working/single_video_caption.csv\"  # Output CSV file path\n",
    "\n",
    "process_single_video(video_path, output_file)\n"
   ]
  },
  {
   "cell_type": "code",
   "execution_count": null,
   "metadata": {
    "trusted": true
   },
   "outputs": [],
   "source": [
    "import cv2\n",
    "import os\n",
    "import pandas as pd\n",
    "import speech_recognition as sr\n",
    "from pydub import AudioSegment\n",
    "from transformers import BlipProcessor, BlipForConditionalGeneration\n",
    "from PIL import Image\n",
    "from tqdm import tqdm\n",
    "import tempfile\n",
    "\n",
    "# Function to extract frames from video\n",
    "def extract_frames(video_path, frame_interval=180):\n",
    "    cap = cv2.VideoCapture(video_path)\n",
    "    \n",
    "    # Check if video was loaded correctly\n",
    "    if not cap.isOpened():\n",
    "        print(f\"Error: Unable to open video file at {video_path}\")\n",
    "        return []\n",
    "    \n",
    "    frames = []\n",
    "    frame_num = 0\n",
    "    while True:\n",
    "        ret, frame = cap.read()\n",
    "        if not ret:\n",
    "            break\n",
    "        \n",
    "        # Add frame if the index is a multiple of frame_interval\n",
    "        if frame_num % frame_interval == 0:\n",
    "            frame_rgb = cv2.cvtColor(frame, cv2.COLOR_BGR2RGB)\n",
    "            frames.append(frame_rgb)\n",
    "        \n",
    "        frame_num += 1\n",
    "    \n",
    "    cap.release()\n",
    "    print(f\"Extracted {len(frames)} frames.\")\n",
    "    return frames\n",
    "\n",
    "# Function to generate video captions from frames\n",
    "def generate_video_caption(video_path, frame_interval=180):\n",
    "    processor = BlipProcessor.from_pretrained(\"Salesforce/blip-image-captioning-base\")\n",
    "    model = BlipForConditionalGeneration.from_pretrained(\"Salesforce/blip-image-captioning-base\")\n",
    "    \n",
    "    frames = extract_frames(video_path, frame_interval)\n",
    "    \n",
    "    if not frames:\n",
    "        return \"\"  # No frames to process if extraction failed\n",
    "    \n",
    "    captions = []\n",
    "    \n",
    "    for frame in tqdm(frames, desc=\"Processing Frames\"):\n",
    "        image = Image.fromarray(frame)\n",
    "        inputs = processor(images=image, return_tensors=\"pt\")\n",
    "        out = model.generate(**inputs)\n",
    "        caption = processor.decode(out[0], skip_special_tokens=True)\n",
    "        captions.append(caption)\n",
    "    \n",
    "    return \" \".join(captions)  # Concatenate all captions into one string\n",
    "\n",
    "# Function to extract audio and convert to text using speech recognition\n",
    "def extract_audio_text(video_path):\n",
    "    # Use ffmpeg to extract audio\n",
    "    audio_path = \"temp_audio.wav\"\n",
    "    os.system(f\"ffmpeg -i {video_path} -vn -acodec pcm_s16le -ar 44100 -ac 2 {audio_path}\")\n",
    "    \n",
    "    # Use speech recognition to transcribe the audio\n",
    "    recognizer = sr.Recognizer()\n",
    "    with sr.AudioFile(audio_path) as source:\n",
    "        audio = recognizer.record(source)  # read the entire audio file\n",
    "        try:\n",
    "            transcript = recognizer.recognize_google(audio)\n",
    "            os.remove(audio_path)  # Delete the temp audio file\n",
    "            return transcript\n",
    "        except sr.UnknownValueError:\n",
    "            return \"Audio could not be transcribed\"\n",
    "        except sr.RequestError as e:\n",
    "            return f\"Could not request results from Google Speech Recognition service; {e}\"\n",
    "\n",
    "# Main function to process the video and save captions/audio transcript to CSV\n",
    "def process_video(video_path, output_csv=\"video_captions.csv\"):\n",
    "    caption = generate_video_caption(video_path)\n",
    "    audio_transcript = extract_audio_text(video_path)\n",
    "    \n",
    "    data = {\n",
    "        \"video_name\": os.path.basename(video_path),\n",
    "        \"caption\": caption,\n",
    "        \"audio_transcript\": audio_transcript\n",
    "    }\n",
    "\n",
    "    df = pd.DataFrame([data])\n",
    "    \n",
    "    # Append to CSV file\n",
    "    df.to_csv(output_csv, mode='a', header=not os.path.exists(output_csv), index=False)\n",
    "\n",
    "# Example usage\n",
    "video_path = \"/kaggle/input/tikharm-dataset/Dataset/train/Safe/.cartoonmovies7_7298084692916555041.mp4\"  # Replace with your video file path\n",
    "process_video(video_path)  # This will process the video and save captions and audio text to CSV\n"
   ]
  },
  {
   "cell_type": "code",
   "execution_count": null,
   "metadata": {
    "trusted": true
   },
   "outputs": [],
   "source": [
    "import cv2\n",
    "import os\n",
    "import pandas as pd\n",
    "import speech_recognition as sr\n",
    "from pydub import AudioSegment\n",
    "from transformers import BlipProcessor, BlipForConditionalGeneration\n",
    "from PIL import Image\n",
    "from tqdm import tqdm\n",
    "\n",
    "# Function to extract frames from video\n",
    "def extract_frames(video_path, frame_interval=180):\n",
    "    cap = cv2.VideoCapture(video_path)\n",
    "    \n",
    "    # Check if video was loaded correctly\n",
    "    if not cap.isOpened():\n",
    "        print(f\"Error: Unable to open video file at {video_path}\")\n",
    "        return []\n",
    "    \n",
    "    frames = []\n",
    "    frame_num = 0\n",
    "    while True:\n",
    "        ret, frame = cap.read()\n",
    "        if not ret:\n",
    "            break\n",
    "        \n",
    "        # Add frame if the index is a multiple of frame_interval\n",
    "        if frame_num % frame_interval == 0:\n",
    "            frame_rgb = cv2.cvtColor(frame, cv2.COLOR_BGR2RGB)\n",
    "            frames.append(frame_rgb)\n",
    "        \n",
    "        frame_num += 1\n",
    "    \n",
    "    cap.release()\n",
    "    print(f\"Extracted {len(frames)} frames.\")\n",
    "    return frames\n",
    "\n",
    "# Function to generate video captions from frames\n",
    "def generate_video_caption(video_path, frame_interval=180):\n",
    "    processor = BlipProcessor.from_pretrained(\"Salesforce/blip-image-captioning-base\")\n",
    "    model = BlipForConditionalGeneration.from_pretrained(\"Salesforce/blip-image-captioning-base\")\n",
    "    \n",
    "    frames = extract_frames(video_path, frame_interval)\n",
    "    \n",
    "    if not frames:\n",
    "        return \"\"  # No frames to process if extraction failed\n",
    "    \n",
    "    captions = []\n",
    "    \n",
    "    for frame in tqdm(frames, desc=\"Processing Frames\"):\n",
    "        image = Image.fromarray(frame)\n",
    "        inputs = processor(images=image, return_tensors=\"pt\")\n",
    "        out = model.generate(**inputs)\n",
    "        caption = processor.decode(out[0], skip_special_tokens=True)\n",
    "        captions.append(caption)\n",
    "    \n",
    "    return \" \".join(captions)  # Concatenate all captions into one string\n",
    "\n",
    "# Function to extract audio and convert to text using speech recognition\n",
    "def extract_audio_text(video_path):\n",
    "    # Use ffmpeg to extract audio\n",
    "    audio_path = \"temp_audio.wav\"\n",
    "    os.system(f\"ffmpeg -i {video_path} -vn -acodec pcm_s16le -ar 44100 -ac 2 {audio_path}\")\n",
    "    \n",
    "    # Use speech recognition to transcribe the audio\n",
    "    recognizer = sr.Recognizer()\n",
    "    with sr.AudioFile(audio_path) as source:\n",
    "        audio = recognizer.record(source)  # read the entire audio file\n",
    "        try:\n",
    "            transcript = recognizer.recognize_google(audio)\n",
    "            os.remove(audio_path)  # Delete the temp audio file\n",
    "            return transcript\n",
    "        except sr.UnknownValueError:\n",
    "            return \"Audio could not be transcribed\"\n",
    "        except sr.RequestError as e:\n",
    "            return f\"Could not request results from Google Speech Recognition service; {e}\"\n",
    "\n",
    "# Main function to process a video and save captions/audio transcript to CSV\n",
    "def process_video(video_path, output_csv=\"video_captions.csv\"):\n",
    "    caption = generate_video_caption(video_path)\n",
    "    audio_transcript = extract_audio_text(video_path)\n",
    "    \n",
    "    data = {\n",
    "        \"video_name\": os.path.basename(video_path),\n",
    "        \"caption\": caption,\n",
    "        \"audio_transcript\": audio_transcript\n",
    "    }\n",
    "\n",
    "    df = pd.DataFrame([data])\n",
    "    \n",
    "    # Append to CSV file\n",
    "    df.to_csv(output_csv, mode='a', header=not os.path.exists(output_csv), index=False)\n",
    "\n",
    "# Function to process all videos in a folder\n",
    "def process_videos_in_folder(folder_path, output_csv=\"video_captionss.csv\"):\n",
    "    video_files = [f for f in os.listdir(folder_path) if f.endswith(('.mp4', '.avi', '.mov'))]\n",
    "    \n",
    "    for video_file in tqdm(video_files, desc=\"Processing Videos\"):\n",
    "        video_path = os.path.join(folder_path, video_file)\n",
    "        process_video(video_path, output_csv)\n",
    "\n",
    "# Example usage\n",
    "folder_path = \"/kaggle/input/tikharm-dataset/Dataset/train/Safe/.cartoonmovies7_7298084692916555041.mp4\"  # Replace with the folder containing your video files\n",
    "process_videos_in_folder(folder_path)  # This will process all videos in the folder and save captions and audio transcripts to CSV\n"
   ]
  },
  {
   "cell_type": "code",
   "execution_count": null,
   "metadata": {
    "trusted": true
   },
   "outputs": [],
   "source": [
    "import cv2\n",
    "import os\n",
    "import pandas as pd\n",
    "import speech_recognition as sr\n",
    "from pydub import AudioSegment\n",
    "from transformers import BlipProcessor, BlipForConditionalGeneration\n",
    "from PIL import Image\n",
    "from tqdm import tqdm\n",
    "import subprocess\n",
    "\n",
    "# Function to extract exactly 5 frames from the video\n",
    "def extract_frames(video_path, num_frames=5):\n",
    "    cap = cv2.VideoCapture(video_path)\n",
    "    \n",
    "    # Check if video was loaded correctly\n",
    "    if not cap.isOpened():\n",
    "        print(f\"Error: Unable to open video file at {video_path}\")\n",
    "        return []\n",
    "    \n",
    "    # Get total number of frames in the video\n",
    "    total_frames = int(cap.get(cv2.CAP_PROP_FRAME_COUNT))\n",
    "    \n",
    "    # Ensure that we have at least 'num_frames' frames to extract\n",
    "    if total_frames < num_frames:\n",
    "        print(f\"Warning: Video has fewer frames than the requested {num_frames}. Extracting all available frames.\")\n",
    "        num_frames = total_frames\n",
    "    \n",
    "    # Calculate the frame indices to extract (evenly spaced frames)\n",
    "    frame_indices = [int(i * total_frames / num_frames) for i in range(num_frames)]\n",
    "    \n",
    "    frames = []\n",
    "    for idx in frame_indices:\n",
    "        cap.set(cv2.CAP_PROP_POS_FRAMES, idx)  # Set the video capture to the correct frame\n",
    "        ret, frame = cap.read()\n",
    "        if not ret:\n",
    "            break\n",
    "        \n",
    "        # Convert the frame from BGR to RGB (for PIL compatibility)\n",
    "        frame_rgb = cv2.cvtColor(frame, cv2.COLOR_BGR2RGB)\n",
    "        frames.append(frame_rgb)\n",
    "    \n",
    "    cap.release()\n",
    "    print(f\"Extracted {len(frames)} frames.\")\n",
    "    return frames\n",
    "\n",
    "# Function to generate video captions from frames\n",
    "def generate_video_caption(video_path):\n",
    "    processor = BlipProcessor.from_pretrained(\"Salesforce/blip-image-captioning-base\")\n",
    "    model = BlipForConditionalGeneration.from_pretrained(\"Salesforce/blip-image-captioning-base\")\n",
    "    \n",
    "    frames = extract_frames(video_path, num_frames=5)\n",
    "    \n",
    "    if not frames:\n",
    "        return \"\"  # No frames to process if extraction failed\n",
    "    \n",
    "    captions = []\n",
    "    \n",
    "    for frame in tqdm(frames, desc=\"Processing Frames\"):\n",
    "        image = Image.fromarray(frame)\n",
    "        inputs = processor(images=image, return_tensors=\"pt\")\n",
    "        out = model.generate(**inputs)\n",
    "        caption = processor.decode(out[0], skip_special_tokens=True)\n",
    "        captions.append(caption)\n",
    "    \n",
    "    return \" \".join(captions)  # Concatenate all captions into one string\n",
    "\n",
    "# Function to extract audio and convert to text using speech recognition\n",
    "def extract_audio_text(video_path):\n",
    "    audio_path = \"temp_audio.wav\"  # The path where audio will be saved\n",
    "    \n",
    "    # Remove the existing audio file if it exists to ensure it will be overwritten\n",
    "    if os.path.exists(audio_path):\n",
    "        os.remove(audio_path)\n",
    "        print(f\"Removed existing audio file: {audio_path}\")\n",
    "    \n",
    "    # Use ffmpeg to extract audio\n",
    "    ffmpeg_command = f\"ffmpeg -i {video_path} -vn -acodec pcm_s16le -ar 44100 -ac 2 {audio_path}\"\n",
    "    print(f\"Running command: {ffmpeg_command}\")\n",
    "    \n",
    "    try:\n",
    "        # Run the ffmpeg command to extract audio\n",
    "        subprocess.run(ffmpeg_command, shell=True, check=True)\n",
    "    except subprocess.CalledProcessError as e:\n",
    "        print(f\"Error in ffmpeg command: {e}\")\n",
    "        return \"Audio extraction failed\"\n",
    "    \n",
    "    # Check if the audio file was created successfully\n",
    "    if not os.path.exists(audio_path):\n",
    "        print(f\"Error: {audio_path} not created.\")\n",
    "        return \"Audio extraction failed\"\n",
    "    \n",
    "    # Check if the audio file is empty\n",
    "    if os.path.getsize(audio_path) == 0:\n",
    "        print(f\"Error: {audio_path} is empty.\")\n",
    "        return \"Audio extraction failed\"\n",
    "    \n",
    "    # Use speech recognition to transcribe the audio\n",
    "    recognizer = sr.Recognizer()\n",
    "    with sr.AudioFile(audio_path) as source:\n",
    "        audio = recognizer.record(source)  # Read the entire audio file\n",
    "        try:\n",
    "            print(\"Transcribing audio...\")\n",
    "            transcript = recognizer.recognize_google(audio)\n",
    "            os.remove(audio_path)  # Delete the temp audio file after processing\n",
    "            return transcript\n",
    "        except sr.UnknownValueError:\n",
    "            print(\"Speech Recognition could not understand the audio.\")\n",
    "            return \"Audio could not be transcribed\"\n",
    "        except sr.RequestError as e:\n",
    "            print(f\"Could not request results from Google Speech Recognition service; {e}\")\n",
    "            return f\"Could not request results from Google Speech Recognition service; {e}\"\n",
    "            \n",
    "# Main function to process a video and save captions/audio transcript to CSV\n",
    "def process_video(video_path, output_csv=\"video_captionss3.csv\"):\n",
    "    caption = generate_video_caption(video_path)\n",
    "    audio_transcript = extract_audio_text(video_path)\n",
    "    \n",
    "    data = {\n",
    "        \"video_name\": os.path.basename(video_path),\n",
    "        \"caption\": caption,\n",
    "        \"audio_transcript\": audio_transcript\n",
    "    }\n",
    "\n",
    "    df = pd.DataFrame([data])\n",
    "    \n",
    "    # Append to CSV file\n",
    "    df.to_csv(output_csv, mode='a', header=not os.path.exists(output_csv), index=False)\n",
    "\n",
    "# Function to process all videos in a folder\n",
    "def process_videos_in_folder(folder_path, output_csv=\"video_captionss3.csv\"):\n",
    "    video_files = [f for f in os.listdir(folder_path) if f.endswith(('.mp4', '.avi', '.mov'))]\n",
    "    \n",
    "    for video_file in tqdm(video_files, desc=\"Processing Videos\"):\n",
    "        video_path = os.path.join(folder_path, video_file)\n",
    "        process_video(video_path, output_csv)\n",
    "\n",
    "# Example usage\n",
    "folder_path = \"/kaggle/input/tikharm-dataset/Dataset/train/Safe/\"  # Replace with the folder containing your video files\n",
    "process_videos_in_folder(folder_path)  # This will process all videos in the folder and save captions and audio transcripts to CSV\n"
   ]
  },
  {
   "cell_type": "code",
   "execution_count": null,
   "metadata": {
    "trusted": true
   },
   "outputs": [],
   "source": [
    "import cv2\n",
    "import os\n",
    "import pandas as pd\n",
    "import speech_recognition as sr\n",
    "from pydub import AudioSegment\n",
    "from transformers import BlipProcessor, BlipForConditionalGeneration\n",
    "from PIL import Image\n",
    "from tqdm import tqdm\n",
    "\n",
    "# Function to extract frames from video\n",
    "def extract_frames(video_path, frame_interval=180):\n",
    "    cap = cv2.VideoCapture(video_path)\n",
    "    \n",
    "    # Check if video was loaded correctly\n",
    "    if not cap.isOpened():\n",
    "        print(f\"Error: Unable to open video file at {video_path}\")\n",
    "        return []\n",
    "    \n",
    "    frames = []\n",
    "    frame_num = 0\n",
    "    while True:\n",
    "        ret, frame = cap.read()\n",
    "        if not ret:\n",
    "            break\n",
    "        \n",
    "        # Add frame if the index is a multiple of frame_interval\n",
    "        if frame_num % frame_interval == 0:\n",
    "            frame_rgb = cv2.cvtColor(frame, cv2.COLOR_BGR2RGB)\n",
    "            frames.append(frame_rgb)\n",
    "        \n",
    "        frame_num += 1\n",
    "    \n",
    "    cap.release()\n",
    "    print(f\"Extracted {len(frames)} frames.\")\n",
    "    return frames\n",
    "\n",
    "# Function to generate video captions from frames\n",
    "def generate_video_caption(video_path, frame_interval=180):\n",
    "    processor = BlipProcessor.from_pretrained(\"Salesforce/blip-image-captioning-base\")\n",
    "    model = BlipForConditionalGeneration.from_pretrained(\"Salesforce/blip-image-captioning-base\")\n",
    "    \n",
    "    frames = extract_frames(video_path, frame_interval)\n",
    "    \n",
    "    if not frames:\n",
    "        return \"\"  # No frames to process if extraction failed\n",
    "    \n",
    "    captions = []\n",
    "    \n",
    "    for frame in tqdm(frames, desc=\"Processing Frames\"):\n",
    "        image = Image.fromarray(frame)\n",
    "        inputs = processor(images=image, return_tensors=\"pt\")\n",
    "        out = model.generate(**inputs)\n",
    "        caption = processor.decode(out[0], skip_special_tokens=True)\n",
    "        captions.append(caption)\n",
    "    \n",
    "    return \" \".join(captions)  # Concatenate all captions into one string\n",
    "\n",
    "# Function to extract audio and convert to text using speech recognition\n",
    "def extract_audio_text(video_path):\n",
    "    audio_path = \"temp_audio.wav\"  # The path where audio will be saved\n",
    "    \n",
    "    # Remove the existing audio file if it exists to ensure it will be overwritten\n",
    "    if os.path.exists(audio_path):\n",
    "        os.remove(audio_path)\n",
    "        print(f\"Removed existing audio file: {audio_path}\")\n",
    "    \n",
    "    # Use ffmpeg to extract audio\n",
    "    ffmpeg_command = f\"ffmpeg -i {video_path} -vn -acodec pcm_s16le -ar 44100 -ac 2 {audio_path}\"\n",
    "    print(f\"Running command: {ffmpeg_command}\")\n",
    "    \n",
    "    try:\n",
    "        # Run the ffmpeg command to extract audio\n",
    "        subprocess.run(ffmpeg_command, shell=True, check=True)\n",
    "    except subprocess.CalledProcessError as e:\n",
    "        print(f\"Error in ffmpeg command: {e}\")\n",
    "        return \"Audio extraction failed\"\n",
    "    \n",
    "    # Check if the audio file was created successfully\n",
    "    if not os.path.exists(audio_path):\n",
    "        print(f\"Error: {audio_path} not created.\")\n",
    "        return \"Audio extraction failed\"\n",
    "    \n",
    "    # Check if the audio file is empty\n",
    "    if os.path.getsize(audio_path) == 0:\n",
    "        print(f\"Error: {audio_path} is empty.\")\n",
    "        return \"Audio extraction failed\"\n",
    "    \n",
    "    # Use speech recognition to transcribe the audio\n",
    "    recognizer = sr.Recognizer()\n",
    "    with sr.AudioFile(audio_path) as source:\n",
    "        audio = recognizer.record(source)  # Read the entire audio file\n",
    "        try:\n",
    "            print(\"Transcribing audio...\")\n",
    "            transcript = recognizer.recognize_google(audio)\n",
    "            os.remove(audio_path)  # Delete the temp audio file after processing\n",
    "            return transcript\n",
    "        except sr.UnknownValueError:\n",
    "            print(\"Speech Recognition could not understand the audio.\")\n",
    "            return \"Audio could not be transcribed\"\n",
    "        except sr.RequestError as e:\n",
    "            print(f\"Could not request results from Google Speech Recognition service; {e}\")\n",
    "            return f\"Could not request results from Google Speech Recognition service; {e}\"\n",
    "\n",
    "# Main function to process a video and save captions/audio transcript to CSV\n",
    "def process_video(video_path, output_csv=\"video_captions.csv\"):\n",
    "    caption = generate_video_caption(video_path)\n",
    "    audio_transcript = extract_audio_text(video_path)\n",
    "    \n",
    "    data = {\n",
    "        \"video_name\": os.path.basename(video_path),\n",
    "        \"caption\": caption,\n",
    "        \"audio_transcript\": audio_transcript\n",
    "    }\n",
    "\n",
    "    df = pd.DataFrame([data])\n",
    "    \n",
    "    # Append to CSV file\n",
    "    df.to_csv(output_csv, mode='a', header=not os.path.exists(output_csv), index=False)\n",
    "\n",
    "# Function to process all videos in a folder\n",
    "def process_videos_in_folder(folder_path, output_csv=\"video_captions.csv\"):\n",
    "    video_files = [f for f in os.listdir(folder_path) if f.endswith(('.mp4', '.avi', '.mov'))]\n",
    "    \n",
    "    for video_file in tqdm(video_files, desc=\"Processing Videos\"):\n",
    "        video_path = os.path.join(folder_path, video_file)\n",
    "        process_video(video_path, output_csv)\n",
    "\n",
    "# Example usage\n",
    "folder_path = \"/path/to/your/folder\"  # Replace with the folder containing your video files\n",
    "process_videos_in_folder(folder_path)  # This will process all videos in the folder and save captions and audio transcripts to CSV\n"
   ]
  },
  {
   "cell_type": "code",
   "execution_count": null,
   "metadata": {
    "trusted": true
   },
   "outputs": [],
   "source": [
    "import cv2\n",
    "import os\n",
    "import pandas as pd\n",
    "import speech_recognition as sr\n",
    "from transformers import BlipProcessor, BlipForConditionalGeneration\n",
    "from PIL import Image\n",
    "from tqdm import tqdm\n",
    "import torch\n",
    "import os\n",
    "import speech_recognition as sr\n",
    "import subprocess\n",
    "\n",
    "\n",
    "\n",
    "# Function to extract frames from video\n",
    "def extract_frames(video_path, frame_interval=200):\n",
    "    cap = cv2.VideoCapture(video_path)\n",
    "    \n",
    "    # Check if video was loaded correctly\n",
    "    if not cap.isOpened():\n",
    "        print(f\"Error: Unable to open video file at {video_path}\")\n",
    "        return []\n",
    "    \n",
    "    frames = []\n",
    "    frame_num = 0\n",
    "    while True:\n",
    "        ret, frame = cap.read()\n",
    "        if not ret:\n",
    "            break\n",
    "        \n",
    "        if frame_num % frame_interval == 0:\n",
    "            frame_rgb = cv2.cvtColor(frame, cv2.COLOR_BGR2RGB)\n",
    "            frames.append(frame_rgb)\n",
    "        \n",
    "        frame_num += 1\n",
    "    \n",
    "    cap.release()\n",
    "    print(f\"Extracted {len(frames)} frames.\")\n",
    "    return frames\n",
    "\n",
    "# Function to generate video captions from frames\n",
    "def generate_video_caption(video_path, frame_interval=200):\n",
    "    processor = BlipProcessor.from_pretrained(\"Salesforce/blip-image-captioning-base\")\n",
    "    model = BlipForConditionalGeneration.from_pretrained(\"Salesforce/blip-image-captioning-base\")\n",
    "    \n",
    "    device = torch.device(\"cuda\" if torch.cuda.is_available() else \"cpu\")\n",
    "    model.to(device)\n",
    "\n",
    "    frames = extract_frames(video_path, frame_interval)\n",
    "    if not frames:\n",
    "        return \"\"  # No frames to process if extraction failed\n",
    "    \n",
    "    captions = []\n",
    "    \n",
    "    for frame in tqdm(frames, desc=\"Processing Frames\"):\n",
    "        image = Image.fromarray(frame)\n",
    "        inputs = processor(images=image, return_tensors=\"pt\").to(device)\n",
    "        out = model.generate(**inputs)\n",
    "        caption = processor.decode(out[0], skip_special_tokens=True)\n",
    "        captions.append(caption)\n",
    "    \n",
    "    return \" \".join(captions)  # Concatenate all captions into one string\n",
    "\n",
    "# Function to extract audio and convert to text using speech recognition\n",
    "def extract_audio_text(video_path):\n",
    "    audio_path = \"temp_audio.wav\"  # The path where audio will be saved\n",
    "    \n",
    "    # Remove the existing audio file if it exists to ensure it will be overwritten\n",
    "    if os.path.exists(audio_path):\n",
    "        os.remove(audio_path)\n",
    "        print(f\"Removed existing audio file: {audio_path}\")\n",
    "    \n",
    "    # Use ffmpeg to extract audio\n",
    "    ffmpeg_command = f\"ffmpeg -i {video_path} -vn -acodec pcm_s16le -ar 44100 -ac 2 {audio_path}\"\n",
    "    print(f\"Running command: {ffmpeg_command}\")\n",
    "    \n",
    "    try:\n",
    "        # Run the ffmpeg command to extract audio\n",
    "        subprocess.run(ffmpeg_command, shell=True, check=True)\n",
    "    except subprocess.CalledProcessError as e:\n",
    "        print(f\"Error in ffmpeg command: {e}\")\n",
    "        return \"Audio extraction failed\"\n",
    "    \n",
    "    # Check if the audio file was created successfully\n",
    "    if not os.path.exists(audio_path):\n",
    "        print(f\"Error: {audio_path} not created.\")\n",
    "        return \"Audio extraction failed\"\n",
    "    \n",
    "    # Check if the audio file is empty\n",
    "    if os.path.getsize(audio_path) == 0:\n",
    "        print(f\"Error: {audio_path} is empty.\")\n",
    "        return \"Audio extraction failed\"\n",
    "    \n",
    "    # Use speech recognition to transcribe the audio\n",
    "    recognizer = sr.Recognizer()\n",
    "    with sr.AudioFile(audio_path) as source:\n",
    "        audio = recognizer.record(source)  # Read the entire audio file\n",
    "        try:\n",
    "            print(\"Transcribing audio...\")\n",
    "            transcript = recognizer.recognize_google(audio)\n",
    "            os.remove(audio_path)  # Delete the temp audio file after processing\n",
    "            return transcript\n",
    "        except sr.UnknownValueError:\n",
    "            print(\"Speech Recognition could not understand the audio.\")\n",
    "            return \"Audio could not be transcribed\"\n",
    "        except sr.RequestError as e:\n",
    "            print(f\"Could not request results from Google Speech Recognition service; {e}\")\n",
    "            return f\"Could not request results from Google Speech Recognition service; {e}\"\n",
    "\n",
    "# Main function to process the video and save captions/audio transcript to CSV\n",
    "def process_video(video_path, output_csv=\"video_captions1.csv\"):\n",
    "    caption = generate_video_caption(video_path)\n",
    "    audio_transcript = extract_audio_text(video_path)\n",
    "    \n",
    "    data = {\n",
    "        \"video_name\": os.path.basename(video_path),\n",
    "        \"caption\": caption,\n",
    "        \"audio_transcript\": audio_transcript\n",
    "    }\n",
    "\n",
    "    df = pd.DataFrame([data])\n",
    "    \n",
    "    # Append to CSV file\n",
    "    df.to_csv(output_csv, mode='a', header=not os.path.exists(output_csv), index=False)\n",
    "\n",
    "# Example usage\n",
    "video_path = \"/kaggle/input/tikharm-dataset/Dataset/train/Safe/gocnhaclive_7127954090977398018.mp4\"  # Replace with your video file path\n",
    "process_video(video_path)  # This will process the video and save captions and audio text to CSV\n"
   ]
  },
  {
   "cell_type": "code",
   "execution_count": null,
   "metadata": {
    "execution": {
     "iopub.execute_input": "2024-11-27T01:10:29.618818Z",
     "iopub.status.busy": "2024-11-27T01:10:29.617386Z",
     "iopub.status.idle": "2024-11-27T04:51:25.920522Z",
     "shell.execute_reply": "2024-11-27T04:51:25.919182Z",
     "shell.execute_reply.started": "2024-11-27T01:10:29.618758Z"
    },
    "trusted": true
   },
   "outputs": [
    {
     "name": "stderr",
     "output_type": "stream",
     "text": [
      "Processing Videos:   0%|          | 0/698 [00:00<?, ?it/s]"
     ]
    },
    {
     "name": "stdout",
     "output_type": "stream",
     "text": [
      "File Name: sam.shan.shops_7360833729805257990.mp4, File Size: 7.03 MB\n"
     ]
    },
    {
     "name": "stderr",
     "output_type": "stream",
     "text": [
      "/opt/conda/lib/python3.10/site-packages/transformers/tokenization_utils_base.py:1617: FutureWarning: `clean_up_tokenization_spaces` was not set. It will be set to `True` by default. This behavior will be deprecated in transformers v4.45, and will be then set to `False` by default. For more details check this issue: https://github.com/huggingface/transformers/issues/31884\n",
      "  warnings.warn(\n"
     ]
    },
    {
     "name": "stdout",
     "output_type": "stream",
     "text": [
      "Total frames in video: 1086\n",
      "Frame indices to extract: [0, 217, 434, 651, 868]\n",
      "Extracted 5 frames.\n"
     ]
    },
    {
     "name": "stderr",
     "output_type": "stream",
     "text": [
      "\n",
      "Processing Frames:   0%|          | 0/5 [00:00<?, ?it/s]\u001b[A/opt/conda/lib/python3.10/site-packages/transformers/generation/utils.py:1220: UserWarning: Using the model-agnostic default `max_length` (=20) to control the generation length. We recommend setting `max_new_tokens` to control the maximum length of the generation.\n",
      "  warnings.warn(\n",
      "\n",
      "Processing Frames:  20%|██        | 1/5 [00:06<00:25,  6.30s/it]\u001b[A\n",
      "Processing Frames:  40%|████      | 2/5 [00:10<00:14,  4.81s/it]\u001b[A\n",
      "Processing Frames:  60%|██████    | 3/5 [00:13<00:08,  4.10s/it]\u001b[A\n",
      "Processing Frames:  80%|████████  | 4/5 [00:16<00:03,  3.76s/it]\u001b[A\n",
      "Processing Frames: 100%|██████████| 5/5 [00:20<00:00,  4.03s/it]\u001b[A\n",
      "Processing Videos:   0%|          | 1/698 [00:26<5:10:52, 26.76s/it]"
     ]
    },
    {
     "name": "stdout",
     "output_type": "stream",
     "text": [
      "File Name: chutuphuyen_7368700382874225937.mp4, File Size: 16.97 MB\n",
      "Total frames in video: 1858\n",
      "Frame indices to extract: [0, 371, 743, 1114, 1486]\n",
      "Extracted 5 frames.\n"
     ]
    },
    {
     "name": "stderr",
     "output_type": "stream",
     "text": [
      "\n",
      "Processing Frames:   0%|          | 0/5 [00:00<?, ?it/s]\u001b[A\n",
      "Processing Frames:  20%|██        | 1/5 [00:02<00:11,  2.92s/it]\u001b[A\n",
      "Processing Frames:  40%|████      | 2/5 [00:05<00:09,  3.00s/it]\u001b[A\n",
      "Processing Frames:  60%|██████    | 3/5 [00:10<00:07,  3.72s/it]\u001b[A\n",
      "Processing Frames:  80%|████████  | 4/5 [00:13<00:03,  3.54s/it]\u001b[A\n",
      "Processing Frames: 100%|██████████| 5/5 [00:16<00:00,  3.37s/it]\u001b[A\n",
      "Processing Videos:   0%|          | 2/698 [00:46<4:19:35, 22.38s/it]"
     ]
    },
    {
     "name": "stdout",
     "output_type": "stream",
     "text": [
      "File Name: poox.noon_7230297201560276270.mp4, File Size: 17.56 MB\n",
      "Total frames in video: 2903\n",
      "Frame indices to extract: [0, 580, 1161, 1741, 2322]\n",
      "Extracted 5 frames.\n"
     ]
    },
    {
     "name": "stderr",
     "output_type": "stream",
     "text": [
      "\n",
      "Processing Frames:   0%|          | 0/5 [00:00<?, ?it/s]\u001b[A\n",
      "Processing Frames:  20%|██        | 1/5 [00:03<00:14,  3.51s/it]\u001b[A\n",
      "Processing Frames:  40%|████      | 2/5 [00:06<00:09,  3.25s/it]\u001b[A\n",
      "Processing Frames:  60%|██████    | 3/5 [00:09<00:06,  3.32s/it]\u001b[A\n",
      "Processing Frames:  80%|████████  | 4/5 [00:13<00:03,  3.31s/it]\u001b[A\n",
      "Processing Frames: 100%|██████████| 5/5 [00:16<00:00,  3.34s/it]\u001b[A\n",
      "Processing Videos:   0%|          | 3/698 [01:04<4:00:45, 20.78s/it]"
     ]
    },
    {
     "name": "stdout",
     "output_type": "stream",
     "text": [
      "File Name: nh.thinhh_7236524375548169478.mp4, File Size: 15.98 MB\n",
      "Total frames in video: 1588\n",
      "Frame indices to extract: [0, 317, 635, 952, 1270]\n",
      "Extracted 5 frames.\n"
     ]
    },
    {
     "name": "stderr",
     "output_type": "stream",
     "text": [
      "\n",
      "Processing Frames:   0%|          | 0/5 [00:00<?, ?it/s]\u001b[A\n",
      "Processing Frames:  20%|██        | 1/5 [00:04<00:16,  4.18s/it]\u001b[A\n",
      "Processing Frames:  40%|████      | 2/5 [00:07<00:11,  3.73s/it]\u001b[A\n",
      "Processing Frames:  60%|██████    | 3/5 [00:11<00:07,  3.58s/it]\u001b[A\n",
      "Processing Frames:  80%|████████  | 4/5 [00:14<00:03,  3.46s/it]\u001b[A\n",
      "Processing Frames: 100%|██████████| 5/5 [00:17<00:00,  3.54s/it]\u001b[A\n",
      "Processing Videos:   1%|          | 4/698 [01:24<3:55:43, 20.38s/it]"
     ]
    },
    {
     "name": "stdout",
     "output_type": "stream",
     "text": [
      "File Name: rosannagray150_7206418344142966059.mp4, File Size: 3.76 MB\n",
      "Total frames in video: 838\n",
      "Frame indices to extract: [0, 167, 335, 502, 670]\n",
      "Extracted 5 frames.\n"
     ]
    },
    {
     "name": "stderr",
     "output_type": "stream",
     "text": [
      "\n",
      "Processing Frames:   0%|          | 0/5 [00:00<?, ?it/s]\u001b[A\n",
      "Processing Frames:  20%|██        | 1/5 [00:03<00:12,  3.14s/it]\u001b[A\n",
      "Processing Frames:  40%|████      | 2/5 [00:06<00:09,  3.09s/it]\u001b[A\n",
      "Processing Frames:  60%|██████    | 3/5 [00:08<00:05,  2.82s/it]\u001b[A\n",
      "Processing Frames:  80%|████████  | 4/5 [00:11<00:02,  2.99s/it]\u001b[A\n",
      "Processing Frames: 100%|██████████| 5/5 [00:15<00:00,  3.00s/it]\u001b[A\n",
      "Processing Videos:   1%|          | 5/698 [01:41<3:40:18, 19.07s/it]"
     ]
    },
    {
     "name": "stdout",
     "output_type": "stream",
     "text": [
      "File Name: bombom_vlog_7367719993405869319.mp4, File Size: 135.92 MB\n",
      "Total frames in video: 32415\n",
      "Frame indices to extract: [0, 6483, 12966, 19449, 25932]\n",
      "Extracted 5 frames.\n"
     ]
    },
    {
     "name": "stderr",
     "output_type": "stream",
     "text": [
      "\n",
      "Processing Frames:   0%|          | 0/5 [00:00<?, ?it/s]\u001b[A\n",
      "Processing Frames:  20%|██        | 1/5 [00:03<00:12,  3.10s/it]\u001b[A\n",
      "Processing Frames:  40%|████      | 2/5 [00:06<00:10,  3.53s/it]\u001b[A\n",
      "Processing Frames:  60%|██████    | 3/5 [00:09<00:06,  3.32s/it]\u001b[A\n",
      "Processing Frames:  80%|████████  | 4/5 [00:13<00:03,  3.36s/it]\u001b[A\n",
      "Processing Frames: 100%|██████████| 5/5 [00:17<00:00,  3.42s/it]\u001b[A\n",
      "Processing Videos:   1%|          | 6/698 [02:00<3:41:20, 19.19s/it]"
     ]
    },
    {
     "name": "stdout",
     "output_type": "stream",
     "text": [
      "File Name: anden75_7371056924407713041.mp4, File Size: 17.37 MB\n",
      "Total frames in video: 3540\n",
      "Frame indices to extract: [0, 708, 1416, 2124, 2832]\n",
      "Extracted 5 frames.\n"
     ]
    },
    {
     "name": "stderr",
     "output_type": "stream",
     "text": [
      "\n",
      "Processing Frames:   0%|          | 0/5 [00:00<?, ?it/s]\u001b[A\n",
      "Processing Frames:  20%|██        | 1/5 [00:03<00:13,  3.45s/it]\u001b[A\n",
      "Processing Frames:  40%|████      | 2/5 [00:07<00:11,  3.88s/it]\u001b[A\n",
      "Processing Frames:  60%|██████    | 3/5 [00:10<00:07,  3.63s/it]\u001b[A\n",
      "Processing Frames:  80%|████████  | 4/5 [00:14<00:03,  3.46s/it]\u001b[A\n",
      "Processing Frames: 100%|██████████| 5/5 [00:17<00:00,  3.49s/it]\u001b[A\n",
      "Processing Videos:   1%|          | 7/698 [02:20<3:43:01, 19.36s/it]"
     ]
    },
    {
     "name": "stdout",
     "output_type": "stream",
     "text": [
      "File Name: khatvong_xanh_7212876764752727322.mp4, File Size: 8.13 MB\n",
      "Total frames in video: 577\n",
      "Frame indices to extract: [0, 115, 230, 346, 461]\n",
      "Extracted 5 frames.\n"
     ]
    },
    {
     "name": "stderr",
     "output_type": "stream",
     "text": [
      "\n",
      "Processing Frames:   0%|          | 0/5 [00:00<?, ?it/s]\u001b[A\n",
      "Processing Frames:  20%|██        | 1/5 [00:03<00:14,  3.62s/it]\u001b[A\n",
      "Processing Frames:  40%|████      | 2/5 [00:06<00:10,  3.42s/it]\u001b[A\n",
      "Processing Frames:  60%|██████    | 3/5 [00:10<00:06,  3.34s/it]\u001b[A\n",
      "Processing Frames:  80%|████████  | 4/5 [00:13<00:03,  3.22s/it]\u001b[A\n",
      "Processing Frames: 100%|██████████| 5/5 [00:16<00:00,  3.29s/it]\u001b[A\n",
      "Processing Videos:   1%|          | 8/698 [02:40<3:42:52, 19.38s/it]"
     ]
    },
    {
     "name": "stdout",
     "output_type": "stream",
     "text": [
      "File Name: anden75_7364733536336743698.mp4, File Size: 33.77 MB\n",
      "Total frames in video: 5307\n",
      "Frame indices to extract: [0, 1061, 2122, 3184, 4245]\n",
      "Extracted 5 frames.\n"
     ]
    },
    {
     "name": "stderr",
     "output_type": "stream",
     "text": [
      "\n",
      "Processing Frames:   0%|          | 0/5 [00:00<?, ?it/s]\u001b[A\n",
      "Processing Frames:  20%|██        | 1/5 [00:04<00:16,  4.03s/it]\u001b[A\n",
      "Processing Frames:  40%|████      | 2/5 [00:07<00:11,  3.96s/it]\u001b[A\n",
      "Processing Frames:  60%|██████    | 3/5 [00:10<00:06,  3.30s/it]\u001b[A\n",
      "Processing Frames:  80%|████████  | 4/5 [00:13<00:03,  3.20s/it]\u001b[A\n",
      "Processing Frames: 100%|██████████| 5/5 [00:16<00:00,  3.35s/it]\u001b[A\n",
      "Processing Videos:   1%|▏         | 9/698 [02:59<3:41:40, 19.30s/it]"
     ]
    },
    {
     "name": "stdout",
     "output_type": "stream",
     "text": [
      "File Name: bombom_vlog_7372533863802735890.mp4, File Size: 58.72 MB\n",
      "Total frames in video: 13482\n",
      "Frame indices to extract: [0, 2696, 5392, 8089, 10785]\n",
      "Extracted 5 frames.\n"
     ]
    },
    {
     "name": "stderr",
     "output_type": "stream",
     "text": [
      "\n",
      "Processing Frames:   0%|          | 0/5 [00:00<?, ?it/s]\u001b[A\n",
      "Processing Frames:  20%|██        | 1/5 [00:03<00:13,  3.44s/it]\u001b[A\n",
      "Processing Frames:  40%|████      | 2/5 [00:07<00:10,  3.54s/it]\u001b[A\n",
      "Processing Frames:  60%|██████    | 3/5 [00:10<00:06,  3.33s/it]\u001b[A\n",
      "Processing Frames:  80%|████████  | 4/5 [00:13<00:03,  3.43s/it]\u001b[A\n",
      "Processing Frames: 100%|██████████| 5/5 [00:16<00:00,  3.35s/it]\u001b[A\n",
      "Processing Videos:   1%|▏         | 10/698 [03:18<3:41:18, 19.30s/it]"
     ]
    },
    {
     "name": "stdout",
     "output_type": "stream",
     "text": [
      "File Name: maphayke_7338026387116281096.mp4, File Size: 17.76 MB\n",
      "Total frames in video: 1762\n",
      "Frame indices to extract: [0, 352, 704, 1057, 1409]\n",
      "Extracted 5 frames.\n"
     ]
    },
    {
     "name": "stderr",
     "output_type": "stream",
     "text": [
      "\n",
      "Processing Frames:   0%|          | 0/5 [00:00<?, ?it/s]\u001b[A\n",
      "Processing Frames:  20%|██        | 1/5 [00:03<00:13,  3.27s/it]\u001b[A\n",
      "Processing Frames:  40%|████      | 2/5 [00:06<00:09,  3.14s/it]\u001b[A\n",
      "Processing Frames:  60%|██████    | 3/5 [00:09<00:06,  3.13s/it]\u001b[A\n",
      "Processing Frames:  80%|████████  | 4/5 [00:12<00:03,  3.10s/it]\u001b[A\n",
      "Processing Frames: 100%|██████████| 5/5 [00:15<00:00,  3.19s/it]\u001b[A\n",
      "Processing Videos:   2%|▏         | 11/698 [03:36<3:37:39, 19.01s/it]"
     ]
    },
    {
     "name": "stdout",
     "output_type": "stream",
     "text": [
      "File Name: elyitclean_7224504422192139546.mp4, File Size: 12.93 MB\n",
      "Total frames in video: 5593\n",
      "Frame indices to extract: [0, 1118, 2237, 3355, 4474]\n",
      "Extracted 5 frames.\n"
     ]
    },
    {
     "name": "stderr",
     "output_type": "stream",
     "text": [
      "\n",
      "Processing Frames:   0%|          | 0/5 [00:00<?, ?it/s]\u001b[A\n",
      "Processing Frames:  20%|██        | 1/5 [00:03<00:14,  3.70s/it]\u001b[A\n",
      "Processing Frames:  40%|████      | 2/5 [00:06<00:10,  3.42s/it]\u001b[A\n",
      "Processing Frames:  60%|██████    | 3/5 [00:10<00:06,  3.29s/it]\u001b[A\n",
      "Processing Frames:  80%|████████  | 4/5 [00:14<00:03,  3.60s/it]\u001b[A\n",
      "Processing Frames: 100%|██████████| 5/5 [00:17<00:00,  3.47s/it]\u001b[A\n",
      "Processing Videos:   2%|▏         | 12/698 [03:56<3:38:41, 19.13s/it]"
     ]
    },
    {
     "name": "stdout",
     "output_type": "stream",
     "text": [
      "File Name: numbersixtysix_7094221819237960965.mp4, File Size: 6.05 MB\n",
      "Total frames in video: 1391\n",
      "Frame indices to extract: [0, 278, 556, 834, 1112]\n",
      "Extracted 5 frames.\n"
     ]
    },
    {
     "name": "stderr",
     "output_type": "stream",
     "text": [
      "\n",
      "Processing Frames:   0%|          | 0/5 [00:00<?, ?it/s]\u001b[A\n",
      "Processing Frames:  20%|██        | 1/5 [00:03<00:13,  3.32s/it]\u001b[A\n",
      "Processing Frames:  40%|████      | 2/5 [00:06<00:09,  3.28s/it]\u001b[A\n",
      "Processing Frames:  60%|██████    | 3/5 [00:09<00:06,  3.26s/it]\u001b[A\n",
      "Processing Frames:  80%|████████  | 4/5 [00:12<00:03,  3.20s/it]\u001b[A\n",
      "Processing Frames: 100%|██████████| 5/5 [00:16<00:00,  3.30s/it]\u001b[A\n",
      "Processing Videos:   2%|▏         | 13/698 [04:14<3:35:15, 18.86s/it]"
     ]
    },
    {
     "name": "stdout",
     "output_type": "stream",
     "text": [
      "File Name: le_anh_nuoi_7342099903050419464.mp4, File Size: 19.92 MB\n",
      "Total frames in video: 2634\n",
      "Frame indices to extract: [0, 526, 1053, 1580, 2107]\n",
      "Extracted 5 frames.\n"
     ]
    },
    {
     "name": "stderr",
     "output_type": "stream",
     "text": [
      "\n",
      "Processing Frames:   0%|          | 0/5 [00:00<?, ?it/s]\u001b[A\n",
      "Processing Frames:  20%|██        | 1/5 [00:02<00:09,  2.37s/it]\u001b[A\n",
      "Processing Frames:  40%|████      | 2/5 [00:06<00:09,  3.12s/it]\u001b[A\n",
      "Processing Frames:  60%|██████    | 3/5 [00:09<00:06,  3.47s/it]\u001b[A\n",
      "Processing Frames:  80%|████████  | 4/5 [00:12<00:03,  3.02s/it]\u001b[A\n",
      "Processing Frames: 100%|██████████| 5/5 [00:14<00:00,  2.92s/it]\u001b[A\n",
      "Processing Videos:   2%|▏         | 14/698 [04:30<3:26:49, 18.14s/it]"
     ]
    },
    {
     "name": "stdout",
     "output_type": "stream",
     "text": [
      "File Name: le_anh_nuoi_7282017132899093762.mp4, File Size: 19.41 MB\n",
      "Total frames in video: 2536\n",
      "Frame indices to extract: [0, 507, 1014, 1521, 2028]\n",
      "Extracted 5 frames.\n"
     ]
    },
    {
     "name": "stderr",
     "output_type": "stream",
     "text": [
      "\n",
      "Processing Frames:   0%|          | 0/5 [00:00<?, ?it/s]\u001b[A\n",
      "Processing Frames:  20%|██        | 1/5 [00:03<00:12,  3.10s/it]\u001b[A\n",
      "Processing Frames:  40%|████      | 2/5 [00:06<00:09,  3.10s/it]\u001b[A\n",
      "Processing Frames:  60%|██████    | 3/5 [00:09<00:06,  3.08s/it]\u001b[A\n",
      "Processing Frames:  80%|████████  | 4/5 [00:12<00:03,  3.07s/it]\u001b[A\n",
      "Processing Frames: 100%|██████████| 5/5 [00:17<00:00,  3.45s/it]\u001b[A\n",
      "Processing Videos:   2%|▏         | 15/698 [04:50<3:30:56, 18.53s/it]"
     ]
    },
    {
     "name": "stdout",
     "output_type": "stream",
     "text": [
      "File Name: cookiesbyquiaus_7023861422429900033.mp4, File Size: 3.63 MB\n",
      "Total frames in video: 621\n",
      "Frame indices to extract: [0, 124, 248, 372, 496]\n",
      "Extracted 5 frames.\n"
     ]
    },
    {
     "name": "stderr",
     "output_type": "stream",
     "text": [
      "\n",
      "Processing Frames:   0%|          | 0/5 [00:00<?, ?it/s]\u001b[A\n",
      "Processing Frames:  20%|██        | 1/5 [00:03<00:14,  3.65s/it]\u001b[A\n",
      "Processing Frames:  40%|████      | 2/5 [00:07<00:11,  3.71s/it]\u001b[A\n",
      "Processing Frames:  60%|██████    | 3/5 [00:10<00:06,  3.41s/it]\u001b[A\n",
      "Processing Frames:  80%|████████  | 4/5 [00:13<00:03,  3.41s/it]\u001b[A\n",
      "Processing Frames: 100%|██████████| 5/5 [00:17<00:00,  3.50s/it]\u001b[A\n",
      "Processing Videos:   2%|▏         | 16/698 [05:10<3:34:32, 18.87s/it]"
     ]
    },
    {
     "name": "stdout",
     "output_type": "stream",
     "text": [
      "File Name: thisisplanetfood_7172894562074037509.mp4, File Size: 1.73 MB\n",
      "Total frames in video: 245\n",
      "Frame indices to extract: [0, 49, 98, 147, 196]\n",
      "Extracted 5 frames.\n"
     ]
    },
    {
     "name": "stderr",
     "output_type": "stream",
     "text": [
      "\n",
      "Processing Frames:   0%|          | 0/5 [00:00<?, ?it/s]\u001b[A\n",
      "Processing Frames:  20%|██        | 1/5 [00:03<00:12,  3.09s/it]\u001b[A\n",
      "Processing Frames:  40%|████      | 2/5 [00:07<00:10,  3.62s/it]\u001b[A\n",
      "Processing Frames:  60%|██████    | 3/5 [00:10<00:07,  3.62s/it]\u001b[A\n",
      "Processing Frames:  80%|████████  | 4/5 [00:14<00:03,  3.76s/it]\u001b[A\n",
      "Processing Frames: 100%|██████████| 5/5 [00:17<00:00,  3.50s/it]\u001b[A\n",
      "Processing Videos:   2%|▏         | 17/698 [05:29<3:35:40, 19.00s/it]"
     ]
    },
    {
     "name": "stdout",
     "output_type": "stream",
     "text": [
      "File Name: maphayke_7353614062237912327.mp4, File Size: 15.41 MB\n",
      "Total frames in video: 2573\n",
      "Frame indices to extract: [0, 514, 1029, 1543, 2058]\n",
      "Extracted 5 frames.\n"
     ]
    },
    {
     "name": "stderr",
     "output_type": "stream",
     "text": [
      "\n",
      "Processing Frames:   0%|          | 0/5 [00:00<?, ?it/s]\u001b[A\n",
      "Processing Frames:  20%|██        | 1/5 [00:03<00:14,  3.64s/it]\u001b[A\n",
      "Processing Frames:  40%|████      | 2/5 [00:08<00:13,  4.40s/it]\u001b[A\n",
      "Processing Frames:  60%|██████    | 3/5 [00:11<00:07,  3.79s/it]\u001b[A\n",
      "Processing Frames:  80%|████████  | 4/5 [00:14<00:03,  3.43s/it]\u001b[A\n",
      "Processing Frames: 100%|██████████| 5/5 [00:17<00:00,  3.52s/it]\u001b[A\n",
      "Processing Videos:   3%|▎         | 18/698 [05:49<3:39:38, 19.38s/it]"
     ]
    },
    {
     "name": "stdout",
     "output_type": "stream",
     "text": [
      "File Name: babyplazaa_7269588396811586822.mp4, File Size: 1.56 MB\n",
      "Total frames in video: 546\n",
      "Frame indices to extract: [0, 109, 218, 327, 436]\n",
      "Extracted 5 frames.\n"
     ]
    },
    {
     "name": "stderr",
     "output_type": "stream",
     "text": [
      "\n",
      "Processing Frames:   0%|          | 0/5 [00:00<?, ?it/s]\u001b[A\n",
      "Processing Frames:  20%|██        | 1/5 [00:02<00:10,  2.75s/it]\u001b[A\n",
      "Processing Frames:  40%|████      | 2/5 [00:05<00:08,  2.83s/it]\u001b[A\n",
      "Processing Frames:  60%|██████    | 3/5 [00:08<00:05,  2.80s/it]\u001b[A\n",
      "Processing Frames:  80%|████████  | 4/5 [00:12<00:03,  3.39s/it]\u001b[A\n",
      "Processing Frames: 100%|██████████| 5/5 [00:15<00:00,  3.11s/it]\u001b[A\n",
      "Processing Videos:   3%|▎         | 19/698 [06:06<3:32:02, 18.74s/it]"
     ]
    },
    {
     "name": "stdout",
     "output_type": "stream",
     "text": [
      "File Name: hana_danghoc_7365852466677665041.mp4, File Size: 2.53 MB\n",
      "Total frames in video: 898\n",
      "Frame indices to extract: [0, 179, 359, 538, 718]\n",
      "Extracted 5 frames.\n"
     ]
    },
    {
     "name": "stderr",
     "output_type": "stream",
     "text": [
      "\n",
      "Processing Frames:   0%|          | 0/5 [00:00<?, ?it/s]\u001b[A\n",
      "Processing Frames:  20%|██        | 1/5 [00:02<00:11,  2.97s/it]\u001b[A\n",
      "Processing Frames:  40%|████      | 2/5 [00:06<00:09,  3.23s/it]\u001b[A\n",
      "Processing Frames:  60%|██████    | 3/5 [00:09<00:06,  3.32s/it]\u001b[A\n",
      "Processing Frames:  80%|████████  | 4/5 [00:12<00:03,  3.23s/it]\u001b[A\n",
      "Processing Frames: 100%|██████████| 5/5 [00:15<00:00,  3.19s/it]\u001b[A\n",
      "Processing Videos:   3%|▎         | 20/698 [06:24<3:27:58, 18.40s/it]"
     ]
    },
    {
     "name": "stdout",
     "output_type": "stream",
     "text": [
      "File Name: cochuoithichdi_35_7239255846620777734.mp4, File Size: 0.92 MB\n",
      "Total frames in video: 410\n",
      "Frame indices to extract: [0, 82, 164, 246, 328]\n",
      "Extracted 5 frames.\n"
     ]
    },
    {
     "name": "stderr",
     "output_type": "stream",
     "text": [
      "\n",
      "Processing Frames:   0%|          | 0/5 [00:00<?, ?it/s]\u001b[A\n",
      "Processing Frames:  20%|██        | 1/5 [00:03<00:15,  3.86s/it]\u001b[A\n",
      "Processing Frames:  40%|████      | 2/5 [00:07<00:10,  3.45s/it]\u001b[A\n",
      "Processing Frames:  60%|██████    | 3/5 [00:11<00:07,  3.95s/it]\u001b[A\n",
      "Processing Frames:  80%|████████  | 4/5 [00:14<00:03,  3.55s/it]\u001b[A\n",
      "Processing Frames: 100%|██████████| 5/5 [00:17<00:00,  3.48s/it]\u001b[A\n",
      "Processing Videos:   3%|▎         | 21/698 [06:43<3:31:22, 18.73s/it]"
     ]
    },
    {
     "name": "stdout",
     "output_type": "stream",
     "text": [
      "File Name: cozy..place_7290196590306823456.mp4, File Size: 8.42 MB\n",
      "Total frames in video: 1831\n",
      "Frame indices to extract: [0, 366, 732, 1098, 1464]\n",
      "Extracted 5 frames.\n"
     ]
    },
    {
     "name": "stderr",
     "output_type": "stream",
     "text": [
      "\n",
      "Processing Frames:   0%|          | 0/5 [00:00<?, ?it/s]\u001b[A\n",
      "Processing Frames:  20%|██        | 1/5 [00:03<00:12,  3.17s/it]\u001b[A\n",
      "Processing Frames:  40%|████      | 2/5 [00:06<00:09,  3.22s/it]\u001b[A\n",
      "Processing Frames:  60%|██████    | 3/5 [00:09<00:06,  3.24s/it]\u001b[A\n",
      "Processing Frames:  80%|████████  | 4/5 [00:13<00:03,  3.34s/it]\u001b[A\n",
      "Processing Frames: 100%|██████████| 5/5 [00:16<00:00,  3.29s/it]\u001b[A\n",
      "Processing Videos:   3%|▎         | 22/698 [07:02<3:29:48, 18.62s/it]"
     ]
    },
    {
     "name": "stdout",
     "output_type": "stream",
     "text": [
      "File Name: miyaevarenae_6960046938326584581.mp4, File Size: 11.17 MB\n",
      "Total frames in video: 1771\n",
      "Frame indices to extract: [0, 354, 708, 1062, 1416]\n",
      "Extracted 5 frames.\n"
     ]
    },
    {
     "name": "stderr",
     "output_type": "stream",
     "text": [
      "\n",
      "Processing Frames:   0%|          | 0/5 [00:00<?, ?it/s]\u001b[A\n",
      "Processing Frames:  20%|██        | 1/5 [00:05<00:20,  5.14s/it]\u001b[A\n",
      "Processing Frames:  40%|████      | 2/5 [00:08<00:11,  4.00s/it]\u001b[A\n",
      "Processing Frames:  60%|██████    | 3/5 [00:11<00:07,  3.74s/it]\u001b[A\n",
      "Processing Frames:  80%|████████  | 4/5 [00:15<00:03,  3.55s/it]\u001b[A\n",
      "Processing Frames: 100%|██████████| 5/5 [00:18<00:00,  3.76s/it]\u001b[A\n",
      "Processing Videos:   3%|▎         | 23/698 [07:22<3:35:56, 19.20s/it]"
     ]
    },
    {
     "name": "stdout",
     "output_type": "stream",
     "text": [
      "File Name: mochioday_7231065866882911493.mp4, File Size: 2.98 MB\n",
      "Total frames in video: 721\n",
      "Frame indices to extract: [0, 144, 288, 432, 576]\n",
      "Extracted 5 frames.\n"
     ]
    },
    {
     "name": "stderr",
     "output_type": "stream",
     "text": [
      "\n",
      "Processing Frames:   0%|          | 0/5 [00:00<?, ?it/s]\u001b[A\n",
      "Processing Frames:  20%|██        | 1/5 [00:03<00:13,  3.48s/it]\u001b[A\n",
      "Processing Frames:  40%|████      | 2/5 [00:06<00:10,  3.49s/it]\u001b[A\n",
      "Processing Frames:  60%|██████    | 3/5 [00:09<00:06,  3.21s/it]\u001b[A\n",
      "Processing Frames:  80%|████████  | 4/5 [00:13<00:03,  3.29s/it]\u001b[A\n",
      "Processing Frames: 100%|██████████| 5/5 [00:17<00:00,  3.48s/it]\u001b[A\n",
      "Processing Videos:   3%|▎         | 24/698 [07:42<3:36:31, 19.27s/it]"
     ]
    },
    {
     "name": "stdout",
     "output_type": "stream",
     "text": [
      "File Name: gocnhaclive_7127954090977398018.mp4, File Size: 4.46 MB\n",
      "File Name: colortour68_7308654973359901954.mp4, File Size: 7.21 MB\n",
      "Total frames in video: 846\n",
      "Frame indices to extract: [0, 169, 338, 507, 676]\n",
      "Extracted 5 frames.\n"
     ]
    },
    {
     "name": "stderr",
     "output_type": "stream",
     "text": [
      "\n",
      "Processing Frames:   0%|          | 0/5 [00:00<?, ?it/s]\u001b[A\n",
      "Processing Frames:  20%|██        | 1/5 [00:03<00:12,  3.13s/it]\u001b[A\n",
      "Processing Frames:  40%|████      | 2/5 [00:06<00:09,  3.22s/it]\u001b[A\n",
      "Processing Frames:  60%|██████    | 3/5 [00:09<00:06,  3.17s/it]\u001b[A\n",
      "Processing Frames:  80%|████████  | 4/5 [00:12<00:03,  3.20s/it]\u001b[A\n",
      "Processing Frames: 100%|██████████| 5/5 [00:16<00:00,  3.22s/it]\u001b[A\n",
      "Processing Videos:   4%|▎         | 26/698 [08:01<2:45:08, 14.74s/it]"
     ]
    },
    {
     "name": "stdout",
     "output_type": "stream",
     "text": [
      "File Name: a.meodepzai_7337910468230548737.mp4, File Size: 5.10 MB\n",
      "Total frames in video: 1060\n",
      "Frame indices to extract: [0, 212, 424, 636, 848]\n",
      "Extracted 5 frames.\n"
     ]
    },
    {
     "name": "stderr",
     "output_type": "stream",
     "text": [
      "\n",
      "Processing Frames:   0%|          | 0/5 [00:00<?, ?it/s]\u001b[A\n",
      "Processing Frames:  20%|██        | 1/5 [00:03<00:12,  3.10s/it]\u001b[A\n",
      "Processing Frames:  40%|████      | 2/5 [00:06<00:09,  3.10s/it]\u001b[A\n",
      "Processing Frames:  60%|██████    | 3/5 [00:10<00:07,  3.50s/it]\u001b[A\n",
      "Processing Frames:  80%|████████  | 4/5 [00:13<00:03,  3.39s/it]\u001b[A\n",
      "Processing Frames: 100%|██████████| 5/5 [00:16<00:00,  3.31s/it]\u001b[A\n",
      "Processing Videos:   4%|▍         | 27/698 [08:20<2:56:23, 15.77s/it]"
     ]
    },
    {
     "name": "stdout",
     "output_type": "stream",
     "text": [
      "File Name: anden75_7348426559272815893.mp4, File Size: 5.01 MB\n",
      "Total frames in video: 1182\n",
      "Frame indices to extract: [0, 236, 472, 709, 945]\n",
      "Extracted 5 frames.\n"
     ]
    },
    {
     "name": "stderr",
     "output_type": "stream",
     "text": [
      "\n",
      "Processing Frames:   0%|          | 0/5 [00:00<?, ?it/s]\u001b[A\n",
      "Processing Frames:  20%|██        | 1/5 [00:03<00:13,  3.30s/it]\u001b[A\n",
      "Processing Frames:  40%|████      | 2/5 [00:06<00:09,  3.26s/it]\u001b[A\n",
      "Processing Frames:  60%|██████    | 3/5 [00:09<00:06,  3.27s/it]\u001b[A\n",
      "Processing Frames:  80%|████████  | 4/5 [00:13<00:03,  3.26s/it]\u001b[A\n",
      "Processing Frames: 100%|██████████| 5/5 [00:16<00:00,  3.26s/it]\u001b[A\n",
      "Processing Videos:   4%|▍         | 28/698 [08:38<3:04:01, 16.48s/it]"
     ]
    },
    {
     "name": "stdout",
     "output_type": "stream",
     "text": [
      "File Name: hihihaha6668_7349221381340450066.mp4, File Size: 10.10 MB\n",
      "Total frames in video: 1936\n",
      "Frame indices to extract: [0, 387, 774, 1161, 1548]\n",
      "Extracted 5 frames.\n"
     ]
    },
    {
     "name": "stderr",
     "output_type": "stream",
     "text": [
      "\n",
      "Processing Frames:   0%|          | 0/5 [00:00<?, ?it/s]\u001b[A\n",
      "Processing Frames:  20%|██        | 1/5 [00:03<00:12,  3.12s/it]\u001b[A\n",
      "Processing Frames:  40%|████      | 2/5 [00:07<00:10,  3.57s/it]\u001b[A\n",
      "Processing Frames:  60%|██████    | 3/5 [00:10<00:06,  3.37s/it]\u001b[A\n",
      "Processing Frames:  80%|████████  | 4/5 [00:13<00:03,  3.38s/it]\u001b[A\n",
      "Processing Frames: 100%|██████████| 5/5 [00:17<00:00,  3.47s/it]\u001b[A\n",
      "Processing Videos:   4%|▍         | 29/698 [08:58<3:13:51, 17.39s/it]"
     ]
    },
    {
     "name": "stdout",
     "output_type": "stream",
     "text": [
      "File Name: miistory__7343978054886100245.mp4, File Size: 10.53 MB\n",
      "Total frames in video: 1616\n",
      "Frame indices to extract: [0, 323, 646, 969, 1292]\n",
      "Extracted 5 frames.\n"
     ]
    },
    {
     "name": "stderr",
     "output_type": "stream",
     "text": [
      "\n",
      "Processing Frames:   0%|          | 0/5 [00:00<?, ?it/s]\u001b[A\n",
      "Processing Frames:  20%|██        | 1/5 [00:04<00:19,  4.91s/it]\u001b[A\n",
      "Processing Frames:  40%|████      | 2/5 [00:07<00:10,  3.39s/it]\u001b[A\n",
      "Processing Frames:  60%|██████    | 3/5 [00:10<00:06,  3.44s/it]\u001b[A\n",
      "Processing Frames:  80%|████████  | 4/5 [00:15<00:04,  4.00s/it]\u001b[A\n",
      "Processing Frames: 100%|██████████| 5/5 [00:19<00:00,  3.98s/it]\u001b[A\n",
      "Processing Videos:   4%|▍         | 30/698 [09:20<3:27:15, 18.62s/it]"
     ]
    },
    {
     "name": "stdout",
     "output_type": "stream",
     "text": [
      "File Name: chuoichienthimasterchef_7361807151481834784.mp4, File Size: 12.22 MB\n",
      "Total frames in video: 1891\n",
      "Frame indices to extract: [0, 378, 756, 1134, 1512]\n",
      "Extracted 5 frames.\n"
     ]
    },
    {
     "name": "stderr",
     "output_type": "stream",
     "text": [
      "\n",
      "Processing Frames:   0%|          | 0/5 [00:00<?, ?it/s]\u001b[A\n",
      "Processing Frames:  20%|██        | 1/5 [00:03<00:14,  3.64s/it]\u001b[A\n",
      "Processing Frames:  40%|████      | 2/5 [00:07<00:10,  3.56s/it]\u001b[A\n",
      "Processing Frames:  60%|██████    | 3/5 [00:10<00:06,  3.50s/it]\u001b[A\n",
      "Processing Frames:  80%|████████  | 4/5 [00:13<00:03,  3.32s/it]\u001b[A\n",
      "Processing Frames: 100%|██████████| 5/5 [00:17<00:00,  3.42s/it]\u001b[A\n",
      "Processing Videos:   4%|▍         | 31/698 [09:38<3:27:20, 18.65s/it]"
     ]
    },
    {
     "name": "stdout",
     "output_type": "stream",
     "text": [
      "File Name: trapvel__7258622212234661126.mp4, File Size: 4.56 MB\n",
      "Total frames in video: 366\n",
      "Frame indices to extract: [0, 73, 146, 219, 292]\n",
      "Extracted 5 frames.\n"
     ]
    },
    {
     "name": "stderr",
     "output_type": "stream",
     "text": [
      "\n",
      "Processing Frames:   0%|          | 0/5 [00:00<?, ?it/s]\u001b[A\n",
      "Processing Frames:  20%|██        | 1/5 [00:03<00:13,  3.28s/it]\u001b[A\n",
      "Processing Frames:  40%|████      | 2/5 [00:06<00:09,  3.15s/it]\u001b[A\n",
      "Processing Frames:  60%|██████    | 3/5 [00:10<00:07,  3.73s/it]\u001b[A\n",
      "Processing Frames:  80%|████████  | 4/5 [00:13<00:03,  3.49s/it]\u001b[A\n",
      "Processing Frames: 100%|██████████| 5/5 [00:17<00:00,  3.51s/it]\u001b[A\n",
      "Processing Videos:   5%|▍         | 32/698 [09:59<3:31:48, 19.08s/it]"
     ]
    },
    {
     "name": "stdout",
     "output_type": "stream",
     "text": [
      "File Name: colortour68_7274814942719610113.mp4, File Size: 4.31 MB\n",
      "Total frames in video: 957\n",
      "Frame indices to extract: [0, 191, 382, 574, 765]\n",
      "Extracted 5 frames.\n"
     ]
    },
    {
     "name": "stderr",
     "output_type": "stream",
     "text": [
      "\n",
      "Processing Frames:   0%|          | 0/5 [00:00<?, ?it/s]\u001b[A\n",
      "Processing Frames:  20%|██        | 1/5 [00:03<00:12,  3.11s/it]\u001b[A\n",
      "Processing Frames:  40%|████      | 2/5 [00:06<00:09,  3.29s/it]\u001b[A\n",
      "Processing Frames:  60%|██████    | 3/5 [00:11<00:08,  4.04s/it]\u001b[A\n",
      "Processing Frames:  80%|████████  | 4/5 [00:14<00:03,  3.72s/it]\u001b[A\n",
      "Processing Frames: 100%|██████████| 5/5 [00:18<00:00,  3.74s/it]\u001b[A\n",
      "Processing Videos:   5%|▍         | 33/698 [10:20<3:37:58, 19.67s/it]"
     ]
    },
    {
     "name": "stdout",
     "output_type": "stream",
     "text": [
      "File Name: meowisthebest1_7119145758741237019.mp4, File Size: 15.64 MB\n",
      "Total frames in video: 2087\n",
      "Frame indices to extract: [0, 417, 834, 1252, 1669]\n",
      "Extracted 5 frames.\n"
     ]
    },
    {
     "name": "stderr",
     "output_type": "stream",
     "text": [
      "\n",
      "Processing Frames:   0%|          | 0/5 [00:00<?, ?it/s]\u001b[A\n",
      "Processing Frames:  20%|██        | 1/5 [00:04<00:18,  4.63s/it]\u001b[A\n",
      "Processing Frames:  40%|████      | 2/5 [00:07<00:11,  3.74s/it]\u001b[A\n",
      "Processing Frames:  60%|██████    | 3/5 [00:10<00:06,  3.44s/it]\u001b[A\n",
      "Processing Frames:  80%|████████  | 4/5 [00:14<00:03,  3.43s/it]\u001b[A\n",
      "Processing Frames: 100%|██████████| 5/5 [00:17<00:00,  3.54s/it]\u001b[A\n",
      "Processing Videos:   5%|▍         | 34/698 [10:39<3:37:55, 19.69s/it]"
     ]
    },
    {
     "name": "stdout",
     "output_type": "stream",
     "text": [
      "File Name: matngottv_6855596413087141122.mp4, File Size: 20.81 MB\n",
      "Total frames in video: 2823\n",
      "Frame indices to extract: [0, 564, 1129, 1693, 2258]\n",
      "Extracted 5 frames.\n"
     ]
    },
    {
     "name": "stderr",
     "output_type": "stream",
     "text": [
      "\n",
      "Processing Frames:   0%|          | 0/5 [00:00<?, ?it/s]\u001b[A\n",
      "Processing Frames:  20%|██        | 1/5 [00:03<00:13,  3.45s/it]\u001b[A\n",
      "Processing Frames:  40%|████      | 2/5 [00:06<00:10,  3.46s/it]\u001b[A\n",
      "Processing Frames:  60%|██████    | 3/5 [00:10<00:06,  3.44s/it]\u001b[A\n",
      "Processing Frames:  80%|████████  | 4/5 [00:13<00:03,  3.46s/it]\u001b[A\n",
      "Processing Frames: 100%|██████████| 5/5 [00:17<00:00,  3.54s/it]\u001b[A\n",
      "Processing Videos:   5%|▌         | 35/698 [10:59<3:38:15, 19.75s/it]"
     ]
    },
    {
     "name": "stdout",
     "output_type": "stream",
     "text": [
      "File Name: yeubien_6810274834073865474.mp4, File Size: 12.31 MB\n",
      "Total frames in video: 865\n",
      "Frame indices to extract: [0, 173, 346, 519, 692]\n",
      "Extracted 5 frames.\n"
     ]
    },
    {
     "name": "stderr",
     "output_type": "stream",
     "text": [
      "\n",
      "Processing Frames:   0%|          | 0/5 [00:00<?, ?it/s]\u001b[A\n",
      "Processing Frames:  20%|██        | 1/5 [00:02<00:10,  2.53s/it]\u001b[A\n",
      "Processing Frames:  40%|████      | 2/5 [00:05<00:08,  2.83s/it]\u001b[A\n",
      "Processing Frames:  60%|██████    | 3/5 [00:08<00:05,  2.95s/it]\u001b[A\n",
      "Processing Frames:  80%|████████  | 4/5 [00:11<00:03,  3.06s/it]\u001b[A\n",
      "Processing Frames: 100%|██████████| 5/5 [00:15<00:00,  3.06s/it]\u001b[A\n",
      "Processing Videos:   5%|▌         | 36/698 [11:17<3:29:40, 19.00s/it]"
     ]
    },
    {
     "name": "stdout",
     "output_type": "stream",
     "text": [
      "File Name: maphayke_7313907173979950344.mp4, File Size: 15.92 MB\n",
      "Total frames in video: 1971\n",
      "Frame indices to extract: [0, 394, 788, 1182, 1576]\n",
      "Extracted 5 frames.\n"
     ]
    },
    {
     "name": "stderr",
     "output_type": "stream",
     "text": [
      "\n",
      "Processing Frames:   0%|          | 0/5 [00:00<?, ?it/s]\u001b[A\n",
      "Processing Frames:  20%|██        | 1/5 [00:03<00:12,  3.24s/it]\u001b[A\n",
      "Processing Frames:  40%|████      | 2/5 [00:06<00:10,  3.35s/it]\u001b[A\n",
      "Processing Frames:  60%|██████    | 3/5 [00:11<00:07,  3.95s/it]\u001b[A\n",
      "Processing Frames:  80%|████████  | 4/5 [00:14<00:03,  3.66s/it]\u001b[A\n",
      "Processing Frames: 100%|██████████| 5/5 [00:17<00:00,  3.52s/it]\u001b[A\n",
      "Processing Videos:   5%|▌         | 37/698 [11:36<3:32:15, 19.27s/it]"
     ]
    },
    {
     "name": "stdout",
     "output_type": "stream",
     "text": [
      "File Name: huyenttn2.97_7251249054573661445.mp4, File Size: 1.20 MB\n",
      "Total frames in video: 309\n",
      "Frame indices to extract: [0, 61, 123, 185, 247]\n",
      "Extracted 5 frames.\n"
     ]
    },
    {
     "name": "stderr",
     "output_type": "stream",
     "text": [
      "\n",
      "Processing Frames:   0%|          | 0/5 [00:00<?, ?it/s]\u001b[A\n",
      "Processing Frames:  20%|██        | 1/5 [00:03<00:13,  3.26s/it]\u001b[A\n",
      "Processing Frames:  40%|████      | 2/5 [00:06<00:09,  3.24s/it]\u001b[A\n",
      "Processing Frames:  60%|██████    | 3/5 [00:09<00:06,  3.25s/it]\u001b[A\n",
      "Processing Frames:  80%|████████  | 4/5 [00:13<00:03,  3.39s/it]\u001b[A\n",
      "Processing Frames: 100%|██████████| 5/5 [00:16<00:00,  3.39s/it]\u001b[A\n",
      "Processing Videos:   5%|▌         | 38/698 [11:56<3:31:56, 19.27s/it]"
     ]
    },
    {
     "name": "stdout",
     "output_type": "stream",
     "text": [
      "File Name: bombom_vlog_7366966429217852679.mp4, File Size: 68.40 MB\n",
      "Total frames in video: 13601\n",
      "Frame indices to extract: [0, 2720, 5440, 8160, 10880]\n",
      "Extracted 5 frames.\n"
     ]
    },
    {
     "name": "stderr",
     "output_type": "stream",
     "text": [
      "\n",
      "Processing Frames:   0%|          | 0/5 [00:00<?, ?it/s]\u001b[A\n",
      "Processing Frames:  20%|██        | 1/5 [00:03<00:15,  3.94s/it]\u001b[A\n",
      "Processing Frames:  40%|████      | 2/5 [00:07<00:10,  3.57s/it]\u001b[A\n",
      "Processing Frames:  60%|██████    | 3/5 [00:10<00:06,  3.44s/it]\u001b[A\n",
      "Processing Frames:  80%|████████  | 4/5 [00:13<00:03,  3.28s/it]\u001b[A\n",
      "Processing Frames: 100%|██████████| 5/5 [00:16<00:00,  3.36s/it]\u001b[A\n",
      "Processing Videos:   6%|▌         | 39/698 [12:15<3:31:19, 19.24s/it]"
     ]
    },
    {
     "name": "stdout",
     "output_type": "stream",
     "text": [
      "File Name: nhaganbien_6811848921128783105.mp4, File Size: 6.35 MB\n",
      "Total frames in video: 495\n",
      "Frame indices to extract: [0, 99, 198, 297, 396]\n",
      "Extracted 5 frames.\n"
     ]
    },
    {
     "name": "stderr",
     "output_type": "stream",
     "text": [
      "\n",
      "Processing Frames:   0%|          | 0/5 [00:00<?, ?it/s]\u001b[A\n",
      "Processing Frames:  20%|██        | 1/5 [00:03<00:14,  3.51s/it]\u001b[A\n",
      "Processing Frames:  40%|████      | 2/5 [00:06<00:10,  3.46s/it]\u001b[A\n",
      "Processing Frames:  60%|██████    | 3/5 [00:10<00:06,  3.36s/it]\u001b[A\n",
      "Processing Frames:  80%|████████  | 4/5 [00:13<00:03,  3.19s/it]\u001b[A\n",
      "Processing Frames: 100%|██████████| 5/5 [00:17<00:00,  3.47s/it]\u001b[A\n",
      "Processing Videos:   6%|▌         | 40/698 [12:34<3:31:29, 19.29s/it]"
     ]
    },
    {
     "name": "stdout",
     "output_type": "stream",
     "text": [
      "File Name: connhcruz_6990513920259804442.mp4, File Size: 23.57 MB\n",
      "Total frames in video: 3962\n",
      "Frame indices to extract: [0, 792, 1584, 2377, 3169]\n",
      "Extracted 5 frames.\n"
     ]
    },
    {
     "name": "stderr",
     "output_type": "stream",
     "text": [
      "\n",
      "Processing Frames:   0%|          | 0/5 [00:00<?, ?it/s]\u001b[A\n",
      "Processing Frames:  20%|██        | 1/5 [00:03<00:15,  3.88s/it]\u001b[A\n",
      "Processing Frames:  40%|████      | 2/5 [00:06<00:10,  3.39s/it]\u001b[A\n",
      "Processing Frames:  60%|██████    | 3/5 [00:10<00:06,  3.31s/it]\u001b[A\n",
      "Processing Frames:  80%|████████  | 4/5 [00:13<00:03,  3.23s/it]\u001b[A\n",
      "Processing Frames: 100%|██████████| 5/5 [00:16<00:00,  3.30s/it]\u001b[A\n",
      "Processing Videos:   6%|▌         | 41/698 [12:53<3:27:55, 18.99s/it]"
     ]
    },
    {
     "name": "stdout",
     "output_type": "stream",
     "text": [
      "File Name: meohoangdep_7042661139540364545.mp4, File Size: 1.95 MB\n",
      "Total frames in video: 410\n",
      "Frame indices to extract: [0, 82, 164, 246, 328]\n",
      "Extracted 5 frames.\n"
     ]
    },
    {
     "name": "stderr",
     "output_type": "stream",
     "text": [
      "\n",
      "Processing Frames:   0%|          | 0/5 [00:00<?, ?it/s]\u001b[A\n",
      "Processing Frames:  20%|██        | 1/5 [00:03<00:12,  3.08s/it]\u001b[A\n",
      "Processing Frames:  40%|████      | 2/5 [00:06<00:09,  3.08s/it]\u001b[A\n",
      "Processing Frames:  60%|██████    | 3/5 [00:08<00:05,  2.91s/it]\u001b[A\n",
      "Processing Frames:  80%|████████  | 4/5 [00:12<00:03,  3.14s/it]\u001b[A\n",
      "Processing Frames: 100%|██████████| 5/5 [00:15<00:00,  3.17s/it]\u001b[A\n",
      "Processing Videos:   6%|▌         | 42/698 [13:10<3:23:36, 18.62s/it]"
     ]
    },
    {
     "name": "stdout",
     "output_type": "stream",
     "text": [
      "File Name: halinhofficial_7337298387382897938.mp4, File Size: 6.83 MB\n",
      "Total frames in video: 2391\n",
      "Frame indices to extract: [0, 478, 956, 1434, 1912]\n",
      "Extracted 5 frames.\n"
     ]
    },
    {
     "name": "stderr",
     "output_type": "stream",
     "text": [
      "\n",
      "Processing Frames:   0%|          | 0/5 [00:00<?, ?it/s]\u001b[A\n",
      "Processing Frames:  20%|██        | 1/5 [00:03<00:13,  3.44s/it]\u001b[A\n",
      "Processing Frames:  40%|████      | 2/5 [00:06<00:09,  3.24s/it]\u001b[A\n",
      "Processing Frames:  60%|██████    | 3/5 [00:09<00:06,  3.32s/it]\u001b[A\n",
      "Processing Frames:  80%|████████  | 4/5 [00:13<00:03,  3.36s/it]\u001b[A\n",
      "Processing Frames: 100%|██████████| 5/5 [00:16<00:00,  3.33s/it]\u001b[A\n",
      "Processing Videos:   6%|▌         | 43/698 [13:29<3:22:38, 18.56s/it]"
     ]
    },
    {
     "name": "stdout",
     "output_type": "stream",
     "text": [
      "File Name: babykopohome_6813185928484408577.mp4, File Size: 11.89 MB\n",
      "Total frames in video: 1771\n",
      "Frame indices to extract: [0, 354, 708, 1062, 1416]\n",
      "Extracted 5 frames.\n"
     ]
    },
    {
     "name": "stderr",
     "output_type": "stream",
     "text": [
      "\n",
      "Processing Frames:   0%|          | 0/5 [00:00<?, ?it/s]\u001b[A\n",
      "Processing Frames:  20%|██        | 1/5 [00:02<00:11,  2.90s/it]\u001b[A\n",
      "Processing Frames:  40%|████      | 2/5 [00:06<00:09,  3.29s/it]\u001b[A\n",
      "Processing Frames:  60%|██████    | 3/5 [00:10<00:07,  3.56s/it]\u001b[A\n",
      "Processing Frames:  80%|████████  | 4/5 [00:13<00:03,  3.36s/it]\u001b[A\n",
      "Processing Frames: 100%|██████████| 5/5 [00:16<00:00,  3.29s/it]\u001b[A\n",
      "Processing Videos:   6%|▋         | 44/698 [13:47<3:20:42, 18.41s/it]"
     ]
    },
    {
     "name": "stdout",
     "output_type": "stream",
     "text": [
      "File Name: vietcungmenano_7309713253230185730.mp4, File Size: 3.33 MB\n",
      "Total frames in video: 692\n",
      "Frame indices to extract: [0, 138, 276, 415, 553]\n",
      "Extracted 5 frames.\n"
     ]
    },
    {
     "name": "stderr",
     "output_type": "stream",
     "text": [
      "\n",
      "Processing Frames:   0%|          | 0/5 [00:00<?, ?it/s]\u001b[A\n",
      "Processing Frames:  20%|██        | 1/5 [00:03<00:13,  3.43s/it]\u001b[A\n",
      "Processing Frames:  40%|████      | 2/5 [00:06<00:09,  3.31s/it]\u001b[A\n",
      "Processing Frames:  60%|██████    | 3/5 [00:09<00:06,  3.30s/it]\u001b[A\n",
      "Processing Frames:  80%|████████  | 4/5 [00:13<00:03,  3.28s/it]\u001b[A\n",
      "Processing Frames: 100%|██████████| 5/5 [00:16<00:00,  3.31s/it]\u001b[A\n",
      "Processing Videos:   6%|▋         | 45/698 [14:06<3:22:21, 18.59s/it]"
     ]
    },
    {
     "name": "stdout",
     "output_type": "stream",
     "text": [
      "File Name: vietphuongthoa98_7369954532769516817.mp4, File Size: 52.18 MB\n",
      "Total frames in video: 10125\n",
      "Frame indices to extract: [0, 2025, 4050, 6075, 8100]\n",
      "Extracted 5 frames.\n"
     ]
    },
    {
     "name": "stderr",
     "output_type": "stream",
     "text": [
      "\n",
      "Processing Frames:   0%|          | 0/5 [00:00<?, ?it/s]\u001b[A\n",
      "Processing Frames:  20%|██        | 1/5 [00:03<00:15,  3.83s/it]\u001b[A\n",
      "Processing Frames:  40%|████      | 2/5 [00:07<00:10,  3.56s/it]\u001b[A\n",
      "Processing Frames:  60%|██████    | 3/5 [00:10<00:07,  3.51s/it]\u001b[A\n",
      "Processing Frames:  80%|████████  | 4/5 [00:14<00:03,  3.55s/it]\u001b[A\n",
      "Processing Frames: 100%|██████████| 5/5 [00:17<00:00,  3.53s/it]\u001b[A\n",
      "Processing Videos:   7%|▋         | 46/698 [14:26<3:26:49, 19.03s/it]"
     ]
    },
    {
     "name": "stdout",
     "output_type": "stream",
     "text": [
      "File Name: cleanwithnessa_6990711448980770050.mp4, File Size: 8.86 MB\n",
      "Total frames in video: 1291\n",
      "Frame indices to extract: [0, 258, 516, 774, 1032]\n",
      "Extracted 5 frames.\n"
     ]
    },
    {
     "name": "stderr",
     "output_type": "stream",
     "text": [
      "\n",
      "Processing Frames:   0%|          | 0/5 [00:00<?, ?it/s]\u001b[A\n",
      "Processing Frames:  20%|██        | 1/5 [00:04<00:19,  4.98s/it]\u001b[A\n",
      "Processing Frames:  40%|████      | 2/5 [00:08<00:11,  3.96s/it]\u001b[A\n",
      "Processing Frames:  60%|██████    | 3/5 [00:11<00:07,  3.57s/it]\u001b[A\n",
      "Processing Frames:  80%|████████  | 4/5 [00:14<00:03,  3.52s/it]\u001b[A\n",
      "Processing Frames: 100%|██████████| 5/5 [00:19<00:00,  3.88s/it]\u001b[A\n",
      "Processing Videos:   7%|▋         | 47/698 [14:47<3:34:24, 19.76s/it]"
     ]
    },
    {
     "name": "stdout",
     "output_type": "stream",
     "text": [
      "File Name: colortour68_7361787930509167889.mp4, File Size: 6.85 MB\n",
      "Total frames in video: 610\n",
      "Frame indices to extract: [0, 122, 244, 366, 488]\n",
      "Extracted 5 frames.\n"
     ]
    },
    {
     "name": "stderr",
     "output_type": "stream",
     "text": [
      "\n",
      "Processing Frames:   0%|          | 0/5 [00:00<?, ?it/s]\u001b[A\n",
      "Processing Frames:  20%|██        | 1/5 [00:03<00:13,  3.29s/it]\u001b[A\n",
      "Processing Frames:  40%|████      | 2/5 [00:06<00:09,  3.04s/it]\u001b[A\n",
      "Processing Frames:  60%|██████    | 3/5 [00:09<00:06,  3.30s/it]\u001b[A\n",
      "Processing Frames:  80%|████████  | 4/5 [00:13<00:03,  3.42s/it]\u001b[A\n",
      "Processing Frames: 100%|██████████| 5/5 [00:16<00:00,  3.28s/it]\u001b[A\n",
      "Processing Videos:   7%|▋         | 48/698 [15:07<3:32:32, 19.62s/it]"
     ]
    },
    {
     "name": "stdout",
     "output_type": "stream",
     "text": [
      "File Name: linhcuuhoadaily_7284967729046605058.mp4, File Size: 8.77 MB\n",
      "Total frames in video: 1044\n",
      "Frame indices to extract: [0, 208, 417, 626, 835]\n",
      "Extracted 5 frames.\n"
     ]
    },
    {
     "name": "stderr",
     "output_type": "stream",
     "text": [
      "\n",
      "Processing Frames:   0%|          | 0/5 [00:00<?, ?it/s]\u001b[A\n",
      "Processing Frames:  20%|██        | 1/5 [00:02<00:11,  2.91s/it]\u001b[A\n",
      "Processing Frames:  40%|████      | 2/5 [00:07<00:11,  3.82s/it]\u001b[A\n",
      "Processing Frames:  60%|██████    | 3/5 [00:11<00:07,  3.96s/it]\u001b[A\n",
      "Processing Frames:  80%|████████  | 4/5 [00:14<00:03,  3.60s/it]\u001b[A\n",
      "Processing Frames: 100%|██████████| 5/5 [00:18<00:00,  3.74s/it]\u001b[A\n",
      "Processing Videos:   7%|▋         | 49/698 [15:28<3:37:46, 20.13s/it]"
     ]
    },
    {
     "name": "stdout",
     "output_type": "stream",
     "text": [
      "File Name: tieucici05_7121244550475074843.mp4, File Size: 2.42 MB\n",
      "Total frames in video: 919\n",
      "Frame indices to extract: [0, 183, 367, 551, 735]\n",
      "Extracted 5 frames.\n"
     ]
    },
    {
     "name": "stderr",
     "output_type": "stream",
     "text": [
      "\n",
      "Processing Frames:   0%|          | 0/5 [00:00<?, ?it/s]\u001b[A\n",
      "Processing Frames:  20%|██        | 1/5 [00:03<00:14,  3.63s/it]\u001b[A\n",
      "Processing Frames:  40%|████      | 2/5 [00:06<00:09,  3.28s/it]\u001b[A\n",
      "Processing Frames:  60%|██████    | 3/5 [00:09<00:06,  3.28s/it]\u001b[A\n",
      "Processing Frames:  80%|████████  | 4/5 [00:13<00:03,  3.33s/it]\u001b[A\n",
      "Processing Frames: 100%|██████████| 5/5 [00:17<00:00,  3.43s/it]\u001b[A\n",
      "Processing Videos:   7%|▋         | 50/698 [15:47<3:33:45, 19.79s/it]"
     ]
    },
    {
     "name": "stdout",
     "output_type": "stream",
     "text": [
      "File Name: musicradio365_7234182410374499590.mp4, File Size: 9.65 MB\n",
      "Total frames in video: 1539\n",
      "Frame indices to extract: [0, 307, 615, 923, 1231]\n",
      "Extracted 5 frames.\n"
     ]
    },
    {
     "name": "stderr",
     "output_type": "stream",
     "text": [
      "\n",
      "Processing Frames:   0%|          | 0/5 [00:00<?, ?it/s]\u001b[A\n",
      "Processing Frames:  20%|██        | 1/5 [00:04<00:16,  4.12s/it]\u001b[A\n",
      "Processing Frames:  40%|████      | 2/5 [00:07<00:10,  3.50s/it]\u001b[A\n",
      "Processing Frames:  60%|██████    | 3/5 [00:11<00:07,  3.81s/it]\u001b[A\n",
      "Processing Frames:  80%|████████  | 4/5 [00:14<00:03,  3.59s/it]\u001b[A\n",
      "Processing Frames: 100%|██████████| 5/5 [00:17<00:00,  3.54s/it]\u001b[A\n",
      "Processing Videos:   7%|▋         | 51/698 [16:06<3:32:22, 19.70s/it]"
     ]
    },
    {
     "name": "stdout",
     "output_type": "stream",
     "text": [
      "File Name: bombom_vlog_7369963125552205063.mp4, File Size: 119.87 MB\n",
      "Total frames in video: 23906\n",
      "Frame indices to extract: [0, 4781, 9562, 14343, 19124]\n",
      "Extracted 5 frames.\n"
     ]
    },
    {
     "name": "stderr",
     "output_type": "stream",
     "text": [
      "\n",
      "Processing Frames:   0%|          | 0/5 [00:00<?, ?it/s]\u001b[A\n",
      "Processing Frames:  20%|██        | 1/5 [00:03<00:12,  3.11s/it]\u001b[A\n",
      "Processing Frames:  40%|████      | 2/5 [00:06<00:09,  3.30s/it]\u001b[A\n",
      "Processing Frames:  60%|██████    | 3/5 [00:09<00:06,  3.22s/it]\u001b[A\n",
      "Processing Frames:  80%|████████  | 4/5 [00:13<00:03,  3.32s/it]\u001b[A\n",
      "Processing Frames: 100%|██████████| 5/5 [00:16<00:00,  3.35s/it]\u001b[A\n",
      "Processing Videos:   7%|▋         | 52/698 [16:26<3:30:36, 19.56s/it]"
     ]
    },
    {
     "name": "stdout",
     "output_type": "stream",
     "text": [
      "File Name: hanoiangi_7259316353348177153.mp4, File Size: 23.10 MB\n",
      "Total frames in video: 2561\n",
      "Frame indices to extract: [0, 512, 1024, 1536, 2048]\n",
      "Extracted 5 frames.\n"
     ]
    },
    {
     "name": "stderr",
     "output_type": "stream",
     "text": [
      "\n",
      "Processing Frames:   0%|          | 0/5 [00:00<?, ?it/s]\u001b[A\n",
      "Processing Frames:  20%|██        | 1/5 [00:03<00:12,  3.14s/it]\u001b[A\n",
      "Processing Frames:  40%|████      | 2/5 [00:05<00:08,  2.67s/it]\u001b[A\n",
      "Processing Frames:  60%|██████    | 3/5 [00:08<00:05,  2.84s/it]\u001b[A\n",
      "Processing Frames:  80%|████████  | 4/5 [00:12<00:03,  3.23s/it]\u001b[A\n",
      "Processing Frames: 100%|██████████| 5/5 [00:15<00:00,  3.19s/it]\u001b[A\n",
      "Processing Videos:   8%|▊         | 53/698 [16:44<3:24:41, 19.04s/it]"
     ]
    },
    {
     "name": "stdout",
     "output_type": "stream",
     "text": [
      "File Name: _babiesoftiktok_7261076375606463746.mp4, File Size: 5.81 MB\n",
      "Total frames in video: 1234\n",
      "Frame indices to extract: [0, 246, 493, 740, 987]\n",
      "Extracted 5 frames.\n"
     ]
    },
    {
     "name": "stderr",
     "output_type": "stream",
     "text": [
      "\n",
      "Processing Frames:   0%|          | 0/5 [00:00<?, ?it/s]\u001b[A\n",
      "Processing Frames:  20%|██        | 1/5 [00:03<00:12,  3.14s/it]\u001b[A\n",
      "Processing Frames:  40%|████      | 2/5 [00:06<00:09,  3.20s/it]\u001b[A\n",
      "Processing Frames:  60%|██████    | 3/5 [00:10<00:07,  3.77s/it]\u001b[A\n",
      "Processing Frames:  80%|████████  | 4/5 [00:13<00:03,  3.51s/it]\u001b[A\n",
      "Processing Frames: 100%|██████████| 5/5 [00:17<00:00,  3.55s/it]\u001b[A\n",
      "Processing Videos:   8%|▊         | 54/698 [17:03<3:26:19, 19.22s/it]"
     ]
    },
    {
     "name": "stdout",
     "output_type": "stream",
     "text": [
      "File Name: bongwtok_7323586957366414599.mp4, File Size: 5.09 MB\n",
      "Total frames in video: 494\n",
      "Frame indices to extract: [0, 98, 197, 296, 395]\n",
      "Extracted 5 frames.\n"
     ]
    },
    {
     "name": "stderr",
     "output_type": "stream",
     "text": [
      "\n",
      "Processing Frames:   0%|          | 0/5 [00:00<?, ?it/s]\u001b[A\n",
      "Processing Frames:  20%|██        | 1/5 [00:03<00:13,  3.33s/it]\u001b[A\n",
      "Processing Frames:  40%|████      | 2/5 [00:07<00:11,  3.79s/it]\u001b[A\n",
      "Processing Frames:  60%|██████    | 3/5 [00:10<00:07,  3.53s/it]\u001b[A\n",
      "Processing Frames:  80%|████████  | 4/5 [00:13<00:03,  3.28s/it]\u001b[A\n",
      "Processing Frames: 100%|██████████| 5/5 [00:16<00:00,  3.36s/it]\u001b[A\n",
      "Processing Videos:   8%|▊         | 55/698 [17:22<3:25:14, 19.15s/it]"
     ]
    },
    {
     "name": "stdout",
     "output_type": "stream",
     "text": [
      "File Name: kyucngoisao.official_6962010403341667585.mp4, File Size: 10.46 MB\n",
      "Total frames in video: 2727\n",
      "Frame indices to extract: [0, 545, 1090, 1636, 2181]\n",
      "Extracted 5 frames.\n"
     ]
    },
    {
     "name": "stderr",
     "output_type": "stream",
     "text": [
      "\n",
      "Processing Frames:   0%|          | 0/5 [00:00<?, ?it/s]\u001b[A\n",
      "Processing Frames:  20%|██        | 1/5 [00:03<00:13,  3.35s/it]\u001b[A\n",
      "Processing Frames:  40%|████      | 2/5 [00:07<00:11,  3.91s/it]\u001b[A\n",
      "Processing Frames:  60%|██████    | 3/5 [00:10<00:07,  3.59s/it]\u001b[A\n",
      "Processing Frames:  80%|████████  | 4/5 [00:14<00:03,  3.44s/it]\u001b[A\n",
      "Processing Frames: 100%|██████████| 5/5 [00:18<00:00,  3.65s/it]\u001b[A\n",
      "Processing Videos:   8%|▊         | 56/698 [17:42<3:27:52, 19.43s/it]"
     ]
    },
    {
     "name": "stdout",
     "output_type": "stream",
     "text": [
      "File Name: maythangtuw_7218592081617472794.mp4, File Size: 13.31 MB\n",
      "Total frames in video: 2222\n",
      "Frame indices to extract: [0, 444, 888, 1333, 1777]\n",
      "Extracted 5 frames.\n"
     ]
    },
    {
     "name": "stderr",
     "output_type": "stream",
     "text": [
      "\n",
      "Processing Frames:   0%|          | 0/5 [00:00<?, ?it/s]\u001b[A\n",
      "Processing Frames:  20%|██        | 1/5 [00:03<00:14,  3.64s/it]\u001b[A\n",
      "Processing Frames:  40%|████      | 2/5 [00:07<00:10,  3.63s/it]\u001b[A\n",
      "Processing Frames:  60%|██████    | 3/5 [00:10<00:06,  3.27s/it]\u001b[A\n",
      "Processing Frames:  80%|████████  | 4/5 [00:13<00:03,  3.32s/it]\u001b[A\n",
      "Processing Frames: 100%|██████████| 5/5 [00:17<00:00,  3.56s/it]\u001b[A\n",
      "Processing Videos:   8%|▊         | 57/698 [18:02<3:29:13, 19.58s/it]"
     ]
    },
    {
     "name": "stdout",
     "output_type": "stream",
     "text": [
      "File Name: _quynhfng_7306929114814942482.mp4, File Size: 4.51 MB\n",
      "Total frames in video: 2170\n",
      "Frame indices to extract: [0, 434, 868, 1302, 1736]\n",
      "Extracted 5 frames.\n"
     ]
    },
    {
     "name": "stderr",
     "output_type": "stream",
     "text": [
      "\n",
      "Processing Frames:   0%|          | 0/5 [00:00<?, ?it/s]\u001b[A\n",
      "Processing Frames:  20%|██        | 1/5 [00:03<00:12,  3.11s/it]\u001b[A\n",
      "Processing Frames:  40%|████      | 2/5 [00:05<00:08,  2.90s/it]\u001b[A\n",
      "Processing Frames:  60%|██████    | 3/5 [00:09<00:06,  3.38s/it]\u001b[A\n",
      "Processing Frames:  80%|████████  | 4/5 [00:12<00:03,  3.25s/it]\u001b[A\n",
      "Processing Frames: 100%|██████████| 5/5 [00:15<00:00,  3.19s/it]\u001b[A\n",
      "Processing Videos:   8%|▊         | 58/698 [18:20<3:24:27, 19.17s/it]"
     ]
    },
    {
     "name": "stdout",
     "output_type": "stream",
     "text": [
      "File Name: netflixvn_7132432043404741890.mp4, File Size: 5.67 MB\n",
      "Total frames in video: 708\n",
      "Frame indices to extract: [0, 141, 283, 424, 566]\n",
      "Extracted 5 frames.\n"
     ]
    },
    {
     "name": "stderr",
     "output_type": "stream",
     "text": [
      "\n",
      "Processing Frames:   0%|          | 0/5 [00:00<?, ?it/s]\u001b[A\n",
      "Processing Frames:  20%|██        | 1/5 [00:03<00:15,  3.81s/it]\u001b[A\n",
      "Processing Frames:  40%|████      | 2/5 [00:06<00:09,  3.18s/it]\u001b[A\n",
      "Processing Frames:  60%|██████    | 3/5 [00:10<00:06,  3.32s/it]\u001b[A\n",
      "Processing Frames:  80%|████████  | 4/5 [00:14<00:03,  3.67s/it]\u001b[A\n",
      "Processing Frames: 100%|██████████| 5/5 [00:17<00:00,  3.54s/it]\u001b[A\n",
      "Processing Videos:   8%|▊         | 59/698 [18:40<3:26:09, 19.36s/it]"
     ]
    },
    {
     "name": "stdout",
     "output_type": "stream",
     "text": [
      "File Name: xuancongmai1_7242265065330593030.mp4, File Size: 10.09 MB\n",
      "Total frames in video: 1382\n",
      "Frame indices to extract: [0, 276, 552, 829, 1105]\n",
      "Extracted 5 frames.\n"
     ]
    },
    {
     "name": "stderr",
     "output_type": "stream",
     "text": [
      "\n",
      "Processing Frames:   0%|          | 0/5 [00:00<?, ?it/s]\u001b[A\n",
      "Processing Frames:  20%|██        | 1/5 [00:02<00:11,  2.89s/it]\u001b[A\n",
      "Processing Frames:  40%|████      | 2/5 [00:06<00:09,  3.10s/it]\u001b[A\n",
      "Processing Frames:  60%|██████    | 3/5 [00:09<00:06,  3.25s/it]\u001b[A\n",
      "Processing Frames:  80%|████████  | 4/5 [00:13<00:03,  3.45s/it]\u001b[A\n",
      "Processing Frames: 100%|██████████| 5/5 [00:16<00:00,  3.20s/it]\u001b[A\n",
      "Processing Videos:   9%|▊         | 60/698 [18:58<3:20:52, 18.89s/it]"
     ]
    },
    {
     "name": "stdout",
     "output_type": "stream",
     "text": [
      "File Name: xmas..spirit_7145547159977479430.mp4, File Size: 4.64 MB\n",
      "Total frames in video: 822\n",
      "Frame indices to extract: [0, 164, 328, 493, 657]\n",
      "Extracted 5 frames.\n"
     ]
    },
    {
     "name": "stderr",
     "output_type": "stream",
     "text": [
      "\n",
      "Processing Frames:   0%|          | 0/5 [00:00<?, ?it/s]\u001b[A\n",
      "Processing Frames:  20%|██        | 1/5 [00:02<00:11,  2.89s/it]\u001b[A\n",
      "Processing Frames:  40%|████      | 2/5 [00:06<00:10,  3.38s/it]\u001b[A\n",
      "Processing Frames:  60%|██████    | 3/5 [00:10<00:06,  3.42s/it]\u001b[A\n",
      "Processing Frames:  80%|████████  | 4/5 [00:14<00:03,  3.84s/it]\u001b[A\n",
      "Processing Frames: 100%|██████████| 5/5 [00:19<00:00,  3.82s/it]\u001b[A\n",
      "Processing Videos:   9%|▊         | 61/698 [19:19<3:27:35, 19.55s/it]"
     ]
    },
    {
     "name": "stdout",
     "output_type": "stream",
     "text": [
      "File Name: echxanhbao_7233918116848274715.mp4, File Size: 1.78 MB\n",
      "Total frames in video: 323\n",
      "Frame indices to extract: [0, 64, 129, 193, 258]\n",
      "Extracted 5 frames.\n"
     ]
    },
    {
     "name": "stderr",
     "output_type": "stream",
     "text": [
      "\n",
      "Processing Frames:   0%|          | 0/5 [00:00<?, ?it/s]\u001b[A\n",
      "Processing Frames:  20%|██        | 1/5 [00:03<00:15,  3.85s/it]\u001b[A\n",
      "Processing Frames:  40%|████      | 2/5 [00:07<00:10,  3.62s/it]\u001b[A\n",
      "Processing Frames:  60%|██████    | 3/5 [00:10<00:06,  3.35s/it]\u001b[A\n",
      "Processing Frames:  80%|████████  | 4/5 [00:13<00:03,  3.23s/it]\u001b[A\n",
      "Processing Frames: 100%|██████████| 5/5 [00:18<00:00,  3.60s/it]\u001b[A\n",
      "Processing Videos:   9%|▉         | 62/698 [19:40<3:31:42, 19.97s/it]"
     ]
    },
    {
     "name": "stdout",
     "output_type": "stream",
     "text": [
      "File Name: trangdinh.giadinhdua_7362760382173285648.mp4, File Size: 6.98 MB\n",
      "Total frames in video: 1058\n",
      "Frame indices to extract: [0, 211, 423, 634, 846]\n",
      "Extracted 5 frames.\n"
     ]
    },
    {
     "name": "stderr",
     "output_type": "stream",
     "text": [
      "\n",
      "Processing Frames:   0%|          | 0/5 [00:00<?, ?it/s]\u001b[A\n",
      "Processing Frames:  20%|██        | 1/5 [00:03<00:12,  3.24s/it]\u001b[A\n",
      "Processing Frames:  40%|████      | 2/5 [00:06<00:09,  3.24s/it]\u001b[A\n",
      "Processing Frames:  60%|██████    | 3/5 [00:09<00:06,  3.16s/it]\u001b[A\n",
      "Processing Frames:  80%|████████  | 4/5 [00:12<00:03,  3.12s/it]\u001b[A\n",
      "Processing Frames: 100%|██████████| 5/5 [00:15<00:00,  3.13s/it]\u001b[A\n",
      "Processing Videos:   9%|▉         | 63/698 [19:57<3:23:26, 19.22s/it]"
     ]
    },
    {
     "name": "stdout",
     "output_type": "stream",
     "text": [
      "File Name: vivutaxua_7282761015694036225.mp4, File Size: 0.99 MB\n",
      "Total frames in video: 560\n",
      "Frame indices to extract: [0, 112, 224, 336, 448]\n",
      "Extracted 5 frames.\n"
     ]
    },
    {
     "name": "stderr",
     "output_type": "stream",
     "text": [
      "\n",
      "Processing Frames:   0%|          | 0/5 [00:00<?, ?it/s]\u001b[A\n",
      "Processing Frames:  20%|██        | 1/5 [00:03<00:12,  3.08s/it]\u001b[A\n",
      "Processing Frames:  40%|████      | 2/5 [00:05<00:08,  2.84s/it]\u001b[A\n",
      "Processing Frames:  60%|██████    | 3/5 [00:09<00:06,  3.05s/it]\u001b[A\n",
      "Processing Frames:  80%|████████  | 4/5 [00:13<00:03,  3.61s/it]\u001b[A\n",
      "Processing Frames: 100%|██████████| 5/5 [00:16<00:00,  3.31s/it]\u001b[A\n",
      "Processing Videos:   9%|▉         | 64/698 [20:16<3:21:29, 19.07s/it]"
     ]
    },
    {
     "name": "stdout",
     "output_type": "stream",
     "text": [
      "File Name: ben.xabo_7323201206833155336.mp4, File Size: 11.16 MB\n",
      "Total frames in video: 1668\n",
      "Frame indices to extract: [0, 333, 667, 1000, 1334]\n",
      "Extracted 5 frames.\n"
     ]
    },
    {
     "name": "stderr",
     "output_type": "stream",
     "text": [
      "\n",
      "Processing Frames:   0%|          | 0/5 [00:00<?, ?it/s]\u001b[A\n",
      "Processing Frames:  20%|██        | 1/5 [00:03<00:13,  3.49s/it]\u001b[A\n",
      "Processing Frames:  40%|████      | 2/5 [00:06<00:10,  3.45s/it]\u001b[A\n",
      "Processing Frames:  60%|██████    | 3/5 [00:09<00:06,  3.27s/it]\u001b[A\n",
      "Processing Frames:  80%|████████  | 4/5 [00:13<00:03,  3.28s/it]\u001b[A\n",
      "Processing Frames: 100%|██████████| 5/5 [00:16<00:00,  3.37s/it]\u001b[A\n",
      "Processing Videos:   9%|▉         | 65/698 [20:35<3:20:14, 18.98s/it]"
     ]
    },
    {
     "name": "stdout",
     "output_type": "stream",
     "text": [
      "File Name: halinhofficial_7333168488023936274.mp4, File Size: 13.36 MB\n",
      "Total frames in video: 2858\n",
      "Frame indices to extract: [0, 571, 1143, 1714, 2286]\n",
      "Extracted 5 frames.\n"
     ]
    },
    {
     "name": "stderr",
     "output_type": "stream",
     "text": [
      "\n",
      "Processing Frames:   0%|          | 0/5 [00:00<?, ?it/s]\u001b[A\n",
      "Processing Frames:  20%|██        | 1/5 [00:02<00:11,  2.93s/it]\u001b[A\n",
      "Processing Frames:  40%|████      | 2/5 [00:06<00:10,  3.56s/it]\u001b[A\n",
      "Processing Frames:  60%|██████    | 3/5 [00:10<00:07,  3.62s/it]\u001b[A\n",
      "Processing Frames:  80%|████████  | 4/5 [00:14<00:03,  3.56s/it]\u001b[A\n",
      "Processing Frames: 100%|██████████| 5/5 [00:17<00:00,  3.50s/it]\u001b[A\n",
      "Processing Videos:   9%|▉         | 66/698 [20:54<3:21:23, 19.12s/it]"
     ]
    },
    {
     "name": "stdout",
     "output_type": "stream",
     "text": [
      "File Name: nadiu271206_7372728995940437266.mp4, File Size: 2.38 MB\n",
      "Total frames in video: 265\n",
      "Frame indices to extract: [0, 53, 106, 159, 212]\n",
      "Extracted 5 frames.\n"
     ]
    },
    {
     "name": "stderr",
     "output_type": "stream",
     "text": [
      "\n",
      "Processing Frames:   0%|          | 0/5 [00:00<?, ?it/s]\u001b[A\n",
      "Processing Frames:  20%|██        | 1/5 [00:03<00:12,  3.13s/it]\u001b[A\n",
      "Processing Frames:  40%|████      | 2/5 [00:07<00:10,  3.61s/it]\u001b[A\n",
      "Processing Frames:  60%|██████    | 3/5 [00:11<00:07,  3.93s/it]\u001b[A\n",
      "Processing Frames:  80%|████████  | 4/5 [00:14<00:03,  3.67s/it]\u001b[A\n",
      "Processing Frames: 100%|██████████| 5/5 [00:17<00:00,  3.58s/it]\u001b[A\n",
      "Processing Videos:  10%|▉         | 67/698 [21:14<3:22:53, 19.29s/it]"
     ]
    },
    {
     "name": "stdout",
     "output_type": "stream",
     "text": [
      "File Name: colortour68_7286852426886335745.mp4, File Size: 32.95 MB\n",
      "Total frames in video: 3314\n",
      "Frame indices to extract: [0, 662, 1325, 1988, 2651]\n",
      "Extracted 5 frames.\n"
     ]
    },
    {
     "name": "stderr",
     "output_type": "stream",
     "text": [
      "\n",
      "Processing Frames:   0%|          | 0/5 [00:00<?, ?it/s]\u001b[A\n",
      "Processing Frames:  20%|██        | 1/5 [00:03<00:15,  3.77s/it]\u001b[A\n",
      "Processing Frames:  40%|████      | 2/5 [00:07<00:11,  3.67s/it]\u001b[A\n",
      "Processing Frames:  60%|██████    | 3/5 [00:10<00:06,  3.48s/it]\u001b[A\n",
      "Processing Frames:  80%|████████  | 4/5 [00:13<00:03,  3.34s/it]\u001b[A\n",
      "Processing Frames: 100%|██████████| 5/5 [00:17<00:00,  3.47s/it]\u001b[A\n",
      "Processing Videos:  10%|▉         | 68/698 [21:33<3:22:25, 19.28s/it]"
     ]
    },
    {
     "name": "stdout",
     "output_type": "stream",
     "text": [
      "File Name: cloverdoan_7326041886471261442.mp4, File Size: 7.68 MB\n",
      "Total frames in video: 1091\n",
      "Frame indices to extract: [0, 218, 436, 654, 872]\n",
      "Extracted 5 frames.\n"
     ]
    },
    {
     "name": "stderr",
     "output_type": "stream",
     "text": [
      "\n",
      "Processing Frames:   0%|          | 0/5 [00:00<?, ?it/s]\u001b[A\n",
      "Processing Frames:  20%|██        | 1/5 [00:03<00:14,  3.52s/it]\u001b[A\n",
      "Processing Frames:  40%|████      | 2/5 [00:06<00:09,  3.14s/it]\u001b[A\n",
      "Processing Frames:  60%|██████    | 3/5 [00:09<00:05,  2.93s/it]\u001b[A\n",
      "Processing Frames:  80%|████████  | 4/5 [00:13<00:03,  3.57s/it]\u001b[A\n",
      "Processing Frames: 100%|██████████| 5/5 [00:16<00:00,  3.38s/it]\u001b[A\n",
      "Processing Videos:  10%|▉         | 69/698 [21:52<3:20:49, 19.16s/it]"
     ]
    },
    {
     "name": "stdout",
     "output_type": "stream",
     "text": [
      "File Name: anden75_7336920205509020948.mp4, File Size: 30.53 MB\n",
      "Total frames in video: 4937\n",
      "Frame indices to extract: [0, 987, 1974, 2962, 3949]\n",
      "Extracted 5 frames.\n"
     ]
    },
    {
     "name": "stderr",
     "output_type": "stream",
     "text": [
      "\n",
      "Processing Frames:   0%|          | 0/5 [00:00<?, ?it/s]\u001b[A\n",
      "Processing Frames:  20%|██        | 1/5 [00:03<00:13,  3.46s/it]\u001b[A\n",
      "Processing Frames:  40%|████      | 2/5 [00:06<00:10,  3.36s/it]\u001b[A\n",
      "Processing Frames:  60%|██████    | 3/5 [00:09<00:06,  3.14s/it]\u001b[A\n",
      "Processing Frames:  80%|████████  | 4/5 [00:12<00:03,  3.03s/it]\u001b[A\n",
      "Processing Frames: 100%|██████████| 5/5 [00:15<00:00,  3.19s/it]\u001b[A\n",
      "Processing Videos:  10%|█         | 70/698 [22:10<3:16:28, 18.77s/it]"
     ]
    },
    {
     "name": "stdout",
     "output_type": "stream",
     "text": [
      "File Name: bacsichiase1102_7235635608167910662.mp4, File Size: 9.43 MB\n",
      "Total frames in video: 1106\n",
      "Frame indices to extract: [0, 221, 442, 663, 884]\n",
      "Extracted 5 frames.\n"
     ]
    },
    {
     "name": "stderr",
     "output_type": "stream",
     "text": [
      "\n",
      "Processing Frames:   0%|          | 0/5 [00:00<?, ?it/s]\u001b[A\n",
      "Processing Frames:  20%|██        | 1/5 [00:03<00:13,  3.28s/it]\u001b[A\n",
      "Processing Frames:  40%|████      | 2/5 [00:06<00:10,  3.39s/it]\u001b[A\n",
      "Processing Frames:  60%|██████    | 3/5 [00:10<00:07,  3.62s/it]\u001b[A\n",
      "Processing Frames:  80%|████████  | 4/5 [00:14<00:03,  3.54s/it]\u001b[A\n",
      "Processing Frames: 100%|██████████| 5/5 [00:17<00:00,  3.47s/it]\u001b[A\n",
      "Processing Videos:  10%|█         | 71/698 [22:30<3:18:57, 19.04s/it]"
     ]
    },
    {
     "name": "stdout",
     "output_type": "stream",
     "text": [
      "File Name: minhkieu__7379450865393978642.mp4, File Size: 1.05 MB\n",
      "Total frames in video: 1475\n",
      "Frame indices to extract: [0, 295, 590, 885, 1180]\n",
      "Extracted 5 frames.\n"
     ]
    },
    {
     "name": "stderr",
     "output_type": "stream",
     "text": [
      "\n",
      "Processing Frames:   0%|          | 0/5 [00:00<?, ?it/s]\u001b[A\n",
      "Processing Frames:  20%|██        | 1/5 [00:03<00:13,  3.45s/it]\u001b[A\n",
      "Processing Frames:  40%|████      | 2/5 [00:06<00:10,  3.45s/it]\u001b[A\n",
      "Processing Frames:  60%|██████    | 3/5 [00:10<00:06,  3.45s/it]\u001b[A\n",
      "Processing Frames:  80%|████████  | 4/5 [00:13<00:03,  3.44s/it]\u001b[A\n",
      "Processing Frames: 100%|██████████| 5/5 [00:17<00:00,  3.45s/it]\u001b[A\n",
      "Processing Videos:  10%|█         | 72/698 [22:49<3:18:37, 19.04s/it]"
     ]
    },
    {
     "name": "stdout",
     "output_type": "stream",
     "text": [
      "File Name: hennieofficial_7214423795346476314.mp4, File Size: 3.85 MB\n",
      "Total frames in video: 643\n",
      "Frame indices to extract: [0, 128, 257, 385, 514]\n",
      "Extracted 5 frames.\n"
     ]
    },
    {
     "name": "stderr",
     "output_type": "stream",
     "text": [
      "\n",
      "Processing Frames:   0%|          | 0/5 [00:00<?, ?it/s]\u001b[A\n",
      "Processing Frames:  20%|██        | 1/5 [00:05<00:20,  5.03s/it]\u001b[A\n",
      "Processing Frames:  40%|████      | 2/5 [00:08<00:12,  4.10s/it]\u001b[A\n",
      "Processing Frames:  60%|██████    | 3/5 [00:11<00:07,  3.70s/it]\u001b[A\n",
      "Processing Frames:  80%|████████  | 4/5 [00:14<00:03,  3.53s/it]\u001b[A\n",
      "Processing Frames: 100%|██████████| 5/5 [00:18<00:00,  3.65s/it]\u001b[A\n",
      "Processing Videos:  10%|█         | 73/698 [23:10<3:25:33, 19.73s/it]"
     ]
    },
    {
     "name": "stdout",
     "output_type": "stream",
     "text": [
      "File Name: linhcuuhoadaily_7246955088256748806.mp4, File Size: 12.57 MB\n",
      "Total frames in video: 1726\n",
      "Frame indices to extract: [0, 345, 690, 1035, 1380]\n",
      "Extracted 5 frames.\n"
     ]
    },
    {
     "name": "stderr",
     "output_type": "stream",
     "text": [
      "\n",
      "Processing Frames:   0%|          | 0/5 [00:00<?, ?it/s]\u001b[A\n",
      "Processing Frames:  20%|██        | 1/5 [00:04<00:16,  4.19s/it]\u001b[A\n",
      "Processing Frames:  40%|████      | 2/5 [00:07<00:11,  3.77s/it]\u001b[A\n",
      "Processing Frames:  60%|██████    | 3/5 [00:10<00:06,  3.44s/it]\u001b[A\n",
      "Processing Frames:  80%|████████  | 4/5 [00:13<00:03,  3.11s/it]\u001b[A\n",
      "Processing Frames: 100%|██████████| 5/5 [00:17<00:00,  3.44s/it]\u001b[A\n",
      "Processing Videos:  11%|█         | 74/698 [23:29<3:23:05, 19.53s/it]"
     ]
    },
    {
     "name": "stdout",
     "output_type": "stream",
     "text": [
      "File Name: tuanveque_7054162292916702491.mp4, File Size: 2.67 MB\n",
      "Total frames in video: 757\n",
      "Frame indices to extract: [0, 151, 302, 454, 605]\n",
      "Extracted 5 frames.\n"
     ]
    },
    {
     "name": "stderr",
     "output_type": "stream",
     "text": [
      "\n",
      "Processing Frames:   0%|          | 0/5 [00:00<?, ?it/s]\u001b[A\n",
      "Processing Frames:  20%|██        | 1/5 [00:03<00:13,  3.45s/it]\u001b[A\n",
      "Processing Frames:  40%|████      | 2/5 [00:06<00:09,  3.11s/it]\u001b[A\n",
      "Processing Frames:  60%|██████    | 3/5 [00:09<00:06,  3.36s/it]\u001b[A\n",
      "Processing Frames:  80%|████████  | 4/5 [00:13<00:03,  3.39s/it]\u001b[A\n",
      "Processing Frames: 100%|██████████| 5/5 [00:16<00:00,  3.30s/it]\u001b[A\n",
      "Processing Videos:  11%|█         | 75/698 [23:48<3:19:12, 19.18s/it]"
     ]
    },
    {
     "name": "stdout",
     "output_type": "stream",
     "text": [
      "File Name: 2ueennn_7354229927845055761.mp4, File Size: 4.94 MB\n",
      "Total frames in video: 614\n",
      "Frame indices to extract: [0, 122, 245, 368, 491]\n",
      "Extracted 5 frames.\n"
     ]
    },
    {
     "name": "stderr",
     "output_type": "stream",
     "text": [
      "\n",
      "Processing Frames:   0%|          | 0/5 [00:00<?, ?it/s]\u001b[A\n",
      "Processing Frames:  20%|██        | 1/5 [00:02<00:11,  2.91s/it]\u001b[A\n",
      "Processing Frames:  40%|████      | 2/5 [00:07<00:10,  3.64s/it]\u001b[A\n",
      "Processing Frames:  60%|██████    | 3/5 [00:11<00:07,  3.84s/it]\u001b[A\n",
      "Processing Frames:  80%|████████  | 4/5 [00:14<00:03,  3.61s/it]\u001b[A\n",
      "Processing Frames: 100%|██████████| 5/5 [00:17<00:00,  3.53s/it]\u001b[A\n",
      "Processing Videos:  11%|█         | 76/698 [24:08<3:23:10, 19.60s/it]"
     ]
    },
    {
     "name": "stdout",
     "output_type": "stream",
     "text": [
      "File Name: ofbaublesandfairylights_7239821295217626395.mp4, File Size: 1.02 MB\n",
      "Total frames in video: 298\n",
      "Frame indices to extract: [0, 59, 119, 178, 238]\n",
      "Extracted 5 frames.\n"
     ]
    },
    {
     "name": "stderr",
     "output_type": "stream",
     "text": [
      "\n",
      "Processing Frames:   0%|          | 0/5 [00:00<?, ?it/s]\u001b[A\n",
      "Processing Frames:  20%|██        | 1/5 [00:02<00:09,  2.36s/it]\u001b[A\n",
      "Processing Frames:  40%|████      | 2/5 [00:05<00:08,  2.77s/it]\u001b[A\n",
      "Processing Frames:  60%|██████    | 3/5 [00:08<00:05,  2.99s/it]\u001b[A\n",
      "Processing Frames:  80%|████████  | 4/5 [00:11<00:03,  3.01s/it]\u001b[A\n",
      "Processing Frames: 100%|██████████| 5/5 [00:15<00:00,  3.02s/it]\u001b[A\n",
      "Processing Videos:  11%|█         | 77/698 [24:25<3:14:15, 18.77s/it]"
     ]
    },
    {
     "name": "stdout",
     "output_type": "stream",
     "text": [
      "File Name: banhmiutthuong_7321038401690553602.mp4, File Size: 12.14 MB\n",
      "Total frames in video: 1544\n",
      "Frame indices to extract: [0, 308, 617, 926, 1235]\n",
      "Extracted 5 frames.\n"
     ]
    },
    {
     "name": "stderr",
     "output_type": "stream",
     "text": [
      "\n",
      "Processing Frames:   0%|          | 0/5 [00:00<?, ?it/s]\u001b[A\n",
      "Processing Frames:  20%|██        | 1/5 [00:05<00:22,  5.75s/it]\u001b[A\n",
      "Processing Frames:  40%|████      | 2/5 [00:09<00:13,  4.43s/it]\u001b[A\n",
      "Processing Frames:  60%|██████    | 3/5 [00:12<00:07,  3.82s/it]\u001b[A\n",
      "Processing Frames:  80%|████████  | 4/5 [00:15<00:03,  3.51s/it]\u001b[A\n",
      "Processing Frames: 100%|██████████| 5/5 [00:18<00:00,  3.76s/it]\u001b[A\n",
      "Processing Videos:  11%|█         | 78/698 [24:46<3:20:37, 19.42s/it]"
     ]
    },
    {
     "name": "stdout",
     "output_type": "stream",
     "text": [
      "File Name: 10vancauhoivisao247_7051534192915598593.mp4, File Size: 11.06 MB\n",
      "Total frames in video: 3359\n",
      "Frame indices to extract: [0, 671, 1343, 2015, 2687]\n",
      "Extracted 5 frames.\n"
     ]
    },
    {
     "name": "stderr",
     "output_type": "stream",
     "text": [
      "\n",
      "Processing Frames:   0%|          | 0/5 [00:00<?, ?it/s]\u001b[A\n",
      "Processing Frames:  20%|██        | 1/5 [00:04<00:18,  4.60s/it]\u001b[A\n",
      "Processing Frames:  40%|████      | 2/5 [00:08<00:12,  4.01s/it]\u001b[A\n",
      "Processing Frames:  60%|██████    | 3/5 [00:10<00:06,  3.42s/it]\u001b[A\n",
      "Processing Frames:  80%|████████  | 4/5 [00:14<00:03,  3.43s/it]\u001b[A\n",
      "Processing Frames: 100%|██████████| 5/5 [00:19<00:00,  3.87s/it]\u001b[A\n",
      "Processing Videos:  11%|█▏        | 79/698 [25:08<3:27:27, 20.11s/it]"
     ]
    },
    {
     "name": "stdout",
     "output_type": "stream",
     "text": [
      "File Name: halinhofficial_7331355176659389704.mp4, File Size: 6.61 MB\n",
      "Total frames in video: 1774\n",
      "Frame indices to extract: [0, 354, 709, 1064, 1419]\n",
      "Extracted 5 frames.\n"
     ]
    },
    {
     "name": "stderr",
     "output_type": "stream",
     "text": [
      "\n",
      "Processing Frames:   0%|          | 0/5 [00:00<?, ?it/s]\u001b[A\n",
      "Processing Frames:  20%|██        | 1/5 [00:03<00:13,  3.46s/it]\u001b[A\n",
      "Processing Frames:  40%|████      | 2/5 [00:07<00:11,  3.76s/it]\u001b[A\n",
      "Processing Frames:  60%|██████    | 3/5 [00:10<00:06,  3.38s/it]\u001b[A\n",
      "Processing Frames:  80%|████████  | 4/5 [00:13<00:03,  3.25s/it]\u001b[A\n",
      "Processing Frames: 100%|██████████| 5/5 [00:16<00:00,  3.29s/it]\u001b[A\n",
      "Processing Videos:  11%|█▏        | 80/698 [25:26<3:20:58, 19.51s/it]"
     ]
    },
    {
     "name": "stdout",
     "output_type": "stream",
     "text": [
      "File Name: chutuphuyen_7375168244329614593.mp4, File Size: 22.89 MB\n",
      "Total frames in video: 2674\n",
      "Frame indices to extract: [0, 534, 1069, 1604, 2139]\n",
      "Extracted 5 frames.\n"
     ]
    },
    {
     "name": "stderr",
     "output_type": "stream",
     "text": [
      "\n",
      "Processing Frames:   0%|          | 0/5 [00:00<?, ?it/s]\u001b[A\n",
      "Processing Frames:  20%|██        | 1/5 [00:03<00:13,  3.32s/it]\u001b[A\n",
      "Processing Frames:  40%|████      | 2/5 [00:06<00:09,  3.27s/it]\u001b[A\n",
      "Processing Frames:  60%|██████    | 3/5 [00:10<00:07,  3.58s/it]\u001b[A\n",
      "Processing Frames:  80%|████████  | 4/5 [00:13<00:03,  3.54s/it]\u001b[A\n",
      "Processing Frames: 100%|██████████| 5/5 [00:17<00:00,  3.41s/it]\u001b[A\n",
      "Processing Videos:  12%|█▏        | 81/698 [25:45<3:18:55, 19.34s/it]"
     ]
    },
    {
     "name": "stdout",
     "output_type": "stream",
     "text": [
      "File Name: asmr_usa6_7339171317314227489.mp4, File Size: 61.43 MB\n",
      "Total frames in video: 7682\n",
      "Frame indices to extract: [0, 1536, 3072, 4609, 6145]\n",
      "Extracted 5 frames.\n"
     ]
    },
    {
     "name": "stderr",
     "output_type": "stream",
     "text": [
      "\n",
      "Processing Frames:   0%|          | 0/5 [00:00<?, ?it/s]\u001b[A\n",
      "Processing Frames:  20%|██        | 1/5 [00:03<00:13,  3.49s/it]\u001b[A\n",
      "Processing Frames:  40%|████      | 2/5 [00:07<00:10,  3.56s/it]\u001b[A\n",
      "Processing Frames:  60%|██████    | 3/5 [00:10<00:06,  3.48s/it]\u001b[A\n",
      "Processing Frames:  80%|████████  | 4/5 [00:13<00:03,  3.33s/it]\u001b[A\n",
      "Processing Frames: 100%|██████████| 5/5 [00:17<00:00,  3.51s/it]\u001b[A\n",
      "Processing Videos:  12%|█▏        | 82/698 [26:04<3:18:14, 19.31s/it]"
     ]
    },
    {
     "name": "stdout",
     "output_type": "stream",
     "text": [
      "File Name: dongam_den.vauvn_7321730496394792193.mp4, File Size: 7.71 MB\n",
      "Total frames in video: 1023\n",
      "Frame indices to extract: [0, 204, 409, 613, 818]\n",
      "Extracted 5 frames.\n"
     ]
    },
    {
     "name": "stderr",
     "output_type": "stream",
     "text": [
      "\n",
      "Processing Frames:   0%|          | 0/5 [00:00<?, ?it/s]\u001b[A\n",
      "Processing Frames:  20%|██        | 1/5 [00:03<00:15,  3.99s/it]\u001b[A\n",
      "Processing Frames:  40%|████      | 2/5 [00:07<00:11,  3.75s/it]\u001b[A\n",
      "Processing Frames:  60%|██████    | 3/5 [00:10<00:07,  3.51s/it]\u001b[A\n",
      "Processing Frames:  80%|████████  | 4/5 [00:14<00:03,  3.49s/it]\u001b[A\n",
      "Processing Frames: 100%|██████████| 5/5 [00:17<00:00,  3.50s/it]\u001b[A\n",
      "Processing Videos:  12%|█▏        | 83/698 [26:24<3:19:49, 19.49s/it]"
     ]
    },
    {
     "name": "stdout",
     "output_type": "stream",
     "text": [
      "File Name: chutuphuyen_7371986762626796817.mp4, File Size: 5.25 MB\n",
      "Total frames in video: 1652\n",
      "Frame indices to extract: [0, 330, 660, 991, 1321]\n",
      "Extracted 5 frames.\n"
     ]
    },
    {
     "name": "stderr",
     "output_type": "stream",
     "text": [
      "\n",
      "Processing Frames:   0%|          | 0/5 [00:00<?, ?it/s]\u001b[A\n",
      "Processing Frames:  20%|██        | 1/5 [00:03<00:13,  3.31s/it]\u001b[A\n",
      "Processing Frames:  40%|████      | 2/5 [00:06<00:09,  3.27s/it]\u001b[A\n",
      "Processing Frames:  60%|██████    | 3/5 [00:09<00:06,  3.25s/it]\u001b[A\n",
      "Processing Frames:  80%|████████  | 4/5 [00:13<00:03,  3.26s/it]\u001b[A\n",
      "Processing Frames: 100%|██████████| 5/5 [00:17<00:00,  3.50s/it]\u001b[A\n",
      "Processing Videos:  12%|█▏        | 84/698 [26:44<3:20:43, 19.61s/it]"
     ]
    },
    {
     "name": "stdout",
     "output_type": "stream",
     "text": [
      "File Name: taphoaanvat0_7366596786699455761.mp4, File Size: 17.30 MB\n",
      "Total frames in video: 2009\n",
      "Frame indices to extract: [0, 401, 803, 1205, 1607]\n",
      "Extracted 5 frames.\n"
     ]
    },
    {
     "name": "stderr",
     "output_type": "stream",
     "text": [
      "\n",
      "Processing Frames:   0%|          | 0/5 [00:00<?, ?it/s]\u001b[A\n",
      "Processing Frames:  20%|██        | 1/5 [00:03<00:14,  3.51s/it]\u001b[A\n",
      "Processing Frames:  40%|████      | 2/5 [00:07<00:11,  3.78s/it]\u001b[A\n",
      "Processing Frames:  60%|██████    | 3/5 [00:10<00:07,  3.60s/it]\u001b[A\n",
      "Processing Frames:  80%|████████  | 4/5 [00:14<00:03,  3.47s/it]\u001b[A\n",
      "Processing Frames: 100%|██████████| 5/5 [00:17<00:00,  3.43s/it]\u001b[A\n",
      "Processing Videos:  12%|█▏        | 85/698 [27:03<3:19:33, 19.53s/it]"
     ]
    },
    {
     "name": "stdout",
     "output_type": "stream",
     "text": [
      "File Name: rosannagray150_7113271626627665195.mp4, File Size: 4.87 MB\n",
      "Total frames in video: 768\n",
      "Frame indices to extract: [0, 153, 307, 460, 614]\n",
      "Extracted 5 frames.\n"
     ]
    },
    {
     "name": "stderr",
     "output_type": "stream",
     "text": [
      "\n",
      "Processing Frames:   0%|          | 0/5 [00:00<?, ?it/s]\u001b[A\n",
      "Processing Frames:  20%|██        | 1/5 [00:03<00:14,  3.68s/it]\u001b[A\n",
      "Processing Frames:  40%|████      | 2/5 [00:06<00:09,  3.29s/it]\u001b[A\n",
      "Processing Frames:  60%|██████    | 3/5 [00:10<00:06,  3.31s/it]\u001b[A\n",
      "Processing Frames:  80%|████████  | 4/5 [00:14<00:03,  3.63s/it]\u001b[A\n",
      "Processing Frames: 100%|██████████| 5/5 [00:17<00:00,  3.55s/it]\u001b[A\n",
      "Processing Videos:  12%|█▏        | 86/698 [27:23<3:19:31, 19.56s/it]"
     ]
    },
    {
     "name": "stdout",
     "output_type": "stream",
     "text": [
      "File Name: visit_7258010380503403802.mp4, File Size: 1.23 MB\n",
      "Total frames in video: 180\n",
      "Frame indices to extract: [0, 36, 72, 108, 144]\n",
      "Extracted 5 frames.\n"
     ]
    },
    {
     "name": "stderr",
     "output_type": "stream",
     "text": [
      "\n",
      "Processing Frames:   0%|          | 0/5 [00:00<?, ?it/s]\u001b[A\n",
      "Processing Frames:  20%|██        | 1/5 [00:03<00:12,  3.06s/it]\u001b[A\n",
      "Processing Frames:  40%|████      | 2/5 [00:06<00:09,  3.08s/it]\u001b[A\n",
      "Processing Frames:  60%|██████    | 3/5 [00:10<00:06,  3.47s/it]\u001b[A\n",
      "Processing Frames:  80%|████████  | 4/5 [00:12<00:03,  3.22s/it]\u001b[A\n",
      "Processing Frames: 100%|██████████| 5/5 [00:16<00:00,  3.20s/it]\u001b[A\n",
      "Processing Videos:  12%|█▏        | 87/698 [27:40<3:13:18, 18.98s/it]"
     ]
    },
    {
     "name": "stdout",
     "output_type": "stream",
     "text": [
      "File Name: tanphonq0824_7355093841378020624.mp4, File Size: 6.71 MB\n",
      "Total frames in video: 1082\n",
      "Frame indices to extract: [0, 216, 432, 649, 865]\n",
      "Extracted 5 frames.\n"
     ]
    },
    {
     "name": "stderr",
     "output_type": "stream",
     "text": [
      "\n",
      "Processing Frames:   0%|          | 0/5 [00:00<?, ?it/s]\u001b[A\n",
      "Processing Frames:  20%|██        | 1/5 [00:03<00:12,  3.24s/it]\u001b[A\n",
      "Processing Frames:  40%|████      | 2/5 [00:06<00:10,  3.52s/it]\u001b[A\n",
      "Processing Frames:  60%|██████    | 3/5 [00:09<00:06,  3.21s/it]\u001b[A\n",
      "Processing Frames:  80%|████████  | 4/5 [00:12<00:03,  3.07s/it]\u001b[A\n",
      "Processing Frames: 100%|██████████| 5/5 [00:15<00:00,  3.11s/it]\u001b[A\n",
      "Processing Videos:  13%|█▎        | 88/698 [27:58<3:10:21, 18.72s/it]"
     ]
    },
    {
     "name": "stdout",
     "output_type": "stream",
     "text": [
      "File Name: chuyencudaqua_7361401464339565842.mp4, File Size: 8.95 MB\n",
      "Total frames in video: 2812\n",
      "Frame indices to extract: [0, 562, 1124, 1687, 2249]\n",
      "Extracted 5 frames.\n"
     ]
    },
    {
     "name": "stderr",
     "output_type": "stream",
     "text": [
      "\n",
      "Processing Frames:   0%|          | 0/5 [00:00<?, ?it/s]\u001b[A\n",
      "Processing Frames:  20%|██        | 1/5 [00:03<00:12,  3.10s/it]\u001b[A\n",
      "Processing Frames:  40%|████      | 2/5 [00:06<00:09,  3.06s/it]\u001b[A\n",
      "Processing Frames:  60%|██████    | 3/5 [00:09<00:06,  3.17s/it]\u001b[A\n",
      "Processing Frames:  80%|████████  | 4/5 [00:12<00:03,  3.20s/it]\u001b[A\n",
      "Processing Frames: 100%|██████████| 5/5 [00:15<00:00,  3.15s/it]\u001b[A\n",
      "Processing Videos:  13%|█▎        | 89/698 [28:16<3:07:05, 18.43s/it]"
     ]
    },
    {
     "name": "stdout",
     "output_type": "stream",
     "text": [
      "File Name: dautocartoon_7253681236332383530.mp4, File Size: 1.92 MB\n",
      "Total frames in video: 2296\n",
      "Frame indices to extract: [0, 459, 918, 1377, 1836]\n",
      "Extracted 5 frames.\n"
     ]
    },
    {
     "name": "stderr",
     "output_type": "stream",
     "text": [
      "\n",
      "Processing Frames:   0%|          | 0/5 [00:00<?, ?it/s]\u001b[A\n",
      "Processing Frames:  20%|██        | 1/5 [00:05<00:22,  5.64s/it]\u001b[A\n",
      "Processing Frames:  40%|████      | 2/5 [00:08<00:12,  4.22s/it]\u001b[A\n",
      "Processing Frames:  60%|██████    | 3/5 [00:11<00:07,  3.70s/it]\u001b[A\n",
      "Processing Frames:  80%|████████  | 4/5 [00:15<00:03,  3.52s/it]\u001b[A\n",
      "Processing Frames: 100%|██████████| 5/5 [00:18<00:00,  3.61s/it]\u001b[A\n",
      "Processing Videos:  13%|█▎        | 90/698 [28:36<3:10:56, 18.84s/it]"
     ]
    },
    {
     "name": "stdout",
     "output_type": "stream",
     "text": [
      "File Name: halinhofficial_7343578417859775751.mp4, File Size: 11.11 MB\n",
      "Total frames in video: 2625\n",
      "Frame indices to extract: [0, 525, 1050, 1575, 2100]\n",
      "Extracted 5 frames.\n"
     ]
    },
    {
     "name": "stderr",
     "output_type": "stream",
     "text": [
      "\n",
      "Processing Frames:   0%|          | 0/5 [00:00<?, ?it/s]\u001b[A\n",
      "Processing Frames:  20%|██        | 1/5 [00:03<00:13,  3.49s/it]\u001b[A\n",
      "Processing Frames:  40%|████      | 2/5 [00:06<00:10,  3.34s/it]\u001b[A\n",
      "Processing Frames:  60%|██████    | 3/5 [00:10<00:06,  3.46s/it]\u001b[A\n",
      "Processing Frames:  80%|████████  | 4/5 [00:13<00:03,  3.38s/it]\u001b[A\n",
      "Processing Frames: 100%|██████████| 5/5 [00:17<00:00,  3.42s/it]\u001b[A\n",
      "Processing Videos:  13%|█▎        | 91/698 [28:55<3:11:16, 18.91s/it]"
     ]
    },
    {
     "name": "stdout",
     "output_type": "stream",
     "text": [
      "File Name: giakhanh2802_7363597508842458386.mp4, File Size: 4.47 MB\n",
      "Total frames in video: 455\n",
      "Frame indices to extract: [0, 91, 182, 273, 364]\n",
      "Extracted 5 frames.\n"
     ]
    },
    {
     "name": "stderr",
     "output_type": "stream",
     "text": [
      "\n",
      "Processing Frames:   0%|          | 0/5 [00:00<?, ?it/s]\u001b[A\n",
      "Processing Frames:  20%|██        | 1/5 [00:02<00:10,  2.74s/it]\u001b[A\n",
      "Processing Frames:  40%|████      | 2/5 [00:06<00:10,  3.47s/it]\u001b[A\n",
      "Processing Frames:  60%|██████    | 3/5 [00:09<00:06,  3.10s/it]\u001b[A\n",
      "Processing Frames:  80%|████████  | 4/5 [00:12<00:03,  3.10s/it]\u001b[A\n",
      "Processing Frames: 100%|██████████| 5/5 [00:15<00:00,  3.10s/it]\u001b[A\n",
      "Processing Videos:  13%|█▎        | 92/698 [29:13<3:07:38, 18.58s/it]"
     ]
    },
    {
     "name": "stdout",
     "output_type": "stream",
     "text": [
      "File Name: anden75_7359187229928901908.mp4, File Size: 14.03 MB\n",
      "Total frames in video: 3401\n",
      "Frame indices to extract: [0, 680, 1360, 2040, 2720]\n",
      "Extracted 5 frames.\n"
     ]
    },
    {
     "name": "stderr",
     "output_type": "stream",
     "text": [
      "\n",
      "Processing Frames:   0%|          | 0/5 [00:00<?, ?it/s]\u001b[A\n",
      "Processing Frames:  20%|██        | 1/5 [00:03<00:12,  3.07s/it]\u001b[A\n",
      "Processing Frames:  40%|████      | 2/5 [00:06<00:09,  3.09s/it]\u001b[A\n",
      "Processing Frames:  60%|██████    | 3/5 [00:09<00:06,  3.16s/it]\u001b[A\n",
      "Processing Frames:  80%|████████  | 4/5 [00:13<00:03,  3.45s/it]\u001b[A\n",
      "Processing Frames: 100%|██████████| 5/5 [00:16<00:00,  3.36s/it]\u001b[A\n",
      "Processing Videos:  13%|█▎        | 93/698 [29:31<3:07:21, 18.58s/it]"
     ]
    },
    {
     "name": "stdout",
     "output_type": "stream",
     "text": [
      "File Name: vmtmytam_6999238799129693442.mp4, File Size: 18.00 MB\n",
      "Total frames in video: 1623\n",
      "Frame indices to extract: [0, 324, 649, 973, 1298]\n",
      "Extracted 5 frames.\n"
     ]
    },
    {
     "name": "stderr",
     "output_type": "stream",
     "text": [
      "\n",
      "Processing Frames:   0%|          | 0/5 [00:00<?, ?it/s]\u001b[A\n",
      "Processing Frames:  20%|██        | 1/5 [00:03<00:13,  3.29s/it]\u001b[A\n",
      "Processing Frames:  40%|████      | 2/5 [00:06<00:09,  3.24s/it]\u001b[A\n",
      "Processing Frames:  60%|██████    | 3/5 [00:09<00:06,  3.23s/it]\u001b[A\n",
      "Processing Frames:  80%|████████  | 4/5 [00:13<00:03,  3.39s/it]\u001b[A\n",
      "Processing Frames: 100%|██████████| 5/5 [00:16<00:00,  3.32s/it]\u001b[A\n",
      "Processing Videos:  13%|█▎        | 94/698 [29:52<3:13:01, 19.17s/it]"
     ]
    },
    {
     "name": "stdout",
     "output_type": "stream",
     "text": [
      "File Name: haisananhrom_7110200532605668635.mp4, File Size: 4.68 MB\n",
      "Total frames in video: 639\n",
      "Frame indices to extract: [0, 127, 255, 383, 511]\n",
      "Extracted 5 frames.\n"
     ]
    },
    {
     "name": "stderr",
     "output_type": "stream",
     "text": [
      "\n",
      "Processing Frames:   0%|          | 0/5 [00:00<?, ?it/s]\u001b[A\n",
      "Processing Frames:  20%|██        | 1/5 [00:03<00:13,  3.49s/it]\u001b[A\n",
      "Processing Frames:  40%|████      | 2/5 [00:07<00:11,  3.92s/it]\u001b[A\n",
      "Processing Frames:  60%|██████    | 3/5 [00:11<00:07,  3.68s/it]\u001b[A\n",
      "Processing Frames:  80%|████████  | 4/5 [00:14<00:03,  3.52s/it]\u001b[A\n",
      "Processing Frames: 100%|██████████| 5/5 [00:18<00:00,  3.60s/it]\u001b[A\n",
      "Processing Videos:  14%|█▎        | 95/698 [30:12<3:15:21, 19.44s/it]"
     ]
    },
    {
     "name": "stdout",
     "output_type": "stream",
     "text": [
      "File Name: chaukhadi2107_7257475445199785221.mp4, File Size: 15.50 MB\n",
      "Total frames in video: 5490\n",
      "Frame indices to extract: [0, 1098, 2196, 3294, 4392]\n",
      "Extracted 5 frames.\n"
     ]
    },
    {
     "name": "stderr",
     "output_type": "stream",
     "text": [
      "\n",
      "Processing Frames:   0%|          | 0/5 [00:00<?, ?it/s]\u001b[A\n",
      "Processing Frames:  20%|██        | 1/5 [00:03<00:13,  3.45s/it]\u001b[A\n",
      "Processing Frames:  40%|████      | 2/5 [00:06<00:10,  3.34s/it]\u001b[A\n",
      "Processing Frames:  60%|██████    | 3/5 [00:09<00:06,  3.20s/it]\u001b[A\n",
      "Processing Frames:  80%|████████  | 4/5 [00:13<00:03,  3.28s/it]\u001b[A\n",
      "Processing Frames: 100%|██████████| 5/5 [00:16<00:00,  3.25s/it]\u001b[A\n",
      "Processing Videos:  14%|█▍        | 96/698 [30:30<3:10:24, 18.98s/it]"
     ]
    },
    {
     "name": "stdout",
     "output_type": "stream",
     "text": [
      "File Name: yahalddlgle_7337104389502438688.mp4, File Size: 3.17 MB\n",
      "Total frames in video: 1022\n",
      "Frame indices to extract: [0, 204, 408, 613, 817]\n",
      "Extracted 5 frames.\n"
     ]
    },
    {
     "name": "stderr",
     "output_type": "stream",
     "text": [
      "\n",
      "Processing Frames:   0%|          | 0/5 [00:00<?, ?it/s]\u001b[A\n",
      "Processing Frames:  20%|██        | 1/5 [00:02<00:10,  2.53s/it]\u001b[A\n",
      "Processing Frames:  40%|████      | 2/5 [00:05<00:08,  2.92s/it]\u001b[A\n",
      "Processing Frames:  60%|██████    | 3/5 [00:08<00:06,  3.07s/it]\u001b[A\n",
      "Processing Frames:  80%|████████  | 4/5 [00:12<00:03,  3.13s/it]\u001b[A\n",
      "Processing Frames: 100%|██████████| 5/5 [00:15<00:00,  3.05s/it]\u001b[A\n",
      "Processing Videos:  14%|█▍        | 97/698 [30:47<3:05:29, 18.52s/it]"
     ]
    },
    {
     "name": "stdout",
     "output_type": "stream",
     "text": [
      "File Name: vuongcongkien1910_7358298640756083976.mp4, File Size: 2.41 MB\n",
      "Total frames in video: 1801\n",
      "Frame indices to extract: [0, 360, 720, 1080, 1440]\n",
      "Extracted 5 frames.\n"
     ]
    },
    {
     "name": "stderr",
     "output_type": "stream",
     "text": [
      "\n",
      "Processing Frames:   0%|          | 0/5 [00:00<?, ?it/s]\u001b[A\n",
      "Processing Frames:  20%|██        | 1/5 [00:03<00:13,  3.44s/it]\u001b[A\n",
      "Processing Frames:  40%|████      | 2/5 [00:05<00:08,  2.89s/it]\u001b[A\n",
      "Processing Frames:  60%|██████    | 3/5 [00:08<00:05,  2.70s/it]\u001b[A\n",
      "Processing Frames:  80%|████████  | 4/5 [00:11<00:02,  2.99s/it]\u001b[A\n",
      "Processing Frames: 100%|██████████| 5/5 [00:15<00:00,  3.02s/it]\u001b[A\n",
      "Processing Videos:  14%|█▍        | 98/698 [31:04<3:00:41, 18.07s/it]"
     ]
    },
    {
     "name": "stdout",
     "output_type": "stream",
     "text": [
      "File Name: babykopohome_6814673856909839617.mp4, File Size: 14.87 MB\n",
      "Total frames in video: 1750\n",
      "Frame indices to extract: [0, 350, 700, 1050, 1400]\n",
      "Extracted 5 frames.\n"
     ]
    },
    {
     "name": "stderr",
     "output_type": "stream",
     "text": [
      "\n",
      "Processing Frames:   0%|          | 0/5 [00:00<?, ?it/s]\u001b[A\n",
      "Processing Frames:  20%|██        | 1/5 [00:03<00:15,  3.86s/it]\u001b[A\n",
      "Processing Frames:  40%|████      | 2/5 [00:07<00:10,  3.48s/it]\u001b[A\n",
      "Processing Frames:  60%|██████    | 3/5 [00:09<00:06,  3.19s/it]\u001b[A\n",
      "Processing Frames:  80%|████████  | 4/5 [00:13<00:03,  3.28s/it]\u001b[A\n",
      "Processing Frames: 100%|██████████| 5/5 [00:16<00:00,  3.27s/it]\u001b[A\n",
      "Processing Videos:  14%|█▍        | 99/698 [31:23<3:00:26, 18.07s/it]"
     ]
    },
    {
     "name": "stdout",
     "output_type": "stream",
     "text": [
      "File Name: curiousmind0808_7270093288433077509.mp4, File Size: 2.04 MB\n",
      "Total frames in video: 2274\n",
      "Frame indices to extract: [0, 454, 909, 1364, 1819]\n",
      "Extracted 5 frames.\n"
     ]
    },
    {
     "name": "stderr",
     "output_type": "stream",
     "text": [
      "\n",
      "Processing Frames:   0%|          | 0/5 [00:00<?, ?it/s]\u001b[A\n",
      "Processing Frames:  20%|██        | 1/5 [00:03<00:12,  3.25s/it]\u001b[A\n",
      "Processing Frames:  40%|████      | 2/5 [00:08<00:12,  4.23s/it]\u001b[A\n",
      "Processing Frames:  60%|██████    | 3/5 [00:10<00:07,  3.59s/it]\u001b[A\n",
      "Processing Frames:  80%|████████  | 4/5 [00:16<00:04,  4.30s/it]\u001b[A\n",
      "Processing Frames: 100%|██████████| 5/5 [00:21<00:00,  4.25s/it]\u001b[A\n",
      "Processing Videos:  14%|█▍        | 100/698 [31:46<3:15:15, 19.59s/it]"
     ]
    },
    {
     "name": "stdout",
     "output_type": "stream",
     "text": [
      "File Name: andamdelam_7349722032096939265.mp4, File Size: 1.89 MB\n",
      "Total frames in video: 762\n",
      "Frame indices to extract: [0, 152, 304, 457, 609]\n",
      "Extracted 5 frames.\n"
     ]
    },
    {
     "name": "stderr",
     "output_type": "stream",
     "text": [
      "\n",
      "Processing Frames:   0%|          | 0/5 [00:00<?, ?it/s]\u001b[A\n",
      "Processing Frames:  20%|██        | 1/5 [00:03<00:13,  3.29s/it]\u001b[A\n",
      "Processing Frames:  40%|████      | 2/5 [00:07<00:11,  3.92s/it]\u001b[A\n",
      "Processing Frames:  60%|██████    | 3/5 [00:10<00:07,  3.60s/it]\u001b[A\n",
      "Processing Frames:  80%|████████  | 4/5 [00:13<00:03,  3.39s/it]\u001b[A\n",
      "Processing Frames: 100%|██████████| 5/5 [00:16<00:00,  3.40s/it]\u001b[A\n",
      "Processing Videos:  14%|█▍        | 101/698 [32:04<3:12:23, 19.34s/it]"
     ]
    },
    {
     "name": "stdout",
     "output_type": "stream",
     "text": [
      "File Name: papidog01_6996862528907119878.mp4, File Size: 1.42 MB\n",
      "Total frames in video: 460\n",
      "Frame indices to extract: [0, 92, 184, 276, 368]\n",
      "Extracted 5 frames.\n"
     ]
    },
    {
     "name": "stderr",
     "output_type": "stream",
     "text": [
      "\n",
      "Processing Frames:   0%|          | 0/5 [00:00<?, ?it/s]\u001b[A\n",
      "Processing Frames:  20%|██        | 1/5 [00:04<00:17,  4.46s/it]\u001b[A\n",
      "Processing Frames:  40%|████      | 2/5 [00:07<00:11,  3.85s/it]\u001b[A\n",
      "Processing Frames:  60%|██████    | 3/5 [00:11<00:07,  3.65s/it]\u001b[A\n",
      "Processing Frames:  80%|████████  | 4/5 [00:14<00:03,  3.56s/it]\u001b[A\n",
      "Processing Frames: 100%|██████████| 5/5 [00:17<00:00,  3.59s/it]\u001b[A\n",
      "Processing Videos:  15%|█▍        | 102/698 [32:25<3:14:23, 19.57s/it]"
     ]
    },
    {
     "name": "stdout",
     "output_type": "stream",
     "text": [
      "File Name: wetrek.vn_7251441186664238338.mp4, File Size: 1.78 MB\n",
      "Total frames in video: 374\n",
      "Frame indices to extract: [0, 74, 149, 224, 299]\n",
      "Extracted 5 frames.\n"
     ]
    },
    {
     "name": "stderr",
     "output_type": "stream",
     "text": [
      "\n",
      "Processing Frames:   0%|          | 0/5 [00:00<?, ?it/s]\u001b[A\n",
      "Processing Frames:  20%|██        | 1/5 [00:03<00:12,  3.11s/it]\u001b[A\n",
      "Processing Frames:  40%|████      | 2/5 [00:05<00:08,  2.96s/it]\u001b[A\n",
      "Processing Frames:  60%|██████    | 3/5 [00:09<00:06,  3.32s/it]\u001b[A\n",
      "Processing Frames:  80%|████████  | 4/5 [00:12<00:03,  3.23s/it]\u001b[A\n",
      "Processing Frames: 100%|██████████| 5/5 [00:16<00:00,  3.33s/it]\u001b[A\n",
      "Processing Videos:  15%|█▍        | 103/698 [32:43<3:11:47, 19.34s/it]"
     ]
    },
    {
     "name": "stdout",
     "output_type": "stream",
     "text": [
      "File Name: le_anh_nuoi_7374735352004644097.mp4, File Size: 15.54 MB\n",
      "Total frames in video: 2489\n",
      "Frame indices to extract: [0, 497, 995, 1493, 1991]\n",
      "Extracted 5 frames.\n"
     ]
    },
    {
     "name": "stderr",
     "output_type": "stream",
     "text": [
      "\n",
      "Processing Frames:   0%|          | 0/5 [00:00<?, ?it/s]\u001b[A\n",
      "Processing Frames:  20%|██        | 1/5 [00:03<00:12,  3.06s/it]\u001b[A\n",
      "Processing Frames:  40%|████      | 2/5 [00:06<00:09,  3.28s/it]\u001b[A\n",
      "Processing Frames:  60%|██████    | 3/5 [00:09<00:06,  3.33s/it]\u001b[A\n",
      "Processing Frames:  80%|████████  | 4/5 [00:13<00:03,  3.28s/it]\u001b[A\n",
      "Processing Frames: 100%|██████████| 5/5 [00:16<00:00,  3.23s/it]\u001b[A\n",
      "Processing Videos:  15%|█▍        | 104/698 [33:01<3:07:06, 18.90s/it]"
     ]
    },
    {
     "name": "stdout",
     "output_type": "stream",
     "text": [
      "File Name: nguyet291098_7363306443228957970.mp4, File Size: 9.53 MB\n",
      "Total frames in video: 963\n",
      "Frame indices to extract: [0, 192, 385, 577, 770]\n",
      "Extracted 5 frames.\n"
     ]
    },
    {
     "name": "stderr",
     "output_type": "stream",
     "text": [
      "\n",
      "Processing Frames:   0%|          | 0/5 [00:00<?, ?it/s]\u001b[A\n",
      "Processing Frames:  20%|██        | 1/5 [00:03<00:12,  3.23s/it]\u001b[A\n",
      "Processing Frames:  40%|████      | 2/5 [00:06<00:10,  3.36s/it]\u001b[A\n",
      "Processing Frames:  60%|██████    | 3/5 [00:10<00:07,  3.59s/it]\u001b[A\n",
      "Processing Frames:  80%|████████  | 4/5 [00:13<00:03,  3.29s/it]\u001b[A\n",
      "Processing Frames: 100%|██████████| 5/5 [00:16<00:00,  3.33s/it]\u001b[A\n",
      "Processing Videos:  15%|█▌        | 105/698 [33:20<3:05:53, 18.81s/it]"
     ]
    },
    {
     "name": "stdout",
     "output_type": "stream",
     "text": [
      "File Name: colortour68_7261424191264558354.mp4, File Size: 9.78 MB\n",
      "Total frames in video: 1053\n",
      "Frame indices to extract: [0, 210, 421, 631, 842]\n",
      "Extracted 5 frames.\n"
     ]
    },
    {
     "name": "stderr",
     "output_type": "stream",
     "text": [
      "\n",
      "Processing Frames:   0%|          | 0/5 [00:00<?, ?it/s]\u001b[A\n",
      "Processing Frames:  20%|██        | 1/5 [00:03<00:12,  3.25s/it]\u001b[A\n",
      "Processing Frames:  40%|████      | 2/5 [00:06<00:09,  3.16s/it]\u001b[A\n",
      "Processing Frames:  60%|██████    | 3/5 [00:09<00:06,  3.02s/it]\u001b[A\n",
      "Processing Frames:  80%|████████  | 4/5 [00:12<00:03,  3.17s/it]\u001b[A\n",
      "Processing Frames: 100%|██████████| 5/5 [00:15<00:00,  3.13s/it]\u001b[A\n",
      "Processing Videos:  15%|█▌        | 106/698 [33:38<3:04:13, 18.67s/it]"
     ]
    },
    {
     "name": "stdout",
     "output_type": "stream",
     "text": [
      "File Name: nguyentanmo_7261939828202261762.mp4, File Size: 0.96 MB\n",
      "Total frames in video: 295\n",
      "Frame indices to extract: [0, 59, 118, 177, 236]\n",
      "Extracted 5 frames.\n"
     ]
    },
    {
     "name": "stderr",
     "output_type": "stream",
     "text": [
      "\n",
      "Processing Frames:   0%|          | 0/5 [00:00<?, ?it/s]\u001b[A\n",
      "Processing Frames:  20%|██        | 1/5 [00:05<00:20,  5.14s/it]\u001b[A\n",
      "Processing Frames:  40%|████      | 2/5 [00:09<00:13,  4.61s/it]\u001b[A\n",
      "Processing Frames:  60%|██████    | 3/5 [00:12<00:08,  4.05s/it]\u001b[A\n",
      "Processing Frames:  80%|████████  | 4/5 [00:15<00:03,  3.72s/it]\u001b[A\n",
      "Processing Frames: 100%|██████████| 5/5 [00:19<00:00,  3.88s/it]\u001b[A\n",
      "Processing Videos:  15%|█▌        | 107/698 [34:00<3:11:49, 19.47s/it]"
     ]
    },
    {
     "name": "stdout",
     "output_type": "stream",
     "text": [
      "File Name: cutebaby2855_7283710518970354949.mp4, File Size: 0.84 MB\n",
      "Total frames in video: 189\n",
      "Frame indices to extract: [0, 37, 75, 113, 151]\n",
      "Extracted 5 frames.\n"
     ]
    },
    {
     "name": "stderr",
     "output_type": "stream",
     "text": [
      "\n",
      "Processing Frames:   0%|          | 0/5 [00:00<?, ?it/s]\u001b[A\n",
      "Processing Frames:  20%|██        | 1/5 [00:03<00:13,  3.41s/it]\u001b[A\n",
      "Processing Frames:  40%|████      | 2/5 [00:06<00:09,  3.28s/it]\u001b[A\n",
      "Processing Frames:  60%|██████    | 3/5 [00:09<00:06,  3.10s/it]\u001b[A\n",
      "Processing Frames:  80%|████████  | 4/5 [00:13<00:03,  3.28s/it]\u001b[A\n",
      "Processing Frames: 100%|██████████| 5/5 [00:16<00:00,  3.21s/it]\u001b[A\n",
      "Processing Videos:  15%|█▌        | 108/698 [34:17<3:06:15, 18.94s/it]"
     ]
    },
    {
     "name": "stdout",
     "output_type": "stream",
     "text": [
      "File Name: patt.tran_7096056115716279578.mp4, File Size: 1.85 MB\n",
      "Total frames in video: 409\n",
      "Frame indices to extract: [0, 81, 163, 245, 327]\n",
      "Extracted 5 frames.\n"
     ]
    },
    {
     "name": "stderr",
     "output_type": "stream",
     "text": [
      "\n",
      "Processing Frames:   0%|          | 0/5 [00:00<?, ?it/s]\u001b[A\n",
      "Processing Frames:  20%|██        | 1/5 [00:03<00:12,  3.22s/it]\u001b[A\n",
      "Processing Frames:  40%|████      | 2/5 [00:06<00:09,  3.23s/it]\u001b[A\n",
      "Processing Frames:  60%|██████    | 3/5 [00:09<00:06,  3.24s/it]\u001b[A\n",
      "Processing Frames:  80%|████████  | 4/5 [00:12<00:03,  3.02s/it]\u001b[A\n",
      "Processing Frames: 100%|██████████| 5/5 [00:15<00:00,  3.09s/it]\u001b[A\n",
      "Processing Videos:  16%|█▌        | 109/698 [34:34<3:00:45, 18.41s/it]"
     ]
    },
    {
     "name": "stdout",
     "output_type": "stream",
     "text": [
      "File Name: haan.nghiem_7304257144893738242.mp4, File Size: 30.16 MB\n",
      "Total frames in video: 7138\n",
      "Frame indices to extract: [0, 1427, 2855, 4282, 5710]\n",
      "Extracted 5 frames.\n"
     ]
    },
    {
     "name": "stderr",
     "output_type": "stream",
     "text": [
      "\n",
      "Processing Frames:   0%|          | 0/5 [00:00<?, ?it/s]\u001b[A\n",
      "Processing Frames:  20%|██        | 1/5 [00:03<00:13,  3.49s/it]\u001b[A\n",
      "Processing Frames:  40%|████      | 2/5 [00:06<00:09,  3.21s/it]\u001b[A\n",
      "Processing Frames:  60%|██████    | 3/5 [00:09<00:06,  3.30s/it]\u001b[A\n",
      "Processing Frames:  80%|████████  | 4/5 [00:13<00:03,  3.38s/it]\u001b[A\n",
      "Processing Frames: 100%|██████████| 5/5 [00:17<00:00,  3.45s/it]\u001b[A\n",
      "Processing Videos:  16%|█▌        | 110/698 [34:54<3:04:10, 18.79s/it]"
     ]
    },
    {
     "name": "stdout",
     "output_type": "stream",
     "text": [
      "File Name: elyitclean_7342863673691753746.mp4, File Size: 11.50 MB\n",
      "Total frames in video: 5786\n",
      "Frame indices to extract: [0, 1157, 2314, 3471, 4628]\n",
      "Extracted 5 frames.\n"
     ]
    },
    {
     "name": "stderr",
     "output_type": "stream",
     "text": [
      "\n",
      "Processing Frames:   0%|          | 0/5 [00:00<?, ?it/s]\u001b[A\n",
      "Processing Frames:  20%|██        | 1/5 [00:03<00:13,  3.28s/it]\u001b[A\n",
      "Processing Frames:  40%|████      | 2/5 [00:06<00:09,  3.13s/it]\u001b[A\n",
      "Processing Frames:  60%|██████    | 3/5 [00:09<00:06,  3.33s/it]\u001b[A\n",
      "Processing Frames:  80%|████████  | 4/5 [00:12<00:03,  3.24s/it]\u001b[A\n",
      "Processing Frames: 100%|██████████| 5/5 [00:16<00:00,  3.34s/it]\u001b[A\n",
      "Processing Videos:  16%|█▌        | 111/698 [35:13<3:03:22, 18.74s/it]"
     ]
    },
    {
     "name": "stdout",
     "output_type": "stream",
     "text": [
      "File Name: hamuvevoi_7261949013962837255.mp4, File Size: 5.70 MB\n",
      "Total frames in video: 3597\n",
      "Frame indices to extract: [0, 719, 1438, 2158, 2877]\n",
      "Extracted 5 frames.\n"
     ]
    },
    {
     "name": "stderr",
     "output_type": "stream",
     "text": [
      "\n",
      "Processing Frames:   0%|          | 0/5 [00:00<?, ?it/s]\u001b[A\n",
      "Processing Frames:  20%|██        | 1/5 [00:03<00:14,  3.64s/it]\u001b[A\n",
      "Processing Frames:  40%|████      | 2/5 [00:06<00:10,  3.36s/it]\u001b[A\n",
      "Processing Frames:  60%|██████    | 3/5 [00:10<00:07,  3.60s/it]\u001b[A\n",
      "Processing Frames:  80%|████████  | 4/5 [00:15<00:04,  4.10s/it]\u001b[A\n",
      "Processing Frames: 100%|██████████| 5/5 [00:18<00:00,  3.75s/it]\u001b[A\n",
      "Processing Videos:  16%|█▌        | 112/698 [35:34<3:09:38, 19.42s/it]"
     ]
    },
    {
     "name": "stdout",
     "output_type": "stream",
     "text": [
      "File Name: camapchuadaiduong_7287823807514021122.mp4, File Size: 9.45 MB\n",
      "Total frames in video: 601\n",
      "Frame indices to extract: [0, 120, 240, 360, 480]\n",
      "Extracted 5 frames.\n"
     ]
    },
    {
     "name": "stderr",
     "output_type": "stream",
     "text": [
      "\n",
      "Processing Frames:   0%|          | 0/5 [00:00<?, ?it/s]\u001b[A\n",
      "Processing Frames:  20%|██        | 1/5 [00:02<00:10,  2.55s/it]\u001b[A\n",
      "Processing Frames:  40%|████      | 2/5 [00:05<00:07,  2.62s/it]\u001b[A\n",
      "Processing Frames:  60%|██████    | 3/5 [00:08<00:05,  2.80s/it]\u001b[A\n",
      "Processing Frames:  80%|████████  | 4/5 [00:11<00:02,  2.82s/it]\u001b[A\n",
      "Processing Frames: 100%|██████████| 5/5 [00:14<00:00,  2.90s/it]\u001b[A\n",
      "Processing Videos:  16%|█▌        | 113/698 [35:51<3:01:50, 18.65s/it]"
     ]
    },
    {
     "name": "stdout",
     "output_type": "stream",
     "text": [
      "File Name: anden75_7363263596974853383.mp4, File Size: 13.41 MB\n",
      "Total frames in video: 1955\n",
      "Frame indices to extract: [0, 391, 782, 1173, 1564]\n",
      "Extracted 5 frames.\n"
     ]
    },
    {
     "name": "stderr",
     "output_type": "stream",
     "text": [
      "\n",
      "Processing Frames:   0%|          | 0/5 [00:00<?, ?it/s]\u001b[A\n",
      "Processing Frames:  20%|██        | 1/5 [00:04<00:18,  4.64s/it]\u001b[A\n",
      "Processing Frames:  40%|████      | 2/5 [00:07<00:11,  3.81s/it]\u001b[A\n",
      "Processing Frames:  60%|██████    | 3/5 [00:11<00:07,  3.61s/it]\u001b[A\n",
      "Processing Frames:  80%|████████  | 4/5 [00:14<00:03,  3.66s/it]\u001b[A\n",
      "Processing Frames: 100%|██████████| 5/5 [00:18<00:00,  3.69s/it]\u001b[A\n",
      "Processing Videos:  16%|█▋        | 114/698 [36:11<3:07:17, 19.24s/it]"
     ]
    },
    {
     "name": "stdout",
     "output_type": "stream",
     "text": [
      "File Name: anden75_7351759811035335957.mp4, File Size: 39.09 MB\n",
      "Total frames in video: 6060\n",
      "Frame indices to extract: [0, 1212, 2424, 3636, 4848]\n",
      "Extracted 5 frames.\n"
     ]
    },
    {
     "name": "stderr",
     "output_type": "stream",
     "text": [
      "\n",
      "Processing Frames:   0%|          | 0/5 [00:00<?, ?it/s]\u001b[A\n",
      "Processing Frames:  20%|██        | 1/5 [00:03<00:12,  3.05s/it]\u001b[A\n",
      "Processing Frames:  40%|████      | 2/5 [00:06<00:10,  3.41s/it]\u001b[A\n",
      "Processing Frames:  60%|██████    | 3/5 [00:09<00:06,  3.16s/it]\u001b[A\n",
      "Processing Frames:  80%|████████  | 4/5 [00:12<00:03,  3.25s/it]\u001b[A\n",
      "Processing Frames: 100%|██████████| 5/5 [00:16<00:00,  3.33s/it]\u001b[A\n",
      "Processing Videos:  16%|█▋        | 115/698 [36:30<3:04:45, 19.01s/it]"
     ]
    },
    {
     "name": "stdout",
     "output_type": "stream",
     "text": [
      "File Name: em.xinh98_6830691751280397570.mp4, File Size: 3.86 MB\n",
      "Total frames in video: 1171\n",
      "Frame indices to extract: [0, 234, 468, 702, 936]\n",
      "Extracted 5 frames.\n"
     ]
    },
    {
     "name": "stderr",
     "output_type": "stream",
     "text": [
      "\n",
      "Processing Frames:   0%|          | 0/5 [00:00<?, ?it/s]\u001b[A\n",
      "Processing Frames:  20%|██        | 1/5 [00:03<00:13,  3.27s/it]\u001b[A\n",
      "Processing Frames:  40%|████      | 2/5 [00:06<00:10,  3.35s/it]\u001b[A\n",
      "Processing Frames:  60%|██████    | 3/5 [00:10<00:07,  3.73s/it]\u001b[A\n",
      "Processing Frames:  80%|████████  | 4/5 [00:14<00:03,  3.60s/it]\u001b[A\n",
      "Processing Frames: 100%|██████████| 5/5 [00:17<00:00,  3.54s/it]\u001b[A\n",
      "Processing Videos:  17%|█▋        | 116/698 [36:49<3:06:15, 19.20s/it]"
     ]
    },
    {
     "name": "stdout",
     "output_type": "stream",
     "text": [
      "File Name: antoniglia_7347896232225869089.mp4, File Size: 2.32 MB\n",
      "Total frames in video: 444\n",
      "Frame indices to extract: [0, 88, 177, 266, 355]\n",
      "Extracted 5 frames.\n"
     ]
    },
    {
     "name": "stderr",
     "output_type": "stream",
     "text": [
      "\n",
      "Processing Frames:   0%|          | 0/5 [00:00<?, ?it/s]\u001b[A\n",
      "Processing Frames:  20%|██        | 1/5 [00:04<00:17,  4.36s/it]\u001b[A\n",
      "Processing Frames:  40%|████      | 2/5 [00:07<00:10,  3.48s/it]\u001b[A\n",
      "Processing Frames:  60%|██████    | 3/5 [00:11<00:08,  4.02s/it]\u001b[A\n",
      "Processing Frames:  80%|████████  | 4/5 [00:14<00:03,  3.58s/it]\u001b[A\n",
      "Processing Frames: 100%|██████████| 5/5 [00:17<00:00,  3.57s/it]\u001b[A\n",
      "Processing Videos:  17%|█▋        | 117/698 [37:09<3:07:16, 19.34s/it]"
     ]
    },
    {
     "name": "stdout",
     "output_type": "stream",
     "text": [
      "File Name: hoshiphan_7374219411109973255.mp4, File Size: 14.27 MB\n",
      "Total frames in video: 2704\n",
      "Frame indices to extract: [0, 540, 1081, 1622, 2163]\n",
      "Extracted 5 frames.\n"
     ]
    },
    {
     "name": "stderr",
     "output_type": "stream",
     "text": [
      "\n",
      "Processing Frames:   0%|          | 0/5 [00:00<?, ?it/s]\u001b[A\n",
      "Processing Frames:  20%|██        | 1/5 [00:03<00:13,  3.44s/it]\u001b[A\n",
      "Processing Frames:  40%|████      | 2/5 [00:07<00:11,  3.71s/it]\u001b[A\n",
      "Processing Frames:  60%|██████    | 3/5 [00:10<00:07,  3.68s/it]\u001b[A\n",
      "Processing Frames:  80%|████████  | 4/5 [00:14<00:03,  3.72s/it]\u001b[A\n",
      "Processing Frames: 100%|██████████| 5/5 [00:19<00:00,  3.82s/it]\u001b[A\n",
      "Processing Videos:  17%|█▋        | 118/698 [37:30<3:11:33, 19.82s/it]"
     ]
    },
    {
     "name": "stdout",
     "output_type": "stream",
     "text": [
      "File Name: asmr.satisfyyng_7299837588368559365.mp4, File Size: 17.56 MB\n",
      "Total frames in video: 3130\n",
      "Frame indices to extract: [0, 626, 1252, 1878, 2504]\n",
      "Extracted 5 frames.\n"
     ]
    },
    {
     "name": "stderr",
     "output_type": "stream",
     "text": [
      "\n",
      "Processing Frames:   0%|          | 0/5 [00:00<?, ?it/s]\u001b[A\n",
      "Processing Frames:  20%|██        | 1/5 [00:04<00:17,  4.50s/it]\u001b[A\n",
      "Processing Frames:  40%|████      | 2/5 [00:07<00:10,  3.56s/it]\u001b[A\n",
      "Processing Frames:  60%|██████    | 3/5 [00:10<00:07,  3.57s/it]\u001b[A\n",
      "Processing Frames:  80%|████████  | 4/5 [00:14<00:03,  3.50s/it]\u001b[A\n",
      "Processing Frames: 100%|██████████| 5/5 [00:18<00:00,  3.64s/it]\u001b[A\n",
      "Processing Videos:  17%|█▋        | 119/698 [37:50<3:11:42, 19.87s/it]"
     ]
    },
    {
     "name": "stdout",
     "output_type": "stream",
     "text": [
      "File Name: chutuphuyen_7372762290354965761.mp4, File Size: 12.85 MB\n",
      "Total frames in video: 1824\n",
      "Frame indices to extract: [0, 364, 729, 1094, 1459]\n",
      "Extracted 5 frames.\n"
     ]
    },
    {
     "name": "stderr",
     "output_type": "stream",
     "text": [
      "\n",
      "Processing Frames:   0%|          | 0/5 [00:00<?, ?it/s]\u001b[A\n",
      "Processing Frames:  20%|██        | 1/5 [00:03<00:13,  3.25s/it]\u001b[A\n",
      "Processing Frames:  40%|████      | 2/5 [00:06<00:09,  3.15s/it]\u001b[A\n",
      "Processing Frames:  60%|██████    | 3/5 [00:09<00:06,  3.10s/it]\u001b[A\n",
      "Processing Frames:  80%|████████  | 4/5 [00:12<00:03,  3.01s/it]\u001b[A\n",
      "Processing Frames: 100%|██████████| 5/5 [00:16<00:00,  3.27s/it]\u001b[A\n",
      "Processing Videos:  17%|█▋        | 120/698 [38:09<3:09:03, 19.63s/it]"
     ]
    },
    {
     "name": "stdout",
     "output_type": "stream",
     "text": [
      "File Name: mocuabatoctv_7066675643907378458.mp4, File Size: 8.56 MB\n",
      "Total frames in video: 1458\n",
      "Frame indices to extract: [0, 291, 583, 874, 1166]\n",
      "Extracted 5 frames.\n"
     ]
    },
    {
     "name": "stderr",
     "output_type": "stream",
     "text": [
      "\n",
      "Processing Frames:   0%|          | 0/5 [00:00<?, ?it/s]\u001b[A\n",
      "Processing Frames:  20%|██        | 1/5 [00:03<00:14,  3.62s/it]\u001b[A\n",
      "Processing Frames:  40%|████      | 2/5 [00:07<00:10,  3.49s/it]\u001b[A\n",
      "Processing Frames:  60%|██████    | 3/5 [00:10<00:06,  3.30s/it]\u001b[A\n",
      "Processing Frames:  80%|████████  | 4/5 [00:13<00:03,  3.27s/it]\u001b[A\n",
      "Processing Frames: 100%|██████████| 5/5 [00:16<00:00,  3.27s/it]\u001b[A\n",
      "Processing Videos:  17%|█▋        | 121/698 [38:27<3:04:40, 19.20s/it]"
     ]
    },
    {
     "name": "stdout",
     "output_type": "stream",
     "text": [
      "File Name: anden75_7359560951412067604.mp4, File Size: 12.79 MB\n",
      "Total frames in video: 2461\n",
      "Frame indices to extract: [0, 492, 984, 1476, 1968]\n",
      "Extracted 5 frames.\n"
     ]
    },
    {
     "name": "stderr",
     "output_type": "stream",
     "text": [
      "\n",
      "Processing Frames:   0%|          | 0/5 [00:00<?, ?it/s]\u001b[A\n",
      "Processing Frames:  20%|██        | 1/5 [00:03<00:14,  3.62s/it]\u001b[A\n",
      "Processing Frames:  40%|████      | 2/5 [00:07<00:11,  3.72s/it]\u001b[A\n",
      "Processing Frames:  60%|██████    | 3/5 [00:11<00:08,  4.06s/it]\u001b[A\n",
      "Processing Frames:  80%|████████  | 4/5 [00:14<00:03,  3.65s/it]\u001b[A\n",
      "Processing Frames: 100%|██████████| 5/5 [00:17<00:00,  3.59s/it]\u001b[A\n",
      "Processing Videos:  17%|█▋        | 122/698 [38:47<3:07:03, 19.48s/it]"
     ]
    },
    {
     "name": "stdout",
     "output_type": "stream",
     "text": [
      "File Name: cochuoithichdi_35_7281327376678571266.mp4, File Size: 23.22 MB\n",
      "Total frames in video: 2674\n",
      "Frame indices to extract: [0, 534, 1069, 1604, 2139]\n",
      "Extracted 5 frames.\n"
     ]
    },
    {
     "name": "stderr",
     "output_type": "stream",
     "text": [
      "\n",
      "Processing Frames:   0%|          | 0/5 [00:00<?, ?it/s]\u001b[A\n",
      "Processing Frames:  20%|██        | 1/5 [00:03<00:12,  3.05s/it]\u001b[A\n",
      "Processing Frames:  40%|████      | 2/5 [00:06<00:09,  3.04s/it]\u001b[A\n",
      "Processing Frames:  60%|██████    | 3/5 [00:09<00:06,  3.13s/it]\u001b[A\n",
      "Processing Frames:  80%|████████  | 4/5 [00:12<00:03,  3.09s/it]\u001b[A\n",
      "Processing Frames: 100%|██████████| 5/5 [00:14<00:00,  2.97s/it]\u001b[A\n",
      "Processing Videos:  18%|█▊        | 123/698 [39:04<2:58:49, 18.66s/it]"
     ]
    },
    {
     "name": "stdout",
     "output_type": "stream",
     "text": [
      "File Name: quyensachnho_7370309303414164744.mp4, File Size: 2.84 MB\n",
      "Total frames in video: 455\n",
      "Frame indices to extract: [0, 91, 182, 273, 364]\n",
      "Extracted 5 frames.\n"
     ]
    },
    {
     "name": "stderr",
     "output_type": "stream",
     "text": [
      "\n",
      "Processing Frames:   0%|          | 0/5 [00:00<?, ?it/s]\u001b[A\n",
      "Processing Frames:  20%|██        | 1/5 [00:03<00:13,  3.28s/it]\u001b[A\n",
      "Processing Frames:  40%|████      | 2/5 [00:07<00:11,  3.95s/it]\u001b[A\n",
      "Processing Frames:  60%|██████    | 3/5 [00:10<00:07,  3.61s/it]\u001b[A\n",
      "Processing Frames:  80%|████████  | 4/5 [00:13<00:03,  3.40s/it]\u001b[A\n",
      "Processing Frames: 100%|██████████| 5/5 [00:16<00:00,  3.37s/it]\u001b[A\n",
      "Processing Videos:  18%|█▊        | 124/698 [39:23<2:58:54, 18.70s/it]"
     ]
    },
    {
     "name": "stdout",
     "output_type": "stream",
     "text": [
      "File Name: nh.bn.tp.ho.20_7373229987429682448.mp4, File Size: 16.66 MB\n",
      "Total frames in video: 1900\n",
      "Frame indices to extract: [0, 380, 760, 1140, 1520]\n",
      "Extracted 5 frames.\n"
     ]
    },
    {
     "name": "stderr",
     "output_type": "stream",
     "text": [
      "\n",
      "Processing Frames:   0%|          | 0/5 [00:00<?, ?it/s]\u001b[A\n",
      "Processing Frames:  20%|██        | 1/5 [00:03<00:12,  3.07s/it]\u001b[A\n",
      "Processing Frames:  40%|████      | 2/5 [00:06<00:09,  3.09s/it]\u001b[A\n",
      "Processing Frames:  60%|██████    | 3/5 [00:09<00:06,  3.32s/it]\u001b[A\n",
      "Processing Frames:  80%|████████  | 4/5 [00:13<00:03,  3.34s/it]\u001b[A\n",
      "Processing Frames: 100%|██████████| 5/5 [00:16<00:00,  3.28s/it]\u001b[A\n",
      "Processing Videos:  18%|█▊        | 125/698 [39:41<2:57:12, 18.56s/it]"
     ]
    },
    {
     "name": "stdout",
     "output_type": "stream",
     "text": [
      "File Name: bodacious1__7229998815799954715.mp4, File Size: 1.66 MB\n",
      "Total frames in video: 1100\n",
      "Frame indices to extract: [0, 220, 440, 660, 880]\n",
      "Extracted 5 frames.\n"
     ]
    },
    {
     "name": "stderr",
     "output_type": "stream",
     "text": [
      "\n",
      "Processing Frames:   0%|          | 0/5 [00:00<?, ?it/s]\u001b[A\n",
      "Processing Frames:  20%|██        | 1/5 [00:04<00:18,  4.65s/it]\u001b[A\n",
      "Processing Frames:  40%|████      | 2/5 [00:08<00:12,  4.04s/it]\u001b[A\n",
      "Processing Frames:  60%|██████    | 3/5 [00:11<00:07,  3.74s/it]\u001b[A\n",
      "Processing Frames:  80%|████████  | 4/5 [00:15<00:03,  3.60s/it]\u001b[A\n",
      "Processing Frames: 100%|██████████| 5/5 [00:18<00:00,  3.69s/it]\u001b[A\n",
      "Processing Videos:  18%|█▊        | 126/698 [40:01<3:01:45, 19.07s/it]"
     ]
    },
    {
     "name": "stdout",
     "output_type": "stream",
     "text": [
      "File Name: colortour68_7278668412522630401.mp4, File Size: 4.60 MB\n",
      "Total frames in video: 1376\n",
      "Frame indices to extract: [0, 275, 550, 825, 1100]\n",
      "Extracted 5 frames.\n"
     ]
    },
    {
     "name": "stderr",
     "output_type": "stream",
     "text": [
      "\n",
      "Processing Frames:   0%|          | 0/5 [00:00<?, ?it/s]\u001b[A\n",
      "Processing Frames:  20%|██        | 1/5 [00:03<00:12,  3.07s/it]\u001b[A\n",
      "Processing Frames:  40%|████      | 2/5 [00:06<00:09,  3.07s/it]\u001b[A\n",
      "Processing Frames:  60%|██████    | 3/5 [00:09<00:06,  3.14s/it]\u001b[A\n",
      "Processing Frames:  80%|████████  | 4/5 [00:11<00:02,  2.81s/it]\u001b[A\n",
      "Processing Frames: 100%|██████████| 5/5 [00:15<00:00,  3.11s/it]\u001b[A\n",
      "Processing Videos:  18%|█▊        | 127/698 [40:19<2:56:58, 18.60s/it]"
     ]
    },
    {
     "name": "stdout",
     "output_type": "stream",
     "text": [
      "File Name: _royal.vietnam__7253327922054827270.mp4, File Size: 2.42 MB\n",
      "Total frames in video: 472\n",
      "Frame indices to extract: [0, 94, 188, 283, 377]\n",
      "Extracted 5 frames.\n"
     ]
    },
    {
     "name": "stderr",
     "output_type": "stream",
     "text": [
      "\n",
      "Processing Frames:   0%|          | 0/5 [00:00<?, ?it/s]\u001b[A\n",
      "Processing Frames:  20%|██        | 1/5 [00:03<00:15,  3.99s/it]\u001b[A\n",
      "Processing Frames:  40%|████      | 2/5 [00:07<00:11,  3.78s/it]\u001b[A\n",
      "Processing Frames:  60%|██████    | 3/5 [00:11<00:07,  3.61s/it]\u001b[A\n",
      "Processing Frames:  80%|████████  | 4/5 [00:14<00:03,  3.60s/it]\u001b[A\n",
      "Processing Frames: 100%|██████████| 5/5 [00:18<00:00,  3.64s/it]\u001b[A\n",
      "Processing Videos:  18%|█▊        | 128/698 [40:40<3:02:51, 19.25s/it]"
     ]
    },
    {
     "name": "stdout",
     "output_type": "stream",
     "text": [
      "File Name: mattpianoman_7373596942577700103.mp4, File Size: 16.33 MB\n",
      "Total frames in video: 2782\n",
      "Frame indices to extract: [0, 556, 1112, 1669, 2225]\n",
      "Extracted 5 frames.\n"
     ]
    },
    {
     "name": "stderr",
     "output_type": "stream",
     "text": [
      "\n",
      "Processing Frames:   0%|          | 0/5 [00:00<?, ?it/s]\u001b[A\n",
      "Processing Frames:  20%|██        | 1/5 [00:03<00:15,  3.99s/it]\u001b[A\n",
      "Processing Frames:  40%|████      | 2/5 [00:07<00:10,  3.45s/it]\u001b[A\n",
      "Processing Frames:  60%|██████    | 3/5 [00:10<00:07,  3.63s/it]\u001b[A\n",
      "Processing Frames:  80%|████████  | 4/5 [00:14<00:03,  3.53s/it]\u001b[A\n",
      "Processing Frames: 100%|██████████| 5/5 [00:17<00:00,  3.47s/it]\u001b[A\n",
      "Processing Videos:  18%|█▊        | 129/698 [40:59<3:03:51, 19.39s/it]"
     ]
    },
    {
     "name": "stdout",
     "output_type": "stream",
     "text": [
      "File Name: thuankieu010_7226243396489415982.mp4, File Size: 6.60 MB\n",
      "Total frames in video: 5232\n",
      "Frame indices to extract: [0, 1046, 2092, 3139, 4185]\n",
      "Extracted 5 frames.\n"
     ]
    },
    {
     "name": "stderr",
     "output_type": "stream",
     "text": [
      "\n",
      "Processing Frames:   0%|          | 0/5 [00:00<?, ?it/s]\u001b[A\n",
      "Processing Frames:  20%|██        | 1/5 [00:03<00:12,  3.07s/it]\u001b[A\n",
      "Processing Frames:  40%|████      | 2/5 [00:06<00:10,  3.46s/it]\u001b[A\n",
      "Processing Frames:  60%|██████    | 3/5 [00:10<00:06,  3.45s/it]\u001b[A\n",
      "Processing Frames:  80%|████████  | 4/5 [00:13<00:03,  3.34s/it]\u001b[A\n",
      "Processing Frames: 100%|██████████| 5/5 [00:17<00:00,  3.44s/it]\u001b[A\n",
      "Processing Videos:  19%|█▊        | 130/698 [41:19<3:03:15, 19.36s/it]"
     ]
    },
    {
     "name": "stdout",
     "output_type": "stream",
     "text": [
      "File Name: the_cookie_baker_6894426028140186886.mp4, File Size: 9.71 MB\n",
      "Total frames in video: 1699\n",
      "Frame indices to extract: [0, 339, 679, 1019, 1359]\n",
      "Extracted 5 frames.\n"
     ]
    },
    {
     "name": "stderr",
     "output_type": "stream",
     "text": [
      "\n",
      "Processing Frames:   0%|          | 0/5 [00:00<?, ?it/s]\u001b[A\n",
      "Processing Frames:  20%|██        | 1/5 [00:03<00:15,  3.83s/it]\u001b[A\n",
      "Processing Frames:  40%|████      | 2/5 [00:07<00:11,  3.81s/it]\u001b[A\n",
      "Processing Frames:  60%|██████    | 3/5 [00:10<00:06,  3.37s/it]\u001b[A\n",
      "Processing Frames:  80%|████████  | 4/5 [00:14<00:03,  3.60s/it]\u001b[A\n",
      "Processing Frames: 100%|██████████| 5/5 [00:17<00:00,  3.46s/it]\u001b[A\n",
      "Processing Videos:  19%|█▉        | 131/698 [41:38<3:03:29, 19.42s/it]"
     ]
    },
    {
     "name": "stdout",
     "output_type": "stream",
     "text": [
      "File Name: music98s_7261475591034113288.mp4, File Size: 6.43 MB\n",
      "Total frames in video: 3840\n",
      "Frame indices to extract: [0, 768, 1536, 2304, 3072]\n",
      "Extracted 5 frames.\n"
     ]
    },
    {
     "name": "stderr",
     "output_type": "stream",
     "text": [
      "\n",
      "Processing Frames:   0%|          | 0/5 [00:00<?, ?it/s]\u001b[A\n",
      "Processing Frames:  20%|██        | 1/5 [00:03<00:13,  3.42s/it]\u001b[A\n",
      "Processing Frames:  40%|████      | 2/5 [00:06<00:10,  3.41s/it]\u001b[A\n",
      "Processing Frames:  60%|██████    | 3/5 [00:10<00:06,  3.43s/it]\u001b[A\n",
      "Processing Frames:  80%|████████  | 4/5 [00:13<00:03,  3.42s/it]\u001b[A\n",
      "Processing Frames: 100%|██████████| 5/5 [00:17<00:00,  3.58s/it]\u001b[A\n",
      "Processing Videos:  19%|█▉        | 132/698 [41:58<3:03:31, 19.45s/it]"
     ]
    },
    {
     "name": "stdout",
     "output_type": "stream",
     "text": [
      "File Name: ngochienho.06_7372018267877035265.mp4, File Size: 4.46 MB\n",
      "Total frames in video: 695\n",
      "Frame indices to extract: [0, 139, 278, 417, 556]\n",
      "Extracted 5 frames.\n"
     ]
    },
    {
     "name": "stderr",
     "output_type": "stream",
     "text": [
      "\n",
      "Processing Frames:   0%|          | 0/5 [00:00<?, ?it/s]\u001b[A\n",
      "Processing Frames:  20%|██        | 1/5 [00:02<00:11,  2.90s/it]\u001b[A\n",
      "Processing Frames:  40%|████      | 2/5 [00:05<00:08,  2.89s/it]\u001b[A\n",
      "Processing Frames:  60%|██████    | 3/5 [00:08<00:05,  2.89s/it]\u001b[A\n",
      "Processing Frames:  80%|████████  | 4/5 [00:11<00:03,  3.03s/it]\u001b[A\n",
      "Processing Frames: 100%|██████████| 5/5 [00:14<00:00,  2.99s/it]\u001b[A\n",
      "Processing Videos:  19%|█▉        | 133/698 [42:15<2:56:29, 18.74s/it]"
     ]
    },
    {
     "name": "stdout",
     "output_type": "stream",
     "text": [
      "File Name: huydoan571_7303808938007334162.mp4, File Size: 2.81 MB\n",
      "Total frames in video: 226\n",
      "Frame indices to extract: [0, 45, 90, 135, 180]\n",
      "Extracted 5 frames.\n"
     ]
    },
    {
     "name": "stderr",
     "output_type": "stream",
     "text": [
      "\n",
      "Processing Frames:   0%|          | 0/5 [00:00<?, ?it/s]\u001b[A\n",
      "Processing Frames:  20%|██        | 1/5 [00:03<00:14,  3.66s/it]\u001b[A\n",
      "Processing Frames:  40%|████      | 2/5 [00:07<00:10,  3.60s/it]\u001b[A\n",
      "Processing Frames:  60%|██████    | 3/5 [00:10<00:07,  3.55s/it]\u001b[A\n",
      "Processing Frames:  80%|████████  | 4/5 [00:13<00:03,  3.42s/it]\u001b[A\n",
      "Processing Frames: 100%|██████████| 5/5 [00:17<00:00,  3.58s/it]\u001b[A\n",
      "Processing Videos:  19%|█▉        | 134/698 [42:35<3:01:16, 19.28s/it]"
     ]
    },
    {
     "name": "stdout",
     "output_type": "stream",
     "text": [
      "File Name: cozy..place_7271895427820162336.mp4, File Size: 3.75 MB\n",
      "Total frames in video: 588\n",
      "Frame indices to extract: [0, 117, 235, 352, 470]\n",
      "Extracted 5 frames.\n"
     ]
    },
    {
     "name": "stderr",
     "output_type": "stream",
     "text": [
      "\n",
      "Processing Frames:   0%|          | 0/5 [00:00<?, ?it/s]\u001b[A\n",
      "Processing Frames:  20%|██        | 1/5 [00:03<00:12,  3.13s/it]\u001b[A\n",
      "Processing Frames:  40%|████      | 2/5 [00:06<00:09,  3.30s/it]\u001b[A\n",
      "Processing Frames:  60%|██████    | 3/5 [00:10<00:06,  3.43s/it]\u001b[A\n",
      "Processing Frames:  80%|████████  | 4/5 [00:13<00:03,  3.37s/it]\u001b[A\n",
      "Processing Frames: 100%|██████████| 5/5 [00:16<00:00,  3.36s/it]\u001b[A\n",
      "Processing Videos:  19%|█▉        | 135/698 [42:54<3:00:35, 19.25s/it]"
     ]
    },
    {
     "name": "stdout",
     "output_type": "stream",
     "text": [
      "File Name: dungly930_7325636386806074632.mp4, File Size: 10.72 MB\n",
      "Total frames in video: 2824\n",
      "Frame indices to extract: [0, 564, 1129, 1694, 2259]\n",
      "Extracted 5 frames.\n"
     ]
    },
    {
     "name": "stderr",
     "output_type": "stream",
     "text": [
      "\n",
      "Processing Frames:   0%|          | 0/5 [00:00<?, ?it/s]\u001b[A\n",
      "Processing Frames:  20%|██        | 1/5 [00:04<00:16,  4.18s/it]\u001b[A\n",
      "Processing Frames:  40%|████      | 2/5 [00:07<00:10,  3.52s/it]\u001b[A\n",
      "Processing Frames:  60%|██████    | 3/5 [00:10<00:06,  3.21s/it]\u001b[A\n",
      "Processing Frames:  80%|████████  | 4/5 [00:13<00:03,  3.17s/it]\u001b[A\n",
      "Processing Frames: 100%|██████████| 5/5 [00:16<00:00,  3.31s/it]\u001b[A\n",
      "Processing Videos:  19%|█▉        | 136/698 [43:13<2:59:28, 19.16s/it]"
     ]
    },
    {
     "name": "stdout",
     "output_type": "stream",
     "text": [
      "File Name: hamuvevoi_7261206626093255944.mp4, File Size: 7.96 MB\n",
      "Total frames in video: 2426\n",
      "Frame indices to extract: [0, 485, 970, 1455, 1940]\n",
      "Extracted 5 frames.\n"
     ]
    },
    {
     "name": "stderr",
     "output_type": "stream",
     "text": [
      "\n",
      "Processing Frames:   0%|          | 0/5 [00:00<?, ?it/s]\u001b[A\n",
      "Processing Frames:  20%|██        | 1/5 [00:03<00:13,  3.29s/it]\u001b[A\n",
      "Processing Frames:  40%|████      | 2/5 [00:06<00:09,  3.24s/it]\u001b[A\n",
      "Processing Frames:  60%|██████    | 3/5 [00:09<00:06,  3.22s/it]\u001b[A\n",
      "Processing Frames:  80%|████████  | 4/5 [00:12<00:03,  3.22s/it]\u001b[A\n",
      "Processing Frames: 100%|██████████| 5/5 [00:16<00:00,  3.29s/it]\u001b[A\n",
      "Processing Videos:  20%|█▉        | 137/698 [43:32<2:57:17, 18.96s/it]"
     ]
    },
    {
     "name": "stdout",
     "output_type": "stream",
     "text": [
      "File Name: _moew14__7310917932995874050.mp4, File Size: 0.44 MB\n",
      "Total frames in video: 241\n",
      "Frame indices to extract: [0, 48, 96, 144, 192]\n",
      "Extracted 5 frames.\n"
     ]
    },
    {
     "name": "stderr",
     "output_type": "stream",
     "text": [
      "\n",
      "Processing Frames:   0%|          | 0/5 [00:00<?, ?it/s]\u001b[A\n",
      "Processing Frames:  20%|██        | 1/5 [00:02<00:11,  2.88s/it]\u001b[A\n",
      "Processing Frames:  40%|████      | 2/5 [00:05<00:08,  2.89s/it]\u001b[A\n",
      "Processing Frames:  60%|██████    | 3/5 [00:08<00:05,  2.87s/it]\u001b[A\n",
      "Processing Frames:  80%|████████  | 4/5 [00:11<00:02,  2.86s/it]\u001b[A\n",
      "Processing Frames: 100%|██████████| 5/5 [00:14<00:00,  2.86s/it]\u001b[A\n",
      "Processing Videos:  20%|█▉        | 138/698 [43:48<2:49:20, 18.14s/it]"
     ]
    },
    {
     "name": "stdout",
     "output_type": "stream",
     "text": [
      "File Name: 10vancauhoivisao247_7095301537336937755.mp4, File Size: 7.34 MB\n",
      "Total frames in video: 3012\n",
      "Frame indices to extract: [0, 602, 1204, 1807, 2409]\n",
      "Extracted 5 frames.\n"
     ]
    },
    {
     "name": "stderr",
     "output_type": "stream",
     "text": [
      "\n",
      "Processing Frames:   0%|          | 0/5 [00:00<?, ?it/s]\u001b[A\n",
      "Processing Frames:  20%|██        | 1/5 [00:04<00:17,  4.33s/it]\u001b[A\n",
      "Processing Frames:  40%|████      | 2/5 [00:06<00:09,  3.03s/it]\u001b[A\n",
      "Processing Frames:  60%|██████    | 3/5 [00:09<00:05,  2.96s/it]\u001b[A\n",
      "Processing Frames:  80%|████████  | 4/5 [00:12<00:03,  3.07s/it]\u001b[A\n",
      "Processing Frames: 100%|██████████| 5/5 [00:15<00:00,  3.13s/it]\u001b[A\n",
      "Processing Videos:  20%|█▉        | 139/698 [44:06<2:47:21, 17.96s/it]"
     ]
    },
    {
     "name": "stdout",
     "output_type": "stream",
     "text": [
      "File Name: le_anh_nuoi_7315390652601208082.mp4, File Size: 27.04 MB\n",
      "Total frames in video: 3501\n",
      "Frame indices to extract: [0, 700, 1400, 2100, 2800]\n",
      "Extracted 5 frames.\n"
     ]
    },
    {
     "name": "stderr",
     "output_type": "stream",
     "text": [
      "\n",
      "Processing Frames:   0%|          | 0/5 [00:00<?, ?it/s]\u001b[A\n",
      "Processing Frames:  20%|██        | 1/5 [00:04<00:16,  4.02s/it]\u001b[A\n",
      "Processing Frames:  40%|████      | 2/5 [00:07<00:10,  3.64s/it]\u001b[A\n",
      "Processing Frames:  60%|██████    | 3/5 [00:11<00:07,  3.80s/it]\u001b[A\n",
      "Processing Frames:  80%|████████  | 4/5 [00:14<00:03,  3.57s/it]\u001b[A\n",
      "Processing Frames: 100%|██████████| 5/5 [00:17<00:00,  3.60s/it]\u001b[A\n",
      "Processing Videos:  20%|██        | 140/698 [44:26<2:53:26, 18.65s/it]"
     ]
    },
    {
     "name": "stdout",
     "output_type": "stream",
     "text": [
      "File Name: lang_cay_tay_bac_7360653794264370453.mp4, File Size: 6.41 MB\n",
      "Total frames in video: 950\n",
      "Frame indices to extract: [0, 190, 380, 570, 760]\n",
      "Extracted 5 frames.\n"
     ]
    },
    {
     "name": "stderr",
     "output_type": "stream",
     "text": [
      "\n",
      "Processing Frames:   0%|          | 0/5 [00:00<?, ?it/s]\u001b[A\n",
      "Processing Frames:  20%|██        | 1/5 [00:02<00:11,  2.95s/it]\u001b[A\n",
      "Processing Frames:  40%|████      | 2/5 [00:06<00:09,  3.11s/it]\u001b[A\n",
      "Processing Frames:  60%|██████    | 3/5 [00:09<00:06,  3.30s/it]\u001b[A\n",
      "Processing Frames:  80%|████████  | 4/5 [00:12<00:03,  3.29s/it]\u001b[A\n",
      "Processing Frames: 100%|██████████| 5/5 [00:16<00:00,  3.21s/it]\u001b[A\n",
      "Processing Videos:  20%|██        | 141/698 [44:44<2:50:51, 18.40s/it]"
     ]
    },
    {
     "name": "stdout",
     "output_type": "stream",
     "text": [
      "File Name: teubongday_7356594980393209106.mp4, File Size: 18.98 MB\n",
      "Total frames in video: 3083\n",
      "Frame indices to extract: [0, 616, 1233, 1849, 2466]\n",
      "Extracted 5 frames.\n"
     ]
    },
    {
     "name": "stderr",
     "output_type": "stream",
     "text": [
      "\n",
      "Processing Frames:   0%|          | 0/5 [00:00<?, ?it/s]\u001b[A\n",
      "Processing Frames:  20%|██        | 1/5 [00:03<00:12,  3.13s/it]\u001b[A\n",
      "Processing Frames:  40%|████      | 2/5 [00:06<00:09,  3.29s/it]\u001b[A\n",
      "Processing Frames:  60%|██████    | 3/5 [00:09<00:06,  3.26s/it]\u001b[A\n",
      "Processing Frames:  80%|████████  | 4/5 [00:12<00:03,  3.19s/it]\u001b[A\n",
      "Processing Frames: 100%|██████████| 5/5 [00:16<00:00,  3.21s/it]\u001b[A\n",
      "Processing Videos:  20%|██        | 142/698 [45:02<2:50:36, 18.41s/it]"
     ]
    },
    {
     "name": "stdout",
     "output_type": "stream",
     "text": [
      "File Name: dautocartoon_7276674902760115502.mp4, File Size: 1.98 MB\n",
      "Total frames in video: 1637\n",
      "Frame indices to extract: [0, 327, 654, 982, 1309]\n",
      "Extracted 5 frames.\n"
     ]
    },
    {
     "name": "stderr",
     "output_type": "stream",
     "text": [
      "\n",
      "Processing Frames:   0%|          | 0/5 [00:00<?, ?it/s]\u001b[A\n",
      "Processing Frames:  20%|██        | 1/5 [00:03<00:12,  3.21s/it]\u001b[A\n",
      "Processing Frames:  40%|████      | 2/5 [00:07<00:11,  3.83s/it]\u001b[A\n",
      "Processing Frames:  60%|██████    | 3/5 [00:10<00:07,  3.54s/it]\u001b[A\n",
      "Processing Frames:  80%|████████  | 4/5 [00:13<00:03,  3.34s/it]\u001b[A\n",
      "Processing Frames: 100%|██████████| 5/5 [00:16<00:00,  3.39s/it]\u001b[A\n",
      "Processing Videos:  20%|██        | 143/698 [45:21<2:51:33, 18.55s/it]"
     ]
    },
    {
     "name": "stdout",
     "output_type": "stream",
     "text": [
      "File Name: kaelimaee_7255014535252282667.mp4, File Size: 17.62 MB\n",
      "Total frames in video: 2341\n",
      "Frame indices to extract: [0, 468, 936, 1404, 1872]\n",
      "Extracted 5 frames.\n"
     ]
    },
    {
     "name": "stderr",
     "output_type": "stream",
     "text": [
      "\n",
      "Processing Frames:   0%|          | 0/5 [00:00<?, ?it/s]\u001b[A\n",
      "Processing Frames:  20%|██        | 1/5 [00:03<00:12,  3.07s/it]\u001b[A\n",
      "Processing Frames:  40%|████      | 2/5 [00:06<00:09,  3.07s/it]\u001b[A\n",
      "Processing Frames:  60%|██████    | 3/5 [00:09<00:06,  3.05s/it]\u001b[A\n",
      "Processing Frames:  80%|████████  | 4/5 [00:12<00:03,  3.26s/it]\u001b[A\n",
      "Processing Frames: 100%|██████████| 5/5 [00:16<00:00,  3.20s/it]\u001b[A\n",
      "Processing Videos:  21%|██        | 144/698 [45:39<2:49:07, 18.32s/it]"
     ]
    },
    {
     "name": "stdout",
     "output_type": "stream",
     "text": [
      "File Name: color_tour_7264617667825306882.mp4, File Size: 8.17 MB\n",
      "Total frames in video: 1260\n",
      "Frame indices to extract: [0, 252, 504, 756, 1008]\n",
      "Extracted 5 frames.\n"
     ]
    },
    {
     "name": "stderr",
     "output_type": "stream",
     "text": [
      "\n",
      "Processing Frames:   0%|          | 0/5 [00:00<?, ?it/s]\u001b[A\n",
      "Processing Frames:  20%|██        | 1/5 [00:03<00:13,  3.43s/it]\u001b[A\n",
      "Processing Frames:  40%|████      | 2/5 [00:06<00:10,  3.41s/it]\u001b[A\n",
      "Processing Frames:  60%|██████    | 3/5 [00:10<00:06,  3.34s/it]\u001b[A\n",
      "Processing Frames:  80%|████████  | 4/5 [00:13<00:03,  3.36s/it]\u001b[A\n",
      "Processing Frames: 100%|██████████| 5/5 [00:16<00:00,  3.37s/it]\u001b[A\n",
      "Processing Videos:  21%|██        | 145/698 [45:58<2:51:27, 18.60s/it]"
     ]
    },
    {
     "name": "stdout",
     "output_type": "stream",
     "text": [
      "File Name: mattpianoman_7270505446585273606.mp4, File Size: 8.20 MB\n",
      "Total frames in video: 1286\n",
      "Frame indices to extract: [0, 257, 514, 771, 1028]\n",
      "Extracted 5 frames.\n"
     ]
    },
    {
     "name": "stderr",
     "output_type": "stream",
     "text": [
      "\n",
      "Processing Frames:   0%|          | 0/5 [00:00<?, ?it/s]\u001b[A\n",
      "Processing Frames:  20%|██        | 1/5 [00:03<00:12,  3.04s/it]\u001b[A\n",
      "Processing Frames:  40%|████      | 2/5 [00:06<00:09,  3.03s/it]\u001b[A\n",
      "Processing Frames:  60%|██████    | 3/5 [00:09<00:06,  3.13s/it]\u001b[A\n",
      "Processing Frames:  80%|████████  | 4/5 [00:12<00:03,  3.20s/it]\u001b[A\n",
      "Processing Frames: 100%|██████████| 5/5 [00:16<00:00,  3.20s/it]\u001b[A\n",
      "Processing Videos:  21%|██        | 146/698 [46:17<2:51:13, 18.61s/it]"
     ]
    },
    {
     "name": "stdout",
     "output_type": "stream",
     "text": [
      "File Name: paoview__7205604031903960362.mp4, File Size: 6.29 MB\n",
      "Total frames in video: 1014\n",
      "Frame indices to extract: [0, 202, 405, 608, 811]\n",
      "Extracted 5 frames.\n"
     ]
    },
    {
     "name": "stderr",
     "output_type": "stream",
     "text": [
      "\n",
      "Processing Frames:   0%|          | 0/5 [00:00<?, ?it/s]\u001b[A\n",
      "Processing Frames:  20%|██        | 1/5 [00:02<00:09,  2.35s/it]\u001b[A\n",
      "Processing Frames:  40%|████      | 2/5 [00:05<00:08,  2.96s/it]\u001b[A\n",
      "Processing Frames:  60%|██████    | 3/5 [00:09<00:06,  3.16s/it]\u001b[A\n",
      "Processing Frames:  80%|████████  | 4/5 [00:12<00:03,  3.34s/it]\u001b[A\n",
      "Processing Frames: 100%|██████████| 5/5 [00:15<00:00,  3.19s/it]\u001b[A\n",
      "Processing Videos:  21%|██        | 147/698 [46:34<2:48:13, 18.32s/it]"
     ]
    },
    {
     "name": "stdout",
     "output_type": "stream",
     "text": [
      "File Name: asmr.satisfyyng_7278869311639407877.mp4, File Size: 25.26 MB\n",
      "Total frames in video: 4036\n",
      "Frame indices to extract: [0, 807, 1614, 2421, 3228]\n",
      "Extracted 5 frames.\n"
     ]
    },
    {
     "name": "stderr",
     "output_type": "stream",
     "text": [
      "\n",
      "Processing Frames:   0%|          | 0/5 [00:00<?, ?it/s]\u001b[A\n",
      "Processing Frames:  20%|██        | 1/5 [00:03<00:13,  3.47s/it]\u001b[A\n",
      "Processing Frames:  40%|████      | 2/5 [00:05<00:08,  2.89s/it]\u001b[A\n",
      "Processing Frames:  60%|██████    | 3/5 [00:09<00:06,  3.26s/it]\u001b[A\n",
      "Processing Frames:  80%|████████  | 4/5 [00:13<00:03,  3.62s/it]\u001b[A\n",
      "Processing Frames: 100%|██████████| 5/5 [00:16<00:00,  3.37s/it]\u001b[A\n",
      "Processing Videos:  21%|██        | 148/698 [46:53<2:49:26, 18.49s/it]"
     ]
    },
    {
     "name": "stdout",
     "output_type": "stream",
     "text": [
      "File Name: khatvong_xanh_7247731319717809413.mp4, File Size: 10.62 MB\n",
      "Total frames in video: 643\n",
      "Frame indices to extract: [0, 128, 257, 385, 514]\n",
      "Extracted 5 frames.\n"
     ]
    },
    {
     "name": "stderr",
     "output_type": "stream",
     "text": [
      "\n",
      "Processing Frames:   0%|          | 0/5 [00:00<?, ?it/s]\u001b[A\n",
      "Processing Frames:  20%|██        | 1/5 [00:02<00:11,  2.94s/it]\u001b[A\n",
      "Processing Frames:  40%|████      | 2/5 [00:05<00:08,  2.88s/it]\u001b[A\n",
      "Processing Frames:  60%|██████    | 3/5 [00:08<00:05,  2.86s/it]\u001b[A\n",
      "Processing Frames:  80%|████████  | 4/5 [00:11<00:02,  2.84s/it]\u001b[A\n",
      "Processing Frames: 100%|██████████| 5/5 [00:14<00:00,  2.86s/it]\u001b[A\n",
      "Processing Videos:  21%|██▏       | 149/698 [47:10<2:44:40, 18.00s/it]"
     ]
    },
    {
     "name": "stdout",
     "output_type": "stream",
     "text": [
      "File Name: odaycotui273_7324685278717807890.mp4, File Size: 5.82 MB\n",
      "Total frames in video: 1249\n",
      "Frame indices to extract: [0, 249, 499, 749, 999]\n",
      "Extracted 5 frames.\n"
     ]
    },
    {
     "name": "stderr",
     "output_type": "stream",
     "text": [
      "\n",
      "Processing Frames:   0%|          | 0/5 [00:00<?, ?it/s]\u001b[A\n",
      "Processing Frames:  20%|██        | 1/5 [00:03<00:12,  3.07s/it]\u001b[A\n",
      "Processing Frames:  40%|████      | 2/5 [00:06<00:10,  3.56s/it]\u001b[A\n",
      "Processing Frames:  60%|██████    | 3/5 [00:10<00:07,  3.58s/it]\u001b[A\n",
      "Processing Frames:  80%|████████  | 4/5 [00:13<00:03,  3.44s/it]\u001b[A\n",
      "Processing Frames: 100%|██████████| 5/5 [00:17<00:00,  3.45s/it]\u001b[A\n",
      "Processing Videos:  21%|██▏       | 150/698 [47:30<2:48:16, 18.42s/it]"
     ]
    },
    {
     "name": "stdout",
     "output_type": "stream",
     "text": [
      "File Name: a.i.tinerary_7331572946542005537.mp4, File Size: 2.14 MB\n",
      "Total frames in video: 253\n",
      "Frame indices to extract: [0, 50, 101, 151, 202]\n",
      "Extracted 5 frames.\n"
     ]
    },
    {
     "name": "stderr",
     "output_type": "stream",
     "text": [
      "\n",
      "Processing Frames:   0%|          | 0/5 [00:00<?, ?it/s]\u001b[A\n",
      "Processing Frames:  20%|██        | 1/5 [00:03<00:13,  3.42s/it]\u001b[A\n",
      "Processing Frames:  40%|████      | 2/5 [00:06<00:10,  3.40s/it]\u001b[A\n",
      "Processing Frames:  60%|██████    | 3/5 [00:09<00:06,  3.16s/it]\u001b[A\n",
      "Processing Frames:  80%|████████  | 4/5 [00:12<00:03,  3.03s/it]\u001b[A\n",
      "Processing Frames: 100%|██████████| 5/5 [00:15<00:00,  3.15s/it]\u001b[A\n",
      "Processing Videos:  22%|██▏       | 151/698 [47:47<2:45:12, 18.12s/it]"
     ]
    },
    {
     "name": "stdout",
     "output_type": "stream",
     "text": [
      "File Name: khatvong_xanh_7203604679161433371.mp4, File Size: 28.90 MB\n",
      "Total frames in video: 4069\n",
      "Frame indices to extract: [0, 813, 1627, 2441, 3255]\n",
      "Extracted 5 frames.\n"
     ]
    },
    {
     "name": "stderr",
     "output_type": "stream",
     "text": [
      "\n",
      "Processing Frames:   0%|          | 0/5 [00:00<?, ?it/s]\u001b[A\n",
      "Processing Frames:  20%|██        | 1/5 [00:04<00:16,  4.24s/it]\u001b[A\n",
      "Processing Frames:  40%|████      | 2/5 [00:08<00:12,  4.05s/it]\u001b[A\n",
      "Processing Frames:  60%|██████    | 3/5 [00:11<00:07,  3.85s/it]\u001b[A\n",
      "Processing Frames:  80%|████████  | 4/5 [00:15<00:03,  3.75s/it]\u001b[A\n",
      "Processing Frames: 100%|██████████| 5/5 [00:18<00:00,  3.75s/it]\u001b[A\n",
      "Processing Videos:  22%|██▏       | 152/698 [48:08<2:52:42, 18.98s/it]"
     ]
    },
    {
     "name": "stdout",
     "output_type": "stream",
     "text": [
      "File Name: ahfoo2_7365127127840165127.mp4, File Size: 0.34 MB\n",
      "Total frames in video: 241\n",
      "Frame indices to extract: [0, 48, 96, 144, 192]\n",
      "Extracted 5 frames.\n"
     ]
    },
    {
     "name": "stderr",
     "output_type": "stream",
     "text": [
      "\n",
      "Processing Frames:   0%|          | 0/5 [00:00<?, ?it/s]\u001b[A\n",
      "Processing Frames:  20%|██        | 1/5 [00:02<00:11,  2.91s/it]\u001b[A\n",
      "Processing Frames:  40%|████      | 2/5 [00:05<00:08,  2.88s/it]\u001b[A\n",
      "Processing Frames:  60%|██████    | 3/5 [00:08<00:05,  2.88s/it]\u001b[A\n",
      "Processing Frames:  80%|████████  | 4/5 [00:11<00:02,  2.89s/it]\u001b[A\n",
      "Processing Frames: 100%|██████████| 5/5 [00:15<00:00,  3.11s/it]\u001b[A\n",
      "Processing Videos:  22%|██▏       | 153/698 [48:25<2:47:48, 18.47s/it]"
     ]
    },
    {
     "name": "stdout",
     "output_type": "stream",
     "text": [
      "File Name: lckg283_7252854268489764102.mp4, File Size: 3.62 MB\n",
      "Total frames in video: 786\n",
      "Frame indices to extract: [0, 157, 314, 471, 628]\n",
      "Extracted 5 frames.\n"
     ]
    },
    {
     "name": "stderr",
     "output_type": "stream",
     "text": [
      "\n",
      "Processing Frames:   0%|          | 0/5 [00:00<?, ?it/s]\u001b[A\n",
      "Processing Frames:  20%|██        | 1/5 [00:03<00:15,  3.85s/it]\u001b[A\n",
      "Processing Frames:  40%|████      | 2/5 [00:07<00:10,  3.60s/it]\u001b[A\n",
      "Processing Frames:  60%|██████    | 3/5 [00:10<00:07,  3.53s/it]\u001b[A\n",
      "Processing Frames:  80%|████████  | 4/5 [00:14<00:03,  3.45s/it]\u001b[A\n",
      "Processing Frames: 100%|██████████| 5/5 [00:17<00:00,  3.42s/it]\u001b[A\n",
      "Processing Videos:  22%|██▏       | 154/698 [48:44<2:48:16, 18.56s/it]"
     ]
    },
    {
     "name": "stdout",
     "output_type": "stream",
     "text": [
      "File Name: sonqmao_7254855196738669830.mp4, File Size: 10.71 MB\n",
      "Total frames in video: 2534\n",
      "Frame indices to extract: [0, 506, 1013, 1520, 2027]\n",
      "Extracted 5 frames.\n"
     ]
    },
    {
     "name": "stderr",
     "output_type": "stream",
     "text": [
      "\n",
      "Processing Frames:   0%|          | 0/5 [00:00<?, ?it/s]\u001b[A\n",
      "Processing Frames:  20%|██        | 1/5 [00:03<00:14,  3.52s/it]\u001b[A\n",
      "Processing Frames:  40%|████      | 2/5 [00:06<00:10,  3.35s/it]\u001b[A\n",
      "Processing Frames:  60%|██████    | 3/5 [00:10<00:06,  3.33s/it]\u001b[A\n",
      "Processing Frames:  80%|████████  | 4/5 [00:13<00:03,  3.33s/it]\u001b[A\n",
      "Processing Frames: 100%|██████████| 5/5 [00:16<00:00,  3.29s/it]\u001b[A\n",
      "Processing Videos:  22%|██▏       | 155/698 [49:02<2:47:19, 18.49s/it]"
     ]
    },
    {
     "name": "stdout",
     "output_type": "stream",
     "text": [
      "File Name: phuongmin__7369478285476007184.mp4, File Size: 7.59 MB\n",
      "Total frames in video: 1165\n",
      "Frame indices to extract: [0, 233, 466, 699, 932]\n",
      "Extracted 5 frames.\n"
     ]
    },
    {
     "name": "stderr",
     "output_type": "stream",
     "text": [
      "\n",
      "Processing Frames:   0%|          | 0/5 [00:00<?, ?it/s]\u001b[A\n",
      "Processing Frames:  20%|██        | 1/5 [00:03<00:12,  3.08s/it]\u001b[A\n",
      "Processing Frames:  40%|████      | 2/5 [00:06<00:09,  3.10s/it]\u001b[A\n",
      "Processing Frames:  60%|██████    | 3/5 [00:09<00:06,  3.24s/it]\u001b[A\n",
      "Processing Frames:  80%|████████  | 4/5 [00:12<00:03,  3.16s/it]\u001b[A\n",
      "Processing Frames: 100%|██████████| 5/5 [00:15<00:00,  3.11s/it]\u001b[A\n",
      "Processing Videos:  22%|██▏       | 156/698 [49:20<2:45:48, 18.35s/it]"
     ]
    },
    {
     "name": "stdout",
     "output_type": "stream",
     "text": [
      "File Name: bombom_vlog_7328739072514559240.mp4, File Size: 36.63 MB\n",
      "Total frames in video: 5394\n",
      "Frame indices to extract: [0, 1078, 2157, 3236, 4315]\n",
      "Extracted 5 frames.\n"
     ]
    },
    {
     "name": "stderr",
     "output_type": "stream",
     "text": [
      "\n",
      "Processing Frames:   0%|          | 0/5 [00:00<?, ?it/s]\u001b[A\n",
      "Processing Frames:  20%|██        | 1/5 [00:03<00:12,  3.13s/it]\u001b[A\n",
      "Processing Frames:  40%|████      | 2/5 [00:07<00:11,  3.78s/it]\u001b[A\n",
      "Processing Frames:  60%|██████    | 3/5 [00:10<00:07,  3.50s/it]\u001b[A\n",
      "Processing Frames:  80%|████████  | 4/5 [00:13<00:03,  3.33s/it]\u001b[A\n",
      "Processing Frames: 100%|██████████| 5/5 [00:16<00:00,  3.38s/it]\u001b[A\n",
      "Processing Videos:  22%|██▏       | 157/698 [49:39<2:47:38, 18.59s/it]"
     ]
    },
    {
     "name": "stdout",
     "output_type": "stream",
     "text": [
      "File Name: hcaii_7304137270716566791.mp4, File Size: 1.05 MB\n",
      "Total frames in video: 603\n",
      "Frame indices to extract: [0, 120, 241, 361, 482]\n",
      "Extracted 5 frames.\n"
     ]
    },
    {
     "name": "stderr",
     "output_type": "stream",
     "text": [
      "\n",
      "Processing Frames:   0%|          | 0/5 [00:00<?, ?it/s]\u001b[A\n",
      "Processing Frames:  20%|██        | 1/5 [00:03<00:13,  3.43s/it]\u001b[A\n",
      "Processing Frames:  40%|████      | 2/5 [00:06<00:10,  3.42s/it]\u001b[A\n",
      "Processing Frames:  60%|██████    | 3/5 [00:10<00:06,  3.44s/it]\u001b[A\n",
      "Processing Frames:  80%|████████  | 4/5 [00:13<00:03,  3.43s/it]\u001b[A\n",
      "Processing Frames: 100%|██████████| 5/5 [00:17<00:00,  3.44s/it]\u001b[A\n",
      "Processing Videos:  23%|██▎       | 158/698 [49:59<2:48:30, 18.72s/it]"
     ]
    },
    {
     "name": "stdout",
     "output_type": "stream",
     "text": [
      "File Name: vegastaughtme_7041384667739753775.mp4, File Size: 1.33 MB\n",
      "Total frames in video: 258\n",
      "Frame indices to extract: [0, 51, 103, 154, 206]\n",
      "Extracted 5 frames.\n"
     ]
    },
    {
     "name": "stderr",
     "output_type": "stream",
     "text": [
      "\n",
      "Processing Frames:   0%|          | 0/5 [00:00<?, ?it/s]\u001b[A\n",
      "Processing Frames:  20%|██        | 1/5 [00:04<00:16,  4.04s/it]\u001b[A\n",
      "Processing Frames:  40%|████      | 2/5 [00:07<00:11,  3.68s/it]\u001b[A\n",
      "Processing Frames:  60%|██████    | 3/5 [00:12<00:08,  4.26s/it]\u001b[A\n",
      "Processing Frames:  80%|████████  | 4/5 [00:15<00:03,  3.71s/it]\u001b[A\n",
      "Processing Frames: 100%|██████████| 5/5 [00:19<00:00,  3.82s/it]\u001b[A\n",
      "Processing Videos:  23%|██▎       | 159/698 [50:20<2:55:19, 19.52s/it]"
     ]
    },
    {
     "name": "stdout",
     "output_type": "stream",
     "text": [
      "File Name: colortour68_7355734477835865361.mp4, File Size: 9.08 MB\n",
      "Total frames in video: 2901\n",
      "Frame indices to extract: [0, 580, 1160, 1740, 2320]\n",
      "Extracted 5 frames.\n"
     ]
    },
    {
     "name": "stderr",
     "output_type": "stream",
     "text": [
      "\n",
      "Processing Frames:   0%|          | 0/5 [00:00<?, ?it/s]\u001b[A\n",
      "Processing Frames:  20%|██        | 1/5 [00:02<00:11,  2.91s/it]\u001b[A\n",
      "Processing Frames:  40%|████      | 2/5 [00:06<00:09,  3.10s/it]\u001b[A\n",
      "Processing Frames:  60%|██████    | 3/5 [00:09<00:06,  3.04s/it]\u001b[A\n",
      "Processing Frames:  80%|████████  | 4/5 [00:13<00:03,  3.75s/it]\u001b[A\n",
      "Processing Frames: 100%|██████████| 5/5 [00:17<00:00,  3.41s/it]\u001b[A\n",
      "Processing Videos:  23%|██▎       | 160/698 [50:39<2:54:03, 19.41s/it]"
     ]
    },
    {
     "name": "stdout",
     "output_type": "stream",
     "text": [
      "File Name: mama__inus_7340271896480468226.mp4, File Size: 16.47 MB\n",
      "Total frames in video: 3659\n",
      "Frame indices to extract: [0, 731, 1463, 2195, 2927]\n",
      "Extracted 5 frames.\n"
     ]
    },
    {
     "name": "stderr",
     "output_type": "stream",
     "text": [
      "\n",
      "Processing Frames:   0%|          | 0/5 [00:00<?, ?it/s]\u001b[A\n",
      "Processing Frames:  20%|██        | 1/5 [00:03<00:13,  3.25s/it]\u001b[A\n",
      "Processing Frames:  40%|████      | 2/5 [00:06<00:10,  3.36s/it]\u001b[A\n",
      "Processing Frames:  60%|██████    | 3/5 [00:10<00:06,  3.48s/it]\u001b[A\n",
      "Processing Frames:  80%|████████  | 4/5 [00:13<00:03,  3.53s/it]\u001b[A\n",
      "Processing Frames: 100%|██████████| 5/5 [00:17<00:00,  3.43s/it]\u001b[A\n",
      "Processing Videos:  23%|██▎       | 161/698 [50:58<2:52:50, 19.31s/it]"
     ]
    },
    {
     "name": "stdout",
     "output_type": "stream",
     "text": [
      "File Name: kelseyvenkov_6995686396149222662.mp4, File Size: 11.32 MB\n",
      "Total frames in video: 2718\n",
      "Frame indices to extract: [0, 543, 1087, 1630, 2174]\n",
      "Extracted 5 frames.\n"
     ]
    },
    {
     "name": "stderr",
     "output_type": "stream",
     "text": [
      "\n",
      "Processing Frames:   0%|          | 0/5 [00:00<?, ?it/s]\u001b[A\n",
      "Processing Frames:  20%|██        | 1/5 [00:03<00:13,  3.28s/it]\u001b[A\n",
      "Processing Frames:  40%|████      | 2/5 [00:07<00:10,  3.66s/it]\u001b[A\n",
      "Processing Frames:  60%|██████    | 3/5 [00:10<00:07,  3.54s/it]\u001b[A\n",
      "Processing Frames:  80%|████████  | 4/5 [00:13<00:03,  3.42s/it]\u001b[A\n",
      "Processing Frames: 100%|██████████| 5/5 [00:16<00:00,  3.38s/it]\u001b[A\n",
      "Processing Videos:  23%|██▎       | 162/698 [51:17<2:51:17, 19.17s/it]"
     ]
    },
    {
     "name": "stdout",
     "output_type": "stream",
     "text": [
      "File Name: cozy..place_7351298577114615072.mp4, File Size: 8.86 MB\n",
      "Total frames in video: 1808\n",
      "Frame indices to extract: [0, 361, 723, 1084, 1446]\n",
      "Extracted 5 frames.\n"
     ]
    },
    {
     "name": "stderr",
     "output_type": "stream",
     "text": [
      "\n",
      "Processing Frames:   0%|          | 0/5 [00:00<?, ?it/s]\u001b[A\n",
      "Processing Frames:  20%|██        | 1/5 [00:03<00:15,  3.82s/it]\u001b[A\n",
      "Processing Frames:  40%|████      | 2/5 [00:07<00:10,  3.49s/it]\u001b[A\n",
      "Processing Frames:  60%|██████    | 3/5 [00:09<00:05,  2.87s/it]\u001b[A\n",
      "Processing Frames:  80%|████████  | 4/5 [00:13<00:03,  3.25s/it]\u001b[A\n",
      "Processing Frames: 100%|██████████| 5/5 [00:16<00:00,  3.30s/it]\u001b[A\n",
      "Processing Videos:  23%|██▎       | 163/698 [51:35<2:49:05, 18.96s/it]"
     ]
    },
    {
     "name": "stdout",
     "output_type": "stream",
     "text": [
      "File Name: halinhofficial_7345087210372336914.mp4, File Size: 6.47 MB\n",
      "Total frames in video: 1940\n",
      "Frame indices to extract: [0, 388, 776, 1164, 1552]\n",
      "Extracted 5 frames.\n"
     ]
    },
    {
     "name": "stderr",
     "output_type": "stream",
     "text": [
      "\n",
      "Processing Frames:   0%|          | 0/5 [00:00<?, ?it/s]\u001b[A\n",
      "Processing Frames:  20%|██        | 1/5 [00:04<00:18,  4.53s/it]\u001b[A\n",
      "Processing Frames:  40%|████      | 2/5 [00:07<00:10,  3.56s/it]\u001b[A\n",
      "Processing Frames:  60%|██████    | 3/5 [00:10<00:06,  3.43s/it]\u001b[A\n",
      "Processing Frames:  80%|████████  | 4/5 [00:14<00:03,  3.59s/it]\u001b[A\n",
      "Processing Frames: 100%|██████████| 5/5 [00:18<00:00,  3.74s/it]\u001b[A\n",
      "Processing Videos:  23%|██▎       | 164/698 [51:56<2:53:14, 19.47s/it]"
     ]
    },
    {
     "name": "stdout",
     "output_type": "stream",
     "text": [
      "File Name: live_simply_aesthetic_7233873260797103403.mp4, File Size: 12.21 MB\n",
      "Total frames in video: 2412\n",
      "Frame indices to extract: [0, 482, 964, 1447, 1929]\n",
      "Extracted 5 frames.\n"
     ]
    },
    {
     "name": "stderr",
     "output_type": "stream",
     "text": [
      "\n",
      "Processing Frames:   0%|          | 0/5 [00:00<?, ?it/s]\u001b[A\n",
      "Processing Frames:  20%|██        | 1/5 [00:03<00:14,  3.54s/it]\u001b[A\n",
      "Processing Frames:  40%|████      | 2/5 [00:06<00:10,  3.43s/it]\u001b[A\n",
      "Processing Frames:  60%|██████    | 3/5 [00:11<00:07,  3.85s/it]\u001b[A\n",
      "Processing Frames:  80%|████████  | 4/5 [00:16<00:04,  4.32s/it]\u001b[A\n",
      "Processing Frames: 100%|██████████| 5/5 [00:21<00:00,  4.32s/it]\u001b[A\n",
      "Processing Videos:  24%|██▎       | 165/698 [52:20<3:04:08, 20.73s/it]"
     ]
    },
    {
     "name": "stdout",
     "output_type": "stream",
     "text": [
      "File Name: bombom_vlog_7255091023590853893.mp4, File Size: 25.70 MB\n",
      "Total frames in video: 5387\n",
      "Frame indices to extract: [0, 1077, 2154, 3232, 4309]\n",
      "Extracted 5 frames.\n"
     ]
    },
    {
     "name": "stderr",
     "output_type": "stream",
     "text": [
      "\n",
      "Processing Frames:   0%|          | 0/5 [00:00<?, ?it/s]\u001b[A\n",
      "Processing Frames:  20%|██        | 1/5 [00:06<00:24,  6.18s/it]\u001b[A\n",
      "Processing Frames:  40%|████      | 2/5 [00:11<00:17,  5.77s/it]\u001b[A\n",
      "Processing Frames:  60%|██████    | 3/5 [00:15<00:09,  4.98s/it]\u001b[A\n",
      "Processing Frames:  80%|████████  | 4/5 [00:18<00:04,  4.27s/it]\u001b[A\n",
      "Processing Frames: 100%|██████████| 5/5 [00:22<00:00,  4.44s/it]\u001b[A\n",
      "Processing Videos:  24%|██▍       | 166/698 [52:44<3:13:14, 21.79s/it]"
     ]
    },
    {
     "name": "stdout",
     "output_type": "stream",
     "text": [
      "File Name: linhcuuhoadaily_7257742584745938181.mp4, File Size: 23.90 MB\n",
      "Total frames in video: 3209\n",
      "Frame indices to extract: [0, 641, 1283, 1925, 2567]\n",
      "Extracted 5 frames.\n"
     ]
    },
    {
     "name": "stderr",
     "output_type": "stream",
     "text": [
      "\n",
      "Processing Frames:   0%|          | 0/5 [00:00<?, ?it/s]\u001b[A\n",
      "Processing Frames:  20%|██        | 1/5 [00:03<00:14,  3.73s/it]\u001b[A\n",
      "Processing Frames:  40%|████      | 2/5 [00:06<00:10,  3.34s/it]\u001b[A\n",
      "Processing Frames:  60%|██████    | 3/5 [00:10<00:06,  3.48s/it]\u001b[A\n",
      "Processing Frames:  80%|████████  | 4/5 [00:13<00:03,  3.19s/it]\u001b[A\n",
      "Processing Frames: 100%|██████████| 5/5 [00:16<00:00,  3.40s/it]\u001b[A\n",
      "Processing Videos:  24%|██▍       | 167/698 [53:03<3:06:28, 21.07s/it]"
     ]
    },
    {
     "name": "stdout",
     "output_type": "stream",
     "text": [
      "File Name: hennieofficial_7276341131825253650.mp4, File Size: 6.98 MB\n",
      "Total frames in video: 1536\n",
      "Frame indices to extract: [0, 307, 614, 921, 1228]\n",
      "Extracted 5 frames.\n"
     ]
    },
    {
     "name": "stderr",
     "output_type": "stream",
     "text": [
      "\n",
      "Processing Frames:   0%|          | 0/5 [00:00<?, ?it/s]\u001b[A\n",
      "Processing Frames:  20%|██        | 1/5 [00:03<00:11,  3.00s/it]\u001b[A\n",
      "Processing Frames:  40%|████      | 2/5 [00:06<00:10,  3.48s/it]\u001b[A\n",
      "Processing Frames:  60%|██████    | 3/5 [00:09<00:06,  3.34s/it]\u001b[A\n",
      "Processing Frames:  80%|████████  | 4/5 [00:14<00:03,  3.68s/it]\u001b[A\n",
      "Processing Frames: 100%|██████████| 5/5 [00:17<00:00,  3.45s/it]\u001b[A\n",
      "Processing Videos:  24%|██▍       | 168/698 [53:23<3:02:06, 20.62s/it]"
     ]
    },
    {
     "name": "stdout",
     "output_type": "stream",
     "text": [
      "File Name: any_bot_2k10_7369925702088543506.mp4, File Size: 4.85 MB\n",
      "Total frames in video: 2508\n",
      "Frame indices to extract: [0, 501, 1003, 1504, 2006]\n",
      "Extracted 5 frames.\n"
     ]
    },
    {
     "name": "stderr",
     "output_type": "stream",
     "text": [
      "\n",
      "Processing Frames:   0%|          | 0/5 [00:00<?, ?it/s]\u001b[A\n",
      "Processing Frames:  20%|██        | 1/5 [00:03<00:13,  3.31s/it]\u001b[A\n",
      "Processing Frames:  40%|████      | 2/5 [00:07<00:11,  3.85s/it]\u001b[A\n",
      "Processing Frames:  60%|██████    | 3/5 [00:10<00:07,  3.66s/it]\u001b[A\n",
      "Processing Frames:  80%|████████  | 4/5 [00:14<00:03,  3.52s/it]\u001b[A\n",
      "Processing Frames: 100%|██████████| 5/5 [00:17<00:00,  3.47s/it]\u001b[A\n",
      "Processing Videos:  24%|██▍       | 169/698 [53:42<2:58:16, 20.22s/it]"
     ]
    },
    {
     "name": "stdout",
     "output_type": "stream",
     "text": [
      "File Name: bwi9512_7292742561595280641.mp4, File Size: 1.18 MB\n",
      "Total frames in video: 283\n",
      "Frame indices to extract: [0, 56, 113, 169, 226]\n",
      "Extracted 5 frames.\n"
     ]
    },
    {
     "name": "stderr",
     "output_type": "stream",
     "text": [
      "\n",
      "Processing Frames:   0%|          | 0/5 [00:00<?, ?it/s]\u001b[A\n",
      "Processing Frames:  20%|██        | 1/5 [00:03<00:13,  3.31s/it]\u001b[A\n",
      "Processing Frames:  40%|████      | 2/5 [00:07<00:12,  4.11s/it]\u001b[A\n",
      "Processing Frames:  60%|██████    | 3/5 [00:11<00:07,  3.78s/it]\u001b[A\n",
      "Processing Frames:  80%|████████  | 4/5 [00:14<00:03,  3.51s/it]\u001b[A\n",
      "Processing Frames: 100%|██████████| 5/5 [00:19<00:00,  3.84s/it]\u001b[A\n",
      "Processing Videos:  24%|██▍       | 170/698 [54:04<3:00:50, 20.55s/it]"
     ]
    },
    {
     "name": "stdout",
     "output_type": "stream",
     "text": [
      "File Name: hd05117_7295444978808016130.mp4, File Size: 3.25 MB\n",
      "Total frames in video: 509\n",
      "Frame indices to extract: [0, 101, 203, 305, 407]\n",
      "Extracted 5 frames.\n"
     ]
    },
    {
     "name": "stderr",
     "output_type": "stream",
     "text": [
      "\n",
      "Processing Frames:   0%|          | 0/5 [00:00<?, ?it/s]\u001b[A\n",
      "Processing Frames:  20%|██        | 1/5 [00:03<00:12,  3.14s/it]\u001b[A\n",
      "Processing Frames:  40%|████      | 2/5 [00:06<00:09,  3.09s/it]\u001b[A\n",
      "Processing Frames:  60%|██████    | 3/5 [00:09<00:06,  3.06s/it]\u001b[A\n",
      "Processing Frames:  80%|████████  | 4/5 [00:12<00:03,  3.06s/it]\u001b[A\n",
      "Processing Frames: 100%|██████████| 5/5 [00:15<00:00,  3.14s/it]\u001b[A\n",
      "Processing Videos:  24%|██▍       | 171/698 [54:22<2:53:49, 19.79s/it]"
     ]
    },
    {
     "name": "stdout",
     "output_type": "stream",
     "text": [
      "File Name: bombom_vlog_7368469984005098760.mp4, File Size: 121.55 MB\n",
      "Total frames in video: 17526\n",
      "Frame indices to extract: [0, 3505, 7010, 10515, 14020]\n",
      "Extracted 5 frames.\n"
     ]
    },
    {
     "name": "stderr",
     "output_type": "stream",
     "text": [
      "\n",
      "Processing Frames:   0%|          | 0/5 [00:00<?, ?it/s]\u001b[A\n",
      "Processing Frames:  20%|██        | 1/5 [00:03<00:12,  3.15s/it]\u001b[A\n",
      "Processing Frames:  40%|████      | 2/5 [00:06<00:09,  3.27s/it]\u001b[A\n",
      "Processing Frames:  60%|██████    | 3/5 [00:09<00:06,  3.29s/it]\u001b[A\n",
      "Processing Frames:  80%|████████  | 4/5 [00:13<00:03,  3.29s/it]\u001b[A\n",
      "Processing Frames: 100%|██████████| 5/5 [00:16<00:00,  3.29s/it]\u001b[A\n",
      "Processing Videos:  25%|██▍       | 172/698 [54:40<2:50:48, 19.48s/it]"
     ]
    },
    {
     "name": "stdout",
     "output_type": "stream",
     "text": [
      "File Name: linhcuuhoadaily_7359021376625282321.mp4, File Size: 6.17 MB\n",
      "Total frames in video: 1116\n",
      "Frame indices to extract: [0, 223, 446, 669, 892]\n",
      "Extracted 5 frames.\n"
     ]
    },
    {
     "name": "stderr",
     "output_type": "stream",
     "text": [
      "\n",
      "Processing Frames:   0%|          | 0/5 [00:00<?, ?it/s]\u001b[A\n",
      "Processing Frames:  20%|██        | 1/5 [00:02<00:11,  2.95s/it]\u001b[A\n",
      "Processing Frames:  40%|████      | 2/5 [00:06<00:09,  3.07s/it]\u001b[A\n",
      "Processing Frames:  60%|██████    | 3/5 [00:10<00:07,  3.71s/it]\u001b[A\n",
      "Processing Frames:  80%|████████  | 4/5 [00:15<00:04,  4.07s/it]\u001b[A\n",
      "Processing Frames: 100%|██████████| 5/5 [00:18<00:00,  3.79s/it]\u001b[A\n",
      "Processing Videos:  25%|██▍       | 173/698 [55:01<2:54:37, 19.96s/it]"
     ]
    },
    {
     "name": "stdout",
     "output_type": "stream",
     "text": [
      "File Name: any_bot_2k10_7370694000702950664.mp4, File Size: 2.10 MB\n",
      "Total frames in video: 945\n",
      "Frame indices to extract: [0, 189, 378, 567, 756]\n",
      "Extracted 5 frames.\n"
     ]
    },
    {
     "name": "stderr",
     "output_type": "stream",
     "text": [
      "\n",
      "Processing Frames:   0%|          | 0/5 [00:00<?, ?it/s]\u001b[A\n",
      "Processing Frames:  20%|██        | 1/5 [00:03<00:13,  3.32s/it]\u001b[A\n",
      "Processing Frames:  40%|████      | 2/5 [00:08<00:13,  4.35s/it]\u001b[A\n",
      "Processing Frames:  60%|██████    | 3/5 [00:11<00:07,  3.88s/it]\u001b[A\n",
      "Processing Frames:  80%|████████  | 4/5 [00:15<00:03,  3.67s/it]\u001b[A\n",
      "Processing Frames: 100%|██████████| 5/5 [00:18<00:00,  3.68s/it]\u001b[A\n",
      "Processing Videos:  25%|██▍       | 174/698 [55:22<2:54:54, 20.03s/it]"
     ]
    },
    {
     "name": "stdout",
     "output_type": "stream",
     "text": [
      "File Name: hinzhomnaylaca_7345459524171517202.mp4, File Size: 22.24 MB\n",
      "Total frames in video: 1971\n",
      "Frame indices to extract: [0, 394, 788, 1182, 1576]\n",
      "Extracted 5 frames.\n"
     ]
    },
    {
     "name": "stderr",
     "output_type": "stream",
     "text": [
      "\n",
      "Processing Frames:   0%|          | 0/5 [00:00<?, ?it/s]\u001b[A\n",
      "Processing Frames:  20%|██        | 1/5 [00:05<00:21,  5.31s/it]\u001b[A\n",
      "Processing Frames:  40%|████      | 2/5 [00:08<00:12,  4.02s/it]\u001b[A\n",
      "Processing Frames:  60%|██████    | 3/5 [00:11<00:07,  3.61s/it]\u001b[A\n",
      "Processing Frames:  80%|████████  | 4/5 [00:14<00:03,  3.34s/it]\u001b[A\n",
      "Processing Frames: 100%|██████████| 5/5 [00:18<00:00,  3.71s/it]\u001b[A\n",
      "Processing Videos:  25%|██▌       | 175/698 [55:42<2:55:40, 20.15s/it]"
     ]
    },
    {
     "name": "stdout",
     "output_type": "stream",
     "text": [
      "File Name: anden75_7343952967306841365.mp4, File Size: 33.87 MB\n",
      "Total frames in video: 5392\n",
      "Frame indices to extract: [0, 1078, 2156, 3235, 4313]\n",
      "Extracted 5 frames.\n"
     ]
    },
    {
     "name": "stderr",
     "output_type": "stream",
     "text": [
      "\n",
      "Processing Frames:   0%|          | 0/5 [00:00<?, ?it/s]\u001b[A\n",
      "Processing Frames:  20%|██        | 1/5 [00:02<00:11,  2.76s/it]\u001b[A\n",
      "Processing Frames:  40%|████      | 2/5 [00:05<00:09,  3.00s/it]\u001b[A\n",
      "Processing Frames:  60%|██████    | 3/5 [00:09<00:06,  3.05s/it]\u001b[A\n",
      "Processing Frames:  80%|████████  | 4/5 [00:12<00:03,  3.24s/it]\u001b[A\n",
      "Processing Frames: 100%|██████████| 5/5 [00:16<00:00,  3.25s/it]\u001b[A\n",
      "Processing Videos:  25%|██▌       | 176/698 [56:01<2:50:46, 19.63s/it]"
     ]
    },
    {
     "name": "stdout",
     "output_type": "stream",
     "text": [
      "File Name: nghienanngon2022_7101556431110868250.mp4, File Size: 2.45 MB\n",
      "Total frames in video: 758\n",
      "Frame indices to extract: [0, 151, 303, 454, 606]\n",
      "Extracted 5 frames.\n"
     ]
    },
    {
     "name": "stderr",
     "output_type": "stream",
     "text": [
      "\n",
      "Processing Frames:   0%|          | 0/5 [00:00<?, ?it/s]\u001b[A\n",
      "Processing Frames:  20%|██        | 1/5 [00:03<00:12,  3.13s/it]\u001b[A\n",
      "Processing Frames:  40%|████      | 2/5 [00:06<00:09,  3.03s/it]\u001b[A\n",
      "Processing Frames:  60%|██████    | 3/5 [00:11<00:07,  3.92s/it]\u001b[A\n",
      "Processing Frames:  80%|████████  | 4/5 [00:16<00:04,  4.37s/it]\u001b[A\n",
      "Processing Frames: 100%|██████████| 5/5 [00:19<00:00,  3.89s/it]\u001b[A\n",
      "Processing Videos:  25%|██▌       | 177/698 [56:22<2:54:46, 20.13s/it]"
     ]
    },
    {
     "name": "stdout",
     "output_type": "stream",
     "text": [
      "File Name: linnhhh.m_7341367200269290760.mp4, File Size: 1.63 MB\n",
      "Total frames in video: 444\n",
      "Frame indices to extract: [0, 88, 177, 266, 355]\n",
      "Extracted 5 frames.\n"
     ]
    },
    {
     "name": "stderr",
     "output_type": "stream",
     "text": [
      "\n",
      "Processing Frames:   0%|          | 0/5 [00:00<?, ?it/s]\u001b[A\n",
      "Processing Frames:  20%|██        | 1/5 [00:03<00:14,  3.52s/it]\u001b[A\n",
      "Processing Frames:  40%|████      | 2/5 [00:07<00:10,  3.60s/it]\u001b[A\n",
      "Processing Frames:  60%|██████    | 3/5 [00:11<00:08,  4.05s/it]\u001b[A\n",
      "Processing Frames:  80%|████████  | 4/5 [00:14<00:03,  3.55s/it]\u001b[A\n",
      "Processing Frames: 100%|██████████| 5/5 [00:17<00:00,  3.57s/it]\u001b[A\n",
      "Processing Videos:  26%|██▌       | 178/698 [56:42<2:54:34, 20.14s/it]"
     ]
    },
    {
     "name": "stdout",
     "output_type": "stream",
     "text": [
      "File Name: mocuabatoctv_7016300365029084443.mp4, File Size: 6.85 MB\n",
      "Total frames in video: 678\n",
      "Frame indices to extract: [0, 135, 271, 406, 542]\n",
      "Extracted 5 frames.\n"
     ]
    },
    {
     "name": "stderr",
     "output_type": "stream",
     "text": [
      "\n",
      "Processing Frames:   0%|          | 0/5 [00:00<?, ?it/s]\u001b[A\n",
      "Processing Frames:  20%|██        | 1/5 [00:03<00:13,  3.31s/it]\u001b[A\n",
      "Processing Frames:  40%|████      | 2/5 [00:06<00:09,  3.22s/it]\u001b[A\n",
      "Processing Frames:  60%|██████    | 3/5 [00:09<00:06,  3.17s/it]\u001b[A\n",
      "Processing Frames:  80%|████████  | 4/5 [00:12<00:03,  3.15s/it]\u001b[A\n",
      "Processing Frames: 100%|██████████| 5/5 [00:16<00:00,  3.25s/it]\u001b[A\n",
      "Processing Videos:  26%|██▌       | 179/698 [57:00<2:49:37, 19.61s/it]"
     ]
    },
    {
     "name": "stdout",
     "output_type": "stream",
     "text": [
      "File Name: peaceful_anyen_7270832929406766341.mp4, File Size: 2.51 MB\n",
      "Total frames in video: 175\n",
      "Frame indices to extract: [0, 35, 70, 105, 140]\n",
      "Extracted 5 frames.\n"
     ]
    },
    {
     "name": "stderr",
     "output_type": "stream",
     "text": [
      "\n",
      "Processing Frames:   0%|          | 0/5 [00:00<?, ?it/s]\u001b[A\n",
      "Processing Frames:  20%|██        | 1/5 [00:04<00:16,  4.18s/it]\u001b[A\n",
      "Processing Frames:  40%|████      | 2/5 [00:07<00:11,  3.70s/it]\u001b[A\n",
      "Processing Frames:  60%|██████    | 3/5 [00:10<00:07,  3.52s/it]\u001b[A\n",
      "Processing Frames:  80%|████████  | 4/5 [00:14<00:03,  3.44s/it]\u001b[A\n",
      "Processing Frames: 100%|██████████| 5/5 [00:17<00:00,  3.50s/it]\u001b[A\n",
      "Processing Videos:  26%|██▌       | 180/698 [57:20<2:49:39, 19.65s/it]"
     ]
    },
    {
     "name": "stdout",
     "output_type": "stream",
     "text": [
      "File Name: maphayke_7352500474584632583.mp4, File Size: 14.72 MB\n",
      "Total frames in video: 2365\n",
      "Frame indices to extract: [0, 473, 946, 1419, 1892]\n",
      "Extracted 5 frames.\n"
     ]
    },
    {
     "name": "stderr",
     "output_type": "stream",
     "text": [
      "\n",
      "Processing Frames:   0%|          | 0/5 [00:00<?, ?it/s]\u001b[A\n",
      "Processing Frames:  20%|██        | 1/5 [00:03<00:15,  3.91s/it]\u001b[A\n",
      "Processing Frames:  40%|████      | 2/5 [00:07<00:11,  3.69s/it]\u001b[A\n",
      "Processing Frames:  60%|██████    | 3/5 [00:10<00:06,  3.43s/it]\u001b[A\n",
      "Processing Frames:  80%|████████  | 4/5 [00:13<00:03,  3.39s/it]\u001b[A\n",
      "Processing Frames: 100%|██████████| 5/5 [00:17<00:00,  3.57s/it]\u001b[A\n",
      "Processing Videos:  26%|██▌       | 181/698 [57:40<2:50:22, 19.77s/it]"
     ]
    },
    {
     "name": "stdout",
     "output_type": "stream",
     "text": [
      "File Name: babette_ate_oatmeal_gg_7037840292656975110.mp4, File Size: 5.35 MB\n",
      "Total frames in video: 773\n",
      "Frame indices to extract: [0, 154, 309, 463, 618]\n",
      "Extracted 5 frames.\n"
     ]
    },
    {
     "name": "stderr",
     "output_type": "stream",
     "text": [
      "\n",
      "Processing Frames:   0%|          | 0/5 [00:00<?, ?it/s]\u001b[A\n",
      "Processing Frames:  20%|██        | 1/5 [00:03<00:14,  3.70s/it]\u001b[A\n",
      "Processing Frames:  40%|████      | 2/5 [00:07<00:10,  3.50s/it]\u001b[A\n",
      "Processing Frames:  60%|██████    | 3/5 [00:09<00:06,  3.23s/it]\u001b[A\n",
      "Processing Frames:  80%|████████  | 4/5 [00:13<00:03,  3.40s/it]\u001b[A\n",
      "Processing Frames: 100%|██████████| 5/5 [00:16<00:00,  3.40s/it]\u001b[A\n",
      "Processing Videos:  26%|██▌       | 182/698 [57:59<2:48:57, 19.65s/it]"
     ]
    },
    {
     "name": "stdout",
     "output_type": "stream",
     "text": [
      "File Name: deyanirabueno_7383031973507370246.mp4, File Size: 0.75 MB\n",
      "Total frames in video: 154\n",
      "Frame indices to extract: [0, 30, 61, 92, 123]\n",
      "Extracted 5 frames.\n"
     ]
    },
    {
     "name": "stderr",
     "output_type": "stream",
     "text": [
      "\n",
      "Processing Frames:   0%|          | 0/5 [00:00<?, ?it/s]\u001b[A\n",
      "Processing Frames:  20%|██        | 1/5 [00:03<00:14,  3.51s/it]\u001b[A\n",
      "Processing Frames:  40%|████      | 2/5 [00:07<00:10,  3.51s/it]\u001b[A\n",
      "Processing Frames:  60%|██████    | 3/5 [00:11<00:08,  4.15s/it]\u001b[A\n",
      "Processing Frames:  80%|████████  | 4/5 [00:15<00:03,  3.97s/it]\u001b[A\n",
      "Processing Frames: 100%|██████████| 5/5 [00:19<00:00,  3.91s/it]\u001b[A\n",
      "Processing Videos:  26%|██▌       | 183/698 [58:21<2:53:39, 20.23s/it]"
     ]
    },
    {
     "name": "stdout",
     "output_type": "stream",
     "text": [
      "File Name: nhungnguyendaily_7297070938464570626.mp4, File Size: 19.63 MB\n",
      "Total frames in video: 2665\n",
      "Frame indices to extract: [0, 533, 1066, 1599, 2132]\n",
      "Extracted 5 frames.\n"
     ]
    },
    {
     "name": "stderr",
     "output_type": "stream",
     "text": [
      "\n",
      "Processing Frames:   0%|          | 0/5 [00:00<?, ?it/s]\u001b[A\n",
      "Processing Frames:  20%|██        | 1/5 [00:02<00:11,  2.93s/it]\u001b[A\n",
      "Processing Frames:  40%|████      | 2/5 [00:06<00:09,  3.16s/it]\u001b[A\n",
      "Processing Frames:  60%|██████    | 3/5 [00:09<00:06,  3.12s/it]\u001b[A\n",
      "Processing Frames:  80%|████████  | 4/5 [00:13<00:03,  3.40s/it]\u001b[A\n",
      "Processing Frames: 100%|██████████| 5/5 [00:16<00:00,  3.22s/it]\u001b[A\n",
      "Processing Videos:  26%|██▋       | 184/698 [58:39<2:48:33, 19.68s/it]"
     ]
    },
    {
     "name": "stdout",
     "output_type": "stream",
     "text": [
      "File Name: vinhgau.tt_7114575734303149313.mp4, File Size: 5.63 MB\n",
      "Total frames in video: 1124\n",
      "Frame indices to extract: [0, 224, 449, 674, 899]\n",
      "Extracted 5 frames.\n"
     ]
    },
    {
     "name": "stderr",
     "output_type": "stream",
     "text": [
      "\n",
      "Processing Frames:   0%|          | 0/5 [00:00<?, ?it/s]\u001b[A\n",
      "Processing Frames:  20%|██        | 1/5 [00:04<00:17,  4.48s/it]\u001b[A\n",
      "Processing Frames:  40%|████      | 2/5 [00:07<00:11,  3.91s/it]\u001b[A\n",
      "Processing Frames:  60%|██████    | 3/5 [00:11<00:07,  3.70s/it]\u001b[A\n",
      "Processing Frames:  80%|████████  | 4/5 [00:14<00:03,  3.60s/it]\u001b[A\n",
      "Processing Frames: 100%|██████████| 5/5 [00:18<00:00,  3.67s/it]\u001b[A\n",
      "Processing Videos:  27%|██▋       | 185/698 [59:00<2:50:39, 19.96s/it]"
     ]
    },
    {
     "name": "stdout",
     "output_type": "stream",
     "text": [
      "File Name: smolfrenz_7255660952786308354.mp4, File Size: 2.04 MB\n",
      "Total frames in video: 525\n",
      "Frame indices to extract: [0, 105, 210, 315, 420]\n",
      "Extracted 5 frames.\n"
     ]
    },
    {
     "name": "stderr",
     "output_type": "stream",
     "text": [
      "\n",
      "Processing Frames:   0%|          | 0/5 [00:00<?, ?it/s]\u001b[A\n",
      "Processing Frames:  20%|██        | 1/5 [00:03<00:15,  3.84s/it]\u001b[A\n",
      "Processing Frames:  40%|████      | 2/5 [00:07<00:11,  3.87s/it]\u001b[A\n",
      "Processing Frames:  60%|██████    | 3/5 [00:10<00:06,  3.44s/it]\u001b[A\n",
      "Processing Frames:  80%|████████  | 4/5 [00:14<00:03,  3.57s/it]\u001b[A\n",
      "Processing Frames: 100%|██████████| 5/5 [00:17<00:00,  3.60s/it]\u001b[A\n",
      "Processing Videos:  27%|██▋       | 186/698 [59:20<2:49:36, 19.88s/it]"
     ]
    },
    {
     "name": "stdout",
     "output_type": "stream",
     "text": [
      "File Name: cutekitten37_7355769134980009262.mp4, File Size: 1.81 MB\n",
      "Total frames in video: 453\n",
      "Frame indices to extract: [0, 90, 181, 271, 362]\n",
      "Extracted 5 frames.\n"
     ]
    },
    {
     "name": "stderr",
     "output_type": "stream",
     "text": [
      "\n",
      "Processing Frames:   0%|          | 0/5 [00:00<?, ?it/s]\u001b[A\n",
      "Processing Frames:  20%|██        | 1/5 [00:03<00:14,  3.58s/it]\u001b[A\n",
      "Processing Frames:  40%|████      | 2/5 [00:07<00:10,  3.57s/it]\u001b[A\n",
      "Processing Frames:  60%|██████    | 3/5 [00:10<00:06,  3.44s/it]\u001b[A\n",
      "Processing Frames:  80%|████████  | 4/5 [00:13<00:03,  3.45s/it]\u001b[A\n",
      "Processing Frames: 100%|██████████| 5/5 [00:17<00:00,  3.48s/it]\u001b[A\n",
      "Processing Videos:  27%|██▋       | 187/698 [59:39<2:48:16, 19.76s/it]"
     ]
    },
    {
     "name": "stdout",
     "output_type": "stream",
     "text": [
      "File Name: nooloc210312_7367542743570238738.mp4, File Size: 5.58 MB\n",
      "Total frames in video: 1395\n",
      "Frame indices to extract: [0, 279, 558, 837, 1116]\n",
      "Extracted 5 frames.\n"
     ]
    },
    {
     "name": "stderr",
     "output_type": "stream",
     "text": [
      "\n",
      "Processing Frames:   0%|          | 0/5 [00:00<?, ?it/s]\u001b[A\n",
      "Processing Frames:  20%|██        | 1/5 [00:03<00:12,  3.14s/it]\u001b[A\n",
      "Processing Frames:  40%|████      | 2/5 [00:06<00:09,  3.15s/it]\u001b[A\n",
      "Processing Frames:  60%|██████    | 3/5 [00:10<00:07,  3.52s/it]\u001b[A\n",
      "Processing Frames:  80%|████████  | 4/5 [00:13<00:03,  3.44s/it]\u001b[A\n",
      "Processing Frames: 100%|██████████| 5/5 [00:16<00:00,  3.33s/it]\u001b[A\n",
      "Processing Videos:  27%|██▋       | 188/698 [59:58<2:45:32, 19.47s/it]"
     ]
    },
    {
     "name": "stdout",
     "output_type": "stream",
     "text": [
      "File Name: learningexpressbham_6975153975351872773.mp4, File Size: 3.94 MB\n",
      "Total frames in video: 459\n",
      "Frame indices to extract: [0, 91, 183, 275, 367]\n",
      "Extracted 5 frames.\n"
     ]
    },
    {
     "name": "stderr",
     "output_type": "stream",
     "text": [
      "\n",
      "Processing Frames:   0%|          | 0/5 [00:00<?, ?it/s]\u001b[A\n",
      "Processing Frames:  20%|██        | 1/5 [00:03<00:13,  3.36s/it]\u001b[A\n",
      "Processing Frames:  40%|████      | 2/5 [00:06<00:09,  3.32s/it]\u001b[A\n",
      "Processing Frames:  60%|██████    | 3/5 [00:09<00:06,  3.18s/it]\u001b[A\n",
      "Processing Frames:  80%|████████  | 4/5 [00:13<00:03,  3.31s/it]\u001b[A\n",
      "Processing Frames: 100%|██████████| 5/5 [00:15<00:00,  3.07s/it]\u001b[A\n",
      "Processing Videos:  27%|██▋       | 189/698 [1:00:15<2:39:13, 18.77s/it]"
     ]
    },
    {
     "name": "stdout",
     "output_type": "stream",
     "text": [
      "File Name: le_anh_nuoi_7306863157790772498.mp4, File Size: 23.42 MB\n",
      "Total frames in video: 2623\n",
      "Frame indices to extract: [0, 524, 1049, 1573, 2098]\n",
      "Extracted 5 frames.\n"
     ]
    },
    {
     "name": "stderr",
     "output_type": "stream",
     "text": [
      "\n",
      "Processing Frames:   0%|          | 0/5 [00:00<?, ?it/s]\u001b[A\n",
      "Processing Frames:  20%|██        | 1/5 [00:04<00:17,  4.31s/it]\u001b[A\n",
      "Processing Frames:  40%|████      | 2/5 [00:07<00:11,  3.81s/it]\u001b[A\n",
      "Processing Frames:  60%|██████    | 3/5 [00:11<00:07,  3.68s/it]\u001b[A\n",
      "Processing Frames:  80%|████████  | 4/5 [00:14<00:03,  3.47s/it]\u001b[A\n",
      "Processing Frames: 100%|██████████| 5/5 [00:17<00:00,  3.56s/it]\u001b[A\n",
      "Processing Videos:  27%|██▋       | 190/698 [1:00:35<2:41:44, 19.10s/it]"
     ]
    },
    {
     "name": "stdout",
     "output_type": "stream",
     "text": [
      "File Name: hennieofficial_7278650014388309256.mp4, File Size: 10.10 MB\n",
      "Total frames in video: 1716\n",
      "Frame indices to extract: [0, 343, 686, 1029, 1372]\n",
      "Extracted 5 frames.\n"
     ]
    },
    {
     "name": "stderr",
     "output_type": "stream",
     "text": [
      "\n",
      "Processing Frames:   0%|          | 0/5 [00:00<?, ?it/s]\u001b[A\n",
      "Processing Frames:  20%|██        | 1/5 [00:03<00:14,  3.73s/it]\u001b[A\n",
      "Processing Frames:  40%|████      | 2/5 [00:07<00:11,  3.69s/it]\u001b[A\n",
      "Processing Frames:  60%|██████    | 3/5 [00:10<00:06,  3.43s/it]\u001b[A\n",
      "Processing Frames:  80%|████████  | 4/5 [00:13<00:03,  3.33s/it]\u001b[A\n",
      "Processing Frames: 100%|██████████| 5/5 [00:18<00:00,  3.64s/it]\u001b[A\n",
      "Processing Videos:  27%|██▋       | 191/698 [1:00:55<2:44:07, 19.42s/it]"
     ]
    },
    {
     "name": "stdout",
     "output_type": "stream",
     "text": [
      "File Name: janenguyen2610_7261937040827174146.mp4, File Size: 5.38 MB\n",
      "Total frames in video: 1619\n",
      "Frame indices to extract: [0, 323, 647, 971, 1295]\n",
      "Extracted 5 frames.\n"
     ]
    },
    {
     "name": "stderr",
     "output_type": "stream",
     "text": [
      "\n",
      "Processing Frames:   0%|          | 0/5 [00:00<?, ?it/s]\u001b[A\n",
      "Processing Frames:  20%|██        | 1/5 [00:03<00:14,  3.61s/it]\u001b[A\n",
      "Processing Frames:  40%|████      | 2/5 [00:07<00:10,  3.66s/it]\u001b[A\n",
      "Processing Frames:  60%|██████    | 3/5 [00:11<00:07,  3.77s/it]\u001b[A\n",
      "Processing Frames:  80%|████████  | 4/5 [00:15<00:03,  3.81s/it]\u001b[A\n",
      "Processing Frames: 100%|██████████| 5/5 [00:18<00:00,  3.76s/it]\u001b[A\n",
      "Processing Videos:  28%|██▊       | 192/698 [1:01:16<2:47:39, 19.88s/it]"
     ]
    },
    {
     "name": "stdout",
     "output_type": "stream",
     "text": [
      "File Name: mickeywithmiranda_7285431754737913134.mp4, File Size: 6.17 MB\n",
      "Total frames in video: 494\n",
      "Frame indices to extract: [0, 98, 197, 296, 395]\n",
      "Extracted 5 frames.\n"
     ]
    },
    {
     "name": "stderr",
     "output_type": "stream",
     "text": [
      "\n",
      "Processing Frames:   0%|          | 0/5 [00:00<?, ?it/s]\u001b[A\n",
      "Processing Frames:  20%|██        | 1/5 [00:03<00:13,  3.37s/it]\u001b[A\n",
      "Processing Frames:  40%|████      | 2/5 [00:06<00:10,  3.35s/it]\u001b[A\n",
      "Processing Frames:  60%|██████    | 3/5 [00:11<00:07,  3.98s/it]\u001b[A\n",
      "Processing Frames:  80%|████████  | 4/5 [00:14<00:03,  3.71s/it]\u001b[A\n",
      "Processing Frames: 100%|██████████| 5/5 [00:17<00:00,  3.42s/it]\u001b[A\n",
      "Processing Videos:  28%|██▊       | 193/698 [1:01:35<2:45:40, 19.68s/it]"
     ]
    },
    {
     "name": "stdout",
     "output_type": "stream",
     "text": [
      "File Name: loveyourbodyvn_7074612633508318465.mp4, File Size: 8.63 MB\n",
      "Total frames in video: 1469\n",
      "Frame indices to extract: [0, 293, 587, 881, 1175]\n",
      "Extracted 5 frames.\n"
     ]
    },
    {
     "name": "stderr",
     "output_type": "stream",
     "text": [
      "\n",
      "Processing Frames:   0%|          | 0/5 [00:00<?, ?it/s]\u001b[A\n",
      "Processing Frames:  20%|██        | 1/5 [00:03<00:12,  3.18s/it]\u001b[A\n",
      "Processing Frames:  40%|████      | 2/5 [00:05<00:08,  2.80s/it]\u001b[A\n",
      "Processing Frames:  60%|██████    | 3/5 [00:08<00:05,  2.68s/it]\u001b[A\n",
      "Processing Frames:  80%|████████  | 4/5 [00:11<00:03,  3.08s/it]\u001b[A\n",
      "Processing Frames: 100%|██████████| 5/5 [00:15<00:00,  3.04s/it]\u001b[A\n",
      "Processing Videos:  28%|██▊       | 194/698 [1:01:53<2:38:52, 18.91s/it]"
     ]
    },
    {
     "name": "stdout",
     "output_type": "stream",
     "text": [
      "File Name: nhacnaynghelanghien.real_7203304476973829402.mp4, File Size: 3.02 MB\n",
      "Total frames in video: 1102\n",
      "Frame indices to extract: [0, 220, 440, 661, 881]\n",
      "Extracted 5 frames.\n"
     ]
    },
    {
     "name": "stderr",
     "output_type": "stream",
     "text": [
      "\n",
      "Processing Frames:   0%|          | 0/5 [00:00<?, ?it/s]\u001b[A\n",
      "Processing Frames:  20%|██        | 1/5 [00:03<00:13,  3.33s/it]\u001b[A\n",
      "Processing Frames:  40%|████      | 2/5 [00:07<00:11,  3.83s/it]\u001b[A\n",
      "Processing Frames:  60%|██████    | 3/5 [00:10<00:06,  3.50s/it]\u001b[A\n",
      "Processing Frames:  80%|████████  | 4/5 [00:13<00:03,  3.12s/it]\u001b[A\n",
      "Processing Frames: 100%|██████████| 5/5 [00:16<00:00,  3.26s/it]\u001b[A\n",
      "Processing Videos:  28%|██▊       | 195/698 [1:02:11<2:37:07, 18.74s/it]"
     ]
    },
    {
     "name": "stdout",
     "output_type": "stream",
     "text": [
      "File Name: hongnhung020997_7283493974851980552.mp4, File Size: 39.43 MB\n",
      "Total frames in video: 3947\n",
      "Frame indices to extract: [0, 789, 1578, 2368, 3157]\n",
      "Extracted 5 frames.\n"
     ]
    },
    {
     "name": "stderr",
     "output_type": "stream",
     "text": [
      "\n",
      "Processing Frames:   0%|          | 0/5 [00:00<?, ?it/s]\u001b[A\n",
      "Processing Frames:  20%|██        | 1/5 [00:03<00:12,  3.12s/it]\u001b[A\n",
      "Processing Frames:  40%|████      | 2/5 [00:07<00:12,  4.02s/it]\u001b[A\n",
      "Processing Frames:  60%|██████    | 3/5 [00:11<00:07,  3.76s/it]\u001b[A\n",
      "Processing Frames:  80%|████████  | 4/5 [00:14<00:03,  3.50s/it]\u001b[A\n",
      "Processing Frames: 100%|██████████| 5/5 [00:17<00:00,  3.58s/it]\u001b[A\n",
      "Processing Videos:  28%|██▊       | 196/698 [1:02:31<2:39:35, 19.07s/it]"
     ]
    },
    {
     "name": "stdout",
     "output_type": "stream",
     "text": [
      "File Name: willinvietnam_6986213286228380954.mp4, File Size: 5.01 MB\n",
      "Total frames in video: 750\n",
      "Frame indices to extract: [0, 150, 300, 450, 600]\n",
      "Extracted 5 frames.\n"
     ]
    },
    {
     "name": "stderr",
     "output_type": "stream",
     "text": [
      "\n",
      "Processing Frames:   0%|          | 0/5 [00:00<?, ?it/s]\u001b[A\n",
      "Processing Frames:  20%|██        | 1/5 [00:03<00:12,  3.08s/it]\u001b[A\n",
      "Processing Frames:  40%|████      | 2/5 [00:07<00:11,  3.77s/it]\u001b[A\n",
      "Processing Frames:  60%|██████    | 3/5 [00:10<00:06,  3.46s/it]\u001b[A\n",
      "Processing Frames:  80%|████████  | 4/5 [00:13<00:03,  3.32s/it]\u001b[A\n",
      "Processing Frames: 100%|██████████| 5/5 [00:17<00:00,  3.42s/it]\u001b[A\n",
      "Processing Videos:  28%|██▊       | 197/698 [1:02:50<2:39:01, 19.04s/it]"
     ]
    },
    {
     "name": "stdout",
     "output_type": "stream",
     "text": [
      "File Name: elyitclean_7372181067035462920.mp4, File Size: 24.47 MB\n",
      "Total frames in video: 10254\n",
      "Frame indices to extract: [0, 2050, 4101, 6152, 8203]\n",
      "Extracted 5 frames.\n"
     ]
    },
    {
     "name": "stderr",
     "output_type": "stream",
     "text": [
      "\n",
      "Processing Frames:   0%|          | 0/5 [00:00<?, ?it/s]\u001b[A\n",
      "Processing Frames:  20%|██        | 1/5 [00:03<00:15,  3.75s/it]\u001b[A\n",
      "Processing Frames:  40%|████      | 2/5 [00:07<00:11,  3.74s/it]\u001b[A\n",
      "Processing Frames:  60%|██████    | 3/5 [00:10<00:06,  3.44s/it]\u001b[A\n",
      "Processing Frames:  80%|████████  | 4/5 [00:14<00:03,  3.64s/it]\u001b[A\n",
      "Processing Frames: 100%|██████████| 5/5 [00:17<00:00,  3.53s/it]\u001b[A\n",
      "Processing Videos:  28%|██▊       | 198/698 [1:03:09<2:40:04, 19.21s/it]"
     ]
    },
    {
     "name": "stdout",
     "output_type": "stream",
     "text": [
      "File Name: colortour68_7281862119019056386.mp4, File Size: 9.25 MB\n",
      "Total frames in video: 860\n",
      "Frame indices to extract: [0, 172, 344, 516, 688]\n",
      "Extracted 5 frames.\n"
     ]
    },
    {
     "name": "stderr",
     "output_type": "stream",
     "text": [
      "\n",
      "Processing Frames:   0%|          | 0/5 [00:00<?, ?it/s]\u001b[A\n",
      "Processing Frames:  20%|██        | 1/5 [00:03<00:13,  3.32s/it]\u001b[A\n",
      "Processing Frames:  40%|████      | 2/5 [00:06<00:10,  3.34s/it]\u001b[A\n",
      "Processing Frames:  60%|██████    | 3/5 [00:09<00:06,  3.22s/it]\u001b[A\n",
      "Processing Frames:  80%|████████  | 4/5 [00:12<00:03,  3.18s/it]\u001b[A\n",
      "Processing Frames: 100%|██████████| 5/5 [00:15<00:00,  3.20s/it]\u001b[A\n",
      "Processing Videos:  29%|██▊       | 199/698 [1:03:28<2:38:22, 19.04s/it]"
     ]
    },
    {
     "name": "stdout",
     "output_type": "stream",
     "text": [
      "File Name: dautocartoon_7356177166620462382.mp4, File Size: 3.13 MB\n",
      "Total frames in video: 1980\n",
      "Frame indices to extract: [0, 396, 792, 1188, 1584]\n",
      "Extracted 5 frames.\n"
     ]
    },
    {
     "name": "stderr",
     "output_type": "stream",
     "text": [
      "\n",
      "Processing Frames:   0%|          | 0/5 [00:00<?, ?it/s]\u001b[A\n",
      "Processing Frames:  20%|██        | 1/5 [00:03<00:13,  3.34s/it]\u001b[A\n",
      "Processing Frames:  40%|████      | 2/5 [00:07<00:11,  3.72s/it]\u001b[A\n",
      "Processing Frames:  60%|██████    | 3/5 [00:11<00:07,  3.77s/it]\u001b[A\n",
      "Processing Frames:  80%|████████  | 4/5 [00:14<00:03,  3.64s/it]\u001b[A\n",
      "Processing Frames: 100%|██████████| 5/5 [00:18<00:00,  3.61s/it]\u001b[A\n",
      "Processing Videos:  29%|██▊       | 200/698 [1:03:48<2:40:15, 19.31s/it]"
     ]
    },
    {
     "name": "stdout",
     "output_type": "stream",
     "text": [
      "File Name: elyitclean_7296494054450253058.mp4, File Size: 42.07 MB\n",
      "Total frames in video: 18149\n",
      "Frame indices to extract: [0, 3629, 7259, 10889, 14519]\n",
      "Extracted 5 frames.\n"
     ]
    },
    {
     "name": "stderr",
     "output_type": "stream",
     "text": [
      "\n",
      "Processing Frames:   0%|          | 0/5 [00:00<?, ?it/s]\u001b[A\n",
      "Processing Frames:  20%|██        | 1/5 [00:03<00:14,  3.72s/it]\u001b[A\n",
      "Processing Frames:  40%|████      | 2/5 [00:07<00:10,  3.47s/it]\u001b[A\n",
      "Processing Frames:  60%|██████    | 3/5 [00:10<00:07,  3.59s/it]\u001b[A\n",
      "Processing Frames:  80%|████████  | 4/5 [00:14<00:03,  3.69s/it]\u001b[A\n",
      "Processing Frames: 100%|██████████| 5/5 [00:18<00:00,  3.66s/it]\u001b[A\n",
      "Processing Videos:  29%|██▉       | 201/698 [1:04:08<2:42:56, 19.67s/it]"
     ]
    },
    {
     "name": "stdout",
     "output_type": "stream",
     "text": [
      "File Name: linhcuuhoadaily_7278529985093094658.mp4, File Size: 7.07 MB\n",
      "Total frames in video: 1098\n",
      "Frame indices to extract: [0, 219, 439, 658, 878]\n",
      "Extracted 5 frames.\n"
     ]
    },
    {
     "name": "stderr",
     "output_type": "stream",
     "text": [
      "\n",
      "Processing Frames:   0%|          | 0/5 [00:00<?, ?it/s]\u001b[A\n",
      "Processing Frames:  20%|██        | 1/5 [00:03<00:14,  3.71s/it]\u001b[A\n",
      "Processing Frames:  40%|████      | 2/5 [00:07<00:10,  3.58s/it]\u001b[A\n",
      "Processing Frames:  60%|██████    | 3/5 [00:09<00:06,  3.22s/it]\u001b[A\n",
      "Processing Frames:  80%|████████  | 4/5 [00:13<00:03,  3.18s/it]\u001b[A\n",
      "Processing Frames: 100%|██████████| 5/5 [00:16<00:00,  3.25s/it]\u001b[A\n",
      "Processing Videos:  29%|██▉       | 202/698 [1:04:27<2:40:43, 19.44s/it]"
     ]
    },
    {
     "name": "stdout",
     "output_type": "stream",
     "text": [
      "File Name: lyhealthy_7375910075745013010.mp4, File Size: 10.04 MB\n",
      "Total frames in video: 2994\n",
      "Frame indices to extract: [0, 598, 1197, 1796, 2395]\n",
      "Extracted 5 frames.\n"
     ]
    },
    {
     "name": "stderr",
     "output_type": "stream",
     "text": [
      "\n",
      "Processing Frames:   0%|          | 0/5 [00:00<?, ?it/s]\u001b[A\n",
      "Processing Frames:  20%|██        | 1/5 [00:05<00:20,  5.02s/it]\u001b[A\n",
      "Processing Frames:  40%|████      | 2/5 [00:08<00:11,  3.87s/it]\u001b[A\n",
      "Processing Frames:  60%|██████    | 3/5 [00:11<00:07,  3.54s/it]\u001b[A\n",
      "Processing Frames:  80%|████████  | 4/5 [00:15<00:04,  4.01s/it]\u001b[A\n",
      "Processing Frames: 100%|██████████| 5/5 [00:19<00:00,  3.81s/it]\u001b[A\n",
      "Processing Videos:  29%|██▉       | 203/698 [1:04:49<2:44:55, 19.99s/it]"
     ]
    },
    {
     "name": "stdout",
     "output_type": "stream",
     "text": [
      "File Name: peaceful_anyen_7270091933207334150.mp4, File Size: 2.10 MB\n",
      "Total frames in video: 175\n",
      "Frame indices to extract: [0, 35, 70, 105, 140]\n",
      "Extracted 5 frames.\n"
     ]
    },
    {
     "name": "stderr",
     "output_type": "stream",
     "text": [
      "\n",
      "Processing Frames:   0%|          | 0/5 [00:00<?, ?it/s]\u001b[A\n",
      "Processing Frames:  20%|██        | 1/5 [00:03<00:13,  3.25s/it]\u001b[A\n",
      "Processing Frames:  40%|████      | 2/5 [00:06<00:09,  3.23s/it]\u001b[A\n",
      "Processing Frames:  60%|██████    | 3/5 [00:09<00:06,  3.25s/it]\u001b[A\n",
      "Processing Frames:  80%|████████  | 4/5 [00:12<00:03,  3.17s/it]\u001b[A\n",
      "Processing Frames: 100%|██████████| 5/5 [00:15<00:00,  3.17s/it]\u001b[A\n",
      "Processing Videos:  29%|██▉       | 204/698 [1:05:07<2:40:16, 19.47s/it]"
     ]
    },
    {
     "name": "stdout",
     "output_type": "stream",
     "text": [
      "File Name: mrdainhattin_7228937763364687109.mp4, File Size: 7.61 MB\n",
      "Total frames in video: 1800\n",
      "Frame indices to extract: [0, 360, 720, 1080, 1440]\n",
      "Extracted 5 frames.\n"
     ]
    },
    {
     "name": "stderr",
     "output_type": "stream",
     "text": [
      "\n",
      "Processing Frames:   0%|          | 0/5 [00:00<?, ?it/s]\u001b[A\n",
      "Processing Frames:  20%|██        | 1/5 [00:03<00:13,  3.28s/it]\u001b[A\n",
      "Processing Frames:  40%|████      | 2/5 [00:07<00:11,  3.76s/it]\u001b[A\n",
      "Processing Frames:  60%|██████    | 3/5 [00:09<00:06,  3.12s/it]\u001b[A\n",
      "Processing Frames:  80%|████████  | 4/5 [00:12<00:03,  3.16s/it]\u001b[A\n",
      "Processing Frames: 100%|██████████| 5/5 [00:16<00:00,  3.24s/it]\u001b[A\n",
      "Processing Videos:  29%|██▉       | 205/698 [1:05:25<2:37:57, 19.22s/it]"
     ]
    },
    {
     "name": "stdout",
     "output_type": "stream",
     "text": [
      "File Name: vinhgau.tt_6969934773590576385.mp4, File Size: 19.68 MB\n",
      "Total frames in video: 1685\n",
      "Frame indices to extract: [0, 337, 674, 1011, 1348]\n",
      "Extracted 5 frames.\n"
     ]
    },
    {
     "name": "stderr",
     "output_type": "stream",
     "text": [
      "\n",
      "Processing Frames:   0%|          | 0/5 [00:00<?, ?it/s]\u001b[A\n",
      "Processing Frames:  20%|██        | 1/5 [00:03<00:13,  3.47s/it]\u001b[A\n",
      "Processing Frames:  40%|████      | 2/5 [00:06<00:09,  3.33s/it]\u001b[A\n",
      "Processing Frames:  60%|██████    | 3/5 [00:10<00:06,  3.44s/it]\u001b[A\n",
      "Processing Frames:  80%|████████  | 4/5 [00:13<00:03,  3.44s/it]\u001b[A\n",
      "Processing Frames: 100%|██████████| 5/5 [00:16<00:00,  3.35s/it]\u001b[A\n",
      "Processing Videos:  30%|██▉       | 206/698 [1:05:44<2:36:01, 19.03s/it]"
     ]
    },
    {
     "name": "stdout",
     "output_type": "stream",
     "text": [
      "File Name: anvedem_7274196324336110853.mp4, File Size: 26.77 MB\n",
      "Total frames in video: 4773\n",
      "Frame indices to extract: [0, 954, 1909, 2863, 3818]\n",
      "Extracted 5 frames.\n"
     ]
    },
    {
     "name": "stderr",
     "output_type": "stream",
     "text": [
      "\n",
      "Processing Frames:   0%|          | 0/5 [00:00<?, ?it/s]\u001b[A\n",
      "Processing Frames:  20%|██        | 1/5 [00:03<00:14,  3.57s/it]\u001b[A\n",
      "Processing Frames:  40%|████      | 2/5 [00:06<00:10,  3.38s/it]\u001b[A\n",
      "Processing Frames:  60%|██████    | 3/5 [00:09<00:06,  3.22s/it]\u001b[A\n",
      "Processing Frames:  80%|████████  | 4/5 [00:12<00:03,  3.17s/it]\u001b[A\n",
      "Processing Frames: 100%|██████████| 5/5 [00:15<00:00,  3.16s/it]\u001b[A\n",
      "Processing Videos:  30%|██▉       | 207/698 [1:06:03<2:35:18, 18.98s/it]"
     ]
    },
    {
     "name": "stdout",
     "output_type": "stream",
     "text": [
      "File Name: unboxshin_7309837321183005953.mp4, File Size: 12.54 MB\n",
      "Total frames in video: 4029\n",
      "Frame indices to extract: [0, 805, 1611, 2417, 3223]\n",
      "Extracted 5 frames.\n"
     ]
    },
    {
     "name": "stderr",
     "output_type": "stream",
     "text": [
      "\n",
      "Processing Frames:   0%|          | 0/5 [00:00<?, ?it/s]\u001b[A\n",
      "Processing Frames:  20%|██        | 1/5 [00:03<00:12,  3.08s/it]\u001b[A\n",
      "Processing Frames:  40%|████      | 2/5 [00:06<00:09,  3.20s/it]\u001b[A\n",
      "Processing Frames:  60%|██████    | 3/5 [00:09<00:06,  3.30s/it]\u001b[A\n",
      "Processing Frames:  80%|████████  | 4/5 [00:12<00:03,  3.13s/it]\u001b[A\n",
      "Processing Frames: 100%|██████████| 5/5 [00:16<00:00,  3.25s/it]\u001b[A\n",
      "Processing Videos:  30%|██▉       | 208/698 [1:06:21<2:33:28, 18.79s/it]"
     ]
    },
    {
     "name": "stdout",
     "output_type": "stream",
     "text": [
      "File Name: thdzaivchuong_7344873041991585032.mp4, File Size: 8.11 MB\n",
      "Total frames in video: 941\n",
      "Frame indices to extract: [0, 188, 376, 564, 752]\n",
      "Extracted 5 frames.\n"
     ]
    },
    {
     "name": "stderr",
     "output_type": "stream",
     "text": [
      "\n",
      "Processing Frames:   0%|          | 0/5 [00:00<?, ?it/s]\u001b[A\n",
      "Processing Frames:  20%|██        | 1/5 [00:02<00:11,  2.88s/it]\u001b[A\n",
      "Processing Frames:  40%|████      | 2/5 [00:06<00:09,  3.10s/it]\u001b[A\n",
      "Processing Frames:  60%|██████    | 3/5 [00:09<00:06,  3.15s/it]\u001b[A\n",
      "Processing Frames:  80%|████████  | 4/5 [00:12<00:03,  3.18s/it]\u001b[A\n",
      "Processing Frames: 100%|██████████| 5/5 [00:15<00:00,  3.17s/it]\u001b[A\n",
      "Processing Videos:  30%|██▉       | 209/698 [1:06:40<2:32:07, 18.67s/it]"
     ]
    },
    {
     "name": "stdout",
     "output_type": "stream",
     "text": [
      "File Name: hoshiphan_7000011969021447426.mp4, File Size: 40.92 MB\n",
      "Total frames in video: 8907\n",
      "Frame indices to extract: [0, 1781, 3562, 5344, 7125]\n",
      "Extracted 5 frames.\n"
     ]
    },
    {
     "name": "stderr",
     "output_type": "stream",
     "text": [
      "\n",
      "Processing Frames:   0%|          | 0/5 [00:00<?, ?it/s]\u001b[A\n",
      "Processing Frames:  20%|██        | 1/5 [00:04<00:17,  4.39s/it]\u001b[A\n",
      "Processing Frames:  40%|████      | 2/5 [00:09<00:14,  4.72s/it]\u001b[A\n",
      "Processing Frames:  60%|██████    | 3/5 [00:13<00:09,  4.53s/it]\u001b[A\n",
      "Processing Frames:  80%|████████  | 4/5 [00:16<00:03,  3.96s/it]\u001b[A\n",
      "Processing Frames: 100%|██████████| 5/5 [00:19<00:00,  4.00s/it]\u001b[A\n",
      "Processing Videos:  30%|███       | 210/698 [1:07:02<2:40:24, 19.72s/it]"
     ]
    },
    {
     "name": "stdout",
     "output_type": "stream",
     "text": [
      "File Name: bombom_vlog_7375874550120205575.mp4, File Size: 155.84 MB\n",
      "Total frames in video: 28856\n",
      "Frame indices to extract: [0, 5771, 11542, 17313, 23084]\n",
      "Extracted 5 frames.\n"
     ]
    },
    {
     "name": "stderr",
     "output_type": "stream",
     "text": [
      "\n",
      "Processing Frames:   0%|          | 0/5 [00:00<?, ?it/s]\u001b[A\n",
      "Processing Frames:  20%|██        | 1/5 [00:04<00:16,  4.23s/it]\u001b[A\n",
      "Processing Frames:  40%|████      | 2/5 [00:07<00:10,  3.44s/it]\u001b[A\n",
      "Processing Frames:  60%|██████    | 3/5 [00:10<00:06,  3.33s/it]\u001b[A\n",
      "Processing Frames:  80%|████████  | 4/5 [00:13<00:03,  3.22s/it]\u001b[A\n",
      "Processing Frames: 100%|██████████| 5/5 [00:16<00:00,  3.29s/it]\u001b[A\n",
      "Processing Videos:  30%|███       | 211/698 [1:07:21<2:38:39, 19.55s/it]"
     ]
    },
    {
     "name": "stdout",
     "output_type": "stream",
     "text": [
      "File Name: absolutechristmas_7137606666459122950.mp4, File Size: 2.76 MB\n",
      "Total frames in video: 854\n",
      "Frame indices to extract: [0, 170, 341, 512, 683]\n",
      "Extracted 5 frames.\n"
     ]
    },
    {
     "name": "stderr",
     "output_type": "stream",
     "text": [
      "\n",
      "Processing Frames:   0%|          | 0/5 [00:00<?, ?it/s]\u001b[A\n",
      "Processing Frames:  20%|██        | 1/5 [00:03<00:15,  3.92s/it]\u001b[A\n",
      "Processing Frames:  40%|████      | 2/5 [00:08<00:13,  4.55s/it]\u001b[A\n",
      "Processing Frames:  60%|██████    | 3/5 [00:11<00:07,  3.87s/it]\u001b[A\n",
      "Processing Frames:  80%|████████  | 4/5 [00:15<00:03,  3.72s/it]\u001b[A\n",
      "Processing Frames: 100%|██████████| 5/5 [00:18<00:00,  3.78s/it]\u001b[A\n",
      "Processing Videos:  30%|███       | 212/698 [1:07:42<2:42:06, 20.01s/it]"
     ]
    },
    {
     "name": "stdout",
     "output_type": "stream",
     "text": [
      "File Name: shopping.di.100k_7344721498034195720.mp4, File Size: 10.48 MB\n",
      "Total frames in video: 1870\n",
      "Frame indices to extract: [0, 374, 748, 1122, 1496]\n",
      "Extracted 5 frames.\n"
     ]
    },
    {
     "name": "stderr",
     "output_type": "stream",
     "text": [
      "\n",
      "Processing Frames:   0%|          | 0/5 [00:00<?, ?it/s]\u001b[A\n",
      "Processing Frames:  20%|██        | 1/5 [00:03<00:12,  3.09s/it]\u001b[A\n",
      "Processing Frames:  40%|████      | 2/5 [00:07<00:12,  4.15s/it]\u001b[A\n",
      "Processing Frames:  60%|██████    | 3/5 [00:11<00:07,  3.90s/it]\u001b[A\n",
      "Processing Frames:  80%|████████  | 4/5 [00:15<00:04,  4.01s/it]\u001b[A\n",
      "Processing Frames: 100%|██████████| 5/5 [00:18<00:00,  3.77s/it]\u001b[A\n",
      "Processing Videos:  31%|███       | 213/698 [1:08:03<2:44:32, 20.36s/it]"
     ]
    },
    {
     "name": "stdout",
     "output_type": "stream",
     "text": [
      "File Name: hinzhomnaylaca_7345047292904213768.mp4, File Size: 14.51 MB\n",
      "Total frames in video: 1441\n",
      "Frame indices to extract: [0, 288, 576, 864, 1152]\n",
      "Extracted 5 frames.\n"
     ]
    },
    {
     "name": "stderr",
     "output_type": "stream",
     "text": [
      "\n",
      "Processing Frames:   0%|          | 0/5 [00:00<?, ?it/s]\u001b[A\n",
      "Processing Frames:  20%|██        | 1/5 [00:03<00:12,  3.12s/it]\u001b[A\n",
      "Processing Frames:  40%|████      | 2/5 [00:06<00:09,  3.11s/it]\u001b[A\n",
      "Processing Frames:  60%|██████    | 3/5 [00:09<00:06,  3.17s/it]\u001b[A\n",
      "Processing Frames:  80%|████████  | 4/5 [00:13<00:03,  3.34s/it]\u001b[A\n",
      "Processing Frames: 100%|██████████| 5/5 [00:16<00:00,  3.23s/it]\u001b[A\n",
      "Processing Videos:  31%|███       | 214/698 [1:08:21<2:38:39, 19.67s/it]"
     ]
    },
    {
     "name": "stdout",
     "output_type": "stream",
     "text": [
      "File Name: cngng5269_7268209726024846598.mp4, File Size: 1.50 MB\n",
      "Total frames in video: 335\n",
      "Frame indices to extract: [0, 67, 134, 201, 268]\n",
      "Extracted 5 frames.\n"
     ]
    },
    {
     "name": "stderr",
     "output_type": "stream",
     "text": [
      "\n",
      "Processing Frames:   0%|          | 0/5 [00:00<?, ?it/s]\u001b[A\n",
      "Processing Frames:  20%|██        | 1/5 [00:03<00:15,  3.83s/it]\u001b[A\n",
      "Processing Frames:  40%|████      | 2/5 [00:07<00:11,  3.80s/it]\u001b[A\n",
      "Processing Frames:  60%|██████    | 3/5 [00:11<00:07,  3.63s/it]\u001b[A\n",
      "Processing Frames:  80%|████████  | 4/5 [00:14<00:03,  3.40s/it]\u001b[A\n",
      "Processing Frames: 100%|██████████| 5/5 [00:17<00:00,  3.59s/it]\u001b[A\n",
      "Processing Videos:  31%|███       | 215/698 [1:08:41<2:38:12, 19.65s/it]"
     ]
    },
    {
     "name": "stdout",
     "output_type": "stream",
     "text": [
      "File Name: bovaemsanho_7268675982771424517.mp4, File Size: 5.64 MB\n",
      "Total frames in video: 1218\n",
      "Frame indices to extract: [0, 243, 487, 730, 974]\n",
      "Extracted 5 frames.\n"
     ]
    },
    {
     "name": "stderr",
     "output_type": "stream",
     "text": [
      "\n",
      "Processing Frames:   0%|          | 0/5 [00:00<?, ?it/s]\u001b[A\n",
      "Processing Frames:  20%|██        | 1/5 [00:03<00:12,  3.08s/it]\u001b[A\n",
      "Processing Frames:  40%|████      | 2/5 [00:06<00:09,  3.20s/it]\u001b[A\n",
      "Processing Frames:  60%|██████    | 3/5 [00:09<00:06,  3.22s/it]\u001b[A\n",
      "Processing Frames:  80%|████████  | 4/5 [00:12<00:03,  3.22s/it]\u001b[A\n",
      "Processing Frames: 100%|██████████| 5/5 [00:16<00:00,  3.22s/it]\u001b[A\n",
      "Processing Videos:  31%|███       | 216/698 [1:08:59<2:34:38, 19.25s/it]"
     ]
    },
    {
     "name": "stdout",
     "output_type": "stream",
     "text": [
      "File Name: dodokids6868_7318575075844689159.mp4, File Size: 3.82 MB\n",
      "Total frames in video: 1435\n",
      "Frame indices to extract: [0, 287, 574, 861, 1148]\n",
      "Extracted 5 frames.\n"
     ]
    },
    {
     "name": "stderr",
     "output_type": "stream",
     "text": [
      "\n",
      "Processing Frames:   0%|          | 0/5 [00:00<?, ?it/s]\u001b[A\n",
      "Processing Frames:  20%|██        | 1/5 [00:05<00:20,  5.20s/it]\u001b[A\n",
      "Processing Frames:  40%|████      | 2/5 [00:08<00:12,  4.06s/it]\u001b[A\n",
      "Processing Frames:  60%|██████    | 3/5 [00:11<00:07,  3.51s/it]\u001b[A\n",
      "Processing Frames:  80%|████████  | 4/5 [00:14<00:03,  3.48s/it]\u001b[A\n",
      "Processing Frames: 100%|██████████| 5/5 [00:18<00:00,  3.68s/it]\u001b[A\n",
      "Processing Videos:  31%|███       | 217/698 [1:09:19<2:36:26, 19.51s/it]"
     ]
    },
    {
     "name": "stdout",
     "output_type": "stream",
     "text": [
      "File Name: maythangtuw_7231098701953993990.mp4, File Size: 2.28 MB\n",
      "Total frames in video: 332\n",
      "Frame indices to extract: [0, 66, 132, 199, 265]\n",
      "Extracted 5 frames.\n"
     ]
    },
    {
     "name": "stderr",
     "output_type": "stream",
     "text": [
      "\n",
      "Processing Frames:   0%|          | 0/5 [00:00<?, ?it/s]\u001b[A\n",
      "Processing Frames:  20%|██        | 1/5 [00:03<00:13,  3.28s/it]\u001b[A\n",
      "Processing Frames:  40%|████      | 2/5 [00:06<00:10,  3.40s/it]\u001b[A\n",
      "Processing Frames:  60%|██████    | 3/5 [00:09<00:06,  3.17s/it]\u001b[A\n",
      "Processing Frames:  80%|████████  | 4/5 [00:12<00:03,  3.21s/it]\u001b[A\n",
      "Processing Frames: 100%|██████████| 5/5 [00:16<00:00,  3.40s/it]\u001b[A\n",
      "Processing Videos:  31%|███       | 218/698 [1:09:38<2:34:20, 19.29s/it]"
     ]
    },
    {
     "name": "stdout",
     "output_type": "stream",
     "text": [
      "File Name: ghome.official_7115728357785914650.mp4, File Size: 13.39 MB\n",
      "Total frames in video: 3299\n",
      "Frame indices to extract: [0, 659, 1319, 1979, 2639]\n",
      "Extracted 5 frames.\n"
     ]
    },
    {
     "name": "stderr",
     "output_type": "stream",
     "text": [
      "\n",
      "Processing Frames:   0%|          | 0/5 [00:00<?, ?it/s]\u001b[A\n",
      "Processing Frames:  20%|██        | 1/5 [00:03<00:15,  3.79s/it]\u001b[A\n",
      "Processing Frames:  40%|████      | 2/5 [00:07<00:11,  3.68s/it]\u001b[A\n",
      "Processing Frames:  60%|██████    | 3/5 [00:10<00:06,  3.40s/it]\u001b[A\n",
      "Processing Frames:  80%|████████  | 4/5 [00:13<00:03,  3.26s/it]\u001b[A\n",
      "Processing Frames: 100%|██████████| 5/5 [00:17<00:00,  3.42s/it]\u001b[A\n",
      "Processing Videos:  31%|███▏      | 219/698 [1:09:57<2:33:01, 19.17s/it]"
     ]
    },
    {
     "name": "stdout",
     "output_type": "stream",
     "text": [
      "File Name: phutlela_7245259169081789701.mp4, File Size: 9.13 MB\n",
      "Total frames in video: 805\n",
      "Frame indices to extract: [0, 161, 322, 483, 644]\n",
      "Extracted 5 frames.\n"
     ]
    },
    {
     "name": "stderr",
     "output_type": "stream",
     "text": [
      "\n",
      "Processing Frames:   0%|          | 0/5 [00:00<?, ?it/s]\u001b[A\n",
      "Processing Frames:  20%|██        | 1/5 [00:03<00:13,  3.26s/it]\u001b[A\n",
      "Processing Frames:  40%|████      | 2/5 [00:06<00:09,  3.24s/it]\u001b[A\n",
      "Processing Frames:  60%|██████    | 3/5 [00:09<00:06,  3.27s/it]\u001b[A\n",
      "Processing Frames:  80%|████████  | 4/5 [00:13<00:03,  3.49s/it]\u001b[A\n",
      "Processing Frames: 100%|██████████| 5/5 [00:16<00:00,  3.37s/it]\u001b[A\n",
      "Processing Videos:  32%|███▏      | 220/698 [1:10:16<2:31:54, 19.07s/it]"
     ]
    },
    {
     "name": "stdout",
     "output_type": "stream",
     "text": [
      "File Name: daylanhacuaca_7234140613086596360.mp4, File Size: 16.67 MB\n",
      "Total frames in video: 2006\n",
      "Frame indices to extract: [0, 401, 802, 1203, 1604]\n",
      "Extracted 5 frames.\n"
     ]
    },
    {
     "name": "stderr",
     "output_type": "stream",
     "text": [
      "\n",
      "Processing Frames:   0%|          | 0/5 [00:00<?, ?it/s]\u001b[A\n",
      "Processing Frames:  20%|██        | 1/5 [00:03<00:13,  3.28s/it]\u001b[A\n",
      "Processing Frames:  40%|████      | 2/5 [00:07<00:10,  3.57s/it]\u001b[A\n",
      "Processing Frames:  60%|██████    | 3/5 [00:10<00:06,  3.32s/it]\u001b[A\n",
      "Processing Frames:  80%|████████  | 4/5 [00:13<00:03,  3.23s/it]\u001b[A\n",
      "Processing Frames: 100%|██████████| 5/5 [00:16<00:00,  3.35s/it]\u001b[A\n",
      "Processing Videos:  32%|███▏      | 221/698 [1:10:35<2:31:24, 19.05s/it]"
     ]
    },
    {
     "name": "stdout",
     "output_type": "stream",
     "text": [
      "File Name: dicainaykhong_7342758006813134081.mp4, File Size: 10.36 MB\n",
      "Total frames in video: 2696\n",
      "Frame indices to extract: [0, 539, 1078, 1617, 2156]\n",
      "Extracted 5 frames.\n"
     ]
    },
    {
     "name": "stderr",
     "output_type": "stream",
     "text": [
      "\n",
      "Processing Frames:   0%|          | 0/5 [00:00<?, ?it/s]\u001b[A\n",
      "Processing Frames:  20%|██        | 1/5 [00:03<00:15,  3.86s/it]\u001b[A\n",
      "Processing Frames:  40%|████      | 2/5 [00:07<00:11,  3.76s/it]\u001b[A\n",
      "Processing Frames:  60%|██████    | 3/5 [00:11<00:07,  3.68s/it]\u001b[A\n",
      "Processing Frames:  80%|████████  | 4/5 [00:15<00:03,  3.80s/it]\u001b[A\n",
      "Processing Frames: 100%|██████████| 5/5 [00:18<00:00,  3.63s/it]\u001b[A\n",
      "Processing Videos:  32%|███▏      | 222/698 [1:10:55<2:34:17, 19.45s/it]"
     ]
    },
    {
     "name": "stdout",
     "output_type": "stream",
     "text": [
      "File Name: mehuonghuong_7062683483151420699.mp4, File Size: 18.20 MB\n",
      "Total frames in video: 2518\n",
      "Frame indices to extract: [0, 503, 1007, 1510, 2014]\n",
      "Extracted 5 frames.\n"
     ]
    },
    {
     "name": "stderr",
     "output_type": "stream",
     "text": [
      "\n",
      "Processing Frames:   0%|          | 0/5 [00:00<?, ?it/s]\u001b[A\n",
      "Processing Frames:  20%|██        | 1/5 [00:03<00:13,  3.48s/it]\u001b[A\n",
      "Processing Frames:  40%|████      | 2/5 [00:07<00:10,  3.55s/it]\u001b[A\n",
      "Processing Frames:  60%|██████    | 3/5 [00:10<00:06,  3.40s/it]\u001b[A\n",
      "Processing Frames:  80%|████████  | 4/5 [00:13<00:03,  3.43s/it]\u001b[A\n",
      "Processing Frames: 100%|██████████| 5/5 [00:17<00:00,  3.47s/it]\u001b[A\n",
      "Processing Videos:  32%|███▏      | 223/698 [1:11:15<2:35:27, 19.64s/it]"
     ]
    },
    {
     "name": "stdout",
     "output_type": "stream",
     "text": [
      "File Name: peachcrap_7356449721826757906.mp4, File Size: 7.23 MB\n",
      "Total frames in video: 3585\n",
      "Frame indices to extract: [0, 717, 1434, 2151, 2868]\n",
      "Extracted 5 frames.\n"
     ]
    },
    {
     "name": "stderr",
     "output_type": "stream",
     "text": [
      "\n",
      "Processing Frames:   0%|          | 0/5 [00:00<?, ?it/s]\u001b[A\n",
      "Processing Frames:  20%|██        | 1/5 [00:02<00:11,  2.93s/it]\u001b[A\n",
      "Processing Frames:  40%|████      | 2/5 [00:06<00:09,  3.32s/it]\u001b[A\n",
      "Processing Frames:  60%|██████    | 3/5 [00:09<00:06,  3.11s/it]\u001b[A\n",
      "Processing Frames:  80%|████████  | 4/5 [00:12<00:03,  3.25s/it]\u001b[A\n",
      "Processing Frames: 100%|██████████| 5/5 [00:16<00:00,  3.37s/it]\u001b[A\n",
      "Processing Videos:  32%|███▏      | 224/698 [1:11:34<2:33:21, 19.41s/it]"
     ]
    },
    {
     "name": "stdout",
     "output_type": "stream",
     "text": [
      "File Name: haxu2403_7197383654417403163.mp4, File Size: 1.74 MB\n",
      "Total frames in video: 660\n",
      "Frame indices to extract: [0, 132, 264, 396, 528]\n",
      "Extracted 5 frames.\n"
     ]
    },
    {
     "name": "stderr",
     "output_type": "stream",
     "text": [
      "\n",
      "Processing Frames:   0%|          | 0/5 [00:00<?, ?it/s]\u001b[A\n",
      "Processing Frames:  20%|██        | 1/5 [00:04<00:16,  4.04s/it]\u001b[A\n",
      "Processing Frames:  40%|████      | 2/5 [00:07<00:10,  3.46s/it]\u001b[A\n",
      "Processing Frames:  60%|██████    | 3/5 [00:10<00:06,  3.33s/it]\u001b[A\n",
      "Processing Frames:  80%|████████  | 4/5 [00:14<00:03,  3.49s/it]\u001b[A\n",
      "Processing Frames: 100%|██████████| 5/5 [00:17<00:00,  3.41s/it]\u001b[A\n",
      "Processing Videos:  32%|███▏      | 225/698 [1:11:53<2:32:35, 19.36s/it]"
     ]
    },
    {
     "name": "stdout",
     "output_type": "stream",
     "text": [
      "File Name: elysian.living_7207908169769651498.mp4, File Size: 11.26 MB\n",
      "Total frames in video: 1806\n",
      "Frame indices to extract: [0, 361, 722, 1083, 1444]\n",
      "Extracted 5 frames.\n"
     ]
    },
    {
     "name": "stderr",
     "output_type": "stream",
     "text": [
      "\n",
      "Processing Frames:   0%|          | 0/5 [00:00<?, ?it/s]\u001b[A\n",
      "Processing Frames:  20%|██        | 1/5 [00:03<00:12,  3.09s/it]\u001b[A\n",
      "Processing Frames:  40%|████      | 2/5 [00:06<00:10,  3.52s/it]\u001b[A\n",
      "Processing Frames:  60%|██████    | 3/5 [00:09<00:06,  3.14s/it]\u001b[A\n",
      "Processing Frames:  80%|████████  | 4/5 [00:12<00:03,  3.23s/it]\u001b[A\n",
      "Processing Frames: 100%|██████████| 5/5 [00:16<00:00,  3.29s/it]\u001b[A\n",
      "Processing Videos:  32%|███▏      | 226/698 [1:12:12<2:29:37, 19.02s/it]"
     ]
    },
    {
     "name": "stdout",
     "output_type": "stream",
     "text": [
      "File Name: mocuabatoctv_7027044414698687771.mp4, File Size: 12.84 MB\n",
      "Total frames in video: 1777\n",
      "Frame indices to extract: [0, 355, 710, 1066, 1421]\n",
      "Extracted 5 frames.\n"
     ]
    },
    {
     "name": "stderr",
     "output_type": "stream",
     "text": [
      "\n",
      "Processing Frames:   0%|          | 0/5 [00:00<?, ?it/s]\u001b[A\n",
      "Processing Frames:  20%|██        | 1/5 [00:02<00:11,  2.88s/it]\u001b[A\n",
      "Processing Frames:  40%|████      | 2/5 [00:07<00:11,  3.67s/it]\u001b[A\n",
      "Processing Frames:  60%|██████    | 3/5 [00:10<00:06,  3.41s/it]\u001b[A\n",
      "Processing Frames:  80%|████████  | 4/5 [00:13<00:03,  3.40s/it]\u001b[A\n",
      "Processing Frames: 100%|██████████| 5/5 [00:17<00:00,  3.40s/it]\u001b[A\n",
      "Processing Videos:  33%|███▎      | 227/698 [1:12:31<2:30:15, 19.14s/it]"
     ]
    },
    {
     "name": "stdout",
     "output_type": "stream",
     "text": [
      "File Name: beckyovietnam_7227701676205968645.mp4, File Size: 9.73 MB\n",
      "Total frames in video: 2280\n",
      "Frame indices to extract: [0, 456, 912, 1368, 1824]\n",
      "Extracted 5 frames.\n"
     ]
    },
    {
     "name": "stderr",
     "output_type": "stream",
     "text": [
      "\n",
      "Processing Frames:   0%|          | 0/5 [00:00<?, ?it/s]\u001b[A\n",
      "Processing Frames:  20%|██        | 1/5 [00:02<00:10,  2.52s/it]\u001b[A\n",
      "Processing Frames:  40%|████      | 2/5 [00:05<00:08,  2.97s/it]\u001b[A\n",
      "Processing Frames:  60%|██████    | 3/5 [00:09<00:06,  3.18s/it]\u001b[A\n",
      "Processing Frames:  80%|████████  | 4/5 [00:12<00:03,  3.27s/it]\u001b[A\n",
      "Processing Frames: 100%|██████████| 5/5 [00:15<00:00,  3.19s/it]\u001b[A\n",
      "Processing Videos:  33%|███▎      | 228/698 [1:12:49<2:27:09, 18.79s/it]"
     ]
    },
    {
     "name": "stdout",
     "output_type": "stream",
     "text": [
      "File Name: diy1368_7251979918970506523.mp4, File Size: 7.78 MB\n",
      "Total frames in video: 1340\n",
      "Frame indices to extract: [0, 268, 536, 804, 1072]\n",
      "Extracted 5 frames.\n"
     ]
    },
    {
     "name": "stderr",
     "output_type": "stream",
     "text": [
      "\n",
      "Processing Frames:   0%|          | 0/5 [00:00<?, ?it/s]\u001b[A\n",
      "Processing Frames:  20%|██        | 1/5 [00:03<00:14,  3.54s/it]\u001b[A\n",
      "Processing Frames:  40%|████      | 2/5 [00:06<00:09,  3.02s/it]\u001b[A\n",
      "Processing Frames:  60%|██████    | 3/5 [00:10<00:06,  3.46s/it]\u001b[A\n",
      "Processing Frames:  80%|████████  | 4/5 [00:14<00:03,  3.65s/it]\u001b[A\n",
      "Processing Frames: 100%|██████████| 5/5 [00:17<00:00,  3.51s/it]\u001b[A\n",
      "Processing Videos:  33%|███▎      | 229/698 [1:13:09<2:29:09, 19.08s/it]"
     ]
    },
    {
     "name": "stdout",
     "output_type": "stream",
     "text": [
      "File Name: nguyenhoa070784_7373653662503128327.mp4, File Size: 4.53 MB\n",
      "Total frames in video: 5843\n",
      "Frame indices to extract: [0, 1168, 2337, 3505, 4674]\n",
      "Extracted 5 frames.\n"
     ]
    },
    {
     "name": "stderr",
     "output_type": "stream",
     "text": [
      "\n",
      "Processing Frames:   0%|          | 0/5 [00:00<?, ?it/s]\u001b[A\n",
      "Processing Frames:  20%|██        | 1/5 [00:02<00:11,  2.90s/it]\u001b[A\n",
      "Processing Frames:  40%|████      | 2/5 [00:05<00:08,  2.99s/it]\u001b[A\n",
      "Processing Frames:  60%|██████    | 3/5 [00:08<00:05,  2.95s/it]\u001b[A\n",
      "Processing Frames:  80%|████████  | 4/5 [00:11<00:02,  2.92s/it]\u001b[A\n",
      "Processing Frames: 100%|██████████| 5/5 [00:15<00:00,  3.02s/it]\u001b[A\n",
      "Processing Videos:  33%|███▎      | 230/698 [1:13:26<2:23:55, 18.45s/it]"
     ]
    },
    {
     "name": "stdout",
     "output_type": "stream",
     "text": [
      "File Name: thlinh_onthidaihoc_7370924564391529746.mp4, File Size: 3.48 MB\n",
      "Total frames in video: 650\n",
      "Frame indices to extract: [0, 130, 260, 390, 520]\n",
      "Extracted 5 frames.\n"
     ]
    },
    {
     "name": "stderr",
     "output_type": "stream",
     "text": [
      "\n",
      "Processing Frames:   0%|          | 0/5 [00:00<?, ?it/s]\u001b[A\n",
      "Processing Frames:  20%|██        | 1/5 [00:03<00:14,  3.51s/it]\u001b[A\n",
      "Processing Frames:  40%|████      | 2/5 [00:06<00:10,  3.35s/it]\u001b[A\n",
      "Processing Frames:  60%|██████    | 3/5 [00:09<00:06,  3.29s/it]\u001b[A\n",
      "Processing Frames:  80%|████████  | 4/5 [00:13<00:03,  3.35s/it]\u001b[A\n",
      "Processing Frames: 100%|██████████| 5/5 [00:16<00:00,  3.36s/it]\u001b[A\n",
      "Processing Videos:  33%|███▎      | 231/698 [1:13:45<2:25:21, 18.68s/it]"
     ]
    },
    {
     "name": "stdout",
     "output_type": "stream",
     "text": [
      "File Name: pam.yu.i12_7324903949960629509.mp4, File Size: 2.84 MB\n",
      "Total frames in video: 1404\n",
      "Frame indices to extract: [0, 280, 561, 842, 1123]\n",
      "Extracted 5 frames.\n"
     ]
    },
    {
     "name": "stderr",
     "output_type": "stream",
     "text": [
      "\n",
      "Processing Frames:   0%|          | 0/5 [00:00<?, ?it/s]\u001b[A\n",
      "Processing Frames:  20%|██        | 1/5 [00:03<00:13,  3.47s/it]\u001b[A\n",
      "Processing Frames:  40%|████      | 2/5 [00:06<00:09,  3.12s/it]\u001b[A\n",
      "Processing Frames:  60%|██████    | 3/5 [00:09<00:06,  3.35s/it]\u001b[A\n",
      "Processing Frames:  80%|████████  | 4/5 [00:13<00:03,  3.60s/it]\u001b[A\n",
      "Processing Frames: 100%|██████████| 5/5 [00:16<00:00,  3.36s/it]\u001b[A\n",
      "Processing Videos:  33%|███▎      | 232/698 [1:14:04<2:25:44, 18.76s/it]"
     ]
    },
    {
     "name": "stdout",
     "output_type": "stream",
     "text": [
      "File Name: thangqt_7250322908289961221.mp4, File Size: 4.95 MB\n",
      "Total frames in video: 783\n",
      "Frame indices to extract: [0, 156, 313, 469, 626]\n",
      "Extracted 5 frames.\n"
     ]
    },
    {
     "name": "stderr",
     "output_type": "stream",
     "text": [
      "\n",
      "Processing Frames:   0%|          | 0/5 [00:00<?, ?it/s]\u001b[A\n",
      "Processing Frames:  20%|██        | 1/5 [00:03<00:12,  3.14s/it]\u001b[A\n",
      "Processing Frames:  40%|████      | 2/5 [00:06<00:09,  3.08s/it]\u001b[A\n",
      "Processing Frames:  60%|██████    | 3/5 [00:08<00:05,  2.89s/it]\u001b[A\n",
      "Processing Frames:  80%|████████  | 4/5 [00:12<00:03,  3.02s/it]\u001b[A\n",
      "Processing Frames: 100%|██████████| 5/5 [00:15<00:00,  3.06s/it]\u001b[A\n",
      "Processing Videos:  33%|███▎      | 233/698 [1:14:21<2:22:20, 18.37s/it]"
     ]
    },
    {
     "name": "stdout",
     "output_type": "stream",
     "text": [
      "File Name: monngontrunghoa666_7239927581598911749.mp4, File Size: 4.76 MB\n",
      "Total frames in video: 840\n",
      "Frame indices to extract: [0, 168, 336, 504, 672]\n",
      "Extracted 5 frames.\n"
     ]
    },
    {
     "name": "stderr",
     "output_type": "stream",
     "text": [
      "\n",
      "Processing Frames:   0%|          | 0/5 [00:00<?, ?it/s]\u001b[A\n",
      "Processing Frames:  20%|██        | 1/5 [00:03<00:13,  3.42s/it]\u001b[A\n",
      "Processing Frames:  40%|████      | 2/5 [00:05<00:08,  2.87s/it]\u001b[A\n",
      "Processing Frames:  60%|██████    | 3/5 [00:09<00:06,  3.28s/it]\u001b[A\n",
      "Processing Frames:  80%|████████  | 4/5 [00:12<00:03,  3.18s/it]\u001b[A\n",
      "Processing Frames: 100%|██████████| 5/5 [00:16<00:00,  3.27s/it]\u001b[A\n",
      "Processing Videos:  34%|███▎      | 234/698 [1:14:40<2:21:49, 18.34s/it]"
     ]
    },
    {
     "name": "stdout",
     "output_type": "stream",
     "text": [
      "File Name: mals.home_7041895916403461378.mp4, File Size: 3.53 MB\n",
      "Total frames in video: 1091\n",
      "Frame indices to extract: [0, 218, 436, 654, 872]\n",
      "Extracted 5 frames.\n"
     ]
    },
    {
     "name": "stderr",
     "output_type": "stream",
     "text": [
      "\n",
      "Processing Frames:   0%|          | 0/5 [00:00<?, ?it/s]\u001b[A\n",
      "Processing Frames:  20%|██        | 1/5 [00:03<00:13,  3.27s/it]\u001b[A\n",
      "Processing Frames:  40%|████      | 2/5 [00:06<00:09,  3.03s/it]\u001b[A\n",
      "Processing Frames:  60%|██████    | 3/5 [00:08<00:05,  2.88s/it]\u001b[A\n",
      "Processing Frames:  80%|████████  | 4/5 [00:11<00:02,  2.80s/it]\u001b[A\n",
      "Processing Frames: 100%|██████████| 5/5 [00:16<00:00,  3.27s/it]\u001b[A\n",
      "Processing Videos:  34%|███▎      | 235/698 [1:14:58<2:20:34, 18.22s/it]"
     ]
    },
    {
     "name": "stdout",
     "output_type": "stream",
     "text": [
      "File Name: ofbaublesandfairylights_7256516706468711706.mp4, File Size: 2.07 MB\n",
      "Total frames in video: 466\n",
      "Frame indices to extract: [0, 93, 186, 279, 372]\n",
      "Extracted 5 frames.\n"
     ]
    },
    {
     "name": "stderr",
     "output_type": "stream",
     "text": [
      "\n",
      "Processing Frames:   0%|          | 0/5 [00:00<?, ?it/s]\u001b[A\n",
      "Processing Frames:  20%|██        | 1/5 [00:03<00:15,  3.99s/it]\u001b[A\n",
      "Processing Frames:  40%|████      | 2/5 [00:07<00:10,  3.48s/it]\u001b[A\n",
      "Processing Frames:  60%|██████    | 3/5 [00:10<00:06,  3.39s/it]\u001b[A\n",
      "Processing Frames:  80%|████████  | 4/5 [00:13<00:03,  3.40s/it]\u001b[A\n",
      "Processing Frames: 100%|██████████| 5/5 [00:17<00:00,  3.40s/it]\u001b[A\n",
      "Processing Videos:  34%|███▍      | 236/698 [1:15:16<2:21:30, 18.38s/it]"
     ]
    },
    {
     "name": "stdout",
     "output_type": "stream",
     "text": [
      "File Name: cobebicannn_7295205410519223554.mp4, File Size: 17.29 MB\n",
      "Total frames in video: 3558\n",
      "Frame indices to extract: [0, 711, 1423, 2134, 2846]\n",
      "Extracted 5 frames.\n"
     ]
    },
    {
     "name": "stderr",
     "output_type": "stream",
     "text": [
      "\n",
      "Processing Frames:   0%|          | 0/5 [00:00<?, ?it/s]\u001b[A\n",
      "Processing Frames:  20%|██        | 1/5 [00:03<00:12,  3.25s/it]\u001b[A\n",
      "Processing Frames:  40%|████      | 2/5 [00:05<00:08,  2.80s/it]\u001b[A\n",
      "Processing Frames:  60%|██████    | 3/5 [00:08<00:05,  2.83s/it]\u001b[A\n",
      "Processing Frames:  80%|████████  | 4/5 [00:11<00:02,  2.72s/it]\u001b[A\n",
      "Processing Frames: 100%|██████████| 5/5 [00:14<00:00,  2.92s/it]\u001b[A\n",
      "Processing Videos:  34%|███▍      | 237/698 [1:15:33<2:17:12, 17.86s/it]"
     ]
    },
    {
     "name": "stdout",
     "output_type": "stream",
     "text": [
      "File Name: tuelinhbong_7291240077567577352.mp4, File Size: 2.22 MB\n",
      "Total frames in video: 365\n",
      "Frame indices to extract: [0, 73, 146, 219, 292]\n",
      "Extracted 5 frames.\n"
     ]
    },
    {
     "name": "stderr",
     "output_type": "stream",
     "text": [
      "\n",
      "Processing Frames:   0%|          | 0/5 [00:00<?, ?it/s]\u001b[A\n",
      "Processing Frames:  20%|██        | 1/5 [00:04<00:17,  4.36s/it]\u001b[A\n",
      "Processing Frames:  40%|████      | 2/5 [00:06<00:09,  3.27s/it]\u001b[A\n",
      "Processing Frames:  60%|██████    | 3/5 [00:09<00:06,  3.16s/it]\u001b[A\n",
      "Processing Frames:  80%|████████  | 4/5 [00:12<00:03,  3.12s/it]\u001b[A\n",
      "Processing Frames: 100%|██████████| 5/5 [00:15<00:00,  3.13s/it]\u001b[A\n",
      "Processing Videos:  34%|███▍      | 238/698 [1:15:51<2:17:24, 17.92s/it]"
     ]
    },
    {
     "name": "stdout",
     "output_type": "stream",
     "text": [
      "File Name: miyaevarenae_7072442917071113514.mp4, File Size: 12.88 MB\n",
      "Total frames in video: 1770\n",
      "Frame indices to extract: [0, 354, 708, 1062, 1416]\n",
      "Extracted 5 frames.\n"
     ]
    },
    {
     "name": "stderr",
     "output_type": "stream",
     "text": [
      "\n",
      "Processing Frames:   0%|          | 0/5 [00:00<?, ?it/s]\u001b[A\n",
      "Processing Frames:  20%|██        | 1/5 [00:03<00:13,  3.45s/it]\u001b[A\n",
      "Processing Frames:  40%|████      | 2/5 [00:06<00:10,  3.34s/it]\u001b[A\n",
      "Processing Frames:  60%|██████    | 3/5 [00:10<00:06,  3.36s/it]\u001b[A\n",
      "Processing Frames:  80%|████████  | 4/5 [00:12<00:03,  3.16s/it]\u001b[A\n",
      "Processing Frames: 100%|██████████| 5/5 [00:17<00:00,  3.41s/it]\u001b[A\n",
      "Processing Videos:  34%|███▍      | 239/698 [1:16:10<2:19:05, 18.18s/it]"
     ]
    },
    {
     "name": "stdout",
     "output_type": "stream",
     "text": [
      "File Name: utvevuon99_7255960595797757202.mp4, File Size: 34.54 MB\n",
      "Total frames in video: 5234\n",
      "Frame indices to extract: [0, 1046, 2093, 3140, 4187]\n",
      "Extracted 5 frames.\n"
     ]
    },
    {
     "name": "stderr",
     "output_type": "stream",
     "text": [
      "\n",
      "Processing Frames:   0%|          | 0/5 [00:00<?, ?it/s]\u001b[A\n",
      "Processing Frames:  20%|██        | 1/5 [00:03<00:14,  3.60s/it]\u001b[A\n",
      "Processing Frames:  40%|████      | 2/5 [00:07<00:10,  3.50s/it]\u001b[A\n",
      "Processing Frames:  60%|██████    | 3/5 [00:10<00:06,  3.28s/it]\u001b[A\n",
      "Processing Frames:  80%|████████  | 4/5 [00:12<00:03,  3.10s/it]\u001b[A\n",
      "Processing Frames: 100%|██████████| 5/5 [00:16<00:00,  3.22s/it]\u001b[A\n",
      "Processing Videos:  34%|███▍      | 240/698 [1:16:28<2:18:11, 18.10s/it]"
     ]
    },
    {
     "name": "stdout",
     "output_type": "stream",
     "text": [
      "File Name: tuelinhbong_7307529722458623239.mp4, File Size: 10.24 MB\n",
      "Total frames in video: 3382\n",
      "Frame indices to extract: [0, 676, 1352, 2029, 2705]\n",
      "Extracted 5 frames.\n"
     ]
    },
    {
     "name": "stderr",
     "output_type": "stream",
     "text": [
      "\n",
      "Processing Frames:   0%|          | 0/5 [00:00<?, ?it/s]\u001b[A\n",
      "Processing Frames:  20%|██        | 1/5 [00:03<00:14,  3.60s/it]\u001b[A\n",
      "Processing Frames:  40%|████      | 2/5 [00:06<00:09,  3.27s/it]\u001b[A\n",
      "Processing Frames:  60%|██████    | 3/5 [00:09<00:06,  3.16s/it]\u001b[A\n",
      "Processing Frames:  80%|████████  | 4/5 [00:13<00:03,  3.44s/it]\u001b[A\n",
      "Processing Frames: 100%|██████████| 5/5 [00:16<00:00,  3.35s/it]\u001b[A\n",
      "Processing Videos:  35%|███▍      | 241/698 [1:16:47<2:19:31, 18.32s/it]"
     ]
    },
    {
     "name": "stdout",
     "output_type": "stream",
     "text": [
      "File Name: skylive.fan_6805536728514858242.mp4, File Size: 7.37 MB\n",
      "Total frames in video: 1796\n",
      "Frame indices to extract: [0, 359, 718, 1077, 1436]\n",
      "Extracted 5 frames.\n"
     ]
    },
    {
     "name": "stderr",
     "output_type": "stream",
     "text": [
      "\n",
      "Processing Frames:   0%|          | 0/5 [00:00<?, ?it/s]\u001b[A\n",
      "Processing Frames:  20%|██        | 1/5 [00:03<00:13,  3.43s/it]\u001b[A\n",
      "Processing Frames:  40%|████      | 2/5 [00:05<00:08,  2.87s/it]\u001b[A\n",
      "Processing Frames:  60%|██████    | 3/5 [00:09<00:06,  3.10s/it]\u001b[A\n",
      "Processing Frames:  80%|████████  | 4/5 [00:12<00:03,  3.15s/it]\u001b[A\n",
      "Processing Frames: 100%|██████████| 5/5 [00:16<00:00,  3.22s/it]\u001b[A\n",
      "Processing Videos:  35%|███▍      | 242/698 [1:17:05<2:19:17, 18.33s/it]"
     ]
    },
    {
     "name": "stdout",
     "output_type": "stream",
     "text": [
      "File Name: dongam_den.vauvn_7346444690419502337.mp4, File Size: 2.53 MB\n",
      "Total frames in video: 1246\n",
      "Frame indices to extract: [0, 249, 498, 747, 996]\n",
      "Extracted 5 frames.\n"
     ]
    },
    {
     "name": "stderr",
     "output_type": "stream",
     "text": [
      "\n",
      "Processing Frames:   0%|          | 0/5 [00:00<?, ?it/s]\u001b[A\n",
      "Processing Frames:  20%|██        | 1/5 [00:03<00:13,  3.50s/it]\u001b[A\n",
      "Processing Frames:  40%|████      | 2/5 [00:07<00:12,  4.05s/it]\u001b[A\n",
      "Processing Frames:  60%|██████    | 3/5 [00:10<00:07,  3.59s/it]\u001b[A\n",
      "Processing Frames:  80%|████████  | 4/5 [00:14<00:03,  3.44s/it]\u001b[A\n",
      "Processing Frames: 100%|██████████| 5/5 [00:17<00:00,  3.48s/it]\u001b[A\n",
      "Processing Videos:  35%|███▍      | 243/698 [1:17:25<2:21:51, 18.71s/it]"
     ]
    },
    {
     "name": "stdout",
     "output_type": "stream",
     "text": [
      "File Name: tiger050794_7095304018586602753.mp4, File Size: 9.26 MB\n",
      "Total frames in video: 1337\n",
      "Frame indices to extract: [0, 267, 534, 802, 1069]\n",
      "Extracted 5 frames.\n"
     ]
    },
    {
     "name": "stderr",
     "output_type": "stream",
     "text": [
      "\n",
      "Processing Frames:   0%|          | 0/5 [00:00<?, ?it/s]\u001b[A\n",
      "Processing Frames:  20%|██        | 1/5 [00:03<00:13,  3.47s/it]\u001b[A\n",
      "Processing Frames:  40%|████      | 2/5 [00:06<00:10,  3.43s/it]\u001b[A\n",
      "Processing Frames:  60%|██████    | 3/5 [00:09<00:06,  3.08s/it]\u001b[A\n",
      "Processing Frames:  80%|████████  | 4/5 [00:12<00:03,  3.08s/it]\u001b[A\n",
      "Processing Frames: 100%|██████████| 5/5 [00:15<00:00,  3.13s/it]\u001b[A\n",
      "Processing Videos:  35%|███▍      | 244/698 [1:17:42<2:18:59, 18.37s/it]"
     ]
    },
    {
     "name": "stdout",
     "output_type": "stream",
     "text": [
      "File Name: babykopohome_6824450271385521409.mp4, File Size: 14.76 MB\n",
      "Total frames in video: 1747\n",
      "Frame indices to extract: [0, 349, 698, 1048, 1397]\n",
      "Extracted 5 frames.\n"
     ]
    },
    {
     "name": "stderr",
     "output_type": "stream",
     "text": [
      "\n",
      "Processing Frames:   0%|          | 0/5 [00:00<?, ?it/s]\u001b[A\n",
      "Processing Frames:  20%|██        | 1/5 [00:03<00:14,  3.67s/it]\u001b[A\n",
      "Processing Frames:  40%|████      | 2/5 [00:06<00:10,  3.35s/it]\u001b[A\n",
      "Processing Frames:  60%|██████    | 3/5 [00:10<00:06,  3.37s/it]\u001b[A\n",
      "Processing Frames:  80%|████████  | 4/5 [00:13<00:03,  3.23s/it]\u001b[A\n",
      "Processing Frames: 100%|██████████| 5/5 [00:17<00:00,  3.58s/it]\u001b[A\n",
      "Processing Videos:  35%|███▌      | 245/698 [1:18:02<2:21:54, 18.79s/it]"
     ]
    },
    {
     "name": "stdout",
     "output_type": "stream",
     "text": [
      "File Name: phu_lonely2k2_7143956761194581275.mp4, File Size: 1.27 MB\n",
      "Total frames in video: 335\n",
      "Frame indices to extract: [0, 67, 134, 201, 268]\n",
      "Extracted 5 frames.\n"
     ]
    },
    {
     "name": "stderr",
     "output_type": "stream",
     "text": [
      "\n",
      "Processing Frames:   0%|          | 0/5 [00:00<?, ?it/s]\u001b[A\n",
      "Processing Frames:  20%|██        | 1/5 [00:03<00:12,  3.04s/it]\u001b[A\n",
      "Processing Frames:  40%|████      | 2/5 [00:05<00:08,  2.86s/it]\u001b[A\n",
      "Processing Frames:  60%|██████    | 3/5 [00:08<00:05,  2.93s/it]\u001b[A\n",
      "Processing Frames:  80%|████████  | 4/5 [00:11<00:02,  2.83s/it]\u001b[A\n",
      "Processing Frames: 100%|██████████| 5/5 [00:14<00:00,  2.85s/it]\u001b[A\n",
      "Processing Videos:  35%|███▌      | 246/698 [1:18:18<2:16:32, 18.13s/it]"
     ]
    },
    {
     "name": "stdout",
     "output_type": "stream",
     "text": [
      "File Name: askinem_7350681256520142122.mp4, File Size: 7.44 MB\n",
      "Total frames in video: 1141\n",
      "Frame indices to extract: [0, 228, 456, 684, 912]\n",
      "Extracted 5 frames.\n"
     ]
    },
    {
     "name": "stderr",
     "output_type": "stream",
     "text": [
      "\n",
      "Processing Frames:   0%|          | 0/5 [00:00<?, ?it/s]\u001b[A\n",
      "Processing Frames:  20%|██        | 1/5 [00:03<00:13,  3.44s/it]\u001b[A\n",
      "Processing Frames:  40%|████      | 2/5 [00:05<00:08,  2.78s/it]\u001b[A\n",
      "Processing Frames:  60%|██████    | 3/5 [00:08<00:05,  2.93s/it]\u001b[A\n",
      "Processing Frames:  80%|████████  | 4/5 [00:11<00:02,  2.68s/it]\u001b[A\n",
      "Processing Frames: 100%|██████████| 5/5 [00:14<00:00,  2.84s/it]\u001b[A\n",
      "Processing Videos:  35%|███▌      | 247/698 [1:18:34<2:11:11, 17.45s/it]"
     ]
    },
    {
     "name": "stdout",
     "output_type": "stream",
     "text": [
      "File Name: tranmanhnam20_7353250040527228161.mp4, File Size: 15.39 MB\n",
      "Total frames in video: 1627\n",
      "Frame indices to extract: [0, 325, 650, 976, 1301]\n",
      "Extracted 5 frames.\n"
     ]
    },
    {
     "name": "stderr",
     "output_type": "stream",
     "text": [
      "\n",
      "Processing Frames:   0%|          | 0/5 [00:00<?, ?it/s]\u001b[A\n",
      "Processing Frames:  20%|██        | 1/5 [00:03<00:13,  3.29s/it]\u001b[A\n",
      "Processing Frames:  40%|████      | 2/5 [00:06<00:10,  3.35s/it]\u001b[A\n",
      "Processing Frames:  60%|██████    | 3/5 [00:10<00:06,  3.37s/it]\u001b[A\n",
      "Processing Frames:  80%|████████  | 4/5 [00:13<00:03,  3.47s/it]\u001b[A\n",
      "Processing Frames: 100%|██████████| 5/5 [00:18<00:00,  3.62s/it]\u001b[A\n",
      "Processing Videos:  36%|███▌      | 248/698 [1:18:54<2:16:57, 18.26s/it]"
     ]
    },
    {
     "name": "stdout",
     "output_type": "stream",
     "text": [
      "File Name: cochuoithichdi_35_7283912944000175362.mp4, File Size: 18.38 MB\n",
      "Total frames in video: 2622\n",
      "Frame indices to extract: [0, 524, 1048, 1573, 2097]\n",
      "Extracted 5 frames.\n"
     ]
    },
    {
     "name": "stderr",
     "output_type": "stream",
     "text": [
      "\n",
      "Processing Frames:   0%|          | 0/5 [00:00<?, ?it/s]\u001b[A\n",
      "Processing Frames:  20%|██        | 1/5 [00:03<00:13,  3.44s/it]\u001b[A\n",
      "Processing Frames:  40%|████      | 2/5 [00:07<00:11,  3.83s/it]\u001b[A\n",
      "Processing Frames:  60%|██████    | 3/5 [00:10<00:07,  3.54s/it]\u001b[A\n",
      "Processing Frames:  80%|████████  | 4/5 [00:13<00:03,  3.07s/it]\u001b[A\n",
      "Processing Frames: 100%|██████████| 5/5 [00:16<00:00,  3.30s/it]\u001b[A\n",
      "Processing Videos:  36%|███▌      | 249/698 [1:19:13<2:16:44, 18.27s/it]"
     ]
    },
    {
     "name": "stdout",
     "output_type": "stream",
     "text": [
      "File Name: halinh.chienthan_7374996888635968786.mp4, File Size: 0.03 MB\n",
      "Total frames in video: 125\n",
      "Frame indices to extract: [0, 25, 50, 75, 100]\n",
      "Extracted 5 frames.\n"
     ]
    },
    {
     "name": "stderr",
     "output_type": "stream",
     "text": [
      "\n",
      "Processing Frames:   0%|          | 0/5 [00:00<?, ?it/s]\u001b[A\n",
      "Processing Frames:  20%|██        | 1/5 [00:03<00:13,  3.26s/it]\u001b[A\n",
      "Processing Frames:  40%|████      | 2/5 [00:06<00:09,  3.25s/it]\u001b[A\n",
      "Processing Frames:  60%|██████    | 3/5 [00:10<00:06,  3.47s/it]\u001b[A\n",
      "Processing Frames:  80%|████████  | 4/5 [00:13<00:03,  3.49s/it]\u001b[A\n",
      "Processing Frames: 100%|██████████| 5/5 [00:16<00:00,  3.40s/it]\u001b[A\n",
      "Processing Videos:  36%|███▌      | 250/698 [1:19:31<2:16:55, 18.34s/it]"
     ]
    },
    {
     "name": "stdout",
     "output_type": "stream",
     "text": [
      "File Name: khongphuongmai_7363199472089828616.mp4, File Size: 2.94 MB\n",
      "Total frames in video: 614\n",
      "Frame indices to extract: [0, 122, 245, 368, 491]\n",
      "Extracted 5 frames.\n"
     ]
    },
    {
     "name": "stderr",
     "output_type": "stream",
     "text": [
      "\n",
      "Processing Frames:   0%|          | 0/5 [00:00<?, ?it/s]\u001b[A\n",
      "Processing Frames:  20%|██        | 1/5 [00:03<00:15,  3.95s/it]\u001b[A\n",
      "Processing Frames:  40%|████      | 2/5 [00:07<00:10,  3.43s/it]\u001b[A\n",
      "Processing Frames:  60%|██████    | 3/5 [00:10<00:07,  3.65s/it]\u001b[A\n",
      "Processing Frames:  80%|████████  | 4/5 [00:14<00:03,  3.69s/it]\u001b[A\n",
      "Processing Frames: 100%|██████████| 5/5 [00:18<00:00,  3.74s/it]\u001b[A\n",
      "Processing Videos:  36%|███▌      | 251/698 [1:19:52<2:21:59, 19.06s/it]"
     ]
    },
    {
     "name": "stdout",
     "output_type": "stream",
     "text": [
      "File Name: thanhdulich1004_7283415242296593665.mp4, File Size: 26.86 MB\n",
      "Total frames in video: 2773\n",
      "Frame indices to extract: [0, 554, 1109, 1663, 2218]\n",
      "Extracted 5 frames.\n"
     ]
    },
    {
     "name": "stderr",
     "output_type": "stream",
     "text": [
      "\n",
      "Processing Frames:   0%|          | 0/5 [00:00<?, ?it/s]\u001b[A\n",
      "Processing Frames:  20%|██        | 1/5 [00:05<00:22,  5.61s/it]\u001b[A\n",
      "Processing Frames:  40%|████      | 2/5 [00:08<00:12,  4.20s/it]\u001b[A\n",
      "Processing Frames:  60%|██████    | 3/5 [00:12<00:07,  3.82s/it]\u001b[A\n",
      "Processing Frames:  80%|████████  | 4/5 [00:15<00:03,  3.53s/it]\u001b[A\n",
      "Processing Frames: 100%|██████████| 5/5 [00:19<00:00,  3.95s/it]\u001b[A\n",
      "Processing Videos:  36%|███▌      | 252/698 [1:20:15<2:30:53, 20.30s/it]"
     ]
    },
    {
     "name": "stdout",
     "output_type": "stream",
     "text": [
      "File Name: phamhieu9990_7266724997954063624.mp4, File Size: 22.22 MB\n",
      "Total frames in video: 5884\n",
      "Frame indices to extract: [0, 1176, 2353, 3530, 4707]\n",
      "Extracted 5 frames.\n"
     ]
    },
    {
     "name": "stderr",
     "output_type": "stream",
     "text": [
      "\n",
      "Processing Frames:   0%|          | 0/5 [00:00<?, ?it/s]\u001b[A\n",
      "Processing Frames:  20%|██        | 1/5 [00:03<00:12,  3.11s/it]\u001b[A\n",
      "Processing Frames:  40%|████      | 2/5 [00:06<00:10,  3.39s/it]\u001b[A\n",
      "Processing Frames:  60%|██████    | 3/5 [00:09<00:06,  3.29s/it]\u001b[A\n",
      "Processing Frames:  80%|████████  | 4/5 [00:14<00:03,  3.77s/it]\u001b[A\n",
      "Processing Frames: 100%|██████████| 5/5 [00:16<00:00,  3.33s/it]\u001b[A\n",
      "Processing Videos:  36%|███▌      | 253/698 [1:20:34<2:27:07, 19.84s/it]"
     ]
    },
    {
     "name": "stdout",
     "output_type": "stream",
     "text": [
      "File Name: taphoaanvat0_7369567096096771345.mp4, File Size: 13.25 MB\n",
      "Total frames in video: 1477\n",
      "Frame indices to extract: [0, 295, 590, 886, 1181]\n",
      "Extracted 5 frames.\n"
     ]
    },
    {
     "name": "stderr",
     "output_type": "stream",
     "text": [
      "\n",
      "Processing Frames:   0%|          | 0/5 [00:00<?, ?it/s]\u001b[A\n",
      "Processing Frames:  20%|██        | 1/5 [00:03<00:15,  3.82s/it]\u001b[A\n",
      "Processing Frames:  40%|████      | 2/5 [00:07<00:10,  3.56s/it]\u001b[A\n",
      "Processing Frames:  60%|██████    | 3/5 [00:10<00:06,  3.39s/it]\u001b[A\n",
      "Processing Frames:  80%|████████  | 4/5 [00:13<00:03,  3.35s/it]\u001b[A\n",
      "Processing Frames: 100%|██████████| 5/5 [00:16<00:00,  3.38s/it]\u001b[A\n",
      "Processing Videos:  36%|███▋      | 254/698 [1:20:53<2:25:17, 19.64s/it]"
     ]
    },
    {
     "name": "stdout",
     "output_type": "stream",
     "text": [
      "File Name: maphayke_7364758243807071496.mp4, File Size: 13.25 MB\n",
      "Total frames in video: 1969\n",
      "Frame indices to extract: [0, 393, 787, 1181, 1575]\n",
      "Extracted 5 frames.\n"
     ]
    },
    {
     "name": "stderr",
     "output_type": "stream",
     "text": [
      "\n",
      "Processing Frames:   0%|          | 0/5 [00:00<?, ?it/s]\u001b[A\n",
      "Processing Frames:  20%|██        | 1/5 [00:03<00:12,  3.09s/it]\u001b[A\n",
      "Processing Frames:  40%|████      | 2/5 [00:05<00:08,  2.85s/it]\u001b[A\n",
      "Processing Frames:  60%|██████    | 3/5 [00:09<00:06,  3.39s/it]\u001b[A\n",
      "Processing Frames:  80%|████████  | 4/5 [00:12<00:03,  3.24s/it]\u001b[A\n",
      "Processing Frames: 100%|██████████| 5/5 [00:15<00:00,  3.03s/it]\u001b[A\n",
      "Processing Videos:  37%|███▋      | 255/698 [1:21:10<2:19:55, 18.95s/it]"
     ]
    },
    {
     "name": "stdout",
     "output_type": "stream",
     "text": [
      "File Name: vinhgau.tt_7171793748123340059.mp4, File Size: 19.13 MB\n",
      "Total frames in video: 1537\n",
      "Frame indices to extract: [0, 307, 614, 922, 1229]\n",
      "Extracted 5 frames.\n"
     ]
    },
    {
     "name": "stderr",
     "output_type": "stream",
     "text": [
      "\n",
      "Processing Frames:   0%|          | 0/5 [00:00<?, ?it/s]\u001b[A\n",
      "Processing Frames:  20%|██        | 1/5 [00:03<00:12,  3.06s/it]\u001b[A\n",
      "Processing Frames:  40%|████      | 2/5 [00:07<00:11,  3.94s/it]\u001b[A\n",
      "Processing Frames:  60%|██████    | 3/5 [00:10<00:07,  3.61s/it]\u001b[A\n",
      "Processing Frames:  80%|████████  | 4/5 [00:13<00:03,  3.31s/it]\u001b[A\n",
      "Processing Frames: 100%|██████████| 5/5 [00:18<00:00,  3.68s/it]\u001b[A\n",
      "Processing Videos:  37%|███▋      | 256/698 [1:21:31<2:23:50, 19.53s/it]"
     ]
    },
    {
     "name": "stdout",
     "output_type": "stream",
     "text": [
      "File Name: tuilathuydk_7093131499653909786.mp4, File Size: 9.63 MB\n",
      "Total frames in video: 3481\n",
      "Frame indices to extract: [0, 696, 1392, 2088, 2784]\n",
      "Extracted 5 frames.\n"
     ]
    },
    {
     "name": "stderr",
     "output_type": "stream",
     "text": [
      "\n",
      "Processing Frames:   0%|          | 0/5 [00:00<?, ?it/s]\u001b[A\n",
      "Processing Frames:  20%|██        | 1/5 [00:04<00:16,  4.10s/it]\u001b[A\n",
      "Processing Frames:  40%|████      | 2/5 [00:07<00:10,  3.50s/it]\u001b[A\n",
      "Processing Frames:  60%|██████    | 3/5 [00:10<00:06,  3.29s/it]\u001b[A\n",
      "Processing Frames:  80%|████████  | 4/5 [00:13<00:03,  3.27s/it]\u001b[A\n",
      "Processing Frames: 100%|██████████| 5/5 [00:17<00:00,  3.49s/it]\u001b[A\n",
      "Processing Videos:  37%|███▋      | 257/698 [1:21:51<2:23:38, 19.54s/it]"
     ]
    },
    {
     "name": "stdout",
     "output_type": "stream",
     "text": [
      "File Name: slinahuynh_7353642737868000529.mp4, File Size: 4.99 MB\n",
      "Total frames in video: 1466\n",
      "Frame indices to extract: [0, 293, 586, 879, 1172]\n",
      "Extracted 5 frames.\n"
     ]
    },
    {
     "name": "stderr",
     "output_type": "stream",
     "text": [
      "\n",
      "Processing Frames:   0%|          | 0/5 [00:00<?, ?it/s]\u001b[A\n",
      "Processing Frames:  20%|██        | 1/5 [00:04<00:19,  4.91s/it]\u001b[A\n",
      "Processing Frames:  40%|████      | 2/5 [00:08<00:12,  4.28s/it]\u001b[A\n",
      "Processing Frames:  60%|██████    | 3/5 [00:11<00:07,  3.79s/it]\u001b[A\n",
      "Processing Frames:  80%|████████  | 4/5 [00:15<00:03,  3.86s/it]\u001b[A\n",
      "Processing Frames: 100%|██████████| 5/5 [00:19<00:00,  3.83s/it]\u001b[A\n",
      "Processing Videos:  37%|███▋      | 258/698 [1:22:12<2:26:52, 20.03s/it]"
     ]
    },
    {
     "name": "stdout",
     "output_type": "stream",
     "text": [
      "File Name: katiesazkitchen_7038744500680002862.mp4, File Size: 3.36 MB\n",
      "Total frames in video: 588\n",
      "Frame indices to extract: [0, 117, 235, 352, 470]\n",
      "Extracted 5 frames.\n"
     ]
    },
    {
     "name": "stderr",
     "output_type": "stream",
     "text": [
      "\n",
      "Processing Frames:   0%|          | 0/5 [00:00<?, ?it/s]\u001b[A\n",
      "Processing Frames:  20%|██        | 1/5 [00:03<00:13,  3.27s/it]\u001b[A\n",
      "Processing Frames:  40%|████      | 2/5 [00:06<00:09,  3.27s/it]\u001b[A\n",
      "Processing Frames:  60%|██████    | 3/5 [00:09<00:06,  3.25s/it]\u001b[A\n",
      "Processing Frames:  80%|████████  | 4/5 [00:13<00:03,  3.25s/it]\u001b[A\n",
      "Processing Frames: 100%|██████████| 5/5 [00:15<00:00,  3.19s/it]\u001b[A\n",
      "Processing Videos:  37%|███▋      | 259/698 [1:22:30<2:22:38, 19.50s/it]"
     ]
    },
    {
     "name": "stdout",
     "output_type": "stream",
     "text": [
      "File Name: sachhay83__6822144111340948737.mp4, File Size: 9.08 MB\n",
      "Total frames in video: 851\n",
      "Frame indices to extract: [0, 170, 340, 510, 680]\n",
      "Extracted 5 frames.\n"
     ]
    },
    {
     "name": "stderr",
     "output_type": "stream",
     "text": [
      "\n",
      "Processing Frames:   0%|          | 0/5 [00:00<?, ?it/s]\u001b[A\n",
      "Processing Frames:  20%|██        | 1/5 [00:02<00:11,  2.91s/it]\u001b[A\n",
      "Processing Frames:  40%|████      | 2/5 [00:06<00:09,  3.23s/it]\u001b[A\n",
      "Processing Frames:  60%|██████    | 3/5 [00:10<00:07,  3.53s/it]\u001b[A\n",
      "Processing Frames:  80%|████████  | 4/5 [00:13<00:03,  3.34s/it]\u001b[A\n",
      "Processing Frames: 100%|██████████| 5/5 [00:16<00:00,  3.28s/it]\u001b[A\n",
      "Processing Videos:  37%|███▋      | 260/698 [1:22:49<2:19:37, 19.13s/it]"
     ]
    },
    {
     "name": "stdout",
     "output_type": "stream",
     "text": [
      "File Name: mrdainhattin_7236228580425075974.mp4, File Size: 4.30 MB\n",
      "Total frames in video: 1005\n",
      "Frame indices to extract: [0, 201, 402, 603, 804]\n",
      "Extracted 5 frames.\n"
     ]
    },
    {
     "name": "stderr",
     "output_type": "stream",
     "text": [
      "\n",
      "Processing Frames:   0%|          | 0/5 [00:00<?, ?it/s]\u001b[A\n",
      "Processing Frames:  20%|██        | 1/5 [00:03<00:12,  3.24s/it]\u001b[A\n",
      "Processing Frames:  40%|████      | 2/5 [00:06<00:10,  3.34s/it]\u001b[A\n",
      "Processing Frames:  60%|██████    | 3/5 [00:09<00:06,  3.23s/it]\u001b[A\n",
      "Processing Frames:  80%|████████  | 4/5 [00:12<00:03,  3.22s/it]\u001b[A\n",
      "Processing Frames: 100%|██████████| 5/5 [00:15<00:00,  3.20s/it]\u001b[A\n",
      "Processing Videos:  37%|███▋      | 261/698 [1:23:07<2:17:27, 18.87s/it]"
     ]
    },
    {
     "name": "stdout",
     "output_type": "stream",
     "text": [
      "File Name: itsahollyjollychristmas__7281404563565923592.mp4, File Size: 1.38 MB\n",
      "Total frames in video: 443\n",
      "Frame indices to extract: [0, 88, 177, 265, 354]\n",
      "Extracted 5 frames.\n"
     ]
    },
    {
     "name": "stderr",
     "output_type": "stream",
     "text": [
      "\n",
      "Processing Frames:   0%|          | 0/5 [00:00<?, ?it/s]\u001b[A\n",
      "Processing Frames:  20%|██        | 1/5 [00:03<00:13,  3.44s/it]\u001b[A\n",
      "Processing Frames:  40%|████      | 2/5 [00:07<00:11,  3.82s/it]\u001b[A\n",
      "Processing Frames:  60%|██████    | 3/5 [00:10<00:07,  3.56s/it]\u001b[A\n",
      "Processing Frames:  80%|████████  | 4/5 [00:13<00:03,  3.35s/it]\u001b[A\n",
      "Processing Frames: 100%|██████████| 5/5 [00:17<00:00,  3.40s/it]\u001b[A\n",
      "Processing Videos:  38%|███▊      | 262/698 [1:23:26<2:16:40, 18.81s/it]"
     ]
    },
    {
     "name": "stdout",
     "output_type": "stream",
     "text": [
      "File Name: maythangtuw_7221007524005154075.mp4, File Size: 20.14 MB\n",
      "Total frames in video: 2351\n",
      "Frame indices to extract: [0, 470, 940, 1410, 1880]\n",
      "Extracted 5 frames.\n"
     ]
    },
    {
     "name": "stderr",
     "output_type": "stream",
     "text": [
      "\n",
      "Processing Frames:   0%|          | 0/5 [00:00<?, ?it/s]\u001b[A\n",
      "Processing Frames:  20%|██        | 1/5 [00:03<00:12,  3.11s/it]\u001b[A\n",
      "Processing Frames:  40%|████      | 2/5 [00:06<00:09,  3.19s/it]\u001b[A\n",
      "Processing Frames:  60%|██████    | 3/5 [00:09<00:06,  3.29s/it]\u001b[A\n",
      "Processing Frames:  80%|████████  | 4/5 [00:13<00:03,  3.29s/it]\u001b[A\n",
      "Processing Frames: 100%|██████████| 5/5 [00:16<00:00,  3.22s/it]\u001b[A\n",
      "Processing Videos:  38%|███▊      | 263/698 [1:23:44<2:16:24, 18.81s/it]"
     ]
    },
    {
     "name": "stdout",
     "output_type": "stream",
     "text": [
      "File Name: _.yi_zi.__7274571620457450759.mp4, File Size: 3.27 MB\n",
      "Total frames in video: 933\n",
      "Frame indices to extract: [0, 186, 373, 559, 746]\n",
      "Extracted 5 frames.\n"
     ]
    },
    {
     "name": "stderr",
     "output_type": "stream",
     "text": [
      "\n",
      "Processing Frames:   0%|          | 0/5 [00:00<?, ?it/s]\u001b[A\n",
      "Processing Frames:  20%|██        | 1/5 [00:03<00:15,  3.92s/it]\u001b[A\n",
      "Processing Frames:  40%|████      | 2/5 [00:06<00:10,  3.40s/it]\u001b[A\n",
      "Processing Frames:  60%|██████    | 3/5 [00:09<00:06,  3.15s/it]\u001b[A\n",
      "Processing Frames:  80%|████████  | 4/5 [00:13<00:03,  3.27s/it]\u001b[A\n",
      "Processing Frames: 100%|██████████| 5/5 [00:16<00:00,  3.23s/it]\u001b[A\n",
      "Processing Videos:  38%|███▊      | 264/698 [1:24:02<2:14:32, 18.60s/it]"
     ]
    },
    {
     "name": "stdout",
     "output_type": "stream",
     "text": [
      "File Name: 020700sang_7347305788135771393.mp4, File Size: 1.32 MB\n",
      "Total frames in video: 305\n",
      "Frame indices to extract: [0, 61, 122, 183, 244]\n",
      "Extracted 5 frames.\n"
     ]
    },
    {
     "name": "stderr",
     "output_type": "stream",
     "text": [
      "\n",
      "Processing Frames:   0%|          | 0/5 [00:00<?, ?it/s]\u001b[A\n",
      "Processing Frames:  20%|██        | 1/5 [00:03<00:12,  3.10s/it]\u001b[A\n",
      "Processing Frames:  40%|████      | 2/5 [00:06<00:09,  3.10s/it]\u001b[A\n",
      "Processing Frames:  60%|██████    | 3/5 [00:09<00:06,  3.34s/it]\u001b[A\n",
      "Processing Frames:  80%|████████  | 4/5 [00:14<00:03,  3.74s/it]\u001b[A\n",
      "Processing Frames: 100%|██████████| 5/5 [00:17<00:00,  3.59s/it]\u001b[A\n",
      "Processing Videos:  38%|███▊      | 265/698 [1:24:23<2:17:48, 19.10s/it]"
     ]
    },
    {
     "name": "stdout",
     "output_type": "stream",
     "text": [
      "File Name: anden75_7345837415539510549.mp4, File Size: 36.82 MB\n",
      "Total frames in video: 5683\n",
      "Frame indices to extract: [0, 1136, 2273, 3409, 4546]\n",
      "Extracted 5 frames.\n"
     ]
    },
    {
     "name": "stderr",
     "output_type": "stream",
     "text": [
      "\n",
      "Processing Frames:   0%|          | 0/5 [00:00<?, ?it/s]\u001b[A\n",
      "Processing Frames:  20%|██        | 1/5 [00:04<00:16,  4.02s/it]\u001b[A\n",
      "Processing Frames:  40%|████      | 2/5 [00:06<00:10,  3.34s/it]\u001b[A\n",
      "Processing Frames:  60%|██████    | 3/5 [00:09<00:05,  2.95s/it]\u001b[A\n",
      "Processing Frames:  80%|████████  | 4/5 [00:12<00:03,  3.12s/it]\u001b[A\n",
      "Processing Frames: 100%|██████████| 5/5 [00:15<00:00,  3.20s/it]\u001b[A\n",
      "Processing Videos:  38%|███▊      | 266/698 [1:24:41<2:15:36, 18.84s/it]"
     ]
    },
    {
     "name": "stdout",
     "output_type": "stream",
     "text": [
      "File Name: anvat.cungtui_7326905247736007938.mp4, File Size: 17.54 MB\n",
      "Total frames in video: 5916\n",
      "Frame indices to extract: [0, 1183, 2366, 3549, 4732]\n",
      "Extracted 5 frames.\n"
     ]
    },
    {
     "name": "stderr",
     "output_type": "stream",
     "text": [
      "\n",
      "Processing Frames:   0%|          | 0/5 [00:00<?, ?it/s]\u001b[A\n",
      "Processing Frames:  20%|██        | 1/5 [00:03<00:12,  3.08s/it]\u001b[A\n",
      "Processing Frames:  40%|████      | 2/5 [00:06<00:09,  3.10s/it]\u001b[A\n",
      "Processing Frames:  60%|██████    | 3/5 [00:10<00:07,  3.73s/it]\u001b[A\n",
      "Processing Frames:  80%|████████  | 4/5 [00:13<00:03,  3.52s/it]\u001b[A\n",
      "Processing Frames: 100%|██████████| 5/5 [00:16<00:00,  3.39s/it]\u001b[A\n",
      "Processing Videos:  38%|███▊      | 267/698 [1:25:00<2:15:00, 18.79s/it]"
     ]
    },
    {
     "name": "stdout",
     "output_type": "stream",
     "text": [
      "File Name: 10vancauhoivisao247_7028794365468364058.mp4, File Size: 2.22 MB\n",
      "Total frames in video: 2701\n",
      "Frame indices to extract: [0, 540, 1080, 1620, 2160]\n",
      "Extracted 5 frames.\n"
     ]
    },
    {
     "name": "stderr",
     "output_type": "stream",
     "text": [
      "\n",
      "Processing Frames:   0%|          | 0/5 [00:00<?, ?it/s]\u001b[A\n",
      "Processing Frames:  20%|██        | 1/5 [00:02<00:11,  2.90s/it]\u001b[A\n",
      "Processing Frames:  40%|████      | 2/5 [00:06<00:09,  3.29s/it]\u001b[A\n",
      "Processing Frames:  60%|██████    | 3/5 [00:09<00:06,  3.28s/it]\u001b[A\n",
      "Processing Frames:  80%|████████  | 4/5 [00:13<00:03,  3.33s/it]\u001b[A\n",
      "Processing Frames: 100%|██████████| 5/5 [00:15<00:00,  3.20s/it]\u001b[A\n",
      "Processing Videos:  38%|███▊      | 268/698 [1:25:17<2:12:36, 18.50s/it]"
     ]
    },
    {
     "name": "stdout",
     "output_type": "stream",
     "text": [
      "File Name: duchieumedia_7355840408384982273.mp4, File Size: 2.25 MB\n",
      "Total frames in video: 527\n",
      "Frame indices to extract: [0, 105, 210, 316, 421]\n",
      "Extracted 5 frames.\n"
     ]
    },
    {
     "name": "stderr",
     "output_type": "stream",
     "text": [
      "\n",
      "Processing Frames:   0%|          | 0/5 [00:00<?, ?it/s]\u001b[A\n",
      "Processing Frames:  20%|██        | 1/5 [00:02<00:11,  2.99s/it]\u001b[A\n",
      "Processing Frames:  40%|████      | 2/5 [00:06<00:09,  3.24s/it]\u001b[A\n",
      "Processing Frames:  60%|██████    | 3/5 [00:09<00:06,  3.01s/it]\u001b[A\n",
      "Processing Frames:  80%|████████  | 4/5 [00:12<00:03,  3.01s/it]\u001b[A\n",
      "Processing Frames: 100%|██████████| 5/5 [00:14<00:00,  2.96s/it]\u001b[A\n",
      "Processing Videos:  39%|███▊      | 269/698 [1:25:35<2:09:33, 18.12s/it]"
     ]
    },
    {
     "name": "stdout",
     "output_type": "stream",
     "text": [
      "File Name: anden75_7341736094527917333.mp4, File Size: 5.33 MB\n",
      "Total frames in video: 765\n",
      "Frame indices to extract: [0, 153, 306, 459, 612]\n",
      "Extracted 5 frames.\n"
     ]
    },
    {
     "name": "stderr",
     "output_type": "stream",
     "text": [
      "\n",
      "Processing Frames:   0%|          | 0/5 [00:00<?, ?it/s]\u001b[A\n",
      "Processing Frames:  20%|██        | 1/5 [00:03<00:13,  3.46s/it]\u001b[A\n",
      "Processing Frames:  40%|████      | 2/5 [00:06<00:08,  3.00s/it]\u001b[A\n",
      "Processing Frames:  60%|██████    | 3/5 [00:09<00:06,  3.18s/it]\u001b[A\n",
      "Processing Frames:  80%|████████  | 4/5 [00:14<00:03,  3.88s/it]\u001b[A\n",
      "Processing Frames: 100%|██████████| 5/5 [00:17<00:00,  3.46s/it]\u001b[A\n",
      "Processing Videos:  39%|███▊      | 270/698 [1:25:54<2:11:36, 18.45s/it]"
     ]
    },
    {
     "name": "stdout",
     "output_type": "stream",
     "text": [
      "File Name: anden75_7356210475031399701.mp4, File Size: 37.03 MB\n",
      "Total frames in video: 4894\n",
      "Frame indices to extract: [0, 978, 1957, 2936, 3915]\n",
      "Extracted 5 frames.\n"
     ]
    },
    {
     "name": "stderr",
     "output_type": "stream",
     "text": [
      "\n",
      "Processing Frames:   0%|          | 0/5 [00:00<?, ?it/s]\u001b[A\n",
      "Processing Frames:  20%|██        | 1/5 [00:03<00:14,  3.58s/it]\u001b[A\n",
      "Processing Frames:  40%|████      | 2/5 [00:06<00:09,  3.28s/it]\u001b[A\n",
      "Processing Frames:  60%|██████    | 3/5 [00:09<00:06,  3.10s/it]\u001b[A\n",
      "Processing Frames:  80%|████████  | 4/5 [00:13<00:03,  3.47s/it]\u001b[A\n",
      "Processing Frames: 100%|██████████| 5/5 [00:16<00:00,  3.32s/it]\u001b[A\n",
      "Processing Videos:  39%|███▉      | 271/698 [1:26:13<2:11:46, 18.52s/it]"
     ]
    },
    {
     "name": "stdout",
     "output_type": "stream",
     "text": [
      "File Name: anden75_7355109547951787285.mp4, File Size: 11.42 MB\n",
      "Total frames in video: 2381\n",
      "Frame indices to extract: [0, 476, 952, 1428, 1904]\n",
      "Extracted 5 frames.\n"
     ]
    },
    {
     "name": "stderr",
     "output_type": "stream",
     "text": [
      "\n",
      "Processing Frames:   0%|          | 0/5 [00:00<?, ?it/s]\u001b[A\n",
      "Processing Frames:  20%|██        | 1/5 [00:02<00:10,  2.72s/it]\u001b[A\n",
      "Processing Frames:  40%|████      | 2/5 [00:05<00:08,  2.95s/it]\u001b[A\n",
      "Processing Frames:  60%|██████    | 3/5 [00:08<00:05,  2.99s/it]\u001b[A\n",
      "Processing Frames:  80%|████████  | 4/5 [00:12<00:03,  3.08s/it]\u001b[A\n",
      "Processing Frames: 100%|██████████| 5/5 [00:16<00:00,  3.32s/it]\u001b[A\n",
      "Processing Videos:  39%|███▉      | 272/698 [1:26:31<2:11:57, 18.58s/it]"
     ]
    },
    {
     "name": "stdout",
     "output_type": "stream",
     "text": [
      "File Name: caphenytv33_7123908565739326747.mp4, File Size: 15.32 MB\n",
      "Total frames in video: 2313\n",
      "Frame indices to extract: [0, 462, 925, 1387, 1850]\n",
      "Extracted 5 frames.\n"
     ]
    },
    {
     "name": "stderr",
     "output_type": "stream",
     "text": [
      "\n",
      "Processing Frames:   0%|          | 0/5 [00:00<?, ?it/s]\u001b[A\n",
      "Processing Frames:  20%|██        | 1/5 [00:03<00:15,  3.78s/it]\u001b[A\n",
      "Processing Frames:  40%|████      | 2/5 [00:07<00:11,  3.79s/it]\u001b[A\n",
      "Processing Frames:  60%|██████    | 3/5 [00:10<00:06,  3.44s/it]\u001b[A\n",
      "Processing Frames:  80%|████████  | 4/5 [00:13<00:03,  3.20s/it]\u001b[A\n",
      "Processing Frames: 100%|██████████| 5/5 [00:16<00:00,  3.30s/it]\u001b[A\n",
      "Processing Videos:  39%|███▉      | 273/698 [1:26:50<2:11:31, 18.57s/it]"
     ]
    },
    {
     "name": "stdout",
     "output_type": "stream",
     "text": [
      "File Name: luna.m.v0_7297544322302364930.mp4, File Size: 4.37 MB\n",
      "Total frames in video: 3059\n",
      "Frame indices to extract: [0, 611, 1223, 1835, 2447]\n",
      "Extracted 5 frames.\n"
     ]
    },
    {
     "name": "stderr",
     "output_type": "stream",
     "text": [
      "\n",
      "Processing Frames:   0%|          | 0/5 [00:00<?, ?it/s]\u001b[A\n",
      "Processing Frames:  20%|██        | 1/5 [00:02<00:11,  2.88s/it]\u001b[A\n",
      "Processing Frames:  40%|████      | 2/5 [00:07<00:12,  4.06s/it]\u001b[A\n",
      "Processing Frames:  60%|██████    | 3/5 [00:11<00:08,  4.07s/it]\u001b[A\n",
      "Processing Frames:  80%|████████  | 4/5 [00:15<00:03,  3.72s/it]\u001b[A\n",
      "Processing Frames: 100%|██████████| 5/5 [00:18<00:00,  3.66s/it]\u001b[A\n",
      "Processing Videos:  39%|███▉      | 274/698 [1:27:10<2:14:14, 19.00s/it]"
     ]
    },
    {
     "name": "stdout",
     "output_type": "stream",
     "text": [
      "File Name: cuoibebung88_7245217136136768774.mp4, File Size: 4.58 MB\n",
      "Total frames in video: 800\n",
      "Frame indices to extract: [0, 160, 320, 480, 640]\n",
      "Extracted 5 frames.\n"
     ]
    },
    {
     "name": "stderr",
     "output_type": "stream",
     "text": [
      "\n",
      "Processing Frames:   0%|          | 0/5 [00:00<?, ?it/s]\u001b[A\n",
      "Processing Frames:  20%|██        | 1/5 [00:03<00:13,  3.28s/it]\u001b[A\n",
      "Processing Frames:  40%|████      | 2/5 [00:06<00:09,  3.14s/it]\u001b[A\n",
      "Processing Frames:  60%|██████    | 3/5 [00:09<00:06,  3.19s/it]\u001b[A\n",
      "Processing Frames:  80%|████████  | 4/5 [00:12<00:03,  3.20s/it]\u001b[A\n",
      "Processing Frames: 100%|██████████| 5/5 [00:15<00:00,  3.17s/it]\u001b[A\n",
      "Processing Videos:  39%|███▉      | 275/698 [1:27:28<2:11:01, 18.59s/it]"
     ]
    },
    {
     "name": "stdout",
     "output_type": "stream",
     "text": [
      "File Name: bigc.supermarket_7233784956684635398.mp4, File Size: 7.96 MB\n",
      "Total frames in video: 5133\n",
      "Frame indices to extract: [0, 1026, 2053, 3079, 4106]\n",
      "Extracted 5 frames.\n"
     ]
    },
    {
     "name": "stderr",
     "output_type": "stream",
     "text": [
      "\n",
      "Processing Frames:   0%|          | 0/5 [00:00<?, ?it/s]\u001b[A\n",
      "Processing Frames:  20%|██        | 1/5 [00:02<00:11,  2.88s/it]\u001b[A\n",
      "Processing Frames:  40%|████      | 2/5 [00:07<00:11,  3.68s/it]\u001b[A\n",
      "Processing Frames:  60%|██████    | 3/5 [00:10<00:06,  3.48s/it]\u001b[A\n",
      "Processing Frames:  80%|████████  | 4/5 [00:13<00:03,  3.24s/it]\u001b[A\n",
      "Processing Frames: 100%|██████████| 5/5 [00:16<00:00,  3.25s/it]\u001b[A\n",
      "Processing Videos:  40%|███▉      | 276/698 [1:27:45<2:09:14, 18.37s/it]"
     ]
    },
    {
     "name": "stdout",
     "output_type": "stream",
     "text": [
      "File Name: chutuphuyen_7347280520834731266.mp4, File Size: 57.93 MB\n",
      "Total frames in video: 7590\n",
      "Frame indices to extract: [0, 1518, 3036, 4554, 6072]\n",
      "Extracted 5 frames.\n"
     ]
    },
    {
     "name": "stderr",
     "output_type": "stream",
     "text": [
      "\n",
      "Processing Frames:   0%|          | 0/5 [00:00<?, ?it/s]\u001b[A\n",
      "Processing Frames:  20%|██        | 1/5 [00:03<00:12,  3.13s/it]\u001b[A\n",
      "Processing Frames:  40%|████      | 2/5 [00:06<00:09,  3.08s/it]\u001b[A\n",
      "Processing Frames:  60%|██████    | 3/5 [00:10<00:06,  3.47s/it]\u001b[A\n",
      "Processing Frames:  80%|████████  | 4/5 [00:13<00:03,  3.39s/it]\u001b[A\n",
      "Processing Frames: 100%|██████████| 5/5 [00:16<00:00,  3.29s/it]\u001b[A\n",
      "Processing Videos:  40%|███▉      | 277/698 [1:28:04<2:09:42, 18.49s/it]"
     ]
    },
    {
     "name": "stdout",
     "output_type": "stream",
     "text": [
      "File Name: charleslaurita_7164121104779529518.mp4, File Size: 2.96 MB\n",
      "Total frames in video: 458\n",
      "Frame indices to extract: [0, 91, 183, 274, 366]\n",
      "Extracted 5 frames.\n"
     ]
    },
    {
     "name": "stderr",
     "output_type": "stream",
     "text": [
      "\n",
      "Processing Frames:   0%|          | 0/5 [00:00<?, ?it/s]\u001b[A\n",
      "Processing Frames:  20%|██        | 1/5 [00:03<00:15,  3.78s/it]\u001b[A\n",
      "Processing Frames:  40%|████      | 2/5 [00:06<00:10,  3.45s/it]\u001b[A\n",
      "Processing Frames:  60%|██████    | 3/5 [00:10<00:06,  3.34s/it]\u001b[A\n",
      "Processing Frames:  80%|████████  | 4/5 [00:13<00:03,  3.17s/it]\u001b[A\n",
      "Processing Frames: 100%|██████████| 5/5 [00:16<00:00,  3.27s/it]\u001b[A\n",
      "Processing Videos:  40%|███▉      | 278/698 [1:28:23<2:09:18, 18.47s/it]"
     ]
    },
    {
     "name": "stdout",
     "output_type": "stream",
     "text": [
      "File Name: mocuabatoctv_7025830185308130561.mp4, File Size: 18.51 MB\n",
      "Total frames in video: 1964\n",
      "Frame indices to extract: [0, 392, 785, 1178, 1571]\n",
      "Extracted 5 frames.\n"
     ]
    },
    {
     "name": "stderr",
     "output_type": "stream",
     "text": [
      "\n",
      "Processing Frames:   0%|          | 0/5 [00:00<?, ?it/s]\u001b[A\n",
      "Processing Frames:  20%|██        | 1/5 [00:02<00:09,  2.33s/it]\u001b[A\n",
      "Processing Frames:  40%|████      | 2/5 [00:05<00:08,  2.88s/it]\u001b[A\n",
      "Processing Frames:  60%|██████    | 3/5 [00:09<00:06,  3.21s/it]\u001b[A\n",
      "Processing Frames:  80%|████████  | 4/5 [00:12<00:03,  3.13s/it]\u001b[A\n",
      "Processing Frames: 100%|██████████| 5/5 [00:16<00:00,  3.32s/it]\u001b[A\n",
      "Processing Videos:  40%|███▉      | 279/698 [1:28:41<2:09:53, 18.60s/it]"
     ]
    },
    {
     "name": "stdout",
     "output_type": "stream",
     "text": [
      "File Name: loanhquanhmotminh_7236810046699539714.mp4, File Size: 18.94 MB\n",
      "Total frames in video: 3111\n",
      "Frame indices to extract: [0, 622, 1244, 1866, 2488]\n",
      "Extracted 5 frames.\n"
     ]
    },
    {
     "name": "stderr",
     "output_type": "stream",
     "text": [
      "\n",
      "Processing Frames:   0%|          | 0/5 [00:00<?, ?it/s]\u001b[A\n",
      "Processing Frames:  20%|██        | 1/5 [00:02<00:11,  2.90s/it]\u001b[A\n",
      "Processing Frames:  40%|████      | 2/5 [00:05<00:09,  3.01s/it]\u001b[A\n",
      "Processing Frames:  60%|██████    | 3/5 [00:08<00:05,  2.93s/it]\u001b[A\n",
      "Processing Frames:  80%|████████  | 4/5 [00:11<00:02,  2.97s/it]\u001b[A\n",
      "Processing Frames: 100%|██████████| 5/5 [00:14<00:00,  2.90s/it]\u001b[A\n",
      "Processing Videos:  40%|████      | 280/698 [1:28:58<2:05:31, 18.02s/it]"
     ]
    },
    {
     "name": "stdout",
     "output_type": "stream",
     "text": [
      "File Name: 19....02_7292698002043571457.mp4, File Size: 1.37 MB\n",
      "Total frames in video: 750\n",
      "Frame indices to extract: [0, 150, 300, 450, 600]\n",
      "Extracted 5 frames.\n"
     ]
    },
    {
     "name": "stderr",
     "output_type": "stream",
     "text": [
      "\n",
      "Processing Frames:   0%|          | 0/5 [00:00<?, ?it/s]\u001b[A\n",
      "Processing Frames:  20%|██        | 1/5 [00:03<00:12,  3.24s/it]\u001b[A\n",
      "Processing Frames:  40%|████      | 2/5 [00:06<00:09,  3.23s/it]\u001b[A\n",
      "Processing Frames:  60%|██████    | 3/5 [00:09<00:06,  3.24s/it]\u001b[A\n",
      "Processing Frames:  80%|████████  | 4/5 [00:13<00:03,  3.48s/it]\u001b[A\n",
      "Processing Frames: 100%|██████████| 5/5 [00:16<00:00,  3.39s/it]\u001b[A\n",
      "Processing Videos:  40%|████      | 281/698 [1:29:17<2:07:19, 18.32s/it]"
     ]
    },
    {
     "name": "stdout",
     "output_type": "stream",
     "text": [
      "File Name: toongadventure_7344685092264021255.mp4, File Size: 1.77 MB\n",
      "Total frames in video: 245\n",
      "Frame indices to extract: [0, 49, 98, 147, 196]\n",
      "Extracted 5 frames.\n"
     ]
    },
    {
     "name": "stderr",
     "output_type": "stream",
     "text": [
      "\n",
      "Processing Frames:   0%|          | 0/5 [00:00<?, ?it/s]\u001b[A\n",
      "Processing Frames:  20%|██        | 1/5 [00:03<00:12,  3.24s/it]\u001b[A\n",
      "Processing Frames:  40%|████      | 2/5 [00:06<00:09,  3.14s/it]\u001b[A\n",
      "Processing Frames:  60%|██████    | 3/5 [00:09<00:06,  3.36s/it]\u001b[A\n",
      "Processing Frames:  80%|████████  | 4/5 [00:14<00:04,  4.03s/it]\u001b[A\n",
      "Processing Frames: 100%|██████████| 5/5 [00:17<00:00,  3.56s/it]\u001b[A\n",
      "Processing Videos:  40%|████      | 282/698 [1:29:37<2:09:46, 18.72s/it]"
     ]
    },
    {
     "name": "stdout",
     "output_type": "stream",
     "text": [
      "File Name: thanhtrungquay_7364675757613878529.mp4, File Size: 18.11 MB\n",
      "Total frames in video: 2473\n",
      "Frame indices to extract: [0, 494, 989, 1483, 1978]\n",
      "Extracted 5 frames.\n"
     ]
    },
    {
     "name": "stderr",
     "output_type": "stream",
     "text": [
      "\n",
      "Processing Frames:   0%|          | 0/5 [00:00<?, ?it/s]\u001b[A\n",
      "Processing Frames:  20%|██        | 1/5 [00:03<00:13,  3.42s/it]\u001b[A\n",
      "Processing Frames:  40%|████      | 2/5 [00:08<00:12,  4.13s/it]\u001b[A\n",
      "Processing Frames:  60%|██████    | 3/5 [00:11<00:07,  3.64s/it]\u001b[A\n",
      "Processing Frames:  80%|████████  | 4/5 [00:15<00:03,  3.76s/it]\u001b[A\n",
      "Processing Frames: 100%|██████████| 5/5 [00:18<00:00,  3.68s/it]\u001b[A\n",
      "Processing Videos:  41%|████      | 283/698 [1:29:58<2:14:09, 19.40s/it]"
     ]
    },
    {
     "name": "stdout",
     "output_type": "stream",
     "text": [
      "File Name: colortour68_7270506623372938502.mp4, File Size: 21.05 MB\n",
      "Total frames in video: 3171\n",
      "Frame indices to extract: [0, 634, 1268, 1902, 2536]\n",
      "Extracted 5 frames.\n"
     ]
    },
    {
     "name": "stderr",
     "output_type": "stream",
     "text": [
      "\n",
      "Processing Frames:   0%|          | 0/5 [00:00<?, ?it/s]\u001b[A\n",
      "Processing Frames:  20%|██        | 1/5 [00:03<00:13,  3.43s/it]\u001b[A\n",
      "Processing Frames:  40%|████      | 2/5 [00:06<00:09,  3.19s/it]\u001b[A\n",
      "Processing Frames:  60%|██████    | 3/5 [00:09<00:06,  3.22s/it]\u001b[A\n",
      "Processing Frames:  80%|████████  | 4/5 [00:13<00:03,  3.29s/it]\u001b[A\n",
      "Processing Frames: 100%|██████████| 5/5 [00:16<00:00,  3.30s/it]\u001b[A\n",
      "Processing Videos:  41%|████      | 284/698 [1:30:16<2:11:28, 19.06s/it]"
     ]
    },
    {
     "name": "stdout",
     "output_type": "stream",
     "text": [
      "File Name: color_tour_7241609647193361669.mp4, File Size: 3.37 MB\n",
      "Total frames in video: 990\n",
      "Frame indices to extract: [0, 198, 396, 594, 792]\n",
      "Extracted 5 frames.\n"
     ]
    },
    {
     "name": "stderr",
     "output_type": "stream",
     "text": [
      "\n",
      "Processing Frames:   0%|          | 0/5 [00:00<?, ?it/s]\u001b[A\n",
      "Processing Frames:  20%|██        | 1/5 [00:03<00:14,  3.70s/it]\u001b[A\n",
      "Processing Frames:  40%|████      | 2/5 [00:06<00:09,  3.31s/it]\u001b[A\n",
      "Processing Frames:  60%|██████    | 3/5 [00:09<00:06,  3.26s/it]\u001b[A\n",
      "Processing Frames:  80%|████████  | 4/5 [00:13<00:03,  3.33s/it]\u001b[A\n",
      "Processing Frames: 100%|██████████| 5/5 [00:16<00:00,  3.32s/it]\u001b[A\n",
      "Processing Videos:  41%|████      | 285/698 [1:30:35<2:10:54, 19.02s/it]"
     ]
    },
    {
     "name": "stdout",
     "output_type": "stream",
     "text": [
      "File Name: quangthuongmeomeomeo_7368107565818891536.mp4, File Size: 0.67 MB\n",
      "Total frames in video: 162\n",
      "Frame indices to extract: [0, 32, 64, 97, 129]\n",
      "Extracted 5 frames.\n"
     ]
    },
    {
     "name": "stderr",
     "output_type": "stream",
     "text": [
      "\n",
      "Processing Frames:   0%|          | 0/5 [00:00<?, ?it/s]\u001b[A\n",
      "Processing Frames:  20%|██        | 1/5 [00:02<00:11,  2.91s/it]\u001b[A\n",
      "Processing Frames:  40%|████      | 2/5 [00:05<00:08,  2.88s/it]\u001b[A\n",
      "Processing Frames:  60%|██████    | 3/5 [00:09<00:06,  3.20s/it]\u001b[A\n",
      "Processing Frames:  80%|████████  | 4/5 [00:12<00:03,  3.37s/it]\u001b[A\n",
      "Processing Frames: 100%|██████████| 5/5 [00:17<00:00,  3.44s/it]\u001b[A\n",
      "Processing Videos:  41%|████      | 286/698 [1:30:54<2:10:43, 19.04s/it]"
     ]
    },
    {
     "name": "stdout",
     "output_type": "stream",
     "text": [
      "File Name: dongam_den.vauvn_7342510622531226882.mp4, File Size: 8.06 MB\n",
      "Total frames in video: 998\n",
      "Frame indices to extract: [0, 199, 399, 598, 798]\n",
      "Extracted 5 frames.\n"
     ]
    },
    {
     "name": "stderr",
     "output_type": "stream",
     "text": [
      "\n",
      "Processing Frames:   0%|          | 0/5 [00:00<?, ?it/s]\u001b[A\n",
      "Processing Frames:  20%|██        | 1/5 [00:03<00:13,  3.47s/it]\u001b[A\n",
      "Processing Frames:  40%|████      | 2/5 [00:06<00:09,  3.21s/it]\u001b[A\n",
      "Processing Frames:  60%|██████    | 3/5 [00:10<00:06,  3.37s/it]\u001b[A\n",
      "Processing Frames:  80%|████████  | 4/5 [00:13<00:03,  3.33s/it]\u001b[A\n",
      "Processing Frames: 100%|██████████| 5/5 [00:16<00:00,  3.23s/it]\u001b[A\n",
      "Processing Videos:  41%|████      | 287/698 [1:31:12<2:08:44, 18.79s/it]"
     ]
    },
    {
     "name": "stdout",
     "output_type": "stream",
     "text": [
      "File Name: ahmazing_places_7272269640389201170.mp4, File Size: 3.33 MB\n",
      "Total frames in video: 486\n",
      "Frame indices to extract: [0, 97, 194, 291, 388]\n",
      "Extracted 5 frames.\n"
     ]
    },
    {
     "name": "stderr",
     "output_type": "stream",
     "text": [
      "\n",
      "Processing Frames:   0%|          | 0/5 [00:00<?, ?it/s]\u001b[A\n",
      "Processing Frames:  20%|██        | 1/5 [00:03<00:12,  3.06s/it]\u001b[A\n",
      "Processing Frames:  40%|████      | 2/5 [00:06<00:09,  3.07s/it]\u001b[A\n",
      "Processing Frames:  60%|██████    | 3/5 [00:10<00:07,  3.62s/it]\u001b[A\n",
      "Processing Frames:  80%|████████  | 4/5 [00:13<00:03,  3.29s/it]\u001b[A\n",
      "Processing Frames: 100%|██████████| 5/5 [00:16<00:00,  3.29s/it]\u001b[A\n",
      "Processing Videos:  41%|████▏     | 288/698 [1:31:31<2:07:17, 18.63s/it]"
     ]
    },
    {
     "name": "stdout",
     "output_type": "stream",
     "text": [
      "File Name: linhcuuhoadaily_7276018615009217794.mp4, File Size: 6.61 MB\n",
      "Total frames in video: 2145\n",
      "Frame indices to extract: [0, 429, 858, 1287, 1716]\n",
      "Extracted 5 frames.\n"
     ]
    },
    {
     "name": "stderr",
     "output_type": "stream",
     "text": [
      "\n",
      "Processing Frames:   0%|          | 0/5 [00:00<?, ?it/s]\u001b[A\n",
      "Processing Frames:  20%|██        | 1/5 [00:03<00:13,  3.42s/it]\u001b[A\n",
      "Processing Frames:  40%|████      | 2/5 [00:06<00:09,  3.31s/it]\u001b[A\n",
      "Processing Frames:  60%|██████    | 3/5 [00:09<00:06,  3.18s/it]\u001b[A\n",
      "Processing Frames:  80%|████████  | 4/5 [00:12<00:03,  3.12s/it]\u001b[A\n",
      "Processing Frames: 100%|██████████| 5/5 [00:15<00:00,  3.08s/it]\u001b[A\n",
      "Processing Videos:  41%|████▏     | 289/698 [1:31:49<2:05:43, 18.44s/it]"
     ]
    },
    {
     "name": "stdout",
     "output_type": "stream",
     "text": [
      "File Name: colortour68_7285343252998294786.mp4, File Size: 6.23 MB\n",
      "Total frames in video: 822\n",
      "Frame indices to extract: [0, 164, 328, 493, 657]\n",
      "Extracted 5 frames.\n"
     ]
    },
    {
     "name": "stderr",
     "output_type": "stream",
     "text": [
      "\n",
      "Processing Frames:   0%|          | 0/5 [00:00<?, ?it/s]\u001b[A\n",
      "Processing Frames:  20%|██        | 1/5 [00:03<00:12,  3.21s/it]\u001b[A\n",
      "Processing Frames:  40%|████      | 2/5 [00:07<00:10,  3.61s/it]\u001b[A\n",
      "Processing Frames:  60%|██████    | 3/5 [00:09<00:06,  3.27s/it]\u001b[A\n",
      "Processing Frames:  80%|████████  | 4/5 [00:13<00:03,  3.31s/it]\u001b[A\n",
      "Processing Frames: 100%|██████████| 5/5 [00:16<00:00,  3.34s/it]\u001b[A\n",
      "Processing Videos:  42%|████▏     | 290/698 [1:32:08<2:07:12, 18.71s/it]"
     ]
    },
    {
     "name": "stdout",
     "output_type": "stream",
     "text": [
      "File Name: le_anh_nuoi_7375143710062923026.mp4, File Size: 12.68 MB\n",
      "Total frames in video: 1613\n",
      "Frame indices to extract: [0, 322, 645, 967, 1290]\n",
      "Extracted 5 frames.\n"
     ]
    },
    {
     "name": "stderr",
     "output_type": "stream",
     "text": [
      "\n",
      "Processing Frames:   0%|          | 0/5 [00:00<?, ?it/s]\u001b[A\n",
      "Processing Frames:  20%|██        | 1/5 [00:02<00:10,  2.51s/it]\u001b[A\n",
      "Processing Frames:  40%|████      | 2/5 [00:05<00:08,  2.81s/it]\u001b[A\n",
      "Processing Frames:  60%|██████    | 3/5 [00:08<00:05,  2.93s/it]\u001b[A\n",
      "Processing Frames:  80%|████████  | 4/5 [00:11<00:03,  3.10s/it]\u001b[A\n",
      "Processing Frames: 100%|██████████| 5/5 [00:15<00:00,  3.10s/it]\u001b[A\n",
      "Processing Videos:  42%|████▏     | 291/698 [1:32:26<2:05:02, 18.43s/it]"
     ]
    },
    {
     "name": "stdout",
     "output_type": "stream",
     "text": [
      "File Name: linhcuuhoadaily_7302986688765201665.mp4, File Size: 3.56 MB\n",
      "Total frames in video: 607\n",
      "Frame indices to extract: [0, 121, 242, 364, 485]\n",
      "Extracted 5 frames.\n"
     ]
    },
    {
     "name": "stderr",
     "output_type": "stream",
     "text": [
      "\n",
      "Processing Frames:   0%|          | 0/5 [00:00<?, ?it/s]\u001b[A\n",
      "Processing Frames:  20%|██        | 1/5 [00:04<00:16,  4.17s/it]\u001b[A\n",
      "Processing Frames:  40%|████      | 2/5 [00:07<00:11,  3.83s/it]\u001b[A\n",
      "Processing Frames:  60%|██████    | 3/5 [00:11<00:07,  3.56s/it]\u001b[A\n",
      "Processing Frames:  80%|████████  | 4/5 [00:14<00:03,  3.43s/it]\u001b[A\n",
      "Processing Frames: 100%|██████████| 5/5 [00:18<00:00,  3.67s/it]\u001b[A\n",
      "Processing Videos:  42%|████▏     | 292/698 [1:32:46<2:08:31, 18.99s/it]"
     ]
    },
    {
     "name": "stdout",
     "output_type": "stream",
     "text": [
      "File Name: hihihaha6668_7355901046843133202.mp4, File Size: 13.55 MB\n",
      "Total frames in video: 4575\n",
      "Frame indices to extract: [0, 915, 1830, 2745, 3660]\n",
      "Extracted 5 frames.\n"
     ]
    },
    {
     "name": "stderr",
     "output_type": "stream",
     "text": [
      "\n",
      "Processing Frames:   0%|          | 0/5 [00:00<?, ?it/s]\u001b[A\n",
      "Processing Frames:  20%|██        | 1/5 [00:03<00:14,  3.65s/it]\u001b[A\n",
      "Processing Frames:  40%|████      | 2/5 [00:07<00:10,  3.50s/it]\u001b[A\n",
      "Processing Frames:  60%|██████    | 3/5 [00:10<00:06,  3.36s/it]\u001b[A\n",
      "Processing Frames:  80%|████████  | 4/5 [00:13<00:03,  3.16s/it]\u001b[A\n",
      "Processing Frames: 100%|██████████| 5/5 [00:16<00:00,  3.31s/it]\u001b[A\n",
      "Processing Videos:  42%|████▏     | 293/698 [1:33:05<2:07:36, 18.90s/it]"
     ]
    },
    {
     "name": "stdout",
     "output_type": "stream",
     "text": [
      "File Name: kyucngoisao.official_6961229906248224001.mp4, File Size: 8.52 MB\n",
      "Total frames in video: 2798\n",
      "Frame indices to extract: [0, 559, 1119, 1678, 2238]\n",
      "Extracted 5 frames.\n"
     ]
    },
    {
     "name": "stderr",
     "output_type": "stream",
     "text": [
      "\n",
      "Processing Frames:   0%|          | 0/5 [00:00<?, ?it/s]\u001b[A\n",
      "Processing Frames:  20%|██        | 1/5 [00:02<00:11,  2.95s/it]\u001b[A\n",
      "Processing Frames:  40%|████      | 2/5 [00:06<00:09,  3.10s/it]\u001b[A\n",
      "Processing Frames:  60%|██████    | 3/5 [00:09<00:06,  3.06s/it]\u001b[A\n",
      "Processing Frames:  80%|████████  | 4/5 [00:12<00:03,  3.13s/it]\u001b[A\n",
      "Processing Frames: 100%|██████████| 5/5 [00:15<00:00,  3.15s/it]\u001b[A\n",
      "Processing Videos:  42%|████▏     | 294/698 [1:33:22<2:04:48, 18.54s/it]"
     ]
    },
    {
     "name": "stdout",
     "output_type": "stream",
     "text": [
      "File Name: lifeprettyhacks_7159187732378471722.mp4, File Size: 1.52 MB\n",
      "Total frames in video: 609\n",
      "Frame indices to extract: [0, 121, 243, 365, 487]\n",
      "Extracted 5 frames.\n"
     ]
    },
    {
     "name": "stderr",
     "output_type": "stream",
     "text": [
      "\n",
      "Processing Frames:   0%|          | 0/5 [00:00<?, ?it/s]\u001b[A\n",
      "Processing Frames:  20%|██        | 1/5 [00:03<00:12,  3.04s/it]\u001b[A\n",
      "Processing Frames:  40%|████      | 2/5 [00:06<00:09,  3.16s/it]\u001b[A\n",
      "Processing Frames:  60%|██████    | 3/5 [00:11<00:08,  4.24s/it]\u001b[A\n",
      "Processing Frames:  80%|████████  | 4/5 [00:15<00:03,  3.86s/it]\u001b[A\n",
      "Processing Frames: 100%|██████████| 5/5 [00:18<00:00,  3.73s/it]\u001b[A\n",
      "Processing Videos:  42%|████▏     | 295/698 [1:33:43<2:08:12, 19.09s/it]"
     ]
    },
    {
     "name": "stdout",
     "output_type": "stream",
     "text": [
      "File Name: reviewdulich_7165785835076341018.mp4, File Size: 1.97 MB\n",
      "Total frames in video: 435\n",
      "Frame indices to extract: [0, 87, 174, 261, 348]\n",
      "Extracted 5 frames.\n"
     ]
    },
    {
     "name": "stderr",
     "output_type": "stream",
     "text": [
      "\n",
      "Processing Frames:   0%|          | 0/5 [00:00<?, ?it/s]\u001b[A\n",
      "Processing Frames:  20%|██        | 1/5 [00:03<00:12,  3.06s/it]\u001b[A\n",
      "Processing Frames:  40%|████      | 2/5 [00:06<00:10,  3.38s/it]\u001b[A\n",
      "Processing Frames:  60%|██████    | 3/5 [00:09<00:06,  3.30s/it]\u001b[A\n",
      "Processing Frames:  80%|████████  | 4/5 [00:13<00:03,  3.27s/it]\u001b[A\n",
      "Processing Frames: 100%|██████████| 5/5 [00:16<00:00,  3.35s/it]\u001b[A\n",
      "Processing Videos:  42%|████▏     | 296/698 [1:34:01<2:06:56, 18.95s/it]"
     ]
    },
    {
     "name": "stdout",
     "output_type": "stream",
     "text": [
      "File Name: tuthien_hih3t_7233651530291793157.mp4, File Size: 21.92 MB\n",
      "Total frames in video: 3011\n",
      "Frame indices to extract: [0, 602, 1204, 1806, 2408]\n",
      "Extracted 5 frames.\n"
     ]
    },
    {
     "name": "stderr",
     "output_type": "stream",
     "text": [
      "\n",
      "Processing Frames:   0%|          | 0/5 [00:00<?, ?it/s]\u001b[A\n",
      "Processing Frames:  20%|██        | 1/5 [00:04<00:16,  4.09s/it]\u001b[A\n",
      "Processing Frames:  40%|████      | 2/5 [00:07<00:10,  3.61s/it]\u001b[A\n",
      "Processing Frames:  60%|██████    | 3/5 [00:10<00:06,  3.49s/it]\u001b[A\n",
      "Processing Frames:  80%|████████  | 4/5 [00:14<00:03,  3.61s/it]\u001b[A\n",
      "Processing Frames: 100%|██████████| 5/5 [00:17<00:00,  3.40s/it]\u001b[A\n",
      "Processing Videos:  43%|████▎     | 297/698 [1:34:21<2:07:26, 19.07s/it]"
     ]
    },
    {
     "name": "stdout",
     "output_type": "stream",
     "text": [
      "File Name: baulandian_7351727080796671234.mp4, File Size: 7.63 MB\n",
      "Total frames in video: 1633\n",
      "Frame indices to extract: [0, 326, 653, 979, 1306]\n",
      "Extracted 5 frames.\n"
     ]
    },
    {
     "name": "stderr",
     "output_type": "stream",
     "text": [
      "\n",
      "Processing Frames:   0%|          | 0/5 [00:00<?, ?it/s]\u001b[A\n",
      "Processing Frames:  20%|██        | 1/5 [00:02<00:11,  2.87s/it]\u001b[A\n",
      "Processing Frames:  40%|████      | 2/5 [00:06<00:09,  3.20s/it]\u001b[A\n",
      "Processing Frames:  60%|██████    | 3/5 [00:09<00:06,  3.21s/it]\u001b[A\n",
      "Processing Frames:  80%|████████  | 4/5 [00:12<00:03,  3.28s/it]\u001b[A\n",
      "Processing Frames: 100%|██████████| 5/5 [00:17<00:00,  3.50s/it]\u001b[A\n",
      "Processing Videos:  43%|████▎     | 298/698 [1:34:40<2:07:37, 19.14s/it]"
     ]
    },
    {
     "name": "stdout",
     "output_type": "stream",
     "text": [
      "File Name: nhacvaoloira_6917653566048029953.mp4, File Size: 5.70 MB\n",
      "Total frames in video: 1697\n",
      "Frame indices to extract: [0, 339, 678, 1018, 1357]\n",
      "Extracted 5 frames.\n"
     ]
    },
    {
     "name": "stderr",
     "output_type": "stream",
     "text": [
      "\n",
      "Processing Frames:   0%|          | 0/5 [00:00<?, ?it/s]\u001b[A\n",
      "Processing Frames:  20%|██        | 1/5 [00:03<00:12,  3.21s/it]\u001b[A\n",
      "Processing Frames:  40%|████      | 2/5 [00:06<00:10,  3.35s/it]\u001b[A\n",
      "Processing Frames:  60%|██████    | 3/5 [00:10<00:06,  3.36s/it]\u001b[A\n",
      "Processing Frames:  80%|████████  | 4/5 [00:13<00:03,  3.37s/it]\u001b[A\n",
      "Processing Frames: 100%|██████████| 5/5 [00:16<00:00,  3.36s/it]\u001b[A\n",
      "Processing Videos:  43%|████▎     | 299/698 [1:34:59<2:06:19, 19.00s/it]"
     ]
    },
    {
     "name": "stdout",
     "output_type": "stream",
     "text": [
      "File Name: cochuoithichdi_35_7259043418955894022.mp4, File Size: 7.11 MB\n",
      "Total frames in video: 649\n",
      "Frame indices to extract: [0, 129, 259, 389, 519]\n",
      "Extracted 5 frames.\n"
     ]
    },
    {
     "name": "stderr",
     "output_type": "stream",
     "text": [
      "\n",
      "Processing Frames:   0%|          | 0/5 [00:00<?, ?it/s]\u001b[A\n",
      "Processing Frames:  20%|██        | 1/5 [00:03<00:13,  3.41s/it]\u001b[A\n",
      "Processing Frames:  40%|████      | 2/5 [00:06<00:09,  3.18s/it]\u001b[A\n",
      "Processing Frames:  60%|██████    | 3/5 [00:09<00:06,  3.20s/it]\u001b[A\n",
      "Processing Frames:  80%|████████  | 4/5 [00:13<00:03,  3.46s/it]\u001b[A\n",
      "Processing Frames: 100%|██████████| 5/5 [00:16<00:00,  3.31s/it]\u001b[A\n",
      "Processing Videos:  43%|████▎     | 300/698 [1:35:17<2:04:42, 18.80s/it]"
     ]
    },
    {
     "name": "stdout",
     "output_type": "stream",
     "text": [
      "File Name: bombom_vlog_7337652359939575047.mp4, File Size: 67.05 MB\n",
      "Total frames in video: 10904\n",
      "Frame indices to extract: [0, 2180, 4361, 6542, 8723]\n",
      "Extracted 5 frames.\n"
     ]
    },
    {
     "name": "stderr",
     "output_type": "stream",
     "text": [
      "\n",
      "Processing Frames:   0%|          | 0/5 [00:00<?, ?it/s]\u001b[A\n",
      "Processing Frames:  20%|██        | 1/5 [00:03<00:13,  3.39s/it]\u001b[A\n",
      "Processing Frames:  40%|████      | 2/5 [00:06<00:09,  3.29s/it]\u001b[A\n",
      "Processing Frames:  60%|██████    | 3/5 [00:09<00:06,  3.27s/it]\u001b[A\n",
      "Processing Frames:  80%|████████  | 4/5 [00:13<00:03,  3.24s/it]\u001b[A\n",
      "Processing Frames: 100%|██████████| 5/5 [00:16<00:00,  3.25s/it]\u001b[A\n",
      "Processing Videos:  43%|████▎     | 301/698 [1:35:36<2:03:52, 18.72s/it]"
     ]
    },
    {
     "name": "stdout",
     "output_type": "stream",
     "text": [
      "File Name: youngdream.team_7261259490501184770.mp4, File Size: 7.91 MB\n",
      "Total frames in video: 2525\n",
      "Frame indices to extract: [0, 505, 1010, 1515, 2020]\n",
      "Extracted 5 frames.\n"
     ]
    },
    {
     "name": "stderr",
     "output_type": "stream",
     "text": [
      "\n",
      "Processing Frames:   0%|          | 0/5 [00:00<?, ?it/s]\u001b[A\n",
      "Processing Frames:  20%|██        | 1/5 [00:03<00:12,  3.11s/it]\u001b[A\n",
      "Processing Frames:  40%|████      | 2/5 [00:06<00:09,  3.29s/it]\u001b[A\n",
      "Processing Frames:  60%|██████    | 3/5 [00:09<00:06,  3.30s/it]\u001b[A\n",
      "Processing Frames:  80%|████████  | 4/5 [00:13<00:03,  3.35s/it]\u001b[A\n",
      "Processing Frames: 100%|██████████| 5/5 [00:16<00:00,  3.30s/it]\u001b[A\n",
      "Processing Videos:  43%|████▎     | 302/698 [1:35:54<2:03:18, 18.68s/it]"
     ]
    },
    {
     "name": "stdout",
     "output_type": "stream",
     "text": [
      "File Name: baby.love212_7325415654150982945.mp4, File Size: 0.85 MB\n",
      "Total frames in video: 453\n",
      "Frame indices to extract: [0, 90, 181, 271, 362]\n",
      "Extracted 5 frames.\n"
     ]
    },
    {
     "name": "stderr",
     "output_type": "stream",
     "text": [
      "\n",
      "Processing Frames:   0%|          | 0/5 [00:00<?, ?it/s]\u001b[A\n",
      "Processing Frames:  20%|██        | 1/5 [00:02<00:10,  2.74s/it]\u001b[A\n",
      "Processing Frames:  40%|████      | 2/5 [00:05<00:09,  3.02s/it]\u001b[A\n",
      "Processing Frames:  60%|██████    | 3/5 [00:09<00:06,  3.19s/it]\u001b[A\n",
      "Processing Frames:  80%|████████  | 4/5 [00:12<00:03,  3.05s/it]\u001b[A\n",
      "Processing Frames: 100%|██████████| 5/5 [00:15<00:00,  3.09s/it]\u001b[A\n",
      "Processing Videos:  43%|████▎     | 303/698 [1:36:11<2:00:16, 18.27s/it]"
     ]
    },
    {
     "name": "stdout",
     "output_type": "stream",
     "text": [
      "File Name: trieulinhhoa_7086727204872178971.mp4, File Size: 2.37 MB\n",
      "Total frames in video: 658\n",
      "Frame indices to extract: [0, 131, 263, 394, 526]\n",
      "Extracted 5 frames.\n"
     ]
    },
    {
     "name": "stderr",
     "output_type": "stream",
     "text": [
      "\n",
      "Processing Frames:   0%|          | 0/5 [00:00<?, ?it/s]\u001b[A\n",
      "Processing Frames:  20%|██        | 1/5 [00:03<00:15,  3.79s/it]\u001b[A\n",
      "Processing Frames:  40%|████      | 2/5 [00:07<00:10,  3.65s/it]\u001b[A\n",
      "Processing Frames:  60%|██████    | 3/5 [00:10<00:06,  3.43s/it]\u001b[A\n",
      "Processing Frames:  80%|████████  | 4/5 [00:13<00:03,  3.34s/it]\u001b[A\n",
      "Processing Frames: 100%|██████████| 5/5 [00:16<00:00,  3.39s/it]\u001b[A\n",
      "Processing Videos:  44%|████▎     | 304/698 [1:36:30<2:00:41, 18.38s/it]"
     ]
    },
    {
     "name": "stdout",
     "output_type": "stream",
     "text": [
      "File Name: sachhay83__6813223020904156417.mp4, File Size: 19.74 MB\n",
      "Total frames in video: 1539\n",
      "Frame indices to extract: [0, 307, 615, 923, 1231]\n",
      "Extracted 5 frames.\n"
     ]
    },
    {
     "name": "stderr",
     "output_type": "stream",
     "text": [
      "\n",
      "Processing Frames:   0%|          | 0/5 [00:00<?, ?it/s]\u001b[A\n",
      "Processing Frames:  20%|██        | 1/5 [00:03<00:12,  3.23s/it]\u001b[A\n",
      "Processing Frames:  40%|████      | 2/5 [00:06<00:10,  3.36s/it]\u001b[A\n",
      "Processing Frames:  60%|██████    | 3/5 [00:09<00:06,  3.22s/it]\u001b[A\n",
      "Processing Frames:  80%|████████  | 4/5 [00:12<00:03,  3.07s/it]\u001b[A\n",
      "Processing Frames: 100%|██████████| 5/5 [00:15<00:00,  3.13s/it]\u001b[A\n",
      "Processing Videos:  44%|████▎     | 305/698 [1:36:48<1:59:31, 18.25s/it]"
     ]
    },
    {
     "name": "stdout",
     "output_type": "stream",
     "text": [
      "File Name: colortour68_7285733015286828290.mp4, File Size: 5.09 MB\n",
      "Total frames in video: 763\n",
      "Frame indices to extract: [0, 152, 305, 457, 610]\n",
      "Extracted 5 frames.\n"
     ]
    },
    {
     "name": "stderr",
     "output_type": "stream",
     "text": [
      "\n",
      "Processing Frames:   0%|          | 0/5 [00:00<?, ?it/s]\u001b[A\n",
      "Processing Frames:  20%|██        | 1/5 [00:03<00:13,  3.46s/it]\u001b[A\n",
      "Processing Frames:  40%|████      | 2/5 [00:06<00:08,  2.99s/it]\u001b[A\n",
      "Processing Frames:  60%|██████    | 3/5 [00:09<00:06,  3.11s/it]\u001b[A\n",
      "Processing Frames:  80%|████████  | 4/5 [00:12<00:03,  3.09s/it]\u001b[A\n",
      "Processing Frames: 100%|██████████| 5/5 [00:15<00:00,  3.02s/it]\u001b[A\n",
      "Processing Videos:  44%|████▍     | 306/698 [1:37:05<1:57:43, 18.02s/it]"
     ]
    },
    {
     "name": "stdout",
     "output_type": "stream",
     "text": [
      "File Name: anhme099_7215475932763622683.mp4, File Size: 48.80 MB\n",
      "Total frames in video: 3724\n",
      "Frame indices to extract: [0, 744, 1489, 2234, 2979]\n",
      "Extracted 5 frames.\n"
     ]
    },
    {
     "name": "stderr",
     "output_type": "stream",
     "text": [
      "\n",
      "Processing Frames:   0%|          | 0/5 [00:00<?, ?it/s]\u001b[A\n",
      "Processing Frames:  20%|██        | 1/5 [00:03<00:14,  3.67s/it]\u001b[A\n",
      "Processing Frames:  40%|████      | 2/5 [00:07<00:10,  3.61s/it]\u001b[A\n",
      "Processing Frames:  60%|██████    | 3/5 [00:09<00:06,  3.02s/it]\u001b[A\n",
      "Processing Frames:  80%|████████  | 4/5 [00:12<00:03,  3.06s/it]\u001b[A\n",
      "Processing Frames: 100%|██████████| 5/5 [00:16<00:00,  3.29s/it]\u001b[A\n",
      "Processing Videos:  44%|████▍     | 307/698 [1:37:24<1:58:06, 18.12s/it]"
     ]
    },
    {
     "name": "stdout",
     "output_type": "stream",
     "text": [
      "File Name: stoneee101_7100833973890207003.mp4, File Size: 4.95 MB\n",
      "Total frames in video: 693\n",
      "Frame indices to extract: [0, 138, 277, 415, 554]\n",
      "Extracted 5 frames.\n"
     ]
    },
    {
     "name": "stderr",
     "output_type": "stream",
     "text": [
      "\n",
      "Processing Frames:   0%|          | 0/5 [00:00<?, ?it/s]\u001b[A\n",
      "Processing Frames:  20%|██        | 1/5 [00:04<00:16,  4.05s/it]\u001b[A\n",
      "Processing Frames:  40%|████      | 2/5 [00:07<00:11,  3.91s/it]\u001b[A\n",
      "Processing Frames:  60%|██████    | 3/5 [00:10<00:07,  3.51s/it]\u001b[A\n",
      "Processing Frames:  80%|████████  | 4/5 [00:14<00:03,  3.42s/it]\u001b[A\n",
      "Processing Frames: 100%|██████████| 5/5 [00:17<00:00,  3.48s/it]\u001b[A\n",
      "Processing Videos:  44%|████▍     | 308/698 [1:37:43<1:59:34, 18.40s/it]"
     ]
    },
    {
     "name": "stdout",
     "output_type": "stream",
     "text": [
      "File Name: hoshiphan_7372202934739700999.mp4, File Size: 12.61 MB\n",
      "Total frames in video: 2684\n",
      "Frame indices to extract: [0, 536, 1073, 1610, 2147]\n",
      "Extracted 5 frames.\n"
     ]
    },
    {
     "name": "stderr",
     "output_type": "stream",
     "text": [
      "\n",
      "Processing Frames:   0%|          | 0/5 [00:00<?, ?it/s]\u001b[A\n",
      "Processing Frames:  20%|██        | 1/5 [00:03<00:13,  3.45s/it]\u001b[A\n",
      "Processing Frames:  40%|████      | 2/5 [00:06<00:10,  3.33s/it]\u001b[A\n",
      "Processing Frames:  60%|██████    | 3/5 [00:10<00:07,  3.68s/it]\u001b[A\n",
      "Processing Frames:  80%|████████  | 4/5 [00:14<00:03,  3.53s/it]\u001b[A\n",
      "Processing Frames: 100%|██████████| 5/5 [00:16<00:00,  3.39s/it]\u001b[A\n",
      "Processing Videos:  44%|████▍     | 309/698 [1:38:02<2:00:18, 18.56s/it]"
     ]
    },
    {
     "name": "stdout",
     "output_type": "stream",
     "text": [
      "File Name: cochuoithichdi_35_7253450568293682438.mp4, File Size: 4.38 MB\n",
      "Total frames in video: 438\n",
      "Frame indices to extract: [0, 87, 175, 262, 350]\n",
      "Extracted 5 frames.\n"
     ]
    },
    {
     "name": "stderr",
     "output_type": "stream",
     "text": [
      "\n",
      "Processing Frames:   0%|          | 0/5 [00:00<?, ?it/s]\u001b[A\n",
      "Processing Frames:  20%|██        | 1/5 [00:03<00:14,  3.65s/it]\u001b[A\n",
      "Processing Frames:  40%|████      | 2/5 [00:07<00:10,  3.54s/it]\u001b[A\n",
      "Processing Frames:  60%|██████    | 3/5 [00:10<00:07,  3.64s/it]\u001b[A\n",
      "Processing Frames:  80%|████████  | 4/5 [00:13<00:03,  3.41s/it]\u001b[A\n",
      "Processing Frames: 100%|██████████| 5/5 [00:17<00:00,  3.48s/it]\u001b[A\n",
      "Processing Videos:  44%|████▍     | 310/698 [1:38:21<2:01:07, 18.73s/it]"
     ]
    },
    {
     "name": "stdout",
     "output_type": "stream",
     "text": [
      "File Name: thegioimevabe99_7254522471980829957.mp4, File Size: 1.07 MB\n",
      "Total frames in video: 458\n",
      "Frame indices to extract: [0, 91, 183, 274, 366]\n",
      "Extracted 5 frames.\n"
     ]
    },
    {
     "name": "stderr",
     "output_type": "stream",
     "text": [
      "\n",
      "Processing Frames:   0%|          | 0/5 [00:00<?, ?it/s]\u001b[A\n",
      "Processing Frames:  20%|██        | 1/5 [00:03<00:12,  3.16s/it]\u001b[A\n",
      "Processing Frames:  40%|████      | 2/5 [00:06<00:10,  3.47s/it]\u001b[A\n",
      "Processing Frames:  60%|██████    | 3/5 [00:10<00:06,  3.36s/it]\u001b[A\n",
      "Processing Frames:  80%|████████  | 4/5 [00:12<00:03,  3.09s/it]\u001b[A\n",
      "Processing Frames: 100%|██████████| 5/5 [00:15<00:00,  3.09s/it]\u001b[A\n",
      "Processing Videos:  45%|████▍     | 311/698 [1:38:38<1:57:56, 18.29s/it]"
     ]
    },
    {
     "name": "stdout",
     "output_type": "stream",
     "text": [
      "File Name: chutuphuyen_7374370306208599297.mp4, File Size: 42.03 MB\n",
      "Total frames in video: 4990\n",
      "Frame indices to extract: [0, 998, 1996, 2994, 3992]\n",
      "Extracted 5 frames.\n"
     ]
    },
    {
     "name": "stderr",
     "output_type": "stream",
     "text": [
      "\n",
      "Processing Frames:   0%|          | 0/5 [00:00<?, ?it/s]\u001b[A\n",
      "Processing Frames:  20%|██        | 1/5 [00:02<00:11,  2.89s/it]\u001b[A\n",
      "Processing Frames:  40%|████      | 2/5 [00:05<00:08,  2.98s/it]\u001b[A\n",
      "Processing Frames:  60%|██████    | 3/5 [00:09<00:06,  3.03s/it]\u001b[A\n",
      "Processing Frames:  80%|████████  | 4/5 [00:12<00:03,  3.04s/it]\u001b[A\n",
      "Processing Frames: 100%|██████████| 5/5 [00:15<00:00,  3.13s/it]\u001b[A\n",
      "Processing Videos:  45%|████▍     | 312/698 [1:38:56<1:56:50, 18.16s/it]"
     ]
    },
    {
     "name": "stdout",
     "output_type": "stream",
     "text": [
      "File Name: phuonghuynh___6987729228724702465.mp4, File Size: 3.40 MB\n",
      "Total frames in video: 845\n",
      "Frame indices to extract: [0, 169, 338, 507, 676]\n",
      "Extracted 5 frames.\n"
     ]
    },
    {
     "name": "stderr",
     "output_type": "stream",
     "text": [
      "\n",
      "Processing Frames:   0%|          | 0/5 [00:00<?, ?it/s]\u001b[A\n",
      "Processing Frames:  20%|██        | 1/5 [00:03<00:14,  3.61s/it]\u001b[A\n",
      "Processing Frames:  40%|████      | 2/5 [00:07<00:10,  3.49s/it]\u001b[A\n",
      "Processing Frames:  60%|██████    | 3/5 [00:10<00:06,  3.47s/it]\u001b[A\n",
      "Processing Frames:  80%|████████  | 4/5 [00:13<00:03,  3.30s/it]\u001b[A\n",
      "Processing Frames: 100%|██████████| 5/5 [00:16<00:00,  3.37s/it]\u001b[A\n",
      "Processing Videos:  45%|████▍     | 313/698 [1:39:16<1:59:04, 18.56s/it]"
     ]
    },
    {
     "name": "stdout",
     "output_type": "stream",
     "text": [
      "File Name: nhaccover.vn_7108335852387880194.mp4, File Size: 7.04 MB\n",
      "Total frames in video: 2044\n",
      "Frame indices to extract: [0, 408, 817, 1226, 1635]\n",
      "Extracted 5 frames.\n"
     ]
    },
    {
     "name": "stderr",
     "output_type": "stream",
     "text": [
      "\n",
      "Processing Frames:   0%|          | 0/5 [00:00<?, ?it/s]\u001b[A\n",
      "Processing Frames:  20%|██        | 1/5 [00:03<00:13,  3.28s/it]\u001b[A\n",
      "Processing Frames:  40%|████      | 2/5 [00:06<00:09,  3.24s/it]\u001b[A\n",
      "Processing Frames:  60%|██████    | 3/5 [00:10<00:06,  3.48s/it]\u001b[A\n",
      "Processing Frames:  80%|████████  | 4/5 [00:13<00:03,  3.55s/it]\u001b[A\n",
      "Processing Frames: 100%|██████████| 5/5 [00:17<00:00,  3.43s/it]\u001b[A\n",
      "Processing Videos:  45%|████▍     | 314/698 [1:39:35<2:00:25, 18.82s/it]"
     ]
    },
    {
     "name": "stdout",
     "output_type": "stream",
     "text": [
      "File Name: emmersweet_7372928689631169793.mp4, File Size: 12.12 MB\n",
      "Total frames in video: 2031\n",
      "Frame indices to extract: [0, 406, 812, 1218, 1624]\n",
      "Extracted 5 frames.\n"
     ]
    },
    {
     "name": "stderr",
     "output_type": "stream",
     "text": [
      "\n",
      "Processing Frames:   0%|          | 0/5 [00:00<?, ?it/s]\u001b[A\n",
      "Processing Frames:  20%|██        | 1/5 [00:02<00:10,  2.74s/it]\u001b[A\n",
      "Processing Frames:  40%|████      | 2/5 [00:05<00:07,  2.58s/it]\u001b[A\n",
      "Processing Frames:  60%|██████    | 3/5 [00:07<00:04,  2.44s/it]\u001b[A\n",
      "Processing Frames:  80%|████████  | 4/5 [00:10<00:02,  2.67s/it]\u001b[A\n",
      "Processing Frames: 100%|██████████| 5/5 [00:13<00:00,  2.71s/it]\u001b[A\n",
      "Processing Videos:  45%|████▌     | 315/698 [1:39:50<1:53:36, 17.80s/it]"
     ]
    },
    {
     "name": "stdout",
     "output_type": "stream",
     "text": [
      "File Name: matchaxpresso_7353219059808210177.mp4, File Size: 0.82 MB\n",
      "Total frames in video: 251\n",
      "Frame indices to extract: [0, 50, 100, 150, 200]\n",
      "Extracted 5 frames.\n"
     ]
    },
    {
     "name": "stderr",
     "output_type": "stream",
     "text": [
      "\n",
      "Processing Frames:   0%|          | 0/5 [00:00<?, ?it/s]\u001b[A\n",
      "Processing Frames:  20%|██        | 1/5 [00:03<00:12,  3.23s/it]\u001b[A\n",
      "Processing Frames:  40%|████      | 2/5 [00:06<00:09,  3.25s/it]\u001b[A\n",
      "Processing Frames:  60%|██████    | 3/5 [00:09<00:06,  3.16s/it]\u001b[A\n",
      "Processing Frames:  80%|████████  | 4/5 [00:13<00:03,  3.58s/it]\u001b[A\n",
      "Processing Frames: 100%|██████████| 5/5 [00:16<00:00,  3.37s/it]\u001b[A\n",
      "Processing Videos:  45%|████▌     | 316/698 [1:40:09<1:55:34, 18.15s/it]"
     ]
    },
    {
     "name": "stdout",
     "output_type": "stream",
     "text": [
      "File Name: asmr_usa6_7355314877298167073.mp4, File Size: 64.02 MB\n",
      "Total frames in video: 9536\n",
      "Frame indices to extract: [0, 1907, 3814, 5721, 7628]\n",
      "Extracted 5 frames.\n"
     ]
    },
    {
     "name": "stderr",
     "output_type": "stream",
     "text": [
      "\n",
      "Processing Frames:   0%|          | 0/5 [00:00<?, ?it/s]\u001b[A\n",
      "Processing Frames:  20%|██        | 1/5 [00:03<00:12,  3.05s/it]\u001b[A\n",
      "Processing Frames:  40%|████      | 2/5 [00:06<00:09,  3.05s/it]\u001b[A\n",
      "Processing Frames:  60%|██████    | 3/5 [00:09<00:06,  3.25s/it]\u001b[A\n",
      "Processing Frames:  80%|████████  | 4/5 [00:12<00:03,  3.09s/it]\u001b[A\n",
      "Processing Frames: 100%|██████████| 5/5 [00:15<00:00,  3.20s/it]\u001b[A\n",
      "Processing Videos:  45%|████▌     | 317/698 [1:40:27<1:54:30, 18.03s/it]"
     ]
    },
    {
     "name": "stdout",
     "output_type": "stream",
     "text": [
      "File Name: anvat.cungtui_7340994470525029633.mp4, File Size: 17.23 MB\n",
      "Total frames in video: 6482\n",
      "Frame indices to extract: [0, 1296, 2592, 3889, 5185]\n",
      "Extracted 5 frames.\n"
     ]
    },
    {
     "name": "stderr",
     "output_type": "stream",
     "text": [
      "\n",
      "Processing Frames:   0%|          | 0/5 [00:00<?, ?it/s]\u001b[A\n",
      "Processing Frames:  20%|██        | 1/5 [00:03<00:13,  3.44s/it]\u001b[A\n",
      "Processing Frames:  40%|████      | 2/5 [00:06<00:09,  3.23s/it]\u001b[A\n",
      "Processing Frames:  60%|██████    | 3/5 [00:10<00:07,  3.77s/it]\u001b[A\n",
      "Processing Frames:  80%|████████  | 4/5 [00:14<00:03,  3.54s/it]\u001b[A\n",
      "Processing Frames: 100%|██████████| 5/5 [00:17<00:00,  3.50s/it]\u001b[A\n",
      "Processing Videos:  46%|████▌     | 318/698 [1:40:47<1:57:08, 18.50s/it]"
     ]
    },
    {
     "name": "stdout",
     "output_type": "stream",
     "text": [
      "File Name: thnggaa_7030365063093554458.mp4, File Size: 1.84 MB\n",
      "Total frames in video: 611\n",
      "Frame indices to extract: [0, 122, 244, 366, 488]\n",
      "Extracted 5 frames.\n"
     ]
    },
    {
     "name": "stderr",
     "output_type": "stream",
     "text": [
      "\n",
      "Processing Frames:   0%|          | 0/5 [00:00<?, ?it/s]\u001b[A\n",
      "Processing Frames:  20%|██        | 1/5 [00:03<00:12,  3.24s/it]\u001b[A\n",
      "Processing Frames:  40%|████      | 2/5 [00:06<00:09,  3.32s/it]\u001b[A\n",
      "Processing Frames:  60%|██████    | 3/5 [00:10<00:06,  3.36s/it]\u001b[A\n",
      "Processing Frames:  80%|████████  | 4/5 [00:13<00:03,  3.23s/it]\u001b[A\n",
      "Processing Frames: 100%|██████████| 5/5 [00:16<00:00,  3.21s/it]\u001b[A\n",
      "Processing Videos:  46%|████▌     | 319/698 [1:41:05<1:55:35, 18.30s/it]"
     ]
    },
    {
     "name": "stdout",
     "output_type": "stream",
     "text": [
      "File Name: yeubien_6813381934295665922.mp4, File Size: 22.45 MB\n",
      "Total frames in video: 1725\n",
      "Frame indices to extract: [0, 345, 690, 1035, 1380]\n",
      "Extracted 5 frames.\n"
     ]
    },
    {
     "name": "stderr",
     "output_type": "stream",
     "text": [
      "\n",
      "Processing Frames:   0%|          | 0/5 [00:00<?, ?it/s]\u001b[A\n",
      "Processing Frames:  20%|██        | 1/5 [00:02<00:11,  3.00s/it]\u001b[A\n",
      "Processing Frames:  40%|████      | 2/5 [00:06<00:10,  3.55s/it]\u001b[A\n",
      "Processing Frames:  60%|██████    | 3/5 [00:10<00:06,  3.48s/it]\u001b[A\n",
      "Processing Frames:  80%|████████  | 4/5 [00:13<00:03,  3.32s/it]\u001b[A\n",
      "Processing Frames: 100%|██████████| 5/5 [00:16<00:00,  3.36s/it]\u001b[A\n",
      "Processing Videos:  46%|████▌     | 320/698 [1:41:24<1:56:31, 18.50s/it]"
     ]
    },
    {
     "name": "stdout",
     "output_type": "stream",
     "text": [
      "File Name: maphayke_7343943136676302098.mp4, File Size: 14.46 MB\n",
      "Total frames in video: 2342\n",
      "Frame indices to extract: [0, 468, 936, 1405, 1873]\n",
      "Extracted 5 frames.\n"
     ]
    },
    {
     "name": "stderr",
     "output_type": "stream",
     "text": [
      "\n",
      "Processing Frames:   0%|          | 0/5 [00:00<?, ?it/s]\u001b[A\n",
      "Processing Frames:  20%|██        | 1/5 [00:03<00:13,  3.46s/it]\u001b[A\n",
      "Processing Frames:  40%|████      | 2/5 [00:07<00:10,  3.51s/it]\u001b[A\n",
      "Processing Frames:  60%|██████    | 3/5 [00:10<00:07,  3.53s/it]\u001b[A\n",
      "Processing Frames:  80%|████████  | 4/5 [00:14<00:03,  3.56s/it]\u001b[A\n",
      "Processing Frames: 100%|██████████| 5/5 [00:19<00:00,  3.98s/it]\u001b[A\n",
      "Processing Videos:  46%|████▌     | 321/698 [1:41:45<2:02:32, 19.50s/it]"
     ]
    },
    {
     "name": "stdout",
     "output_type": "stream",
     "text": [
      "File Name: anden75_7348053934482689300.mp4, File Size: 54.92 MB\n",
      "Total frames in video: 8359\n",
      "Frame indices to extract: [0, 1671, 3343, 5015, 6687]\n",
      "Extracted 5 frames.\n"
     ]
    },
    {
     "name": "stderr",
     "output_type": "stream",
     "text": [
      "\n",
      "Processing Frames:   0%|          | 0/5 [00:00<?, ?it/s]\u001b[A\n",
      "Processing Frames:  20%|██        | 1/5 [00:03<00:14,  3.63s/it]\u001b[A\n",
      "Processing Frames:  40%|████      | 2/5 [00:06<00:10,  3.38s/it]\u001b[A\n",
      "Processing Frames:  60%|██████    | 3/5 [00:09<00:06,  3.14s/it]\u001b[A\n",
      "Processing Frames:  80%|████████  | 4/5 [00:13<00:03,  3.32s/it]\u001b[A\n",
      "Processing Frames: 100%|██████████| 5/5 [00:15<00:00,  3.19s/it]\u001b[A\n",
      "Processing Videos:  46%|████▌     | 322/698 [1:42:03<1:59:21, 19.05s/it]"
     ]
    },
    {
     "name": "stdout",
     "output_type": "stream",
     "text": [
      "File Name: cochuoithichdi_35_7285743507019468033.mp4, File Size: 4.95 MB\n",
      "Total frames in video: 619\n",
      "Frame indices to extract: [0, 123, 247, 371, 495]\n",
      "Extracted 5 frames.\n"
     ]
    },
    {
     "name": "stderr",
     "output_type": "stream",
     "text": [
      "\n",
      "Processing Frames:   0%|          | 0/5 [00:00<?, ?it/s]\u001b[A\n",
      "Processing Frames:  20%|██        | 1/5 [00:03<00:12,  3.11s/it]\u001b[A\n",
      "Processing Frames:  40%|████      | 2/5 [00:06<00:10,  3.38s/it]\u001b[A\n",
      "Processing Frames:  60%|██████    | 3/5 [00:10<00:07,  3.69s/it]\u001b[A\n",
      "Processing Frames:  80%|████████  | 4/5 [00:13<00:03,  3.37s/it]\u001b[A\n",
      "Processing Frames: 100%|██████████| 5/5 [00:16<00:00,  3.37s/it]\u001b[A\n",
      "Processing Videos:  46%|████▋     | 323/698 [1:42:23<1:59:45, 19.16s/it]"
     ]
    },
    {
     "name": "stdout",
     "output_type": "stream",
     "text": [
      "File Name: colortour68_7361599828817759489.mp4, File Size: 8.02 MB\n",
      "Total frames in video: 519\n",
      "Frame indices to extract: [0, 103, 207, 311, 415]\n",
      "Extracted 5 frames.\n"
     ]
    },
    {
     "name": "stderr",
     "output_type": "stream",
     "text": [
      "\n",
      "Processing Frames:   0%|          | 0/5 [00:00<?, ?it/s]\u001b[A\n",
      "Processing Frames:  20%|██        | 1/5 [00:03<00:12,  3.12s/it]\u001b[A\n",
      "Processing Frames:  40%|████      | 2/5 [00:06<00:09,  3.05s/it]\u001b[A\n",
      "Processing Frames:  60%|██████    | 3/5 [00:09<00:06,  3.21s/it]\u001b[A\n",
      "Processing Frames:  80%|████████  | 4/5 [00:12<00:03,  3.13s/it]\u001b[A\n",
      "Processing Frames: 100%|██████████| 5/5 [00:15<00:00,  3.16s/it]\u001b[A\n",
      "Processing Videos:  46%|████▋     | 324/698 [1:42:41<1:58:34, 19.02s/it]"
     ]
    },
    {
     "name": "stdout",
     "output_type": "stream",
     "text": [
      "File Name: vieticon.official_6780933188991732993.mp4, File Size: 1.78 MB\n",
      "Total frames in video: 632\n",
      "Frame indices to extract: [0, 126, 252, 379, 505]\n",
      "Extracted 5 frames.\n"
     ]
    },
    {
     "name": "stderr",
     "output_type": "stream",
     "text": [
      "\n",
      "Processing Frames:   0%|          | 0/5 [00:00<?, ?it/s]\u001b[A\n",
      "Processing Frames:  20%|██        | 1/5 [00:03<00:14,  3.54s/it]\u001b[A\n",
      "Processing Frames:  40%|████      | 2/5 [00:07<00:11,  3.83s/it]\u001b[A\n",
      "Processing Frames:  60%|██████    | 3/5 [00:10<00:07,  3.62s/it]\u001b[A\n",
      "Processing Frames:  80%|████████  | 4/5 [00:14<00:03,  3.52s/it]\u001b[A\n",
      "Processing Frames: 100%|██████████| 5/5 [00:17<00:00,  3.55s/it]\u001b[A\n",
      "Processing Videos:  47%|████▋     | 325/698 [1:43:01<1:59:33, 19.23s/it]"
     ]
    },
    {
     "name": "stdout",
     "output_type": "stream",
     "text": [
      "File Name: anden75_7346939607386279188.mp4, File Size: 35.48 MB\n",
      "Total frames in video: 5442\n",
      "Frame indices to extract: [0, 1088, 2176, 3265, 4353]\n",
      "Extracted 5 frames.\n"
     ]
    },
    {
     "name": "stderr",
     "output_type": "stream",
     "text": [
      "\n",
      "Processing Frames:   0%|          | 0/5 [00:00<?, ?it/s]\u001b[A\n",
      "Processing Frames:  20%|██        | 1/5 [00:03<00:12,  3.24s/it]\u001b[A\n",
      "Processing Frames:  40%|████      | 2/5 [00:06<00:09,  3.03s/it]\u001b[A\n",
      "Processing Frames:  60%|██████    | 3/5 [00:09<00:06,  3.18s/it]\u001b[A\n",
      "Processing Frames:  80%|████████  | 4/5 [00:12<00:03,  3.18s/it]\u001b[A\n",
      "Processing Frames: 100%|██████████| 5/5 [00:15<00:00,  3.07s/it]\u001b[A\n",
      "Processing Videos:  47%|████▋     | 326/698 [1:43:19<1:56:14, 18.75s/it]"
     ]
    },
    {
     "name": "stdout",
     "output_type": "stream",
     "text": [
      "File Name: linhcuuhoadaily_7253726548400901382.mp4, File Size: 14.57 MB\n",
      "Total frames in video: 4403\n",
      "Frame indices to extract: [0, 880, 1761, 2641, 3522]\n",
      "Extracted 5 frames.\n"
     ]
    },
    {
     "name": "stderr",
     "output_type": "stream",
     "text": [
      "\n",
      "Processing Frames:   0%|          | 0/5 [00:00<?, ?it/s]\u001b[A\n",
      "Processing Frames:  20%|██        | 1/5 [00:03<00:13,  3.42s/it]\u001b[A\n",
      "Processing Frames:  40%|████      | 2/5 [00:06<00:09,  3.29s/it]\u001b[A\n",
      "Processing Frames:  60%|██████    | 3/5 [00:09<00:06,  3.19s/it]\u001b[A\n",
      "Processing Frames:  80%|████████  | 4/5 [00:13<00:03,  3.27s/it]\u001b[A\n",
      "Processing Frames: 100%|██████████| 5/5 [00:16<00:00,  3.29s/it]\u001b[A\n",
      "Processing Videos:  47%|████▋     | 327/698 [1:43:38<1:56:19, 18.81s/it]"
     ]
    },
    {
     "name": "stdout",
     "output_type": "stream",
     "text": [
      "File Name: fantastic.vn_7232664940438457643.mp4, File Size: 9.53 MB\n",
      "Total frames in video: 1861\n",
      "Frame indices to extract: [0, 372, 744, 1116, 1488]\n",
      "Extracted 5 frames.\n"
     ]
    },
    {
     "name": "stderr",
     "output_type": "stream",
     "text": [
      "\n",
      "Processing Frames:   0%|          | 0/5 [00:00<?, ?it/s]\u001b[A\n",
      "Processing Frames:  20%|██        | 1/5 [00:03<00:15,  3.99s/it]\u001b[A\n",
      "Processing Frames:  40%|████      | 2/5 [00:07<00:10,  3.42s/it]\u001b[A\n",
      "Processing Frames:  60%|██████    | 3/5 [00:10<00:07,  3.59s/it]\u001b[A\n",
      "Processing Frames:  80%|████████  | 4/5 [00:15<00:03,  3.85s/it]\u001b[A\n",
      "Processing Frames: 100%|██████████| 5/5 [00:18<00:00,  3.72s/it]\u001b[A\n",
      "Processing Videos:  47%|████▋     | 328/698 [1:43:58<1:58:50, 19.27s/it]"
     ]
    },
    {
     "name": "stdout",
     "output_type": "stream",
     "text": [
      "File Name: halinhofficial_7341025836587371794.mp4, File Size: 16.81 MB\n",
      "Total frames in video: 3249\n",
      "Frame indices to extract: [0, 649, 1299, 1949, 2599]\n",
      "Extracted 5 frames.\n"
     ]
    },
    {
     "name": "stderr",
     "output_type": "stream",
     "text": [
      "\n",
      "Processing Frames:   0%|          | 0/5 [00:00<?, ?it/s]\u001b[A\n",
      "Processing Frames:  20%|██        | 1/5 [00:03<00:12,  3.06s/it]\u001b[A\n",
      "Processing Frames:  40%|████      | 2/5 [00:06<00:09,  3.14s/it]\u001b[A\n",
      "Processing Frames:  60%|██████    | 3/5 [00:09<00:06,  3.19s/it]\u001b[A\n",
      "Processing Frames:  80%|████████  | 4/5 [00:12<00:03,  3.28s/it]\u001b[A\n",
      "Processing Frames: 100%|██████████| 5/5 [00:15<00:00,  3.19s/it]\u001b[A\n",
      "Processing Videos:  47%|████▋     | 329/698 [1:44:16<1:56:17, 18.91s/it]"
     ]
    },
    {
     "name": "stdout",
     "output_type": "stream",
     "text": [
      "File Name: maingoc.onhalachill_7113575452219952410.mp4, File Size: 9.12 MB\n",
      "Total frames in video: 3119\n",
      "Frame indices to extract: [0, 623, 1247, 1871, 2495]\n",
      "Extracted 5 frames.\n"
     ]
    },
    {
     "name": "stderr",
     "output_type": "stream",
     "text": [
      "\n",
      "Processing Frames:   0%|          | 0/5 [00:00<?, ?it/s]\u001b[A\n",
      "Processing Frames:  20%|██        | 1/5 [00:02<00:11,  2.94s/it]\u001b[A\n",
      "Processing Frames:  40%|████      | 2/5 [00:07<00:10,  3.63s/it]\u001b[A\n",
      "Processing Frames:  60%|██████    | 3/5 [00:10<00:07,  3.65s/it]\u001b[A\n",
      "Processing Frames:  80%|████████  | 4/5 [00:13<00:03,  3.40s/it]\u001b[A\n",
      "Processing Frames: 100%|██████████| 5/5 [00:17<00:00,  3.43s/it]\u001b[A\n",
      "Processing Videos:  47%|████▋     | 330/698 [1:44:35<1:56:20, 18.97s/it]"
     ]
    },
    {
     "name": "stdout",
     "output_type": "stream",
     "text": [
      "File Name: maphayke_7356220502664432903.mp4, File Size: 12.09 MB\n",
      "Total frames in video: 2033\n",
      "Frame indices to extract: [0, 406, 813, 1219, 1626]\n",
      "Extracted 5 frames.\n"
     ]
    },
    {
     "name": "stderr",
     "output_type": "stream",
     "text": [
      "\n",
      "Processing Frames:   0%|          | 0/5 [00:00<?, ?it/s]\u001b[A\n",
      "Processing Frames:  20%|██        | 1/5 [00:03<00:14,  3.67s/it]\u001b[A\n",
      "Processing Frames:  40%|████      | 2/5 [00:06<00:10,  3.39s/it]\u001b[A\n",
      "Processing Frames:  60%|██████    | 3/5 [00:10<00:06,  3.38s/it]\u001b[A\n",
      "Processing Frames:  80%|████████  | 4/5 [00:13<00:03,  3.40s/it]\u001b[A\n",
      "Processing Frames: 100%|██████████| 5/5 [00:17<00:00,  3.45s/it]\u001b[A\n",
      "Processing Videos:  47%|████▋     | 331/698 [1:44:55<1:57:17, 19.18s/it]"
     ]
    },
    {
     "name": "stdout",
     "output_type": "stream",
     "text": [
      "File Name: mokhoet_hanoi_7024446942591733019.mp4, File Size: 10.97 MB\n",
      "Total frames in video: 1777\n",
      "Frame indices to extract: [0, 355, 710, 1066, 1421]\n",
      "Extracted 5 frames.\n"
     ]
    },
    {
     "name": "stderr",
     "output_type": "stream",
     "text": [
      "\n",
      "Processing Frames:   0%|          | 0/5 [00:00<?, ?it/s]\u001b[A\n",
      "Processing Frames:  20%|██        | 1/5 [00:03<00:15,  3.89s/it]\u001b[A\n",
      "Processing Frames:  40%|████      | 2/5 [00:06<00:09,  3.28s/it]\u001b[A\n",
      "Processing Frames:  60%|██████    | 3/5 [00:10<00:06,  3.32s/it]\u001b[A\n",
      "Processing Frames:  80%|████████  | 4/5 [00:13<00:03,  3.29s/it]\u001b[A\n",
      "Processing Frames: 100%|██████████| 5/5 [00:17<00:00,  3.42s/it]\u001b[A\n",
      "Processing Videos:  48%|████▊     | 332/698 [1:45:14<1:56:20, 19.07s/it]"
     ]
    },
    {
     "name": "stdout",
     "output_type": "stream",
     "text": [
      "File Name: mattpianoman_7243778877477162245.mp4, File Size: 5.06 MB\n",
      "Total frames in video: 1905\n",
      "Frame indices to extract: [0, 381, 762, 1143, 1524]\n",
      "Extracted 5 frames.\n"
     ]
    },
    {
     "name": "stderr",
     "output_type": "stream",
     "text": [
      "\n",
      "Processing Frames:   0%|          | 0/5 [00:00<?, ?it/s]\u001b[A\n",
      "Processing Frames:  20%|██        | 1/5 [00:03<00:14,  3.64s/it]\u001b[A\n",
      "Processing Frames:  40%|████      | 2/5 [00:07<00:10,  3.59s/it]\u001b[A\n",
      "Processing Frames:  60%|██████    | 3/5 [00:10<00:06,  3.41s/it]\u001b[A\n",
      "Processing Frames:  80%|████████  | 4/5 [00:14<00:03,  3.69s/it]\u001b[A\n",
      "Processing Frames: 100%|██████████| 5/5 [00:18<00:00,  3.61s/it]\u001b[A\n",
      "Processing Videos:  48%|████▊     | 333/698 [1:45:34<1:58:00, 19.40s/it]"
     ]
    },
    {
     "name": "stdout",
     "output_type": "stream",
     "text": [
      "File Name: colortour68_7357585364741098769.mp4, File Size: 10.75 MB\n",
      "Total frames in video: 1145\n",
      "Frame indices to extract: [0, 229, 458, 687, 916]\n",
      "Extracted 5 frames.\n"
     ]
    },
    {
     "name": "stderr",
     "output_type": "stream",
     "text": [
      "\n",
      "Processing Frames:   0%|          | 0/5 [00:00<?, ?it/s]\u001b[A\n",
      "Processing Frames:  20%|██        | 1/5 [00:03<00:12,  3.10s/it]\u001b[A\n",
      "Processing Frames:  40%|████      | 2/5 [00:06<00:09,  3.05s/it]\u001b[A\n",
      "Processing Frames:  60%|██████    | 3/5 [00:09<00:06,  3.03s/it]\u001b[A\n",
      "Processing Frames:  80%|████████  | 4/5 [00:12<00:03,  3.19s/it]\u001b[A\n",
      "Processing Frames: 100%|██████████| 5/5 [00:16<00:00,  3.22s/it]\u001b[A\n",
      "Processing Videos:  48%|████▊     | 334/698 [1:45:53<1:56:38, 19.23s/it]"
     ]
    },
    {
     "name": "stdout",
     "output_type": "stream",
     "text": [
      "File Name: anvat.cungtui_7339192244135660802.mp4, File Size: 15.54 MB\n",
      "Total frames in video: 5073\n",
      "Frame indices to extract: [0, 1014, 2029, 3043, 4058]\n",
      "Extracted 5 frames.\n"
     ]
    },
    {
     "name": "stderr",
     "output_type": "stream",
     "text": [
      "\n",
      "Processing Frames:   0%|          | 0/5 [00:00<?, ?it/s]\u001b[A\n",
      "Processing Frames:  20%|██        | 1/5 [00:03<00:12,  3.23s/it]\u001b[A\n",
      "Processing Frames:  40%|████      | 2/5 [00:06<00:09,  3.25s/it]\u001b[A\n",
      "Processing Frames:  60%|██████    | 3/5 [00:10<00:06,  3.42s/it]\u001b[A\n",
      "Processing Frames:  80%|████████  | 4/5 [00:13<00:03,  3.33s/it]\u001b[A\n",
      "Processing Frames: 100%|██████████| 5/5 [00:16<00:00,  3.35s/it]\u001b[A\n",
      "Processing Videos:  48%|████▊     | 335/698 [1:46:11<1:55:12, 19.04s/it]"
     ]
    },
    {
     "name": "stdout",
     "output_type": "stream",
     "text": [
      "File Name: tuthien_hih3t_7234756374389984517.mp4, File Size: 14.60 MB\n",
      "Total frames in video: 1702\n",
      "Frame indices to extract: [0, 340, 680, 1021, 1361]\n",
      "Extracted 5 frames.\n"
     ]
    },
    {
     "name": "stderr",
     "output_type": "stream",
     "text": [
      "\n",
      "Processing Frames:   0%|          | 0/5 [00:00<?, ?it/s]\u001b[A\n",
      "Processing Frames:  20%|██        | 1/5 [00:03<00:13,  3.40s/it]\u001b[A\n",
      "Processing Frames:  40%|████      | 2/5 [00:06<00:09,  3.32s/it]\u001b[A\n",
      "Processing Frames:  60%|██████    | 3/5 [00:09<00:06,  3.18s/it]\u001b[A\n",
      "Processing Frames:  80%|████████  | 4/5 [00:13<00:03,  3.33s/it]\u001b[A\n",
      "Processing Frames: 100%|██████████| 5/5 [00:16<00:00,  3.26s/it]\u001b[A\n",
      "Processing Videos:  48%|████▊     | 336/698 [1:46:29<1:53:00, 18.73s/it]"
     ]
    },
    {
     "name": "stdout",
     "output_type": "stream",
     "text": [
      "File Name: cochuoithichdi_35_7269594890693086470.mp4, File Size: 4.91 MB\n",
      "Total frames in video: 656\n",
      "Frame indices to extract: [0, 131, 262, 393, 524]\n",
      "Extracted 5 frames.\n"
     ]
    },
    {
     "name": "stderr",
     "output_type": "stream",
     "text": [
      "\n",
      "Processing Frames:   0%|          | 0/5 [00:00<?, ?it/s]\u001b[A\n",
      "Processing Frames:  20%|██        | 1/5 [00:04<00:16,  4.21s/it]\u001b[A\n",
      "Processing Frames:  40%|████      | 2/5 [00:07<00:11,  3.75s/it]\u001b[A\n",
      "Processing Frames:  60%|██████    | 3/5 [00:10<00:06,  3.49s/it]\u001b[A\n",
      "Processing Frames:  80%|████████  | 4/5 [00:14<00:03,  3.44s/it]\u001b[A\n",
      "Processing Frames: 100%|██████████| 5/5 [00:17<00:00,  3.45s/it]\u001b[A\n",
      "Processing Videos:  48%|████▊     | 337/698 [1:46:49<1:54:01, 18.95s/it]"
     ]
    },
    {
     "name": "stdout",
     "output_type": "stream",
     "text": [
      "File Name: trangheothi_7357653561674665217.mp4, File Size: 15.28 MB\n",
      "Total frames in video: 3171\n",
      "Frame indices to extract: [0, 634, 1268, 1902, 2536]\n",
      "Extracted 5 frames.\n"
     ]
    },
    {
     "name": "stderr",
     "output_type": "stream",
     "text": [
      "\n",
      "Processing Frames:   0%|          | 0/5 [00:00<?, ?it/s]\u001b[A\n",
      "Processing Frames:  20%|██        | 1/5 [00:03<00:12,  3.22s/it]\u001b[A\n",
      "Processing Frames:  40%|████      | 2/5 [00:06<00:09,  3.20s/it]\u001b[A\n",
      "Processing Frames:  60%|██████    | 3/5 [00:09<00:06,  3.14s/it]\u001b[A\n",
      "Processing Frames:  80%|████████  | 4/5 [00:12<00:03,  3.17s/it]\u001b[A\n",
      "Processing Frames: 100%|██████████| 5/5 [00:16<00:00,  3.27s/it]\u001b[A\n",
      "Processing Videos:  48%|████▊     | 338/698 [1:47:07<1:52:56, 18.82s/it]"
     ]
    },
    {
     "name": "stdout",
     "output_type": "stream",
     "text": [
      "File Name: dautocartoon_7248206158073204010.mp4, File Size: 1.47 MB\n",
      "Total frames in video: 1590\n",
      "Frame indices to extract: [0, 318, 636, 954, 1272]\n",
      "Extracted 5 frames.\n"
     ]
    },
    {
     "name": "stderr",
     "output_type": "stream",
     "text": [
      "\n",
      "Processing Frames:   0%|          | 0/5 [00:00<?, ?it/s]\u001b[A\n",
      "Processing Frames:  20%|██        | 1/5 [00:04<00:19,  4.84s/it]\u001b[A\n",
      "Processing Frames:  40%|████      | 2/5 [00:08<00:11,  3.98s/it]\u001b[A\n",
      "Processing Frames:  60%|██████    | 3/5 [00:11<00:07,  3.55s/it]\u001b[A\n",
      "Processing Frames:  80%|████████  | 4/5 [00:14<00:03,  3.55s/it]\u001b[A\n",
      "Processing Frames: 100%|██████████| 5/5 [00:18<00:00,  3.63s/it]\u001b[A\n",
      "Processing Videos:  49%|████▊     | 339/698 [1:47:27<1:54:41, 19.17s/it]"
     ]
    },
    {
     "name": "stdout",
     "output_type": "stream",
     "text": [
      "File Name: connhcruz_7248924081041575174.mp4, File Size: 27.22 MB\n",
      "Total frames in video: 5355\n",
      "Frame indices to extract: [0, 1071, 2142, 3213, 4284]\n",
      "Extracted 5 frames.\n"
     ]
    },
    {
     "name": "stderr",
     "output_type": "stream",
     "text": [
      "\n",
      "Processing Frames:   0%|          | 0/5 [00:00<?, ?it/s]\u001b[A\n",
      "Processing Frames:  20%|██        | 1/5 [00:02<00:08,  2.15s/it]\u001b[A\n",
      "Processing Frames:  40%|████      | 2/5 [00:05<00:08,  2.68s/it]\u001b[A\n",
      "Processing Frames:  60%|██████    | 3/5 [00:08<00:05,  2.83s/it]\u001b[A\n",
      "Processing Frames:  80%|████████  | 4/5 [00:12<00:03,  3.54s/it]\u001b[A\n",
      "Processing Frames: 100%|██████████| 5/5 [00:16<00:00,  3.24s/it]\u001b[A\n",
      "Processing Videos:  49%|████▊     | 340/698 [1:47:45<1:52:25, 18.84s/it]"
     ]
    },
    {
     "name": "stdout",
     "output_type": "stream",
     "text": [
      "File Name: le_anh_nuoi_7309075377438084370.mp4, File Size: 17.22 MB\n",
      "Total frames in video: 2403\n",
      "Frame indices to extract: [0, 480, 961, 1441, 1922]\n",
      "Extracted 5 frames.\n"
     ]
    },
    {
     "name": "stderr",
     "output_type": "stream",
     "text": [
      "\n",
      "Processing Frames:   0%|          | 0/5 [00:00<?, ?it/s]\u001b[A\n",
      "Processing Frames:  20%|██        | 1/5 [00:03<00:12,  3.08s/it]\u001b[A\n",
      "Processing Frames:  40%|████      | 2/5 [00:05<00:08,  2.83s/it]\u001b[A\n",
      "Processing Frames:  60%|██████    | 3/5 [00:08<00:05,  2.82s/it]\u001b[A\n",
      "Processing Frames:  80%|████████  | 4/5 [00:11<00:02,  2.92s/it]\u001b[A\n",
      "Processing Frames: 100%|██████████| 5/5 [00:14<00:00,  2.92s/it]\u001b[A\n",
      "Processing Videos:  49%|████▉     | 341/698 [1:48:03<1:49:12, 18.35s/it]"
     ]
    },
    {
     "name": "stdout",
     "output_type": "stream",
     "text": [
      "File Name: kyucngoisao.official_7067179994329500954.mp4, File Size: 6.45 MB\n",
      "Total frames in video: 910\n",
      "Frame indices to extract: [0, 182, 364, 546, 728]\n",
      "Extracted 5 frames.\n"
     ]
    },
    {
     "name": "stderr",
     "output_type": "stream",
     "text": [
      "\n",
      "Processing Frames:   0%|          | 0/5 [00:00<?, ?it/s]\u001b[A\n",
      "Processing Frames:  20%|██        | 1/5 [00:03<00:12,  3.06s/it]\u001b[A\n",
      "Processing Frames:  40%|████      | 2/5 [00:07<00:11,  3.76s/it]\u001b[A\n",
      "Processing Frames:  60%|██████    | 3/5 [00:10<00:07,  3.59s/it]\u001b[A\n",
      "Processing Frames:  80%|████████  | 4/5 [00:14<00:03,  3.53s/it]\u001b[A\n",
      "Processing Frames: 100%|██████████| 5/5 [00:17<00:00,  3.46s/it]\u001b[A\n",
      "Processing Videos:  49%|████▉     | 342/698 [1:48:22<1:50:36, 18.64s/it]"
     ]
    },
    {
     "name": "stdout",
     "output_type": "stream",
     "text": [
      "File Name: trasuaruby.q5_7351352341729119506.mp4, File Size: 9.37 MB\n",
      "Total frames in video: 1469\n",
      "Frame indices to extract: [0, 293, 587, 881, 1175]\n",
      "Extracted 5 frames.\n"
     ]
    },
    {
     "name": "stderr",
     "output_type": "stream",
     "text": [
      "\n",
      "Processing Frames:   0%|          | 0/5 [00:00<?, ?it/s]\u001b[A\n",
      "Processing Frames:  20%|██        | 1/5 [00:03<00:12,  3.23s/it]\u001b[A\n",
      "Processing Frames:  40%|████      | 2/5 [00:06<00:09,  3.02s/it]\u001b[A\n",
      "Processing Frames:  60%|██████    | 3/5 [00:08<00:05,  2.93s/it]\u001b[A\n",
      "Processing Frames:  80%|████████  | 4/5 [00:12<00:03,  3.03s/it]\u001b[A\n",
      "Processing Frames: 100%|██████████| 5/5 [00:14<00:00,  3.00s/it]\u001b[A\n",
      "Processing Videos:  49%|████▉     | 343/698 [1:48:39<1:47:58, 18.25s/it]"
     ]
    },
    {
     "name": "stdout",
     "output_type": "stream",
     "text": [
      "File Name: yimi.toys_7363124431973043464.mp4, File Size: 4.12 MB\n",
      "Total frames in video: 993\n",
      "Frame indices to extract: [0, 198, 397, 595, 794]\n",
      "Extracted 5 frames.\n"
     ]
    },
    {
     "name": "stderr",
     "output_type": "stream",
     "text": [
      "\n",
      "Processing Frames:   0%|          | 0/5 [00:00<?, ?it/s]\u001b[A\n",
      "Processing Frames:  20%|██        | 1/5 [00:03<00:15,  3.90s/it]\u001b[A\n",
      "Processing Frames:  40%|████      | 2/5 [00:06<00:09,  3.27s/it]\u001b[A\n",
      "Processing Frames:  60%|██████    | 3/5 [00:09<00:06,  3.26s/it]\u001b[A\n",
      "Processing Frames:  80%|████████  | 4/5 [00:13<00:03,  3.17s/it]\u001b[A\n",
      "Processing Frames: 100%|██████████| 5/5 [00:16<00:00,  3.24s/it]\u001b[A\n",
      "Processing Videos:  49%|████▉     | 344/698 [1:48:57<1:47:22, 18.20s/it]"
     ]
    },
    {
     "name": "stdout",
     "output_type": "stream",
     "text": [
      "File Name: zodleshop_7372364094629874962.mp4, File Size: 3.41 MB\n",
      "Total frames in video: 1568\n",
      "Frame indices to extract: [0, 313, 627, 940, 1254]\n",
      "Extracted 5 frames.\n"
     ]
    },
    {
     "name": "stderr",
     "output_type": "stream",
     "text": [
      "\n",
      "Processing Frames:   0%|          | 0/5 [00:00<?, ?it/s]\u001b[A\n",
      "Processing Frames:  20%|██        | 1/5 [00:03<00:13,  3.42s/it]\u001b[A\n",
      "Processing Frames:  40%|████      | 2/5 [00:06<00:09,  3.29s/it]\u001b[A\n",
      "Processing Frames:  60%|██████    | 3/5 [00:09<00:06,  3.18s/it]\u001b[A\n",
      "Processing Frames:  80%|████████  | 4/5 [00:12<00:03,  3.12s/it]\u001b[A\n",
      "Processing Frames: 100%|██████████| 5/5 [00:16<00:00,  3.31s/it]\u001b[A\n",
      "Processing Videos:  49%|████▉     | 345/698 [1:49:16<1:47:05, 18.20s/it]"
     ]
    },
    {
     "name": "stdout",
     "output_type": "stream",
     "text": [
      "File Name: numbersixtysix_7162172065313754373.mp4, File Size: 4.10 MB\n",
      "Total frames in video: 843\n",
      "Frame indices to extract: [0, 168, 337, 505, 674]\n",
      "Extracted 5 frames.\n"
     ]
    },
    {
     "name": "stderr",
     "output_type": "stream",
     "text": [
      "\n",
      "Processing Frames:   0%|          | 0/5 [00:00<?, ?it/s]\u001b[A\n",
      "Processing Frames:  20%|██        | 1/5 [00:03<00:12,  3.12s/it]\u001b[A\n",
      "Processing Frames:  40%|████      | 2/5 [00:06<00:10,  3.38s/it]\u001b[A\n",
      "Processing Frames:  60%|██████    | 3/5 [00:09<00:06,  3.21s/it]\u001b[A\n",
      "Processing Frames:  80%|████████  | 4/5 [00:12<00:03,  3.16s/it]\u001b[A\n",
      "Processing Frames: 100%|██████████| 5/5 [00:15<00:00,  3.15s/it]\u001b[A\n",
      "Processing Videos:  50%|████▉     | 346/698 [1:49:33<1:46:16, 18.11s/it]"
     ]
    },
    {
     "name": "stdout",
     "output_type": "stream",
     "text": [
      "File Name: ktienn.1412_7348811135908334855.mp4, File Size: 11.04 MB\n",
      "Total frames in video: 1499\n",
      "Frame indices to extract: [0, 299, 599, 899, 1199]\n",
      "Extracted 5 frames.\n"
     ]
    },
    {
     "name": "stderr",
     "output_type": "stream",
     "text": [
      "\n",
      "Processing Frames:   0%|          | 0/5 [00:00<?, ?it/s]\u001b[A\n",
      "Processing Frames:  20%|██        | 1/5 [00:03<00:15,  3.99s/it]\u001b[A\n",
      "Processing Frames:  40%|████      | 2/5 [00:07<00:10,  3.42s/it]\u001b[A\n",
      "Processing Frames:  60%|██████    | 3/5 [00:10<00:06,  3.23s/it]\u001b[A\n",
      "Processing Frames:  80%|████████  | 4/5 [00:13<00:03,  3.39s/it]\u001b[A\n",
      "Processing Frames: 100%|██████████| 5/5 [00:16<00:00,  3.40s/it]\u001b[A\n",
      "Processing Videos:  50%|████▉     | 347/698 [1:49:52<1:47:27, 18.37s/it]"
     ]
    },
    {
     "name": "stdout",
     "output_type": "stream",
     "text": [
      "File Name: vinhgau.tt_7259013833795161349.mp4, File Size: 18.35 MB\n",
      "Total frames in video: 2124\n",
      "Frame indices to extract: [0, 424, 849, 1274, 1699]\n",
      "Extracted 5 frames.\n"
     ]
    },
    {
     "name": "stderr",
     "output_type": "stream",
     "text": [
      "\n",
      "Processing Frames:   0%|          | 0/5 [00:00<?, ?it/s]\u001b[A\n",
      "Processing Frames:  20%|██        | 1/5 [00:02<00:11,  2.86s/it]\u001b[A\n",
      "Processing Frames:  40%|████      | 2/5 [00:06<00:09,  3.08s/it]\u001b[A\n",
      "Processing Frames:  60%|██████    | 3/5 [00:08<00:05,  2.97s/it]\u001b[A\n",
      "Processing Frames:  80%|████████  | 4/5 [00:11<00:02,  2.91s/it]\u001b[A\n",
      "Processing Frames: 100%|██████████| 5/5 [00:14<00:00,  2.85s/it]\u001b[A\n",
      "Processing Videos:  50%|████▉     | 348/698 [1:50:09<1:43:23, 17.72s/it]"
     ]
    },
    {
     "name": "stdout",
     "output_type": "stream",
     "text": [
      "File Name: anden75_7365116896426953991.mp4, File Size: 36.78 MB\n",
      "Total frames in video: 5462\n",
      "Frame indices to extract: [0, 1092, 2184, 3277, 4369]\n",
      "Extracted 5 frames.\n"
     ]
    },
    {
     "name": "stderr",
     "output_type": "stream",
     "text": [
      "\n",
      "Processing Frames:   0%|          | 0/5 [00:00<?, ?it/s]\u001b[A\n",
      "Processing Frames:  20%|██        | 1/5 [00:03<00:13,  3.42s/it]\u001b[A\n",
      "Processing Frames:  40%|████      | 2/5 [00:06<00:10,  3.51s/it]\u001b[A\n",
      "Processing Frames:  60%|██████    | 3/5 [00:10<00:07,  3.69s/it]\u001b[A\n",
      "Processing Frames:  80%|████████  | 4/5 [00:14<00:03,  3.72s/it]\u001b[A\n",
      "Processing Frames: 100%|██████████| 5/5 [00:17<00:00,  3.49s/it]\u001b[A\n",
      "Processing Videos:  50%|█████     | 349/698 [1:50:28<1:45:31, 18.14s/it]"
     ]
    },
    {
     "name": "stdout",
     "output_type": "stream",
     "text": [
      "File Name: toongadventure_7344997343021911316.mp4, File Size: 3.57 MB\n",
      "Total frames in video: 282\n",
      "Frame indices to extract: [0, 56, 112, 169, 225]\n",
      "Extracted 5 frames.\n"
     ]
    },
    {
     "name": "stderr",
     "output_type": "stream",
     "text": [
      "\n",
      "Processing Frames:   0%|          | 0/5 [00:00<?, ?it/s]\u001b[A\n",
      "Processing Frames:  20%|██        | 1/5 [00:03<00:13,  3.26s/it]\u001b[A\n",
      "Processing Frames:  40%|████      | 2/5 [00:06<00:10,  3.43s/it]\u001b[A\n",
      "Processing Frames:  60%|██████    | 3/5 [00:10<00:06,  3.43s/it]\u001b[A\n",
      "Processing Frames:  80%|████████  | 4/5 [00:13<00:03,  3.43s/it]\u001b[A\n",
      "Processing Frames: 100%|██████████| 5/5 [00:16<00:00,  3.30s/it]\u001b[A\n",
      "Processing Videos:  50%|█████     | 350/698 [1:50:46<1:45:26, 18.18s/it]"
     ]
    },
    {
     "name": "stdout",
     "output_type": "stream",
     "text": [
      "File Name: changcamping_7087162167073459482.mp4, File Size: 5.81 MB\n",
      "Total frames in video: 608\n",
      "Frame indices to extract: [0, 121, 243, 364, 486]\n",
      "Extracted 5 frames.\n"
     ]
    },
    {
     "name": "stderr",
     "output_type": "stream",
     "text": [
      "\n",
      "Processing Frames:   0%|          | 0/5 [00:00<?, ?it/s]\u001b[A\n",
      "Processing Frames:  20%|██        | 1/5 [00:04<00:15,  4.00s/it]\u001b[A\n",
      "Processing Frames:  40%|████      | 2/5 [00:07<00:11,  3.90s/it]\u001b[A\n",
      "Processing Frames:  60%|██████    | 3/5 [00:10<00:07,  3.52s/it]\u001b[A\n",
      "Processing Frames:  80%|████████  | 4/5 [00:14<00:03,  3.39s/it]\u001b[A\n",
      "Processing Frames: 100%|██████████| 5/5 [00:17<00:00,  3.56s/it]\u001b[A\n",
      "Processing Videos:  50%|█████     | 351/698 [1:51:06<1:47:35, 18.60s/it]"
     ]
    },
    {
     "name": "stdout",
     "output_type": "stream",
     "text": [
      "File Name: nhucnhich.13_7118375772158463258.mp4, File Size: 11.82 MB\n",
      "Total frames in video: 1220\n",
      "Frame indices to extract: [0, 244, 488, 732, 976]\n",
      "Extracted 5 frames.\n"
     ]
    },
    {
     "name": "stderr",
     "output_type": "stream",
     "text": [
      "\n",
      "Processing Frames:   0%|          | 0/5 [00:00<?, ?it/s]\u001b[A\n",
      "Processing Frames:  20%|██        | 1/5 [00:02<00:11,  2.92s/it]\u001b[A\n",
      "Processing Frames:  40%|████      | 2/5 [00:05<00:08,  2.69s/it]\u001b[A\n",
      "Processing Frames:  60%|██████    | 3/5 [00:07<00:05,  2.59s/it]\u001b[A\n",
      "Processing Frames:  80%|████████  | 4/5 [00:10<00:02,  2.55s/it]\u001b[A\n",
      "Processing Frames: 100%|██████████| 5/5 [00:12<00:00,  2.59s/it]\u001b[A\n",
      "Processing Videos:  50%|█████     | 352/698 [1:51:20<1:40:34, 17.44s/it]"
     ]
    },
    {
     "name": "stdout",
     "output_type": "stream",
     "text": [
      "File Name: loanhquanhmotminh_7235327171550530818.mp4, File Size: 22.20 MB\n",
      "Total frames in video: 3354\n",
      "Frame indices to extract: [0, 670, 1341, 2012, 2683]\n",
      "Extracted 5 frames.\n"
     ]
    },
    {
     "name": "stderr",
     "output_type": "stream",
     "text": [
      "\n",
      "Processing Frames:   0%|          | 0/5 [00:00<?, ?it/s]\u001b[A\n",
      "Processing Frames:  20%|██        | 1/5 [00:05<00:20,  5.25s/it]\u001b[A\n",
      "Processing Frames:  40%|████      | 2/5 [00:08<00:12,  4.07s/it]\u001b[A\n",
      "Processing Frames:  60%|██████    | 3/5 [00:11<00:07,  3.67s/it]\u001b[A\n",
      "Processing Frames:  80%|████████  | 4/5 [00:14<00:03,  3.48s/it]\u001b[A\n",
      "Processing Frames: 100%|██████████| 5/5 [00:17<00:00,  3.55s/it]\u001b[A\n",
      "Processing Videos:  51%|█████     | 353/698 [1:51:40<1:44:16, 18.14s/it]"
     ]
    },
    {
     "name": "stdout",
     "output_type": "stream",
     "text": [
      "File Name: bepnhalinh_7231521342518988038.mp4, File Size: 10.06 MB\n",
      "Total frames in video: 3508\n",
      "Frame indices to extract: [0, 701, 1403, 2104, 2806]\n",
      "Extracted 5 frames.\n"
     ]
    },
    {
     "name": "stderr",
     "output_type": "stream",
     "text": [
      "\n",
      "Processing Frames:   0%|          | 0/5 [00:00<?, ?it/s]\u001b[A\n",
      "Processing Frames:  20%|██        | 1/5 [00:03<00:13,  3.44s/it]\u001b[A\n",
      "Processing Frames:  40%|████      | 2/5 [00:06<00:10,  3.46s/it]\u001b[A\n",
      "Processing Frames:  60%|██████    | 3/5 [00:11<00:07,  3.78s/it]\u001b[A\n",
      "Processing Frames:  80%|████████  | 4/5 [00:13<00:03,  3.19s/it]\u001b[A\n",
      "Processing Frames: 100%|██████████| 5/5 [00:17<00:00,  3.45s/it]\u001b[A\n",
      "Processing Videos:  51%|█████     | 354/698 [1:52:00<1:46:15, 18.53s/it]"
     ]
    },
    {
     "name": "stdout",
     "output_type": "stream",
     "text": [
      "File Name: beplachcach_7184006135064644891.mp4, File Size: 6.98 MB\n",
      "Total frames in video: 1551\n",
      "Frame indices to extract: [0, 310, 620, 930, 1240]\n",
      "Extracted 5 frames.\n"
     ]
    },
    {
     "name": "stderr",
     "output_type": "stream",
     "text": [
      "\n",
      "Processing Frames:   0%|          | 0/5 [00:00<?, ?it/s]\u001b[A\n",
      "Processing Frames:  20%|██        | 1/5 [00:03<00:12,  3.09s/it]\u001b[A\n",
      "Processing Frames:  40%|████      | 2/5 [00:06<00:10,  3.38s/it]\u001b[A\n",
      "Processing Frames:  60%|██████    | 3/5 [00:10<00:06,  3.41s/it]\u001b[A\n",
      "Processing Frames:  80%|████████  | 4/5 [00:13<00:03,  3.40s/it]\u001b[A\n",
      "Processing Frames: 100%|██████████| 5/5 [00:16<00:00,  3.38s/it]\u001b[A\n",
      "Processing Videos:  51%|█████     | 355/698 [1:52:18<1:46:13, 18.58s/it]"
     ]
    },
    {
     "name": "stdout",
     "output_type": "stream",
     "text": [
      "File Name: minn.cookie_7241178112996707590.mp4, File Size: 32.97 MB\n",
      "Total frames in video: 6890\n",
      "Frame indices to extract: [0, 1378, 2756, 4134, 5512]\n",
      "Extracted 5 frames.\n"
     ]
    },
    {
     "name": "stderr",
     "output_type": "stream",
     "text": [
      "\n",
      "Processing Frames:   0%|          | 0/5 [00:00<?, ?it/s]\u001b[A\n",
      "Processing Frames:  20%|██        | 1/5 [00:02<00:08,  2.15s/it]\u001b[A\n",
      "Processing Frames:  40%|████      | 2/5 [00:05<00:09,  3.00s/it]\u001b[A\n",
      "Processing Frames:  60%|██████    | 3/5 [00:08<00:06,  3.04s/it]\u001b[A\n",
      "Processing Frames:  80%|████████  | 4/5 [00:13<00:03,  3.51s/it]\u001b[A\n",
      "Processing Frames: 100%|██████████| 5/5 [00:15<00:00,  3.07s/it]\u001b[A\n",
      "Processing Videos:  51%|█████     | 356/698 [1:52:35<1:43:15, 18.11s/it]"
     ]
    },
    {
     "name": "stdout",
     "output_type": "stream",
     "text": [
      "File Name: kell13841m0_7188082688794905857.mp4, File Size: 3.37 MB\n",
      "Total frames in video: 479\n",
      "Frame indices to extract: [0, 95, 191, 287, 383]\n",
      "Extracted 5 frames.\n"
     ]
    },
    {
     "name": "stderr",
     "output_type": "stream",
     "text": [
      "\n",
      "Processing Frames:   0%|          | 0/5 [00:00<?, ?it/s]\u001b[A\n",
      "Processing Frames:  20%|██        | 1/5 [00:03<00:14,  3.66s/it]\u001b[A\n",
      "Processing Frames:  40%|████      | 2/5 [00:06<00:09,  3.29s/it]\u001b[A\n",
      "Processing Frames:  60%|██████    | 3/5 [00:09<00:06,  3.18s/it]\u001b[A\n",
      "Processing Frames:  80%|████████  | 4/5 [00:13<00:03,  3.29s/it]\u001b[A\n",
      "Processing Frames: 100%|██████████| 5/5 [00:15<00:00,  3.06s/it]\u001b[A\n",
      "Processing Videos:  51%|█████     | 357/698 [1:52:53<1:41:43, 17.90s/it]"
     ]
    },
    {
     "name": "stdout",
     "output_type": "stream",
     "text": [
      "File Name: le_anh_nuoi_7332691734155070721.mp4, File Size: 21.53 MB\n",
      "Total frames in video: 2649\n",
      "Frame indices to extract: [0, 529, 1059, 1589, 2119]\n",
      "Extracted 5 frames.\n"
     ]
    },
    {
     "name": "stderr",
     "output_type": "stream",
     "text": [
      "\n",
      "Processing Frames:   0%|          | 0/5 [00:00<?, ?it/s]\u001b[A\n",
      "Processing Frames:  20%|██        | 1/5 [00:03<00:12,  3.07s/it]\u001b[A\n",
      "Processing Frames:  40%|████      | 2/5 [00:06<00:09,  3.07s/it]\u001b[A\n",
      "Processing Frames:  60%|██████    | 3/5 [00:10<00:07,  3.85s/it]\u001b[A\n",
      "Processing Frames:  80%|████████  | 4/5 [00:14<00:03,  3.69s/it]\u001b[A\n",
      "Processing Frames: 100%|██████████| 5/5 [00:18<00:00,  3.73s/it]\u001b[A\n",
      "Processing Videos:  51%|█████▏    | 358/698 [1:53:13<1:46:05, 18.72s/it]"
     ]
    },
    {
     "name": "stdout",
     "output_type": "stream",
     "text": [
      "File Name: taphoaanvat0_7362887384251305232.mp4, File Size: 16.67 MB\n",
      "Total frames in video: 2154\n",
      "Frame indices to extract: [0, 430, 861, 1292, 1723]\n",
      "Extracted 5 frames.\n"
     ]
    },
    {
     "name": "stderr",
     "output_type": "stream",
     "text": [
      "\n",
      "Processing Frames:   0%|          | 0/5 [00:00<?, ?it/s]\u001b[A\n",
      "Processing Frames:  20%|██        | 1/5 [00:03<00:12,  3.13s/it]\u001b[A\n",
      "Processing Frames:  40%|████      | 2/5 [00:06<00:09,  3.18s/it]\u001b[A\n",
      "Processing Frames:  60%|██████    | 3/5 [00:09<00:06,  3.28s/it]\u001b[A\n",
      "Processing Frames:  80%|████████  | 4/5 [00:13<00:03,  3.35s/it]\u001b[A\n",
      "Processing Frames: 100%|██████████| 5/5 [00:16<00:00,  3.32s/it]\u001b[A\n",
      "Processing Videos:  51%|█████▏    | 359/698 [1:53:32<1:46:07, 18.78s/it]"
     ]
    },
    {
     "name": "stdout",
     "output_type": "stream",
     "text": [
      "File Name: kienthuc1995_7279324165516135713.mp4, File Size: 1.35 MB\n",
      "Total frames in video: 749\n",
      "Frame indices to extract: [0, 149, 299, 449, 599]\n",
      "Extracted 5 frames.\n"
     ]
    },
    {
     "name": "stderr",
     "output_type": "stream",
     "text": [
      "\n",
      "Processing Frames:   0%|          | 0/5 [00:00<?, ?it/s]\u001b[A\n",
      "Processing Frames:  20%|██        | 1/5 [00:04<00:16,  4.09s/it]\u001b[A\n",
      "Processing Frames:  40%|████      | 2/5 [00:07<00:10,  3.57s/it]\u001b[A\n",
      "Processing Frames:  60%|██████    | 3/5 [00:10<00:06,  3.40s/it]\u001b[A\n",
      "Processing Frames:  80%|████████  | 4/5 [00:14<00:03,  3.63s/it]\u001b[A\n",
      "Processing Frames: 100%|██████████| 5/5 [00:18<00:00,  3.65s/it]\u001b[A\n",
      "Processing Videos:  52%|█████▏    | 360/698 [1:53:53<1:49:00, 19.35s/it]"
     ]
    },
    {
     "name": "stdout",
     "output_type": "stream",
     "text": [
      "File Name: elyitclean_7257530106724240645.mp4, File Size: 25.83 MB\n",
      "Total frames in video: 11390\n",
      "Frame indices to extract: [0, 2278, 4556, 6834, 9112]\n",
      "Extracted 5 frames.\n"
     ]
    },
    {
     "name": "stderr",
     "output_type": "stream",
     "text": [
      "\n",
      "Processing Frames:   0%|          | 0/5 [00:00<?, ?it/s]\u001b[A\n",
      "Processing Frames:  20%|██        | 1/5 [00:03<00:12,  3.24s/it]\u001b[A\n",
      "Processing Frames:  40%|████      | 2/5 [00:06<00:09,  3.25s/it]\u001b[A\n",
      "Processing Frames:  60%|██████    | 3/5 [00:09<00:06,  3.32s/it]\u001b[A\n",
      "Processing Frames:  80%|████████  | 4/5 [00:13<00:03,  3.58s/it]\u001b[A\n",
      "Processing Frames: 100%|██████████| 5/5 [00:17<00:00,  3.47s/it]\u001b[A\n",
      "Processing Videos:  52%|█████▏    | 361/698 [1:54:12<1:48:55, 19.39s/it]"
     ]
    },
    {
     "name": "stdout",
     "output_type": "stream",
     "text": [
      "File Name: giadinh.disney_7357303619936455944.mp4, File Size: 7.01 MB\n",
      "Total frames in video: 1413\n",
      "Frame indices to extract: [0, 282, 565, 847, 1130]\n",
      "Extracted 5 frames.\n"
     ]
    },
    {
     "name": "stderr",
     "output_type": "stream",
     "text": [
      "\n",
      "Processing Frames:   0%|          | 0/5 [00:00<?, ?it/s]\u001b[A\n",
      "Processing Frames:  20%|██        | 1/5 [00:03<00:13,  3.42s/it]\u001b[A\n",
      "Processing Frames:  40%|████      | 2/5 [00:06<00:10,  3.41s/it]\u001b[A\n",
      "Processing Frames:  60%|██████    | 3/5 [00:10<00:06,  3.49s/it]\u001b[A\n",
      "Processing Frames:  80%|████████  | 4/5 [00:13<00:03,  3.51s/it]\u001b[A\n",
      "Processing Frames: 100%|██████████| 5/5 [00:18<00:00,  3.77s/it]\u001b[A\n",
      "Processing Videos:  52%|█████▏    | 362/698 [1:54:33<1:50:52, 19.80s/it]"
     ]
    },
    {
     "name": "stdout",
     "output_type": "stream",
     "text": [
      "File Name: vanhpiano_7275789790165880066.mp4, File Size: 6.44 MB\n",
      "Total frames in video: 1605\n",
      "Frame indices to extract: [0, 321, 642, 963, 1284]\n",
      "Extracted 5 frames.\n"
     ]
    },
    {
     "name": "stderr",
     "output_type": "stream",
     "text": [
      "\n",
      "Processing Frames:   0%|          | 0/5 [00:00<?, ?it/s]\u001b[A\n",
      "Processing Frames:  20%|██        | 1/5 [00:03<00:12,  3.10s/it]\u001b[A\n",
      "Processing Frames:  40%|████      | 2/5 [00:07<00:11,  3.68s/it]\u001b[A\n",
      "Processing Frames:  60%|██████    | 3/5 [00:10<00:06,  3.46s/it]\u001b[A\n",
      "Processing Frames:  80%|████████  | 4/5 [00:13<00:03,  3.32s/it]\u001b[A\n",
      "Processing Frames: 100%|██████████| 5/5 [00:16<00:00,  3.30s/it]\u001b[A\n",
      "Processing Videos:  52%|█████▏    | 363/698 [1:54:52<1:49:16, 19.57s/it]"
     ]
    },
    {
     "name": "stdout",
     "output_type": "stream",
     "text": [
      "File Name: nghipnguynthdoanh_7358797668434349319.mp4, File Size: 8.34 MB\n",
      "Total frames in video: 1201\n",
      "Frame indices to extract: [0, 240, 480, 720, 960]\n",
      "Extracted 5 frames.\n"
     ]
    },
    {
     "name": "stderr",
     "output_type": "stream",
     "text": [
      "\n",
      "Processing Frames:   0%|          | 0/5 [00:00<?, ?it/s]\u001b[A\n",
      "Processing Frames:  20%|██        | 1/5 [00:03<00:13,  3.28s/it]\u001b[A\n",
      "Processing Frames:  40%|████      | 2/5 [00:06<00:09,  3.13s/it]\u001b[A\n",
      "Processing Frames:  60%|██████    | 3/5 [00:09<00:06,  3.24s/it]\u001b[A\n",
      "Processing Frames:  80%|████████  | 4/5 [00:13<00:03,  3.31s/it]\u001b[A\n",
      "Processing Frames: 100%|██████████| 5/5 [00:16<00:00,  3.26s/it]\u001b[A\n",
      "Processing Videos:  52%|█████▏    | 364/698 [1:55:12<1:49:04, 19.59s/it]"
     ]
    },
    {
     "name": "stdout",
     "output_type": "stream",
     "text": [
      "File Name: visit_7242365601144917274.mp4, File Size: 2.16 MB\n",
      "Total frames in video: 293\n",
      "Frame indices to extract: [0, 58, 117, 175, 234]\n",
      "Extracted 5 frames.\n"
     ]
    },
    {
     "name": "stderr",
     "output_type": "stream",
     "text": [
      "\n",
      "Processing Frames:   0%|          | 0/5 [00:00<?, ?it/s]\u001b[A\n",
      "Processing Frames:  20%|██        | 1/5 [00:03<00:12,  3.17s/it]\u001b[A\n",
      "Processing Frames:  40%|████      | 2/5 [00:06<00:10,  3.53s/it]\u001b[A\n",
      "Processing Frames:  60%|██████    | 3/5 [00:10<00:07,  3.54s/it]\u001b[A\n",
      "Processing Frames:  80%|████████  | 4/5 [00:14<00:03,  3.56s/it]\u001b[A\n",
      "Processing Frames: 100%|██████████| 5/5 [00:17<00:00,  3.53s/it]\u001b[A\n",
      "Processing Videos:  52%|█████▏    | 365/698 [1:55:32<1:50:03, 19.83s/it]"
     ]
    },
    {
     "name": "stdout",
     "output_type": "stream",
     "text": [
      "File Name: tinhtungtangvn_7235928895772560645.mp4, File Size: 25.35 MB\n",
      "Total frames in video: 3322\n",
      "Frame indices to extract: [0, 664, 1328, 1993, 2657]\n",
      "Extracted 5 frames.\n"
     ]
    },
    {
     "name": "stderr",
     "output_type": "stream",
     "text": [
      "\n",
      "Processing Frames:   0%|          | 0/5 [00:00<?, ?it/s]\u001b[A\n",
      "Processing Frames:  20%|██        | 1/5 [00:03<00:12,  3.03s/it]\u001b[A\n",
      "Processing Frames:  40%|████      | 2/5 [00:06<00:09,  3.05s/it]\u001b[A\n",
      "Processing Frames:  60%|██████    | 3/5 [00:09<00:06,  3.28s/it]\u001b[A\n",
      "Processing Frames:  80%|████████  | 4/5 [00:14<00:03,  3.87s/it]\u001b[A\n",
      "Processing Frames: 100%|██████████| 5/5 [00:17<00:00,  3.49s/it]\u001b[A\n",
      "Processing Videos:  52%|█████▏    | 366/698 [1:55:52<1:49:11, 19.73s/it]"
     ]
    },
    {
     "name": "stdout",
     "output_type": "stream",
     "text": [
      "File Name: umegiay.pp_7291621906170645778.mp4, File Size: 14.03 MB\n",
      "Total frames in video: 2765\n",
      "Frame indices to extract: [0, 553, 1106, 1659, 2212]\n",
      "Extracted 5 frames.\n"
     ]
    },
    {
     "name": "stderr",
     "output_type": "stream",
     "text": [
      "\n",
      "Processing Frames:   0%|          | 0/5 [00:00<?, ?it/s]\u001b[A\n",
      "Processing Frames:  20%|██        | 1/5 [00:03<00:14,  3.60s/it]\u001b[A\n",
      "Processing Frames:  40%|████      | 2/5 [00:06<00:09,  3.28s/it]\u001b[A\n",
      "Processing Frames:  60%|██████    | 3/5 [00:10<00:06,  3.33s/it]\u001b[A\n",
      "Processing Frames:  80%|████████  | 4/5 [00:13<00:03,  3.49s/it]\u001b[A\n",
      "Processing Frames: 100%|██████████| 5/5 [00:16<00:00,  3.37s/it]\u001b[A\n",
      "Processing Videos:  53%|█████▎    | 367/698 [1:56:11<1:47:31, 19.49s/it]"
     ]
    },
    {
     "name": "stdout",
     "output_type": "stream",
     "text": [
      "File Name: anden75_7347694990614662407.mp4, File Size: 11.86 MB\n",
      "Total frames in video: 2613\n",
      "Frame indices to extract: [0, 522, 1045, 1567, 2090]\n",
      "Extracted 5 frames.\n"
     ]
    },
    {
     "name": "stderr",
     "output_type": "stream",
     "text": [
      "\n",
      "Processing Frames:   0%|          | 0/5 [00:00<?, ?it/s]\u001b[A\n",
      "Processing Frames:  20%|██        | 1/5 [00:03<00:14,  3.60s/it]\u001b[A\n",
      "Processing Frames:  40%|████      | 2/5 [00:07<00:10,  3.52s/it]\u001b[A\n",
      "Processing Frames:  60%|██████    | 3/5 [00:09<00:06,  3.20s/it]\u001b[A\n",
      "Processing Frames:  80%|████████  | 4/5 [00:13<00:03,  3.20s/it]\u001b[A\n",
      "Processing Frames: 100%|██████████| 5/5 [00:16<00:00,  3.30s/it]\u001b[A\n",
      "Processing Videos:  53%|█████▎    | 368/698 [1:56:29<1:45:20, 19.15s/it]"
     ]
    },
    {
     "name": "stdout",
     "output_type": "stream",
     "text": [
      "File Name: dongam_den.vauvn_7285599076777757953.mp4, File Size: 4.15 MB\n",
      "Total frames in video: 665\n",
      "Frame indices to extract: [0, 133, 266, 399, 532]\n",
      "Extracted 5 frames.\n"
     ]
    },
    {
     "name": "stderr",
     "output_type": "stream",
     "text": [
      "\n",
      "Processing Frames:   0%|          | 0/5 [00:00<?, ?it/s]\u001b[A\n",
      "Processing Frames:  20%|██        | 1/5 [00:03<00:13,  3.41s/it]\u001b[A\n",
      "Processing Frames:  40%|████      | 2/5 [00:06<00:09,  3.16s/it]\u001b[A\n",
      "Processing Frames:  60%|██████    | 3/5 [00:09<00:06,  3.28s/it]\u001b[A\n",
      "Processing Frames:  80%|████████  | 4/5 [00:12<00:03,  3.24s/it]\u001b[A\n",
      "Processing Frames: 100%|██████████| 5/5 [00:15<00:00,  3.20s/it]\u001b[A\n",
      "Processing Videos:  53%|█████▎    | 369/698 [1:56:47<1:43:25, 18.86s/it]"
     ]
    },
    {
     "name": "stdout",
     "output_type": "stream",
     "text": [
      "File Name: chutuphuyen_7369556801873874177.mp4, File Size: 17.18 MB\n",
      "Total frames in video: 2442\n",
      "Frame indices to extract: [0, 488, 976, 1465, 1953]\n",
      "Extracted 5 frames.\n"
     ]
    },
    {
     "name": "stderr",
     "output_type": "stream",
     "text": [
      "\n",
      "Processing Frames:   0%|          | 0/5 [00:00<?, ?it/s]\u001b[A\n",
      "Processing Frames:  20%|██        | 1/5 [00:03<00:15,  3.90s/it]\u001b[A\n",
      "Processing Frames:  40%|████      | 2/5 [00:07<00:11,  3.80s/it]\u001b[A\n",
      "Processing Frames:  60%|██████    | 3/5 [00:09<00:06,  3.12s/it]\u001b[A\n",
      "Processing Frames:  80%|████████  | 4/5 [00:13<00:03,  3.14s/it]\u001b[A\n",
      "Processing Frames: 100%|██████████| 5/5 [00:16<00:00,  3.33s/it]\u001b[A\n",
      "Processing Videos:  53%|█████▎    | 370/698 [1:57:07<1:44:32, 19.12s/it]"
     ]
    },
    {
     "name": "stdout",
     "output_type": "stream",
     "text": [
      "File Name: anden75_7363638812355972359.mp4, File Size: 32.67 MB\n",
      "Total frames in video: 6102\n",
      "Frame indices to extract: [0, 1220, 2440, 3661, 4881]\n",
      "Extracted 5 frames.\n"
     ]
    },
    {
     "name": "stderr",
     "output_type": "stream",
     "text": [
      "\n",
      "Processing Frames:   0%|          | 0/5 [00:00<?, ?it/s]\u001b[A\n",
      "Processing Frames:  20%|██        | 1/5 [00:03<00:12,  3.23s/it]\u001b[A\n",
      "Processing Frames:  40%|████      | 2/5 [00:06<00:09,  3.10s/it]\u001b[A\n",
      "Processing Frames:  60%|██████    | 3/5 [00:09<00:05,  3.00s/it]\u001b[A\n",
      "Processing Frames:  80%|████████  | 4/5 [00:12<00:03,  3.14s/it]\u001b[A\n",
      "Processing Frames: 100%|██████████| 5/5 [00:16<00:00,  3.38s/it]\u001b[A\n",
      "Processing Videos:  53%|█████▎    | 371/698 [1:57:27<1:45:01, 19.27s/it]"
     ]
    },
    {
     "name": "stdout",
     "output_type": "stream",
     "text": [
      "File Name: zodleshop_7278155685756488962.mp4, File Size: 2.21 MB\n",
      "Total frames in video: 1296\n",
      "Frame indices to extract: [0, 259, 518, 777, 1036]\n",
      "Extracted 5 frames.\n"
     ]
    },
    {
     "name": "stderr",
     "output_type": "stream",
     "text": [
      "\n",
      "Processing Frames:   0%|          | 0/5 [00:00<?, ?it/s]\u001b[A\n",
      "Processing Frames:  20%|██        | 1/5 [00:03<00:13,  3.29s/it]\u001b[A\n",
      "Processing Frames:  40%|████      | 2/5 [00:06<00:09,  3.02s/it]\u001b[A\n",
      "Processing Frames:  60%|██████    | 3/5 [00:09<00:06,  3.10s/it]\u001b[A\n",
      "Processing Frames:  80%|████████  | 4/5 [00:12<00:03,  3.00s/it]\u001b[A\n",
      "Processing Frames: 100%|██████████| 5/5 [00:15<00:00,  3.07s/it]\u001b[A\n",
      "Processing Videos:  53%|█████▎    | 372/698 [1:57:44<1:40:54, 18.57s/it]"
     ]
    },
    {
     "name": "stdout",
     "output_type": "stream",
     "text": [
      "File Name: my_christmas.tree_7131128703190306053.mp4, File Size: 3.35 MB\n",
      "Total frames in video: 764\n",
      "Frame indices to extract: [0, 152, 305, 458, 611]\n",
      "Extracted 5 frames.\n"
     ]
    },
    {
     "name": "stderr",
     "output_type": "stream",
     "text": [
      "\n",
      "Processing Frames:   0%|          | 0/5 [00:00<?, ?it/s]\u001b[A\n",
      "Processing Frames:  20%|██        | 1/5 [00:03<00:13,  3.49s/it]\u001b[A\n",
      "Processing Frames:  40%|████      | 2/5 [00:06<00:10,  3.41s/it]\u001b[A\n",
      "Processing Frames:  60%|██████    | 3/5 [00:09<00:06,  3.22s/it]\u001b[A\n",
      "Processing Frames:  80%|████████  | 4/5 [00:13<00:03,  3.54s/it]\u001b[A\n",
      "Processing Frames: 100%|██████████| 5/5 [00:17<00:00,  3.41s/it]\u001b[A\n",
      "Processing Videos:  53%|█████▎    | 373/698 [1:58:03<1:41:35, 18.76s/it]"
     ]
    },
    {
     "name": "stdout",
     "output_type": "stream",
     "text": [
      "File Name: maphayke_7375128293772725512.mp4, File Size: 16.86 MB\n",
      "Total frames in video: 2157\n",
      "Frame indices to extract: [0, 431, 862, 1294, 1725]\n",
      "Extracted 5 frames.\n"
     ]
    },
    {
     "name": "stderr",
     "output_type": "stream",
     "text": [
      "\n",
      "Processing Frames:   0%|          | 0/5 [00:00<?, ?it/s]\u001b[A\n",
      "Processing Frames:  20%|██        | 1/5 [00:03<00:13,  3.26s/it]\u001b[A\n",
      "Processing Frames:  40%|████      | 2/5 [00:06<00:09,  3.21s/it]\u001b[A\n",
      "Processing Frames:  60%|██████    | 3/5 [00:09<00:06,  3.12s/it]\u001b[A\n",
      "Processing Frames:  80%|████████  | 4/5 [00:12<00:03,  3.07s/it]\u001b[A\n",
      "Processing Frames: 100%|██████████| 5/5 [00:15<00:00,  3.18s/it]\u001b[A\n",
      "Processing Videos:  54%|█████▎    | 374/698 [1:58:21<1:40:58, 18.70s/it]"
     ]
    },
    {
     "name": "stdout",
     "output_type": "stream",
     "text": [
      "File Name: 10vancauhoivisao247_7131698603353148699.mp4, File Size: 10.97 MB\n",
      "Total frames in video: 3305\n",
      "Frame indices to extract: [0, 661, 1322, 1983, 2644]\n",
      "Extracted 5 frames.\n"
     ]
    },
    {
     "name": "stderr",
     "output_type": "stream",
     "text": [
      "\n",
      "Processing Frames:   0%|          | 0/5 [00:00<?, ?it/s]\u001b[A\n",
      "Processing Frames:  20%|██        | 1/5 [00:03<00:12,  3.23s/it]\u001b[A\n",
      "Processing Frames:  40%|████      | 2/5 [00:06<00:09,  3.30s/it]\u001b[A\n",
      "Processing Frames:  60%|██████    | 3/5 [00:09<00:06,  3.29s/it]\u001b[A\n",
      "Processing Frames:  80%|████████  | 4/5 [00:12<00:03,  3.18s/it]\u001b[A\n",
      "Processing Frames: 100%|██████████| 5/5 [00:16<00:00,  3.25s/it]\u001b[A\n",
      "Processing Videos:  54%|█████▎    | 375/698 [1:58:39<1:39:43, 18.52s/it]"
     ]
    },
    {
     "name": "stdout",
     "output_type": "stream",
     "text": [
      "File Name: rosannagray150_7162203009957514539.mp4, File Size: 3.74 MB\n",
      "Total frames in video: 578\n",
      "Frame indices to extract: [0, 115, 231, 346, 462]\n",
      "Extracted 5 frames.\n"
     ]
    },
    {
     "name": "stderr",
     "output_type": "stream",
     "text": [
      "\n",
      "Processing Frames:   0%|          | 0/5 [00:00<?, ?it/s]\u001b[A\n",
      "Processing Frames:  20%|██        | 1/5 [00:03<00:12,  3.04s/it]\u001b[A\n",
      "Processing Frames:  40%|████      | 2/5 [00:06<00:09,  3.23s/it]\u001b[A\n",
      "Processing Frames:  60%|██████    | 3/5 [00:09<00:06,  3.32s/it]\u001b[A\n",
      "Processing Frames:  80%|████████  | 4/5 [00:13<00:03,  3.41s/it]\u001b[A\n",
      "Processing Frames: 100%|██████████| 5/5 [00:16<00:00,  3.31s/it]\u001b[A\n",
      "Processing Videos:  54%|█████▍    | 376/698 [1:58:58<1:38:57, 18.44s/it]"
     ]
    },
    {
     "name": "stdout",
     "output_type": "stream",
     "text": [
      "File Name: animals.clips_7258083904635063579.mp4, File Size: 10.95 MB\n",
      "Total frames in video: 2035\n",
      "Frame indices to extract: [0, 407, 814, 1221, 1628]\n",
      "Extracted 5 frames.\n"
     ]
    },
    {
     "name": "stderr",
     "output_type": "stream",
     "text": [
      "\n",
      "Processing Frames:   0%|          | 0/5 [00:00<?, ?it/s]\u001b[A\n",
      "Processing Frames:  20%|██        | 1/5 [00:04<00:17,  4.42s/it]\u001b[A\n",
      "Processing Frames:  40%|████      | 2/5 [00:08<00:12,  4.12s/it]\u001b[A\n",
      "Processing Frames:  60%|██████    | 3/5 [00:11<00:06,  3.47s/it]\u001b[A\n",
      "Processing Frames:  80%|████████  | 4/5 [00:14<00:03,  3.28s/it]\u001b[A\n",
      "Processing Frames: 100%|██████████| 5/5 [00:17<00:00,  3.44s/it]\u001b[A\n",
      "Processing Videos:  54%|█████▍    | 377/698 [1:59:17<1:40:25, 18.77s/it]"
     ]
    },
    {
     "name": "stdout",
     "output_type": "stream",
     "text": [
      "File Name: huynhnguyenmusic_7287015398489263362.mp4, File Size: 14.45 MB\n",
      "Total frames in video: 7917\n",
      "Frame indices to extract: [0, 1583, 3166, 4750, 6333]\n",
      "Extracted 5 frames.\n"
     ]
    },
    {
     "name": "stderr",
     "output_type": "stream",
     "text": [
      "\n",
      "Processing Frames:   0%|          | 0/5 [00:00<?, ?it/s]\u001b[A\n",
      "Processing Frames:  20%|██        | 1/5 [00:03<00:12,  3.04s/it]\u001b[A\n",
      "Processing Frames:  40%|████      | 2/5 [00:06<00:09,  3.02s/it]\u001b[A\n",
      "Processing Frames:  60%|██████    | 3/5 [00:09<00:06,  3.04s/it]\u001b[A\n",
      "Processing Frames:  80%|████████  | 4/5 [00:11<00:02,  2.81s/it]\u001b[A\n",
      "Processing Frames: 100%|██████████| 5/5 [00:14<00:00,  2.96s/it]\u001b[A\n",
      "Processing Videos:  54%|█████▍    | 378/698 [1:59:34<1:37:18, 18.25s/it]"
     ]
    },
    {
     "name": "stdout",
     "output_type": "stream",
     "text": [
      "File Name: anden75_7337664702882843922.mp4, File Size: 32.27 MB\n",
      "Total frames in video: 5153\n",
      "Frame indices to extract: [0, 1030, 2061, 3091, 4122]\n",
      "Extracted 5 frames.\n"
     ]
    },
    {
     "name": "stderr",
     "output_type": "stream",
     "text": [
      "\n",
      "Processing Frames:   0%|          | 0/5 [00:00<?, ?it/s]\u001b[A\n",
      "Processing Frames:  20%|██        | 1/5 [00:03<00:13,  3.45s/it]\u001b[A\n",
      "Processing Frames:  40%|████      | 2/5 [00:06<00:10,  3.40s/it]\u001b[A\n",
      "Processing Frames:  60%|██████    | 3/5 [00:09<00:06,  3.14s/it]\u001b[A\n",
      "Processing Frames:  80%|████████  | 4/5 [00:12<00:03,  3.11s/it]\u001b[A\n",
      "Processing Frames: 100%|██████████| 5/5 [00:16<00:00,  3.25s/it]\u001b[A\n",
      "Processing Videos:  54%|█████▍    | 379/698 [1:59:53<1:37:14, 18.29s/it]"
     ]
    },
    {
     "name": "stdout",
     "output_type": "stream",
     "text": [
      "File Name: utvevuon99_7265630389631307015.mp4, File Size: 21.94 MB\n",
      "Total frames in video: 3590\n",
      "Frame indices to extract: [0, 718, 1436, 2154, 2872]\n",
      "Extracted 5 frames.\n"
     ]
    },
    {
     "name": "stderr",
     "output_type": "stream",
     "text": [
      "\n",
      "Processing Frames:   0%|          | 0/5 [00:00<?, ?it/s]\u001b[A\n",
      "Processing Frames:  20%|██        | 1/5 [00:03<00:12,  3.24s/it]\u001b[A\n",
      "Processing Frames:  40%|████      | 2/5 [00:06<00:10,  3.36s/it]\u001b[A\n",
      "Processing Frames:  60%|██████    | 3/5 [00:09<00:06,  3.20s/it]\u001b[A\n",
      "Processing Frames:  80%|████████  | 4/5 [00:13<00:03,  3.48s/it]\u001b[A\n",
      "Processing Frames: 100%|██████████| 5/5 [00:16<00:00,  3.36s/it]\u001b[A\n",
      "Processing Videos:  54%|█████▍    | 380/698 [2:00:12<1:38:15, 18.54s/it]"
     ]
    },
    {
     "name": "stdout",
     "output_type": "stream",
     "text": [
      "File Name: bethanh117__7343843166468050178.mp4, File Size: 12.86 MB\n",
      "Total frames in video: 2048\n",
      "Frame indices to extract: [0, 409, 819, 1228, 1638]\n",
      "Extracted 5 frames.\n"
     ]
    },
    {
     "name": "stderr",
     "output_type": "stream",
     "text": [
      "\n",
      "Processing Frames:   0%|          | 0/5 [00:00<?, ?it/s]\u001b[A\n",
      "Processing Frames:  20%|██        | 1/5 [00:03<00:13,  3.41s/it]\u001b[A\n",
      "Processing Frames:  40%|████      | 2/5 [00:06<00:10,  3.42s/it]\u001b[A\n",
      "Processing Frames:  60%|██████    | 3/5 [00:09<00:06,  3.15s/it]\u001b[A\n",
      "Processing Frames:  80%|████████  | 4/5 [00:12<00:03,  3.16s/it]\u001b[A\n",
      "Processing Frames: 100%|██████████| 5/5 [00:15<00:00,  3.18s/it]\u001b[A\n",
      "Processing Videos:  55%|█████▍    | 381/698 [2:00:29<1:36:37, 18.29s/it]"
     ]
    },
    {
     "name": "stdout",
     "output_type": "stream",
     "text": [
      "File Name: _tuiruanee49_7272365708166597889.mp4, File Size: 8.06 MB\n",
      "Total frames in video: 1283\n",
      "Frame indices to extract: [0, 256, 513, 769, 1026]\n",
      "Extracted 5 frames.\n"
     ]
    },
    {
     "name": "stderr",
     "output_type": "stream",
     "text": [
      "\n",
      "Processing Frames:   0%|          | 0/5 [00:00<?, ?it/s]\u001b[A\n",
      "Processing Frames:  20%|██        | 1/5 [00:02<00:10,  2.69s/it]\u001b[A\n",
      "Processing Frames:  40%|████      | 2/5 [00:05<00:08,  2.78s/it]\u001b[A\n",
      "Processing Frames:  60%|██████    | 3/5 [00:09<00:06,  3.37s/it]\u001b[A\n",
      "Processing Frames:  80%|████████  | 4/5 [00:12<00:03,  3.22s/it]\u001b[A\n",
      "Processing Frames: 100%|██████████| 5/5 [00:15<00:00,  3.12s/it]\u001b[A\n",
      "Processing Videos:  55%|█████▍    | 382/698 [2:00:47<1:35:28, 18.13s/it]"
     ]
    },
    {
     "name": "stdout",
     "output_type": "stream",
     "text": [
      "File Name: hoaquxpua4a_7168787902892133674.mp4, File Size: 4.43 MB\n",
      "Total frames in video: 383\n",
      "Frame indices to extract: [0, 76, 153, 229, 306]\n",
      "Extracted 5 frames.\n"
     ]
    },
    {
     "name": "stderr",
     "output_type": "stream",
     "text": [
      "\n",
      "Processing Frames:   0%|          | 0/5 [00:00<?, ?it/s]\u001b[A\n",
      "Processing Frames:  20%|██        | 1/5 [00:03<00:12,  3.05s/it]\u001b[A\n",
      "Processing Frames:  40%|████      | 2/5 [00:06<00:09,  3.13s/it]\u001b[A\n",
      "Processing Frames:  60%|██████    | 3/5 [00:09<00:06,  3.09s/it]\u001b[A\n",
      "Processing Frames:  80%|████████  | 4/5 [00:12<00:03,  3.06s/it]\u001b[A\n",
      "Processing Frames: 100%|██████████| 5/5 [00:15<00:00,  3.06s/it]\u001b[A\n",
      "Processing Videos:  55%|█████▍    | 383/698 [2:01:05<1:35:15, 18.15s/it]"
     ]
    },
    {
     "name": "stdout",
     "output_type": "stream",
     "text": [
      "File Name: toanmonnha23_7303462296058072328.mp4, File Size: 12.50 MB\n",
      "Total frames in video: 1989\n",
      "Frame indices to extract: [0, 397, 795, 1193, 1591]\n",
      "Extracted 5 frames.\n"
     ]
    },
    {
     "name": "stderr",
     "output_type": "stream",
     "text": [
      "\n",
      "Processing Frames:   0%|          | 0/5 [00:00<?, ?it/s]\u001b[A\n",
      "Processing Frames:  20%|██        | 1/5 [00:04<00:16,  4.00s/it]\u001b[A\n",
      "Processing Frames:  40%|████      | 2/5 [00:07<00:11,  3.93s/it]\u001b[A\n",
      "Processing Frames:  60%|██████    | 3/5 [00:10<00:07,  3.54s/it]\u001b[A\n",
      "Processing Frames:  80%|████████  | 4/5 [00:14<00:03,  3.55s/it]\u001b[A\n",
      "Processing Frames: 100%|██████████| 5/5 [00:17<00:00,  3.51s/it]\u001b[A\n",
      "Processing Videos:  55%|█████▌    | 384/698 [2:01:25<1:37:44, 18.68s/it]"
     ]
    },
    {
     "name": "stdout",
     "output_type": "stream",
     "text": [
      "File Name: mocuabatoctv_7057817359502855450.mp4, File Size: 10.97 MB\n",
      "Total frames in video: 1132\n",
      "Frame indices to extract: [0, 226, 452, 679, 905]\n",
      "Extracted 5 frames.\n"
     ]
    },
    {
     "name": "stderr",
     "output_type": "stream",
     "text": [
      "\n",
      "Processing Frames:   0%|          | 0/5 [00:00<?, ?it/s]\u001b[A\n",
      "Processing Frames:  20%|██        | 1/5 [00:03<00:12,  3.10s/it]\u001b[A\n",
      "Processing Frames:  40%|████      | 2/5 [00:06<00:09,  3.17s/it]\u001b[A\n",
      "Processing Frames:  60%|██████    | 3/5 [00:09<00:06,  3.18s/it]\u001b[A\n",
      "Processing Frames:  80%|████████  | 4/5 [00:12<00:03,  3.21s/it]\u001b[A\n",
      "Processing Frames: 100%|██████████| 5/5 [00:16<00:00,  3.23s/it]\u001b[A\n",
      "Processing Videos:  55%|█████▌    | 385/698 [2:01:44<1:37:14, 18.64s/it]"
     ]
    },
    {
     "name": "stdout",
     "output_type": "stream",
     "text": [
      "File Name: ccarolinapg_7172633564368997638.mp4, File Size: 5.03 MB\n",
      "Total frames in video: 1031\n",
      "Frame indices to extract: [0, 206, 412, 618, 824]\n",
      "Extracted 5 frames.\n"
     ]
    },
    {
     "name": "stderr",
     "output_type": "stream",
     "text": [
      "\n",
      "Processing Frames:   0%|          | 0/5 [00:00<?, ?it/s]\u001b[A\n",
      "Processing Frames:  20%|██        | 1/5 [00:03<00:12,  3.09s/it]\u001b[A\n",
      "Processing Frames:  40%|████      | 2/5 [00:06<00:09,  3.04s/it]\u001b[A\n",
      "Processing Frames:  60%|██████    | 3/5 [00:09<00:06,  3.10s/it]\u001b[A\n",
      "Processing Frames:  80%|████████  | 4/5 [00:12<00:03,  3.07s/it]\u001b[A\n",
      "Processing Frames: 100%|██████████| 5/5 [00:15<00:00,  3.14s/it]\u001b[A\n",
      "Processing Videos:  55%|█████▌    | 386/698 [2:02:02<1:35:26, 18.36s/it]"
     ]
    },
    {
     "name": "stdout",
     "output_type": "stream",
     "text": [
      "File Name: sausaulamgi_7359093991238880530.mp4, File Size: 5.34 MB\n",
      "Total frames in video: 2335\n",
      "Frame indices to extract: [0, 467, 934, 1401, 1868]\n",
      "Extracted 5 frames.\n"
     ]
    },
    {
     "name": "stderr",
     "output_type": "stream",
     "text": [
      "\n",
      "Processing Frames:   0%|          | 0/5 [00:00<?, ?it/s]\u001b[A\n",
      "Processing Frames:  20%|██        | 1/5 [00:03<00:12,  3.21s/it]\u001b[A\n",
      "Processing Frames:  40%|████      | 2/5 [00:06<00:10,  3.33s/it]\u001b[A\n",
      "Processing Frames:  60%|██████    | 3/5 [00:09<00:06,  3.19s/it]\u001b[A\n",
      "Processing Frames:  80%|████████  | 4/5 [00:12<00:03,  3.12s/it]\u001b[A\n",
      "Processing Frames: 100%|██████████| 5/5 [00:16<00:00,  3.35s/it]\u001b[A\n",
      "Processing Videos:  55%|█████▌    | 387/698 [2:02:20<1:35:17, 18.39s/it]"
     ]
    },
    {
     "name": "stdout",
     "output_type": "stream",
     "text": [
      "File Name: suidavegetarian_7316518465442024722.mp4, File Size: 11.75 MB\n",
      "Total frames in video: 2013\n",
      "Frame indices to extract: [0, 402, 805, 1207, 1610]\n",
      "Extracted 5 frames.\n"
     ]
    },
    {
     "name": "stderr",
     "output_type": "stream",
     "text": [
      "\n",
      "Processing Frames:   0%|          | 0/5 [00:00<?, ?it/s]\u001b[A\n",
      "Processing Frames:  20%|██        | 1/5 [00:03<00:12,  3.25s/it]\u001b[A\n",
      "Processing Frames:  40%|████      | 2/5 [00:06<00:10,  3.35s/it]\u001b[A\n",
      "Processing Frames:  60%|██████    | 3/5 [00:10<00:06,  3.36s/it]\u001b[A\n",
      "Processing Frames:  80%|████████  | 4/5 [00:13<00:03,  3.59s/it]\u001b[A\n",
      "Processing Frames: 100%|██████████| 5/5 [00:17<00:00,  3.44s/it]\u001b[A\n",
      "Processing Videos:  56%|█████▌    | 388/698 [2:02:39<1:36:19, 18.64s/it]"
     ]
    },
    {
     "name": "stdout",
     "output_type": "stream",
     "text": [
      "File Name: funnycats0ftiktok_7313586883789917482.mp4, File Size: 9.01 MB\n",
      "Total frames in video: 1982\n",
      "Frame indices to extract: [0, 396, 792, 1189, 1585]\n",
      "Extracted 5 frames.\n"
     ]
    },
    {
     "name": "stderr",
     "output_type": "stream",
     "text": [
      "\n",
      "Processing Frames:   0%|          | 0/5 [00:00<?, ?it/s]\u001b[A\n",
      "Processing Frames:  20%|██        | 1/5 [00:03<00:13,  3.40s/it]\u001b[A\n",
      "Processing Frames:  40%|████      | 2/5 [00:06<00:09,  3.17s/it]\u001b[A\n",
      "Processing Frames:  60%|██████    | 3/5 [00:10<00:07,  3.58s/it]\u001b[A\n",
      "Processing Frames:  80%|████████  | 4/5 [00:14<00:03,  3.64s/it]\u001b[A\n",
      "Processing Frames: 100%|██████████| 5/5 [00:17<00:00,  3.48s/it]\u001b[A\n",
      "Processing Videos:  56%|█████▌    | 389/698 [2:02:58<1:36:46, 18.79s/it]"
     ]
    },
    {
     "name": "stdout",
     "output_type": "stream",
     "text": [
      "File Name: nahuynhcsee_7244841566685170950.mp4, File Size: 3.84 MB\n",
      "Total frames in video: 1114\n",
      "Frame indices to extract: [0, 222, 445, 668, 891]\n",
      "Extracted 5 frames.\n"
     ]
    },
    {
     "name": "stderr",
     "output_type": "stream",
     "text": [
      "\n",
      "Processing Frames:   0%|          | 0/5 [00:00<?, ?it/s]\u001b[A\n",
      "Processing Frames:  20%|██        | 1/5 [00:03<00:12,  3.04s/it]\u001b[A\n",
      "Processing Frames:  40%|████      | 2/5 [00:06<00:09,  3.10s/it]\u001b[A\n",
      "Processing Frames:  60%|██████    | 3/5 [00:09<00:06,  3.07s/it]\u001b[A\n",
      "Processing Frames:  80%|████████  | 4/5 [00:14<00:03,  3.75s/it]\u001b[A\n",
      "Processing Frames: 100%|██████████| 5/5 [00:17<00:00,  3.51s/it]\u001b[A\n",
      "Processing Videos:  56%|█████▌    | 390/698 [2:03:18<1:37:36, 19.01s/it]"
     ]
    },
    {
     "name": "stdout",
     "output_type": "stream",
     "text": [
      "File Name: elyitclean_7214482873473060123.mp4, File Size: 19.10 MB\n",
      "Total frames in video: 5409\n",
      "Frame indices to extract: [0, 1081, 2163, 3245, 4327]\n",
      "Extracted 5 frames.\n"
     ]
    },
    {
     "name": "stderr",
     "output_type": "stream",
     "text": [
      "\n",
      "Processing Frames:   0%|          | 0/5 [00:00<?, ?it/s]\u001b[A\n",
      "Processing Frames:  20%|██        | 1/5 [00:03<00:14,  3.56s/it]\u001b[A\n",
      "Processing Frames:  40%|████      | 2/5 [00:06<00:10,  3.35s/it]\u001b[A\n",
      "Processing Frames:  60%|██████    | 3/5 [00:10<00:06,  3.30s/it]\u001b[A\n",
      "Processing Frames:  80%|████████  | 4/5 [00:13<00:03,  3.26s/it]\u001b[A\n",
      "Processing Frames: 100%|██████████| 5/5 [00:16<00:00,  3.28s/it]\u001b[A\n",
      "Processing Videos:  56%|█████▌    | 391/698 [2:03:37<1:36:50, 18.93s/it]"
     ]
    },
    {
     "name": "stdout",
     "output_type": "stream",
     "text": [
      "File Name: vuthutramy_7235496939624598789.mp4, File Size: 19.25 MB\n",
      "Total frames in video: 1879\n",
      "Frame indices to extract: [0, 375, 751, 1127, 1503]\n",
      "Extracted 5 frames.\n"
     ]
    },
    {
     "name": "stderr",
     "output_type": "stream",
     "text": [
      "\n",
      "Processing Frames:   0%|          | 0/5 [00:00<?, ?it/s]\u001b[A\n",
      "Processing Frames:  20%|██        | 1/5 [00:03<00:14,  3.60s/it]\u001b[A\n",
      "Processing Frames:  40%|████      | 2/5 [00:06<00:09,  3.25s/it]\u001b[A\n",
      "Processing Frames:  60%|██████    | 3/5 [00:09<00:06,  3.24s/it]\u001b[A\n",
      "Processing Frames:  80%|████████  | 4/5 [00:13<00:03,  3.36s/it]\u001b[A\n",
      "Processing Frames: 100%|██████████| 5/5 [00:17<00:00,  3.46s/it]\u001b[A\n",
      "Processing Videos:  56%|█████▌    | 392/698 [2:03:56<1:37:24, 19.10s/it]"
     ]
    },
    {
     "name": "stdout",
     "output_type": "stream",
     "text": [
      "File Name: rosannagray150_7260571462933728554.mp4, File Size: 2.63 MB\n",
      "Total frames in video: 691\n",
      "Frame indices to extract: [0, 138, 276, 414, 552]\n",
      "Extracted 5 frames.\n"
     ]
    },
    {
     "name": "stderr",
     "output_type": "stream",
     "text": [
      "\n",
      "Processing Frames:   0%|          | 0/5 [00:00<?, ?it/s]\u001b[A\n",
      "Processing Frames:  20%|██        | 1/5 [00:03<00:15,  3.80s/it]\u001b[A\n",
      "Processing Frames:  40%|████      | 2/5 [00:06<00:09,  3.22s/it]\u001b[A\n",
      "Processing Frames:  60%|██████    | 3/5 [00:09<00:06,  3.12s/it]\u001b[A\n",
      "Processing Frames:  80%|████████  | 4/5 [00:12<00:03,  3.02s/it]\u001b[A\n",
      "Processing Frames: 100%|██████████| 5/5 [00:15<00:00,  3.10s/it]\u001b[A\n",
      "Processing Videos:  56%|█████▋    | 393/698 [2:04:13<1:34:21, 18.56s/it]"
     ]
    },
    {
     "name": "stdout",
     "output_type": "stream",
     "text": [
      "File Name: giadungtq8_7347167446505131266.mp4, File Size: 0.03 MB\n",
      "Total frames in video: 125\n",
      "Frame indices to extract: [0, 25, 50, 75, 100]\n",
      "Extracted 5 frames.\n"
     ]
    },
    {
     "name": "stderr",
     "output_type": "stream",
     "text": [
      "\n",
      "Processing Frames:   0%|          | 0/5 [00:00<?, ?it/s]\u001b[A\n",
      "Processing Frames:  20%|██        | 1/5 [00:03<00:12,  3.21s/it]\u001b[A\n",
      "Processing Frames:  40%|████      | 2/5 [00:06<00:09,  3.21s/it]\u001b[A\n",
      "Processing Frames:  60%|██████    | 3/5 [00:09<00:06,  3.19s/it]\u001b[A\n",
      "Processing Frames:  80%|████████  | 4/5 [00:13<00:03,  3.48s/it]\u001b[A\n",
      "Processing Frames: 100%|██████████| 5/5 [00:16<00:00,  3.37s/it]\u001b[A\n",
      "Processing Videos:  56%|█████▋    | 394/698 [2:04:32<1:33:44, 18.50s/it]"
     ]
    },
    {
     "name": "stdout",
     "output_type": "stream",
     "text": [
      "File Name: hoshiphan_7366260246098021640.mp4, File Size: 10.06 MB\n",
      "Total frames in video: 2313\n",
      "Frame indices to extract: [0, 462, 925, 1387, 1850]\n",
      "Extracted 5 frames.\n"
     ]
    },
    {
     "name": "stderr",
     "output_type": "stream",
     "text": [
      "\n",
      "Processing Frames:   0%|          | 0/5 [00:00<?, ?it/s]\u001b[A\n",
      "Processing Frames:  20%|██        | 1/5 [00:03<00:15,  3.94s/it]\u001b[A\n",
      "Processing Frames:  40%|████      | 2/5 [00:07<00:10,  3.44s/it]\u001b[A\n",
      "Processing Frames:  60%|██████    | 3/5 [00:10<00:06,  3.32s/it]\u001b[A\n",
      "Processing Frames:  80%|████████  | 4/5 [00:13<00:03,  3.20s/it]\u001b[A\n",
      "Processing Frames: 100%|██████████| 5/5 [00:17<00:00,  3.51s/it]\u001b[A\n",
      "Processing Videos:  57%|█████▋    | 395/698 [2:04:51<1:34:34, 18.73s/it]"
     ]
    },
    {
     "name": "stdout",
     "output_type": "stream",
     "text": [
      "File Name: duongnhatle.dnl_7320494569433337095.mp4, File Size: 2.14 MB\n",
      "Total frames in video: 753\n",
      "Frame indices to extract: [0, 150, 301, 451, 602]\n",
      "Extracted 5 frames.\n"
     ]
    },
    {
     "name": "stderr",
     "output_type": "stream",
     "text": [
      "\n",
      "Processing Frames:   0%|          | 0/5 [00:00<?, ?it/s]\u001b[A\n",
      "Processing Frames:  20%|██        | 1/5 [00:02<00:11,  2.88s/it]\u001b[A\n",
      "Processing Frames:  40%|████      | 2/5 [00:06<00:09,  3.25s/it]\u001b[A\n",
      "Processing Frames:  60%|██████    | 3/5 [00:10<00:07,  3.76s/it]\u001b[A\n",
      "Processing Frames:  80%|████████  | 4/5 [00:14<00:03,  3.68s/it]\u001b[A\n",
      "Processing Frames: 100%|██████████| 5/5 [00:17<00:00,  3.59s/it]\u001b[A\n",
      "Processing Videos:  57%|█████▋    | 396/698 [2:05:11<1:36:03, 19.08s/it]"
     ]
    },
    {
     "name": "stdout",
     "output_type": "stream",
     "text": [
      "File Name: pest_cute_7277369445238967560.mp4, File Size: 2.46 MB\n",
      "Total frames in video: 873\n",
      "Frame indices to extract: [0, 174, 349, 523, 698]\n",
      "Extracted 5 frames.\n"
     ]
    },
    {
     "name": "stderr",
     "output_type": "stream",
     "text": [
      "\n",
      "Processing Frames:   0%|          | 0/5 [00:00<?, ?it/s]\u001b[A\n",
      "Processing Frames:  20%|██        | 1/5 [00:02<00:10,  2.68s/it]\u001b[A\n",
      "Processing Frames:  40%|████      | 2/5 [00:06<00:09,  3.12s/it]\u001b[A\n",
      "Processing Frames:  60%|██████    | 3/5 [00:09<00:06,  3.16s/it]\u001b[A\n",
      "Processing Frames:  80%|████████  | 4/5 [00:12<00:03,  3.24s/it]\u001b[A\n",
      "Processing Frames: 100%|██████████| 5/5 [00:15<00:00,  3.15s/it]\u001b[A\n",
      "Processing Videos:  57%|█████▋    | 397/698 [2:05:29<1:34:07, 18.76s/it]"
     ]
    },
    {
     "name": "stdout",
     "output_type": "stream",
     "text": [
      "File Name: maythangtuw_7224152585324875014.mp4, File Size: 5.82 MB\n",
      "Total frames in video: 1153\n",
      "Frame indices to extract: [0, 230, 461, 691, 922]\n",
      "Extracted 5 frames.\n"
     ]
    },
    {
     "name": "stderr",
     "output_type": "stream",
     "text": [
      "\n",
      "Processing Frames:   0%|          | 0/5 [00:00<?, ?it/s]\u001b[A\n",
      "Processing Frames:  20%|██        | 1/5 [00:03<00:15,  3.94s/it]\u001b[A\n",
      "Processing Frames:  40%|████      | 2/5 [00:07<00:11,  3.75s/it]\u001b[A\n",
      "Processing Frames:  60%|██████    | 3/5 [00:10<00:07,  3.51s/it]\u001b[A\n",
      "Processing Frames:  80%|████████  | 4/5 [00:14<00:03,  3.52s/it]\u001b[A\n",
      "Processing Frames: 100%|██████████| 5/5 [00:17<00:00,  3.55s/it]\u001b[A\n",
      "Processing Videos:  57%|█████▋    | 398/698 [2:05:48<1:34:53, 18.98s/it]"
     ]
    },
    {
     "name": "stdout",
     "output_type": "stream",
     "text": [
      "File Name: blackpinkupdate31_7252191888118172933.mp4, File Size: 12.59 MB\n",
      "Total frames in video: 2192\n",
      "Frame indices to extract: [0, 438, 876, 1315, 1753]\n",
      "Extracted 5 frames.\n"
     ]
    },
    {
     "name": "stderr",
     "output_type": "stream",
     "text": [
      "\n",
      "Processing Frames:   0%|          | 0/5 [00:00<?, ?it/s]\u001b[A\n",
      "Processing Frames:  20%|██        | 1/5 [00:03<00:12,  3.24s/it]\u001b[A\n",
      "Processing Frames:  40%|████      | 2/5 [00:06<00:09,  3.32s/it]\u001b[A\n",
      "Processing Frames:  60%|██████    | 3/5 [00:10<00:06,  3.36s/it]\u001b[A\n",
      "Processing Frames:  80%|████████  | 4/5 [00:13<00:03,  3.30s/it]\u001b[A\n",
      "Processing Frames: 100%|██████████| 5/5 [00:17<00:00,  3.53s/it]\u001b[A\n",
      "Processing Videos:  57%|█████▋    | 399/698 [2:06:08<1:35:30, 19.16s/it]"
     ]
    },
    {
     "name": "stdout",
     "output_type": "stream",
     "text": [
      "File Name: thanhne29903_7364397151645945106.mp4, File Size: 5.66 MB\n",
      "Total frames in video: 1264\n",
      "Frame indices to extract: [0, 252, 505, 758, 1011]\n",
      "Extracted 5 frames.\n"
     ]
    },
    {
     "name": "stderr",
     "output_type": "stream",
     "text": [
      "\n",
      "Processing Frames:   0%|          | 0/5 [00:00<?, ?it/s]\u001b[A\n",
      "Processing Frames:  20%|██        | 1/5 [00:03<00:15,  3.93s/it]\u001b[A\n",
      "Processing Frames:  40%|████      | 2/5 [00:06<00:08,  2.97s/it]\u001b[A\n",
      "Processing Frames:  60%|██████    | 3/5 [00:08<00:05,  2.76s/it]\u001b[A\n",
      "Processing Frames:  80%|████████  | 4/5 [00:11<00:02,  2.64s/it]\u001b[A\n",
      "Processing Frames: 100%|██████████| 5/5 [00:14<00:00,  2.95s/it]\u001b[A\n",
      "Processing Videos:  57%|█████▋    | 400/698 [2:06:26<1:33:47, 18.88s/it]"
     ]
    },
    {
     "name": "stdout",
     "output_type": "stream",
     "text": [
      "File Name: jan_30129_7372760549874044176.mp4, File Size: 0.55 MB\n",
      "Total frames in video: 693\n",
      "Frame indices to extract: [0, 138, 277, 415, 554]\n",
      "Extracted 5 frames.\n"
     ]
    },
    {
     "name": "stderr",
     "output_type": "stream",
     "text": [
      "\n",
      "Processing Frames:   0%|          | 0/5 [00:00<?, ?it/s]\u001b[A\n",
      "Processing Frames:  20%|██        | 1/5 [00:03<00:15,  3.99s/it]\u001b[A\n",
      "Processing Frames:  40%|████      | 2/5 [00:08<00:13,  4.49s/it]\u001b[A\n",
      "Processing Frames:  60%|██████    | 3/5 [00:12<00:08,  4.30s/it]\u001b[A\n",
      "Processing Frames:  80%|████████  | 4/5 [00:17<00:04,  4.52s/it]\u001b[A\n",
      "Processing Frames: 100%|██████████| 5/5 [00:21<00:00,  4.31s/it]\u001b[A\n",
      "Processing Videos:  57%|█████▋    | 401/698 [2:06:49<1:39:43, 20.15s/it]"
     ]
    },
    {
     "name": "stdout",
     "output_type": "stream",
     "text": [
      "File Name: color_tour_7246798062008421638.mp4, File Size: 14.76 MB\n",
      "Total frames in video: 2672\n",
      "Frame indices to extract: [0, 534, 1068, 1603, 2137]\n",
      "Extracted 5 frames.\n"
     ]
    },
    {
     "name": "stderr",
     "output_type": "stream",
     "text": [
      "\n",
      "Processing Frames:   0%|          | 0/5 [00:00<?, ?it/s]\u001b[A\n",
      "Processing Frames:  20%|██        | 1/5 [00:03<00:12,  3.06s/it]\u001b[A\n",
      "Processing Frames:  40%|████      | 2/5 [00:06<00:09,  3.04s/it]\u001b[A\n",
      "Processing Frames:  60%|██████    | 3/5 [00:09<00:06,  3.31s/it]\u001b[A\n",
      "Processing Frames:  80%|████████  | 4/5 [00:13<00:03,  3.64s/it]\u001b[A\n",
      "Processing Frames: 100%|██████████| 5/5 [00:17<00:00,  3.50s/it]\u001b[A\n",
      "Processing Videos:  58%|█████▊    | 402/698 [2:07:09<1:38:34, 19.98s/it]"
     ]
    },
    {
     "name": "stdout",
     "output_type": "stream",
     "text": [
      "File Name: theyluvsoelse_7277777759886134535.mp4, File Size: 0.61 MB\n",
      "Total frames in video: 420\n",
      "Frame indices to extract: [0, 84, 168, 252, 336]\n",
      "Extracted 5 frames.\n"
     ]
    },
    {
     "name": "stderr",
     "output_type": "stream",
     "text": [
      "\n",
      "Processing Frames:   0%|          | 0/5 [00:00<?, ?it/s]\u001b[A\n",
      "Processing Frames:  20%|██        | 1/5 [00:03<00:14,  3.66s/it]\u001b[A\n",
      "Processing Frames:  40%|████      | 2/5 [00:06<00:10,  3.41s/it]\u001b[A\n",
      "Processing Frames:  60%|██████    | 3/5 [00:10<00:06,  3.33s/it]\u001b[A\n",
      "Processing Frames:  80%|████████  | 4/5 [00:13<00:03,  3.29s/it]\u001b[A\n",
      "Processing Frames: 100%|██████████| 5/5 [00:16<00:00,  3.31s/it]\u001b[A\n",
      "Processing Videos:  58%|█████▊    | 403/698 [2:07:28<1:36:20, 19.60s/it]"
     ]
    },
    {
     "name": "stdout",
     "output_type": "stream",
     "text": [
      "File Name: mutex_official_7090803256338746625.mp4, File Size: 5.77 MB\n",
      "Total frames in video: 3792\n",
      "Frame indices to extract: [0, 758, 1516, 2275, 3033]\n",
      "Extracted 5 frames.\n"
     ]
    },
    {
     "name": "stderr",
     "output_type": "stream",
     "text": [
      "\n",
      "Processing Frames:   0%|          | 0/5 [00:00<?, ?it/s]\u001b[A\n",
      "Processing Frames:  20%|██        | 1/5 [00:03<00:15,  3.82s/it]\u001b[A\n",
      "Processing Frames:  40%|████      | 2/5 [00:08<00:13,  4.46s/it]\u001b[A\n",
      "Processing Frames:  60%|██████    | 3/5 [00:12<00:08,  4.08s/it]\u001b[A\n",
      "Processing Frames:  80%|████████  | 4/5 [00:18<00:04,  4.71s/it]\u001b[A\n",
      "Processing Frames: 100%|██████████| 5/5 [00:21<00:00,  4.30s/it]\u001b[A\n",
      "Processing Videos:  58%|█████▊    | 404/698 [2:07:51<1:41:36, 20.74s/it]"
     ]
    },
    {
     "name": "stdout",
     "output_type": "stream",
     "text": [
      "File Name: datdo_garden_7206486785004686618.mp4, File Size: 27.96 MB\n",
      "Total frames in video: 2068\n",
      "Frame indices to extract: [0, 413, 827, 1240, 1654]\n",
      "Extracted 5 frames.\n"
     ]
    },
    {
     "name": "stderr",
     "output_type": "stream",
     "text": [
      "\n",
      "Processing Frames:   0%|          | 0/5 [00:00<?, ?it/s]\u001b[A\n",
      "Processing Frames:  20%|██        | 1/5 [00:03<00:12,  3.06s/it]\u001b[A\n",
      "Processing Frames:  40%|████      | 2/5 [00:05<00:08,  2.95s/it]\u001b[A\n",
      "Processing Frames:  60%|██████    | 3/5 [00:09<00:06,  3.07s/it]\u001b[A\n",
      "Processing Frames:  80%|████████  | 4/5 [00:12<00:03,  3.05s/it]\u001b[A\n",
      "Processing Frames: 100%|██████████| 5/5 [00:15<00:00,  3.12s/it]\u001b[A\n",
      "Processing Videos:  58%|█████▊    | 405/698 [2:08:10<1:38:19, 20.14s/it]"
     ]
    },
    {
     "name": "stdout",
     "output_type": "stream",
     "text": [
      "File Name: tranthanhtu79799_6909461297314778370.mp4, File Size: 0.71 MB\n",
      "Total frames in video: 277\n",
      "Frame indices to extract: [0, 55, 110, 166, 221]\n",
      "Extracted 5 frames.\n"
     ]
    },
    {
     "name": "stderr",
     "output_type": "stream",
     "text": [
      "\n",
      "Processing Frames:   0%|          | 0/5 [00:00<?, ?it/s]\u001b[A\n",
      "Processing Frames:  20%|██        | 1/5 [00:03<00:13,  3.41s/it]\u001b[A\n",
      "Processing Frames:  40%|████      | 2/5 [00:08<00:12,  4.17s/it]\u001b[A\n",
      "Processing Frames:  60%|██████    | 3/5 [00:11<00:07,  3.98s/it]\u001b[A\n",
      "Processing Frames:  80%|████████  | 4/5 [00:16<00:04,  4.19s/it]\u001b[A\n",
      "Processing Frames: 100%|██████████| 5/5 [00:19<00:00,  3.93s/it]\u001b[A\n",
      "Processing Videos:  58%|█████▊    | 406/698 [2:08:31<1:40:06, 20.57s/it]"
     ]
    },
    {
     "name": "stdout",
     "output_type": "stream",
     "text": [
      "File Name: yimi.toys_7369053122762722567.mp4, File Size: 4.83 MB\n",
      "Total frames in video: 1214\n",
      "Frame indices to extract: [0, 242, 485, 728, 971]\n",
      "Extracted 5 frames.\n"
     ]
    },
    {
     "name": "stderr",
     "output_type": "stream",
     "text": [
      "\n",
      "Processing Frames:   0%|          | 0/5 [00:00<?, ?it/s]\u001b[A\n",
      "Processing Frames:  20%|██        | 1/5 [00:03<00:15,  3.76s/it]\u001b[A\n",
      "Processing Frames:  40%|████      | 2/5 [00:07<00:11,  3.90s/it]\u001b[A\n",
      "Processing Frames:  60%|██████    | 3/5 [00:11<00:07,  3.85s/it]\u001b[A\n",
      "Processing Frames:  80%|████████  | 4/5 [00:15<00:03,  3.87s/it]\u001b[A\n",
      "Processing Frames: 100%|██████████| 5/5 [00:19<00:00,  3.92s/it]\u001b[A\n",
      "Processing Videos:  58%|█████▊    | 407/698 [2:08:53<1:40:53, 20.80s/it]"
     ]
    },
    {
     "name": "stdout",
     "output_type": "stream",
     "text": [
      "File Name: colortour68_7359011077553753345.mp4, File Size: 3.81 MB\n",
      "Total frames in video: 457\n",
      "Frame indices to extract: [0, 91, 182, 274, 365]\n",
      "Extracted 5 frames.\n"
     ]
    },
    {
     "name": "stderr",
     "output_type": "stream",
     "text": [
      "\n",
      "Processing Frames:   0%|          | 0/5 [00:00<?, ?it/s]\u001b[A\n",
      "Processing Frames:  20%|██        | 1/5 [00:03<00:13,  3.48s/it]\u001b[A\n",
      "Processing Frames:  40%|████      | 2/5 [00:06<00:09,  3.32s/it]\u001b[A\n",
      "Processing Frames:  60%|██████    | 3/5 [00:09<00:06,  3.18s/it]\u001b[A\n",
      "Processing Frames:  80%|████████  | 4/5 [00:13<00:03,  3.34s/it]\u001b[A\n",
      "Processing Frames: 100%|██████████| 5/5 [00:16<00:00,  3.34s/it]\u001b[A\n",
      "Processing Videos:  58%|█████▊    | 408/698 [2:09:12<1:38:01, 20.28s/it]"
     ]
    },
    {
     "name": "stdout",
     "output_type": "stream",
     "text": [
      "File Name: anden75_7364377557006880018.mp4, File Size: 30.63 MB\n",
      "Total frames in video: 5761\n",
      "Frame indices to extract: [0, 1152, 2304, 3456, 4608]\n",
      "Extracted 5 frames.\n"
     ]
    },
    {
     "name": "stderr",
     "output_type": "stream",
     "text": [
      "\n",
      "Processing Frames:   0%|          | 0/5 [00:00<?, ?it/s]\u001b[A\n",
      "Processing Frames:  20%|██        | 1/5 [00:03<00:15,  3.82s/it]\u001b[A\n",
      "Processing Frames:  40%|████      | 2/5 [00:06<00:10,  3.39s/it]\u001b[A\n",
      "Processing Frames:  60%|██████    | 3/5 [00:10<00:07,  3.52s/it]\u001b[A\n",
      "Processing Frames:  80%|████████  | 4/5 [00:13<00:03,  3.42s/it]\u001b[A\n",
      "Processing Frames: 100%|██████████| 5/5 [00:16<00:00,  3.28s/it]\u001b[A\n",
      "Processing Videos:  59%|█████▊    | 409/698 [2:09:30<1:34:52, 19.70s/it]"
     ]
    },
    {
     "name": "stdout",
     "output_type": "stream",
     "text": [
      "File Name: chilly.hah_7364746094141558024.mp4, File Size: 5.22 MB\n",
      "Total frames in video: 3933\n",
      "Frame indices to extract: [0, 786, 1573, 2359, 3146]\n",
      "Extracted 5 frames.\n"
     ]
    },
    {
     "name": "stderr",
     "output_type": "stream",
     "text": [
      "\n",
      "Processing Frames:   0%|          | 0/5 [00:00<?, ?it/s]\u001b[A\n",
      "Processing Frames:  20%|██        | 1/5 [00:03<00:14,  3.61s/it]\u001b[A\n",
      "Processing Frames:  40%|████      | 2/5 [00:06<00:10,  3.40s/it]\u001b[A\n",
      "Processing Frames:  60%|██████    | 3/5 [00:10<00:06,  3.30s/it]\u001b[A\n",
      "Processing Frames:  80%|████████  | 4/5 [00:13<00:03,  3.26s/it]\u001b[A\n",
      "Processing Frames: 100%|██████████| 5/5 [00:16<00:00,  3.30s/it]\u001b[A\n",
      "Processing Videos:  59%|█████▊    | 410/698 [2:09:48<1:32:29, 19.27s/it]"
     ]
    },
    {
     "name": "stdout",
     "output_type": "stream",
     "text": [
      "File Name: nhacona_7019630554148539674.mp4, File Size: 4.33 MB\n",
      "Total frames in video: 996\n",
      "Frame indices to extract: [0, 199, 398, 597, 796]\n",
      "Extracted 5 frames.\n"
     ]
    },
    {
     "name": "stderr",
     "output_type": "stream",
     "text": [
      "\n",
      "Processing Frames:   0%|          | 0/5 [00:00<?, ?it/s]\u001b[A\n",
      "Processing Frames:  20%|██        | 1/5 [00:02<00:11,  2.89s/it]\u001b[A\n",
      "Processing Frames:  40%|████      | 2/5 [00:06<00:10,  3.56s/it]\u001b[A\n",
      "Processing Frames:  60%|██████    | 3/5 [00:09<00:06,  3.34s/it]\u001b[A\n",
      "Processing Frames:  80%|████████  | 4/5 [00:12<00:03,  3.07s/it]\u001b[A\n",
      "Processing Frames: 100%|██████████| 5/5 [00:16<00:00,  3.21s/it]\u001b[A\n",
      "Processing Videos:  59%|█████▉    | 411/698 [2:10:06<1:30:10, 18.85s/it]"
     ]
    },
    {
     "name": "stdout",
     "output_type": "stream",
     "text": [
      "File Name: toongadventure_7349435702389607681.mp4, File Size: 2.60 MB\n",
      "Total frames in video: 513\n",
      "Frame indices to extract: [0, 102, 205, 307, 410]\n",
      "Extracted 5 frames.\n"
     ]
    },
    {
     "name": "stderr",
     "output_type": "stream",
     "text": [
      "\n",
      "Processing Frames:   0%|          | 0/5 [00:00<?, ?it/s]\u001b[A\n",
      "Processing Frames:  20%|██        | 1/5 [00:03<00:12,  3.11s/it]\u001b[A\n",
      "Processing Frames:  40%|████      | 2/5 [00:06<00:10,  3.49s/it]\u001b[A\n",
      "Processing Frames:  60%|██████    | 3/5 [00:08<00:05,  2.86s/it]\u001b[A\n",
      "Processing Frames:  80%|████████  | 4/5 [00:12<00:02,  2.96s/it]\u001b[A\n",
      "Processing Frames: 100%|██████████| 5/5 [00:15<00:00,  3.02s/it]\u001b[A\n",
      "Processing Videos:  59%|█████▉    | 412/698 [2:10:23<1:27:28, 18.35s/it]"
     ]
    },
    {
     "name": "stdout",
     "output_type": "stream",
     "text": [
      "File Name: anden75_7353984322619051284.mp4, File Size: 45.95 MB\n",
      "Total frames in video: 5480\n",
      "Frame indices to extract: [0, 1096, 2192, 3288, 4384]\n",
      "Extracted 5 frames.\n"
     ]
    },
    {
     "name": "stderr",
     "output_type": "stream",
     "text": [
      "\n",
      "Processing Frames:   0%|          | 0/5 [00:00<?, ?it/s]\u001b[A\n",
      "Processing Frames:  20%|██        | 1/5 [00:04<00:17,  4.47s/it]\u001b[A\n",
      "Processing Frames:  40%|████      | 2/5 [00:07<00:10,  3.41s/it]\u001b[A\n",
      "Processing Frames:  60%|██████    | 3/5 [00:10<00:06,  3.23s/it]\u001b[A\n",
      "Processing Frames:  80%|████████  | 4/5 [00:13<00:03,  3.31s/it]\u001b[A\n",
      "Processing Frames: 100%|██████████| 5/5 [00:15<00:00,  3.17s/it]\u001b[A\n",
      "Processing Videos:  59%|█████▉    | 413/698 [2:10:41<1:26:43, 18.26s/it]"
     ]
    },
    {
     "name": "stdout",
     "output_type": "stream",
     "text": [
      "File Name: meowisthebest1_7027444402515758362.mp4, File Size: 9.42 MB\n",
      "Total frames in video: 1735\n",
      "Frame indices to extract: [0, 347, 694, 1041, 1388]\n",
      "Extracted 5 frames.\n"
     ]
    },
    {
     "name": "stderr",
     "output_type": "stream",
     "text": [
      "\n",
      "Processing Frames:   0%|          | 0/5 [00:00<?, ?it/s]\u001b[A\n",
      "Processing Frames:  20%|██        | 1/5 [00:03<00:12,  3.23s/it]\u001b[A\n",
      "Processing Frames:  40%|████      | 2/5 [00:07<00:10,  3.57s/it]\u001b[A\n",
      "Processing Frames:  60%|██████    | 3/5 [00:10<00:06,  3.32s/it]\u001b[A\n",
      "Processing Frames:  80%|████████  | 4/5 [00:13<00:03,  3.26s/it]\u001b[A\n",
      "Processing Frames: 100%|██████████| 5/5 [00:16<00:00,  3.33s/it]\u001b[A\n",
      "Processing Videos:  59%|█████▉    | 414/698 [2:11:01<1:27:41, 18.53s/it]"
     ]
    },
    {
     "name": "stdout",
     "output_type": "stream",
     "text": [
      "File Name: quyensachnho_7057333022210657538.mp4, File Size: 2.54 MB\n",
      "Total frames in video: 449\n",
      "Frame indices to extract: [0, 89, 179, 269, 359]\n",
      "Extracted 5 frames.\n"
     ]
    },
    {
     "name": "stderr",
     "output_type": "stream",
     "text": [
      "\n",
      "Processing Frames:   0%|          | 0/5 [00:00<?, ?it/s]\u001b[A\n",
      "Processing Frames:  20%|██        | 1/5 [00:03<00:12,  3.04s/it]\u001b[A\n",
      "Processing Frames:  40%|████      | 2/5 [00:06<00:10,  3.47s/it]\u001b[A\n",
      "Processing Frames:  60%|██████    | 3/5 [00:09<00:06,  3.27s/it]\u001b[A\n",
      "Processing Frames:  80%|████████  | 4/5 [00:13<00:03,  3.38s/it]\u001b[A\n",
      "Processing Frames: 100%|██████████| 5/5 [00:16<00:00,  3.37s/it]\u001b[A\n",
      "Processing Videos:  59%|█████▉    | 415/698 [2:11:20<1:28:00, 18.66s/it]"
     ]
    },
    {
     "name": "stdout",
     "output_type": "stream",
     "text": [
      "File Name: frogfunny__7244947965754789147.mp4, File Size: 3.09 MB\n",
      "Total frames in video: 335\n",
      "Frame indices to extract: [0, 67, 134, 201, 268]\n",
      "Extracted 5 frames.\n"
     ]
    },
    {
     "name": "stderr",
     "output_type": "stream",
     "text": [
      "\n",
      "Processing Frames:   0%|          | 0/5 [00:00<?, ?it/s]\u001b[A\n",
      "Processing Frames:  20%|██        | 1/5 [00:03<00:12,  3.24s/it]\u001b[A\n",
      "Processing Frames:  40%|████      | 2/5 [00:07<00:10,  3.57s/it]\u001b[A\n",
      "Processing Frames:  60%|██████    | 3/5 [00:10<00:06,  3.49s/it]\u001b[A\n",
      "Processing Frames:  80%|████████  | 4/5 [00:14<00:03,  3.86s/it]\u001b[A\n",
      "Processing Frames: 100%|██████████| 5/5 [00:18<00:00,  3.66s/it]\u001b[A\n",
      "Processing Videos:  60%|█████▉    | 416/698 [2:11:40<1:30:21, 19.22s/it]"
     ]
    },
    {
     "name": "stdout",
     "output_type": "stream",
     "text": [
      "File Name: yaeeriii_7269393032892419329.mp4, File Size: 3.90 MB\n",
      "Total frames in video: 784\n",
      "Frame indices to extract: [0, 156, 313, 470, 627]\n",
      "Extracted 5 frames.\n"
     ]
    },
    {
     "name": "stderr",
     "output_type": "stream",
     "text": [
      "\n",
      "Processing Frames:   0%|          | 0/5 [00:00<?, ?it/s]\u001b[A\n",
      "Processing Frames:  20%|██        | 1/5 [00:03<00:12,  3.23s/it]\u001b[A\n",
      "Processing Frames:  40%|████      | 2/5 [00:06<00:09,  3.01s/it]\u001b[A\n",
      "Processing Frames:  60%|██████    | 3/5 [00:09<00:06,  3.04s/it]\u001b[A\n",
      "Processing Frames:  80%|████████  | 4/5 [00:12<00:03,  3.11s/it]\u001b[A\n",
      "Processing Frames: 100%|██████████| 5/5 [00:16<00:00,  3.27s/it]\u001b[A\n",
      "Processing Videos:  60%|█████▉    | 417/698 [2:11:59<1:28:57, 18.99s/it]"
     ]
    },
    {
     "name": "stdout",
     "output_type": "stream",
     "text": [
      "File Name: bombom_vlog_7371424001098403080.mp4, File Size: 83.09 MB\n",
      "Total frames in video: 15348\n",
      "Frame indices to extract: [0, 3069, 6139, 9208, 12278]\n",
      "Extracted 5 frames.\n"
     ]
    },
    {
     "name": "stderr",
     "output_type": "stream",
     "text": [
      "\n",
      "Processing Frames:   0%|          | 0/5 [00:00<?, ?it/s]\u001b[A\n",
      "Processing Frames:  20%|██        | 1/5 [00:03<00:12,  3.06s/it]\u001b[A\n",
      "Processing Frames:  40%|████      | 2/5 [00:07<00:11,  3.69s/it]\u001b[A\n",
      "Processing Frames:  60%|██████    | 3/5 [00:10<00:07,  3.56s/it]\u001b[A\n",
      "Processing Frames:  80%|████████  | 4/5 [00:13<00:03,  3.35s/it]\u001b[A\n",
      "Processing Frames: 100%|██████████| 5/5 [00:17<00:00,  3.40s/it]\u001b[A\n",
      "Processing Videos:  60%|█████▉    | 418/698 [2:12:18<1:29:17, 19.13s/it]"
     ]
    },
    {
     "name": "stdout",
     "output_type": "stream",
     "text": [
      "File Name: dongam_den.vauvn_7232565070809648390.mp4, File Size: 1.66 MB\n",
      "Total frames in video: 647\n",
      "Frame indices to extract: [0, 129, 258, 388, 517]\n",
      "Extracted 5 frames.\n"
     ]
    },
    {
     "name": "stderr",
     "output_type": "stream",
     "text": [
      "\n",
      "Processing Frames:   0%|          | 0/5 [00:00<?, ?it/s]\u001b[A\n",
      "Processing Frames:  20%|██        | 1/5 [00:03<00:12,  3.23s/it]\u001b[A\n",
      "Processing Frames:  40%|████      | 2/5 [00:06<00:09,  3.31s/it]\u001b[A\n",
      "Processing Frames:  60%|██████    | 3/5 [00:09<00:06,  3.20s/it]\u001b[A\n",
      "Processing Frames:  80%|████████  | 4/5 [00:12<00:03,  3.06s/it]\u001b[A\n",
      "Processing Frames: 100%|██████████| 5/5 [00:15<00:00,  3.18s/it]\u001b[A\n",
      "Processing Videos:  60%|██████    | 419/698 [2:12:36<1:27:32, 18.83s/it]"
     ]
    },
    {
     "name": "stdout",
     "output_type": "stream",
     "text": [
      "File Name: mocuabatoctv_7063025745211264283.mp4, File Size: 18.91 MB\n",
      "Total frames in video: 3013\n",
      "Frame indices to extract: [0, 602, 1205, 1807, 2410]\n",
      "Extracted 5 frames.\n"
     ]
    },
    {
     "name": "stderr",
     "output_type": "stream",
     "text": [
      "\n",
      "Processing Frames:   0%|          | 0/5 [00:00<?, ?it/s]\u001b[A\n",
      "Processing Frames:  20%|██        | 1/5 [00:03<00:13,  3.40s/it]\u001b[A\n",
      "Processing Frames:  40%|████      | 2/5 [00:06<00:10,  3.49s/it]\u001b[A\n",
      "Processing Frames:  60%|██████    | 3/5 [00:09<00:06,  3.20s/it]\u001b[A\n",
      "Processing Frames:  80%|████████  | 4/5 [00:12<00:03,  3.07s/it]\u001b[A\n",
      "Processing Frames: 100%|██████████| 5/5 [00:16<00:00,  3.21s/it]\u001b[A\n",
      "Processing Videos:  60%|██████    | 420/698 [2:12:54<1:26:22, 18.64s/it]"
     ]
    },
    {
     "name": "stdout",
     "output_type": "stream",
     "text": [
      "File Name: suaxauxa_7224645635344043290.mp4, File Size: 0.79 MB\n",
      "Total frames in video: 542\n",
      "Frame indices to extract: [0, 108, 216, 325, 433]\n",
      "Extracted 5 frames.\n"
     ]
    },
    {
     "name": "stderr",
     "output_type": "stream",
     "text": [
      "\n",
      "Processing Frames:   0%|          | 0/5 [00:00<?, ?it/s]\u001b[A\n",
      "Processing Frames:  20%|██        | 1/5 [00:03<00:13,  3.45s/it]\u001b[A\n",
      "Processing Frames:  40%|████      | 2/5 [00:06<00:10,  3.42s/it]\u001b[A\n",
      "Processing Frames:  60%|██████    | 3/5 [00:10<00:06,  3.39s/it]\u001b[A\n",
      "Processing Frames:  80%|████████  | 4/5 [00:14<00:03,  3.61s/it]\u001b[A\n",
      "Processing Frames: 100%|██████████| 5/5 [00:17<00:00,  3.57s/it]\u001b[A\n",
      "Processing Videos:  60%|██████    | 421/698 [2:13:14<1:27:47, 19.02s/it]"
     ]
    },
    {
     "name": "stdout",
     "output_type": "stream",
     "text": [
      "File Name: farmiscooking_7229232253665053957.mp4, File Size: 6.89 MB\n",
      "Total frames in video: 906\n",
      "Frame indices to extract: [0, 181, 362, 543, 724]\n",
      "Extracted 5 frames.\n"
     ]
    },
    {
     "name": "stderr",
     "output_type": "stream",
     "text": [
      "\n",
      "Processing Frames:   0%|          | 0/5 [00:00<?, ?it/s]\u001b[A\n",
      "Processing Frames:  20%|██        | 1/5 [00:03<00:13,  3.29s/it]\u001b[A\n",
      "Processing Frames:  40%|████      | 2/5 [00:05<00:08,  2.70s/it]\u001b[A\n",
      "Processing Frames:  60%|██████    | 3/5 [00:08<00:05,  2.93s/it]\u001b[A\n",
      "Processing Frames:  80%|████████  | 4/5 [00:11<00:02,  2.97s/it]\u001b[A\n",
      "Processing Frames: 100%|██████████| 5/5 [00:14<00:00,  2.83s/it]\u001b[A\n",
      "Processing Videos:  60%|██████    | 422/698 [2:13:31<1:23:42, 18.20s/it]"
     ]
    },
    {
     "name": "stdout",
     "output_type": "stream",
     "text": [
      "File Name: xuantran2311_7372789026803305746.mp4, File Size: 4.61 MB\n",
      "Total frames in video: 1350\n",
      "Frame indices to extract: [0, 270, 540, 810, 1080]\n",
      "Extracted 5 frames.\n"
     ]
    },
    {
     "name": "stderr",
     "output_type": "stream",
     "text": [
      "\n",
      "Processing Frames:   0%|          | 0/5 [00:00<?, ?it/s]\u001b[A\n",
      "Processing Frames:  20%|██        | 1/5 [00:03<00:12,  3.23s/it]\u001b[A\n",
      "Processing Frames:  40%|████      | 2/5 [00:06<00:10,  3.36s/it]\u001b[A\n",
      "Processing Frames:  60%|██████    | 3/5 [00:09<00:06,  3.12s/it]\u001b[A\n",
      "Processing Frames:  80%|████████  | 4/5 [00:13<00:03,  3.41s/it]\u001b[A\n",
      "Processing Frames: 100%|██████████| 5/5 [00:16<00:00,  3.29s/it]\u001b[A\n",
      "Processing Videos:  61%|██████    | 423/698 [2:13:49<1:23:30, 18.22s/it]"
     ]
    },
    {
     "name": "stdout",
     "output_type": "stream",
     "text": [
      "File Name: anden75_7363998696914095367.mp4, File Size: 31.20 MB\n",
      "Total frames in video: 4811\n",
      "Frame indices to extract: [0, 962, 1924, 2886, 3848]\n",
      "Extracted 5 frames.\n"
     ]
    },
    {
     "name": "stderr",
     "output_type": "stream",
     "text": [
      "\n",
      "Processing Frames:   0%|          | 0/5 [00:00<?, ?it/s]\u001b[A\n",
      "Processing Frames:  20%|██        | 1/5 [00:03<00:15,  3.98s/it]\u001b[A\n",
      "Processing Frames:  40%|████      | 2/5 [00:07<00:11,  3.86s/it]\u001b[A\n",
      "Processing Frames:  60%|██████    | 3/5 [00:10<00:06,  3.47s/it]\u001b[A\n",
      "Processing Frames:  80%|████████  | 4/5 [00:13<00:03,  3.29s/it]\u001b[A\n",
      "Processing Frames: 100%|██████████| 5/5 [00:16<00:00,  3.32s/it]\u001b[A\n",
      "Processing Videos:  61%|██████    | 424/698 [2:14:07<1:23:48, 18.35s/it]"
     ]
    },
    {
     "name": "stdout",
     "output_type": "stream",
     "text": [
      "File Name: mummummeoi_7257734568986316038.mp4, File Size: 9.48 MB\n",
      "Total frames in video: 1406\n",
      "Frame indices to extract: [0, 281, 562, 843, 1124]\n",
      "Extracted 5 frames.\n"
     ]
    },
    {
     "name": "stderr",
     "output_type": "stream",
     "text": [
      "\n",
      "Processing Frames:   0%|          | 0/5 [00:00<?, ?it/s]\u001b[A\n",
      "Processing Frames:  20%|██        | 1/5 [00:03<00:12,  3.06s/it]\u001b[A\n",
      "Processing Frames:  40%|████      | 2/5 [00:06<00:10,  3.34s/it]\u001b[A\n",
      "Processing Frames:  60%|██████    | 3/5 [00:09<00:06,  3.32s/it]\u001b[A\n",
      "Processing Frames:  80%|████████  | 4/5 [00:13<00:03,  3.41s/it]\u001b[A\n",
      "Processing Frames: 100%|██████████| 5/5 [00:18<00:00,  3.65s/it]\u001b[A\n",
      "Processing Videos:  61%|██████    | 425/698 [2:14:28<1:26:11, 18.94s/it]"
     ]
    },
    {
     "name": "stdout",
     "output_type": "stream",
     "text": [
      "File Name: halinhofficial_7344355252382059794.mp4, File Size: 14.78 MB\n",
      "Total frames in video: 2520\n",
      "Frame indices to extract: [0, 504, 1008, 1512, 2016]\n",
      "Extracted 5 frames.\n"
     ]
    },
    {
     "name": "stderr",
     "output_type": "stream",
     "text": [
      "\n",
      "Processing Frames:   0%|          | 0/5 [00:00<?, ?it/s]\u001b[A\n",
      "Processing Frames:  20%|██        | 1/5 [00:03<00:15,  3.80s/it]\u001b[A\n",
      "Processing Frames:  40%|████      | 2/5 [00:08<00:13,  4.43s/it]\u001b[A\n",
      "Processing Frames:  60%|██████    | 3/5 [00:12<00:07,  3.95s/it]\u001b[A\n",
      "Processing Frames:  80%|████████  | 4/5 [00:15<00:03,  3.73s/it]\u001b[A\n",
      "Processing Frames: 100%|██████████| 5/5 [00:18<00:00,  3.77s/it]\u001b[A\n",
      "Processing Videos:  61%|██████    | 426/698 [2:14:49<1:28:24, 19.50s/it]"
     ]
    },
    {
     "name": "stdout",
     "output_type": "stream",
     "text": [
      "File Name: lthnhun99_7379471953477864722.mp4, File Size: 7.08 MB\n",
      "Total frames in video: 1723\n",
      "Frame indices to extract: [0, 344, 689, 1033, 1378]\n",
      "Extracted 5 frames.\n"
     ]
    },
    {
     "name": "stderr",
     "output_type": "stream",
     "text": [
      "\n",
      "Processing Frames:   0%|          | 0/5 [00:00<?, ?it/s]\u001b[A\n",
      "Processing Frames:  20%|██        | 1/5 [00:03<00:13,  3.43s/it]\u001b[A\n",
      "Processing Frames:  40%|████      | 2/5 [00:06<00:09,  3.28s/it]\u001b[A\n",
      "Processing Frames:  60%|██████    | 3/5 [00:09<00:06,  3.11s/it]\u001b[A\n",
      "Processing Frames:  80%|████████  | 4/5 [00:13<00:03,  3.36s/it]\u001b[A\n",
      "Processing Frames: 100%|██████████| 5/5 [00:16<00:00,  3.29s/it]\u001b[A\n",
      "Processing Videos:  61%|██████    | 427/698 [2:15:07<1:26:54, 19.24s/it]"
     ]
    },
    {
     "name": "stdout",
     "output_type": "stream",
     "text": [
      "File Name: pammatzuong_7291861900105682184.mp4, File Size: 4.25 MB\n",
      "Total frames in video: 2160\n",
      "Frame indices to extract: [0, 432, 864, 1296, 1728]\n",
      "Extracted 5 frames.\n"
     ]
    },
    {
     "name": "stderr",
     "output_type": "stream",
     "text": [
      "\n",
      "Processing Frames:   0%|          | 0/5 [00:00<?, ?it/s]\u001b[A\n",
      "Processing Frames:  20%|██        | 1/5 [00:03<00:13,  3.42s/it]\u001b[A\n",
      "Processing Frames:  40%|████      | 2/5 [00:06<00:10,  3.41s/it]\u001b[A\n",
      "Processing Frames:  60%|██████    | 3/5 [00:09<00:06,  3.26s/it]\u001b[A\n",
      "Processing Frames:  80%|████████  | 4/5 [00:13<00:03,  3.43s/it]\u001b[A\n",
      "Processing Frames: 100%|██████████| 5/5 [00:16<00:00,  3.40s/it]\u001b[A\n",
      "Processing Videos:  61%|██████▏   | 428/698 [2:15:26<1:26:16, 19.17s/it]"
     ]
    },
    {
     "name": "stdout",
     "output_type": "stream",
     "text": [
      "File Name: 000cartoon000_7277807678821354784.mp4, File Size: 4.78 MB\n",
      "Total frames in video: 1775\n",
      "Frame indices to extract: [0, 355, 710, 1065, 1420]\n",
      "Extracted 5 frames.\n"
     ]
    },
    {
     "name": "stderr",
     "output_type": "stream",
     "text": [
      "\n",
      "Processing Frames:   0%|          | 0/5 [00:00<?, ?it/s]\u001b[A\n",
      "Processing Frames:  20%|██        | 1/5 [00:04<00:16,  4.06s/it]\u001b[A\n",
      "Processing Frames:  40%|████      | 2/5 [00:07<00:10,  3.57s/it]\u001b[A\n",
      "Processing Frames:  60%|██████    | 3/5 [00:09<00:06,  3.16s/it]\u001b[A\n",
      "Processing Frames:  80%|████████  | 4/5 [00:12<00:02,  2.91s/it]\u001b[A\n",
      "Processing Frames: 100%|██████████| 5/5 [00:16<00:00,  3.21s/it]\u001b[A\n",
      "Processing Videos:  61%|██████▏   | 429/698 [2:15:44<1:23:55, 18.72s/it]"
     ]
    },
    {
     "name": "stdout",
     "output_type": "stream",
     "text": [
      "File Name: le_anh_nuoi_7353210400013372679.mp4, File Size: 21.65 MB\n",
      "Total frames in video: 2256\n",
      "Frame indices to extract: [0, 451, 902, 1353, 1804]\n",
      "Extracted 5 frames.\n"
     ]
    },
    {
     "name": "stderr",
     "output_type": "stream",
     "text": [
      "\n",
      "Processing Frames:   0%|          | 0/5 [00:00<?, ?it/s]\u001b[A\n",
      "Processing Frames:  20%|██        | 1/5 [00:03<00:12,  3.12s/it]\u001b[A\n",
      "Processing Frames:  40%|████      | 2/5 [00:07<00:11,  3.67s/it]\u001b[A\n",
      "Processing Frames:  60%|██████    | 3/5 [00:11<00:07,  3.95s/it]\u001b[A\n",
      "Processing Frames:  80%|████████  | 4/5 [00:14<00:03,  3.75s/it]\u001b[A\n",
      "Processing Frames: 100%|██████████| 5/5 [00:18<00:00,  3.70s/it]\u001b[A\n",
      "Processing Videos:  62%|██████▏   | 430/698 [2:16:05<1:26:46, 19.43s/it]"
     ]
    },
    {
     "name": "stdout",
     "output_type": "stream",
     "text": [
      "File Name: _thanhtam95__7345453782936931602.mp4, File Size: 5.10 MB\n",
      "Total frames in video: 862\n",
      "Frame indices to extract: [0, 172, 344, 517, 689]\n",
      "Extracted 5 frames.\n"
     ]
    },
    {
     "name": "stderr",
     "output_type": "stream",
     "text": [
      "\n",
      "Processing Frames:   0%|          | 0/5 [00:00<?, ?it/s]\u001b[A\n",
      "Processing Frames:  20%|██        | 1/5 [00:03<00:14,  3.64s/it]\u001b[A\n",
      "Processing Frames:  40%|████      | 2/5 [00:06<00:10,  3.37s/it]\u001b[A\n",
      "Processing Frames:  60%|██████    | 3/5 [00:10<00:06,  3.28s/it]\u001b[A\n",
      "Processing Frames:  80%|████████  | 4/5 [00:12<00:03,  3.13s/it]\u001b[A\n",
      "Processing Frames: 100%|██████████| 5/5 [00:16<00:00,  3.29s/it]\u001b[A\n",
      "Processing Videos:  62%|██████▏   | 431/698 [2:16:24<1:25:30, 19.21s/it]"
     ]
    },
    {
     "name": "stdout",
     "output_type": "stream",
     "text": [
      "File Name: tranngocphuongmai_6959115223244508417.mp4, File Size: 13.32 MB\n",
      "Total frames in video: 3294\n",
      "Frame indices to extract: [0, 658, 1317, 1976, 2635]\n",
      "Extracted 5 frames.\n"
     ]
    },
    {
     "name": "stderr",
     "output_type": "stream",
     "text": [
      "\n",
      "Processing Frames:   0%|          | 0/5 [00:00<?, ?it/s]\u001b[A\n",
      "Processing Frames:  20%|██        | 1/5 [00:03<00:13,  3.43s/it]\u001b[A\n",
      "Processing Frames:  40%|████      | 2/5 [00:06<00:09,  3.30s/it]\u001b[A\n",
      "Processing Frames:  60%|██████    | 3/5 [00:09<00:06,  3.25s/it]\u001b[A\n",
      "Processing Frames:  80%|████████  | 4/5 [00:14<00:03,  3.75s/it]\u001b[A\n",
      "Processing Frames: 100%|██████████| 5/5 [00:17<00:00,  3.55s/it]\u001b[A\n",
      "Processing Videos:  62%|██████▏   | 432/698 [2:16:44<1:26:10, 19.44s/it]"
     ]
    },
    {
     "name": "stdout",
     "output_type": "stream",
     "text": [
      "File Name: 10vancauhoivisao247_7058874594278739227.mp4, File Size: 16.16 MB\n",
      "Total frames in video: 4142\n",
      "Frame indices to extract: [0, 828, 1656, 2485, 3313]\n",
      "Extracted 5 frames.\n"
     ]
    },
    {
     "name": "stderr",
     "output_type": "stream",
     "text": [
      "\n",
      "Processing Frames:   0%|          | 0/5 [00:00<?, ?it/s]\u001b[A\n",
      "Processing Frames:  20%|██        | 1/5 [00:04<00:16,  4.01s/it]\u001b[A\n",
      "Processing Frames:  40%|████      | 2/5 [00:06<00:10,  3.34s/it]\u001b[A\n",
      "Processing Frames:  60%|██████    | 3/5 [00:09<00:06,  3.20s/it]\u001b[A\n",
      "Processing Frames:  80%|████████  | 4/5 [00:14<00:03,  3.61s/it]\u001b[A\n",
      "Processing Frames: 100%|██████████| 5/5 [00:17<00:00,  3.43s/it]\u001b[A\n",
      "Processing Videos:  62%|██████▏   | 433/698 [2:17:03<1:26:07, 19.50s/it]"
     ]
    },
    {
     "name": "stdout",
     "output_type": "stream",
     "text": [
      "File Name: vpop.liveshow_7140584718382140674.mp4, File Size: 7.82 MB\n",
      "Total frames in video: 1351\n",
      "Frame indices to extract: [0, 270, 540, 810, 1080]\n",
      "Extracted 5 frames.\n"
     ]
    },
    {
     "name": "stderr",
     "output_type": "stream",
     "text": [
      "\n",
      "Processing Frames:   0%|          | 0/5 [00:00<?, ?it/s]\u001b[A\n",
      "Processing Frames:  20%|██        | 1/5 [00:03<00:14,  3.62s/it]\u001b[A\n",
      "Processing Frames:  40%|████      | 2/5 [00:06<00:10,  3.37s/it]\u001b[A\n",
      "Processing Frames:  60%|██████    | 3/5 [00:10<00:06,  3.29s/it]\u001b[A\n",
      "Processing Frames:  80%|████████  | 4/5 [00:13<00:03,  3.27s/it]\u001b[A\n",
      "Processing Frames: 100%|██████████| 5/5 [00:16<00:00,  3.32s/it]\u001b[A\n",
      "Processing Videos:  62%|██████▏   | 434/698 [2:17:22<1:25:16, 19.38s/it]"
     ]
    },
    {
     "name": "stdout",
     "output_type": "stream",
     "text": [
      "File Name: thichminhtuechantu_7367448994018102561.mp4, File Size: 3.15 MB\n",
      "Total frames in video: 2607\n",
      "Frame indices to extract: [0, 521, 1042, 1564, 2085]\n",
      "Extracted 5 frames.\n"
     ]
    },
    {
     "name": "stderr",
     "output_type": "stream",
     "text": [
      "\n",
      "Processing Frames:   0%|          | 0/5 [00:00<?, ?it/s]\u001b[A\n",
      "Processing Frames:  20%|██        | 1/5 [00:03<00:12,  3.21s/it]\u001b[A\n",
      "Processing Frames:  40%|████      | 2/5 [00:06<00:10,  3.42s/it]\u001b[A\n",
      "Processing Frames:  60%|██████    | 3/5 [00:10<00:07,  3.60s/it]\u001b[A\n",
      "Processing Frames:  80%|████████  | 4/5 [00:13<00:03,  3.44s/it]\u001b[A\n",
      "Processing Frames: 100%|██████████| 5/5 [00:18<00:00,  3.61s/it]\u001b[A\n",
      "Processing Videos:  62%|██████▏   | 435/698 [2:17:42<1:25:23, 19.48s/it]"
     ]
    },
    {
     "name": "stdout",
     "output_type": "stream",
     "text": [
      "File Name: nuirungtv_7308864653143182624.mp4, File Size: 28.71 MB\n",
      "Total frames in video: 2002\n",
      "Frame indices to extract: [0, 400, 800, 1201, 1601]\n",
      "Extracted 5 frames.\n"
     ]
    },
    {
     "name": "stderr",
     "output_type": "stream",
     "text": [
      "\n",
      "Processing Frames:   0%|          | 0/5 [00:00<?, ?it/s]\u001b[A\n",
      "Processing Frames:  20%|██        | 1/5 [00:03<00:14,  3.62s/it]\u001b[A\n",
      "Processing Frames:  40%|████      | 2/5 [00:07<00:10,  3.52s/it]\u001b[A\n",
      "Processing Frames:  60%|██████    | 3/5 [00:10<00:06,  3.46s/it]\u001b[A\n",
      "Processing Frames:  80%|████████  | 4/5 [00:13<00:03,  3.37s/it]\u001b[A\n",
      "Processing Frames: 100%|██████████| 5/5 [00:17<00:00,  3.46s/it]\u001b[A\n",
      "Processing Videos:  62%|██████▏   | 436/698 [2:18:02<1:25:02, 19.47s/it]"
     ]
    },
    {
     "name": "stdout",
     "output_type": "stream",
     "text": [
      "File Name: hatrongbep_7227342309912743173.mp4, File Size: 19.19 MB\n",
      "Total frames in video: 7390\n",
      "Frame indices to extract: [0, 1478, 2956, 4434, 5912]\n",
      "Extracted 5 frames.\n"
     ]
    },
    {
     "name": "stderr",
     "output_type": "stream",
     "text": [
      "\n",
      "Processing Frames:   0%|          | 0/5 [00:00<?, ?it/s]\u001b[A\n",
      "Processing Frames:  20%|██        | 1/5 [00:03<00:14,  3.67s/it]\u001b[A\n",
      "Processing Frames:  40%|████      | 2/5 [00:06<00:10,  3.42s/it]\u001b[A\n",
      "Processing Frames:  60%|██████    | 3/5 [00:10<00:06,  3.31s/it]\u001b[A\n",
      "Processing Frames:  80%|████████  | 4/5 [00:13<00:03,  3.34s/it]\u001b[A\n",
      "Processing Frames: 100%|██████████| 5/5 [00:16<00:00,  3.38s/it]\u001b[A\n",
      "Processing Videos:  63%|██████▎   | 437/698 [2:18:20<1:23:57, 19.30s/it]"
     ]
    },
    {
     "name": "stdout",
     "output_type": "stream",
     "text": [
      "File Name: matcomfamily_7235174678988377350.mp4, File Size: 2.44 MB\n",
      "Total frames in video: 699\n",
      "Frame indices to extract: [0, 139, 279, 419, 559]\n",
      "Extracted 5 frames.\n"
     ]
    },
    {
     "name": "stderr",
     "output_type": "stream",
     "text": [
      "\n",
      "Processing Frames:   0%|          | 0/5 [00:00<?, ?it/s]\u001b[A\n",
      "Processing Frames:  20%|██        | 1/5 [00:02<00:10,  2.68s/it]\u001b[A\n",
      "Processing Frames:  40%|████      | 2/5 [00:05<00:09,  3.01s/it]\u001b[A\n",
      "Processing Frames:  60%|██████    | 3/5 [00:09<00:06,  3.10s/it]\u001b[A\n",
      "Processing Frames:  80%|████████  | 4/5 [00:12<00:03,  3.27s/it]\u001b[A\n",
      "Processing Frames: 100%|██████████| 5/5 [00:16<00:00,  3.24s/it]\u001b[A\n",
      "Processing Videos:  63%|██████▎   | 438/698 [2:18:39<1:22:13, 18.97s/it]"
     ]
    },
    {
     "name": "stdout",
     "output_type": "stream",
     "text": [
      "File Name: funfact.66_7132376627274616065.mp4, File Size: 5.83 MB\n",
      "Total frames in video: 834\n",
      "Frame indices to extract: [0, 166, 333, 500, 667]\n",
      "Extracted 5 frames.\n"
     ]
    },
    {
     "name": "stderr",
     "output_type": "stream",
     "text": [
      "\n",
      "Processing Frames:   0%|          | 0/5 [00:00<?, ?it/s]\u001b[A\n",
      "Processing Frames:  20%|██        | 1/5 [00:03<00:12,  3.22s/it]\u001b[A\n",
      "Processing Frames:  40%|████      | 2/5 [00:06<00:09,  3.20s/it]\u001b[A\n",
      "Processing Frames:  60%|██████    | 3/5 [00:09<00:06,  3.22s/it]\u001b[A\n",
      "Processing Frames:  80%|████████  | 4/5 [00:12<00:03,  3.07s/it]\u001b[A\n",
      "Processing Frames: 100%|██████████| 5/5 [00:15<00:00,  3.02s/it]\u001b[A\n",
      "Processing Videos:  63%|██████▎   | 439/698 [2:18:56<1:19:27, 18.41s/it]"
     ]
    },
    {
     "name": "stdout",
     "output_type": "stream",
     "text": [
      "File Name: tho.pea_7357297193474198804.mp4, File Size: 17.32 MB\n",
      "Total frames in video: 5990\n",
      "Frame indices to extract: [0, 1198, 2396, 3594, 4792]\n",
      "Extracted 5 frames.\n"
     ]
    },
    {
     "name": "stderr",
     "output_type": "stream",
     "text": [
      "\n",
      "Processing Frames:   0%|          | 0/5 [00:00<?, ?it/s]\u001b[A\n",
      "Processing Frames:  20%|██        | 1/5 [00:03<00:13,  3.27s/it]\u001b[A\n",
      "Processing Frames:  40%|████      | 2/5 [00:06<00:09,  3.12s/it]\u001b[A\n",
      "Processing Frames:  60%|██████    | 3/5 [00:09<00:06,  3.03s/it]\u001b[A\n",
      "Processing Frames:  80%|████████  | 4/5 [00:13<00:03,  3.47s/it]\u001b[A\n",
      "Processing Frames: 100%|██████████| 5/5 [00:16<00:00,  3.31s/it]\u001b[A\n",
      "Processing Videos:  63%|██████▎   | 440/698 [2:19:14<1:19:13, 18.43s/it]"
     ]
    },
    {
     "name": "stdout",
     "output_type": "stream",
     "text": [
      "File Name: khatvong_xanh_7252206864144928005.mp4, File Size: 20.93 MB\n",
      "Total frames in video: 1786\n",
      "Frame indices to extract: [0, 357, 714, 1071, 1428]\n",
      "Extracted 5 frames.\n"
     ]
    },
    {
     "name": "stderr",
     "output_type": "stream",
     "text": [
      "\n",
      "Processing Frames:   0%|          | 0/5 [00:00<?, ?it/s]\u001b[A\n",
      "Processing Frames:  20%|██        | 1/5 [00:04<00:18,  4.57s/it]\u001b[A\n",
      "Processing Frames:  40%|████      | 2/5 [00:07<00:11,  3.87s/it]\u001b[A\n",
      "Processing Frames:  60%|██████    | 3/5 [00:11<00:07,  3.74s/it]\u001b[A\n",
      "Processing Frames:  80%|████████  | 4/5 [00:15<00:03,  3.83s/it]\u001b[A\n",
      "Processing Frames: 100%|██████████| 5/5 [00:18<00:00,  3.74s/it]\u001b[A\n",
      "Processing Videos:  63%|██████▎   | 441/698 [2:19:35<1:21:57, 19.13s/it]"
     ]
    },
    {
     "name": "stdout",
     "output_type": "stream",
     "text": [
      "File Name: ngthugiang.02_7350886715063553298.mp4, File Size: 4.84 MB\n",
      "Total frames in video: 1071\n",
      "Frame indices to extract: [0, 214, 428, 642, 856]\n",
      "Extracted 5 frames.\n"
     ]
    },
    {
     "name": "stderr",
     "output_type": "stream",
     "text": [
      "\n",
      "Processing Frames:   0%|          | 0/5 [00:00<?, ?it/s]\u001b[A\n",
      "Processing Frames:  20%|██        | 1/5 [00:03<00:15,  3.99s/it]\u001b[A\n",
      "Processing Frames:  40%|████      | 2/5 [00:06<00:09,  3.29s/it]\u001b[A\n",
      "Processing Frames:  60%|██████    | 3/5 [00:09<00:06,  3.16s/it]\u001b[A\n",
      "Processing Frames:  80%|████████  | 4/5 [00:13<00:03,  3.41s/it]\u001b[A\n",
      "Processing Frames: 100%|██████████| 5/5 [00:16<00:00,  3.32s/it]\u001b[A\n",
      "Processing Videos:  63%|██████▎   | 442/698 [2:19:54<1:21:37, 19.13s/it]"
     ]
    },
    {
     "name": "stdout",
     "output_type": "stream",
     "text": [
      "File Name: dautocartoon_7316098140749188395.mp4, File Size: 1.73 MB\n",
      "Total frames in video: 1510\n",
      "Frame indices to extract: [0, 302, 604, 906, 1208]\n",
      "Extracted 5 frames.\n"
     ]
    },
    {
     "name": "stderr",
     "output_type": "stream",
     "text": [
      "\n",
      "Processing Frames:   0%|          | 0/5 [00:00<?, ?it/s]\u001b[A\n",
      "Processing Frames:  20%|██        | 1/5 [00:04<00:17,  4.39s/it]\u001b[A\n",
      "Processing Frames:  40%|████      | 2/5 [00:07<00:10,  3.58s/it]\u001b[A\n",
      "Processing Frames:  60%|██████    | 3/5 [00:10<00:07,  3.57s/it]\u001b[A\n",
      "Processing Frames:  80%|████████  | 4/5 [00:14<00:03,  3.45s/it]\u001b[A\n",
      "Processing Frames: 100%|██████████| 5/5 [00:18<00:00,  3.70s/it]\u001b[A\n",
      "Processing Videos:  63%|██████▎   | 443/698 [2:20:14<1:22:37, 19.44s/it]"
     ]
    },
    {
     "name": "stdout",
     "output_type": "stream",
     "text": [
      "File Name: tranmanhnam20_7353899698559798544.mp4, File Size: 9.91 MB\n",
      "Total frames in video: 1218\n",
      "Frame indices to extract: [0, 243, 487, 730, 974]\n",
      "Extracted 5 frames.\n"
     ]
    },
    {
     "name": "stderr",
     "output_type": "stream",
     "text": [
      "\n",
      "Processing Frames:   0%|          | 0/5 [00:00<?, ?it/s]\u001b[A\n",
      "Processing Frames:  20%|██        | 1/5 [00:03<00:14,  3.51s/it]\u001b[A\n",
      "Processing Frames:  40%|████      | 2/5 [00:07<00:10,  3.54s/it]\u001b[A\n",
      "Processing Frames:  60%|██████    | 3/5 [00:10<00:06,  3.31s/it]\u001b[A\n",
      "Processing Frames:  80%|████████  | 4/5 [00:13<00:03,  3.37s/it]\u001b[A\n",
      "Processing Frames: 100%|██████████| 5/5 [00:16<00:00,  3.32s/it]\u001b[A\n",
      "Processing Videos:  64%|██████▎   | 444/698 [2:20:33<1:20:55, 19.12s/it]"
     ]
    },
    {
     "name": "stdout",
     "output_type": "stream",
     "text": [
      "File Name: haucungpamelatruyen_7320922121029340424.mp4, File Size: 1.85 MB\n",
      "Total frames in video: 485\n",
      "Frame indices to extract: [0, 97, 194, 291, 388]\n",
      "Extracted 5 frames.\n"
     ]
    },
    {
     "name": "stderr",
     "output_type": "stream",
     "text": [
      "\n",
      "Processing Frames:   0%|          | 0/5 [00:00<?, ?it/s]\u001b[A\n",
      "Processing Frames:  20%|██        | 1/5 [00:02<00:10,  2.71s/it]\u001b[A\n",
      "Processing Frames:  40%|████      | 2/5 [00:05<00:09,  3.04s/it]\u001b[A\n",
      "Processing Frames:  60%|██████    | 3/5 [00:09<00:06,  3.04s/it]\u001b[A\n",
      "Processing Frames:  80%|████████  | 4/5 [00:13<00:03,  3.67s/it]\u001b[A\n",
      "Processing Frames: 100%|██████████| 5/5 [00:16<00:00,  3.35s/it]\u001b[A\n",
      "Processing Videos:  64%|██████▍   | 445/698 [2:20:51<1:19:36, 18.88s/it]"
     ]
    },
    {
     "name": "stdout",
     "output_type": "stream",
     "text": [
      "File Name: queenenglish123_7310962365418294535.mp4, File Size: 0.69 MB\n",
      "Total frames in video: 895\n",
      "Frame indices to extract: [0, 179, 358, 537, 716]\n",
      "Extracted 5 frames.\n"
     ]
    },
    {
     "name": "stderr",
     "output_type": "stream",
     "text": [
      "\n",
      "Processing Frames:   0%|          | 0/5 [00:00<?, ?it/s]\u001b[A\n",
      "Processing Frames:  20%|██        | 1/5 [00:03<00:13,  3.42s/it]\u001b[A\n",
      "Processing Frames:  40%|████      | 2/5 [00:06<00:09,  3.32s/it]\u001b[A\n",
      "Processing Frames:  60%|██████    | 3/5 [00:09<00:06,  3.28s/it]\u001b[A\n",
      "Processing Frames:  80%|████████  | 4/5 [00:13<00:03,  3.25s/it]\u001b[A\n",
      "Processing Frames: 100%|██████████| 5/5 [00:18<00:00,  3.61s/it]\u001b[A\n",
      "Processing Videos:  64%|██████▍   | 446/698 [2:21:11<1:20:21, 19.13s/it]"
     ]
    },
    {
     "name": "stdout",
     "output_type": "stream",
     "text": [
      "File Name: anden75_7353251294993288469.mp4, File Size: 37.01 MB\n",
      "Total frames in video: 5777\n",
      "Frame indices to extract: [0, 1155, 2310, 3466, 4621]\n",
      "Extracted 5 frames.\n"
     ]
    },
    {
     "name": "stderr",
     "output_type": "stream",
     "text": [
      "\n",
      "Processing Frames:   0%|          | 0/5 [00:00<?, ?it/s]\u001b[A\n",
      "Processing Frames:  20%|██        | 1/5 [00:03<00:13,  3.42s/it]\u001b[A\n",
      "Processing Frames:  40%|████      | 2/5 [00:07<00:11,  3.80s/it]\u001b[A\n",
      "Processing Frames:  60%|██████    | 3/5 [00:10<00:06,  3.36s/it]\u001b[A\n",
      "Processing Frames:  80%|████████  | 4/5 [00:12<00:02,  2.95s/it]\u001b[A\n",
      "Processing Frames: 100%|██████████| 5/5 [00:15<00:00,  3.15s/it]\u001b[A\n",
      "Processing Videos:  64%|██████▍   | 447/698 [2:21:29<1:18:44, 18.82s/it]"
     ]
    },
    {
     "name": "stdout",
     "output_type": "stream",
     "text": [
      "File Name: fbncvietnam_7250426303004888328.mp4, File Size: 2.26 MB\n",
      "Total frames in video: 1032\n",
      "Frame indices to extract: [0, 206, 412, 619, 825]\n",
      "Extracted 5 frames.\n"
     ]
    },
    {
     "name": "stderr",
     "output_type": "stream",
     "text": [
      "\n",
      "Processing Frames:   0%|          | 0/5 [00:00<?, ?it/s]\u001b[A\n",
      "Processing Frames:  20%|██        | 1/5 [00:02<00:11,  2.92s/it]\u001b[A\n",
      "Processing Frames:  40%|████      | 2/5 [00:06<00:09,  3.21s/it]\u001b[A\n",
      "Processing Frames:  60%|██████    | 3/5 [00:10<00:07,  3.82s/it]\u001b[A\n",
      "Processing Frames:  80%|████████  | 4/5 [00:14<00:03,  3.66s/it]\u001b[A\n",
      "Processing Frames: 100%|██████████| 5/5 [00:17<00:00,  3.55s/it]\u001b[A\n",
      "Processing Videos:  64%|██████▍   | 448/698 [2:21:48<1:19:16, 19.03s/it]"
     ]
    },
    {
     "name": "stdout",
     "output_type": "stream",
     "text": [
      "File Name: heo.peppa.vn_7289432588517641504.mp4, File Size: 1.85 MB\n",
      "Total frames in video: 767\n",
      "Frame indices to extract: [0, 153, 306, 460, 613]\n",
      "Extracted 5 frames.\n"
     ]
    },
    {
     "name": "stderr",
     "output_type": "stream",
     "text": [
      "\n",
      "Processing Frames:   0%|          | 0/5 [00:00<?, ?it/s]\u001b[A\n",
      "Processing Frames:  20%|██        | 1/5 [00:05<00:22,  5.51s/it]\u001b[A\n",
      "Processing Frames:  40%|████      | 2/5 [00:08<00:11,  3.74s/it]\u001b[A\n",
      "Processing Frames:  60%|██████    | 3/5 [00:12<00:08,  4.28s/it]\u001b[A\n",
      "Processing Frames:  80%|████████  | 4/5 [00:17<00:04,  4.51s/it]\u001b[A\n",
      "Processing Frames: 100%|██████████| 5/5 [00:21<00:00,  4.26s/it]\u001b[A\n",
      "Processing Videos:  64%|██████▍   | 449/698 [2:22:11<1:23:55, 20.22s/it]"
     ]
    },
    {
     "name": "stdout",
     "output_type": "stream",
     "text": [
      "File Name: tuimuabanmua_7259355782431476997.mp4, File Size: 1.66 MB\n",
      "Total frames in video: 271\n",
      "Frame indices to extract: [0, 54, 108, 162, 216]\n",
      "Extracted 5 frames.\n"
     ]
    },
    {
     "name": "stderr",
     "output_type": "stream",
     "text": [
      "\n",
      "Processing Frames:   0%|          | 0/5 [00:00<?, ?it/s]\u001b[A\n",
      "Processing Frames:  20%|██        | 1/5 [00:03<00:13,  3.26s/it]\u001b[A\n",
      "Processing Frames:  40%|████      | 2/5 [00:06<00:09,  3.27s/it]\u001b[A\n",
      "Processing Frames:  60%|██████    | 3/5 [00:10<00:07,  3.52s/it]\u001b[A\n",
      "Processing Frames:  80%|████████  | 4/5 [00:13<00:03,  3.49s/it]\u001b[A\n",
      "Processing Frames: 100%|██████████| 5/5 [00:17<00:00,  3.41s/it]\u001b[A\n",
      "Processing Videos:  64%|██████▍   | 450/698 [2:22:30<1:21:56, 19.82s/it]"
     ]
    },
    {
     "name": "stdout",
     "output_type": "stream",
     "text": [
      "File Name: _th.moon203_7223973526758378758.mp4, File Size: 9.23 MB\n",
      "Total frames in video: 954\n",
      "Frame indices to extract: [0, 190, 381, 572, 763]\n",
      "Extracted 5 frames.\n"
     ]
    },
    {
     "name": "stderr",
     "output_type": "stream",
     "text": [
      "\n",
      "Processing Frames:   0%|          | 0/5 [00:00<?, ?it/s]\u001b[A\n",
      "Processing Frames:  20%|██        | 1/5 [00:03<00:12,  3.07s/it]\u001b[A\n",
      "Processing Frames:  40%|████      | 2/5 [00:06<00:09,  3.17s/it]\u001b[A\n",
      "Processing Frames:  60%|██████    | 3/5 [00:09<00:06,  3.10s/it]\u001b[A\n",
      "Processing Frames:  80%|████████  | 4/5 [00:12<00:03,  3.07s/it]\u001b[A\n",
      "Processing Frames: 100%|██████████| 5/5 [00:15<00:00,  3.08s/it]\u001b[A\n",
      "Processing Videos:  65%|██████▍   | 451/698 [2:22:48<1:18:31, 19.07s/it]"
     ]
    },
    {
     "name": "stdout",
     "output_type": "stream",
     "text": [
      "File Name: vmtmytam_7000000319090330881.mp4, File Size: 7.10 MB\n",
      "Total frames in video: 1440\n",
      "Frame indices to extract: [0, 288, 576, 864, 1152]\n",
      "Extracted 5 frames.\n"
     ]
    },
    {
     "name": "stderr",
     "output_type": "stream",
     "text": [
      "\n",
      "Processing Frames:   0%|          | 0/5 [00:00<?, ?it/s]\u001b[A\n",
      "Processing Frames:  20%|██        | 1/5 [00:03<00:12,  3.24s/it]\u001b[A\n",
      "Processing Frames:  40%|████      | 2/5 [00:07<00:10,  3.60s/it]\u001b[A\n",
      "Processing Frames:  60%|██████    | 3/5 [00:10<00:07,  3.52s/it]\u001b[A\n",
      "Processing Frames:  80%|████████  | 4/5 [00:13<00:03,  3.33s/it]\u001b[A\n",
      "Processing Frames: 100%|██████████| 5/5 [00:16<00:00,  3.35s/it]\u001b[A\n",
      "Processing Videos:  65%|██████▍   | 452/698 [2:23:06<1:17:34, 18.92s/it]"
     ]
    },
    {
     "name": "stdout",
     "output_type": "stream",
     "text": [
      "File Name: nguyenanhhphuong_7282017699599781138.mp4, File Size: 28.76 MB\n",
      "Total frames in video: 2371\n",
      "Frame indices to extract: [0, 474, 948, 1422, 1896]\n",
      "Extracted 5 frames.\n"
     ]
    },
    {
     "name": "stderr",
     "output_type": "stream",
     "text": [
      "\n",
      "Processing Frames:   0%|          | 0/5 [00:00<?, ?it/s]\u001b[A\n",
      "Processing Frames:  20%|██        | 1/5 [00:03<00:13,  3.28s/it]\u001b[A\n",
      "Processing Frames:  40%|████      | 2/5 [00:06<00:09,  3.23s/it]\u001b[A\n",
      "Processing Frames:  60%|██████    | 3/5 [00:10<00:06,  3.39s/it]\u001b[A\n",
      "Processing Frames:  80%|████████  | 4/5 [00:13<00:03,  3.47s/it]\u001b[A\n",
      "Processing Frames: 100%|██████████| 5/5 [00:16<00:00,  3.34s/it]\u001b[A\n",
      "Processing Videos:  65%|██████▍   | 453/698 [2:23:25<1:17:06, 18.88s/it]"
     ]
    },
    {
     "name": "stdout",
     "output_type": "stream",
     "text": [
      "File Name: th03_quiz_7270155025610034475.mp4, File Size: 1.20 MB\n",
      "Total frames in video: 2010\n",
      "Frame indices to extract: [0, 402, 804, 1206, 1608]\n",
      "Extracted 5 frames.\n"
     ]
    },
    {
     "name": "stderr",
     "output_type": "stream",
     "text": [
      "\n",
      "Processing Frames:   0%|          | 0/5 [00:00<?, ?it/s]\u001b[A\n",
      "Processing Frames:  20%|██        | 1/5 [00:04<00:17,  4.41s/it]\u001b[A\n",
      "Processing Frames:  40%|████      | 2/5 [00:07<00:11,  3.82s/it]\u001b[A\n",
      "Processing Frames:  60%|██████    | 3/5 [00:11<00:07,  3.62s/it]\u001b[A\n",
      "Processing Frames:  80%|████████  | 4/5 [00:14<00:03,  3.62s/it]\u001b[A\n",
      "Processing Frames: 100%|██████████| 5/5 [00:18<00:00,  3.68s/it]\u001b[A\n",
      "Processing Videos:  65%|██████▌   | 454/698 [2:23:45<1:18:18, 19.25s/it]"
     ]
    },
    {
     "name": "stdout",
     "output_type": "stream",
     "text": [
      "File Name: mocuabatoctv_7053014064464809242.mp4, File Size: 9.91 MB\n",
      "Total frames in video: 1418\n",
      "Frame indices to extract: [0, 283, 567, 850, 1134]\n",
      "Extracted 5 frames.\n"
     ]
    },
    {
     "name": "stderr",
     "output_type": "stream",
     "text": [
      "\n",
      "Processing Frames:   0%|          | 0/5 [00:00<?, ?it/s]\u001b[A\n",
      "Processing Frames:  20%|██        | 1/5 [00:03<00:13,  3.28s/it]\u001b[A\n",
      "Processing Frames:  40%|████      | 2/5 [00:06<00:09,  3.12s/it]\u001b[A\n",
      "Processing Frames:  60%|██████    | 3/5 [00:09<00:06,  3.23s/it]\u001b[A\n",
      "Processing Frames:  80%|████████  | 4/5 [00:13<00:03,  3.48s/it]\u001b[A\n",
      "Processing Frames: 100%|██████████| 5/5 [00:17<00:00,  3.47s/it]\u001b[A\n",
      "Processing Videos:  65%|██████▌   | 455/698 [2:24:05<1:18:19, 19.34s/it]"
     ]
    },
    {
     "name": "stdout",
     "output_type": "stream",
     "text": [
      "File Name: petsplanetus_7233435911583780138.mp4, File Size: 8.46 MB\n",
      "Total frames in video: 1817\n",
      "Frame indices to extract: [0, 363, 726, 1090, 1453]\n",
      "Extracted 5 frames.\n"
     ]
    },
    {
     "name": "stderr",
     "output_type": "stream",
     "text": [
      "\n",
      "Processing Frames:   0%|          | 0/5 [00:00<?, ?it/s]\u001b[A\n",
      "Processing Frames:  20%|██        | 1/5 [00:03<00:13,  3.47s/it]\u001b[A\n",
      "Processing Frames:  40%|████      | 2/5 [00:06<00:10,  3.42s/it]\u001b[A\n",
      "Processing Frames:  60%|██████    | 3/5 [00:10<00:06,  3.49s/it]\u001b[A\n",
      "Processing Frames:  80%|████████  | 4/5 [00:13<00:03,  3.19s/it]\u001b[A\n",
      "Processing Frames: 100%|██████████| 5/5 [00:16<00:00,  3.31s/it]\u001b[A\n",
      "Processing Videos:  65%|██████▌   | 456/698 [2:24:23<1:16:51, 19.06s/it]"
     ]
    },
    {
     "name": "stdout",
     "output_type": "stream",
     "text": [
      "File Name: lamoah102_7337678538859973931.mp4, File Size: 12.67 MB\n",
      "Total frames in video: 968\n",
      "Frame indices to extract: [0, 193, 387, 580, 774]\n",
      "Extracted 5 frames.\n"
     ]
    },
    {
     "name": "stderr",
     "output_type": "stream",
     "text": [
      "\n",
      "Processing Frames:   0%|          | 0/5 [00:00<?, ?it/s]\u001b[A\n",
      "Processing Frames:  20%|██        | 1/5 [00:03<00:14,  3.68s/it]\u001b[A\n",
      "Processing Frames:  40%|████      | 2/5 [00:07<00:10,  3.62s/it]\u001b[A\n",
      "Processing Frames:  60%|██████    | 3/5 [00:12<00:08,  4.23s/it]\u001b[A\n",
      "Processing Frames:  80%|████████  | 4/5 [00:14<00:03,  3.56s/it]\u001b[A\n",
      "Processing Frames: 100%|██████████| 5/5 [00:17<00:00,  3.56s/it]\u001b[A\n",
      "Processing Videos:  65%|██████▌   | 457/698 [2:24:43<1:17:34, 19.31s/it]"
     ]
    },
    {
     "name": "stdout",
     "output_type": "stream",
     "text": [
      "File Name: numbersixtysix_6981782974194797830.mp4, File Size: 6.42 MB\n",
      "Total frames in video: 1777\n",
      "Frame indices to extract: [0, 355, 710, 1066, 1421]\n",
      "Extracted 5 frames.\n"
     ]
    },
    {
     "name": "stderr",
     "output_type": "stream",
     "text": [
      "\n",
      "Processing Frames:   0%|          | 0/5 [00:00<?, ?it/s]\u001b[A\n",
      "Processing Frames:  20%|██        | 1/5 [00:02<00:11,  2.87s/it]\u001b[A\n",
      "Processing Frames:  40%|████      | 2/5 [00:06<00:09,  3.21s/it]\u001b[A\n",
      "Processing Frames:  60%|██████    | 3/5 [00:09<00:06,  3.05s/it]\u001b[A\n",
      "Processing Frames:  80%|████████  | 4/5 [00:12<00:03,  3.11s/it]\u001b[A\n",
      "Processing Frames: 100%|██████████| 5/5 [00:15<00:00,  3.05s/it]\u001b[A\n",
      "Processing Videos:  66%|██████▌   | 458/698 [2:25:00<1:14:47, 18.70s/it]"
     ]
    },
    {
     "name": "stdout",
     "output_type": "stream",
     "text": [
      "File Name: mattpianoman_7258280125471509766.mp4, File Size: 11.37 MB\n",
      "Total frames in video: 2190\n",
      "Frame indices to extract: [0, 438, 876, 1314, 1752]\n",
      "Extracted 5 frames.\n"
     ]
    },
    {
     "name": "stderr",
     "output_type": "stream",
     "text": [
      "\n",
      "Processing Frames:   0%|          | 0/5 [00:00<?, ?it/s]\u001b[A\n",
      "Processing Frames:  20%|██        | 1/5 [00:03<00:14,  3.51s/it]\u001b[A\n",
      "Processing Frames:  40%|████      | 2/5 [00:06<00:10,  3.47s/it]\u001b[A\n",
      "Processing Frames:  60%|██████    | 3/5 [00:09<00:06,  3.26s/it]\u001b[A\n",
      "Processing Frames:  80%|████████  | 4/5 [00:12<00:03,  3.16s/it]\u001b[A\n",
      "Processing Frames: 100%|██████████| 5/5 [00:16<00:00,  3.21s/it]\u001b[A\n",
      "Processing Videos:  66%|██████▌   | 459/698 [2:25:19<1:14:19, 18.66s/it]"
     ]
    },
    {
     "name": "stdout",
     "output_type": "stream",
     "text": [
      "File Name: nguyentinhphache_7346920701997223170.mp4, File Size: 6.10 MB\n",
      "Total frames in video: 1414\n",
      "Frame indices to extract: [0, 282, 565, 848, 1131]\n",
      "Extracted 5 frames.\n"
     ]
    },
    {
     "name": "stderr",
     "output_type": "stream",
     "text": [
      "\n",
      "Processing Frames:   0%|          | 0/5 [00:00<?, ?it/s]\u001b[A\n",
      "Processing Frames:  20%|██        | 1/5 [00:03<00:12,  3.07s/it]\u001b[A\n",
      "Processing Frames:  40%|████      | 2/5 [00:06<00:09,  3.24s/it]\u001b[A\n",
      "Processing Frames:  60%|██████    | 3/5 [00:09<00:06,  3.08s/it]\u001b[A\n",
      "Processing Frames:  80%|████████  | 4/5 [00:12<00:02,  2.99s/it]\u001b[A\n",
      "Processing Frames: 100%|██████████| 5/5 [00:15<00:00,  3.04s/it]\u001b[A\n",
      "Processing Videos:  66%|██████▌   | 460/698 [2:25:36<1:12:51, 18.37s/it]"
     ]
    },
    {
     "name": "stdout",
     "output_type": "stream",
     "text": [
      "File Name: pamyeuoi_7282408198596726023.mp4, File Size: 2.69 MB\n",
      "Total frames in video: 637\n",
      "Frame indices to extract: [0, 127, 254, 382, 509]\n",
      "Extracted 5 frames.\n"
     ]
    },
    {
     "name": "stderr",
     "output_type": "stream",
     "text": [
      "\n",
      "Processing Frames:   0%|          | 0/5 [00:00<?, ?it/s]\u001b[A\n",
      "Processing Frames:  20%|██        | 1/5 [00:03<00:13,  3.39s/it]\u001b[A\n",
      "Processing Frames:  40%|████      | 2/5 [00:06<00:10,  3.41s/it]\u001b[A\n",
      "Processing Frames:  60%|██████    | 3/5 [00:10<00:07,  3.52s/it]\u001b[A\n",
      "Processing Frames:  80%|████████  | 4/5 [00:14<00:03,  3.54s/it]\u001b[A\n",
      "Processing Frames: 100%|██████████| 5/5 [00:17<00:00,  3.52s/it]\u001b[A\n",
      "Processing Videos:  66%|██████▌   | 461/698 [2:25:57<1:15:21, 19.08s/it]"
     ]
    },
    {
     "name": "stdout",
     "output_type": "stream",
     "text": [
      "File Name: dangtienne_7327877106879286536.mp4, File Size: 4.88 MB\n",
      "Total frames in video: 1378\n",
      "Frame indices to extract: [0, 275, 551, 826, 1102]\n",
      "Extracted 5 frames.\n"
     ]
    },
    {
     "name": "stderr",
     "output_type": "stream",
     "text": [
      "\n",
      "Processing Frames:   0%|          | 0/5 [00:00<?, ?it/s]\u001b[A\n",
      "Processing Frames:  20%|██        | 1/5 [00:03<00:12,  3.24s/it]\u001b[A\n",
      "Processing Frames:  40%|████      | 2/5 [00:06<00:10,  3.44s/it]\u001b[A\n",
      "Processing Frames:  60%|██████    | 3/5 [00:09<00:06,  3.27s/it]\u001b[A\n",
      "Processing Frames:  80%|████████  | 4/5 [00:13<00:03,  3.56s/it]\u001b[A\n",
      "Processing Frames: 100%|██████████| 5/5 [00:17<00:00,  3.46s/it]\u001b[A\n",
      "Processing Videos:  66%|██████▌   | 462/698 [2:26:16<1:15:11, 19.12s/it]"
     ]
    },
    {
     "name": "stdout",
     "output_type": "stream",
     "text": [
      "File Name: maphayke_7310945101100944648.mp4, File Size: 13.18 MB\n",
      "Total frames in video: 1909\n",
      "Frame indices to extract: [0, 381, 763, 1145, 1527]\n",
      "Extracted 5 frames.\n"
     ]
    },
    {
     "name": "stderr",
     "output_type": "stream",
     "text": [
      "\n",
      "Processing Frames:   0%|          | 0/5 [00:00<?, ?it/s]\u001b[A\n",
      "Processing Frames:  20%|██        | 1/5 [00:03<00:13,  3.28s/it]\u001b[A\n",
      "Processing Frames:  40%|████      | 2/5 [00:05<00:08,  2.81s/it]\u001b[A\n",
      "Processing Frames:  60%|██████    | 3/5 [00:08<00:05,  2.90s/it]\u001b[A\n",
      "Processing Frames:  80%|████████  | 4/5 [00:11<00:02,  2.97s/it]\u001b[A\n",
      "Processing Frames: 100%|██████████| 5/5 [00:15<00:00,  3.09s/it]\u001b[A\n",
      "Processing Videos:  66%|██████▋   | 463/698 [2:26:34<1:12:45, 18.58s/it]"
     ]
    },
    {
     "name": "stdout",
     "output_type": "stream",
     "text": [
      "File Name: anpham1310_6995886744520477953.mp4, File Size: 3.26 MB\n",
      "Total frames in video: 506\n",
      "Frame indices to extract: [0, 101, 202, 303, 404]\n",
      "Extracted 5 frames.\n"
     ]
    },
    {
     "name": "stderr",
     "output_type": "stream",
     "text": [
      "\n",
      "Processing Frames:   0%|          | 0/5 [00:00<?, ?it/s]\u001b[A\n",
      "Processing Frames:  20%|██        | 1/5 [00:04<00:16,  4.18s/it]\u001b[A\n",
      "Processing Frames:  40%|████      | 2/5 [00:08<00:12,  4.03s/it]\u001b[A\n",
      "Processing Frames:  60%|██████    | 3/5 [00:11<00:07,  3.85s/it]\u001b[A\n",
      "Processing Frames:  80%|████████  | 4/5 [00:14<00:03,  3.61s/it]\u001b[A\n",
      "Processing Frames: 100%|██████████| 5/5 [00:18<00:00,  3.64s/it]\u001b[A\n",
      "Processing Videos:  66%|██████▋   | 464/698 [2:26:54<1:14:36, 19.13s/it]"
     ]
    },
    {
     "name": "stdout",
     "output_type": "stream",
     "text": [
      "File Name: quanglanbui_7176254251042114843.mp4, File Size: 2.82 MB\n",
      "Total frames in video: 437\n",
      "Frame indices to extract: [0, 87, 174, 262, 349]\n",
      "Extracted 5 frames.\n"
     ]
    },
    {
     "name": "stderr",
     "output_type": "stream",
     "text": [
      "\n",
      "Processing Frames:   0%|          | 0/5 [00:00<?, ?it/s]\u001b[A\n",
      "Processing Frames:  20%|██        | 1/5 [00:03<00:12,  3.10s/it]\u001b[A\n",
      "Processing Frames:  40%|████      | 2/5 [00:05<00:08,  2.96s/it]\u001b[A\n",
      "Processing Frames:  60%|██████    | 3/5 [00:08<00:05,  2.90s/it]\u001b[A\n",
      "Processing Frames:  80%|████████  | 4/5 [00:11<00:02,  2.80s/it]\u001b[A\n",
      "Processing Frames: 100%|██████████| 5/5 [00:15<00:00,  3.05s/it]\u001b[A\n",
      "Processing Videos:  67%|██████▋   | 465/698 [2:27:11<1:11:44, 18.48s/it]"
     ]
    },
    {
     "name": "stdout",
     "output_type": "stream",
     "text": [
      "File Name: vo_media_7352140368319663378.mp4, File Size: 4.24 MB\n",
      "Total frames in video: 1230\n",
      "Frame indices to extract: [0, 246, 492, 738, 984]\n",
      "Extracted 5 frames.\n"
     ]
    },
    {
     "name": "stderr",
     "output_type": "stream",
     "text": [
      "\n",
      "Processing Frames:   0%|          | 0/5 [00:00<?, ?it/s]\u001b[A\n",
      "Processing Frames:  20%|██        | 1/5 [00:03<00:12,  3.15s/it]\u001b[A\n",
      "Processing Frames:  40%|████      | 2/5 [00:07<00:10,  3.66s/it]\u001b[A\n",
      "Processing Frames:  60%|██████    | 3/5 [00:11<00:07,  3.94s/it]\u001b[A\n",
      "Processing Frames:  80%|████████  | 4/5 [00:14<00:03,  3.50s/it]\u001b[A\n",
      "Processing Frames: 100%|██████████| 5/5 [00:17<00:00,  3.50s/it]\u001b[A\n",
      "Processing Videos:  67%|██████▋   | 466/698 [2:27:30<1:12:22, 18.72s/it]"
     ]
    },
    {
     "name": "stdout",
     "output_type": "stream",
     "text": [
      "File Name: _tolamidoriinee__7373298298809093383.mp4, File Size: 4.59 MB\n",
      "Total frames in video: 770\n",
      "Frame indices to extract: [0, 154, 308, 462, 616]\n",
      "Extracted 5 frames.\n"
     ]
    },
    {
     "name": "stderr",
     "output_type": "stream",
     "text": [
      "\n",
      "Processing Frames:   0%|          | 0/5 [00:00<?, ?it/s]\u001b[A\n",
      "Processing Frames:  20%|██        | 1/5 [00:03<00:12,  3.08s/it]\u001b[A\n",
      "Processing Frames:  40%|████      | 2/5 [00:06<00:09,  3.16s/it]\u001b[A\n",
      "Processing Frames:  60%|██████    | 3/5 [00:09<00:06,  3.03s/it]\u001b[A\n",
      "Processing Frames:  80%|████████  | 4/5 [00:12<00:03,  3.32s/it]\u001b[A\n",
      "Processing Frames: 100%|██████████| 5/5 [00:15<00:00,  3.16s/it]\u001b[A\n",
      "Processing Videos:  67%|██████▋   | 467/698 [2:27:48<1:10:36, 18.34s/it]"
     ]
    },
    {
     "name": "stdout",
     "output_type": "stream",
     "text": [
      "File Name: _tolamidoriinee__7372384794715491591.mp4, File Size: 3.81 MB\n",
      "Total frames in video: 882\n",
      "Frame indices to extract: [0, 176, 352, 529, 705]\n",
      "Extracted 5 frames.\n"
     ]
    },
    {
     "name": "stderr",
     "output_type": "stream",
     "text": [
      "\n",
      "Processing Frames:   0%|          | 0/5 [00:00<?, ?it/s]\u001b[A\n",
      "Processing Frames:  20%|██        | 1/5 [00:03<00:12,  3.07s/it]\u001b[A\n",
      "Processing Frames:  40%|████      | 2/5 [00:06<00:09,  3.26s/it]\u001b[A\n",
      "Processing Frames:  60%|██████    | 3/5 [00:09<00:06,  3.17s/it]\u001b[A\n",
      "Processing Frames:  80%|████████  | 4/5 [00:13<00:03,  3.33s/it]\u001b[A\n",
      "Processing Frames: 100%|██████████| 5/5 [00:16<00:00,  3.30s/it]\u001b[A\n",
      "Processing Videos:  67%|██████▋   | 468/698 [2:28:06<1:10:29, 18.39s/it]"
     ]
    },
    {
     "name": "stdout",
     "output_type": "stream",
     "text": [
      "File Name: hamuvevoi_7259726754363804929.mp4, File Size: 6.66 MB\n",
      "Total frames in video: 2141\n",
      "Frame indices to extract: [0, 428, 856, 1284, 1712]\n",
      "Extracted 5 frames.\n"
     ]
    },
    {
     "name": "stderr",
     "output_type": "stream",
     "text": [
      "\n",
      "Processing Frames:   0%|          | 0/5 [00:00<?, ?it/s]\u001b[A\n",
      "Processing Frames:  20%|██        | 1/5 [00:03<00:13,  3.28s/it]\u001b[A\n",
      "Processing Frames:  40%|████      | 2/5 [00:06<00:09,  3.12s/it]\u001b[A\n",
      "Processing Frames:  60%|██████    | 3/5 [00:09<00:06,  3.16s/it]\u001b[A\n",
      "Processing Frames:  80%|████████  | 4/5 [00:14<00:03,  3.74s/it]\u001b[A\n",
      "Processing Frames: 100%|██████████| 5/5 [00:17<00:00,  3.48s/it]\u001b[A\n",
      "Processing Videos:  67%|██████▋   | 469/698 [2:28:26<1:11:07, 18.64s/it]"
     ]
    },
    {
     "name": "stdout",
     "output_type": "stream",
     "text": [
      "File Name: 2tkids.com_7249369804656758024.mp4, File Size: 1.10 MB\n",
      "Total frames in video: 800\n",
      "Frame indices to extract: [0, 160, 320, 480, 640]\n",
      "Extracted 5 frames.\n"
     ]
    },
    {
     "name": "stderr",
     "output_type": "stream",
     "text": [
      "\n",
      "Processing Frames:   0%|          | 0/5 [00:00<?, ?it/s]\u001b[A\n",
      "Processing Frames:  20%|██        | 1/5 [00:03<00:14,  3.67s/it]\u001b[A\n",
      "Processing Frames:  40%|████      | 2/5 [00:07<00:10,  3.61s/it]\u001b[A\n",
      "Processing Frames:  60%|██████    | 3/5 [00:10<00:07,  3.59s/it]\u001b[A\n",
      "Processing Frames:  80%|████████  | 4/5 [00:14<00:03,  3.46s/it]\u001b[A\n",
      "Processing Frames: 100%|██████████| 5/5 [00:17<00:00,  3.45s/it]\u001b[A\n",
      "Processing Videos:  67%|██████▋   | 470/698 [2:28:45<1:11:18, 18.77s/it]"
     ]
    },
    {
     "name": "stdout",
     "output_type": "stream",
     "text": [
      "File Name: le_anh_nuoi_7280510472145603842.mp4, File Size: 29.50 MB\n",
      "Total frames in video: 3838\n",
      "Frame indices to extract: [0, 767, 1535, 2302, 3070]\n",
      "Extracted 5 frames.\n"
     ]
    },
    {
     "name": "stderr",
     "output_type": "stream",
     "text": [
      "\n",
      "Processing Frames:   0%|          | 0/5 [00:00<?, ?it/s]\u001b[A\n",
      "Processing Frames:  20%|██        | 1/5 [00:03<00:13,  3.47s/it]\u001b[A\n",
      "Processing Frames:  40%|████      | 2/5 [00:05<00:08,  2.88s/it]\u001b[A\n",
      "Processing Frames:  60%|██████    | 3/5 [00:09<00:06,  3.42s/it]\u001b[A\n",
      "Processing Frames:  80%|████████  | 4/5 [00:13<00:03,  3.42s/it]\u001b[A\n",
      "Processing Frames: 100%|██████████| 5/5 [00:16<00:00,  3.25s/it]\u001b[A\n",
      "Processing Videos:  67%|██████▋   | 471/698 [2:29:03<1:10:13, 18.56s/it]"
     ]
    },
    {
     "name": "stdout",
     "output_type": "stream",
     "text": [
      "File Name: tiktok.love.57_7285707184082554144.mp4, File Size: 9.65 MB\n",
      "Total frames in video: 1613\n",
      "Frame indices to extract: [0, 322, 645, 967, 1290]\n",
      "Extracted 5 frames.\n"
     ]
    },
    {
     "name": "stderr",
     "output_type": "stream",
     "text": [
      "\n",
      "Processing Frames:   0%|          | 0/5 [00:00<?, ?it/s]\u001b[A\n",
      "Processing Frames:  20%|██        | 1/5 [00:03<00:13,  3.42s/it]\u001b[A\n",
      "Processing Frames:  40%|████      | 2/5 [00:06<00:09,  3.33s/it]\u001b[A\n",
      "Processing Frames:  60%|██████    | 3/5 [00:08<00:05,  2.85s/it]\u001b[A\n",
      "Processing Frames:  80%|████████  | 4/5 [00:12<00:03,  3.06s/it]\u001b[A\n",
      "Processing Frames: 100%|██████████| 5/5 [00:15<00:00,  3.08s/it]\u001b[A\n",
      "Processing Videos:  68%|██████▊   | 472/698 [2:29:20<1:08:36, 18.22s/it]"
     ]
    },
    {
     "name": "stdout",
     "output_type": "stream",
     "text": [
      "File Name: kyucngoisao.official_7137161435536215323.mp4, File Size: 14.44 MB\n",
      "Total frames in video: 2277\n",
      "Frame indices to extract: [0, 455, 910, 1366, 1821]\n",
      "Extracted 5 frames.\n"
     ]
    },
    {
     "name": "stderr",
     "output_type": "stream",
     "text": [
      "\n",
      "Processing Frames:   0%|          | 0/5 [00:00<?, ?it/s]\u001b[A\n",
      "Processing Frames:  20%|██        | 1/5 [00:03<00:13,  3.25s/it]\u001b[A\n",
      "Processing Frames:  40%|████      | 2/5 [00:07<00:11,  3.86s/it]\u001b[A\n",
      "Processing Frames:  60%|██████    | 3/5 [00:12<00:08,  4.31s/it]\u001b[A\n",
      "Processing Frames:  80%|████████  | 4/5 [00:15<00:04,  4.03s/it]\u001b[A\n",
      "Processing Frames: 100%|██████████| 5/5 [00:19<00:00,  3.92s/it]\u001b[A\n",
      "Processing Videos:  68%|██████▊   | 473/698 [2:29:42<1:12:15, 19.27s/it]"
     ]
    },
    {
     "name": "stdout",
     "output_type": "stream",
     "text": [
      "File Name: hamuvevoi_7260846930496949505.mp4, File Size: 9.30 MB\n",
      "Total frames in video: 3606\n",
      "Frame indices to extract: [0, 721, 1442, 2163, 2884]\n",
      "Extracted 5 frames.\n"
     ]
    },
    {
     "name": "stderr",
     "output_type": "stream",
     "text": [
      "\n",
      "Processing Frames:   0%|          | 0/5 [00:00<?, ?it/s]\u001b[A\n",
      "Processing Frames:  20%|██        | 1/5 [00:04<00:19,  4.95s/it]\u001b[A\n",
      "Processing Frames:  40%|████      | 2/5 [00:07<00:11,  3.81s/it]\u001b[A\n",
      "Processing Frames:  60%|██████    | 3/5 [00:11<00:07,  3.62s/it]\u001b[A\n",
      "Processing Frames:  80%|████████  | 4/5 [00:14<00:03,  3.56s/it]\u001b[A\n",
      "Processing Frames: 100%|██████████| 5/5 [00:18<00:00,  3.73s/it]\u001b[A\n",
      "Processing Videos:  68%|██████▊   | 474/698 [2:30:03<1:13:59, 19.82s/it]"
     ]
    },
    {
     "name": "stdout",
     "output_type": "stream",
     "text": [
      "File Name: maythangtuw_7223608379992853765.mp4, File Size: 6.74 MB\n",
      "Total frames in video: 1313\n",
      "Frame indices to extract: [0, 262, 525, 787, 1050]\n",
      "Extracted 5 frames.\n"
     ]
    },
    {
     "name": "stderr",
     "output_type": "stream",
     "text": [
      "\n",
      "Processing Frames:   0%|          | 0/5 [00:00<?, ?it/s]\u001b[A\n",
      "Processing Frames:  20%|██        | 1/5 [00:03<00:12,  3.06s/it]\u001b[A\n",
      "Processing Frames:  40%|████      | 2/5 [00:06<00:09,  3.07s/it]\u001b[A\n",
      "Processing Frames:  60%|██████    | 3/5 [00:09<00:06,  3.21s/it]\u001b[A\n",
      "Processing Frames:  80%|████████  | 4/5 [00:12<00:03,  3.14s/it]\u001b[A\n",
      "Processing Frames: 100%|██████████| 5/5 [00:15<00:00,  3.16s/it]\u001b[A\n",
      "Processing Videos:  68%|██████▊   | 475/698 [2:30:21<1:11:19, 19.19s/it]"
     ]
    },
    {
     "name": "stdout",
     "output_type": "stream",
     "text": [
      "File Name: nghenhac.wetube_7218462118868340014.mp4, File Size: 4.21 MB\n",
      "Total frames in video: 846\n",
      "Frame indices to extract: [0, 169, 338, 507, 676]\n",
      "Extracted 5 frames.\n"
     ]
    },
    {
     "name": "stderr",
     "output_type": "stream",
     "text": [
      "\n",
      "Processing Frames:   0%|          | 0/5 [00:00<?, ?it/s]\u001b[A\n",
      "Processing Frames:  20%|██        | 1/5 [00:03<00:13,  3.26s/it]\u001b[A\n",
      "Processing Frames:  40%|████      | 2/5 [00:06<00:09,  3.15s/it]\u001b[A\n",
      "Processing Frames:  60%|██████    | 3/5 [00:10<00:07,  3.54s/it]\u001b[A\n",
      "Processing Frames:  80%|████████  | 4/5 [00:13<00:03,  3.33s/it]\u001b[A\n",
      "Processing Frames: 100%|██████████| 5/5 [00:16<00:00,  3.28s/it]\u001b[A\n",
      "Processing Videos:  68%|██████▊   | 476/698 [2:30:40<1:10:43, 19.12s/it]"
     ]
    },
    {
     "name": "stdout",
     "output_type": "stream",
     "text": [
      "File Name: taphoaanvat0_7367737216736464145.mp4, File Size: 17.38 MB\n",
      "Total frames in video: 2138\n",
      "Frame indices to extract: [0, 427, 855, 1282, 1710]\n",
      "Extracted 5 frames.\n"
     ]
    },
    {
     "name": "stderr",
     "output_type": "stream",
     "text": [
      "\n",
      "Processing Frames:   0%|          | 0/5 [00:00<?, ?it/s]\u001b[A\n",
      "Processing Frames:  20%|██        | 1/5 [00:03<00:12,  3.06s/it]\u001b[A\n",
      "Processing Frames:  40%|████      | 2/5 [00:06<00:09,  3.05s/it]\u001b[A\n",
      "Processing Frames:  60%|██████    | 3/5 [00:09<00:06,  3.07s/it]\u001b[A\n",
      "Processing Frames:  80%|████████  | 4/5 [00:12<00:03,  3.12s/it]\u001b[A\n",
      "Processing Frames: 100%|██████████| 5/5 [00:15<00:00,  3.09s/it]\u001b[A\n",
      "Processing Videos:  68%|██████▊   | 477/698 [2:30:57<1:08:44, 18.66s/it]"
     ]
    },
    {
     "name": "stdout",
     "output_type": "stream",
     "text": [
      "File Name: chuyencudaqua_7352477462640512274.mp4, File Size: 5.17 MB\n",
      "Total frames in video: 2684\n",
      "Frame indices to extract: [0, 536, 1073, 1610, 2147]\n",
      "Extracted 5 frames.\n"
     ]
    },
    {
     "name": "stderr",
     "output_type": "stream",
     "text": [
      "\n",
      "Processing Frames:   0%|          | 0/5 [00:00<?, ?it/s]\u001b[A\n",
      "Processing Frames:  20%|██        | 1/5 [00:03<00:12,  3.08s/it]\u001b[A\n",
      "Processing Frames:  40%|████      | 2/5 [00:06<00:10,  3.50s/it]\u001b[A\n",
      "Processing Frames:  60%|██████    | 3/5 [00:09<00:06,  3.32s/it]\u001b[A\n",
      "Processing Frames:  80%|████████  | 4/5 [00:13<00:03,  3.28s/it]\u001b[A\n",
      "Processing Frames: 100%|██████████| 5/5 [00:16<00:00,  3.39s/it]\u001b[A\n",
      "Processing Videos:  68%|██████▊   | 478/698 [2:31:16<1:08:25, 18.66s/it]"
     ]
    },
    {
     "name": "stdout",
     "output_type": "stream",
     "text": [
      "File Name: anvat.cungtui_7336608393529969921.mp4, File Size: 17.46 MB\n",
      "Total frames in video: 3163\n",
      "Frame indices to extract: [0, 632, 1265, 1897, 2530]\n",
      "Extracted 5 frames.\n"
     ]
    },
    {
     "name": "stderr",
     "output_type": "stream",
     "text": [
      "\n",
      "Processing Frames:   0%|          | 0/5 [00:00<?, ?it/s]\u001b[A\n",
      "Processing Frames:  20%|██        | 1/5 [00:03<00:12,  3.09s/it]\u001b[A\n",
      "Processing Frames:  40%|████      | 2/5 [00:06<00:10,  3.49s/it]\u001b[A\n",
      "Processing Frames:  60%|██████    | 3/5 [00:10<00:07,  3.52s/it]\u001b[A\n",
      "Processing Frames:  80%|████████  | 4/5 [00:14<00:03,  3.63s/it]\u001b[A\n",
      "Processing Frames: 100%|██████████| 5/5 [00:17<00:00,  3.52s/it]\u001b[A\n",
      "Processing Videos:  69%|██████▊   | 479/698 [2:31:35<1:09:05, 18.93s/it]"
     ]
    },
    {
     "name": "stdout",
     "output_type": "stream",
     "text": [
      "File Name: malloryhudsonxo_7187417397270154538.mp4, File Size: 10.33 MB\n",
      "Total frames in video: 3254\n",
      "Frame indices to extract: [0, 650, 1301, 1952, 2603]\n",
      "Extracted 5 frames.\n"
     ]
    },
    {
     "name": "stderr",
     "output_type": "stream",
     "text": [
      "\n",
      "Processing Frames:   0%|          | 0/5 [00:00<?, ?it/s]\u001b[A\n",
      "Processing Frames:  20%|██        | 1/5 [00:03<00:14,  3.54s/it]\u001b[A\n",
      "Processing Frames:  40%|████      | 2/5 [00:06<00:09,  3.24s/it]\u001b[A\n",
      "Processing Frames:  60%|██████    | 3/5 [00:10<00:06,  3.38s/it]\u001b[A\n",
      "Processing Frames:  80%|████████  | 4/5 [00:13<00:03,  3.48s/it]\u001b[A\n",
      "Processing Frames: 100%|██████████| 5/5 [00:17<00:00,  3.50s/it]\u001b[A\n",
      "Processing Videos:  69%|██████▉   | 480/698 [2:31:55<1:09:07, 19.02s/it]"
     ]
    },
    {
     "name": "stdout",
     "output_type": "stream",
     "text": [
      "File Name: fc_tuxinviolin_7344642756100295954.mp4, File Size: 21.03 MB\n",
      "Total frames in video: 6466\n",
      "Frame indices to extract: [0, 1293, 2586, 3879, 5172]\n",
      "Extracted 5 frames.\n"
     ]
    },
    {
     "name": "stderr",
     "output_type": "stream",
     "text": [
      "\n",
      "Processing Frames:   0%|          | 0/5 [00:00<?, ?it/s]\u001b[A\n",
      "Processing Frames:  20%|██        | 1/5 [00:03<00:13,  3.46s/it]\u001b[A\n",
      "Processing Frames:  40%|████      | 2/5 [00:06<00:10,  3.42s/it]\u001b[A\n",
      "Processing Frames:  60%|██████    | 3/5 [00:10<00:06,  3.40s/it]\u001b[A\n",
      "Processing Frames:  80%|████████  | 4/5 [00:14<00:03,  3.74s/it]\u001b[A\n",
      "Processing Frames: 100%|██████████| 5/5 [00:17<00:00,  3.58s/it]\u001b[A\n",
      "Processing Videos:  69%|██████▉   | 481/698 [2:32:15<1:10:05, 19.38s/it]"
     ]
    },
    {
     "name": "stdout",
     "output_type": "stream",
     "text": [
      "File Name: chuyencudaqua_7351372469065796872.mp4, File Size: 8.96 MB\n",
      "Total frames in video: 2664\n",
      "Frame indices to extract: [0, 532, 1065, 1598, 2131]\n",
      "Extracted 5 frames.\n"
     ]
    },
    {
     "name": "stderr",
     "output_type": "stream",
     "text": [
      "\n",
      "Processing Frames:   0%|          | 0/5 [00:00<?, ?it/s]\u001b[A\n",
      "Processing Frames:  20%|██        | 1/5 [00:03<00:15,  3.83s/it]\u001b[A\n",
      "Processing Frames:  40%|████      | 2/5 [00:06<00:09,  3.14s/it]\u001b[A\n",
      "Processing Frames:  60%|██████    | 3/5 [00:09<00:06,  3.18s/it]\u001b[A\n",
      "Processing Frames:  80%|████████  | 4/5 [00:12<00:03,  3.13s/it]\u001b[A\n",
      "Processing Frames: 100%|██████████| 5/5 [00:15<00:00,  3.09s/it]\u001b[A\n",
      "Processing Videos:  69%|██████▉   | 482/698 [2:32:32<1:07:28, 18.75s/it]"
     ]
    },
    {
     "name": "stdout",
     "output_type": "stream",
     "text": [
      "File Name: operation_niki_7274060398406405422.mp4, File Size: 18.41 MB\n",
      "Total frames in video: 2709\n",
      "Frame indices to extract: [0, 541, 1083, 1625, 2167]\n",
      "Extracted 5 frames.\n"
     ]
    },
    {
     "name": "stderr",
     "output_type": "stream",
     "text": [
      "\n",
      "Processing Frames:   0%|          | 0/5 [00:00<?, ?it/s]\u001b[A\n",
      "Processing Frames:  20%|██        | 1/5 [00:03<00:12,  3.05s/it]\u001b[A\n",
      "Processing Frames:  40%|████      | 2/5 [00:06<00:09,  3.06s/it]\u001b[A\n",
      "Processing Frames:  60%|██████    | 3/5 [00:09<00:06,  3.43s/it]\u001b[A\n",
      "Processing Frames:  80%|████████  | 4/5 [00:13<00:03,  3.41s/it]\u001b[A\n",
      "Processing Frames: 100%|██████████| 5/5 [00:16<00:00,  3.40s/it]\u001b[A\n",
      "Processing Videos:  69%|██████▉   | 483/698 [2:32:51<1:07:16, 18.77s/it]"
     ]
    },
    {
     "name": "stdout",
     "output_type": "stream",
     "text": [
      "File Name: cozy..place_7339556948536282400.mp4, File Size: 8.30 MB\n",
      "Total frames in video: 1807\n",
      "Frame indices to extract: [0, 361, 722, 1084, 1445]\n",
      "Extracted 5 frames.\n"
     ]
    },
    {
     "name": "stderr",
     "output_type": "stream",
     "text": [
      "\n",
      "Processing Frames:   0%|          | 0/5 [00:00<?, ?it/s]\u001b[A\n",
      "Processing Frames:  20%|██        | 1/5 [00:03<00:13,  3.41s/it]\u001b[A\n",
      "Processing Frames:  40%|████      | 2/5 [00:06<00:10,  3.42s/it]\u001b[A\n",
      "Processing Frames:  60%|██████    | 3/5 [00:10<00:07,  3.64s/it]\u001b[A\n",
      "Processing Frames:  80%|████████  | 4/5 [00:15<00:04,  4.12s/it]\u001b[A\n",
      "Processing Frames: 100%|██████████| 5/5 [00:19<00:00,  3.90s/it]\u001b[A\n",
      "Processing Videos:  69%|██████▉   | 484/698 [2:33:12<1:09:49, 19.58s/it]"
     ]
    },
    {
     "name": "stdout",
     "output_type": "stream",
     "text": [
      "File Name: char.jk7_7289659593628601602.mp4, File Size: 6.98 MB\n",
      "Total frames in video: 2136\n",
      "Frame indices to extract: [0, 427, 854, 1281, 1708]\n",
      "Extracted 5 frames.\n"
     ]
    },
    {
     "name": "stderr",
     "output_type": "stream",
     "text": [
      "\n",
      "Processing Frames:   0%|          | 0/5 [00:00<?, ?it/s]\u001b[A\n",
      "Processing Frames:  20%|██        | 1/5 [00:03<00:15,  3.81s/it]\u001b[A\n",
      "Processing Frames:  40%|████      | 2/5 [00:06<00:08,  2.94s/it]\u001b[A\n",
      "Processing Frames:  60%|██████    | 3/5 [00:09<00:05,  2.97s/it]\u001b[A\n",
      "Processing Frames:  80%|████████  | 4/5 [00:12<00:03,  3.13s/it]\u001b[A\n",
      "Processing Frames: 100%|██████████| 5/5 [00:15<00:00,  3.08s/it]\u001b[A\n",
      "Processing Videos:  69%|██████▉   | 485/698 [2:33:30<1:06:52, 18.84s/it]"
     ]
    },
    {
     "name": "stdout",
     "output_type": "stream",
     "text": [
      "File Name: checancook.3111_7332342177932086530.mp4, File Size: 18.15 MB\n",
      "Total frames in video: 3916\n",
      "Frame indices to extract: [0, 783, 1566, 2349, 3132]\n",
      "Extracted 5 frames.\n"
     ]
    },
    {
     "name": "stderr",
     "output_type": "stream",
     "text": [
      "\n",
      "Processing Frames:   0%|          | 0/5 [00:00<?, ?it/s]\u001b[A\n",
      "Processing Frames:  20%|██        | 1/5 [00:03<00:12,  3.24s/it]\u001b[A\n",
      "Processing Frames:  40%|████      | 2/5 [00:06<00:10,  3.45s/it]\u001b[A\n",
      "Processing Frames:  60%|██████    | 3/5 [00:09<00:06,  3.25s/it]\u001b[A\n",
      "Processing Frames:  80%|████████  | 4/5 [00:13<00:03,  3.30s/it]\u001b[A\n",
      "Processing Frames: 100%|██████████| 5/5 [00:17<00:00,  3.57s/it]\u001b[A\n",
      "Processing Videos:  70%|██████▉   | 486/698 [2:33:50<1:07:51, 19.21s/it]"
     ]
    },
    {
     "name": "stdout",
     "output_type": "stream",
     "text": [
      "File Name: tinathaothi_7359191152949562642.mp4, File Size: 62.39 MB\n",
      "Total frames in video: 8674\n",
      "Frame indices to extract: [0, 1734, 3469, 5204, 6939]\n",
      "Extracted 5 frames.\n"
     ]
    },
    {
     "name": "stderr",
     "output_type": "stream",
     "text": [
      "\n",
      "Processing Frames:   0%|          | 0/5 [00:00<?, ?it/s]\u001b[A\n",
      "Processing Frames:  20%|██        | 1/5 [00:03<00:12,  3.05s/it]\u001b[A\n",
      "Processing Frames:  40%|████      | 2/5 [00:06<00:09,  3.01s/it]\u001b[A\n",
      "Processing Frames:  60%|██████    | 3/5 [00:09<00:06,  3.20s/it]\u001b[A\n",
      "Processing Frames:  80%|████████  | 4/5 [00:12<00:03,  3.19s/it]\u001b[A\n",
      "Processing Frames: 100%|██████████| 5/5 [00:15<00:00,  3.12s/it]\u001b[A\n",
      "Processing Videos:  70%|██████▉   | 487/698 [2:34:07<1:06:08, 18.81s/it]"
     ]
    },
    {
     "name": "stdout",
     "output_type": "stream",
     "text": [
      "File Name: hoanganhmakeup.12_7351643916791319809.mp4, File Size: 2.65 MB\n",
      "Total frames in video: 279\n",
      "Frame indices to extract: [0, 55, 111, 167, 223]\n",
      "Extracted 5 frames.\n"
     ]
    },
    {
     "name": "stderr",
     "output_type": "stream",
     "text": [
      "\n",
      "Processing Frames:   0%|          | 0/5 [00:00<?, ?it/s]\u001b[A\n",
      "Processing Frames:  20%|██        | 1/5 [00:03<00:15,  4.00s/it]\u001b[A\n",
      "Processing Frames:  40%|████      | 2/5 [00:07<00:11,  3.73s/it]\u001b[A\n",
      "Processing Frames:  60%|██████    | 3/5 [00:12<00:08,  4.07s/it]\u001b[A\n",
      "Processing Frames:  80%|████████  | 4/5 [00:15<00:03,  3.73s/it]\u001b[A\n",
      "Processing Frames: 100%|██████████| 5/5 [00:18<00:00,  3.66s/it]\u001b[A\n",
      "Processing Videos:  70%|██████▉   | 488/698 [2:34:29<1:08:12, 19.49s/it]"
     ]
    },
    {
     "name": "stdout",
     "output_type": "stream",
     "text": [
      "File Name: mavis.vivuky_6933203980663262465.mp4, File Size: 4.30 MB\n",
      "Total frames in video: 534\n",
      "Frame indices to extract: [0, 106, 213, 320, 427]\n",
      "Extracted 5 frames.\n"
     ]
    },
    {
     "name": "stderr",
     "output_type": "stream",
     "text": [
      "\n",
      "Processing Frames:   0%|          | 0/5 [00:00<?, ?it/s]\u001b[A\n",
      "Processing Frames:  20%|██        | 1/5 [00:02<00:10,  2.67s/it]\u001b[A\n",
      "Processing Frames:  40%|████      | 2/5 [00:05<00:08,  2.97s/it]\u001b[A\n",
      "Processing Frames:  60%|██████    | 3/5 [00:08<00:06,  3.01s/it]\u001b[A\n",
      "Processing Frames:  80%|████████  | 4/5 [00:12<00:03,  3.08s/it]\u001b[A\n",
      "Processing Frames: 100%|██████████| 5/5 [00:15<00:00,  3.06s/it]\u001b[A\n",
      "Processing Videos:  70%|███████   | 489/698 [2:34:47<1:06:21, 19.05s/it]"
     ]
    },
    {
     "name": "stdout",
     "output_type": "stream",
     "text": [
      "File Name: krisvstudio_7290015475818351915.mp4, File Size: 4.13 MB\n",
      "Total frames in video: 1283\n",
      "Frame indices to extract: [0, 256, 513, 769, 1026]\n",
      "Extracted 5 frames.\n"
     ]
    },
    {
     "name": "stderr",
     "output_type": "stream",
     "text": [
      "\n",
      "Processing Frames:   0%|          | 0/5 [00:00<?, ?it/s]\u001b[A\n",
      "Processing Frames:  20%|██        | 1/5 [00:03<00:15,  3.82s/it]\u001b[A\n",
      "Processing Frames:  40%|████      | 2/5 [00:07<00:11,  3.81s/it]\u001b[A\n",
      "Processing Frames:  60%|██████    | 3/5 [00:10<00:06,  3.46s/it]\u001b[A\n",
      "Processing Frames:  80%|████████  | 4/5 [00:13<00:03,  3.29s/it]\u001b[A\n",
      "Processing Frames: 100%|██████████| 5/5 [00:16<00:00,  3.34s/it]\u001b[A\n",
      "Processing Videos:  70%|███████   | 490/698 [2:35:05<1:05:31, 18.90s/it]"
     ]
    },
    {
     "name": "stdout",
     "output_type": "stream",
     "text": [
      "File Name: hiendilac__7369202396511194385.mp4, File Size: 8.76 MB\n",
      "Total frames in video: 989\n",
      "Frame indices to extract: [0, 197, 395, 593, 791]\n",
      "Extracted 5 frames.\n"
     ]
    },
    {
     "name": "stderr",
     "output_type": "stream",
     "text": [
      "\n",
      "Processing Frames:   0%|          | 0/5 [00:00<?, ?it/s]\u001b[A\n",
      "Processing Frames:  20%|██        | 1/5 [00:03<00:12,  3.09s/it]\u001b[A\n",
      "Processing Frames:  40%|████      | 2/5 [00:06<00:09,  3.25s/it]\u001b[A\n",
      "Processing Frames:  60%|██████    | 3/5 [00:09<00:06,  3.29s/it]\u001b[A\n",
      "Processing Frames:  80%|████████  | 4/5 [00:13<00:03,  3.41s/it]\u001b[A\n",
      "Processing Frames: 100%|██████████| 5/5 [00:16<00:00,  3.35s/it]\u001b[A\n",
      "Processing Videos:  70%|███████   | 491/698 [2:35:24<1:04:49, 18.79s/it]"
     ]
    },
    {
     "name": "stdout",
     "output_type": "stream",
     "text": [
      "File Name: trong_rau_de_nhu_an_keo_7329813394645716231.mp4, File Size: 9.95 MB\n",
      "Total frames in video: 1514\n",
      "Frame indices to extract: [0, 302, 605, 908, 1211]\n",
      "Extracted 5 frames.\n"
     ]
    },
    {
     "name": "stderr",
     "output_type": "stream",
     "text": [
      "\n",
      "Processing Frames:   0%|          | 0/5 [00:00<?, ?it/s]\u001b[A\n",
      "Processing Frames:  20%|██        | 1/5 [00:02<00:11,  2.93s/it]\u001b[A\n",
      "Processing Frames:  40%|████      | 2/5 [00:06<00:09,  3.20s/it]\u001b[A\n",
      "Processing Frames:  60%|██████    | 3/5 [00:09<00:06,  3.29s/it]\u001b[A\n",
      "Processing Frames:  80%|████████  | 4/5 [00:12<00:03,  3.27s/it]\u001b[A\n",
      "Processing Frames: 100%|██████████| 5/5 [00:15<00:00,  3.16s/it]\u001b[A\n",
      "Processing Videos:  70%|███████   | 492/698 [2:35:41<1:03:26, 18.48s/it]"
     ]
    },
    {
     "name": "stdout",
     "output_type": "stream",
     "text": [
      "File Name: taphoaanvat0_7365855849266351376.mp4, File Size: 10.45 MB\n",
      "Total frames in video: 1350\n",
      "Frame indices to extract: [0, 270, 540, 810, 1080]\n",
      "Extracted 5 frames.\n"
     ]
    },
    {
     "name": "stderr",
     "output_type": "stream",
     "text": [
      "\n",
      "Processing Frames:   0%|          | 0/5 [00:00<?, ?it/s]\u001b[A\n",
      "Processing Frames:  20%|██        | 1/5 [00:03<00:14,  3.60s/it]\u001b[A\n",
      "Processing Frames:  40%|████      | 2/5 [00:06<00:10,  3.41s/it]\u001b[A\n",
      "Processing Frames:  60%|██████    | 3/5 [00:09<00:06,  3.23s/it]\u001b[A\n",
      "Processing Frames:  80%|████████  | 4/5 [00:14<00:03,  3.75s/it]\u001b[A\n",
      "Processing Frames: 100%|██████████| 5/5 [00:17<00:00,  3.58s/it]\u001b[A\n",
      "Processing Videos:  71%|███████   | 493/698 [2:36:01<1:04:27, 18.87s/it]"
     ]
    },
    {
     "name": "stdout",
     "output_type": "stream",
     "text": [
      "File Name: asmr_usa6_7340446953139948833.mp4, File Size: 50.61 MB\n",
      "Total frames in video: 6982\n",
      "Frame indices to extract: [0, 1396, 2792, 4189, 5585]\n",
      "Extracted 5 frames.\n"
     ]
    },
    {
     "name": "stderr",
     "output_type": "stream",
     "text": [
      "\n",
      "Processing Frames:   0%|          | 0/5 [00:00<?, ?it/s]\u001b[A\n",
      "Processing Frames:  20%|██        | 1/5 [00:03<00:12,  3.04s/it]\u001b[A\n",
      "Processing Frames:  40%|████      | 2/5 [00:05<00:08,  2.96s/it]\u001b[A\n",
      "Processing Frames:  60%|██████    | 3/5 [00:09<00:06,  3.08s/it]\u001b[A\n",
      "Processing Frames:  80%|████████  | 4/5 [00:12<00:03,  3.13s/it]\u001b[A\n",
      "Processing Frames: 100%|██████████| 5/5 [00:15<00:00,  3.04s/it]\u001b[A\n",
      "Processing Videos:  71%|███████   | 494/698 [2:36:18<1:02:13, 18.30s/it]"
     ]
    },
    {
     "name": "stdout",
     "output_type": "stream",
     "text": [
      "File Name: phuongmychiofficial_7324325313071041810.mp4, File Size: 17.92 MB\n",
      "Total frames in video: 1646\n",
      "Frame indices to extract: [0, 329, 658, 987, 1316]\n",
      "Extracted 5 frames.\n"
     ]
    },
    {
     "name": "stderr",
     "output_type": "stream",
     "text": [
      "\n",
      "Processing Frames:   0%|          | 0/5 [00:00<?, ?it/s]\u001b[A\n",
      "Processing Frames:  20%|██        | 1/5 [00:02<00:11,  2.87s/it]\u001b[A\n",
      "Processing Frames:  40%|████      | 2/5 [00:06<00:09,  3.17s/it]\u001b[A\n",
      "Processing Frames:  60%|██████    | 3/5 [00:10<00:07,  3.58s/it]\u001b[A\n",
      "Processing Frames:  80%|████████  | 4/5 [00:14<00:03,  3.79s/it]\u001b[A\n",
      "Processing Frames: 100%|██████████| 5/5 [00:17<00:00,  3.53s/it]\u001b[A\n",
      "Processing Videos:  71%|███████   | 495/698 [2:36:38<1:03:42, 18.83s/it]"
     ]
    },
    {
     "name": "stdout",
     "output_type": "stream",
     "text": [
      "File Name: sheri_wilson__7299599146028125482.mp4, File Size: 2.49 MB\n",
      "Total frames in video: 598\n",
      "Frame indices to extract: [0, 119, 239, 358, 478]\n",
      "Extracted 5 frames.\n"
     ]
    },
    {
     "name": "stderr",
     "output_type": "stream",
     "text": [
      "\n",
      "Processing Frames:   0%|          | 0/5 [00:00<?, ?it/s]\u001b[A\n",
      "Processing Frames:  20%|██        | 1/5 [00:03<00:14,  3.62s/it]\u001b[A\n",
      "Processing Frames:  40%|████      | 2/5 [00:08<00:13,  4.36s/it]\u001b[A\n",
      "Processing Frames:  60%|██████    | 3/5 [00:11<00:07,  3.93s/it]\u001b[A\n",
      "Processing Frames:  80%|████████  | 4/5 [00:15<00:03,  3.72s/it]\u001b[A\n",
      "Processing Frames: 100%|██████████| 5/5 [00:19<00:00,  3.82s/it]\u001b[A\n",
      "Processing Videos:  71%|███████   | 496/698 [2:36:59<1:05:22, 19.42s/it]"
     ]
    },
    {
     "name": "stdout",
     "output_type": "stream",
     "text": [
      "File Name: colortour68_7291668162582433026.mp4, File Size: 3.13 MB\n",
      "Total frames in video: 879\n",
      "Frame indices to extract: [0, 175, 351, 527, 703]\n",
      "Extracted 5 frames.\n"
     ]
    },
    {
     "name": "stderr",
     "output_type": "stream",
     "text": [
      "\n",
      "Processing Frames:   0%|          | 0/5 [00:00<?, ?it/s]\u001b[A\n",
      "Processing Frames:  20%|██        | 1/5 [00:03<00:13,  3.41s/it]\u001b[A\n",
      "Processing Frames:  40%|████      | 2/5 [00:06<00:09,  3.29s/it]\u001b[A\n",
      "Processing Frames:  60%|██████    | 3/5 [00:09<00:06,  3.20s/it]\u001b[A\n",
      "Processing Frames:  80%|████████  | 4/5 [00:12<00:03,  3.06s/it]\u001b[A\n",
      "Processing Frames: 100%|██████████| 5/5 [00:15<00:00,  3.08s/it]\u001b[A\n",
      "Processing Videos:  71%|███████   | 497/698 [2:37:17<1:03:21, 18.91s/it]"
     ]
    },
    {
     "name": "stdout",
     "output_type": "stream",
     "text": [
      "File Name: haivlvideo_7187615715287928107.mp4, File Size: 1.79 MB\n",
      "Total frames in video: 251\n",
      "Frame indices to extract: [0, 50, 100, 150, 200]\n",
      "Extracted 5 frames.\n"
     ]
    },
    {
     "name": "stderr",
     "output_type": "stream",
     "text": [
      "\n",
      "Processing Frames:   0%|          | 0/5 [00:00<?, ?it/s]\u001b[A\n",
      "Processing Frames:  20%|██        | 1/5 [00:03<00:12,  3.06s/it]\u001b[A\n",
      "Processing Frames:  40%|████      | 2/5 [00:06<00:09,  3.15s/it]\u001b[A\n",
      "Processing Frames:  60%|██████    | 3/5 [00:09<00:06,  3.20s/it]\u001b[A\n",
      "Processing Frames:  80%|████████  | 4/5 [00:12<00:03,  3.21s/it]\u001b[A\n",
      "Processing Frames: 100%|██████████| 5/5 [00:17<00:00,  3.44s/it]\u001b[A\n",
      "Processing Videos:  71%|███████▏  | 498/698 [2:37:36<1:03:36, 19.08s/it]"
     ]
    },
    {
     "name": "stdout",
     "output_type": "stream",
     "text": [
      "File Name: chutuphuyen_7372902320432090369.mp4, File Size: 22.17 MB\n",
      "Total frames in video: 1810\n",
      "Frame indices to extract: [0, 362, 724, 1086, 1448]\n",
      "Extracted 5 frames.\n"
     ]
    },
    {
     "name": "stderr",
     "output_type": "stream",
     "text": [
      "\n",
      "Processing Frames:   0%|          | 0/5 [00:00<?, ?it/s]\u001b[A\n",
      "Processing Frames:  20%|██        | 1/5 [00:03<00:14,  3.59s/it]\u001b[A\n",
      "Processing Frames:  40%|████      | 2/5 [00:06<00:10,  3.37s/it]\u001b[A\n",
      "Processing Frames:  60%|██████    | 3/5 [00:09<00:05,  2.96s/it]\u001b[A\n",
      "Processing Frames:  80%|████████  | 4/5 [00:12<00:03,  3.01s/it]\u001b[A\n",
      "Processing Frames: 100%|██████████| 5/5 [00:14<00:00,  2.97s/it]\u001b[A\n",
      "Processing Videos:  71%|███████▏  | 499/698 [2:37:53<1:01:19, 18.49s/it]"
     ]
    },
    {
     "name": "stdout",
     "output_type": "stream",
     "text": [
      "File Name: mattpianoman_7313561439808048385.mp4, File Size: 5.59 MB\n",
      "Total frames in video: 1351\n",
      "Frame indices to extract: [0, 270, 540, 810, 1080]\n",
      "Extracted 5 frames.\n"
     ]
    },
    {
     "name": "stderr",
     "output_type": "stream",
     "text": [
      "\n",
      "Processing Frames:   0%|          | 0/5 [00:00<?, ?it/s]\u001b[A\n",
      "Processing Frames:  20%|██        | 1/5 [00:03<00:12,  3.11s/it]\u001b[A\n",
      "Processing Frames:  40%|████      | 2/5 [00:05<00:08,  2.85s/it]\u001b[A\n",
      "Processing Frames:  60%|██████    | 3/5 [00:08<00:05,  2.93s/it]\u001b[A\n",
      "Processing Frames:  80%|████████  | 4/5 [00:12<00:03,  3.41s/it]\u001b[A\n",
      "Processing Frames: 100%|██████████| 5/5 [00:16<00:00,  3.26s/it]\u001b[A\n",
      "Processing Videos:  72%|███████▏  | 500/698 [2:38:12<1:01:08, 18.53s/it]"
     ]
    },
    {
     "name": "stdout",
     "output_type": "stream",
     "text": [
      "File Name: colortour68_7359753485769919745.mp4, File Size: 3.60 MB\n",
      "Total frames in video: 556\n",
      "Frame indices to extract: [0, 111, 222, 333, 444]\n",
      "Extracted 5 frames.\n"
     ]
    },
    {
     "name": "stderr",
     "output_type": "stream",
     "text": [
      "\n",
      "Processing Frames:   0%|          | 0/5 [00:00<?, ?it/s]\u001b[A\n",
      "Processing Frames:  20%|██        | 1/5 [00:03<00:13,  3.27s/it]\u001b[A\n",
      "Processing Frames:  40%|████      | 2/5 [00:06<00:09,  3.12s/it]\u001b[A\n",
      "Processing Frames:  60%|██████    | 3/5 [00:09<00:06,  3.15s/it]\u001b[A\n",
      "Processing Frames:  80%|████████  | 4/5 [00:12<00:03,  3.17s/it]\u001b[A\n",
      "Processing Frames: 100%|██████████| 5/5 [00:15<00:00,  3.18s/it]\u001b[A\n",
      "Processing Videos:  72%|███████▏  | 501/698 [2:38:31<1:01:49, 18.83s/it]"
     ]
    },
    {
     "name": "stdout",
     "output_type": "stream",
     "text": [
      "File Name: babykopohome_6811848253231910145.mp4, File Size: 16.71 MB\n",
      "Total frames in video: 1771\n",
      "Frame indices to extract: [0, 354, 708, 1062, 1416]\n",
      "Extracted 5 frames.\n"
     ]
    },
    {
     "name": "stderr",
     "output_type": "stream",
     "text": [
      "\n",
      "Processing Frames:   0%|          | 0/5 [00:00<?, ?it/s]\u001b[A\n",
      "Processing Frames:  20%|██        | 1/5 [00:03<00:12,  3.04s/it]\u001b[A\n",
      "Processing Frames:  40%|████      | 2/5 [00:07<00:11,  3.75s/it]\u001b[A\n",
      "Processing Frames:  60%|██████    | 3/5 [00:10<00:07,  3.57s/it]\u001b[A\n",
      "Processing Frames:  80%|████████  | 4/5 [00:14<00:03,  3.64s/it]\u001b[A\n",
      "Processing Frames: 100%|██████████| 5/5 [00:16<00:00,  3.31s/it]\u001b[A\n",
      "Processing Videos:  72%|███████▏  | 502/698 [2:38:50<1:01:03, 18.69s/it]"
     ]
    },
    {
     "name": "stdout",
     "output_type": "stream",
     "text": [
      "File Name: nuirungtv_7322394712348970272.mp4, File Size: 28.67 MB\n",
      "Total frames in video: 2124\n",
      "Frame indices to extract: [0, 424, 849, 1274, 1699]\n",
      "Extracted 5 frames.\n"
     ]
    },
    {
     "name": "stderr",
     "output_type": "stream",
     "text": [
      "\n",
      "Processing Frames:   0%|          | 0/5 [00:00<?, ?it/s]\u001b[A\n",
      "Processing Frames:  20%|██        | 1/5 [00:03<00:15,  3.77s/it]\u001b[A\n",
      "Processing Frames:  40%|████      | 2/5 [00:06<00:09,  3.21s/it]\u001b[A\n",
      "Processing Frames:  60%|██████    | 3/5 [00:10<00:06,  3.38s/it]\u001b[A\n",
      "Processing Frames:  80%|████████  | 4/5 [00:13<00:03,  3.39s/it]\u001b[A\n",
      "Processing Frames: 100%|██████████| 5/5 [00:16<00:00,  3.32s/it]\u001b[A\n",
      "Processing Videos:  72%|███████▏  | 503/698 [2:39:08<1:00:34, 18.64s/it]"
     ]
    },
    {
     "name": "stdout",
     "output_type": "stream",
     "text": [
      "File Name: mocuabatoctv_7084551803332791579.mp4, File Size: 24.61 MB\n",
      "Total frames in video: 3890\n",
      "Frame indices to extract: [0, 778, 1556, 2334, 3112]\n",
      "Extracted 5 frames.\n"
     ]
    },
    {
     "name": "stderr",
     "output_type": "stream",
     "text": [
      "\n",
      "Processing Frames:   0%|          | 0/5 [00:00<?, ?it/s]\u001b[A\n",
      "Processing Frames:  20%|██        | 1/5 [00:04<00:16,  4.16s/it]\u001b[A\n",
      "Processing Frames:  40%|████      | 2/5 [00:07<00:10,  3.62s/it]\u001b[A\n",
      "Processing Frames:  60%|██████    | 3/5 [00:10<00:06,  3.28s/it]\u001b[A\n",
      "Processing Frames:  80%|████████  | 4/5 [00:13<00:03,  3.26s/it]\u001b[A\n",
      "Processing Frames: 100%|██████████| 5/5 [00:16<00:00,  3.31s/it]\u001b[A\n",
      "Processing Videos:  72%|███████▏  | 504/698 [2:39:27<1:00:17, 18.65s/it]"
     ]
    },
    {
     "name": "stdout",
     "output_type": "stream",
     "text": [
      "File Name: maphayke_7349925257639202066.mp4, File Size: 9.49 MB\n",
      "Total frames in video: 1578\n",
      "Frame indices to extract: [0, 315, 631, 946, 1262]\n",
      "Extracted 5 frames.\n"
     ]
    },
    {
     "name": "stderr",
     "output_type": "stream",
     "text": [
      "\n",
      "Processing Frames:   0%|          | 0/5 [00:00<?, ?it/s]\u001b[A\n",
      "Processing Frames:  20%|██        | 1/5 [00:03<00:12,  3.09s/it]\u001b[A\n",
      "Processing Frames:  40%|████      | 2/5 [00:06<00:09,  3.07s/it]\u001b[A\n",
      "Processing Frames:  60%|██████    | 3/5 [00:10<00:07,  3.57s/it]\u001b[A\n",
      "Processing Frames:  80%|████████  | 4/5 [00:13<00:03,  3.58s/it]\u001b[A\n",
      "Processing Frames: 100%|██████████| 5/5 [00:17<00:00,  3.56s/it]\u001b[A\n",
      "Processing Videos:  72%|███████▏  | 505/698 [2:39:47<1:01:10, 19.02s/it]"
     ]
    },
    {
     "name": "stdout",
     "output_type": "stream",
     "text": [
      "File Name: jadysday._.6462_7333252827302595842.mp4, File Size: 5.96 MB\n",
      "Total frames in video: 1421\n",
      "Frame indices to extract: [0, 284, 568, 852, 1136]\n",
      "Extracted 5 frames.\n"
     ]
    },
    {
     "name": "stderr",
     "output_type": "stream",
     "text": [
      "\n",
      "Processing Frames:   0%|          | 0/5 [00:00<?, ?it/s]\u001b[A\n",
      "Processing Frames:  20%|██        | 1/5 [00:03<00:14,  3.59s/it]\u001b[A\n",
      "Processing Frames:  40%|████      | 2/5 [00:06<00:10,  3.36s/it]\u001b[A\n",
      "Processing Frames:  60%|██████    | 3/5 [00:10<00:06,  3.39s/it]\u001b[A\n",
      "Processing Frames:  80%|████████  | 4/5 [00:14<00:03,  3.61s/it]\u001b[A\n",
      "Processing Frames: 100%|██████████| 5/5 [00:17<00:00,  3.47s/it]\u001b[A\n",
      "Processing Videos:  72%|███████▏  | 506/698 [2:40:06<1:01:08, 19.11s/it]"
     ]
    },
    {
     "name": "stdout",
     "output_type": "stream",
     "text": [
      "File Name: kingenglishkids.anime_7324658873543953697.mp4, File Size: 3.94 MB\n",
      "Total frames in video: 2292\n",
      "Frame indices to extract: [0, 458, 916, 1375, 1833]\n",
      "Extracted 5 frames.\n"
     ]
    },
    {
     "name": "stderr",
     "output_type": "stream",
     "text": [
      "\n",
      "Processing Frames:   0%|          | 0/5 [00:00<?, ?it/s]\u001b[A\n",
      "Processing Frames:  20%|██        | 1/5 [00:03<00:13,  3.32s/it]\u001b[A\n",
      "Processing Frames:  40%|████      | 2/5 [00:06<00:10,  3.36s/it]\u001b[A\n",
      "Processing Frames:  60%|██████    | 3/5 [00:11<00:07,  3.80s/it]\u001b[A\n",
      "Processing Frames:  80%|████████  | 4/5 [00:14<00:03,  3.64s/it]\u001b[A\n",
      "Processing Frames: 100%|██████████| 5/5 [00:17<00:00,  3.56s/it]\u001b[A\n",
      "Processing Videos:  73%|███████▎  | 507/698 [2:40:26<1:01:20, 19.27s/it]"
     ]
    },
    {
     "name": "stdout",
     "output_type": "stream",
     "text": [
      "File Name: q.baosky1996_7320067839728160018.mp4, File Size: 20.01 MB\n",
      "Total frames in video: 3638\n",
      "Frame indices to extract: [0, 727, 1455, 2182, 2910]\n",
      "Extracted 5 frames.\n"
     ]
    },
    {
     "name": "stderr",
     "output_type": "stream",
     "text": [
      "\n",
      "Processing Frames:   0%|          | 0/5 [00:00<?, ?it/s]\u001b[A\n",
      "Processing Frames:  20%|██        | 1/5 [00:03<00:13,  3.25s/it]\u001b[A\n",
      "Processing Frames:  40%|████      | 2/5 [00:06<00:09,  3.24s/it]\u001b[A\n",
      "Processing Frames:  60%|██████    | 3/5 [00:09<00:06,  3.22s/it]\u001b[A\n",
      "Processing Frames:  80%|████████  | 4/5 [00:12<00:03,  3.17s/it]\u001b[A\n",
      "Processing Frames: 100%|██████████| 5/5 [00:15<00:00,  3.19s/it]\u001b[A\n",
      "Processing Videos:  73%|███████▎  | 508/698 [2:40:44<1:00:16, 19.03s/it]"
     ]
    },
    {
     "name": "stdout",
     "output_type": "stream",
     "text": [
      "File Name: mikeamnhac_7343597430270889217.mp4, File Size: 2.78 MB\n",
      "Total frames in video: 1846\n",
      "Frame indices to extract: [0, 369, 738, 1107, 1476]\n",
      "Extracted 5 frames.\n"
     ]
    },
    {
     "name": "stderr",
     "output_type": "stream",
     "text": [
      "\n",
      "Processing Frames:   0%|          | 0/5 [00:00<?, ?it/s]\u001b[A\n",
      "Processing Frames:  20%|██        | 1/5 [00:04<00:17,  4.36s/it]\u001b[A\n",
      "Processing Frames:  40%|████      | 2/5 [00:07<00:11,  3.74s/it]\u001b[A\n",
      "Processing Frames:  60%|██████    | 3/5 [00:11<00:07,  3.65s/it]\u001b[A\n",
      "Processing Frames:  80%|████████  | 4/5 [00:14<00:03,  3.62s/it]\u001b[A\n",
      "Processing Frames: 100%|██████████| 5/5 [00:18<00:00,  3.67s/it]\u001b[A\n",
      "Processing Videos:  73%|███████▎  | 509/698 [2:41:05<1:01:07, 19.40s/it]"
     ]
    },
    {
     "name": "stdout",
     "output_type": "stream",
     "text": [
      "File Name: toysbabyhome_7275186107963231490.mp4, File Size: 7.89 MB\n",
      "Total frames in video: 992\n",
      "Frame indices to extract: [0, 198, 396, 595, 793]\n",
      "Extracted 5 frames.\n"
     ]
    },
    {
     "name": "stderr",
     "output_type": "stream",
     "text": [
      "\n",
      "Processing Frames:   0%|          | 0/5 [00:00<?, ?it/s]\u001b[A\n",
      "Processing Frames:  20%|██        | 1/5 [00:03<00:12,  3.12s/it]\u001b[A\n",
      "Processing Frames:  40%|████      | 2/5 [00:05<00:08,  2.95s/it]\u001b[A\n",
      "Processing Frames:  60%|██████    | 3/5 [00:09<00:06,  3.05s/it]\u001b[A\n",
      "Processing Frames:  80%|████████  | 4/5 [00:12<00:03,  3.14s/it]\u001b[A\n",
      "Processing Frames: 100%|██████████| 5/5 [00:15<00:00,  3.10s/it]\u001b[A\n",
      "Processing Videos:  73%|███████▎  | 510/698 [2:41:22<58:50, 18.78s/it]  "
     ]
    },
    {
     "name": "stdout",
     "output_type": "stream",
     "text": [
      "File Name: maythangtuw_7224504866595507462.mp4, File Size: 10.54 MB\n",
      "Total frames in video: 1279\n",
      "Frame indices to extract: [0, 255, 511, 767, 1023]\n",
      "Extracted 5 frames.\n"
     ]
    },
    {
     "name": "stderr",
     "output_type": "stream",
     "text": [
      "\n",
      "Processing Frames:   0%|          | 0/5 [00:00<?, ?it/s]\u001b[A\n",
      "Processing Frames:  20%|██        | 1/5 [00:03<00:13,  3.40s/it]\u001b[A\n",
      "Processing Frames:  40%|████      | 2/5 [00:06<00:09,  3.30s/it]\u001b[A\n",
      "Processing Frames:  60%|██████    | 3/5 [00:10<00:06,  3.35s/it]\u001b[A\n",
      "Processing Frames:  80%|████████  | 4/5 [00:13<00:03,  3.36s/it]\u001b[A\n",
      "Processing Frames: 100%|██████████| 5/5 [00:16<00:00,  3.29s/it]\u001b[A\n",
      "Processing Videos:  73%|███████▎  | 511/698 [2:41:40<58:09, 18.66s/it]"
     ]
    },
    {
     "name": "stdout",
     "output_type": "stream",
     "text": [
      "File Name: 000cartoon000_7276786268674084128.mp4, File Size: 16.47 MB\n",
      "Total frames in video: 3361\n",
      "Frame indices to extract: [0, 672, 1344, 2016, 2688]\n",
      "Extracted 5 frames.\n"
     ]
    },
    {
     "name": "stderr",
     "output_type": "stream",
     "text": [
      "\n",
      "Processing Frames:   0%|          | 0/5 [00:00<?, ?it/s]\u001b[A\n",
      "Processing Frames:  20%|██        | 1/5 [00:03<00:12,  3.22s/it]\u001b[A\n",
      "Processing Frames:  40%|████      | 2/5 [00:06<00:09,  3.23s/it]\u001b[A\n",
      "Processing Frames:  60%|██████    | 3/5 [00:09<00:06,  3.30s/it]\u001b[A\n",
      "Processing Frames:  80%|████████  | 4/5 [00:15<00:04,  4.25s/it]\u001b[A\n",
      "Processing Frames: 100%|██████████| 5/5 [00:18<00:00,  3.68s/it]\u001b[A\n",
      "Processing Videos:  73%|███████▎  | 512/698 [2:42:00<59:06, 19.07s/it]"
     ]
    },
    {
     "name": "stdout",
     "output_type": "stream",
     "text": [
      "File Name: anghhtyns3f_7323161960986529056.mp4, File Size: 2.97 MB\n",
      "Total frames in video: 1125\n",
      "Frame indices to extract: [0, 225, 450, 675, 900]\n",
      "Extracted 5 frames.\n"
     ]
    },
    {
     "name": "stderr",
     "output_type": "stream",
     "text": [
      "\n",
      "Processing Frames:   0%|          | 0/5 [00:00<?, ?it/s]\u001b[A\n",
      "Processing Frames:  20%|██        | 1/5 [00:03<00:12,  3.04s/it]\u001b[A\n",
      "Processing Frames:  40%|████      | 2/5 [00:05<00:08,  2.81s/it]\u001b[A\n",
      "Processing Frames:  60%|██████    | 3/5 [00:08<00:06,  3.01s/it]\u001b[A\n",
      "Processing Frames:  80%|████████  | 4/5 [00:12<00:03,  3.15s/it]\u001b[A\n",
      "Processing Frames: 100%|██████████| 5/5 [00:15<00:00,  3.10s/it]\u001b[A\n",
      "Processing Videos:  73%|███████▎  | 513/698 [2:42:18<57:15, 18.57s/it]"
     ]
    },
    {
     "name": "stdout",
     "output_type": "stream",
     "text": [
      "File Name: colortour68_7277931967365123329.mp4, File Size: 2.69 MB\n",
      "Total frames in video: 595\n",
      "Frame indices to extract: [0, 119, 238, 357, 476]\n",
      "Extracted 5 frames.\n"
     ]
    },
    {
     "name": "stderr",
     "output_type": "stream",
     "text": [
      "\n",
      "Processing Frames:   0%|          | 0/5 [00:00<?, ?it/s]\u001b[A\n",
      "Processing Frames:  20%|██        | 1/5 [00:03<00:12,  3.20s/it]\u001b[A\n",
      "Processing Frames:  40%|████      | 2/5 [00:06<00:09,  3.26s/it]\u001b[A\n",
      "Processing Frames:  60%|██████    | 3/5 [00:10<00:06,  3.39s/it]\u001b[A\n",
      "Processing Frames:  80%|████████  | 4/5 [00:12<00:03,  3.18s/it]\u001b[A\n",
      "Processing Frames: 100%|██████████| 5/5 [00:16<00:00,  3.33s/it]\u001b[A\n",
      "Processing Videos:  74%|███████▎  | 514/698 [2:42:37<57:43, 18.82s/it]"
     ]
    },
    {
     "name": "stdout",
     "output_type": "stream",
     "text": [
      "File Name: giadunggaunho_7359126522550078727.mp4, File Size: 5.31 MB\n",
      "Total frames in video: 750\n",
      "Frame indices to extract: [0, 150, 300, 450, 600]\n",
      "Extracted 5 frames.\n"
     ]
    },
    {
     "name": "stderr",
     "output_type": "stream",
     "text": [
      "\n",
      "Processing Frames:   0%|          | 0/5 [00:00<?, ?it/s]\u001b[A\n",
      "Processing Frames:  20%|██        | 1/5 [00:03<00:13,  3.41s/it]\u001b[A\n",
      "Processing Frames:  40%|████      | 2/5 [00:06<00:10,  3.40s/it]\u001b[A\n",
      "Processing Frames:  60%|██████    | 3/5 [00:09<00:06,  3.25s/it]\u001b[A\n",
      "Processing Frames:  80%|████████  | 4/5 [00:12<00:03,  3.08s/it]\u001b[A\n",
      "Processing Frames: 100%|██████████| 5/5 [00:15<00:00,  3.11s/it]\u001b[A\n",
      "Processing Videos:  74%|███████▍  | 515/698 [2:42:55<56:35, 18.55s/it]"
     ]
    },
    {
     "name": "stdout",
     "output_type": "stream",
     "text": [
      "File Name: aloherndez_7298779522743192874.mp4, File Size: 1.56 MB\n",
      "Total frames in video: 422\n",
      "Frame indices to extract: [0, 84, 168, 253, 337]\n",
      "Extracted 5 frames.\n"
     ]
    },
    {
     "name": "stderr",
     "output_type": "stream",
     "text": [
      "\n",
      "Processing Frames:   0%|          | 0/5 [00:00<?, ?it/s]\u001b[A\n",
      "Processing Frames:  20%|██        | 1/5 [00:03<00:14,  3.67s/it]\u001b[A\n",
      "Processing Frames:  40%|████      | 2/5 [00:06<00:10,  3.43s/it]\u001b[A\n",
      "Processing Frames:  60%|██████    | 3/5 [00:10<00:06,  3.40s/it]\u001b[A\n",
      "Processing Frames:  80%|████████  | 4/5 [00:13<00:03,  3.33s/it]\u001b[A\n",
      "Processing Frames: 100%|██████████| 5/5 [00:16<00:00,  3.27s/it]\u001b[A\n",
      "Processing Videos:  74%|███████▍  | 516/698 [2:43:13<55:55, 18.44s/it]"
     ]
    },
    {
     "name": "stdout",
     "output_type": "stream",
     "text": [
      "File Name: patt.tran_7096818762942270746.mp4, File Size: 1.91 MB\n",
      "Total frames in video: 346\n",
      "Frame indices to extract: [0, 69, 138, 207, 276]\n",
      "Extracted 5 frames.\n"
     ]
    },
    {
     "name": "stderr",
     "output_type": "stream",
     "text": [
      "\n",
      "Processing Frames:   0%|          | 0/5 [00:00<?, ?it/s]\u001b[A\n",
      "Processing Frames:  20%|██        | 1/5 [00:04<00:16,  4.01s/it]\u001b[A\n",
      "Processing Frames:  40%|████      | 2/5 [00:07<00:10,  3.41s/it]\u001b[A\n",
      "Processing Frames:  60%|██████    | 3/5 [00:10<00:06,  3.48s/it]\u001b[A\n",
      "Processing Frames:  80%|████████  | 4/5 [00:13<00:03,  3.31s/it]\u001b[A\n",
      "Processing Frames: 100%|██████████| 5/5 [00:16<00:00,  3.33s/it]\u001b[A\n",
      "Processing Videos:  74%|███████▍  | 517/698 [2:43:32<55:33, 18.42s/it]"
     ]
    },
    {
     "name": "stdout",
     "output_type": "stream",
     "text": [
      "File Name: thupear.review_7353613892553133329.mp4, File Size: 10.76 MB\n",
      "Total frames in video: 1903\n",
      "Frame indices to extract: [0, 380, 761, 1141, 1522]\n",
      "Extracted 5 frames.\n"
     ]
    },
    {
     "name": "stderr",
     "output_type": "stream",
     "text": [
      "\n",
      "Processing Frames:   0%|          | 0/5 [00:00<?, ?it/s]\u001b[A\n",
      "Processing Frames:  20%|██        | 1/5 [00:03<00:15,  3.82s/it]\u001b[A\n",
      "Processing Frames:  40%|████      | 2/5 [00:07<00:11,  3.93s/it]\u001b[A\n",
      "Processing Frames:  60%|██████    | 3/5 [00:10<00:06,  3.42s/it]\u001b[A\n",
      "Processing Frames:  80%|████████  | 4/5 [00:14<00:03,  3.55s/it]\u001b[A\n",
      "Processing Frames: 100%|██████████| 5/5 [00:17<00:00,  3.46s/it]\u001b[A\n",
      "Processing Videos:  74%|███████▍  | 518/698 [2:43:51<55:54, 18.63s/it]"
     ]
    },
    {
     "name": "stdout",
     "output_type": "stream",
     "text": [
      "File Name: areumdecor_7358089732191980818.mp4, File Size: 9.54 MB\n",
      "Total frames in video: 1633\n",
      "Frame indices to extract: [0, 326, 653, 979, 1306]\n",
      "Extracted 5 frames.\n"
     ]
    },
    {
     "name": "stderr",
     "output_type": "stream",
     "text": [
      "\n",
      "Processing Frames:   0%|          | 0/5 [00:00<?, ?it/s]\u001b[A\n",
      "Processing Frames:  20%|██        | 1/5 [00:03<00:13,  3.25s/it]\u001b[A\n",
      "Processing Frames:  40%|████      | 2/5 [00:06<00:10,  3.35s/it]\u001b[A\n",
      "Processing Frames:  60%|██████    | 3/5 [00:09<00:06,  3.13s/it]\u001b[A\n",
      "Processing Frames:  80%|████████  | 4/5 [00:13<00:03,  3.42s/it]\u001b[A\n",
      "Processing Frames: 100%|██████████| 5/5 [00:16<00:00,  3.29s/it]\u001b[A\n",
      "Processing Videos:  74%|███████▍  | 519/698 [2:44:10<55:42, 18.67s/it]"
     ]
    },
    {
     "name": "stdout",
     "output_type": "stream",
     "text": [
      "File Name: toongadventure_7288932260298984706.mp4, File Size: 7.74 MB\n",
      "Total frames in video: 602\n",
      "Frame indices to extract: [0, 120, 240, 361, 481]\n",
      "Extracted 5 frames.\n"
     ]
    },
    {
     "name": "stderr",
     "output_type": "stream",
     "text": [
      "\n",
      "Processing Frames:   0%|          | 0/5 [00:00<?, ?it/s]\u001b[A\n",
      "Processing Frames:  20%|██        | 1/5 [00:03<00:15,  3.78s/it]\u001b[A\n",
      "Processing Frames:  40%|████      | 2/5 [00:07<00:11,  3.80s/it]\u001b[A\n",
      "Processing Frames:  60%|██████    | 3/5 [00:10<00:06,  3.44s/it]\u001b[A\n",
      "Processing Frames:  80%|████████  | 4/5 [00:13<00:03,  3.34s/it]\u001b[A\n",
      "Processing Frames: 100%|██████████| 5/5 [00:16<00:00,  3.30s/it]\u001b[A\n",
      "Processing Videos:  74%|███████▍  | 520/698 [2:44:29<55:43, 18.79s/it]"
     ]
    },
    {
     "name": "stdout",
     "output_type": "stream",
     "text": [
      "File Name: phamvanduaa_7119628480366513435.mp4, File Size: 38.88 MB\n",
      "Total frames in video: 2687\n",
      "Frame indices to extract: [0, 537, 1074, 1612, 2149]\n",
      "Extracted 5 frames.\n"
     ]
    },
    {
     "name": "stderr",
     "output_type": "stream",
     "text": [
      "\n",
      "Processing Frames:   0%|          | 0/5 [00:00<?, ?it/s]\u001b[A\n",
      "Processing Frames:  20%|██        | 1/5 [00:03<00:12,  3.21s/it]\u001b[A\n",
      "Processing Frames:  40%|████      | 2/5 [00:06<00:09,  3.27s/it]\u001b[A\n",
      "Processing Frames:  60%|██████    | 3/5 [00:10<00:06,  3.40s/it]\u001b[A\n",
      "Processing Frames:  80%|████████  | 4/5 [00:13<00:03,  3.38s/it]\u001b[A\n",
      "Processing Frames: 100%|██████████| 5/5 [00:16<00:00,  3.36s/it]\u001b[A\n",
      "Processing Videos:  75%|███████▍  | 521/698 [2:44:48<55:55, 18.96s/it]"
     ]
    },
    {
     "name": "stdout",
     "output_type": "stream",
     "text": [
      "File Name: elyitclean_7271996918350302469.mp4, File Size: 28.03 MB\n",
      "Total frames in video: 12691\n",
      "Frame indices to extract: [0, 2538, 5076, 7614, 10152]\n",
      "Extracted 5 frames.\n"
     ]
    },
    {
     "name": "stderr",
     "output_type": "stream",
     "text": [
      "\n",
      "Processing Frames:   0%|          | 0/5 [00:00<?, ?it/s]\u001b[A\n",
      "Processing Frames:  20%|██        | 1/5 [00:03<00:12,  3.06s/it]\u001b[A\n",
      "Processing Frames:  40%|████      | 2/5 [00:06<00:09,  3.03s/it]\u001b[A\n",
      "Processing Frames:  60%|██████    | 3/5 [00:09<00:06,  3.05s/it]\u001b[A\n",
      "Processing Frames:  80%|████████  | 4/5 [00:12<00:03,  3.11s/it]\u001b[A\n",
      "Processing Frames: 100%|██████████| 5/5 [00:15<00:00,  3.10s/it]\u001b[A\n",
      "Processing Videos:  75%|███████▍  | 522/698 [2:45:06<54:28, 18.57s/it]"
     ]
    },
    {
     "name": "stdout",
     "output_type": "stream",
     "text": [
      "File Name: thanhtuyendaily_7269243545322605830.mp4, File Size: 21.64 MB\n",
      "Total frames in video: 2672\n",
      "Frame indices to extract: [0, 534, 1068, 1603, 2137]\n",
      "Extracted 5 frames.\n"
     ]
    },
    {
     "name": "stderr",
     "output_type": "stream",
     "text": [
      "\n",
      "Processing Frames:   0%|          | 0/5 [00:00<?, ?it/s]\u001b[A\n",
      "Processing Frames:  20%|██        | 1/5 [00:04<00:17,  4.48s/it]\u001b[A\n",
      "Processing Frames:  40%|████      | 2/5 [00:07<00:11,  3.72s/it]\u001b[A\n",
      "Processing Frames:  60%|██████    | 3/5 [00:10<00:06,  3.32s/it]\u001b[A\n",
      "Processing Frames:  80%|████████  | 4/5 [00:14<00:03,  3.43s/it]\u001b[A\n",
      "Processing Frames: 100%|██████████| 5/5 [00:17<00:00,  3.46s/it]\u001b[A\n",
      "Processing Videos:  75%|███████▍  | 523/698 [2:45:25<54:53, 18.82s/it]"
     ]
    },
    {
     "name": "stdout",
     "output_type": "stream",
     "text": [
      "File Name: nhomnhomfood_6890138567138413825.mp4, File Size: 17.05 MB\n",
      "Total frames in video: 2086\n",
      "Frame indices to extract: [0, 417, 834, 1251, 1668]\n",
      "Extracted 5 frames.\n"
     ]
    },
    {
     "name": "stderr",
     "output_type": "stream",
     "text": [
      "\n",
      "Processing Frames:   0%|          | 0/5 [00:00<?, ?it/s]\u001b[A\n",
      "Processing Frames:  20%|██        | 1/5 [00:03<00:15,  3.85s/it]\u001b[A\n",
      "Processing Frames:  40%|████      | 2/5 [00:07<00:12,  4.00s/it]\u001b[A\n",
      "Processing Frames:  60%|██████    | 3/5 [00:10<00:06,  3.48s/it]\u001b[A\n",
      "Processing Frames:  80%|████████  | 4/5 [00:14<00:03,  3.39s/it]\u001b[A\n",
      "Processing Frames: 100%|██████████| 5/5 [00:18<00:00,  3.62s/it]\u001b[A\n",
      "Processing Videos:  75%|███████▌  | 524/698 [2:45:45<55:34, 19.16s/it]"
     ]
    },
    {
     "name": "stdout",
     "output_type": "stream",
     "text": [
      "File Name: astro_physiccs_7222539049708440859.mp4, File Size: 9.63 MB\n",
      "Total frames in video: 2475\n",
      "Frame indices to extract: [0, 495, 990, 1485, 1980]\n",
      "Extracted 5 frames.\n"
     ]
    },
    {
     "name": "stderr",
     "output_type": "stream",
     "text": [
      "\n",
      "Processing Frames:   0%|          | 0/5 [00:00<?, ?it/s]\u001b[A\n",
      "Processing Frames:  20%|██        | 1/5 [00:03<00:13,  3.28s/it]\u001b[A\n",
      "Processing Frames:  40%|████      | 2/5 [00:08<00:12,  4.20s/it]\u001b[A\n",
      "Processing Frames:  60%|██████    | 3/5 [00:11<00:07,  3.85s/it]\u001b[A\n",
      "Processing Frames:  80%|████████  | 4/5 [00:14<00:03,  3.58s/it]\u001b[A\n",
      "Processing Frames: 100%|██████████| 5/5 [00:18<00:00,  3.66s/it]\u001b[A\n",
      "Processing Videos:  75%|███████▌  | 525/698 [2:46:05<56:12, 19.49s/it]"
     ]
    },
    {
     "name": "stdout",
     "output_type": "stream",
     "text": [
      "File Name: _catben__6964500173191924998.mp4, File Size: 10.02 MB\n",
      "Total frames in video: 3316\n",
      "Frame indices to extract: [0, 663, 1326, 1989, 2652]\n",
      "Extracted 5 frames.\n"
     ]
    },
    {
     "name": "stderr",
     "output_type": "stream",
     "text": [
      "\n",
      "Processing Frames:   0%|          | 0/5 [00:00<?, ?it/s]\u001b[A\n",
      "Processing Frames:  20%|██        | 1/5 [00:03<00:14,  3.65s/it]\u001b[A\n",
      "Processing Frames:  40%|████      | 2/5 [00:06<00:10,  3.38s/it]\u001b[A\n",
      "Processing Frames:  60%|██████    | 3/5 [00:10<00:07,  3.60s/it]\u001b[A\n",
      "Processing Frames:  80%|████████  | 4/5 [00:13<00:03,  3.31s/it]\u001b[A\n",
      "Processing Frames: 100%|██████████| 5/5 [00:17<00:00,  3.43s/it]\u001b[A\n",
      "Processing Videos:  75%|███████▌  | 526/698 [2:46:25<55:44, 19.44s/it]"
     ]
    },
    {
     "name": "stdout",
     "output_type": "stream",
     "text": [
      "File Name: linhcuuhoadaily_7251050218685254918.mp4, File Size: 10.52 MB\n",
      "Total frames in video: 2502\n",
      "Frame indices to extract: [0, 500, 1000, 1501, 2001]\n",
      "Extracted 5 frames.\n"
     ]
    },
    {
     "name": "stderr",
     "output_type": "stream",
     "text": [
      "\n",
      "Processing Frames:   0%|          | 0/5 [00:00<?, ?it/s]\u001b[A\n",
      "Processing Frames:  20%|██        | 1/5 [00:03<00:13,  3.49s/it]\u001b[A\n",
      "Processing Frames:  40%|████      | 2/5 [00:06<00:10,  3.42s/it]\u001b[A\n",
      "Processing Frames:  60%|██████    | 3/5 [00:10<00:06,  3.32s/it]\u001b[A\n",
      "Processing Frames:  80%|████████  | 4/5 [00:13<00:03,  3.28s/it]\u001b[A\n",
      "Processing Frames: 100%|██████████| 5/5 [00:16<00:00,  3.33s/it]\u001b[A\n",
      "Processing Videos:  76%|███████▌  | 527/698 [2:46:43<54:47, 19.22s/it]"
     ]
    },
    {
     "name": "stdout",
     "output_type": "stream",
     "text": [
      "File Name: truongquynhanh1201_7086069253853531419.mp4, File Size: 8.53 MB\n",
      "Total frames in video: 890\n",
      "Frame indices to extract: [0, 178, 356, 534, 712]\n",
      "Extracted 5 frames.\n"
     ]
    },
    {
     "name": "stderr",
     "output_type": "stream",
     "text": [
      "\n",
      "Processing Frames:   0%|          | 0/5 [00:00<?, ?it/s]\u001b[A\n",
      "Processing Frames:  20%|██        | 1/5 [00:03<00:15,  3.82s/it]\u001b[A\n",
      "Processing Frames:  40%|████      | 2/5 [00:06<00:10,  3.38s/it]\u001b[A\n",
      "Processing Frames:  60%|██████    | 3/5 [00:09<00:06,  3.20s/it]\u001b[A\n",
      "Processing Frames:  80%|████████  | 4/5 [00:13<00:03,  3.36s/it]\u001b[A\n",
      "Processing Frames: 100%|██████████| 5/5 [00:16<00:00,  3.37s/it]\u001b[A\n",
      "Processing Videos:  76%|███████▌  | 528/698 [2:47:03<54:32, 19.25s/it]"
     ]
    },
    {
     "name": "stdout",
     "output_type": "stream",
     "text": [
      "File Name: dongam_den.vauvn_7342517929457618177.mp4, File Size: 14.62 MB\n",
      "Total frames in video: 1678\n",
      "Frame indices to extract: [0, 335, 671, 1006, 1342]\n",
      "Extracted 5 frames.\n"
     ]
    },
    {
     "name": "stderr",
     "output_type": "stream",
     "text": [
      "\n",
      "Processing Frames:   0%|          | 0/5 [00:00<?, ?it/s]\u001b[A\n",
      "Processing Frames:  20%|██        | 1/5 [00:03<00:14,  3.60s/it]\u001b[A\n",
      "Processing Frames:  40%|████      | 2/5 [00:07<00:10,  3.48s/it]\u001b[A\n",
      "Processing Frames:  60%|██████    | 3/5 [00:10<00:06,  3.34s/it]\u001b[A\n",
      "Processing Frames:  80%|████████  | 4/5 [00:13<00:03,  3.21s/it]\u001b[A\n",
      "Processing Frames: 100%|██████████| 5/5 [00:16<00:00,  3.40s/it]\u001b[A\n",
      "Processing Videos:  76%|███████▌  | 529/698 [2:47:22<54:08, 19.22s/it]"
     ]
    },
    {
     "name": "stdout",
     "output_type": "stream",
     "text": [
      "File Name: le_anh_nuoi_7279089177411472642.mp4, File Size: 9.91 MB\n",
      "Total frames in video: 1428\n",
      "Frame indices to extract: [0, 285, 571, 856, 1142]\n",
      "Extracted 5 frames.\n"
     ]
    },
    {
     "name": "stderr",
     "output_type": "stream",
     "text": [
      "\n",
      "Processing Frames:   0%|          | 0/5 [00:00<?, ?it/s]\u001b[A\n",
      "Processing Frames:  20%|██        | 1/5 [00:03<00:15,  3.76s/it]\u001b[A\n",
      "Processing Frames:  40%|████      | 2/5 [00:07<00:10,  3.58s/it]\u001b[A\n",
      "Processing Frames:  60%|██████    | 3/5 [00:10<00:07,  3.57s/it]\u001b[A\n",
      "Processing Frames:  80%|████████  | 4/5 [00:13<00:03,  3.36s/it]\u001b[A\n",
      "Processing Frames: 100%|██████████| 5/5 [00:17<00:00,  3.45s/it]\u001b[A\n",
      "Processing Videos:  76%|███████▌  | 530/698 [2:47:41<53:51, 19.23s/it]"
     ]
    },
    {
     "name": "stdout",
     "output_type": "stream",
     "text": [
      "File Name: mocuabatoctv_7012989788219395355.mp4, File Size: 33.63 MB\n",
      "Total frames in video: 2280\n",
      "Frame indices to extract: [0, 456, 912, 1368, 1824]\n",
      "Extracted 5 frames.\n"
     ]
    },
    {
     "name": "stderr",
     "output_type": "stream",
     "text": [
      "\n",
      "Processing Frames:   0%|          | 0/5 [00:00<?, ?it/s]\u001b[A\n",
      "Processing Frames:  20%|██        | 1/5 [00:03<00:12,  3.22s/it]\u001b[A\n",
      "Processing Frames:  40%|████      | 2/5 [00:06<00:09,  3.02s/it]\u001b[A\n",
      "Processing Frames:  60%|██████    | 3/5 [00:09<00:06,  3.28s/it]\u001b[A\n",
      "Processing Frames:  80%|████████  | 4/5 [00:14<00:03,  3.71s/it]\u001b[A\n",
      "Processing Frames: 100%|██████████| 5/5 [00:17<00:00,  3.49s/it]\u001b[A\n",
      "Processing Videos:  76%|███████▌  | 531/698 [2:48:01<54:33, 19.60s/it]"
     ]
    },
    {
     "name": "stdout",
     "output_type": "stream",
     "text": [
      "File Name: chutuphuyen_7323352427564928258.mp4, File Size: 16.14 MB\n",
      "Total frames in video: 2661\n",
      "Frame indices to extract: [0, 532, 1064, 1596, 2128]\n",
      "Extracted 5 frames.\n"
     ]
    },
    {
     "name": "stderr",
     "output_type": "stream",
     "text": [
      "\n",
      "Processing Frames:   0%|          | 0/5 [00:00<?, ?it/s]\u001b[A\n",
      "Processing Frames:  20%|██        | 1/5 [00:03<00:12,  3.22s/it]\u001b[A\n",
      "Processing Frames:  40%|████      | 2/5 [00:06<00:09,  3.12s/it]\u001b[A\n",
      "Processing Frames:  60%|██████    | 3/5 [00:09<00:05,  2.99s/it]\u001b[A\n",
      "Processing Frames:  80%|████████  | 4/5 [00:12<00:03,  3.06s/it]\u001b[A\n",
      "Processing Frames: 100%|██████████| 5/5 [00:15<00:00,  3.07s/it]\u001b[A\n",
      "Processing Videos:  76%|███████▌  | 532/698 [2:48:19<52:15, 18.89s/it]"
     ]
    },
    {
     "name": "stdout",
     "output_type": "stream",
     "text": [
      "File Name: chutuphuyen_7369190949769006352.mp4, File Size: 46.18 MB\n",
      "Total frames in video: 5273\n",
      "Frame indices to extract: [0, 1054, 2109, 3163, 4218]\n",
      "Extracted 5 frames.\n"
     ]
    },
    {
     "name": "stderr",
     "output_type": "stream",
     "text": [
      "\n",
      "Processing Frames:   0%|          | 0/5 [00:00<?, ?it/s]\u001b[A\n",
      "Processing Frames:  20%|██        | 1/5 [00:03<00:15,  3.78s/it]\u001b[A\n",
      "Processing Frames:  40%|████      | 2/5 [00:07<00:11,  3.96s/it]\u001b[A\n",
      "Processing Frames:  60%|██████    | 3/5 [00:10<00:07,  3.53s/it]\u001b[A\n",
      "Processing Frames:  80%|████████  | 4/5 [00:14<00:03,  3.47s/it]\u001b[A\n",
      "Processing Frames: 100%|██████████| 5/5 [00:19<00:00,  3.82s/it]\u001b[A\n",
      "Processing Videos:  76%|███████▋  | 533/698 [2:48:40<54:16, 19.73s/it]"
     ]
    },
    {
     "name": "stdout",
     "output_type": "stream",
     "text": [
      "File Name: hnhi.kpa_7261119908073819418.mp4, File Size: 14.32 MB\n",
      "Total frames in video: 5246\n",
      "Frame indices to extract: [0, 1049, 2098, 3147, 4196]\n",
      "Extracted 5 frames.\n"
     ]
    },
    {
     "name": "stderr",
     "output_type": "stream",
     "text": [
      "\n",
      "Processing Frames:   0%|          | 0/5 [00:00<?, ?it/s]\u001b[A\n",
      "Processing Frames:  20%|██        | 1/5 [00:02<00:11,  2.85s/it]\u001b[A\n",
      "Processing Frames:  40%|████      | 2/5 [00:05<00:08,  2.83s/it]\u001b[A\n",
      "Processing Frames:  60%|██████    | 3/5 [00:09<00:06,  3.33s/it]\u001b[A\n",
      "Processing Frames:  80%|████████  | 4/5 [00:12<00:03,  3.13s/it]\u001b[A\n",
      "Processing Frames: 100%|██████████| 5/5 [00:15<00:00,  3.12s/it]\u001b[A\n",
      "Processing Videos:  77%|███████▋  | 534/698 [2:48:58<52:10, 19.09s/it]"
     ]
    },
    {
     "name": "stdout",
     "output_type": "stream",
     "text": [
      "File Name: duchieumedia_7234111629087034630.mp4, File Size: 8.69 MB\n",
      "Total frames in video: 557\n",
      "Frame indices to extract: [0, 111, 222, 334, 445]\n",
      "Extracted 5 frames.\n"
     ]
    },
    {
     "name": "stderr",
     "output_type": "stream",
     "text": [
      "\n",
      "Processing Frames:   0%|          | 0/5 [00:00<?, ?it/s]\u001b[A\n",
      "Processing Frames:  20%|██        | 1/5 [00:03<00:13,  3.39s/it]\u001b[A\n",
      "Processing Frames:  40%|████      | 2/5 [00:06<00:09,  3.26s/it]\u001b[A\n",
      "Processing Frames:  60%|██████    | 3/5 [00:09<00:06,  3.25s/it]\u001b[A\n",
      "Processing Frames:  80%|████████  | 4/5 [00:13<00:03,  3.30s/it]\u001b[A\n",
      "Processing Frames: 100%|██████████| 5/5 [00:16<00:00,  3.20s/it]\u001b[A\n",
      "Processing Videos:  77%|███████▋  | 535/698 [2:49:16<51:08, 18.82s/it]"
     ]
    },
    {
     "name": "stdout",
     "output_type": "stream",
     "text": [
      "File Name: kaelimaee_7005996100448537861.mp4, File Size: 26.58 MB\n",
      "Total frames in video: 3205\n",
      "Frame indices to extract: [0, 641, 1282, 1923, 2564]\n",
      "Extracted 5 frames.\n"
     ]
    },
    {
     "name": "stderr",
     "output_type": "stream",
     "text": [
      "\n",
      "Processing Frames:   0%|          | 0/5 [00:00<?, ?it/s]\u001b[A\n",
      "Processing Frames:  20%|██        | 1/5 [00:03<00:13,  3.31s/it]\u001b[A\n",
      "Processing Frames:  40%|████      | 2/5 [00:08<00:12,  4.24s/it]\u001b[A\n",
      "Processing Frames:  60%|██████    | 3/5 [00:12<00:08,  4.39s/it]\u001b[A\n",
      "Processing Frames:  80%|████████  | 4/5 [00:15<00:03,  3.84s/it]\u001b[A\n",
      "Processing Frames: 100%|██████████| 5/5 [00:19<00:00,  3.83s/it]\u001b[A\n",
      "Processing Videos:  77%|███████▋  | 536/698 [2:49:37<52:37, 19.49s/it]"
     ]
    },
    {
     "name": "stdout",
     "output_type": "stream",
     "text": [
      "File Name: brooklynrreidhead_7296569413308796203.mp4, File Size: 5.98 MB\n",
      "Total frames in video: 1304\n",
      "Frame indices to extract: [0, 260, 521, 782, 1043]\n",
      "Extracted 5 frames.\n"
     ]
    },
    {
     "name": "stderr",
     "output_type": "stream",
     "text": [
      "\n",
      "Processing Frames:   0%|          | 0/5 [00:00<?, ?it/s]\u001b[A\n",
      "Processing Frames:  20%|██        | 1/5 [00:03<00:12,  3.24s/it]\u001b[A\n",
      "Processing Frames:  40%|████      | 2/5 [00:06<00:10,  3.44s/it]\u001b[A\n",
      "Processing Frames:  60%|██████    | 3/5 [00:10<00:06,  3.44s/it]\u001b[A\n",
      "Processing Frames:  80%|████████  | 4/5 [00:13<00:03,  3.28s/it]\u001b[A\n",
      "Processing Frames: 100%|██████████| 5/5 [00:16<00:00,  3.30s/it]\u001b[A\n",
      "Processing Videos:  77%|███████▋  | 537/698 [2:49:55<51:18, 19.12s/it]"
     ]
    },
    {
     "name": "stdout",
     "output_type": "stream",
     "text": [
      "File Name: echtajfo6yd_7232170066530422021.mp4, File Size: 3.71 MB\n",
      "Total frames in video: 683\n",
      "Frame indices to extract: [0, 136, 273, 409, 546]\n",
      "Extracted 5 frames.\n"
     ]
    },
    {
     "name": "stderr",
     "output_type": "stream",
     "text": [
      "\n",
      "Processing Frames:   0%|          | 0/5 [00:00<?, ?it/s]\u001b[A\n",
      "Processing Frames:  20%|██        | 1/5 [00:03<00:13,  3.49s/it]\u001b[A\n",
      "Processing Frames:  40%|████      | 2/5 [00:08<00:12,  4.16s/it]\u001b[A\n",
      "Processing Frames:  60%|██████    | 3/5 [00:12<00:08,  4.49s/it]\u001b[A\n",
      "Processing Frames:  80%|████████  | 4/5 [00:16<00:04,  4.05s/it]\u001b[A\n",
      "Processing Frames: 100%|██████████| 5/5 [00:20<00:00,  4.02s/it]\u001b[A\n",
      "Processing Videos:  77%|███████▋  | 538/698 [2:50:18<53:30, 20.06s/it]"
     ]
    },
    {
     "name": "stdout",
     "output_type": "stream",
     "text": [
      "File Name: haentertaiment_7153536177432235265.mp4, File Size: 2.80 MB\n",
      "Total frames in video: 615\n",
      "Frame indices to extract: [0, 123, 246, 369, 492]\n",
      "Extracted 5 frames.\n"
     ]
    },
    {
     "name": "stderr",
     "output_type": "stream",
     "text": [
      "\n",
      "Processing Frames:   0%|          | 0/5 [00:00<?, ?it/s]\u001b[A\n",
      "Processing Frames:  20%|██        | 1/5 [00:02<00:10,  2.68s/it]\u001b[A\n",
      "Processing Frames:  40%|████      | 2/5 [00:05<00:08,  2.99s/it]\u001b[A\n",
      "Processing Frames:  60%|██████    | 3/5 [00:08<00:06,  3.02s/it]\u001b[A\n",
      "Processing Frames:  80%|████████  | 4/5 [00:13<00:03,  3.74s/it]\u001b[A\n",
      "Processing Frames: 100%|██████████| 5/5 [00:16<00:00,  3.36s/it]\u001b[A\n",
      "Processing Videos:  77%|███████▋  | 539/698 [2:50:36<52:05, 19.65s/it]"
     ]
    },
    {
     "name": "stdout",
     "output_type": "stream",
     "text": [
      "File Name: sheri_wilson__7314427025198943534.mp4, File Size: 2.28 MB\n",
      "Total frames in video: 675\n",
      "Frame indices to extract: [0, 135, 270, 405, 540]\n",
      "Extracted 5 frames.\n"
     ]
    },
    {
     "name": "stderr",
     "output_type": "stream",
     "text": [
      "\n",
      "Processing Frames:   0%|          | 0/5 [00:00<?, ?it/s]\u001b[A\n",
      "Processing Frames:  20%|██        | 1/5 [00:03<00:14,  3.58s/it]\u001b[A\n",
      "Processing Frames:  40%|████      | 2/5 [00:07<00:10,  3.57s/it]\u001b[A\n",
      "Processing Frames:  60%|██████    | 3/5 [00:10<00:06,  3.42s/it]\u001b[A\n",
      "Processing Frames:  80%|████████  | 4/5 [00:13<00:03,  3.48s/it]\u001b[A\n",
      "Processing Frames: 100%|██████████| 5/5 [00:17<00:00,  3.47s/it]\u001b[A\n",
      "Processing Videos:  77%|███████▋  | 540/698 [2:50:56<51:30, 19.56s/it]"
     ]
    },
    {
     "name": "stdout",
     "output_type": "stream",
     "text": [
      "File Name: hoshiphan_7375512474809928961.mp4, File Size: 19.43 MB\n",
      "Total frames in video: 3645\n",
      "Frame indices to extract: [0, 729, 1458, 2187, 2916]\n",
      "Extracted 5 frames.\n"
     ]
    },
    {
     "name": "stderr",
     "output_type": "stream",
     "text": [
      "\n",
      "Processing Frames:   0%|          | 0/5 [00:00<?, ?it/s]\u001b[A\n",
      "Processing Frames:  20%|██        | 1/5 [00:03<00:13,  3.29s/it]\u001b[A\n",
      "Processing Frames:  40%|████      | 2/5 [00:06<00:10,  3.34s/it]\u001b[A\n",
      "Processing Frames:  60%|██████    | 3/5 [00:10<00:06,  3.36s/it]\u001b[A\n",
      "Processing Frames:  80%|████████  | 4/5 [00:14<00:03,  3.64s/it]\u001b[A\n",
      "Processing Frames: 100%|██████████| 5/5 [00:17<00:00,  3.57s/it]\u001b[A\n",
      "Processing Videos:  78%|███████▊  | 541/698 [2:51:16<51:27, 19.67s/it]"
     ]
    },
    {
     "name": "stdout",
     "output_type": "stream",
     "text": [
      "File Name: juu.xuann11_7353115401670151431.mp4, File Size: 1.64 MB\n",
      "Total frames in video: 453\n",
      "Frame indices to extract: [0, 90, 181, 271, 362]\n",
      "Extracted 5 frames.\n"
     ]
    },
    {
     "name": "stderr",
     "output_type": "stream",
     "text": [
      "\n",
      "Processing Frames:   0%|          | 0/5 [00:00<?, ?it/s]\u001b[A\n",
      "Processing Frames:  20%|██        | 1/5 [00:02<00:11,  2.75s/it]\u001b[A\n",
      "Processing Frames:  40%|████      | 2/5 [00:05<00:09,  3.03s/it]\u001b[A\n",
      "Processing Frames:  60%|██████    | 3/5 [00:09<00:06,  3.03s/it]\u001b[A\n",
      "Processing Frames:  80%|████████  | 4/5 [00:12<00:03,  3.05s/it]\u001b[A\n",
      "Processing Frames: 100%|██████████| 5/5 [00:14<00:00,  2.99s/it]\u001b[A\n",
      "Processing Videos:  78%|███████▊  | 542/698 [2:51:32<48:41, 18.73s/it]"
     ]
    },
    {
     "name": "stdout",
     "output_type": "stream",
     "text": [
      "File Name: zi.truong_7029312403707874586.mp4, File Size: 5.04 MB\n",
      "Total frames in video: 1703\n",
      "Frame indices to extract: [0, 340, 681, 1021, 1362]\n",
      "Extracted 5 frames.\n"
     ]
    },
    {
     "name": "stderr",
     "output_type": "stream",
     "text": [
      "\n",
      "Processing Frames:   0%|          | 0/5 [00:00<?, ?it/s]\u001b[A\n",
      "Processing Frames:  20%|██        | 1/5 [00:03<00:15,  3.88s/it]\u001b[A\n",
      "Processing Frames:  40%|████      | 2/5 [00:08<00:12,  4.06s/it]\u001b[A\n",
      "Processing Frames:  60%|██████    | 3/5 [00:11<00:07,  3.71s/it]\u001b[A\n",
      "Processing Frames:  80%|████████  | 4/5 [00:14<00:03,  3.55s/it]\u001b[A\n",
      "Processing Frames: 100%|██████████| 5/5 [00:17<00:00,  3.54s/it]\u001b[A\n",
      "Processing Videos:  78%|███████▊  | 543/698 [2:51:53<49:34, 19.19s/it]"
     ]
    },
    {
     "name": "stdout",
     "output_type": "stream",
     "text": [
      "File Name: nhi_libertyy_7357640926165994753.mp4, File Size: 3.89 MB\n",
      "Total frames in video: 772\n",
      "Frame indices to extract: [0, 154, 308, 463, 617]\n",
      "Extracted 5 frames.\n"
     ]
    },
    {
     "name": "stderr",
     "output_type": "stream",
     "text": [
      "\n",
      "Processing Frames:   0%|          | 0/5 [00:00<?, ?it/s]\u001b[A\n",
      "Processing Frames:  20%|██        | 1/5 [00:03<00:14,  3.64s/it]\u001b[A\n",
      "Processing Frames:  40%|████      | 2/5 [00:06<00:09,  3.32s/it]\u001b[A\n",
      "Processing Frames:  60%|██████    | 3/5 [00:09<00:06,  3.28s/it]\u001b[A\n",
      "Processing Frames:  80%|████████  | 4/5 [00:13<00:03,  3.26s/it]\u001b[A\n",
      "Processing Frames: 100%|██████████| 5/5 [00:16<00:00,  3.29s/it]\u001b[A\n",
      "Processing Videos:  78%|███████▊  | 544/698 [2:52:11<48:47, 19.01s/it]"
     ]
    },
    {
     "name": "stdout",
     "output_type": "stream",
     "text": [
      "File Name: colortour68_7355286493226683665.mp4, File Size: 24.41 MB\n",
      "Total frames in video: 2908\n",
      "Frame indices to extract: [0, 581, 1163, 1744, 2326]\n",
      "Extracted 5 frames.\n"
     ]
    },
    {
     "name": "stderr",
     "output_type": "stream",
     "text": [
      "\n",
      "Processing Frames:   0%|          | 0/5 [00:00<?, ?it/s]\u001b[A\n",
      "Processing Frames:  20%|██        | 1/5 [00:03<00:14,  3.74s/it]\u001b[A\n",
      "Processing Frames:  40%|████      | 2/5 [00:07<00:10,  3.47s/it]\u001b[A\n",
      "Processing Frames:  60%|██████    | 3/5 [00:10<00:06,  3.35s/it]\u001b[A\n",
      "Processing Frames:  80%|████████  | 4/5 [00:13<00:03,  3.29s/it]\u001b[A\n",
      "Processing Frames: 100%|██████████| 5/5 [00:16<00:00,  3.30s/it]\u001b[A\n",
      "Processing Videos:  78%|███████▊  | 545/698 [2:52:30<48:18, 18.94s/it]"
     ]
    },
    {
     "name": "stdout",
     "output_type": "stream",
     "text": [
      "File Name: 2conmeova1baycho_7324654657173851413.mp4, File Size: 8.62 MB\n",
      "Total frames in video: 1166\n",
      "Frame indices to extract: [0, 233, 466, 699, 932]\n",
      "Extracted 5 frames.\n"
     ]
    },
    {
     "name": "stderr",
     "output_type": "stream",
     "text": [
      "\n",
      "Processing Frames:   0%|          | 0/5 [00:00<?, ?it/s]\u001b[A\n",
      "Processing Frames:  20%|██        | 1/5 [00:03<00:12,  3.07s/it]\u001b[A\n",
      "Processing Frames:  40%|████      | 2/5 [00:06<00:09,  3.05s/it]\u001b[A\n",
      "Processing Frames:  60%|██████    | 3/5 [00:09<00:05,  2.99s/it]\u001b[A\n",
      "Processing Frames:  80%|████████  | 4/5 [00:12<00:03,  3.15s/it]\u001b[A\n",
      "Processing Frames: 100%|██████████| 5/5 [00:16<00:00,  3.27s/it]\u001b[A\n",
      "Processing Videos:  78%|███████▊  | 546/698 [2:52:49<47:47, 18.86s/it]"
     ]
    },
    {
     "name": "stdout",
     "output_type": "stream",
     "text": [
      "File Name: akh_cartoons_7285075071364910341.mp4, File Size: 8.65 MB\n",
      "Total frames in video: 2338\n",
      "Frame indices to extract: [0, 467, 935, 1402, 1870]\n",
      "Extracted 5 frames.\n"
     ]
    },
    {
     "name": "stderr",
     "output_type": "stream",
     "text": [
      "\n",
      "Processing Frames:   0%|          | 0/5 [00:00<?, ?it/s]\u001b[A\n",
      "Processing Frames:  20%|██        | 1/5 [00:02<00:11,  2.89s/it]\u001b[A\n",
      "Processing Frames:  40%|████      | 2/5 [00:06<00:09,  3.28s/it]\u001b[A\n",
      "Processing Frames:  60%|██████    | 3/5 [00:10<00:07,  3.52s/it]\u001b[A\n",
      "Processing Frames:  80%|████████  | 4/5 [00:13<00:03,  3.33s/it]\u001b[A\n",
      "Processing Frames: 100%|██████████| 5/5 [00:15<00:00,  3.15s/it]\u001b[A\n",
      "Processing Videos:  78%|███████▊  | 547/698 [2:53:06<46:20, 18.41s/it]"
     ]
    },
    {
     "name": "stdout",
     "output_type": "stream",
     "text": [
      "File Name: le_anh_nuoi_7279712253442592002.mp4, File Size: 8.35 MB\n",
      "Total frames in video: 1392\n",
      "Frame indices to extract: [0, 278, 556, 835, 1113]\n",
      "Extracted 5 frames.\n"
     ]
    },
    {
     "name": "stderr",
     "output_type": "stream",
     "text": [
      "\n",
      "Processing Frames:   0%|          | 0/5 [00:00<?, ?it/s]\u001b[A\n",
      "Processing Frames:  20%|██        | 1/5 [00:03<00:12,  3.08s/it]\u001b[A\n",
      "Processing Frames:  40%|████      | 2/5 [00:06<00:10,  3.46s/it]\u001b[A\n",
      "Processing Frames:  60%|██████    | 3/5 [00:10<00:06,  3.36s/it]\u001b[A\n",
      "Processing Frames:  80%|████████  | 4/5 [00:13<00:03,  3.57s/it]\u001b[A\n",
      "Processing Frames: 100%|██████████| 5/5 [00:17<00:00,  3.51s/it]\u001b[A\n",
      "Processing Videos:  79%|███████▊  | 548/698 [2:53:26<47:12, 18.88s/it]"
     ]
    },
    {
     "name": "stdout",
     "output_type": "stream",
     "text": [
      "File Name: heoo2610_7234010751239769350.mp4, File Size: 23.67 MB\n",
      "Total frames in video: 2629\n",
      "Frame indices to extract: [0, 525, 1051, 1577, 2103]\n",
      "Extracted 5 frames.\n"
     ]
    },
    {
     "name": "stderr",
     "output_type": "stream",
     "text": [
      "\n",
      "Processing Frames:   0%|          | 0/5 [00:00<?, ?it/s]\u001b[A\n",
      "Processing Frames:  20%|██        | 1/5 [00:03<00:14,  3.70s/it]\u001b[A\n",
      "Processing Frames:  40%|████      | 2/5 [00:06<00:10,  3.45s/it]\u001b[A\n",
      "Processing Frames:  60%|██████    | 3/5 [00:09<00:06,  3.18s/it]\u001b[A\n",
      "Processing Frames:  80%|████████  | 4/5 [00:13<00:03,  3.22s/it]\u001b[A\n",
      "Processing Frames: 100%|██████████| 5/5 [00:16<00:00,  3.23s/it]\u001b[A\n",
      "Processing Videos:  79%|███████▊  | 549/698 [2:53:44<46:06, 18.56s/it]"
     ]
    },
    {
     "name": "stdout",
     "output_type": "stream",
     "text": [
      "File Name: nhaduaday_7214456046453001499.mp4, File Size: 23.56 MB\n",
      "Total frames in video: 2365\n",
      "Frame indices to extract: [0, 473, 946, 1419, 1892]\n",
      "Extracted 5 frames.\n"
     ]
    },
    {
     "name": "stderr",
     "output_type": "stream",
     "text": [
      "\n",
      "Processing Frames:   0%|          | 0/5 [00:00<?, ?it/s]\u001b[A\n",
      "Processing Frames:  20%|██        | 1/5 [00:03<00:14,  3.66s/it]\u001b[A\n",
      "Processing Frames:  40%|████      | 2/5 [00:08<00:12,  4.14s/it]\u001b[A\n",
      "Processing Frames:  60%|██████    | 3/5 [00:11<00:07,  3.71s/it]\u001b[A\n",
      "Processing Frames:  80%|████████  | 4/5 [00:14<00:03,  3.46s/it]\u001b[A\n",
      "Processing Frames: 100%|██████████| 5/5 [00:17<00:00,  3.53s/it]\u001b[A\n",
      "Processing Videos:  79%|███████▉  | 550/698 [2:54:04<46:44, 18.95s/it]"
     ]
    },
    {
     "name": "stdout",
     "output_type": "stream",
     "text": [
      "File Name: anden75_7360290534541233424.mp4, File Size: 37.02 MB\n",
      "Total frames in video: 5930\n",
      "Frame indices to extract: [0, 1186, 2372, 3558, 4744]\n",
      "Extracted 5 frames.\n"
     ]
    },
    {
     "name": "stderr",
     "output_type": "stream",
     "text": [
      "\n",
      "Processing Frames:   0%|          | 0/5 [00:00<?, ?it/s]\u001b[A\n",
      "Processing Frames:  20%|██        | 1/5 [00:03<00:14,  3.69s/it]\u001b[A\n",
      "Processing Frames:  40%|████      | 2/5 [00:06<00:09,  3.31s/it]\u001b[A\n",
      "Processing Frames:  60%|██████    | 3/5 [00:09<00:06,  3.10s/it]\u001b[A\n",
      "Processing Frames:  80%|████████  | 4/5 [00:11<00:02,  2.79s/it]\u001b[A\n",
      "Processing Frames: 100%|██████████| 5/5 [00:14<00:00,  3.00s/it]\u001b[A\n",
      "Processing Videos:  79%|███████▉  | 551/698 [2:54:21<45:03, 18.39s/it]"
     ]
    },
    {
     "name": "stdout",
     "output_type": "stream",
     "text": [
      "File Name: countdowntilchristmas8_6982979735613705478.mp4, File Size: 2.38 MB\n",
      "Total frames in video: 810\n",
      "Frame indices to extract: [0, 162, 324, 486, 648]\n",
      "Extracted 5 frames.\n"
     ]
    },
    {
     "name": "stderr",
     "output_type": "stream",
     "text": [
      "\n",
      "Processing Frames:   0%|          | 0/5 [00:00<?, ?it/s]\u001b[A\n",
      "Processing Frames:  20%|██        | 1/5 [00:04<00:17,  4.26s/it]\u001b[A\n",
      "Processing Frames:  40%|████      | 2/5 [00:08<00:12,  4.00s/it]\u001b[A\n",
      "Processing Frames:  60%|██████    | 3/5 [00:10<00:06,  3.47s/it]\u001b[A\n",
      "Processing Frames:  80%|████████  | 4/5 [00:14<00:03,  3.36s/it]\u001b[A\n",
      "Processing Frames: 100%|██████████| 5/5 [00:17<00:00,  3.47s/it]\u001b[A\n",
      "Processing Videos:  79%|███████▉  | 552/698 [2:54:40<45:29, 18.69s/it]"
     ]
    },
    {
     "name": "stdout",
     "output_type": "stream",
     "text": [
      "File Name: nsrhrku_7055496796222557445.mp4, File Size: 20.12 MB\n",
      "Total frames in video: 4303\n",
      "Frame indices to extract: [0, 860, 1721, 2581, 3442]\n",
      "Extracted 5 frames.\n"
     ]
    },
    {
     "name": "stderr",
     "output_type": "stream",
     "text": [
      "\n",
      "Processing Frames:   0%|          | 0/5 [00:00<?, ?it/s]\u001b[A\n",
      "Processing Frames:  20%|██        | 1/5 [00:03<00:12,  3.05s/it]\u001b[A\n",
      "Processing Frames:  40%|████      | 2/5 [00:06<00:09,  3.28s/it]\u001b[A\n",
      "Processing Frames:  60%|██████    | 3/5 [00:10<00:06,  3.40s/it]\u001b[A\n",
      "Processing Frames:  80%|████████  | 4/5 [00:13<00:03,  3.46s/it]\u001b[A\n",
      "Processing Frames: 100%|██████████| 5/5 [00:18<00:00,  3.67s/it]\u001b[A\n",
      "Processing Videos:  79%|███████▉  | 553/698 [2:55:01<46:36, 19.29s/it]"
     ]
    },
    {
     "name": "stdout",
     "output_type": "stream",
     "text": [
      "File Name: kristinaquintana_7300037128753286443.mp4, File Size: 26.01 MB\n",
      "Total frames in video: 4440\n",
      "Frame indices to extract: [0, 888, 1776, 2664, 3552]\n",
      "Extracted 5 frames.\n"
     ]
    },
    {
     "name": "stderr",
     "output_type": "stream",
     "text": [
      "\n",
      "Processing Frames:   0%|          | 0/5 [00:00<?, ?it/s]\u001b[A\n",
      "Processing Frames:  20%|██        | 1/5 [00:03<00:12,  3.24s/it]\u001b[A\n",
      "Processing Frames:  40%|████      | 2/5 [00:06<00:09,  3.25s/it]\u001b[A\n",
      "Processing Frames:  60%|██████    | 3/5 [00:09<00:06,  3.31s/it]\u001b[A\n",
      "Processing Frames:  80%|████████  | 4/5 [00:12<00:03,  3.05s/it]\u001b[A\n",
      "Processing Frames: 100%|██████████| 5/5 [00:16<00:00,  3.23s/it]\u001b[A\n",
      "Processing Videos:  79%|███████▉  | 554/698 [2:55:19<45:30, 18.96s/it]"
     ]
    },
    {
     "name": "stdout",
     "output_type": "stream",
     "text": [
      "File Name: animal.world.6618_7345463104400198958.mp4, File Size: 6.37 MB\n",
      "Total frames in video: 1538\n",
      "Frame indices to extract: [0, 307, 615, 922, 1230]\n",
      "Extracted 5 frames.\n"
     ]
    },
    {
     "name": "stderr",
     "output_type": "stream",
     "text": [
      "\n",
      "Processing Frames:   0%|          | 0/5 [00:00<?, ?it/s]\u001b[A\n",
      "Processing Frames:  20%|██        | 1/5 [00:04<00:16,  4.14s/it]\u001b[A\n",
      "Processing Frames:  40%|████      | 2/5 [00:07<00:10,  3.48s/it]\u001b[A\n",
      "Processing Frames:  60%|██████    | 3/5 [00:11<00:07,  3.85s/it]\u001b[A\n",
      "Processing Frames:  80%|████████  | 4/5 [00:14<00:03,  3.60s/it]\u001b[A\n",
      "Processing Frames: 100%|██████████| 5/5 [00:18<00:00,  3.65s/it]\u001b[A\n",
      "Processing Videos:  80%|███████▉  | 555/698 [2:55:39<45:52, 19.25s/it]"
     ]
    },
    {
     "name": "stdout",
     "output_type": "stream",
     "text": [
      "File Name: yuying98_7357687292703591687.mp4, File Size: 6.29 MB\n",
      "Total frames in video: 1069\n",
      "Frame indices to extract: [0, 213, 427, 641, 855]\n",
      "Extracted 5 frames.\n"
     ]
    },
    {
     "name": "stderr",
     "output_type": "stream",
     "text": [
      "\n",
      "Processing Frames:   0%|          | 0/5 [00:00<?, ?it/s]\u001b[A\n",
      "Processing Frames:  20%|██        | 1/5 [00:03<00:13,  3.42s/it]\u001b[A\n",
      "Processing Frames:  40%|████      | 2/5 [00:06<00:10,  3.40s/it]\u001b[A\n",
      "Processing Frames:  60%|██████    | 3/5 [00:10<00:06,  3.41s/it]\u001b[A\n",
      "Processing Frames:  80%|████████  | 4/5 [00:13<00:03,  3.26s/it]\u001b[A\n",
      "Processing Frames: 100%|██████████| 5/5 [00:16<00:00,  3.29s/it]\u001b[A\n",
      "Processing Videos:  80%|███████▉  | 556/698 [2:55:57<44:59, 19.01s/it]"
     ]
    },
    {
     "name": "stdout",
     "output_type": "stream",
     "text": [
      "File Name: anpham1310_6995836841253473537.mp4, File Size: 3.29 MB\n",
      "Total frames in video: 455\n",
      "Frame indices to extract: [0, 91, 182, 273, 364]\n",
      "Extracted 5 frames.\n"
     ]
    },
    {
     "name": "stderr",
     "output_type": "stream",
     "text": [
      "\n",
      "Processing Frames:   0%|          | 0/5 [00:00<?, ?it/s]\u001b[A\n",
      "Processing Frames:  20%|██        | 1/5 [00:03<00:14,  3.58s/it]\u001b[A\n",
      "Processing Frames:  40%|████      | 2/5 [00:07<00:11,  3.75s/it]\u001b[A\n",
      "Processing Frames:  60%|██████    | 3/5 [00:10<00:06,  3.44s/it]\u001b[A\n",
      "Processing Frames:  80%|████████  | 4/5 [00:13<00:03,  3.27s/it]\u001b[A\n",
      "Processing Frames: 100%|██████████| 5/5 [00:16<00:00,  3.31s/it]\u001b[A\n",
      "Processing Videos:  80%|███████▉  | 557/698 [2:56:16<44:16, 18.84s/it]"
     ]
    },
    {
     "name": "stdout",
     "output_type": "stream",
     "text": [
      "File Name: sachnhadu_7353507179049078033.mp4, File Size: 0.89 MB\n",
      "Total frames in video: 1383\n",
      "Frame indices to extract: [0, 276, 553, 829, 1106]\n",
      "Extracted 5 frames.\n"
     ]
    },
    {
     "name": "stderr",
     "output_type": "stream",
     "text": [
      "\n",
      "Processing Frames:   0%|          | 0/5 [00:00<?, ?it/s]\u001b[A\n",
      "Processing Frames:  20%|██        | 1/5 [00:02<00:11,  2.93s/it]\u001b[A\n",
      "Processing Frames:  40%|████      | 2/5 [00:05<00:08,  2.88s/it]\u001b[A\n",
      "Processing Frames:  60%|██████    | 3/5 [00:08<00:05,  2.95s/it]\u001b[A\n",
      "Processing Frames:  80%|████████  | 4/5 [00:11<00:02,  3.00s/it]\u001b[A\n",
      "Processing Frames: 100%|██████████| 5/5 [00:14<00:00,  2.95s/it]\u001b[A\n",
      "Processing Videos:  80%|███████▉  | 558/698 [2:56:32<42:14, 18.10s/it]"
     ]
    },
    {
     "name": "stdout",
     "output_type": "stream",
     "text": [
      "File Name: anden75_7370695225448205569.mp4, File Size: 36.35 MB\n",
      "Total frames in video: 5684\n",
      "Frame indices to extract: [0, 1136, 2273, 3410, 4547]\n",
      "Extracted 5 frames.\n"
     ]
    },
    {
     "name": "stderr",
     "output_type": "stream",
     "text": [
      "\n",
      "Processing Frames:   0%|          | 0/5 [00:00<?, ?it/s]\u001b[A\n",
      "Processing Frames:  20%|██        | 1/5 [00:04<00:16,  4.10s/it]\u001b[A\n",
      "Processing Frames:  40%|████      | 2/5 [00:06<00:09,  3.17s/it]\u001b[A\n",
      "Processing Frames:  60%|██████    | 3/5 [00:09<00:06,  3.10s/it]\u001b[A\n",
      "Processing Frames:  80%|████████  | 4/5 [00:11<00:02,  2.77s/it]\u001b[A\n",
      "Processing Frames: 100%|██████████| 5/5 [00:15<00:00,  3.07s/it]\u001b[A\n",
      "Processing Videos:  80%|████████  | 559/698 [2:56:49<41:15, 17.81s/it]"
     ]
    },
    {
     "name": "stdout",
     "output_type": "stream",
     "text": [
      "File Name: bankschool.__7134210184259603738.mp4, File Size: 2.50 MB\n",
      "Total frames in video: 972\n",
      "Frame indices to extract: [0, 194, 388, 583, 777]\n",
      "Extracted 5 frames.\n"
     ]
    },
    {
     "name": "stderr",
     "output_type": "stream",
     "text": [
      "\n",
      "Processing Frames:   0%|          | 0/5 [00:00<?, ?it/s]\u001b[A\n",
      "Processing Frames:  20%|██        | 1/5 [00:02<00:10,  2.50s/it]\u001b[A\n",
      "Processing Frames:  40%|████      | 2/5 [00:05<00:08,  2.91s/it]\u001b[A\n",
      "Processing Frames:  60%|██████    | 3/5 [00:08<00:06,  3.05s/it]\u001b[A\n",
      "Processing Frames:  80%|████████  | 4/5 [00:12<00:03,  3.11s/it]\u001b[A\n",
      "Processing Frames: 100%|██████████| 5/5 [00:15<00:00,  3.06s/it]\u001b[A\n",
      "Processing Videos:  80%|████████  | 560/698 [2:57:06<40:33, 17.64s/it]"
     ]
    },
    {
     "name": "stdout",
     "output_type": "stream",
     "text": [
      "File Name: thuannhanz_7330222104773725441.mp4, File Size: 5.20 MB\n",
      "Total frames in video: 781\n",
      "Frame indices to extract: [0, 156, 312, 468, 624]\n",
      "Extracted 5 frames.\n"
     ]
    },
    {
     "name": "stderr",
     "output_type": "stream",
     "text": [
      "\n",
      "Processing Frames:   0%|          | 0/5 [00:00<?, ?it/s]\u001b[A\n",
      "Processing Frames:  20%|██        | 1/5 [00:03<00:12,  3.17s/it]\u001b[A\n",
      "Processing Frames:  40%|████      | 2/5 [00:06<00:09,  3.08s/it]\u001b[A\n",
      "Processing Frames:  60%|██████    | 3/5 [00:09<00:06,  3.22s/it]\u001b[A\n",
      "Processing Frames:  80%|████████  | 4/5 [00:13<00:03,  3.31s/it]\u001b[A\n",
      "Processing Frames: 100%|██████████| 5/5 [00:16<00:00,  3.32s/it]\u001b[A\n",
      "Processing Videos:  80%|████████  | 561/698 [2:57:25<41:07, 18.01s/it]"
     ]
    },
    {
     "name": "stdout",
     "output_type": "stream",
     "text": [
      "File Name: hoasenstore_7305241550827556114.mp4, File Size: 12.96 MB\n",
      "Total frames in video: 994\n",
      "Frame indices to extract: [0, 198, 397, 596, 795]\n",
      "Extracted 5 frames.\n"
     ]
    },
    {
     "name": "stderr",
     "output_type": "stream",
     "text": [
      "\n",
      "Processing Frames:   0%|          | 0/5 [00:00<?, ?it/s]\u001b[A\n",
      "Processing Frames:  20%|██        | 1/5 [00:03<00:12,  3.09s/it]\u001b[A\n",
      "Processing Frames:  40%|████      | 2/5 [00:06<00:09,  3.17s/it]\u001b[A\n",
      "Processing Frames:  60%|██████    | 3/5 [00:09<00:06,  3.10s/it]\u001b[A\n",
      "Processing Frames:  80%|████████  | 4/5 [00:12<00:03,  3.24s/it]\u001b[A\n",
      "Processing Frames: 100%|██████████| 5/5 [00:16<00:00,  3.25s/it]\u001b[A\n",
      "Processing Videos:  81%|████████  | 562/698 [2:57:43<40:52, 18.03s/it]"
     ]
    },
    {
     "name": "stdout",
     "output_type": "stream",
     "text": [
      "File Name: imhoatippp_6986903030838889754.mp4, File Size: 2.78 MB\n",
      "Total frames in video: 894\n",
      "Frame indices to extract: [0, 178, 357, 536, 715]\n",
      "Extracted 5 frames.\n"
     ]
    },
    {
     "name": "stderr",
     "output_type": "stream",
     "text": [
      "\n",
      "Processing Frames:   0%|          | 0/5 [00:00<?, ?it/s]\u001b[A\n",
      "Processing Frames:  20%|██        | 1/5 [00:03<00:13,  3.30s/it]\u001b[A\n",
      "Processing Frames:  40%|████      | 2/5 [00:06<00:10,  3.38s/it]\u001b[A\n",
      "Processing Frames:  60%|██████    | 3/5 [00:09<00:06,  3.29s/it]\u001b[A\n",
      "Processing Frames:  80%|████████  | 4/5 [00:13<00:03,  3.27s/it]\u001b[A\n",
      "Processing Frames: 100%|██████████| 5/5 [00:16<00:00,  3.31s/it]\u001b[A\n",
      "Processing Videos:  81%|████████  | 563/698 [2:58:02<41:01, 18.23s/it]"
     ]
    },
    {
     "name": "stdout",
     "output_type": "stream",
     "text": [
      "File Name: 000cartoon000_7275693498681019681.mp4, File Size: 11.42 MB\n",
      "Total frames in video: 2688\n",
      "Frame indices to extract: [0, 537, 1075, 1612, 2150]\n",
      "Extracted 5 frames.\n"
     ]
    },
    {
     "name": "stderr",
     "output_type": "stream",
     "text": [
      "\n",
      "Processing Frames:   0%|          | 0/5 [00:00<?, ?it/s]\u001b[A\n",
      "Processing Frames:  20%|██        | 1/5 [00:04<00:19,  4.91s/it]\u001b[A\n",
      "Processing Frames:  40%|████      | 2/5 [00:08<00:11,  3.90s/it]\u001b[A\n",
      "Processing Frames:  60%|██████    | 3/5 [00:12<00:08,  4.23s/it]\u001b[A\n",
      "Processing Frames:  80%|████████  | 4/5 [00:16<00:03,  3.92s/it]\u001b[A\n",
      "Processing Frames: 100%|██████████| 5/5 [00:21<00:00,  4.21s/it]\u001b[A\n",
      "Processing Videos:  81%|████████  | 564/698 [2:58:25<43:56, 19.68s/it]"
     ]
    },
    {
     "name": "stdout",
     "output_type": "stream",
     "text": [
      "File Name: ofbaublesandfairylights_7230891753778285850.mp4, File Size: 5.37 MB\n",
      "Total frames in video: 652\n",
      "Frame indices to extract: [0, 130, 260, 391, 521]\n",
      "Extracted 5 frames.\n"
     ]
    },
    {
     "name": "stderr",
     "output_type": "stream",
     "text": [
      "\n",
      "Processing Frames:   0%|          | 0/5 [00:00<?, ?it/s]\u001b[A\n",
      "Processing Frames:  20%|██        | 1/5 [00:04<00:16,  4.00s/it]\u001b[A\n",
      "Processing Frames:  40%|████      | 2/5 [00:07<00:10,  3.64s/it]\u001b[A\n",
      "Processing Frames:  60%|██████    | 3/5 [00:10<00:07,  3.52s/it]\u001b[A\n",
      "Processing Frames:  80%|████████  | 4/5 [00:14<00:03,  3.49s/it]\u001b[A\n",
      "Processing Frames: 100%|██████████| 5/5 [00:17<00:00,  3.45s/it]\u001b[A\n",
      "Processing Videos:  81%|████████  | 565/698 [2:58:44<43:14, 19.51s/it]"
     ]
    },
    {
     "name": "stdout",
     "output_type": "stream",
     "text": [
      "File Name: nhacthieunhitonghop_7291564178702191874.mp4, File Size: 5.57 MB\n",
      "Total frames in video: 8405\n",
      "Frame indices to extract: [0, 1681, 3362, 5043, 6724]\n",
      "Extracted 5 frames.\n"
     ]
    },
    {
     "name": "stderr",
     "output_type": "stream",
     "text": [
      "\n",
      "Processing Frames:   0%|          | 0/5 [00:00<?, ?it/s]\u001b[A\n",
      "Processing Frames:  20%|██        | 1/5 [00:03<00:14,  3.69s/it]\u001b[A\n",
      "Processing Frames:  40%|████      | 2/5 [00:06<00:09,  3.08s/it]\u001b[A\n",
      "Processing Frames:  60%|██████    | 3/5 [00:09<00:06,  3.12s/it]\u001b[A\n",
      "Processing Frames:  80%|████████  | 4/5 [00:12<00:03,  3.24s/it]\u001b[A\n",
      "Processing Frames: 100%|██████████| 5/5 [00:16<00:00,  3.22s/it]\u001b[A\n",
      "Processing Videos:  81%|████████  | 566/698 [2:59:02<41:58, 19.08s/it]"
     ]
    },
    {
     "name": "stdout",
     "output_type": "stream",
     "text": [
      "File Name: khai_phan9x_7202571147450338587.mp4, File Size: 1.90 MB\n",
      "Total frames in video: 1041\n",
      "Frame indices to extract: [0, 208, 416, 624, 832]\n",
      "Extracted 5 frames.\n"
     ]
    },
    {
     "name": "stderr",
     "output_type": "stream",
     "text": [
      "\n",
      "Processing Frames:   0%|          | 0/5 [00:00<?, ?it/s]\u001b[A\n",
      "Processing Frames:  20%|██        | 1/5 [00:04<00:18,  4.73s/it]\u001b[A\n",
      "Processing Frames:  40%|████      | 2/5 [00:07<00:11,  3.71s/it]\u001b[A\n",
      "Processing Frames:  60%|██████    | 3/5 [00:11<00:07,  3.90s/it]\u001b[A\n",
      "Processing Frames:  80%|████████  | 4/5 [00:15<00:03,  3.86s/it]\u001b[A\n",
      "Processing Frames: 100%|██████████| 5/5 [00:18<00:00,  3.73s/it]\u001b[A\n",
      "Processing Videos:  81%|████████  | 567/698 [2:59:23<42:40, 19.55s/it]"
     ]
    },
    {
     "name": "stdout",
     "output_type": "stream",
     "text": [
      "File Name: davidthoc2018_7203655474242260251.mp4, File Size: 23.80 MB\n",
      "Total frames in video: 1813\n",
      "Frame indices to extract: [0, 362, 725, 1087, 1450]\n",
      "Extracted 5 frames.\n"
     ]
    },
    {
     "name": "stderr",
     "output_type": "stream",
     "text": [
      "\n",
      "Processing Frames:   0%|          | 0/5 [00:00<?, ?it/s]\u001b[A\n",
      "Processing Frames:  20%|██        | 1/5 [00:03<00:14,  3.63s/it]\u001b[A\n",
      "Processing Frames:  40%|████      | 2/5 [00:06<00:09,  3.27s/it]\u001b[A\n",
      "Processing Frames:  60%|██████    | 3/5 [00:09<00:06,  3.16s/it]\u001b[A\n",
      "Processing Frames:  80%|████████  | 4/5 [00:13<00:03,  3.24s/it]\u001b[A\n",
      "Processing Frames: 100%|██████████| 5/5 [00:15<00:00,  3.18s/it]\u001b[A\n",
      "Processing Videos:  81%|████████▏ | 568/698 [2:59:41<41:16, 19.05s/it]"
     ]
    },
    {
     "name": "stdout",
     "output_type": "stream",
     "text": [
      "File Name: _idktsu.xx_7212604747675700507.mp4, File Size: 6.19 MB\n",
      "Total frames in video: 1044\n",
      "Frame indices to extract: [0, 208, 417, 626, 835]\n",
      "Extracted 5 frames.\n"
     ]
    },
    {
     "name": "stderr",
     "output_type": "stream",
     "text": [
      "\n",
      "Processing Frames:   0%|          | 0/5 [00:00<?, ?it/s]\u001b[A\n",
      "Processing Frames:  20%|██        | 1/5 [00:03<00:12,  3.06s/it]\u001b[A\n",
      "Processing Frames:  40%|████      | 2/5 [00:06<00:09,  3.29s/it]\u001b[A\n",
      "Processing Frames:  60%|██████    | 3/5 [00:10<00:07,  3.54s/it]\u001b[A\n",
      "Processing Frames:  80%|████████  | 4/5 [00:13<00:03,  3.19s/it]\u001b[A\n",
      "Processing Frames: 100%|██████████| 5/5 [00:15<00:00,  3.10s/it]\u001b[A\n",
      "Processing Videos:  82%|████████▏ | 569/698 [2:59:58<39:52, 18.55s/it]"
     ]
    },
    {
     "name": "stdout",
     "output_type": "stream",
     "text": [
      "File Name: dongam_den.vauvn_7369442569022934273.mp4, File Size: 5.51 MB\n",
      "Total frames in video: 5784\n",
      "Frame indices to extract: [0, 1156, 2313, 3470, 4627]\n",
      "Extracted 5 frames.\n"
     ]
    },
    {
     "name": "stderr",
     "output_type": "stream",
     "text": [
      "\n",
      "Processing Frames:   0%|          | 0/5 [00:00<?, ?it/s]\u001b[A\n",
      "Processing Frames:  20%|██        | 1/5 [00:03<00:12,  3.22s/it]\u001b[A\n",
      "Processing Frames:  40%|████      | 2/5 [00:06<00:10,  3.41s/it]\u001b[A\n",
      "Processing Frames:  60%|██████    | 3/5 [00:10<00:06,  3.50s/it]\u001b[A\n",
      "Processing Frames:  80%|████████  | 4/5 [00:13<00:03,  3.51s/it]\u001b[A\n",
      "Processing Frames: 100%|██████████| 5/5 [00:17<00:00,  3.42s/it]\u001b[A\n",
      "Processing Videos:  82%|████████▏ | 570/698 [3:00:17<39:51, 18.69s/it]"
     ]
    },
    {
     "name": "stdout",
     "output_type": "stream",
     "text": [
      "File Name: huydlg_7247543042725465350.mp4, File Size: 3.49 MB\n",
      "Total frames in video: 720\n",
      "Frame indices to extract: [0, 144, 288, 432, 576]\n",
      "Extracted 5 frames.\n"
     ]
    },
    {
     "name": "stderr",
     "output_type": "stream",
     "text": [
      "\n",
      "Processing Frames:   0%|          | 0/5 [00:00<?, ?it/s]\u001b[A\n",
      "Processing Frames:  20%|██        | 1/5 [00:03<00:13,  3.49s/it]\u001b[A\n",
      "Processing Frames:  40%|████      | 2/5 [00:07<00:11,  3.77s/it]\u001b[A\n",
      "Processing Frames:  60%|██████    | 3/5 [00:10<00:07,  3.53s/it]\u001b[A\n",
      "Processing Frames:  80%|████████  | 4/5 [00:13<00:03,  3.40s/it]\u001b[A\n",
      "Processing Frames: 100%|██████████| 5/5 [00:17<00:00,  3.42s/it]\u001b[A\n",
      "Processing Videos:  82%|████████▏ | 571/698 [3:00:37<40:02, 18.92s/it]"
     ]
    },
    {
     "name": "stdout",
     "output_type": "stream",
     "text": [
      "File Name: dailywithboo_7307973677025398018.mp4, File Size: 3.54 MB\n",
      "Total frames in video: 753\n",
      "Frame indices to extract: [0, 150, 301, 451, 602]\n",
      "Extracted 5 frames.\n"
     ]
    },
    {
     "name": "stderr",
     "output_type": "stream",
     "text": [
      "\n",
      "Processing Frames:   0%|          | 0/5 [00:00<?, ?it/s]\u001b[A\n",
      "Processing Frames:  20%|██        | 1/5 [00:03<00:13,  3.46s/it]\u001b[A\n",
      "Processing Frames:  40%|████      | 2/5 [00:05<00:08,  2.90s/it]\u001b[A\n",
      "Processing Frames:  60%|██████    | 3/5 [00:08<00:05,  2.95s/it]\u001b[A\n",
      "Processing Frames:  80%|████████  | 4/5 [00:12<00:03,  3.07s/it]\u001b[A\n",
      "Processing Frames: 100%|██████████| 5/5 [00:15<00:00,  3.05s/it]\u001b[A\n",
      "Processing Videos:  82%|████████▏ | 572/698 [3:00:54<38:50, 18.50s/it]"
     ]
    },
    {
     "name": "stdout",
     "output_type": "stream",
     "text": [
      "File Name: nghenhac.wetube_7174713985084820782.mp4, File Size: 1.36 MB\n",
      "Total frames in video: 615\n",
      "Frame indices to extract: [0, 123, 246, 369, 492]\n",
      "Extracted 5 frames.\n"
     ]
    },
    {
     "name": "stderr",
     "output_type": "stream",
     "text": [
      "\n",
      "Processing Frames:   0%|          | 0/5 [00:00<?, ?it/s]\u001b[A\n",
      "Processing Frames:  20%|██        | 1/5 [00:03<00:13,  3.48s/it]\u001b[A\n",
      "Processing Frames:  40%|████      | 2/5 [00:06<00:10,  3.43s/it]\u001b[A\n",
      "Processing Frames:  60%|██████    | 3/5 [00:10<00:06,  3.32s/it]\u001b[A\n",
      "Processing Frames:  80%|████████  | 4/5 [00:13<00:03,  3.23s/it]\u001b[A\n",
      "Processing Frames: 100%|██████████| 5/5 [00:16<00:00,  3.23s/it]\u001b[A\n",
      "Processing Videos:  82%|████████▏ | 573/698 [3:01:13<38:32, 18.50s/it]"
     ]
    },
    {
     "name": "stdout",
     "output_type": "stream",
     "text": [
      "File Name: bombom_vlog_7270473447472418053.mp4, File Size: 18.65 MB\n",
      "Total frames in video: 1744\n",
      "Frame indices to extract: [0, 348, 697, 1046, 1395]\n",
      "Extracted 5 frames.\n"
     ]
    },
    {
     "name": "stderr",
     "output_type": "stream",
     "text": [
      "\n",
      "Processing Frames:   0%|          | 0/5 [00:00<?, ?it/s]\u001b[A\n",
      "Processing Frames:  20%|██        | 1/5 [00:03<00:12,  3.05s/it]\u001b[A\n",
      "Processing Frames:  40%|████      | 2/5 [00:06<00:09,  3.05s/it]\u001b[A\n",
      "Processing Frames:  60%|██████    | 3/5 [00:09<00:06,  3.20s/it]\u001b[A\n",
      "Processing Frames:  80%|████████  | 4/5 [00:12<00:03,  3.20s/it]\u001b[A\n",
      "Processing Frames: 100%|██████████| 5/5 [00:16<00:00,  3.40s/it]\u001b[A\n",
      "Processing Videos:  82%|████████▏ | 574/698 [3:01:32<38:36, 18.68s/it]"
     ]
    },
    {
     "name": "stdout",
     "output_type": "stream",
     "text": [
      "File Name: linh2311993_7154750614361132315.mp4, File Size: 26.60 MB\n",
      "Total frames in video: 2558\n",
      "Frame indices to extract: [0, 511, 1023, 1534, 2046]\n",
      "Extracted 5 frames.\n"
     ]
    },
    {
     "name": "stderr",
     "output_type": "stream",
     "text": [
      "\n",
      "Processing Frames:   0%|          | 0/5 [00:00<?, ?it/s]\u001b[A\n",
      "Processing Frames:  20%|██        | 1/5 [00:03<00:12,  3.23s/it]\u001b[A\n",
      "Processing Frames:  40%|████      | 2/5 [00:06<00:10,  3.46s/it]\u001b[A\n",
      "Processing Frames:  60%|██████    | 3/5 [00:09<00:06,  3.26s/it]\u001b[A\n",
      "Processing Frames:  80%|████████  | 4/5 [00:12<00:03,  3.17s/it]\u001b[A\n",
      "Processing Frames: 100%|██████████| 5/5 [00:16<00:00,  3.28s/it]\u001b[A\n",
      "Processing Videos:  82%|████████▏ | 575/698 [3:01:50<38:13, 18.65s/it]"
     ]
    },
    {
     "name": "stdout",
     "output_type": "stream",
     "text": [
      "File Name: chutuphuyen_7372429516871912720.mp4, File Size: 55.98 MB\n",
      "Total frames in video: 6866\n",
      "Frame indices to extract: [0, 1373, 2746, 4119, 5492]\n",
      "Extracted 5 frames.\n"
     ]
    },
    {
     "name": "stderr",
     "output_type": "stream",
     "text": [
      "\n",
      "Processing Frames:   0%|          | 0/5 [00:00<?, ?it/s]\u001b[A\n",
      "Processing Frames:  20%|██        | 1/5 [00:04<00:18,  4.51s/it]\u001b[A\n",
      "Processing Frames:  40%|████      | 2/5 [00:08<00:12,  4.06s/it]\u001b[A\n",
      "Processing Frames:  60%|██████    | 3/5 [00:11<00:07,  3.64s/it]\u001b[A\n",
      "Processing Frames:  80%|████████  | 4/5 [00:14<00:03,  3.39s/it]\u001b[A\n",
      "Processing Frames: 100%|██████████| 5/5 [00:17<00:00,  3.57s/it]\u001b[A\n",
      "Processing Videos:  83%|████████▎ | 576/698 [3:02:10<38:42, 19.04s/it]"
     ]
    },
    {
     "name": "stdout",
     "output_type": "stream",
     "text": [
      "File Name: reviewbet_7206179678397222186.mp4, File Size: 1.27 MB\n",
      "Total frames in video: 169\n",
      "Frame indices to extract: [0, 33, 67, 101, 135]\n",
      "Extracted 5 frames.\n"
     ]
    },
    {
     "name": "stderr",
     "output_type": "stream",
     "text": [
      "\n",
      "Processing Frames:   0%|          | 0/5 [00:00<?, ?it/s]\u001b[A\n",
      "Processing Frames:  20%|██        | 1/5 [00:02<00:11,  2.87s/it]\u001b[A\n",
      "Processing Frames:  40%|████      | 2/5 [00:06<00:09,  3.20s/it]\u001b[A\n",
      "Processing Frames:  60%|██████    | 3/5 [00:09<00:06,  3.27s/it]\u001b[A\n",
      "Processing Frames:  80%|████████  | 4/5 [00:12<00:03,  3.24s/it]\u001b[A\n",
      "Processing Frames: 100%|██████████| 5/5 [00:16<00:00,  3.29s/it]\u001b[A\n",
      "Processing Videos:  83%|████████▎ | 577/698 [3:02:29<37:54, 18.80s/it]"
     ]
    },
    {
     "name": "stdout",
     "output_type": "stream",
     "text": [
      "File Name: bep_anh_dinh_7329174708300025096.mp4, File Size: 13.88 MB\n",
      "Total frames in video: 4298\n",
      "Frame indices to extract: [0, 859, 1719, 2578, 3438]\n",
      "Extracted 5 frames.\n"
     ]
    },
    {
     "name": "stderr",
     "output_type": "stream",
     "text": [
      "\n",
      "Processing Frames:   0%|          | 0/5 [00:00<?, ?it/s]\u001b[A\n",
      "Processing Frames:  20%|██        | 1/5 [00:04<00:16,  4.20s/it]\u001b[A\n",
      "Processing Frames:  40%|████      | 2/5 [00:07<00:11,  3.87s/it]\u001b[A\n",
      "Processing Frames:  60%|██████    | 3/5 [00:11<00:07,  3.81s/it]\u001b[A\n",
      "Processing Frames:  80%|████████  | 4/5 [00:15<00:03,  3.78s/it]\u001b[A\n",
      "Processing Frames: 100%|██████████| 5/5 [00:18<00:00,  3.71s/it]\u001b[A\n",
      "Processing Videos:  83%|████████▎ | 578/698 [3:02:50<38:59, 19.49s/it]"
     ]
    },
    {
     "name": "stdout",
     "output_type": "stream",
     "text": [
      "File Name: qualitystreetuki_7174461669660282118.mp4, File Size: 3.38 MB\n",
      "Total frames in video: 410\n",
      "Frame indices to extract: [0, 82, 164, 246, 328]\n",
      "Extracted 5 frames.\n"
     ]
    },
    {
     "name": "stderr",
     "output_type": "stream",
     "text": [
      "\n",
      "Processing Frames:   0%|          | 0/5 [00:00<?, ?it/s]\u001b[A\n",
      "Processing Frames:  20%|██        | 1/5 [00:03<00:12,  3.23s/it]\u001b[A\n",
      "Processing Frames:  40%|████      | 2/5 [00:06<00:09,  3.24s/it]\u001b[A\n",
      "Processing Frames:  60%|██████    | 3/5 [00:09<00:06,  3.30s/it]\u001b[A\n",
      "Processing Frames:  80%|████████  | 4/5 [00:12<00:03,  3.19s/it]\u001b[A\n",
      "Processing Frames: 100%|██████████| 5/5 [00:17<00:00,  3.46s/it]\u001b[A\n",
      "Processing Videos:  83%|████████▎ | 579/698 [3:03:09<38:41, 19.51s/it]"
     ]
    },
    {
     "name": "stdout",
     "output_type": "stream",
     "text": [
      "File Name: asmrkitchens_7357679035356433697.mp4, File Size: 40.59 MB\n",
      "Total frames in video: 7426\n",
      "Frame indices to extract: [0, 1485, 2970, 4455, 5940]\n",
      "Extracted 5 frames.\n"
     ]
    },
    {
     "name": "stderr",
     "output_type": "stream",
     "text": [
      "\n",
      "Processing Frames:   0%|          | 0/5 [00:00<?, ?it/s]\u001b[A\n",
      "Processing Frames:  20%|██        | 1/5 [00:03<00:12,  3.21s/it]\u001b[A\n",
      "Processing Frames:  40%|████      | 2/5 [00:06<00:09,  3.20s/it]\u001b[A\n",
      "Processing Frames:  60%|██████    | 3/5 [00:09<00:06,  3.22s/it]\u001b[A\n",
      "Processing Frames:  80%|████████  | 4/5 [00:13<00:03,  3.42s/it]\u001b[A\n",
      "Processing Frames: 100%|██████████| 5/5 [00:16<00:00,  3.27s/it]\u001b[A\n",
      "Processing Videos:  83%|████████▎ | 580/698 [3:03:27<37:29, 19.06s/it]"
     ]
    },
    {
     "name": "stdout",
     "output_type": "stream",
     "text": [
      "File Name: ghome.official_7128716887726230811.mp4, File Size: 8.11 MB\n",
      "Total frames in video: 1629\n",
      "Frame indices to extract: [0, 325, 651, 977, 1303]\n",
      "Extracted 5 frames.\n"
     ]
    },
    {
     "name": "stderr",
     "output_type": "stream",
     "text": [
      "\n",
      "Processing Frames:   0%|          | 0/5 [00:00<?, ?it/s]\u001b[A\n",
      "Processing Frames:  20%|██        | 1/5 [00:03<00:12,  3.21s/it]\u001b[A\n",
      "Processing Frames:  40%|████      | 2/5 [00:06<00:09,  3.21s/it]\u001b[A\n",
      "Processing Frames:  60%|██████    | 3/5 [00:09<00:06,  3.25s/it]\u001b[A\n",
      "Processing Frames:  80%|████████  | 4/5 [00:13<00:03,  3.45s/it]\u001b[A\n",
      "Processing Frames: 100%|██████████| 5/5 [00:16<00:00,  3.33s/it]\u001b[A\n",
      "Processing Videos:  83%|████████▎ | 581/698 [3:03:46<36:59, 18.97s/it]"
     ]
    },
    {
     "name": "stdout",
     "output_type": "stream",
     "text": [
      "File Name: elyitclean_7331740466733518098.mp4, File Size: 5.60 MB\n",
      "Total frames in video: 2592\n",
      "Frame indices to extract: [0, 518, 1036, 1555, 2073]\n",
      "Extracted 5 frames.\n"
     ]
    },
    {
     "name": "stderr",
     "output_type": "stream",
     "text": [
      "\n",
      "Processing Frames:   0%|          | 0/5 [00:00<?, ?it/s]\u001b[A\n",
      "Processing Frames:  20%|██        | 1/5 [00:03<00:13,  3.49s/it]\u001b[A\n",
      "Processing Frames:  40%|████      | 2/5 [00:07<00:10,  3.53s/it]\u001b[A\n",
      "Processing Frames:  60%|██████    | 3/5 [00:10<00:06,  3.47s/it]\u001b[A\n",
      "Processing Frames:  80%|████████  | 4/5 [00:13<00:03,  3.45s/it]\u001b[A\n",
      "Processing Frames: 100%|██████████| 5/5 [00:17<00:00,  3.49s/it]\u001b[A\n",
      "Processing Videos:  83%|████████▎ | 582/698 [3:04:05<36:43, 19.00s/it]"
     ]
    },
    {
     "name": "stdout",
     "output_type": "stream",
     "text": [
      "File Name: .cartoonmovies7_7298084692916555041.mp4, File Size: 19.95 MB\n",
      "Total frames in video: 3173\n",
      "Frame indices to extract: [0, 634, 1269, 1903, 2538]\n",
      "Extracted 5 frames.\n"
     ]
    },
    {
     "name": "stderr",
     "output_type": "stream",
     "text": [
      "\n",
      "Processing Frames:   0%|          | 0/5 [00:00<?, ?it/s]\u001b[A\n",
      "Processing Frames:  20%|██        | 1/5 [00:03<00:14,  3.62s/it]\u001b[A\n",
      "Processing Frames:  40%|████      | 2/5 [00:07<00:11,  3.98s/it]\u001b[A\n",
      "Processing Frames:  60%|██████    | 3/5 [00:11<00:07,  3.81s/it]\u001b[A\n",
      "Processing Frames:  80%|████████  | 4/5 [00:16<00:04,  4.21s/it]\u001b[A\n",
      "Processing Frames: 100%|██████████| 5/5 [00:21<00:00,  4.23s/it]\u001b[A\n",
      "Processing Videos:  84%|████████▎ | 583/698 [3:04:29<38:58, 20.34s/it]"
     ]
    },
    {
     "name": "stdout",
     "output_type": "stream",
     "text": [
      "File Name: maythangtuw_7220706554914442522.mp4, File Size: 12.22 MB\n",
      "Total frames in video: 2037\n",
      "Frame indices to extract: [0, 407, 814, 1222, 1629]\n",
      "Extracted 5 frames.\n"
     ]
    },
    {
     "name": "stderr",
     "output_type": "stream",
     "text": [
      "\n",
      "Processing Frames:   0%|          | 0/5 [00:00<?, ?it/s]\u001b[A\n",
      "Processing Frames:  20%|██        | 1/5 [00:03<00:13,  3.43s/it]\u001b[A\n",
      "Processing Frames:  40%|████      | 2/5 [00:06<00:09,  3.17s/it]\u001b[A\n",
      "Processing Frames:  60%|██████    | 3/5 [00:08<00:05,  2.79s/it]\u001b[A\n",
      "Processing Frames:  80%|████████  | 4/5 [00:12<00:03,  3.03s/it]\u001b[A\n",
      "Processing Frames: 100%|██████████| 5/5 [00:15<00:00,  3.07s/it]\u001b[A\n",
      "Processing Videos:  84%|████████▎ | 584/698 [3:04:46<36:55, 19.44s/it]"
     ]
    },
    {
     "name": "stdout",
     "output_type": "stream",
     "text": [
      "File Name: jung_d.i.y_7291059822970113281.mp4, File Size: 36.77 MB\n",
      "Total frames in video: 5289\n",
      "Frame indices to extract: [0, 1057, 2115, 3173, 4231]\n",
      "Extracted 5 frames.\n"
     ]
    },
    {
     "name": "stderr",
     "output_type": "stream",
     "text": [
      "\n",
      "Processing Frames:   0%|          | 0/5 [00:00<?, ?it/s]\u001b[A\n",
      "Processing Frames:  20%|██        | 1/5 [00:03<00:14,  3.63s/it]\u001b[A\n",
      "Processing Frames:  40%|████      | 2/5 [00:07<00:10,  3.59s/it]\u001b[A\n",
      "Processing Frames:  60%|██████    | 3/5 [00:10<00:07,  3.60s/it]\u001b[A\n",
      "Processing Frames:  80%|████████  | 4/5 [00:14<00:03,  3.51s/it]\u001b[A\n",
      "Processing Frames: 100%|██████████| 5/5 [00:16<00:00,  3.40s/it]\u001b[A\n",
      "Processing Videos:  84%|████████▍ | 585/698 [3:05:05<36:28, 19.37s/it]"
     ]
    },
    {
     "name": "stdout",
     "output_type": "stream",
     "text": [
      "File Name: anden75_7370310022015782164.mp4, File Size: 19.77 MB\n",
      "Total frames in video: 3782\n",
      "Frame indices to extract: [0, 756, 1512, 2269, 3025]\n",
      "Extracted 5 frames.\n"
     ]
    },
    {
     "name": "stderr",
     "output_type": "stream",
     "text": [
      "\n",
      "Processing Frames:   0%|          | 0/5 [00:00<?, ?it/s]\u001b[A\n",
      "Processing Frames:  20%|██        | 1/5 [00:03<00:12,  3.09s/it]\u001b[A\n",
      "Processing Frames:  40%|████      | 2/5 [00:06<00:09,  3.06s/it]\u001b[A\n",
      "Processing Frames:  60%|██████    | 3/5 [00:10<00:06,  3.49s/it]\u001b[A\n",
      "Processing Frames:  80%|████████  | 4/5 [00:13<00:03,  3.54s/it]\u001b[A\n",
      "Processing Frames: 100%|██████████| 5/5 [00:16<00:00,  3.35s/it]\u001b[A\n",
      "Processing Videos:  84%|████████▍ | 586/698 [3:05:25<36:11, 19.39s/it]"
     ]
    },
    {
     "name": "stdout",
     "output_type": "stream",
     "text": [
      "File Name: halinhofficial_7155406395809090842.mp4, File Size: 8.31 MB\n",
      "Total frames in video: 2224\n",
      "Frame indices to extract: [0, 444, 889, 1334, 1779]\n",
      "Extracted 5 frames.\n"
     ]
    },
    {
     "name": "stderr",
     "output_type": "stream",
     "text": [
      "\n",
      "Processing Frames:   0%|          | 0/5 [00:00<?, ?it/s]\u001b[A\n",
      "Processing Frames:  20%|██        | 1/5 [00:03<00:13,  3.44s/it]\u001b[A\n",
      "Processing Frames:  40%|████      | 2/5 [00:06<00:10,  3.42s/it]\u001b[A\n",
      "Processing Frames:  60%|██████    | 3/5 [00:09<00:06,  3.24s/it]\u001b[A\n",
      "Processing Frames:  80%|████████  | 4/5 [00:12<00:03,  3.10s/it]\u001b[A\n",
      "Processing Frames: 100%|██████████| 5/5 [00:16<00:00,  3.23s/it]\u001b[A\n",
      "Processing Videos:  84%|████████▍ | 587/698 [3:05:43<35:08, 18.99s/it]"
     ]
    },
    {
     "name": "stdout",
     "output_type": "stream",
     "text": [
      "File Name: robinsang__7111308928310447387.mp4, File Size: 67.80 MB\n",
      "Total frames in video: 6473\n",
      "Frame indices to extract: [0, 1294, 2589, 3883, 5178]\n",
      "Extracted 5 frames.\n"
     ]
    },
    {
     "name": "stderr",
     "output_type": "stream",
     "text": [
      "\n",
      "Processing Frames:   0%|          | 0/5 [00:00<?, ?it/s]\u001b[A\n",
      "Processing Frames:  20%|██        | 1/5 [00:04<00:16,  4.08s/it]\u001b[A\n",
      "Processing Frames:  40%|████      | 2/5 [00:08<00:12,  4.00s/it]\u001b[A\n",
      "Processing Frames:  60%|██████    | 3/5 [00:11<00:07,  3.55s/it]\u001b[A\n",
      "Processing Frames:  80%|████████  | 4/5 [00:14<00:03,  3.57s/it]\u001b[A\n",
      "Processing Frames: 100%|██████████| 5/5 [00:17<00:00,  3.56s/it]\u001b[A\n",
      "Processing Videos:  84%|████████▍ | 588/698 [3:06:03<35:29, 19.35s/it]"
     ]
    },
    {
     "name": "stdout",
     "output_type": "stream",
     "text": [
      "File Name: linhcuuhoadaily_7281986522528730370.mp4, File Size: 3.49 MB\n",
      "Total frames in video: 434\n",
      "Frame indices to extract: [0, 86, 173, 260, 347]\n",
      "Extracted 5 frames.\n"
     ]
    },
    {
     "name": "stderr",
     "output_type": "stream",
     "text": [
      "\n",
      "Processing Frames:   0%|          | 0/5 [00:00<?, ?it/s]\u001b[A\n",
      "Processing Frames:  20%|██        | 1/5 [00:04<00:17,  4.37s/it]\u001b[A\n",
      "Processing Frames:  40%|████      | 2/5 [00:08<00:12,  4.09s/it]\u001b[A\n",
      "Processing Frames:  60%|██████    | 3/5 [00:11<00:07,  3.60s/it]\u001b[A\n",
      "Processing Frames:  80%|████████  | 4/5 [00:14<00:03,  3.53s/it]\u001b[A\n",
      "Processing Frames: 100%|██████████| 5/5 [00:19<00:00,  3.91s/it]\u001b[A\n",
      "Processing Videos:  84%|████████▍ | 589/698 [3:06:25<36:31, 20.11s/it]"
     ]
    },
    {
     "name": "stdout",
     "output_type": "stream",
     "text": [
      "File Name: loanhquanhmotminh_7238497752013901058.mp4, File Size: 11.97 MB\n",
      "Total frames in video: 2288\n",
      "Frame indices to extract: [0, 457, 915, 1372, 1830]\n",
      "Extracted 5 frames.\n"
     ]
    },
    {
     "name": "stderr",
     "output_type": "stream",
     "text": [
      "\n",
      "Processing Frames:   0%|          | 0/5 [00:00<?, ?it/s]\u001b[A\n",
      "Processing Frames:  20%|██        | 1/5 [00:03<00:12,  3.08s/it]\u001b[A\n",
      "Processing Frames:  40%|████      | 2/5 [00:06<00:10,  3.37s/it]\u001b[A\n",
      "Processing Frames:  60%|██████    | 3/5 [00:09<00:06,  3.20s/it]\u001b[A\n",
      "Processing Frames:  80%|████████  | 4/5 [00:13<00:03,  3.37s/it]\u001b[A\n",
      "Processing Frames: 100%|██████████| 5/5 [00:16<00:00,  3.37s/it]\u001b[A\n",
      "Processing Videos:  85%|████████▍ | 590/698 [3:06:43<35:25, 19.68s/it]"
     ]
    },
    {
     "name": "stdout",
     "output_type": "stream",
     "text": [
      "File Name: linhcuuhoadaily_7297449960495156481.mp4, File Size: 3.01 MB\n",
      "Total frames in video: 560\n",
      "Frame indices to extract: [0, 112, 224, 336, 448]\n",
      "Extracted 5 frames.\n"
     ]
    },
    {
     "name": "stderr",
     "output_type": "stream",
     "text": [
      "\n",
      "Processing Frames:   0%|          | 0/5 [00:00<?, ?it/s]\u001b[A\n",
      "Processing Frames:  20%|██        | 1/5 [00:02<00:11,  2.75s/it]\u001b[A\n",
      "Processing Frames:  40%|████      | 2/5 [00:05<00:07,  2.48s/it]\u001b[A\n",
      "Processing Frames:  60%|██████    | 3/5 [00:08<00:06,  3.02s/it]\u001b[A\n",
      "Processing Frames:  80%|████████  | 4/5 [00:12<00:03,  3.32s/it]\u001b[A\n",
      "Processing Frames: 100%|██████████| 5/5 [00:15<00:00,  3.18s/it]\u001b[A\n",
      "Processing Videos:  85%|████████▍ | 591/698 [3:07:02<34:23, 19.29s/it]"
     ]
    },
    {
     "name": "stdout",
     "output_type": "stream",
     "text": [
      "File Name: anden75_7102045281537101082.mp4, File Size: 10.26 MB\n",
      "Total frames in video: 2024\n",
      "Frame indices to extract: [0, 404, 809, 1214, 1619]\n",
      "Extracted 5 frames.\n"
     ]
    },
    {
     "name": "stderr",
     "output_type": "stream",
     "text": [
      "\n",
      "Processing Frames:   0%|          | 0/5 [00:00<?, ?it/s]\u001b[A\n",
      "Processing Frames:  20%|██        | 1/5 [00:03<00:13,  3.26s/it]\u001b[A\n",
      "Processing Frames:  40%|████      | 2/5 [00:06<00:09,  3.15s/it]\u001b[A\n",
      "Processing Frames:  60%|██████    | 3/5 [00:09<00:06,  3.01s/it]\u001b[A\n",
      "Processing Frames:  80%|████████  | 4/5 [00:12<00:03,  3.03s/it]\u001b[A\n",
      "Processing Frames: 100%|██████████| 5/5 [00:15<00:00,  3.06s/it]\u001b[A\n",
      "Processing Videos:  85%|████████▍ | 592/698 [3:07:19<33:08, 18.76s/it]"
     ]
    },
    {
     "name": "stdout",
     "output_type": "stream",
     "text": [
      "File Name: soobin.hoangson_official_7356968945636723969.mp4, File Size: 7.10 MB\n",
      "Total frames in video: 2784\n",
      "Frame indices to extract: [0, 556, 1113, 1670, 2227]\n",
      "Extracted 5 frames.\n"
     ]
    },
    {
     "name": "stderr",
     "output_type": "stream",
     "text": [
      "\n",
      "Processing Frames:   0%|          | 0/5 [00:00<?, ?it/s]\u001b[A\n",
      "Processing Frames:  20%|██        | 1/5 [00:02<00:10,  2.50s/it]\u001b[A\n",
      "Processing Frames:  40%|████      | 2/5 [00:06<00:10,  3.36s/it]\u001b[A\n",
      "Processing Frames:  60%|██████    | 3/5 [00:11<00:07,  3.94s/it]\u001b[A\n",
      "Processing Frames:  80%|████████  | 4/5 [00:14<00:03,  3.65s/it]\u001b[A\n",
      "Processing Frames: 100%|██████████| 5/5 [00:17<00:00,  3.51s/it]\u001b[A\n",
      "Processing Videos:  85%|████████▍ | 593/698 [3:07:39<33:22, 19.07s/it]"
     ]
    },
    {
     "name": "stdout",
     "output_type": "stream",
     "text": [
      "File Name: le_anh_nuoi_7331951633049455879.mp4, File Size: 22.82 MB\n",
      "Total frames in video: 3019\n",
      "Frame indices to extract: [0, 603, 1207, 1811, 2415]\n",
      "Extracted 5 frames.\n"
     ]
    },
    {
     "name": "stderr",
     "output_type": "stream",
     "text": [
      "\n",
      "Processing Frames:   0%|          | 0/5 [00:00<?, ?it/s]\u001b[A\n",
      "Processing Frames:  20%|██        | 1/5 [00:02<00:11,  2.86s/it]\u001b[A\n",
      "Processing Frames:  40%|████      | 2/5 [00:05<00:08,  2.96s/it]\u001b[A\n",
      "Processing Frames:  60%|██████    | 3/5 [00:09<00:06,  3.26s/it]\u001b[A\n",
      "Processing Frames:  80%|████████  | 4/5 [00:13<00:03,  3.39s/it]\u001b[A\n",
      "Processing Frames: 100%|██████████| 5/5 [00:16<00:00,  3.22s/it]\u001b[A\n",
      "Processing Videos:  85%|████████▌ | 594/698 [3:07:57<32:25, 18.71s/it]"
     ]
    },
    {
     "name": "stdout",
     "output_type": "stream",
     "text": [
      "File Name: cutediyvrolija_7224891844210052398.mp4, File Size: 2.60 MB\n",
      "Total frames in video: 1289\n",
      "Frame indices to extract: [0, 257, 515, 773, 1031]\n",
      "Extracted 5 frames.\n"
     ]
    },
    {
     "name": "stderr",
     "output_type": "stream",
     "text": [
      "\n",
      "Processing Frames:   0%|          | 0/5 [00:00<?, ?it/s]\u001b[A\n",
      "Processing Frames:  20%|██        | 1/5 [00:03<00:15,  3.80s/it]\u001b[A\n",
      "Processing Frames:  40%|████      | 2/5 [00:06<00:09,  3.23s/it]\u001b[A\n",
      "Processing Frames:  60%|██████    | 3/5 [00:09<00:06,  3.17s/it]\u001b[A\n",
      "Processing Frames:  80%|████████  | 4/5 [00:12<00:03,  3.19s/it]\u001b[A\n",
      "Processing Frames: 100%|██████████| 5/5 [00:16<00:00,  3.27s/it]\u001b[A\n",
      "Processing Videos:  85%|████████▌ | 595/698 [3:08:15<31:49, 18.53s/it]"
     ]
    },
    {
     "name": "stdout",
     "output_type": "stream",
     "text": [
      "File Name: hoangnga_momitrendii_7253126060991335685.mp4, File Size: 10.70 MB\n",
      "Total frames in video: 1760\n",
      "Frame indices to extract: [0, 352, 704, 1056, 1408]\n",
      "Extracted 5 frames.\n"
     ]
    },
    {
     "name": "stderr",
     "output_type": "stream",
     "text": [
      "\n",
      "Processing Frames:   0%|          | 0/5 [00:00<?, ?it/s]\u001b[A\n",
      "Processing Frames:  20%|██        | 1/5 [00:03<00:13,  3.28s/it]\u001b[A\n",
      "Processing Frames:  40%|████      | 2/5 [00:06<00:10,  3.44s/it]\u001b[A\n",
      "Processing Frames:  60%|██████    | 3/5 [00:10<00:06,  3.41s/it]\u001b[A\n",
      "Processing Frames:  80%|████████  | 4/5 [00:13<00:03,  3.20s/it]\u001b[A\n",
      "Processing Frames: 100%|██████████| 5/5 [00:17<00:00,  3.50s/it]\u001b[A\n",
      "Processing Videos:  85%|████████▌ | 596/698 [3:08:35<31:59, 18.82s/it]"
     ]
    },
    {
     "name": "stdout",
     "output_type": "stream",
     "text": [
      "File Name: anden75_7368461803782786311.mp4, File Size: 46.71 MB\n",
      "Total frames in video: 7830\n",
      "Frame indices to extract: [0, 1566, 3132, 4698, 6264]\n",
      "Extracted 5 frames.\n"
     ]
    },
    {
     "name": "stderr",
     "output_type": "stream",
     "text": [
      "\n",
      "Processing Frames:   0%|          | 0/5 [00:00<?, ?it/s]\u001b[A\n",
      "Processing Frames:  20%|██        | 1/5 [00:03<00:14,  3.62s/it]\u001b[A\n",
      "Processing Frames:  40%|████      | 2/5 [00:06<00:10,  3.47s/it]\u001b[A\n",
      "Processing Frames:  60%|██████    | 3/5 [00:10<00:06,  3.43s/it]\u001b[A\n",
      "Processing Frames:  80%|████████  | 4/5 [00:13<00:03,  3.35s/it]\u001b[A\n",
      "Processing Frames: 100%|██████████| 5/5 [00:15<00:00,  3.18s/it]\u001b[A\n",
      "Processing Videos:  86%|████████▌ | 597/698 [3:08:53<31:23, 18.65s/it]"
     ]
    },
    {
     "name": "stdout",
     "output_type": "stream",
     "text": [
      "File Name: missgrand2021.thuytien_7271607975280790790.mp4, File Size: 1.72 MB\n",
      "Total frames in video: 838\n",
      "Frame indices to extract: [0, 167, 335, 502, 670]\n",
      "Extracted 5 frames.\n"
     ]
    },
    {
     "name": "stderr",
     "output_type": "stream",
     "text": [
      "\n",
      "Processing Frames:   0%|          | 0/5 [00:00<?, ?it/s]\u001b[A\n",
      "Processing Frames:  20%|██        | 1/5 [00:03<00:13,  3.41s/it]\u001b[A\n",
      "Processing Frames:  40%|████      | 2/5 [00:06<00:10,  3.41s/it]\u001b[A\n",
      "Processing Frames:  60%|██████    | 3/5 [00:12<00:08,  4.46s/it]\u001b[A\n",
      "Processing Frames:  80%|████████  | 4/5 [00:15<00:03,  3.98s/it]\u001b[A\n",
      "Processing Frames: 100%|██████████| 5/5 [00:18<00:00,  3.79s/it]\u001b[A\n",
      "Processing Videos:  86%|████████▌ | 598/698 [3:09:14<32:16, 19.36s/it]"
     ]
    },
    {
     "name": "stdout",
     "output_type": "stream",
     "text": [
      "File Name: poox.noon_7220423859936218411.mp4, File Size: 17.16 MB\n",
      "Total frames in video: 3362\n",
      "Frame indices to extract: [0, 672, 1344, 2017, 2689]\n",
      "Extracted 5 frames.\n"
     ]
    },
    {
     "name": "stderr",
     "output_type": "stream",
     "text": [
      "\n",
      "Processing Frames:   0%|          | 0/5 [00:00<?, ?it/s]\u001b[A\n",
      "Processing Frames:  20%|██        | 1/5 [00:04<00:19,  4.95s/it]\u001b[A\n",
      "Processing Frames:  40%|████      | 2/5 [00:07<00:11,  3.82s/it]\u001b[A\n",
      "Processing Frames:  60%|██████    | 3/5 [00:11<00:07,  3.70s/it]\u001b[A\n",
      "Processing Frames:  80%|████████  | 4/5 [00:14<00:03,  3.60s/it]\u001b[A\n",
      "Processing Frames: 100%|██████████| 5/5 [00:17<00:00,  3.57s/it]\u001b[A\n",
      "Processing Videos:  86%|████████▌ | 599/698 [3:09:34<32:15, 19.55s/it]"
     ]
    },
    {
     "name": "stdout",
     "output_type": "stream",
     "text": [
      "File Name: nhisayhi178_7345771906253081858.mp4, File Size: 7.27 MB\n",
      "Total frames in video: 961\n",
      "Frame indices to extract: [0, 192, 384, 576, 768]\n",
      "Extracted 5 frames.\n"
     ]
    },
    {
     "name": "stderr",
     "output_type": "stream",
     "text": [
      "\n",
      "Processing Frames:   0%|          | 0/5 [00:00<?, ?it/s]\u001b[A\n",
      "Processing Frames:  20%|██        | 1/5 [00:03<00:15,  3.92s/it]\u001b[A\n",
      "Processing Frames:  40%|████      | 2/5 [00:06<00:10,  3.38s/it]\u001b[A\n",
      "Processing Frames:  60%|██████    | 3/5 [00:09<00:06,  3.20s/it]\u001b[A\n",
      "Processing Frames:  80%|████████  | 4/5 [00:13<00:03,  3.23s/it]\u001b[A\n",
      "Processing Frames: 100%|██████████| 5/5 [00:17<00:00,  3.56s/it]\u001b[A\n",
      "Processing Videos:  86%|████████▌ | 600/698 [3:09:54<32:01, 19.61s/it]"
     ]
    },
    {
     "name": "stdout",
     "output_type": "stream",
     "text": [
      "File Name: echtajfo6yd_7232143802809453830.mp4, File Size: 7.16 MB\n",
      "Total frames in video: 1091\n",
      "Frame indices to extract: [0, 218, 436, 654, 872]\n",
      "Extracted 5 frames.\n"
     ]
    },
    {
     "name": "stderr",
     "output_type": "stream",
     "text": [
      "\n",
      "Processing Frames:   0%|          | 0/5 [00:00<?, ?it/s]\u001b[A\n",
      "Processing Frames:  20%|██        | 1/5 [00:03<00:14,  3.65s/it]\u001b[A\n",
      "Processing Frames:  40%|████      | 2/5 [00:07<00:10,  3.49s/it]\u001b[A\n",
      "Processing Frames:  60%|██████    | 3/5 [00:10<00:06,  3.35s/it]\u001b[A\n",
      "Processing Frames:  80%|████████  | 4/5 [00:13<00:03,  3.42s/it]\u001b[A\n",
      "Processing Frames: 100%|██████████| 5/5 [00:17<00:00,  3.50s/it]\u001b[A\n",
      "Processing Videos:  86%|████████▌ | 601/698 [3:10:14<32:03, 19.83s/it]"
     ]
    },
    {
     "name": "stdout",
     "output_type": "stream",
     "text": [
      "File Name: linhcuuhoadaily_7271561847281683718.mp4, File Size: 5.69 MB\n",
      "Total frames in video: 710\n",
      "Frame indices to extract: [0, 142, 284, 426, 568]\n",
      "Extracted 5 frames.\n"
     ]
    },
    {
     "name": "stderr",
     "output_type": "stream",
     "text": [
      "\n",
      "Processing Frames:   0%|          | 0/5 [00:00<?, ?it/s]\u001b[A\n",
      "Processing Frames:  20%|██        | 1/5 [00:03<00:14,  3.68s/it]\u001b[A\n",
      "Processing Frames:  40%|████      | 2/5 [00:06<00:10,  3.39s/it]\u001b[A\n",
      "Processing Frames:  60%|██████    | 3/5 [00:10<00:06,  3.47s/it]\u001b[A\n",
      "Processing Frames:  80%|████████  | 4/5 [00:13<00:03,  3.31s/it]\u001b[A\n",
      "Processing Frames: 100%|██████████| 5/5 [00:16<00:00,  3.38s/it]\u001b[A\n",
      "Processing Videos:  86%|████████▌ | 602/698 [3:10:33<31:17, 19.56s/it]"
     ]
    },
    {
     "name": "stdout",
     "output_type": "stream",
     "text": [
      "File Name: mocuabatoctv_6994005947479756058.mp4, File Size: 5.19 MB\n",
      "Total frames in video: 368\n",
      "Frame indices to extract: [0, 73, 147, 220, 294]\n",
      "Extracted 5 frames.\n"
     ]
    },
    {
     "name": "stderr",
     "output_type": "stream",
     "text": [
      "\n",
      "Processing Frames:   0%|          | 0/5 [00:00<?, ?it/s]\u001b[A\n",
      "Processing Frames:  20%|██        | 1/5 [00:03<00:12,  3.04s/it]\u001b[A\n",
      "Processing Frames:  40%|████      | 2/5 [00:06<00:09,  3.16s/it]\u001b[A\n",
      "Processing Frames:  60%|██████    | 3/5 [00:10<00:07,  3.65s/it]\u001b[A\n",
      "Processing Frames:  80%|████████  | 4/5 [00:13<00:03,  3.40s/it]\u001b[A\n",
      "Processing Frames: 100%|██████████| 5/5 [00:16<00:00,  3.32s/it]\u001b[A\n",
      "Processing Videos:  86%|████████▋ | 603/698 [3:10:51<30:25, 19.21s/it]"
     ]
    },
    {
     "name": "stdout",
     "output_type": "stream",
     "text": [
      "File Name: torilanaee_7274689712122629422.mp4, File Size: 7.05 MB\n",
      "Total frames in video: 1431\n",
      "Frame indices to extract: [0, 286, 572, 858, 1144]\n",
      "Extracted 5 frames.\n"
     ]
    },
    {
     "name": "stderr",
     "output_type": "stream",
     "text": [
      "\n",
      "Processing Frames:   0%|          | 0/5 [00:00<?, ?it/s]\u001b[A\n",
      "Processing Frames:  20%|██        | 1/5 [00:03<00:14,  3.61s/it]\u001b[A\n",
      "Processing Frames:  40%|████      | 2/5 [00:06<00:09,  3.30s/it]\u001b[A\n",
      "Processing Frames:  60%|██████    | 3/5 [00:10<00:07,  3.50s/it]\u001b[A\n",
      "Processing Frames:  80%|████████  | 4/5 [00:13<00:03,  3.52s/it]\u001b[A\n",
      "Processing Frames: 100%|██████████| 5/5 [00:17<00:00,  3.45s/it]\u001b[A\n",
      "Processing Videos:  87%|████████▋ | 604/698 [3:11:10<29:58, 19.14s/it]"
     ]
    },
    {
     "name": "stdout",
     "output_type": "stream",
     "text": [
      "File Name: hangmommy_7294125381722836232.mp4, File Size: 7.73 MB\n",
      "Total frames in video: 1402\n",
      "Frame indices to extract: [0, 280, 560, 841, 1121]\n",
      "Extracted 5 frames.\n"
     ]
    },
    {
     "name": "stderr",
     "output_type": "stream",
     "text": [
      "\n",
      "Processing Frames:   0%|          | 0/5 [00:00<?, ?it/s]\u001b[A\n",
      "Processing Frames:  20%|██        | 1/5 [00:04<00:17,  4.41s/it]\u001b[A\n",
      "Processing Frames:  40%|████      | 2/5 [00:07<00:11,  3.83s/it]\u001b[A\n",
      "Processing Frames:  60%|██████    | 3/5 [00:11<00:07,  3.61s/it]\u001b[A\n",
      "Processing Frames:  80%|████████  | 4/5 [00:14<00:03,  3.44s/it]\u001b[A\n",
      "Processing Frames: 100%|██████████| 5/5 [00:17<00:00,  3.59s/it]\u001b[A\n",
      "Processing Videos:  87%|████████▋ | 605/698 [3:11:31<30:15, 19.52s/it]"
     ]
    },
    {
     "name": "stdout",
     "output_type": "stream",
     "text": [
      "File Name: bongbaysaodoshop_7283072216571366674.mp4, File Size: 0.49 MB\n",
      "Total frames in video: 245\n",
      "Frame indices to extract: [0, 49, 98, 147, 196]\n",
      "Extracted 5 frames.\n"
     ]
    },
    {
     "name": "stderr",
     "output_type": "stream",
     "text": [
      "\n",
      "Processing Frames:   0%|          | 0/5 [00:00<?, ?it/s]\u001b[A\n",
      "Processing Frames:  20%|██        | 1/5 [00:03<00:12,  3.06s/it]\u001b[A\n",
      "Processing Frames:  40%|████      | 2/5 [00:06<00:09,  3.17s/it]\u001b[A\n",
      "Processing Frames:  60%|██████    | 3/5 [00:09<00:06,  3.18s/it]\u001b[A\n",
      "Processing Frames:  80%|████████  | 4/5 [00:12<00:03,  3.18s/it]\u001b[A\n",
      "Processing Frames: 100%|██████████| 5/5 [00:17<00:00,  3.42s/it]\u001b[A\n",
      "Processing Videos:  87%|████████▋ | 606/698 [3:11:50<29:42, 19.37s/it]"
     ]
    },
    {
     "name": "stdout",
     "output_type": "stream",
     "text": [
      "File Name: le_anh_nuoi_7343204002114456834.mp4, File Size: 15.19 MB\n",
      "Total frames in video: 2108\n",
      "Frame indices to extract: [0, 421, 843, 1264, 1686]\n",
      "Extracted 5 frames.\n"
     ]
    },
    {
     "name": "stderr",
     "output_type": "stream",
     "text": [
      "\n",
      "Processing Frames:   0%|          | 0/5 [00:00<?, ?it/s]\u001b[A\n",
      "Processing Frames:  20%|██        | 1/5 [00:03<00:12,  3.07s/it]\u001b[A\n",
      "Processing Frames:  40%|████      | 2/5 [00:06<00:09,  3.03s/it]\u001b[A\n",
      "Processing Frames:  60%|██████    | 3/5 [00:09<00:06,  3.13s/it]\u001b[A\n",
      "Processing Frames:  80%|████████  | 4/5 [00:12<00:03,  3.10s/it]\u001b[A\n",
      "Processing Frames: 100%|██████████| 5/5 [00:16<00:00,  3.23s/it]\u001b[A\n",
      "Processing Videos:  87%|████████▋ | 607/698 [3:12:08<28:49, 19.01s/it]"
     ]
    },
    {
     "name": "stdout",
     "output_type": "stream",
     "text": [
      "File Name: thichfilldo_6997493762821836058.mp4, File Size: 9.83 MB\n",
      "Total frames in video: 2014\n",
      "Frame indices to extract: [0, 402, 805, 1208, 1611]\n",
      "Extracted 5 frames.\n"
     ]
    },
    {
     "name": "stderr",
     "output_type": "stream",
     "text": [
      "\n",
      "Processing Frames:   0%|          | 0/5 [00:00<?, ?it/s]\u001b[A\n",
      "Processing Frames:  20%|██        | 1/5 [00:04<00:15,  4.00s/it]\u001b[A\n",
      "Processing Frames:  40%|████      | 2/5 [00:06<00:09,  3.31s/it]\u001b[A\n",
      "Processing Frames:  60%|██████    | 3/5 [00:10<00:07,  3.59s/it]\u001b[A\n",
      "Processing Frames:  80%|████████  | 4/5 [00:14<00:03,  3.67s/it]\u001b[A\n",
      "Processing Frames: 100%|██████████| 5/5 [00:17<00:00,  3.51s/it]\u001b[A\n",
      "Processing Videos:  87%|████████▋ | 608/698 [3:12:28<28:53, 19.26s/it]"
     ]
    },
    {
     "name": "stdout",
     "output_type": "stream",
     "text": [
      "File Name: danahassonn_7176739147418291499.mp4, File Size: 3.08 MB\n",
      "Total frames in video: 832\n",
      "Frame indices to extract: [0, 166, 332, 499, 665]\n",
      "Extracted 5 frames.\n"
     ]
    },
    {
     "name": "stderr",
     "output_type": "stream",
     "text": [
      "\n",
      "Processing Frames:   0%|          | 0/5 [00:00<?, ?it/s]\u001b[A\n",
      "Processing Frames:  20%|██        | 1/5 [00:03<00:12,  3.24s/it]\u001b[A\n",
      "Processing Frames:  40%|████      | 2/5 [00:06<00:09,  3.22s/it]\u001b[A\n",
      "Processing Frames:  60%|██████    | 3/5 [00:09<00:06,  3.07s/it]\u001b[A\n",
      "Processing Frames:  80%|████████  | 4/5 [00:12<00:03,  3.12s/it]\u001b[A\n",
      "Processing Frames: 100%|██████████| 5/5 [00:15<00:00,  3.11s/it]\u001b[A\n",
      "Processing Videos:  87%|████████▋ | 609/698 [3:12:45<27:44, 18.71s/it]"
     ]
    },
    {
     "name": "stdout",
     "output_type": "stream",
     "text": [
      "File Name: 10vancauhoivisao247_7030301523414437146.mp4, File Size: 8.77 MB\n",
      "Total frames in video: 3555\n",
      "Frame indices to extract: [0, 711, 1422, 2133, 2844]\n",
      "Extracted 5 frames.\n"
     ]
    },
    {
     "name": "stderr",
     "output_type": "stream",
     "text": [
      "\n",
      "Processing Frames:   0%|          | 0/5 [00:00<?, ?it/s]\u001b[A\n",
      "Processing Frames:  20%|██        | 1/5 [00:03<00:14,  3.64s/it]\u001b[A\n",
      "Processing Frames:  40%|████      | 2/5 [00:07<00:11,  3.82s/it]\u001b[A\n",
      "Processing Frames:  60%|██████    | 3/5 [00:10<00:07,  3.53s/it]\u001b[A\n",
      "Processing Frames:  80%|████████  | 4/5 [00:13<00:03,  3.36s/it]\u001b[A\n",
      "Processing Frames: 100%|██████████| 5/5 [00:17<00:00,  3.44s/it]\u001b[A\n",
      "Processing Videos:  87%|████████▋ | 610/698 [3:13:04<27:42, 18.89s/it]"
     ]
    },
    {
     "name": "stdout",
     "output_type": "stream",
     "text": [
      "File Name: quanglanbui_7208522708697582875.mp4, File Size: 1.25 MB\n",
      "Total frames in video: 450\n",
      "Frame indices to extract: [0, 90, 180, 270, 360]\n",
      "Extracted 5 frames.\n"
     ]
    },
    {
     "name": "stderr",
     "output_type": "stream",
     "text": [
      "\n",
      "Processing Frames:   0%|          | 0/5 [00:00<?, ?it/s]\u001b[A\n",
      "Processing Frames:  20%|██        | 1/5 [00:03<00:12,  3.10s/it]\u001b[A\n",
      "Processing Frames:  40%|████      | 2/5 [00:06<00:09,  3.05s/it]\u001b[A\n",
      "Processing Frames:  60%|██████    | 3/5 [00:09<00:06,  3.20s/it]\u001b[A\n",
      "Processing Frames:  80%|████████  | 4/5 [00:12<00:03,  3.22s/it]\u001b[A\n",
      "Processing Frames: 100%|██████████| 5/5 [00:15<00:00,  3.16s/it]\u001b[A\n",
      "Processing Videos:  88%|████████▊ | 611/698 [3:13:22<26:45, 18.45s/it]"
     ]
    },
    {
     "name": "stdout",
     "output_type": "stream",
     "text": [
      "File Name: jettsetfarmhouse_7124481322051145006.mp4, File Size: 11.60 MB\n",
      "Total frames in video: 1509\n",
      "Frame indices to extract: [0, 301, 603, 905, 1207]\n",
      "Extracted 5 frames.\n"
     ]
    },
    {
     "name": "stderr",
     "output_type": "stream",
     "text": [
      "\n",
      "Processing Frames:   0%|          | 0/5 [00:00<?, ?it/s]\u001b[A\n",
      "Processing Frames:  20%|██        | 1/5 [00:03<00:15,  3.88s/it]\u001b[A\n",
      "Processing Frames:  40%|████      | 2/5 [00:06<00:09,  3.29s/it]\u001b[A\n",
      "Processing Frames:  60%|██████    | 3/5 [00:09<00:06,  3.17s/it]\u001b[A\n",
      "Processing Frames:  80%|████████  | 4/5 [00:12<00:03,  3.11s/it]\u001b[A\n",
      "Processing Frames: 100%|██████████| 5/5 [00:16<00:00,  3.24s/it]\u001b[A\n",
      "Processing Videos:  88%|████████▊ | 612/698 [3:13:40<26:18, 18.35s/it]"
     ]
    },
    {
     "name": "stdout",
     "output_type": "stream",
     "text": [
      "File Name: emiarchive_7112659212366269722.mp4, File Size: 3.16 MB\n",
      "Total frames in video: 821\n",
      "Frame indices to extract: [0, 164, 328, 492, 656]\n",
      "Extracted 5 frames.\n"
     ]
    },
    {
     "name": "stderr",
     "output_type": "stream",
     "text": [
      "\n",
      "Processing Frames:   0%|          | 0/5 [00:00<?, ?it/s]\u001b[A\n",
      "Processing Frames:  20%|██        | 1/5 [00:03<00:13,  3.43s/it]\u001b[A\n",
      "Processing Frames:  40%|████      | 2/5 [00:06<00:09,  3.32s/it]\u001b[A\n",
      "Processing Frames:  60%|██████    | 3/5 [00:09<00:06,  3.18s/it]\u001b[A\n",
      "Processing Frames:  80%|████████  | 4/5 [00:12<00:03,  3.19s/it]\u001b[A\n",
      "Processing Frames: 100%|██████████| 5/5 [00:16<00:00,  3.36s/it]\u001b[A\n",
      "Processing Videos:  88%|████████▊ | 613/698 [3:13:59<26:21, 18.61s/it]"
     ]
    },
    {
     "name": "stdout",
     "output_type": "stream",
     "text": [
      "File Name: yenvivu_7225604303933803782.mp4, File Size: 18.72 MB\n",
      "Total frames in video: 1926\n",
      "Frame indices to extract: [0, 385, 770, 1155, 1540]\n",
      "Extracted 5 frames.\n"
     ]
    },
    {
     "name": "stderr",
     "output_type": "stream",
     "text": [
      "\n",
      "Processing Frames:   0%|          | 0/5 [00:00<?, ?it/s]\u001b[A\n",
      "Processing Frames:  20%|██        | 1/5 [00:03<00:12,  3.04s/it]\u001b[A\n",
      "Processing Frames:  40%|████      | 2/5 [00:06<00:09,  3.24s/it]\u001b[A\n",
      "Processing Frames:  60%|██████    | 3/5 [00:09<00:06,  3.16s/it]\u001b[A\n",
      "Processing Frames:  80%|████████  | 4/5 [00:12<00:03,  3.19s/it]\u001b[A\n",
      "Processing Frames: 100%|██████████| 5/5 [00:16<00:00,  3.26s/it]\u001b[A\n",
      "Processing Videos:  88%|████████▊ | 614/698 [3:14:17<25:54, 18.51s/it]"
     ]
    },
    {
     "name": "stdout",
     "output_type": "stream",
     "text": [
      "File Name: pamyeuoi_7319484034243906817.mp4, File Size: 23.66 MB\n",
      "Total frames in video: 3801\n",
      "Frame indices to extract: [0, 760, 1520, 2280, 3040]\n",
      "Extracted 5 frames.\n"
     ]
    },
    {
     "name": "stderr",
     "output_type": "stream",
     "text": [
      "\n",
      "Processing Frames:   0%|          | 0/5 [00:00<?, ?it/s]\u001b[A\n",
      "Processing Frames:  20%|██        | 1/5 [00:03<00:12,  3.05s/it]\u001b[A\n",
      "Processing Frames:  40%|████      | 2/5 [00:06<00:09,  3.03s/it]\u001b[A\n",
      "Processing Frames:  60%|██████    | 3/5 [00:10<00:06,  3.46s/it]\u001b[A\n",
      "Processing Frames:  80%|████████  | 4/5 [00:13<00:03,  3.27s/it]\u001b[A\n",
      "Processing Frames: 100%|██████████| 5/5 [00:15<00:00,  3.13s/it]\u001b[A\n",
      "Processing Videos:  88%|████████▊ | 615/698 [3:14:35<25:13, 18.23s/it]"
     ]
    },
    {
     "name": "stdout",
     "output_type": "stream",
     "text": [
      "File Name: meowmeow.2k_7352150249256881409.mp4, File Size: 1.33 MB\n",
      "Total frames in video: 603\n",
      "Frame indices to extract: [0, 120, 241, 361, 482]\n",
      "Extracted 5 frames.\n"
     ]
    },
    {
     "name": "stderr",
     "output_type": "stream",
     "text": [
      "\n",
      "Processing Frames:   0%|          | 0/5 [00:00<?, ?it/s]\u001b[A\n",
      "Processing Frames:  20%|██        | 1/5 [00:03<00:13,  3.46s/it]\u001b[A\n",
      "Processing Frames:  40%|████      | 2/5 [00:06<00:10,  3.41s/it]\u001b[A\n",
      "Processing Frames:  60%|██████    | 3/5 [00:10<00:06,  3.39s/it]\u001b[A\n",
      "Processing Frames:  80%|████████  | 4/5 [00:14<00:03,  3.62s/it]\u001b[A\n",
      "Processing Frames: 100%|██████████| 5/5 [00:16<00:00,  3.29s/it]\u001b[A\n",
      "Processing Videos:  88%|████████▊ | 616/698 [3:14:53<24:49, 18.17s/it]"
     ]
    },
    {
     "name": "stdout",
     "output_type": "stream",
     "text": [
      "File Name: _kaylaargyle__7161954263965584686.mp4, File Size: 11.32 MB\n",
      "Total frames in video: 1318\n",
      "Frame indices to extract: [0, 263, 527, 790, 1054]\n",
      "Extracted 5 frames.\n"
     ]
    },
    {
     "name": "stderr",
     "output_type": "stream",
     "text": [
      "\n",
      "Processing Frames:   0%|          | 0/5 [00:00<?, ?it/s]\u001b[A\n",
      "Processing Frames:  20%|██        | 1/5 [00:03<00:14,  3.64s/it]\u001b[A\n",
      "Processing Frames:  40%|████      | 2/5 [00:07<00:10,  3.49s/it]\u001b[A\n",
      "Processing Frames:  60%|██████    | 3/5 [00:11<00:07,  3.74s/it]\u001b[A\n",
      "Processing Frames:  80%|████████  | 4/5 [00:14<00:03,  3.48s/it]\u001b[A\n",
      "Processing Frames: 100%|██████████| 5/5 [00:17<00:00,  3.50s/it]\u001b[A\n",
      "Processing Videos:  88%|████████▊ | 617/698 [3:15:13<25:11, 18.66s/it]"
     ]
    },
    {
     "name": "stdout",
     "output_type": "stream",
     "text": [
      "File Name: dicungtai_7004418219272391962.mp4, File Size: 4.96 MB\n",
      "Total frames in video: 1537\n",
      "Frame indices to extract: [0, 307, 614, 922, 1229]\n",
      "Extracted 5 frames.\n"
     ]
    },
    {
     "name": "stderr",
     "output_type": "stream",
     "text": [
      "\n",
      "Processing Frames:   0%|          | 0/5 [00:00<?, ?it/s]\u001b[A\n",
      "Processing Frames:  20%|██        | 1/5 [00:03<00:12,  3.24s/it]\u001b[A\n",
      "Processing Frames:  40%|████      | 2/5 [00:06<00:09,  3.24s/it]\u001b[A\n",
      "Processing Frames:  60%|██████    | 3/5 [00:09<00:06,  3.22s/it]\u001b[A\n",
      "Processing Frames:  80%|████████  | 4/5 [00:12<00:03,  3.21s/it]\u001b[A\n",
      "Processing Frames: 100%|██████████| 5/5 [00:16<00:00,  3.34s/it]\u001b[A\n",
      "Processing Videos:  89%|████████▊ | 618/698 [3:15:31<24:42, 18.53s/it]"
     ]
    },
    {
     "name": "stdout",
     "output_type": "stream",
     "text": [
      "File Name: maphayke_7374003956013403410.mp4, File Size: 11.70 MB\n",
      "Total frames in video: 1770\n",
      "Frame indices to extract: [0, 354, 708, 1062, 1416]\n",
      "Extracted 5 frames.\n"
     ]
    },
    {
     "name": "stderr",
     "output_type": "stream",
     "text": [
      "\n",
      "Processing Frames:   0%|          | 0/5 [00:00<?, ?it/s]\u001b[A\n",
      "Processing Frames:  20%|██        | 1/5 [00:03<00:14,  3.74s/it]\u001b[A\n",
      "Processing Frames:  40%|████      | 2/5 [00:07<00:10,  3.63s/it]\u001b[A\n",
      "Processing Frames:  60%|██████    | 3/5 [00:10<00:07,  3.51s/it]\u001b[A\n",
      "Processing Frames:  80%|████████  | 4/5 [00:13<00:03,  3.31s/it]\u001b[A\n",
      "Processing Frames: 100%|██████████| 5/5 [00:16<00:00,  3.38s/it]\u001b[A\n",
      "Processing Videos:  89%|████████▊ | 619/698 [3:15:50<24:34, 18.66s/it]"
     ]
    },
    {
     "name": "stdout",
     "output_type": "stream",
     "text": [
      "File Name: nhandian_6955463321789222145.mp4, File Size: 19.80 MB\n",
      "Total frames in video: 4053\n",
      "Frame indices to extract: [0, 810, 1621, 2431, 3242]\n",
      "Extracted 5 frames.\n"
     ]
    },
    {
     "name": "stderr",
     "output_type": "stream",
     "text": [
      "\n",
      "Processing Frames:   0%|          | 0/5 [00:00<?, ?it/s]\u001b[A\n",
      "Processing Frames:  20%|██        | 1/5 [00:03<00:12,  3.04s/it]\u001b[A\n",
      "Processing Frames:  40%|████      | 2/5 [00:05<00:08,  2.80s/it]\u001b[A\n",
      "Processing Frames:  60%|██████    | 3/5 [00:08<00:05,  2.91s/it]\u001b[A\n",
      "Processing Frames:  80%|████████  | 4/5 [00:11<00:02,  2.95s/it]\u001b[A\n",
      "Processing Frames: 100%|██████████| 5/5 [00:14<00:00,  2.95s/it]\u001b[A\n",
      "Processing Videos:  89%|████████▉ | 620/698 [3:16:07<23:27, 18.05s/it]"
     ]
    },
    {
     "name": "stdout",
     "output_type": "stream",
     "text": [
      "File Name: tronmama93_7342486833332260097.mp4, File Size: 5.57 MB\n",
      "Total frames in video: 1861\n",
      "Frame indices to extract: [0, 372, 744, 1116, 1488]\n",
      "Extracted 5 frames.\n"
     ]
    },
    {
     "name": "stderr",
     "output_type": "stream",
     "text": [
      "\n",
      "Processing Frames:   0%|          | 0/5 [00:00<?, ?it/s]\u001b[A\n",
      "Processing Frames:  20%|██        | 1/5 [00:03<00:15,  3.92s/it]\u001b[A\n",
      "Processing Frames:  40%|████      | 2/5 [00:07<00:10,  3.60s/it]\u001b[A\n",
      "Processing Frames:  60%|██████    | 3/5 [00:10<00:07,  3.52s/it]\u001b[A\n",
      "Processing Frames:  80%|████████  | 4/5 [00:13<00:03,  3.31s/it]\u001b[A\n",
      "Processing Frames: 100%|██████████| 5/5 [00:17<00:00,  3.56s/it]\u001b[A\n",
      "Processing Videos:  89%|████████▉ | 621/698 [3:16:26<23:49, 18.57s/it]"
     ]
    },
    {
     "name": "stdout",
     "output_type": "stream",
     "text": [
      "File Name: phuongmin__6825787898361580802.mp4, File Size: 14.14 MB\n",
      "Total frames in video: 1770\n",
      "Frame indices to extract: [0, 354, 708, 1062, 1416]\n",
      "Extracted 5 frames.\n"
     ]
    },
    {
     "name": "stderr",
     "output_type": "stream",
     "text": [
      "\n",
      "Processing Frames:   0%|          | 0/5 [00:00<?, ?it/s]\u001b[A\n",
      "Processing Frames:  20%|██        | 1/5 [00:03<00:13,  3.47s/it]\u001b[A\n",
      "Processing Frames:  40%|████      | 2/5 [00:06<00:09,  3.31s/it]\u001b[A\n",
      "Processing Frames:  60%|██████    | 3/5 [00:09<00:06,  3.17s/it]\u001b[A\n",
      "Processing Frames:  80%|████████  | 4/5 [00:13<00:03,  3.33s/it]\u001b[A\n",
      "Processing Frames: 100%|██████████| 5/5 [00:16<00:00,  3.39s/it]\u001b[A\n",
      "Processing Videos:  89%|████████▉ | 622/698 [3:16:45<23:31, 18.58s/it]"
     ]
    },
    {
     "name": "stdout",
     "output_type": "stream",
     "text": [
      "File Name: petmedia.ict_7315378813544762625.mp4, File Size: 2.97 MB\n",
      "Total frames in video: 526\n",
      "Frame indices to extract: [0, 105, 210, 315, 420]\n",
      "Extracted 5 frames.\n"
     ]
    },
    {
     "name": "stderr",
     "output_type": "stream",
     "text": [
      "\n",
      "Processing Frames:   0%|          | 0/5 [00:00<?, ?it/s]\u001b[A\n",
      "Processing Frames:  20%|██        | 1/5 [00:02<00:10,  2.56s/it]\u001b[A\n",
      "Processing Frames:  40%|████      | 2/5 [00:05<00:08,  2.72s/it]\u001b[A\n",
      "Processing Frames:  60%|██████    | 3/5 [00:08<00:05,  2.94s/it]\u001b[A\n",
      "Processing Frames:  80%|████████  | 4/5 [00:12<00:03,  3.19s/it]\u001b[A\n",
      "Processing Frames: 100%|██████████| 5/5 [00:15<00:00,  3.03s/it]\u001b[A\n",
      "Processing Videos:  89%|████████▉ | 623/698 [3:17:02<22:38, 18.12s/it]"
     ]
    },
    {
     "name": "stdout",
     "output_type": "stream",
     "text": [
      "File Name: thatlunggiasi_7236764042801499398.mp4, File Size: 3.10 MB\n",
      "Total frames in video: 737\n",
      "Frame indices to extract: [0, 147, 294, 442, 589]\n",
      "Extracted 5 frames.\n"
     ]
    },
    {
     "name": "stderr",
     "output_type": "stream",
     "text": [
      "\n",
      "Processing Frames:   0%|          | 0/5 [00:00<?, ?it/s]\u001b[A\n",
      "Processing Frames:  20%|██        | 1/5 [00:03<00:13,  3.39s/it]\u001b[A\n",
      "Processing Frames:  40%|████      | 2/5 [00:06<00:09,  3.32s/it]\u001b[A\n",
      "Processing Frames:  60%|██████    | 3/5 [00:10<00:06,  3.34s/it]\u001b[A\n",
      "Processing Frames:  80%|████████  | 4/5 [00:14<00:03,  3.62s/it]\u001b[A\n",
      "Processing Frames: 100%|██████████| 5/5 [00:17<00:00,  3.57s/it]\u001b[A\n",
      "Processing Videos:  89%|████████▉ | 624/698 [3:17:22<23:00, 18.65s/it]"
     ]
    },
    {
     "name": "stdout",
     "output_type": "stream",
     "text": [
      "File Name: asraedit_7349778962035379458.mp4, File Size: 1.88 MB\n",
      "Total frames in video: 407\n",
      "Frame indices to extract: [0, 81, 162, 244, 325]\n",
      "Extracted 5 frames.\n"
     ]
    },
    {
     "name": "stderr",
     "output_type": "stream",
     "text": [
      "\n",
      "Processing Frames:   0%|          | 0/5 [00:00<?, ?it/s]\u001b[A\n",
      "Processing Frames:  20%|██        | 1/5 [00:03<00:13,  3.25s/it]\u001b[A\n",
      "Processing Frames:  40%|████      | 2/5 [00:07<00:11,  3.80s/it]\u001b[A\n",
      "Processing Frames:  60%|██████    | 3/5 [00:11<00:07,  3.89s/it]\u001b[A\n",
      "Processing Frames:  80%|████████  | 4/5 [00:14<00:03,  3.63s/it]\u001b[A\n",
      "Processing Frames: 100%|██████████| 5/5 [00:17<00:00,  3.55s/it]\u001b[A\n",
      "Processing Videos:  90%|████████▉ | 625/698 [3:17:41<22:55, 18.85s/it]"
     ]
    },
    {
     "name": "stdout",
     "output_type": "stream",
     "text": [
      "File Name: toongadventure_7350171896517774600.mp4, File Size: 61.23 MB\n",
      "Total frames in video: 11777\n",
      "Frame indices to extract: [0, 2355, 4710, 7066, 9421]\n",
      "Extracted 5 frames.\n"
     ]
    },
    {
     "name": "stderr",
     "output_type": "stream",
     "text": [
      "\n",
      "Processing Frames:   0%|          | 0/5 [00:00<?, ?it/s]\u001b[A\n",
      "Processing Frames:  20%|██        | 1/5 [00:04<00:19,  4.81s/it]\u001b[A\n",
      "Processing Frames:  40%|████      | 2/5 [00:07<00:11,  3.76s/it]\u001b[A\n",
      "Processing Frames:  60%|██████    | 3/5 [00:10<00:06,  3.42s/it]\u001b[A\n",
      "Processing Frames:  80%|████████  | 4/5 [00:14<00:03,  3.33s/it]\u001b[A\n",
      "Processing Frames: 100%|██████████| 5/5 [00:17<00:00,  3.53s/it]\u001b[A\n",
      "Processing Videos:  90%|████████▉ | 626/698 [3:18:01<22:54, 19.09s/it]"
     ]
    },
    {
     "name": "stdout",
     "output_type": "stream",
     "text": [
      "File Name: thecrazycreativeteacher_7019274913634585861.mp4, File Size: 10.94 MB\n",
      "Total frames in video: 1672\n",
      "Frame indices to extract: [0, 334, 668, 1003, 1337]\n",
      "Extracted 5 frames.\n"
     ]
    },
    {
     "name": "stderr",
     "output_type": "stream",
     "text": [
      "\n",
      "Processing Frames:   0%|          | 0/5 [00:00<?, ?it/s]\u001b[A\n",
      "Processing Frames:  20%|██        | 1/5 [00:03<00:14,  3.62s/it]\u001b[A\n",
      "Processing Frames:  40%|████      | 2/5 [00:07<00:10,  3.51s/it]\u001b[A\n",
      "Processing Frames:  60%|██████    | 3/5 [00:10<00:06,  3.36s/it]\u001b[A\n",
      "Processing Frames:  80%|████████  | 4/5 [00:14<00:03,  3.72s/it]\u001b[A\n",
      "Processing Frames: 100%|██████████| 5/5 [00:18<00:00,  3.60s/it]\u001b[A\n",
      "Processing Videos:  90%|████████▉ | 627/698 [3:18:21<22:53, 19.35s/it]"
     ]
    },
    {
     "name": "stdout",
     "output_type": "stream",
     "text": [
      "File Name: cookwithme_369_7252199043705638171.mp4, File Size: 13.61 MB\n",
      "Total frames in video: 2087\n",
      "Frame indices to extract: [0, 417, 834, 1252, 1669]\n",
      "Extracted 5 frames.\n"
     ]
    },
    {
     "name": "stderr",
     "output_type": "stream",
     "text": [
      "\n",
      "Processing Frames:   0%|          | 0/5 [00:00<?, ?it/s]\u001b[A\n",
      "Processing Frames:  20%|██        | 1/5 [00:03<00:14,  3.59s/it]\u001b[A\n",
      "Processing Frames:  40%|████      | 2/5 [00:06<00:09,  3.28s/it]\u001b[A\n",
      "Processing Frames:  60%|██████    | 3/5 [00:10<00:06,  3.34s/it]\u001b[A\n",
      "Processing Frames:  80%|████████  | 4/5 [00:13<00:03,  3.22s/it]\u001b[A\n",
      "Processing Frames: 100%|██████████| 5/5 [00:16<00:00,  3.31s/it]\u001b[A\n",
      "Processing Videos:  90%|████████▉ | 628/698 [3:18:39<22:16, 19.09s/it]"
     ]
    },
    {
     "name": "stdout",
     "output_type": "stream",
     "text": [
      "File Name: lovecat00__7147908907652893995.mp4, File Size: 2.82 MB\n",
      "Total frames in video: 456\n",
      "Frame indices to extract: [0, 91, 182, 273, 364]\n",
      "Extracted 5 frames.\n"
     ]
    },
    {
     "name": "stderr",
     "output_type": "stream",
     "text": [
      "\n",
      "Processing Frames:   0%|          | 0/5 [00:00<?, ?it/s]\u001b[A\n",
      "Processing Frames:  20%|██        | 1/5 [00:03<00:12,  3.22s/it]\u001b[A\n",
      "Processing Frames:  40%|████      | 2/5 [00:06<00:10,  3.53s/it]\u001b[A\n",
      "Processing Frames:  60%|██████    | 3/5 [00:10<00:06,  3.47s/it]\u001b[A\n",
      "Processing Frames:  80%|████████  | 4/5 [00:14<00:03,  3.57s/it]\u001b[A\n",
      "Processing Frames: 100%|██████████| 5/5 [00:17<00:00,  3.46s/it]\u001b[A\n",
      "Processing Videos:  90%|█████████ | 629/698 [3:18:58<21:55, 19.06s/it]"
     ]
    },
    {
     "name": "stdout",
     "output_type": "stream",
     "text": [
      "File Name: nqs.kinhte_7237442429559901445.mp4, File Size: 6.60 MB\n",
      "Total frames in video: 4294\n",
      "Frame indices to extract: [0, 858, 1717, 2576, 3435]\n",
      "Extracted 5 frames.\n"
     ]
    },
    {
     "name": "stderr",
     "output_type": "stream",
     "text": [
      "\n",
      "Processing Frames:   0%|          | 0/5 [00:00<?, ?it/s]\u001b[A\n",
      "Processing Frames:  20%|██        | 1/5 [00:03<00:12,  3.24s/it]\u001b[A\n",
      "Processing Frames:  40%|████      | 2/5 [00:06<00:09,  3.33s/it]\u001b[A\n",
      "Processing Frames:  60%|██████    | 3/5 [00:10<00:07,  3.53s/it]\u001b[A\n",
      "Processing Frames:  80%|████████  | 4/5 [00:13<00:03,  3.41s/it]\u001b[A\n",
      "Processing Frames: 100%|██████████| 5/5 [00:16<00:00,  3.36s/it]\u001b[A\n",
      "Processing Videos:  90%|█████████ | 630/698 [3:19:17<21:29, 18.96s/it]"
     ]
    },
    {
     "name": "stdout",
     "output_type": "stream",
     "text": [
      "File Name: chuyencudaqua_7362922737712499986.mp4, File Size: 5.77 MB\n",
      "Total frames in video: 2712\n",
      "Frame indices to extract: [0, 542, 1084, 1627, 2169]\n",
      "Extracted 5 frames.\n"
     ]
    },
    {
     "name": "stderr",
     "output_type": "stream",
     "text": [
      "\n",
      "Processing Frames:   0%|          | 0/5 [00:00<?, ?it/s]\u001b[A\n",
      "Processing Frames:  20%|██        | 1/5 [00:03<00:12,  3.24s/it]\u001b[A\n",
      "Processing Frames:  40%|████      | 2/5 [00:07<00:10,  3.58s/it]\u001b[A\n",
      "Processing Frames:  60%|██████    | 3/5 [00:10<00:06,  3.40s/it]\u001b[A\n",
      "Processing Frames:  80%|████████  | 4/5 [00:13<00:03,  3.26s/it]\u001b[A\n",
      "Processing Frames: 100%|██████████| 5/5 [00:16<00:00,  3.37s/it]\u001b[A\n",
      "Processing Videos:  90%|█████████ | 631/698 [3:19:36<21:04, 18.88s/it]"
     ]
    },
    {
     "name": "stdout",
     "output_type": "stream",
     "text": [
      "File Name: trieuhivi_7357705201408625938.mp4, File Size: 5.93 MB\n",
      "Total frames in video: 593\n",
      "Frame indices to extract: [0, 118, 237, 355, 474]\n",
      "Extracted 5 frames.\n"
     ]
    },
    {
     "name": "stderr",
     "output_type": "stream",
     "text": [
      "\n",
      "Processing Frames:   0%|          | 0/5 [00:00<?, ?it/s]\u001b[A\n",
      "Processing Frames:  20%|██        | 1/5 [00:03<00:13,  3.44s/it]\u001b[A\n",
      "Processing Frames:  40%|████      | 2/5 [00:06<00:09,  3.29s/it]\u001b[A\n",
      "Processing Frames:  60%|██████    | 3/5 [00:10<00:06,  3.33s/it]\u001b[A\n",
      "Processing Frames:  80%|████████  | 4/5 [00:13<00:03,  3.44s/it]\u001b[A\n",
      "Processing Frames: 100%|██████████| 5/5 [00:17<00:00,  3.43s/it]\u001b[A\n",
      "Processing Videos:  91%|█████████ | 632/698 [3:19:55<20:53, 18.99s/it]"
     ]
    },
    {
     "name": "stdout",
     "output_type": "stream",
     "text": [
      "File Name: halinhofficial_7340258916510616840.mp4, File Size: 6.76 MB\n",
      "Total frames in video: 1531\n",
      "Frame indices to extract: [0, 306, 612, 918, 1224]\n",
      "Extracted 5 frames.\n"
     ]
    },
    {
     "name": "stderr",
     "output_type": "stream",
     "text": [
      "\n",
      "Processing Frames:   0%|          | 0/5 [00:00<?, ?it/s]\u001b[A\n",
      "Processing Frames:  20%|██        | 1/5 [00:03<00:15,  3.99s/it]\u001b[A\n",
      "Processing Frames:  40%|████      | 2/5 [00:07<00:11,  3.75s/it]\u001b[A\n",
      "Processing Frames:  60%|██████    | 3/5 [00:10<00:06,  3.49s/it]\u001b[A\n",
      "Processing Frames:  80%|████████  | 4/5 [00:13<00:03,  3.32s/it]\u001b[A\n",
      "Processing Frames: 100%|██████████| 5/5 [00:16<00:00,  3.33s/it]\u001b[A\n",
      "Processing Videos:  91%|█████████ | 633/698 [3:20:14<20:25, 18.86s/it]"
     ]
    },
    {
     "name": "stdout",
     "output_type": "stream",
     "text": [
      "File Name: numbersixtysix_7104311613049588998.mp4, File Size: 4.07 MB\n",
      "Total frames in video: 822\n",
      "Frame indices to extract: [0, 164, 328, 493, 657]\n",
      "Extracted 5 frames.\n"
     ]
    },
    {
     "name": "stderr",
     "output_type": "stream",
     "text": [
      "\n",
      "Processing Frames:   0%|          | 0/5 [00:00<?, ?it/s]\u001b[A\n",
      "Processing Frames:  20%|██        | 1/5 [00:03<00:13,  3.48s/it]\u001b[A\n",
      "Processing Frames:  40%|████      | 2/5 [00:06<00:09,  3.20s/it]\u001b[A\n",
      "Processing Frames:  60%|██████    | 3/5 [00:09<00:06,  3.03s/it]\u001b[A\n",
      "Processing Frames:  80%|████████  | 4/5 [00:12<00:03,  3.02s/it]\u001b[A\n",
      "Processing Frames: 100%|██████████| 5/5 [00:16<00:00,  3.30s/it]\u001b[A\n",
      "Processing Videos:  91%|█████████ | 634/698 [3:20:32<19:53, 18.64s/it]"
     ]
    },
    {
     "name": "stdout",
     "output_type": "stream",
     "text": [
      "File Name: hatgiongsmileseeds_7294622806950677761.mp4, File Size: 8.21 MB\n",
      "Total frames in video: 1337\n",
      "Frame indices to extract: [0, 267, 534, 802, 1069]\n",
      "Extracted 5 frames.\n"
     ]
    },
    {
     "name": "stderr",
     "output_type": "stream",
     "text": [
      "\n",
      "Processing Frames:   0%|          | 0/5 [00:00<?, ?it/s]\u001b[A\n",
      "Processing Frames:  20%|██        | 1/5 [00:04<00:19,  4.89s/it]\u001b[A\n",
      "Processing Frames:  40%|████      | 2/5 [00:08<00:11,  3.91s/it]\u001b[A\n",
      "Processing Frames:  60%|██████    | 3/5 [00:11<00:06,  3.48s/it]\u001b[A\n",
      "Processing Frames:  80%|████████  | 4/5 [00:14<00:03,  3.30s/it]\u001b[A\n",
      "Processing Frames: 100%|██████████| 5/5 [00:17<00:00,  3.46s/it]\u001b[A\n",
      "Processing Videos:  91%|█████████ | 635/698 [3:20:51<19:43, 18.78s/it]"
     ]
    },
    {
     "name": "stdout",
     "output_type": "stream",
     "text": [
      "File Name: saigon_xanh_7264824978330176776.mp4, File Size: 10.07 MB\n",
      "Total frames in video: 619\n",
      "Frame indices to extract: [0, 123, 247, 371, 495]\n",
      "Extracted 5 frames.\n"
     ]
    },
    {
     "name": "stderr",
     "output_type": "stream",
     "text": [
      "\n",
      "Processing Frames:   0%|          | 0/5 [00:00<?, ?it/s]\u001b[A\n",
      "Processing Frames:  20%|██        | 1/5 [00:03<00:13,  3.39s/it]\u001b[A\n",
      "Processing Frames:  40%|████      | 2/5 [00:06<00:09,  3.30s/it]\u001b[A\n",
      "Processing Frames:  60%|██████    | 3/5 [00:11<00:07,  3.90s/it]\u001b[A\n",
      "Processing Frames:  80%|████████  | 4/5 [00:14<00:03,  3.64s/it]\u001b[A\n",
      "Processing Frames: 100%|██████████| 5/5 [00:17<00:00,  3.54s/it]\u001b[A\n",
      "Processing Videos:  91%|█████████ | 636/698 [3:21:12<20:03, 19.40s/it]"
     ]
    },
    {
     "name": "stdout",
     "output_type": "stream",
     "text": [
      "File Name: khatvong_xanh_7241760438994668806.mp4, File Size: 11.03 MB\n",
      "Total frames in video: 1330\n",
      "Frame indices to extract: [0, 266, 532, 798, 1064]\n",
      "Extracted 5 frames.\n"
     ]
    },
    {
     "name": "stderr",
     "output_type": "stream",
     "text": [
      "\n",
      "Processing Frames:   0%|          | 0/5 [00:00<?, ?it/s]\u001b[A\n",
      "Processing Frames:  20%|██        | 1/5 [00:02<00:10,  2.68s/it]\u001b[A\n",
      "Processing Frames:  40%|████      | 2/5 [00:05<00:09,  3.02s/it]\u001b[A\n",
      "Processing Frames:  60%|██████    | 3/5 [00:08<00:06,  3.02s/it]\u001b[A\n",
      "Processing Frames:  80%|████████  | 4/5 [00:12<00:03,  3.09s/it]\u001b[A\n",
      "Processing Frames: 100%|██████████| 5/5 [00:14<00:00,  2.89s/it]\u001b[A\n",
      "Processing Videos:  91%|█████████▏| 637/698 [3:21:28<18:46, 18.46s/it]"
     ]
    },
    {
     "name": "stdout",
     "output_type": "stream",
     "text": [
      "File Name: chutuphuyen_7368429957615226113.mp4, File Size: 49.98 MB\n",
      "Total frames in video: 6823\n",
      "Frame indices to extract: [0, 1364, 2729, 4093, 5458]\n",
      "Extracted 5 frames.\n"
     ]
    },
    {
     "name": "stderr",
     "output_type": "stream",
     "text": [
      "\n",
      "Processing Frames:   0%|          | 0/5 [00:00<?, ?it/s]\u001b[A\n",
      "Processing Frames:  20%|██        | 1/5 [00:03<00:12,  3.24s/it]\u001b[A\n",
      "Processing Frames:  40%|████      | 2/5 [00:06<00:10,  3.50s/it]\u001b[A\n",
      "Processing Frames:  60%|██████    | 3/5 [00:10<00:06,  3.47s/it]\u001b[A\n",
      "Processing Frames:  80%|████████  | 4/5 [00:13<00:03,  3.44s/it]\u001b[A\n",
      "Processing Frames: 100%|██████████| 5/5 [00:16<00:00,  3.39s/it]\u001b[A\n",
      "Processing Videos:  91%|█████████▏| 638/698 [3:21:47<18:43, 18.73s/it]"
     ]
    },
    {
     "name": "stdout",
     "output_type": "stream",
     "text": [
      "File Name: chutuphuyen_7367602230016462081.mp4, File Size: 12.34 MB\n",
      "Total frames in video: 2422\n",
      "Frame indices to extract: [0, 484, 968, 1453, 1937]\n",
      "Extracted 5 frames.\n"
     ]
    },
    {
     "name": "stderr",
     "output_type": "stream",
     "text": [
      "\n",
      "Processing Frames:   0%|          | 0/5 [00:00<?, ?it/s]\u001b[A\n",
      "Processing Frames:  20%|██        | 1/5 [00:03<00:13,  3.43s/it]\u001b[A\n",
      "Processing Frames:  40%|████      | 2/5 [00:06<00:09,  3.08s/it]\u001b[A\n",
      "Processing Frames:  60%|██████    | 3/5 [00:09<00:06,  3.16s/it]\u001b[A\n",
      "Processing Frames:  80%|████████  | 4/5 [00:12<00:03,  3.12s/it]\u001b[A\n",
      "Processing Frames: 100%|██████████| 5/5 [00:14<00:00,  2.98s/it]\u001b[A\n",
      "Processing Videos:  92%|█████████▏| 639/698 [3:22:05<18:07, 18.43s/it]"
     ]
    },
    {
     "name": "stdout",
     "output_type": "stream",
     "text": [
      "File Name: anden75_7366602647043968263.mp4, File Size: 39.93 MB\n",
      "Total frames in video: 6813\n",
      "Frame indices to extract: [0, 1362, 2725, 4087, 5450]\n",
      "Extracted 5 frames.\n"
     ]
    },
    {
     "name": "stderr",
     "output_type": "stream",
     "text": [
      "\n",
      "Processing Frames:   0%|          | 0/5 [00:00<?, ?it/s]\u001b[A\n",
      "Processing Frames:  20%|██        | 1/5 [00:04<00:17,  4.49s/it]\u001b[A\n",
      "Processing Frames:  40%|████      | 2/5 [00:08<00:11,  3.97s/it]\u001b[A\n",
      "Processing Frames:  60%|██████    | 3/5 [00:10<00:06,  3.38s/it]\u001b[A\n",
      "Processing Frames:  80%|████████  | 4/5 [00:13<00:03,  3.05s/it]\u001b[A\n",
      "Processing Frames: 100%|██████████| 5/5 [00:15<00:00,  3.16s/it]\u001b[A\n",
      "Processing Videos:  92%|█████████▏| 640/698 [3:22:22<17:31, 18.13s/it]"
     ]
    },
    {
     "name": "stdout",
     "output_type": "stream",
     "text": [
      "File Name: chutuphuyen_7375763773790932240.mp4, File Size: 44.10 MB\n",
      "Total frames in video: 5543\n",
      "Frame indices to extract: [0, 1108, 2217, 3325, 4434]\n",
      "Extracted 5 frames.\n"
     ]
    },
    {
     "name": "stderr",
     "output_type": "stream",
     "text": [
      "\n",
      "Processing Frames:   0%|          | 0/5 [00:00<?, ?it/s]\u001b[A\n",
      "Processing Frames:  20%|██        | 1/5 [00:03<00:13,  3.27s/it]\u001b[A\n",
      "Processing Frames:  40%|████      | 2/5 [00:06<00:09,  3.26s/it]\u001b[A\n",
      "Processing Frames:  60%|██████    | 3/5 [00:09<00:06,  3.18s/it]\u001b[A\n",
      "Processing Frames:  80%|████████  | 4/5 [00:13<00:03,  3.35s/it]\u001b[A\n",
      "Processing Frames: 100%|██████████| 5/5 [00:17<00:00,  3.45s/it]\u001b[A\n",
      "Processing Videos:  92%|█████████▏| 641/698 [3:22:42<17:33, 18.49s/it]"
     ]
    },
    {
     "name": "stdout",
     "output_type": "stream",
     "text": [
      "File Name: 0.christmasallaround.0_7151247236142222638.mp4, File Size: 1.82 MB\n",
      "Total frames in video: 581\n",
      "Frame indices to extract: [0, 116, 232, 348, 464]\n",
      "Extracted 5 frames.\n"
     ]
    },
    {
     "name": "stderr",
     "output_type": "stream",
     "text": [
      "\n",
      "Processing Frames:   0%|          | 0/5 [00:00<?, ?it/s]\u001b[A\n",
      "Processing Frames:  20%|██        | 1/5 [00:03<00:12,  3.11s/it]\u001b[A\n",
      "Processing Frames:  40%|████      | 2/5 [00:05<00:08,  2.90s/it]\u001b[A\n",
      "Processing Frames:  60%|██████    | 3/5 [00:08<00:05,  2.98s/it]\u001b[A\n",
      "Processing Frames:  80%|████████  | 4/5 [00:12<00:03,  3.08s/it]\u001b[A\n",
      "Processing Frames: 100%|██████████| 5/5 [00:15<00:00,  3.05s/it]\u001b[A\n",
      "Processing Videos:  92%|█████████▏| 642/698 [3:22:59<16:50, 18.04s/it]"
     ]
    },
    {
     "name": "stdout",
     "output_type": "stream",
     "text": [
      "File Name: halinhofficial_7361408435717508359.mp4, File Size: 9.23 MB\n",
      "Total frames in video: 3276\n",
      "Frame indices to extract: [0, 655, 1310, 1965, 2620]\n",
      "Extracted 5 frames.\n"
     ]
    },
    {
     "name": "stderr",
     "output_type": "stream",
     "text": [
      "\n",
      "Processing Frames:   0%|          | 0/5 [00:00<?, ?it/s]\u001b[A\n",
      "Processing Frames:  20%|██        | 1/5 [00:03<00:13,  3.40s/it]\u001b[A\n",
      "Processing Frames:  40%|████      | 2/5 [00:07<00:11,  3.71s/it]\u001b[A\n",
      "Processing Frames:  60%|██████    | 3/5 [00:10<00:07,  3.59s/it]\u001b[A\n",
      "Processing Frames:  80%|████████  | 4/5 [00:14<00:03,  3.71s/it]\u001b[A\n",
      "Processing Frames: 100%|██████████| 5/5 [00:18<00:00,  3.62s/it]\u001b[A\n",
      "Processing Videos:  92%|█████████▏| 643/698 [3:23:19<17:02, 18.59s/it]"
     ]
    },
    {
     "name": "stdout",
     "output_type": "stream",
     "text": [
      "File Name: hungquangngai93_7331189633906248961.mp4, File Size: 30.34 MB\n",
      "Total frames in video: 5322\n",
      "Frame indices to extract: [0, 1064, 2128, 3193, 4257]\n",
      "Extracted 5 frames.\n"
     ]
    },
    {
     "name": "stderr",
     "output_type": "stream",
     "text": [
      "\n",
      "Processing Frames:   0%|          | 0/5 [00:00<?, ?it/s]\u001b[A\n",
      "Processing Frames:  20%|██        | 1/5 [00:03<00:12,  3.24s/it]\u001b[A\n",
      "Processing Frames:  40%|████      | 2/5 [00:06<00:09,  3.01s/it]\u001b[A\n",
      "Processing Frames:  60%|██████    | 3/5 [00:09<00:06,  3.05s/it]\u001b[A\n",
      "Processing Frames:  80%|████████  | 4/5 [00:12<00:03,  3.12s/it]\u001b[A\n",
      "Processing Frames: 100%|██████████| 5/5 [00:15<00:00,  3.16s/it]\u001b[A\n",
      "Processing Videos:  92%|█████████▏| 644/698 [3:23:37<16:37, 18.47s/it]"
     ]
    },
    {
     "name": "stdout",
     "output_type": "stream",
     "text": [
      "File Name: t8t1989_7364262450436345106.mp4, File Size: 1.12 MB\n",
      "Total frames in video: 382\n",
      "Frame indices to extract: [0, 76, 152, 229, 305]\n",
      "Extracted 5 frames.\n"
     ]
    },
    {
     "name": "stderr",
     "output_type": "stream",
     "text": [
      "\n",
      "Processing Frames:   0%|          | 0/5 [00:00<?, ?it/s]\u001b[A\n",
      "Processing Frames:  20%|██        | 1/5 [00:03<00:13,  3.44s/it]\u001b[A\n",
      "Processing Frames:  40%|████      | 2/5 [00:07<00:11,  3.70s/it]\u001b[A\n",
      "Processing Frames:  60%|██████    | 3/5 [00:10<00:07,  3.60s/it]\u001b[A\n",
      "Processing Frames:  80%|████████  | 4/5 [00:14<00:03,  3.46s/it]\u001b[A\n",
      "Processing Frames: 100%|██████████| 5/5 [00:17<00:00,  3.42s/it]\u001b[A\n",
      "Processing Videos:  92%|█████████▏| 645/698 [3:23:56<16:29, 18.66s/it]"
     ]
    },
    {
     "name": "stdout",
     "output_type": "stream",
     "text": [
      "File Name: b.bao298_7184699425321733402.mp4, File Size: 3.07 MB\n",
      "Total frames in video: 612\n",
      "Frame indices to extract: [0, 122, 244, 367, 489]\n",
      "Extracted 5 frames.\n"
     ]
    },
    {
     "name": "stderr",
     "output_type": "stream",
     "text": [
      "\n",
      "Processing Frames:   0%|          | 0/5 [00:00<?, ?it/s]\u001b[A\n",
      "Processing Frames:  20%|██        | 1/5 [00:03<00:14,  3.65s/it]\u001b[A\n",
      "Processing Frames:  40%|████      | 2/5 [00:07<00:10,  3.63s/it]\u001b[A\n",
      "Processing Frames:  60%|██████    | 3/5 [00:10<00:07,  3.64s/it]\u001b[A\n",
      "Processing Frames:  80%|████████  | 4/5 [00:14<00:03,  3.63s/it]\u001b[A\n",
      "Processing Frames: 100%|██████████| 5/5 [00:18<00:00,  3.66s/it]\u001b[A\n",
      "Processing Videos:  93%|█████████▎| 646/698 [3:24:17<16:49, 19.41s/it]"
     ]
    },
    {
     "name": "stdout",
     "output_type": "stream",
     "text": [
      "File Name: nguuka199_7314935566431259906.mp4, File Size: 17.73 MB\n",
      "Total frames in video: 3716\n",
      "Frame indices to extract: [0, 743, 1486, 2229, 2972]\n",
      "Extracted 5 frames.\n"
     ]
    },
    {
     "name": "stderr",
     "output_type": "stream",
     "text": [
      "\n",
      "Processing Frames:   0%|          | 0/5 [00:00<?, ?it/s]\u001b[A\n",
      "Processing Frames:  20%|██        | 1/5 [00:03<00:12,  3.08s/it]\u001b[A\n",
      "Processing Frames:  40%|████      | 2/5 [00:06<00:09,  3.18s/it]\u001b[A\n",
      "Processing Frames:  60%|██████    | 3/5 [00:09<00:05,  2.96s/it]\u001b[A\n",
      "Processing Frames:  80%|████████  | 4/5 [00:12<00:03,  3.09s/it]\u001b[A\n",
      "Processing Frames: 100%|██████████| 5/5 [00:15<00:00,  3.08s/it]\u001b[A\n",
      "Processing Videos:  93%|█████████▎| 647/698 [3:24:35<15:59, 18.82s/it]"
     ]
    },
    {
     "name": "stdout",
     "output_type": "stream",
     "text": [
      "File Name: 2tkids.com_7279838718515531015.mp4, File Size: 1.51 MB\n",
      "Total frames in video: 1008\n",
      "Frame indices to extract: [0, 201, 403, 604, 806]\n",
      "Extracted 5 frames.\n"
     ]
    },
    {
     "name": "stderr",
     "output_type": "stream",
     "text": [
      "\n",
      "Processing Frames:   0%|          | 0/5 [00:00<?, ?it/s]\u001b[A\n",
      "Processing Frames:  20%|██        | 1/5 [00:02<00:10,  2.60s/it]\u001b[A\n",
      "Processing Frames:  40%|████      | 2/5 [00:05<00:07,  2.65s/it]\u001b[A\n",
      "Processing Frames:  60%|██████    | 3/5 [00:08<00:05,  2.83s/it]\u001b[A\n",
      "Processing Frames:  80%|████████  | 4/5 [00:11<00:03,  3.08s/it]\u001b[A\n",
      "Processing Frames: 100%|██████████| 5/5 [00:15<00:00,  3.18s/it]\u001b[A\n",
      "Processing Videos:  93%|█████████▎| 648/698 [3:24:52<15:23, 18.46s/it]"
     ]
    },
    {
     "name": "stdout",
     "output_type": "stream",
     "text": [
      "File Name: iminjulyy_7255262600567491846.mp4, File Size: 10.96 MB\n",
      "Total frames in video: 2454\n",
      "Frame indices to extract: [0, 490, 981, 1472, 1963]\n",
      "Extracted 5 frames.\n"
     ]
    },
    {
     "name": "stderr",
     "output_type": "stream",
     "text": [
      "\n",
      "Processing Frames:   0%|          | 0/5 [00:00<?, ?it/s]\u001b[A\n",
      "Processing Frames:  20%|██        | 1/5 [00:03<00:14,  3.64s/it]\u001b[A\n",
      "Processing Frames:  40%|████      | 2/5 [00:06<00:10,  3.44s/it]\u001b[A\n",
      "Processing Frames:  60%|██████    | 3/5 [00:10<00:06,  3.43s/it]\u001b[A\n",
      "Processing Frames:  80%|████████  | 4/5 [00:14<00:03,  3.60s/it]\u001b[A\n",
      "Processing Frames: 100%|██████████| 5/5 [00:17<00:00,  3.53s/it]\u001b[A\n",
      "Processing Videos:  93%|█████████▎| 649/698 [3:25:12<15:23, 18.85s/it]"
     ]
    },
    {
     "name": "stdout",
     "output_type": "stream",
     "text": [
      "File Name: matchashop.vn3_7368111478005615888.mp4, File Size: 5.71 MB\n",
      "Total frames in video: 1109\n",
      "Frame indices to extract: [0, 221, 443, 665, 887]\n",
      "Extracted 5 frames.\n"
     ]
    },
    {
     "name": "stderr",
     "output_type": "stream",
     "text": [
      "\n",
      "Processing Frames:   0%|          | 0/5 [00:00<?, ?it/s]\u001b[A\n",
      "Processing Frames:  20%|██        | 1/5 [00:03<00:13,  3.29s/it]\u001b[A\n",
      "Processing Frames:  40%|████      | 2/5 [00:06<00:09,  3.31s/it]\u001b[A\n",
      "Processing Frames:  60%|██████    | 3/5 [00:10<00:07,  3.66s/it]\u001b[A\n",
      "Processing Frames:  80%|████████  | 4/5 [00:13<00:03,  3.51s/it]\u001b[A\n",
      "Processing Frames: 100%|██████████| 5/5 [00:17<00:00,  3.49s/it]\u001b[A\n",
      "Processing Videos:  93%|█████████▎| 650/698 [3:25:31<15:14, 19.06s/it]"
     ]
    },
    {
     "name": "stdout",
     "output_type": "stream",
     "text": [
      "File Name: hong_hanh8901_7017428629437156635.mp4, File Size: 4.46 MB\n",
      "Total frames in video: 1287\n",
      "Frame indices to extract: [0, 257, 514, 772, 1029]\n",
      "Extracted 5 frames.\n"
     ]
    },
    {
     "name": "stderr",
     "output_type": "stream",
     "text": [
      "\n",
      "Processing Frames:   0%|          | 0/5 [00:00<?, ?it/s]\u001b[A\n",
      "Processing Frames:  20%|██        | 1/5 [00:03<00:14,  3.65s/it]\u001b[A\n",
      "Processing Frames:  40%|████      | 2/5 [00:06<00:09,  3.33s/it]\u001b[A\n",
      "Processing Frames:  60%|██████    | 3/5 [00:10<00:06,  3.46s/it]\u001b[A\n",
      "Processing Frames:  80%|████████  | 4/5 [00:14<00:03,  3.74s/it]\u001b[A\n",
      "Processing Frames: 100%|██████████| 5/5 [00:17<00:00,  3.57s/it]\u001b[A\n",
      "Processing Videos:  93%|█████████▎| 651/698 [3:25:51<15:06, 19.30s/it]"
     ]
    },
    {
     "name": "stdout",
     "output_type": "stream",
     "text": [
      "File Name: chuyencudaqua_7365177947617053959.mp4, File Size: 3.68 MB\n",
      "Total frames in video: 1094\n",
      "Frame indices to extract: [0, 218, 437, 656, 875]\n",
      "Extracted 5 frames.\n"
     ]
    },
    {
     "name": "stderr",
     "output_type": "stream",
     "text": [
      "\n",
      "Processing Frames:   0%|          | 0/5 [00:00<?, ?it/s]\u001b[A\n",
      "Processing Frames:  20%|██        | 1/5 [00:03<00:15,  3.98s/it]\u001b[A\n",
      "Processing Frames:  40%|████      | 2/5 [00:07<00:10,  3.59s/it]\u001b[A\n",
      "Processing Frames:  60%|██████    | 3/5 [00:11<00:07,  3.70s/it]\u001b[A\n",
      "Processing Frames:  80%|████████  | 4/5 [00:14<00:03,  3.45s/it]\u001b[A\n",
      "Processing Frames: 100%|██████████| 5/5 [00:17<00:00,  3.43s/it]\u001b[A\n",
      "Processing Videos:  93%|█████████▎| 652/698 [3:26:11<14:46, 19.26s/it]"
     ]
    },
    {
     "name": "stdout",
     "output_type": "stream",
     "text": [
      "File Name: chutuphuyen_7375210418463083793.mp4, File Size: 24.07 MB\n",
      "Total frames in video: 2899\n",
      "Frame indices to extract: [0, 579, 1159, 1739, 2319]\n",
      "Extracted 5 frames.\n"
     ]
    },
    {
     "name": "stderr",
     "output_type": "stream",
     "text": [
      "\n",
      "Processing Frames:   0%|          | 0/5 [00:00<?, ?it/s]\u001b[A\n",
      "Processing Frames:  20%|██        | 1/5 [00:03<00:13,  3.30s/it]\u001b[A\n",
      "Processing Frames:  40%|████      | 2/5 [00:06<00:09,  3.32s/it]\u001b[A\n",
      "Processing Frames:  60%|██████    | 3/5 [00:10<00:06,  3.37s/it]\u001b[A\n",
      "Processing Frames:  80%|████████  | 4/5 [00:13<00:03,  3.25s/it]\u001b[A\n",
      "Processing Frames: 100%|██████████| 5/5 [00:16<00:00,  3.23s/it]\u001b[A\n",
      "Processing Videos:  94%|█████████▎| 653/698 [3:26:29<14:14, 19.00s/it]"
     ]
    },
    {
     "name": "stdout",
     "output_type": "stream",
     "text": [
      "File Name: mine9i_6828155926432828674.mp4, File Size: 3.20 MB\n",
      "Total frames in video: 315\n",
      "Frame indices to extract: [0, 63, 126, 189, 252]\n",
      "Extracted 5 frames.\n"
     ]
    },
    {
     "name": "stderr",
     "output_type": "stream",
     "text": [
      "\n",
      "Processing Frames:   0%|          | 0/5 [00:00<?, ?it/s]\u001b[A\n",
      "Processing Frames:  20%|██        | 1/5 [00:03<00:13,  3.49s/it]\u001b[A\n",
      "Processing Frames:  40%|████      | 2/5 [00:06<00:10,  3.47s/it]\u001b[A\n",
      "Processing Frames:  60%|██████    | 3/5 [00:10<00:06,  3.48s/it]\u001b[A\n",
      "Processing Frames:  80%|████████  | 4/5 [00:13<00:03,  3.32s/it]\u001b[A\n",
      "Processing Frames: 100%|██████████| 5/5 [00:16<00:00,  3.35s/it]\u001b[A\n",
      "Processing Videos:  94%|█████████▎| 654/698 [3:26:48<13:57, 19.03s/it]"
     ]
    },
    {
     "name": "stdout",
     "output_type": "stream",
     "text": [
      "File Name: diacaurua_7279840220042792194.mp4, File Size: 2.31 MB\n",
      "Total frames in video: 684\n",
      "Frame indices to extract: [0, 136, 273, 410, 547]\n",
      "Extracted 5 frames.\n"
     ]
    },
    {
     "name": "stderr",
     "output_type": "stream",
     "text": [
      "\n",
      "Processing Frames:   0%|          | 0/5 [00:00<?, ?it/s]\u001b[A\n",
      "Processing Frames:  20%|██        | 1/5 [00:02<00:11,  2.92s/it]\u001b[A\n",
      "Processing Frames:  40%|████      | 2/5 [00:06<00:09,  3.12s/it]\u001b[A\n",
      "Processing Frames:  60%|██████    | 3/5 [00:09<00:06,  3.20s/it]\u001b[A\n",
      "Processing Frames:  80%|████████  | 4/5 [00:13<00:03,  3.57s/it]\u001b[A\n",
      "Processing Frames: 100%|██████████| 5/5 [00:16<00:00,  3.37s/it]\u001b[A\n",
      "Processing Videos:  94%|█████████▍| 655/698 [3:27:07<13:32, 18.90s/it]"
     ]
    },
    {
     "name": "stdout",
     "output_type": "stream",
     "text": [
      "File Name: mocuabatoctv_7010936567615294722.mp4, File Size: 5.83 MB\n",
      "Total frames in video: 676\n",
      "Frame indices to extract: [0, 135, 270, 405, 540]\n",
      "Extracted 5 frames.\n"
     ]
    },
    {
     "name": "stderr",
     "output_type": "stream",
     "text": [
      "\n",
      "Processing Frames:   0%|          | 0/5 [00:00<?, ?it/s]\u001b[A\n",
      "Processing Frames:  20%|██        | 1/5 [00:02<00:10,  2.53s/it]\u001b[A\n",
      "Processing Frames:  40%|████      | 2/5 [00:06<00:09,  3.17s/it]\u001b[A\n",
      "Processing Frames:  60%|██████    | 3/5 [00:10<00:06,  3.49s/it]\u001b[A\n",
      "Processing Frames:  80%|████████  | 4/5 [00:13<00:03,  3.32s/it]\u001b[A\n",
      "Processing Frames: 100%|██████████| 5/5 [00:16<00:00,  3.23s/it]\u001b[A\n",
      "Processing Videos:  94%|█████████▍| 656/698 [3:27:25<13:02, 18.64s/it]"
     ]
    },
    {
     "name": "stdout",
     "output_type": "stream",
     "text": [
      "File Name: patt.tran_7127623225151982875.mp4, File Size: 8.53 MB\n",
      "Total frames in video: 1611\n",
      "Frame indices to extract: [0, 322, 644, 966, 1288]\n",
      "Extracted 5 frames.\n"
     ]
    },
    {
     "name": "stderr",
     "output_type": "stream",
     "text": [
      "\n",
      "Processing Frames:   0%|          | 0/5 [00:00<?, ?it/s]\u001b[A\n",
      "Processing Frames:  20%|██        | 1/5 [00:03<00:14,  3.50s/it]\u001b[A\n",
      "Processing Frames:  40%|████      | 2/5 [00:07<00:10,  3.54s/it]\u001b[A\n",
      "Processing Frames:  60%|██████    | 3/5 [00:10<00:06,  3.48s/it]\u001b[A\n",
      "Processing Frames:  80%|████████  | 4/5 [00:13<00:03,  3.34s/it]\u001b[A\n",
      "Processing Frames: 100%|██████████| 5/5 [00:16<00:00,  3.37s/it]\u001b[A\n",
      "Processing Videos:  94%|█████████▍| 657/698 [3:27:43<12:42, 18.61s/it]"
     ]
    },
    {
     "name": "stdout",
     "output_type": "stream",
     "text": [
      "File Name: maythangtuw_7215992080500346139.mp4, File Size: 8.08 MB\n",
      "Total frames in video: 1462\n",
      "Frame indices to extract: [0, 292, 584, 877, 1169]\n",
      "Extracted 5 frames.\n"
     ]
    },
    {
     "name": "stderr",
     "output_type": "stream",
     "text": [
      "\n",
      "Processing Frames:   0%|          | 0/5 [00:00<?, ?it/s]\u001b[A\n",
      "Processing Frames:  20%|██        | 1/5 [00:03<00:14,  3.52s/it]\u001b[A\n",
      "Processing Frames:  40%|████      | 2/5 [00:07<00:10,  3.58s/it]\u001b[A\n",
      "Processing Frames:  60%|██████    | 3/5 [00:10<00:07,  3.61s/it]\u001b[A\n",
      "Processing Frames:  80%|████████  | 4/5 [00:13<00:03,  3.41s/it]\u001b[A\n",
      "Processing Frames: 100%|██████████| 5/5 [00:16<00:00,  3.35s/it]\u001b[A\n",
      "Processing Videos:  94%|█████████▍| 658/698 [3:28:02<12:24, 18.60s/it]"
     ]
    },
    {
     "name": "stdout",
     "output_type": "stream",
     "text": [
      "File Name: mot.ban.tinh.ca_6967574372844457217.mp4, File Size: 6.05 MB\n",
      "Total frames in video: 1737\n",
      "Frame indices to extract: [0, 347, 694, 1042, 1389]\n",
      "Extracted 5 frames.\n"
     ]
    },
    {
     "name": "stderr",
     "output_type": "stream",
     "text": [
      "\n",
      "Processing Frames:   0%|          | 0/5 [00:00<?, ?it/s]\u001b[A\n",
      "Processing Frames:  20%|██        | 1/5 [00:03<00:15,  3.92s/it]\u001b[A\n",
      "Processing Frames:  40%|████      | 2/5 [00:06<00:10,  3.34s/it]\u001b[A\n",
      "Processing Frames:  60%|██████    | 3/5 [00:10<00:06,  3.46s/it]\u001b[A\n",
      "Processing Frames:  80%|████████  | 4/5 [00:13<00:03,  3.30s/it]\u001b[A\n",
      "Processing Frames: 100%|██████████| 5/5 [00:16<00:00,  3.33s/it]\u001b[A\n",
      "Processing Videos:  94%|█████████▍| 659/698 [3:28:20<12:06, 18.63s/it]"
     ]
    },
    {
     "name": "stdout",
     "output_type": "stream",
     "text": [
      "File Name: boonihcuti_7314560343261367570.mp4, File Size: 4.44 MB\n",
      "Total frames in video: 534\n",
      "Frame indices to extract: [0, 106, 213, 320, 427]\n",
      "Extracted 5 frames.\n"
     ]
    },
    {
     "name": "stderr",
     "output_type": "stream",
     "text": [
      "\n",
      "Processing Frames:   0%|          | 0/5 [00:00<?, ?it/s]\u001b[A\n",
      "Processing Frames:  20%|██        | 1/5 [00:03<00:14,  3.66s/it]\u001b[A\n",
      "Processing Frames:  40%|████      | 2/5 [00:07<00:10,  3.56s/it]\u001b[A\n",
      "Processing Frames:  60%|██████    | 3/5 [00:10<00:06,  3.49s/it]\u001b[A\n",
      "Processing Frames:  80%|████████  | 4/5 [00:13<00:03,  3.47s/it]\u001b[A\n",
      "Processing Frames: 100%|██████████| 5/5 [00:17<00:00,  3.59s/it]\u001b[A\n",
      "Processing Videos:  95%|█████████▍| 660/698 [3:28:41<12:08, 19.17s/it]"
     ]
    },
    {
     "name": "stdout",
     "output_type": "stream",
     "text": [
      "File Name: le_anh_nuoi_7275408557934202113.mp4, File Size: 12.59 MB\n",
      "Total frames in video: 2094\n",
      "Frame indices to extract: [0, 418, 837, 1256, 1675]\n",
      "Extracted 5 frames.\n"
     ]
    },
    {
     "name": "stderr",
     "output_type": "stream",
     "text": [
      "\n",
      "Processing Frames:   0%|          | 0/5 [00:00<?, ?it/s]\u001b[A\n",
      "Processing Frames:  20%|██        | 1/5 [00:03<00:13,  3.30s/it]\u001b[A\n",
      "Processing Frames:  40%|████      | 2/5 [00:06<00:09,  3.21s/it]\u001b[A\n",
      "Processing Frames:  60%|██████    | 3/5 [00:09<00:06,  3.14s/it]\u001b[A\n",
      "Processing Frames:  80%|████████  | 4/5 [00:12<00:03,  3.19s/it]\u001b[A\n",
      "Processing Frames: 100%|██████████| 5/5 [00:16<00:00,  3.28s/it]\u001b[A\n",
      "Processing Videos:  95%|█████████▍| 661/698 [3:28:59<11:39, 18.89s/it]"
     ]
    },
    {
     "name": "stdout",
     "output_type": "stream",
     "text": [
      "File Name: baby_socuteeee_7260421716365675794.mp4, File Size: 1.80 MB\n",
      "Total frames in video: 629\n",
      "Frame indices to extract: [0, 125, 251, 377, 503]\n",
      "Extracted 5 frames.\n"
     ]
    },
    {
     "name": "stderr",
     "output_type": "stream",
     "text": [
      "\n",
      "Processing Frames:   0%|          | 0/5 [00:00<?, ?it/s]\u001b[A\n",
      "Processing Frames:  20%|██        | 1/5 [00:03<00:13,  3.45s/it]\u001b[A\n",
      "Processing Frames:  40%|████      | 2/5 [00:06<00:09,  3.22s/it]\u001b[A\n",
      "Processing Frames:  60%|██████    | 3/5 [00:09<00:06,  3.30s/it]\u001b[A\n",
      "Processing Frames:  80%|████████  | 4/5 [00:14<00:03,  3.61s/it]\u001b[A\n",
      "Processing Frames: 100%|██████████| 5/5 [00:17<00:00,  3.54s/it]\u001b[A\n",
      "Processing Videos:  95%|█████████▍| 662/698 [3:29:19<11:29, 19.17s/it]"
     ]
    },
    {
     "name": "stdout",
     "output_type": "stream",
     "text": [
      "File Name: linhcuuhoadaily_7279390193830956290.mp4, File Size: 21.11 MB\n",
      "Total frames in video: 2787\n",
      "Frame indices to extract: [0, 557, 1114, 1672, 2229]\n",
      "Extracted 5 frames.\n"
     ]
    },
    {
     "name": "stderr",
     "output_type": "stream",
     "text": [
      "\n",
      "Processing Frames:   0%|          | 0/5 [00:00<?, ?it/s]\u001b[A\n",
      "Processing Frames:  20%|██        | 1/5 [00:03<00:12,  3.10s/it]\u001b[A\n",
      "Processing Frames:  40%|████      | 2/5 [00:06<00:09,  3.20s/it]\u001b[A\n",
      "Processing Frames:  60%|██████    | 3/5 [00:10<00:06,  3.43s/it]\u001b[A\n",
      "Processing Frames:  80%|████████  | 4/5 [00:13<00:03,  3.44s/it]\u001b[A\n",
      "Processing Frames: 100%|██████████| 5/5 [00:18<00:00,  3.70s/it]\u001b[A\n",
      "Processing Videos:  95%|█████████▍| 663/698 [3:29:40<11:26, 19.61s/it]"
     ]
    },
    {
     "name": "stdout",
     "output_type": "stream",
     "text": [
      "File Name: ngocnguyen.nguyen0703_7310117220552641794.mp4, File Size: 24.30 MB\n",
      "Total frames in video: 3642\n",
      "Frame indices to extract: [0, 728, 1456, 2185, 2913]\n",
      "Extracted 5 frames.\n"
     ]
    },
    {
     "name": "stderr",
     "output_type": "stream",
     "text": [
      "\n",
      "Processing Frames:   0%|          | 0/5 [00:00<?, ?it/s]\u001b[A\n",
      "Processing Frames:  20%|██        | 1/5 [00:04<00:16,  4.14s/it]\u001b[A\n",
      "Processing Frames:  40%|████      | 2/5 [00:07<00:11,  3.87s/it]\u001b[A\n",
      "Processing Frames:  60%|██████    | 3/5 [00:11<00:07,  3.59s/it]\u001b[A\n",
      "Processing Frames:  80%|████████  | 4/5 [00:14<00:03,  3.54s/it]\u001b[A\n",
      "Processing Frames: 100%|██████████| 5/5 [00:18<00:00,  3.72s/it]\u001b[A\n",
      "Processing Videos:  95%|█████████▌| 664/698 [3:30:01<11:20, 20.01s/it]"
     ]
    },
    {
     "name": "stdout",
     "output_type": "stream",
     "text": [
      "File Name: bombom_vlog_7368846204790148360.mp4, File Size: 105.35 MB\n",
      "Total frames in video: 29486\n",
      "Frame indices to extract: [0, 5897, 11794, 17691, 23588]\n",
      "Extracted 5 frames.\n"
     ]
    },
    {
     "name": "stderr",
     "output_type": "stream",
     "text": [
      "\n",
      "Processing Frames:   0%|          | 0/5 [00:00<?, ?it/s]\u001b[A\n",
      "Processing Frames:  20%|██        | 1/5 [00:03<00:13,  3.28s/it]\u001b[A\n",
      "Processing Frames:  40%|████      | 2/5 [00:07<00:10,  3.61s/it]\u001b[A\n",
      "Processing Frames:  60%|██████    | 3/5 [00:10<00:06,  3.36s/it]\u001b[A\n",
      "Processing Frames:  80%|████████  | 4/5 [00:13<00:03,  3.31s/it]\u001b[A\n",
      "Processing Frames: 100%|██████████| 5/5 [00:17<00:00,  3.56s/it]\u001b[A\n",
      "Processing Videos:  95%|█████████▌| 665/698 [3:30:21<11:00, 20.02s/it]"
     ]
    },
    {
     "name": "stdout",
     "output_type": "stream",
     "text": [
      "File Name: colortour68_7360854095139327248.mp4, File Size: 2.93 MB\n",
      "Total frames in video: 389\n",
      "Frame indices to extract: [0, 77, 155, 233, 311]\n",
      "Extracted 5 frames.\n"
     ]
    },
    {
     "name": "stderr",
     "output_type": "stream",
     "text": [
      "\n",
      "Processing Frames:   0%|          | 0/5 [00:00<?, ?it/s]\u001b[A\n",
      "Processing Frames:  20%|██        | 1/5 [00:04<00:17,  4.40s/it]\u001b[A\n",
      "Processing Frames:  40%|████      | 2/5 [00:07<00:11,  3.87s/it]\u001b[A\n",
      "Processing Frames:  60%|██████    | 3/5 [00:11<00:07,  3.67s/it]\u001b[A\n",
      "Processing Frames:  80%|████████  | 4/5 [00:14<00:03,  3.65s/it]\u001b[A\n",
      "Processing Frames: 100%|██████████| 5/5 [00:18<00:00,  3.76s/it]\u001b[A\n",
      "Processing Videos:  95%|█████████▌| 666/698 [3:30:42<10:50, 20.33s/it]"
     ]
    },
    {
     "name": "stdout",
     "output_type": "stream",
     "text": [
      "File Name: bombom_vlog_7369567963478805768.mp4, File Size: 113.28 MB\n",
      "Total frames in video: 27556\n",
      "Frame indices to extract: [0, 5511, 11022, 16533, 22044]\n",
      "Extracted 5 frames.\n"
     ]
    },
    {
     "name": "stderr",
     "output_type": "stream",
     "text": [
      "\n",
      "Processing Frames:   0%|          | 0/5 [00:00<?, ?it/s]\u001b[A\n",
      "Processing Frames:  20%|██        | 1/5 [00:02<00:10,  2.74s/it]\u001b[A\n",
      "Processing Frames:  40%|████      | 2/5 [00:06<00:10,  3.49s/it]\u001b[A\n",
      "Processing Frames:  60%|██████    | 3/5 [00:10<00:06,  3.44s/it]\u001b[A\n",
      "Processing Frames:  80%|████████  | 4/5 [00:13<00:03,  3.37s/it]\u001b[A\n",
      "Processing Frames: 100%|██████████| 5/5 [00:16<00:00,  3.34s/it]\u001b[A\n",
      "Processing Videos:  96%|█████████▌| 667/698 [3:31:01<10:16, 19.90s/it]"
     ]
    },
    {
     "name": "stdout",
     "output_type": "stream",
     "text": [
      "File Name: mattpianoman_7272180975721925894.mp4, File Size: 8.38 MB\n",
      "Total frames in video: 1578\n",
      "Frame indices to extract: [0, 315, 631, 946, 1262]\n",
      "Extracted 5 frames.\n"
     ]
    },
    {
     "name": "stderr",
     "output_type": "stream",
     "text": [
      "\n",
      "Processing Frames:   0%|          | 0/5 [00:00<?, ?it/s]\u001b[A\n",
      "Processing Frames:  20%|██        | 1/5 [00:03<00:12,  3.10s/it]\u001b[A\n",
      "Processing Frames:  40%|████      | 2/5 [00:06<00:09,  3.12s/it]\u001b[A\n",
      "Processing Frames:  60%|██████    | 3/5 [00:09<00:06,  3.10s/it]\u001b[A\n",
      "Processing Frames:  80%|████████  | 4/5 [00:12<00:03,  3.08s/it]\u001b[A\n",
      "Processing Frames: 100%|██████████| 5/5 [00:15<00:00,  3.09s/it]\u001b[A\n",
      "Processing Videos:  96%|█████████▌| 668/698 [3:31:18<09:39, 19.30s/it]"
     ]
    },
    {
     "name": "stdout",
     "output_type": "stream",
     "text": [
      "File Name: gintdg.media_7282956702469688577.mp4, File Size: 15.58 MB\n",
      "Total frames in video: 3564\n",
      "Frame indices to extract: [0, 712, 1425, 2138, 2851]\n",
      "Extracted 5 frames.\n"
     ]
    },
    {
     "name": "stderr",
     "output_type": "stream",
     "text": [
      "\n",
      "Processing Frames:   0%|          | 0/5 [00:00<?, ?it/s]\u001b[A\n",
      "Processing Frames:  20%|██        | 1/5 [00:03<00:15,  3.97s/it]\u001b[A\n",
      "Processing Frames:  40%|████      | 2/5 [00:07<00:10,  3.54s/it]\u001b[A\n",
      "Processing Frames:  60%|██████    | 3/5 [00:10<00:06,  3.43s/it]\u001b[A\n",
      "Processing Frames:  80%|████████  | 4/5 [00:14<00:03,  3.58s/it]\u001b[A\n",
      "Processing Frames: 100%|██████████| 5/5 [00:17<00:00,  3.48s/it]\u001b[A\n",
      "Processing Videos:  96%|█████████▌| 669/698 [3:31:38<09:25, 19.50s/it]"
     ]
    },
    {
     "name": "stdout",
     "output_type": "stream",
     "text": [
      "File Name: hng_aan_7354567616842698001.mp4, File Size: 5.56 MB\n",
      "Total frames in video: 539\n",
      "Frame indices to extract: [0, 107, 215, 323, 431]\n",
      "Extracted 5 frames.\n"
     ]
    },
    {
     "name": "stderr",
     "output_type": "stream",
     "text": [
      "\n",
      "Processing Frames:   0%|          | 0/5 [00:00<?, ?it/s]\u001b[A\n",
      "Processing Frames:  20%|██        | 1/5 [00:03<00:15,  3.81s/it]\u001b[A\n",
      "Processing Frames:  40%|████      | 2/5 [00:07<00:10,  3.46s/it]\u001b[A\n",
      "Processing Frames:  60%|██████    | 3/5 [00:10<00:07,  3.61s/it]\u001b[A\n",
      "Processing Frames:  80%|████████  | 4/5 [00:14<00:03,  3.73s/it]\u001b[A\n",
      "Processing Frames: 100%|██████████| 5/5 [00:18<00:00,  3.75s/it]\u001b[A\n",
      "Processing Videos:  96%|█████████▌| 670/698 [3:31:59<09:15, 19.82s/it]"
     ]
    },
    {
     "name": "stdout",
     "output_type": "stream",
     "text": [
      "File Name: anhtayreview_6945737425951968513.mp4, File Size: 5.25 MB\n",
      "Total frames in video: 1351\n",
      "Frame indices to extract: [0, 270, 540, 810, 1080]\n",
      "Extracted 5 frames.\n"
     ]
    },
    {
     "name": "stderr",
     "output_type": "stream",
     "text": [
      "\n",
      "Processing Frames:   0%|          | 0/5 [00:00<?, ?it/s]\u001b[A\n",
      "Processing Frames:  20%|██        | 1/5 [00:03<00:12,  3.22s/it]\u001b[A\n",
      "Processing Frames:  40%|████      | 2/5 [00:06<00:09,  3.20s/it]\u001b[A\n",
      "Processing Frames:  60%|██████    | 3/5 [00:10<00:06,  3.40s/it]\u001b[A\n",
      "Processing Frames:  80%|████████  | 4/5 [00:13<00:03,  3.46s/it]\u001b[A\n",
      "Processing Frames: 100%|██████████| 5/5 [00:16<00:00,  3.32s/it]\u001b[A\n",
      "Processing Videos:  96%|█████████▌| 671/698 [3:32:17<08:43, 19.38s/it]"
     ]
    },
    {
     "name": "stdout",
     "output_type": "stream",
     "text": [
      "File Name: co.gai.pha.che_7300175344282193153.mp4, File Size: 2.68 MB\n",
      "Total frames in video: 867\n",
      "Frame indices to extract: [0, 173, 346, 520, 693]\n",
      "Extracted 5 frames.\n"
     ]
    },
    {
     "name": "stderr",
     "output_type": "stream",
     "text": [
      "\n",
      "Processing Frames:   0%|          | 0/5 [00:00<?, ?it/s]\u001b[A\n",
      "Processing Frames:  20%|██        | 1/5 [00:03<00:12,  3.05s/it]\u001b[A\n",
      "Processing Frames:  40%|████      | 2/5 [00:06<00:09,  3.05s/it]\u001b[A\n",
      "Processing Frames:  60%|██████    | 3/5 [00:10<00:06,  3.50s/it]\u001b[A\n",
      "Processing Frames:  80%|████████  | 4/5 [00:13<00:03,  3.38s/it]\u001b[A\n",
      "Processing Frames: 100%|██████████| 5/5 [00:16<00:00,  3.23s/it]\u001b[A\n",
      "Processing Videos:  96%|█████████▋| 672/698 [3:32:35<08:13, 18.97s/it]"
     ]
    },
    {
     "name": "stdout",
     "output_type": "stream",
     "text": [
      "File Name: areumdecor_7280879476211191048.mp4, File Size: 11.39 MB\n",
      "Total frames in video: 2184\n",
      "Frame indices to extract: [0, 436, 873, 1310, 1747]\n",
      "Extracted 5 frames.\n"
     ]
    },
    {
     "name": "stderr",
     "output_type": "stream",
     "text": [
      "\n",
      "Processing Frames:   0%|          | 0/5 [00:00<?, ?it/s]\u001b[A\n",
      "Processing Frames:  20%|██        | 1/5 [00:04<00:16,  4.01s/it]\u001b[A\n",
      "Processing Frames:  40%|████      | 2/5 [00:06<00:09,  3.31s/it]\u001b[A\n",
      "Processing Frames:  60%|██████    | 3/5 [00:09<00:06,  3.17s/it]\u001b[A\n",
      "Processing Frames:  80%|████████  | 4/5 [00:13<00:03,  3.19s/it]\u001b[A\n",
      "Processing Frames: 100%|██████████| 5/5 [00:16<00:00,  3.33s/it]\u001b[A\n",
      "Processing Videos:  96%|█████████▋| 673/698 [3:32:54<07:51, 18.85s/it]"
     ]
    },
    {
     "name": "stdout",
     "output_type": "stream",
     "text": [
      "File Name: vuthongdong_7361819830250507521.mp4, File Size: 6.71 MB\n",
      "Total frames in video: 531\n",
      "Frame indices to extract: [0, 106, 212, 318, 424]\n",
      "Extracted 5 frames.\n"
     ]
    },
    {
     "name": "stderr",
     "output_type": "stream",
     "text": [
      "\n",
      "Processing Frames:   0%|          | 0/5 [00:00<?, ?it/s]\u001b[A\n",
      "Processing Frames:  20%|██        | 1/5 [00:03<00:15,  4.00s/it]\u001b[A\n",
      "Processing Frames:  40%|████      | 2/5 [00:07<00:11,  3.80s/it]\u001b[A\n",
      "Processing Frames:  60%|██████    | 3/5 [00:10<00:06,  3.44s/it]\u001b[A\n",
      "Processing Frames:  80%|████████  | 4/5 [00:13<00:03,  3.36s/it]\u001b[A\n",
      "Processing Frames: 100%|██████████| 5/5 [00:17<00:00,  3.53s/it]\u001b[A\n",
      "Processing Videos:  97%|█████████▋| 674/698 [3:33:14<07:40, 19.18s/it]"
     ]
    },
    {
     "name": "stdout",
     "output_type": "stream",
     "text": [
      "File Name: ratcartoon001_7216503913665580330.mp4, File Size: 31.83 MB\n",
      "Total frames in video: 5036\n",
      "Frame indices to extract: [0, 1007, 2014, 3021, 4028]\n",
      "Extracted 5 frames.\n"
     ]
    },
    {
     "name": "stderr",
     "output_type": "stream",
     "text": [
      "\n",
      "Processing Frames:   0%|          | 0/5 [00:00<?, ?it/s]\u001b[A\n",
      "Processing Frames:  20%|██        | 1/5 [00:03<00:13,  3.27s/it]\u001b[A\n",
      "Processing Frames:  40%|████      | 2/5 [00:06<00:09,  3.12s/it]\u001b[A\n",
      "Processing Frames:  60%|██████    | 3/5 [00:09<00:06,  3.25s/it]\u001b[A\n",
      "Processing Frames:  80%|████████  | 4/5 [00:12<00:03,  3.25s/it]\u001b[A\n",
      "Processing Frames: 100%|██████████| 5/5 [00:16<00:00,  3.21s/it]\u001b[A\n",
      "Processing Videos:  97%|█████████▋| 675/698 [3:33:32<07:11, 18.77s/it]"
     ]
    },
    {
     "name": "stdout",
     "output_type": "stream",
     "text": [
      "File Name: linhcuuhoadaily_7277822243248377089.mp4, File Size: 2.54 MB\n",
      "Total frames in video: 337\n",
      "Frame indices to extract: [0, 67, 134, 202, 269]\n",
      "Extracted 5 frames.\n"
     ]
    },
    {
     "name": "stderr",
     "output_type": "stream",
     "text": [
      "\n",
      "Processing Frames:   0%|          | 0/5 [00:00<?, ?it/s]\u001b[A\n",
      "Processing Frames:  20%|██        | 1/5 [00:03<00:15,  3.77s/it]\u001b[A\n",
      "Processing Frames:  40%|████      | 2/5 [00:07<00:10,  3.57s/it]\u001b[A\n",
      "Processing Frames:  60%|██████    | 3/5 [00:10<00:06,  3.40s/it]\u001b[A\n",
      "Processing Frames:  80%|████████  | 4/5 [00:15<00:03,  3.99s/it]\u001b[A\n",
      "Processing Frames: 100%|██████████| 5/5 [00:18<00:00,  3.77s/it]\u001b[A\n",
      "Processing Videos:  97%|█████████▋| 676/698 [3:33:53<07:06, 19.40s/it]"
     ]
    },
    {
     "name": "stdout",
     "output_type": "stream",
     "text": [
      "File Name: vtthaoo_7376122520996547856.mp4, File Size: 16.90 MB\n",
      "Total frames in video: 1739\n",
      "Frame indices to extract: [0, 347, 695, 1043, 1391]\n",
      "Extracted 5 frames.\n"
     ]
    },
    {
     "name": "stderr",
     "output_type": "stream",
     "text": [
      "\n",
      "Processing Frames:   0%|          | 0/5 [00:00<?, ?it/s]\u001b[A\n",
      "Processing Frames:  20%|██        | 1/5 [00:05<00:22,  5.68s/it]\u001b[A\n",
      "Processing Frames:  40%|████      | 2/5 [00:09<00:13,  4.38s/it]\u001b[A\n",
      "Processing Frames:  60%|██████    | 3/5 [00:13<00:08,  4.15s/it]\u001b[A\n",
      "Processing Frames:  80%|████████  | 4/5 [00:16<00:04,  4.01s/it]\u001b[A\n",
      "Processing Frames: 100%|██████████| 5/5 [00:20<00:00,  4.04s/it]\u001b[A\n",
      "Processing Videos:  97%|█████████▋| 677/698 [3:34:15<07:05, 20.25s/it]"
     ]
    },
    {
     "name": "stdout",
     "output_type": "stream",
     "text": [
      "File Name: mocuabatoctv_7018500416442731803.mp4, File Size: 5.62 MB\n",
      "Total frames in video: 986\n",
      "Frame indices to extract: [0, 197, 394, 591, 788]\n",
      "Extracted 5 frames.\n"
     ]
    },
    {
     "name": "stderr",
     "output_type": "stream",
     "text": [
      "\n",
      "Processing Frames:   0%|          | 0/5 [00:00<?, ?it/s]\u001b[A\n",
      "Processing Frames:  20%|██        | 1/5 [00:03<00:13,  3.46s/it]\u001b[A\n",
      "Processing Frames:  40%|████      | 2/5 [00:06<00:08,  2.99s/it]\u001b[A\n",
      "Processing Frames:  60%|██████    | 3/5 [00:09<00:06,  3.17s/it]\u001b[A\n",
      "Processing Frames:  80%|████████  | 4/5 [00:13<00:03,  3.62s/it]\u001b[A\n",
      "Processing Frames: 100%|██████████| 5/5 [00:17<00:00,  3.40s/it]\u001b[A\n",
      "Processing Videos:  97%|█████████▋| 678/698 [3:34:34<06:37, 19.88s/it]"
     ]
    },
    {
     "name": "stdout",
     "output_type": "stream",
     "text": [
      "File Name: uyeenek_7207656824651238682.mp4, File Size: 8.11 MB\n",
      "Total frames in video: 1918\n",
      "Frame indices to extract: [0, 383, 767, 1150, 1534]\n",
      "Extracted 5 frames.\n"
     ]
    },
    {
     "name": "stderr",
     "output_type": "stream",
     "text": [
      "\n",
      "Processing Frames:   0%|          | 0/5 [00:00<?, ?it/s]\u001b[A\n",
      "Processing Frames:  20%|██        | 1/5 [00:03<00:14,  3.57s/it]\u001b[A\n",
      "Processing Frames:  40%|████      | 2/5 [00:07<00:10,  3.55s/it]\u001b[A\n",
      "Processing Frames:  60%|██████    | 3/5 [00:10<00:06,  3.31s/it]\u001b[A\n",
      "Processing Frames:  80%|████████  | 4/5 [00:13<00:03,  3.15s/it]\u001b[A\n",
      "Processing Frames: 100%|██████████| 5/5 [00:16<00:00,  3.21s/it]\u001b[A\n",
      "Processing Videos:  97%|█████████▋| 679/698 [3:34:52<06:07, 19.35s/it]"
     ]
    },
    {
     "name": "stdout",
     "output_type": "stream",
     "text": [
      "File Name: le_anh_nuoi_7290528020903808258.mp4, File Size: 16.62 MB\n",
      "Total frames in video: 2089\n",
      "Frame indices to extract: [0, 417, 835, 1253, 1671]\n",
      "Extracted 5 frames.\n"
     ]
    },
    {
     "name": "stderr",
     "output_type": "stream",
     "text": [
      "\n",
      "Processing Frames:   0%|          | 0/5 [00:00<?, ?it/s]\u001b[A\n",
      "Processing Frames:  20%|██        | 1/5 [00:03<00:14,  3.60s/it]\u001b[A\n",
      "Processing Frames:  40%|████      | 2/5 [00:06<00:09,  3.28s/it]\u001b[A\n",
      "Processing Frames:  60%|██████    | 3/5 [00:09<00:06,  3.24s/it]\u001b[A\n",
      "Processing Frames:  80%|████████  | 4/5 [00:13<00:03,  3.33s/it]\u001b[A\n",
      "Processing Frames: 100%|██████████| 5/5 [00:17<00:00,  3.43s/it]\u001b[A\n",
      "Processing Videos:  97%|█████████▋| 680/698 [3:35:12<05:49, 19.43s/it]"
     ]
    },
    {
     "name": "stdout",
     "output_type": "stream",
     "text": [
      "File Name: cu_porter_7158695978697002266.mp4, File Size: 17.16 MB\n",
      "Total frames in video: 2734\n",
      "Frame indices to extract: [0, 546, 1093, 1640, 2187]\n",
      "Extracted 5 frames.\n"
     ]
    },
    {
     "name": "stderr",
     "output_type": "stream",
     "text": [
      "\n",
      "Processing Frames:   0%|          | 0/5 [00:00<?, ?it/s]\u001b[A\n",
      "Processing Frames:  20%|██        | 1/5 [00:02<00:09,  2.50s/it]\u001b[A\n",
      "Processing Frames:  40%|████      | 2/5 [00:05<00:09,  3.05s/it]\u001b[A\n",
      "Processing Frames:  60%|██████    | 3/5 [00:09<00:06,  3.46s/it]\u001b[A\n",
      "Processing Frames:  80%|████████  | 4/5 [00:13<00:03,  3.57s/it]\u001b[A\n",
      "Processing Frames: 100%|██████████| 5/5 [00:17<00:00,  3.52s/it]\u001b[A\n",
      "Processing Videos:  98%|█████████▊| 681/698 [3:35:31<05:30, 19.47s/it]"
     ]
    },
    {
     "name": "stdout",
     "output_type": "stream",
     "text": [
      "File Name: vungtau.72_7098219452864400667.mp4, File Size: 4.55 MB\n",
      "Total frames in video: 450\n",
      "Frame indices to extract: [0, 90, 180, 270, 360]\n",
      "Extracted 5 frames.\n"
     ]
    },
    {
     "name": "stderr",
     "output_type": "stream",
     "text": [
      "\n",
      "Processing Frames:   0%|          | 0/5 [00:00<?, ?it/s]\u001b[A\n",
      "Processing Frames:  20%|██        | 1/5 [00:02<00:11,  2.88s/it]\u001b[A\n",
      "Processing Frames:  40%|████      | 2/5 [00:06<00:09,  3.11s/it]\u001b[A\n",
      "Processing Frames:  60%|██████    | 3/5 [00:10<00:06,  3.46s/it]\u001b[A\n",
      "Processing Frames:  80%|████████  | 4/5 [00:13<00:03,  3.28s/it]\u001b[A\n",
      "Processing Frames: 100%|██████████| 5/5 [00:16<00:00,  3.22s/it]\u001b[A\n",
      "Processing Videos:  98%|█████████▊| 682/698 [3:35:49<05:04, 19.04s/it]"
     ]
    },
    {
     "name": "stdout",
     "output_type": "stream",
     "text": [
      "File Name: maphayke_7329101109304364306.mp4, File Size: 13.86 MB\n",
      "Total frames in video: 1762\n",
      "Frame indices to extract: [0, 352, 704, 1057, 1409]\n",
      "Extracted 5 frames.\n"
     ]
    },
    {
     "name": "stderr",
     "output_type": "stream",
     "text": [
      "\n",
      "Processing Frames:   0%|          | 0/5 [00:00<?, ?it/s]\u001b[A\n",
      "Processing Frames:  20%|██        | 1/5 [00:03<00:12,  3.05s/it]\u001b[A\n",
      "Processing Frames:  40%|████      | 2/5 [00:06<00:09,  3.33s/it]\u001b[A\n",
      "Processing Frames:  60%|██████    | 3/5 [00:09<00:06,  3.20s/it]\u001b[A\n",
      "Processing Frames:  80%|████████  | 4/5 [00:12<00:03,  3.21s/it]\u001b[A\n",
      "Processing Frames: 100%|██████████| 5/5 [00:16<00:00,  3.21s/it]\u001b[A\n",
      "Processing Videos:  98%|█████████▊| 683/698 [3:36:07<04:40, 18.73s/it]"
     ]
    },
    {
     "name": "stdout",
     "output_type": "stream",
     "text": [
      "File Name: funnyhighway_7217421208449551618.mp4, File Size: 7.54 MB\n",
      "Total frames in video: 1788\n",
      "Frame indices to extract: [0, 357, 715, 1072, 1430]\n",
      "Extracted 5 frames.\n"
     ]
    },
    {
     "name": "stderr",
     "output_type": "stream",
     "text": [
      "\n",
      "Processing Frames:   0%|          | 0/5 [00:00<?, ?it/s]\u001b[A\n",
      "Processing Frames:  20%|██        | 1/5 [00:03<00:15,  3.98s/it]\u001b[A\n",
      "Processing Frames:  40%|████      | 2/5 [00:07<00:11,  3.92s/it]\u001b[A\n",
      "Processing Frames:  60%|██████    | 3/5 [00:11<00:07,  3.70s/it]\u001b[A\n",
      "Processing Frames:  80%|████████  | 4/5 [00:14<00:03,  3.44s/it]\u001b[A\n",
      "Processing Frames: 100%|██████████| 5/5 [00:17<00:00,  3.51s/it]\u001b[A\n",
      "Processing Videos:  98%|█████████▊| 684/698 [3:36:27<04:25, 18.94s/it]"
     ]
    },
    {
     "name": "stdout",
     "output_type": "stream",
     "text": [
      "File Name: herby.bby_6863778387714952450.mp4, File Size: 24.80 MB\n",
      "Total frames in video: 3789\n",
      "Frame indices to extract: [0, 757, 1515, 2273, 3031]\n",
      "Extracted 5 frames.\n"
     ]
    },
    {
     "name": "stderr",
     "output_type": "stream",
     "text": [
      "\n",
      "Processing Frames:   0%|          | 0/5 [00:00<?, ?it/s]\u001b[A\n",
      "Processing Frames:  20%|██        | 1/5 [00:03<00:13,  3.26s/it]\u001b[A\n",
      "Processing Frames:  40%|████      | 2/5 [00:06<00:09,  3.10s/it]\u001b[A\n",
      "Processing Frames:  60%|██████    | 3/5 [00:10<00:06,  3.49s/it]\u001b[A\n",
      "Processing Frames:  80%|████████  | 4/5 [00:15<00:04,  4.03s/it]\u001b[A\n",
      "Processing Frames: 100%|██████████| 5/5 [00:18<00:00,  3.65s/it]\u001b[A\n",
      "Processing Videos:  98%|█████████▊| 685/698 [3:36:47<04:10, 19.25s/it]"
     ]
    },
    {
     "name": "stdout",
     "output_type": "stream",
     "text": [
      "File Name: le_anh_nuoi_7279050112347671810.mp4, File Size: 22.21 MB\n",
      "Total frames in video: 2538\n",
      "Frame indices to extract: [0, 507, 1015, 1522, 2030]\n",
      "Extracted 5 frames.\n"
     ]
    },
    {
     "name": "stderr",
     "output_type": "stream",
     "text": [
      "\n",
      "Processing Frames:   0%|          | 0/5 [00:00<?, ?it/s]\u001b[A\n",
      "Processing Frames:  20%|██        | 1/5 [00:03<00:14,  3.63s/it]\u001b[A\n",
      "Processing Frames:  40%|████      | 2/5 [00:07<00:11,  3.71s/it]\u001b[A\n",
      "Processing Frames:  60%|██████    | 3/5 [00:10<00:06,  3.41s/it]\u001b[A\n",
      "Processing Frames:  80%|████████  | 4/5 [00:13<00:03,  3.27s/it]\u001b[A\n",
      "Processing Frames: 100%|██████████| 5/5 [00:16<00:00,  3.31s/it]\u001b[A\n",
      "Processing Videos:  98%|█████████▊| 686/698 [3:37:05<03:47, 18.98s/it]"
     ]
    },
    {
     "name": "stdout",
     "output_type": "stream",
     "text": [
      "File Name: caominhtienofficial_7300794226172857601.mp4, File Size: 19.48 MB\n",
      "Total frames in video: 2232\n",
      "Frame indices to extract: [0, 446, 892, 1339, 1785]\n",
      "Extracted 5 frames.\n"
     ]
    },
    {
     "name": "stderr",
     "output_type": "stream",
     "text": [
      "\n",
      "Processing Frames:   0%|          | 0/5 [00:00<?, ?it/s]\u001b[A\n",
      "Processing Frames:  20%|██        | 1/5 [00:03<00:12,  3.08s/it]\u001b[A\n",
      "Processing Frames:  40%|████      | 2/5 [00:05<00:08,  2.83s/it]\u001b[A\n",
      "Processing Frames:  60%|██████    | 3/5 [00:09<00:06,  3.08s/it]\u001b[A\n",
      "Processing Frames:  80%|████████  | 4/5 [00:13<00:03,  3.51s/it]\u001b[A\n",
      "Processing Frames: 100%|██████████| 5/5 [00:16<00:00,  3.34s/it]\u001b[A\n",
      "Processing Videos:  98%|█████████▊| 687/698 [3:37:23<03:27, 18.86s/it]"
     ]
    },
    {
     "name": "stdout",
     "output_type": "stream",
     "text": [
      "File Name: dnshisuja_7275975524873243905.mp4, File Size: 11.51 MB\n",
      "Total frames in video: 1953\n",
      "Frame indices to extract: [0, 390, 781, 1171, 1562]\n",
      "Extracted 5 frames.\n"
     ]
    },
    {
     "name": "stderr",
     "output_type": "stream",
     "text": [
      "\n",
      "Processing Frames:   0%|          | 0/5 [00:00<?, ?it/s]\u001b[A\n",
      "Processing Frames:  20%|██        | 1/5 [00:03<00:13,  3.30s/it]\u001b[A\n",
      "Processing Frames:  40%|████      | 2/5 [00:06<00:09,  3.14s/it]\u001b[A\n",
      "Processing Frames:  60%|██████    | 3/5 [00:10<00:06,  3.43s/it]\u001b[A\n",
      "Processing Frames:  80%|████████  | 4/5 [00:13<00:03,  3.44s/it]\u001b[A\n",
      "Processing Frames: 100%|██████████| 5/5 [00:16<00:00,  3.31s/it]\u001b[A\n",
      "Processing Videos:  99%|█████████▊| 688/698 [3:37:42<03:07, 18.71s/it]"
     ]
    },
    {
     "name": "stdout",
     "output_type": "stream",
     "text": [
      "File Name: bombom_vlog_7374021806572735751.mp4, File Size: 99.23 MB\n",
      "Total frames in video: 21086\n",
      "Frame indices to extract: [0, 4217, 8434, 12651, 16868]\n",
      "Extracted 5 frames.\n"
     ]
    },
    {
     "name": "stderr",
     "output_type": "stream",
     "text": [
      "\n",
      "Processing Frames:   0%|          | 0/5 [00:00<?, ?it/s]\u001b[A\n",
      "Processing Frames:  20%|██        | 1/5 [00:03<00:12,  3.25s/it]\u001b[A\n",
      "Processing Frames:  40%|████      | 2/5 [00:07<00:11,  3.86s/it]\u001b[A\n",
      "Processing Frames:  60%|██████    | 3/5 [00:11<00:07,  3.73s/it]\u001b[A\n",
      "Processing Frames:  80%|████████  | 4/5 [00:14<00:03,  3.54s/it]\u001b[A\n",
      "Processing Frames: 100%|██████████| 5/5 [00:17<00:00,  3.47s/it]\u001b[A\n",
      "Processing Videos:  99%|█████████▊| 689/698 [3:38:01<02:50, 19.00s/it]"
     ]
    },
    {
     "name": "stdout",
     "output_type": "stream",
     "text": [
      "File Name: kito_0708_7210801960507772186.mp4, File Size: 2.31 MB\n",
      "Total frames in video: 1376\n",
      "Frame indices to extract: [0, 275, 550, 825, 1100]\n",
      "Extracted 5 frames.\n"
     ]
    },
    {
     "name": "stderr",
     "output_type": "stream",
     "text": [
      "\n",
      "Processing Frames:   0%|          | 0/5 [00:00<?, ?it/s]\u001b[A\n",
      "Processing Frames:  20%|██        | 1/5 [00:03<00:12,  3.05s/it]\u001b[A\n",
      "Processing Frames:  40%|████      | 2/5 [00:06<00:09,  3.07s/it]\u001b[A\n",
      "Processing Frames:  60%|██████    | 3/5 [00:09<00:06,  3.06s/it]\u001b[A\n",
      "Processing Frames:  80%|████████  | 4/5 [00:12<00:03,  3.05s/it]\u001b[A\n",
      "Processing Frames: 100%|██████████| 5/5 [00:15<00:00,  3.05s/it]\u001b[A\n",
      "Processing Videos:  99%|█████████▉| 690/698 [3:38:18<02:26, 18.33s/it]"
     ]
    },
    {
     "name": "stdout",
     "output_type": "stream",
     "text": [
      "File Name: pianobyghi_7291884257297976578.mp4, File Size: 5.30 MB\n",
      "Total frames in video: 2841\n",
      "Frame indices to extract: [0, 568, 1136, 1704, 2272]\n",
      "Extracted 5 frames.\n"
     ]
    },
    {
     "name": "stderr",
     "output_type": "stream",
     "text": [
      "\n",
      "Processing Frames:   0%|          | 0/5 [00:00<?, ?it/s]\u001b[A\n",
      "Processing Frames:  20%|██        | 1/5 [00:03<00:14,  3.59s/it]\u001b[A\n",
      "Processing Frames:  40%|████      | 2/5 [00:07<00:11,  3.89s/it]\u001b[A\n",
      "Processing Frames:  60%|██████    | 3/5 [00:10<00:07,  3.52s/it]\u001b[A\n",
      "Processing Frames:  80%|████████  | 4/5 [00:14<00:03,  3.47s/it]\u001b[A\n",
      "Processing Frames: 100%|██████████| 5/5 [00:17<00:00,  3.51s/it]\u001b[A\n",
      "Processing Videos:  99%|█████████▉| 691/698 [3:38:38<02:10, 18.60s/it]"
     ]
    },
    {
     "name": "stdout",
     "output_type": "stream",
     "text": [
      "File Name: sheri_wilson__7296583278021332270.mp4, File Size: 2.97 MB\n",
      "Total frames in video: 464\n",
      "Frame indices to extract: [0, 92, 185, 278, 371]\n",
      "Extracted 5 frames.\n"
     ]
    },
    {
     "name": "stderr",
     "output_type": "stream",
     "text": [
      "\n",
      "Processing Frames:   0%|          | 0/5 [00:00<?, ?it/s]\u001b[A\n",
      "Processing Frames:  20%|██        | 1/5 [00:03<00:15,  3.81s/it]\u001b[A\n",
      "Processing Frames:  40%|████      | 2/5 [00:06<00:10,  3.35s/it]\u001b[A\n",
      "Processing Frames:  60%|██████    | 3/5 [00:10<00:07,  3.55s/it]\u001b[A\n",
      "Processing Frames:  80%|████████  | 4/5 [00:13<00:03,  3.27s/it]\u001b[A\n",
      "Processing Frames: 100%|██████████| 5/5 [00:17<00:00,  3.44s/it]\u001b[A\n",
      "Processing Videos:  99%|█████████▉| 692/698 [3:38:56<01:52, 18.68s/it]"
     ]
    },
    {
     "name": "stdout",
     "output_type": "stream",
     "text": [
      "File Name: maingoc.onhalachill_7240439248002796805.mp4, File Size: 18.02 MB\n",
      "Total frames in video: 4977\n",
      "Frame indices to extract: [0, 995, 1990, 2986, 3981]\n",
      "Extracted 5 frames.\n"
     ]
    },
    {
     "name": "stderr",
     "output_type": "stream",
     "text": [
      "\n",
      "Processing Frames:   0%|          | 0/5 [00:00<?, ?it/s]\u001b[A\n",
      "Processing Frames:  20%|██        | 1/5 [00:03<00:14,  3.66s/it]\u001b[A\n",
      "Processing Frames:  40%|████      | 2/5 [00:07<00:11,  3.71s/it]\u001b[A\n",
      "Processing Frames:  60%|██████    | 3/5 [00:10<00:06,  3.42s/it]\u001b[A\n",
      "Processing Frames:  80%|████████  | 4/5 [00:13<00:03,  3.26s/it]\u001b[A\n",
      "Processing Frames: 100%|██████████| 5/5 [00:17<00:00,  3.52s/it]\u001b[A\n",
      "Processing Videos:  99%|█████████▉| 693/698 [3:39:16<01:34, 18.91s/it]"
     ]
    },
    {
     "name": "stdout",
     "output_type": "stream",
     "text": [
      "File Name: maphayke_7324633055975509266.mp4, File Size: 13.93 MB\n",
      "Total frames in video: 2097\n",
      "Frame indices to extract: [0, 419, 838, 1258, 1677]\n",
      "Extracted 5 frames.\n"
     ]
    },
    {
     "name": "stderr",
     "output_type": "stream",
     "text": [
      "\n",
      "Processing Frames:   0%|          | 0/5 [00:00<?, ?it/s]\u001b[A\n",
      "Processing Frames:  20%|██        | 1/5 [00:03<00:13,  3.30s/it]\u001b[A\n",
      "Processing Frames:  40%|████      | 2/5 [00:06<00:09,  3.25s/it]\u001b[A\n",
      "Processing Frames:  60%|██████    | 3/5 [00:10<00:07,  3.74s/it]\u001b[A\n",
      "Processing Frames:  80%|████████  | 4/5 [00:14<00:03,  3.67s/it]\u001b[A\n",
      "Processing Frames: 100%|██████████| 5/5 [00:18<00:00,  3.64s/it]\u001b[A\n",
      "Processing Videos:  99%|█████████▉| 694/698 [3:39:36<01:17, 19.39s/it]"
     ]
    },
    {
     "name": "stdout",
     "output_type": "stream",
     "text": [
      "File Name: itsahollyjollychristmas__7277774282694872338.mp4, File Size: 1.92 MB\n",
      "Total frames in video: 298\n",
      "Frame indices to extract: [0, 59, 119, 178, 238]\n",
      "Extracted 5 frames.\n"
     ]
    },
    {
     "name": "stderr",
     "output_type": "stream",
     "text": [
      "\n",
      "Processing Frames:   0%|          | 0/5 [00:00<?, ?it/s]\u001b[A\n",
      "Processing Frames:  20%|██        | 1/5 [00:03<00:13,  3.29s/it]\u001b[A\n",
      "Processing Frames:  40%|████      | 2/5 [00:06<00:09,  3.13s/it]\u001b[A\n",
      "Processing Frames:  60%|██████    | 3/5 [00:09<00:06,  3.25s/it]\u001b[A\n",
      "Processing Frames:  80%|████████  | 4/5 [00:12<00:03,  3.25s/it]\u001b[A\n",
      "Processing Frames: 100%|██████████| 5/5 [00:16<00:00,  3.27s/it]\u001b[A\n",
      "Processing Videos: 100%|█████████▉| 695/698 [3:39:54<00:56, 18.99s/it]"
     ]
    },
    {
     "name": "stdout",
     "output_type": "stream",
     "text": [
      "File Name: dulichtinhbariavungtau_7249215103206264069.mp4, File Size: 15.19 MB\n",
      "Total frames in video: 2121\n",
      "Frame indices to extract: [0, 424, 848, 1272, 1696]\n",
      "Extracted 5 frames.\n"
     ]
    },
    {
     "name": "stderr",
     "output_type": "stream",
     "text": [
      "\n",
      "Processing Frames:   0%|          | 0/5 [00:00<?, ?it/s]\u001b[A\n",
      "Processing Frames:  20%|██        | 1/5 [00:03<00:12,  3.12s/it]\u001b[A\n",
      "Processing Frames:  40%|████      | 2/5 [00:07<00:10,  3.60s/it]\u001b[A\n",
      "Processing Frames:  60%|██████    | 3/5 [00:10<00:06,  3.42s/it]\u001b[A\n",
      "Processing Frames:  80%|████████  | 4/5 [00:13<00:03,  3.44s/it]\u001b[A\n",
      "Processing Frames: 100%|██████████| 5/5 [00:17<00:00,  3.42s/it]\u001b[A\n",
      "Processing Videos: 100%|█████████▉| 696/698 [3:40:14<00:38, 19.04s/it]"
     ]
    },
    {
     "name": "stdout",
     "output_type": "stream",
     "text": [
      "File Name: maythangtuw_7229686566879300869.mp4, File Size: 5.94 MB\n",
      "Total frames in video: 1050\n",
      "Frame indices to extract: [0, 210, 420, 630, 840]\n",
      "Extracted 5 frames.\n"
     ]
    },
    {
     "name": "stderr",
     "output_type": "stream",
     "text": [
      "\n",
      "Processing Frames:   0%|          | 0/5 [00:00<?, ?it/s]\u001b[A\n",
      "Processing Frames:  20%|██        | 1/5 [00:03<00:12,  3.07s/it]\u001b[A\n",
      "Processing Frames:  40%|████      | 2/5 [00:06<00:10,  3.37s/it]\u001b[A\n",
      "Processing Frames:  60%|██████    | 3/5 [00:10<00:06,  3.46s/it]\u001b[A\n",
      "Processing Frames:  80%|████████  | 4/5 [00:13<00:03,  3.31s/it]\u001b[A\n",
      "Processing Frames: 100%|██████████| 5/5 [00:16<00:00,  3.30s/it]\u001b[A\n",
      "Processing Videos: 100%|█████████▉| 697/698 [3:40:32<00:18, 18.81s/it]"
     ]
    },
    {
     "name": "stdout",
     "output_type": "stream",
     "text": [
      "File Name: dicungtuito_7273869341215460615.mp4, File Size: 9.28 MB\n",
      "Total frames in video: 1837\n",
      "Frame indices to extract: [0, 367, 734, 1102, 1469]\n",
      "Extracted 5 frames.\n"
     ]
    },
    {
     "name": "stderr",
     "output_type": "stream",
     "text": [
      "\n",
      "Processing Frames:   0%|          | 0/5 [00:00<?, ?it/s]\u001b[A\n",
      "Processing Frames:  20%|██        | 1/5 [00:03<00:14,  3.70s/it]\u001b[A\n",
      "Processing Frames:  40%|████      | 2/5 [00:06<00:10,  3.34s/it]\u001b[A\n",
      "Processing Frames:  60%|██████    | 3/5 [00:09<00:06,  3.27s/it]\u001b[A\n",
      "Processing Frames:  80%|████████  | 4/5 [00:13<00:03,  3.39s/it]\u001b[A\n",
      "Processing Frames: 100%|██████████| 5/5 [00:16<00:00,  3.39s/it]\u001b[A\n",
      "Processing Videos: 100%|██████████| 698/698 [3:40:51<00:00, 18.98s/it]\n"
     ]
    }
   ],
   "source": [
    "#this is the oneeee\n",
    "import cv2\n",
    "import os\n",
    "import pandas as pd\n",
    "import speech_recognition as sr\n",
    "from pydub import AudioSegment\n",
    "from transformers import BlipProcessor, BlipForConditionalGeneration\n",
    "from PIL import Image\n",
    "from tqdm import tqdm\n",
    "import subprocess  # Add this import to handle the ffmpeg command\n",
    "\n",
    "def extract_frames(video_path, num_frames=5):\n",
    "    cap = cv2.VideoCapture(video_path)\n",
    "    if not cap.isOpened():\n",
    "        print(f\"Error: Unable to open video file at {video_path}\")\n",
    "        return []\n",
    "    \n",
    "    total_frames = int(cap.get(cv2.CAP_PROP_FRAME_COUNT))\n",
    "    print(f\"Total frames in video: {total_frames}\")\n",
    "    \n",
    "    if total_frames < num_frames:\n",
    "        print(f\"Warning: Video has fewer frames than the requested {num_frames}.\")\n",
    "        num_frames = total_frames\n",
    "    \n",
    "    frame_indices = [int(i * total_frames / num_frames) for i in range(num_frames)]\n",
    "    print(f\"Frame indices to extract: {frame_indices}\")\n",
    "\n",
    "    frames = []\n",
    "    for idx in frame_indices:\n",
    "        cap.set(cv2.CAP_PROP_POS_FRAMES, idx)\n",
    "        ret, frame = cap.read()\n",
    "        if not ret:\n",
    "            print(f\"Failed to read frame at index {idx}\")\n",
    "            break\n",
    "        frames.append(cv2.cvtColor(frame, cv2.COLOR_BGR2RGB))\n",
    "    \n",
    "    cap.release()\n",
    "    print(f\"Extracted {len(frames)} frames.\")\n",
    "    return frames\n",
    "\n",
    "\n",
    "# Function to generate video captions from frames\n",
    "def generate_video_caption(video_path):\n",
    "    processor = BlipProcessor.from_pretrained(\"Salesforce/blip-image-captioning-base\")\n",
    "    model = BlipForConditionalGeneration.from_pretrained(\"Salesforce/blip-image-captioning-base\")\n",
    "    \n",
    "    frames = extract_frames(video_path, num_frames=5)\n",
    "    \n",
    "    if not frames:\n",
    "        return \"\"  # No frames to process if extraction failed\n",
    "    \n",
    "    captions = []\n",
    "    \n",
    "    for frame in tqdm(frames, desc=\"Processing Frames\"):\n",
    "        print(f\"Processing frame with shape: {frame.shape}\")  # Check the shape of the frame\n",
    "        if frame is None:\n",
    "            print(\"Frame is None, skipping.\")\n",
    "            continue\n",
    "        image = Image.fromarray(frame)\n",
    "        inputs = processor(images=image, return_tensors=\"pt\")\n",
    "        out = model.generate(**inputs)\n",
    "        caption = processor.decode(out[0], skip_special_tokens=True)\n",
    "        captions.append(caption)\n",
    "\n",
    "    \n",
    "    return \" \".join(captions)  # Concatenate all captions into one string\n",
    "\n",
    "# # Function to extract audio and convert to text using speech recognition\n",
    "# def extract_audio_text(video_path):\n",
    "#     audio_path = \"temp_audio.wav\"  # The path where audio will be saved\n",
    "    \n",
    "#     # Remove the existing audio file if it exists to ensure it will be overwritten\n",
    "#     if os.path.exists(audio_path):\n",
    "#         os.remove(audio_path)\n",
    "#         print(f\"Removed existing audio file: {audio_path}\")\n",
    "    \n",
    "#     # Use ffmpeg to extract audio\n",
    "#     ffmpeg_command = f\"ffmpeg -i {video_path} -vn -acodec pcm_s16le -ar 44100 -ac 2 {audio_path}\"\n",
    "#     print(f\"Running command: {ffmpeg_command}\")\n",
    "    \n",
    "#     try:\n",
    "#         # Run the ffmpeg command to extract audio\n",
    "#         subprocess.run(ffmpeg_command, shell=True, check=True)\n",
    "#     except subprocess.CalledProcessError as e:\n",
    "#         print(f\"Error in ffmpeg command: {e}\")\n",
    "#         return \"Audio extraction failed\"\n",
    "    \n",
    "#     # Check if the audio file was created successfully\n",
    "#     if not os.path.exists(audio_path):\n",
    "#         print(f\"Error: {audio_path} not created.\")\n",
    "#         return \"Audio extraction failed\"\n",
    "    \n",
    "#     # Check if the audio file is empty\n",
    "#     if os.path.getsize(audio_path) == 0:\n",
    "#         print(f\"Error: {audio_path} is empty.\")\n",
    "#         return \"Audio extraction failed\"\n",
    "    \n",
    "#     # Use speech recognition to transcribe the audio\n",
    "#     recognizer = sr.Recognizer()\n",
    "#     with sr.AudioFile(audio_path) as source:\n",
    "#         audio = recognizer.record(source)  # Read the entire audio file\n",
    "#         try:\n",
    "#             print(\"Transcribing audio...\")\n",
    "#             transcript = recognizer.recognize_google(audio)\n",
    "#             os.remove(audio_path)  # Delete the temp audio file after processing\n",
    "#             return transcript\n",
    "#         except sr.UnknownValueError:\n",
    "#             print(\"Speech Recognition could not understand the audio.\")\n",
    "#             return \"Audio could not be transcribed\"\n",
    "#         except sr.RequestError as e:\n",
    "#             print(f\"Could not request results from Google Speech Recognition service; {e}\")\n",
    "#             return f\"Could not request results from Google Speech Recognition service; {e}\"\n",
    "\n",
    "# Main function to process a video and save captions/audio transcript to CSV\n",
    "def process_video(video_path, output_csv=\"video_captions6.csv\"):\n",
    "    caption = generate_video_caption(video_path)\n",
    "    # audio_transcript = extract_audio_text(video_path)\n",
    "    \n",
    "    data = {\n",
    "        \"video_name\": os.path.basename(video_path),\n",
    "        \"caption\": caption,\n",
    "        # \"audio_transcript\": audio_transcript\n",
    "    }\n",
    "\n",
    "    df = pd.DataFrame([data])\n",
    "    \n",
    "    # Append to CSV file\n",
    "    df.to_csv(output_csv, mode='a', header=not os.path.exists(output_csv), index=False)\n",
    "\n",
    "# Function to process all videos in a folder\n",
    "def process_videos_in_folder(folder_path, output_csv=\"video_captions6.csv\"):\n",
    "    video_files = [f for f in os.listdir(folder_path) if f.endswith(('.mp4', '.avi', '.mov'))]\n",
    "    \n",
    "    for video_file in tqdm(video_files, desc=\"Processing Videos\"):\n",
    "        video_path = os.path.join(folder_path, video_file)\n",
    "        # Get file size in bytes and convert to megabytes\n",
    "        file_size_mb = os.path.getsize(video_path) / (1024 * 1024)\n",
    "        \n",
    "        # Print file name and file size\n",
    "        print(f\"File Name: {video_file}, File Size: {file_size_mb:.2f} MB\")\n",
    "        if video_path == \"/kaggle/input/tikharm-dataset/Dataset/train/Safe/gocnhaclive_7127954090977398018.mp4\":\n",
    "            continue\n",
    "        process_video(video_path, output_csv)\n",
    "\n",
    "# Example usage\n",
    "folder_path = \"/kaggle/input/tikharm-dataset/Dataset/train/Safe/\"  # Replace with the folder containing your video files\n",
    "process_videos_in_folder(folder_path)  # This will process all videos in the folder and save captions and audio transcripts to CSV\n"
   ]
  },
  {
   "cell_type": "code",
   "execution_count": null,
   "metadata": {
    "trusted": true
   },
   "outputs": [],
   "source": [
    "import cv2\n",
    "import os\n",
    "import pandas as pd\n",
    "from transformers import BlipProcessor, BlipForConditionalGeneration\n",
    "from PIL import Image\n",
    "from tqdm import tqdm\n",
    "import subprocess\n",
    "import logging\n",
    "\n",
    "# Setup logging for debugging\n",
    "logging.basicConfig(level=logging.INFO, format=\"%(asctime)s [%(levelname)s] %(message)s\")\n",
    "\n",
    "# Function to extract exactly 5 frames from the video\n",
    "def extract_frames(video_path, num_frames=5):\n",
    "    cap = cv2.VideoCapture(video_path)\n",
    "    frames = []\n",
    "\n",
    "    # Check if video was loaded correctly\n",
    "    if not cap.isOpened():\n",
    "        logging.error(f\"Error: Unable to open video file at {video_path}\")\n",
    "        return frames\n",
    "\n",
    "    # Get total number of frames in the video\n",
    "    total_frames = int(cap.get(cv2.CAP_PROP_FRAME_COUNT))\n",
    "    if total_frames < num_frames:\n",
    "        logging.warning(f\"Video has fewer frames ({total_frames}) than requested ({num_frames}). Extracting all available frames.\")\n",
    "        num_frames = total_frames\n",
    "\n",
    "    # Calculate frame indices\n",
    "    frame_indices = [int(i * total_frames / num_frames) for i in range(num_frames)]\n",
    "\n",
    "    for idx in frame_indices:\n",
    "        cap.set(cv2.CAP_PROP_POS_FRAMES, idx)\n",
    "        ret, frame = cap.read()\n",
    "        if not ret:\n",
    "            logging.error(f\"Error: Could not read frame {idx} from {video_path}\")\n",
    "            continue\n",
    "\n",
    "        # Convert frame to RGB\n",
    "        frame_rgb = cv2.cvtColor(frame, cv2.COLOR_BGR2RGB)\n",
    "        frames.append(frame_rgb)\n",
    "\n",
    "        # Safety pause to prevent infinite hangs\n",
    "        cv2.waitKey(1)\n",
    "\n",
    "    cap.release()\n",
    "    logging.info(f\"Extracted {len(frames)} frames from {video_path}\")\n",
    "    return frames\n",
    "\n",
    "# Function to generate video captions\n",
    "def generate_video_caption(video_path):\n",
    "    processor = BlipProcessor.from_pretrained(\"Salesforce/blip-image-captioning-base\")\n",
    "    model = BlipForConditionalGeneration.from_pretrained(\"Salesforce/blip-image-captioning-base\")\n",
    "    \n",
    "    frames = extract_frames(video_path, num_frames=5)\n",
    "    if not frames:\n",
    "        return \"\"  # Return empty if no frames were extracted\n",
    "    \n",
    "    captions = []\n",
    "    for frame in tqdm(frames, desc=\"Processing Frames\"):\n",
    "        image = Image.fromarray(frame)\n",
    "        inputs = processor(images=image, return_tensors=\"pt\")\n",
    "        out = model.generate(**inputs)\n",
    "        caption = processor.decode(out[0], skip_special_tokens=True)\n",
    "        captions.append(caption)\n",
    "\n",
    "    return \" \".join(captions)\n",
    "\n",
    "# Main function to process video\n",
    "def process_video(video_path, output_csv=\"video_captions6.csv\"):\n",
    "    try:\n",
    "        logging.info(f\"Processing video: {video_path}\")\n",
    "        caption = generate_video_caption(video_path)\n",
    "        data = {\n",
    "            \"video_name\": os.path.basename(video_path),\n",
    "            \"caption\": caption,\n",
    "        }\n",
    "        df = pd.DataFrame([data])\n",
    "        df.to_csv(output_csv, mode='a', header=not os.path.exists(output_csv), index=False)\n",
    "    except Exception as e:\n",
    "        logging.error(f\"Error processing video {video_path}: {e}\")\n",
    "\n",
    "# Function to process all videos in a folder\n",
    "def process_videos_in_folder(folder_path, output_csv=\"video_captions6.csv\"):\n",
    "    video_files = [f for f in os.listdir(folder_path) if f.endswith(('.mp4', '.avi', '.mov'))]\n",
    "    for video_file in tqdm(video_files, desc=\"Processing Videos\"):\n",
    "        video_path = os.path.join(folder_path, video_file)\n",
    "        process_video(video_path, output_csv)\n",
    "\n",
    "# Example usage\n",
    "folder_path = \"/kaggle/input/tikharm-dataset/Dataset/train/Safe/\"  # Update this path\n",
    "process_videos_in_folder(folder_path)\n"
   ]
  },
  {
   "cell_type": "code",
   "execution_count": null,
   "metadata": {
    "trusted": true
   },
   "outputs": [],
   "source": [
    "import cv2\n",
    "\n",
    "def watch_video(video_path):\n",
    "    # Open the video file\n",
    "    cap = cv2.VideoCapture(video_path)\n",
    "    \n",
    "    if not cap.isOpened():\n",
    "        print(f\"Error: Cannot open video file {video_path}\")\n",
    "        return\n",
    "\n",
    "    while True:\n",
    "        ret, frame = cap.read()\n",
    "        if not ret:  # End of video\n",
    "            break\n",
    "        \n",
    "        cv2.imshow(\"Video\", frame)\n",
    "        \n",
    "        # Break on 'q' key press\n",
    "        if cv2.waitKey(25) & 0xFF == ord('q'):\n",
    "            break\n",
    "\n",
    "    cap.release()\n",
    "    cv2.destroyAllWindows()\n",
    "\n",
    "# Example usage\n",
    "watch_video(\"/kaggle/input/tikharm-dataset/Dataset/train/Safe/gocnhaclive_7127954090977398018.mp4\")  # Replace with your video path\n"
   ]
  },
  {
   "cell_type": "code",
   "execution_count": null,
   "metadata": {
    "trusted": true
   },
   "outputs": [],
   "source": []
  }
 ],
 "metadata": {
  "kaggle": {
   "accelerator": "none",
   "dataSources": [
    {
     "datasetId": 5303541,
     "sourceId": 8816398,
     "sourceType": "datasetVersion"
    }
   ],
   "dockerImageVersionId": 30786,
   "isGpuEnabled": false,
   "isInternetEnabled": true,
   "language": "python",
   "sourceType": "notebook"
  },
  "kernelspec": {
   "display_name": "Python 3",
   "language": "python",
   "name": "python3"
  },
  "language_info": {
   "codemirror_mode": {
    "name": "ipython",
    "version": 3
   },
   "file_extension": ".py",
   "mimetype": "text/x-python",
   "name": "python",
   "nbconvert_exporter": "python",
   "pygments_lexer": "ipython3",
   "version": "3.10.14"
  }
 },
 "nbformat": 4,
 "nbformat_minor": 4
}
